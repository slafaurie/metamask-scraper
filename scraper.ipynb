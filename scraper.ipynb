{
 "cells": [
  {
   "cell_type": "code",
   "execution_count": 1,
   "metadata": {},
   "outputs": [],
   "source": [
    "%load_ext autoreload\n",
    "%autoreload 2"
   ]
  },
  {
   "cell_type": "code",
   "execution_count": 2,
   "metadata": {},
   "outputs": [],
   "source": [
    "import requests\n",
    "import config as APIConfig\n",
    "from copy import deepcopy\n",
    "import pandas as pd"
   ]
  },
  {
   "cell_type": "code",
   "execution_count": 3,
   "metadata": {},
   "outputs": [],
   "source": [
    "# API = 'https://on-ramp.api.cx.metamask.io/providers'\n",
    "\n",
    "\n",
    "# query_params = {\n",
    "#     \"regionId\":\"/regions/de\"\n",
    "#     , \"paymentMethodId\":\"/payments/debit-credit-card\"\n",
    "#     , \"cryptoCurrencyId\": \"/currencies/crypto/1/0xdac17f958d2ee523a2206206994597c13d831ec7\"\n",
    "#     , \"fiatCurrencyId\": \"/currencies/fiat/eur\"\n",
    "#     , \"amount\":95\n",
    "# }\n",
    "\n",
    "# # headers = {\n",
    "# #     \"User-Agent\": 'Mozilla/5.0 (Windows NT 10.0; Win64; x64) AppleWebKit/537.36 (KHTML, like Gecko) Chrome/126.0.0.0 Safari/537.36'\n",
    "# #     , \"Origin\": \"https://portfolio.metamask.io\"\n",
    "# #     , \"Referer\": \"https://portfolio.metamask.io/\"\n",
    "# #     , \"Content-Type\": \"application/json; charset=utf-8\"\n",
    "# #     , \n",
    "# # }\n",
    "# response = requests.get(API)\n"
   ]
  },
  {
   "cell_type": "markdown",
   "metadata": {},
   "source": [
    "# Scrape Payment data for regions"
   ]
  },
  {
   "cell_type": "code",
   "execution_count": 10,
   "metadata": {},
   "outputs": [],
   "source": [
    "REGIONS = [\n",
    "    {\n",
    "        \"region\":\"de\"\n",
    "        , \"country\":\"DE\"\n",
    "        , \"fiat_currency\": \"/currencies/fiat/eur\"\n",
    "    },\n",
    "    {\n",
    "        \"region\":\"us-fl\"\n",
    "        , \"country\":\"US\"\n",
    "        , \"fiat_currency\": \"/currencies/fiat/usd\"\n",
    "    },\n",
    "    {\n",
    "        \"region\":\"gb\"\n",
    "        , \"country\":\"UK\"\n",
    "        , \"fiat_currency\": \"/currencies/fiat/gb\"\n",
    "    }\n",
    "]\n",
    "\n",
    "REGION_PARAMS = {\n",
    "    \"sdk\":\"1.28.3\"\n",
    "}\n",
    "\n",
    "\n",
    "REGIONS_API = 'https://on-ramp-content.api.cx.metamask.io/regions'"
   ]
  },
  {
   "cell_type": "code",
   "execution_count": 4,
   "metadata": {},
   "outputs": [],
   "source": [
    "def extract_payments_data(payment_dict:dict):\n",
    "    payment_dict.pop('logo', None)\n",
    "    payment_dict.pop('icons', None)\n",
    "    return payment_dict\n",
    "\n",
    "def add_region_payment_data(region_dict:str, region_api:str = REGIONS_API, query_params:dict = REGION_PARAMS):\n",
    "    # using a deepcopy to avoid mutating the original input\n",
    "    dict_copy = deepcopy(region_dict)\n",
    "    response = requests.get(f\"{region_api}/{dict_copy['region']}\", params=query_params)\n",
    "    try:\n",
    "        data = response.json()\n",
    "        payment_info = [extract_payments_data(x) for x in data[\"payments\"]]\n",
    "        dict_copy[\"payments\"] = payment_info\n",
    "        print(\"Add Payment data\")\n",
    "        return dict_copy\n",
    "    except Exception as e:\n",
    "        print(\"Error adding payment data\")\n",
    "        print(e)"
   ]
  },
  {
   "cell_type": "code",
   "execution_count": 11,
   "metadata": {},
   "outputs": [
    {
     "name": "stdout",
     "output_type": "stream",
     "text": [
      "extracting payment info for {'region': 'de', 'country': 'DE', 'fiat_currency': '/currencies/fiat/eur'}\n",
      "Add Payment data\n",
      "extracting payment info for {'region': 'us-fl', 'country': 'US', 'fiat_currency': '/currencies/fiat/usd'}\n",
      "Add Payment data\n",
      "extracting payment info for {'region': 'gb', 'country': 'UK', 'fiat_currency': '/currencies/fiat/gb'}\n",
      "Add Payment data\n"
     ]
    }
   ],
   "source": [
    "REGIONS_WITH_PAYMENT = []\n",
    "for region in REGIONS:\n",
    "    print(f\"extracting payment info for\", region)\n",
    "    region_it = add_region_payment_data(region)\n",
    "    REGIONS_WITH_PAYMENT.append(region_it)    "
   ]
  },
  {
   "cell_type": "markdown",
   "metadata": {},
   "source": [
    "# Generate Quote Scrapings"
   ]
  },
  {
   "cell_type": "code",
   "execution_count": 14,
   "metadata": {},
   "outputs": [
    {
     "data": {
      "text/plain": [
       "{'region': 'de',\n",
       " 'country': 'DE',\n",
       " 'fiat_currency': '/currencies/fiat/eur',\n",
       " 'payments': [{'id': '/payments/apple-pay',\n",
       "   'paymentType': 'apple-pay',\n",
       "   'name': 'Apple Pay',\n",
       "   'score': 60,\n",
       "   'disclaimer': 'Apple Cash is not supported.',\n",
       "   'delay': [0, 0],\n",
       "   'pendingOrderDescription': 'Card purchases may take a few minutes to complete.',\n",
       "   'amountTier': [1, 3],\n",
       "   'isApplePay': True,\n",
       "   'sell': {'enabled': False},\n",
       "   'recurringBuy': {'enabled': False},\n",
       "   'buy': {'enabled': True}},\n",
       "  {'id': '/payments/debit-credit-card',\n",
       "   'paymentType': 'debit-credit-card',\n",
       "   'name': 'Debit or Credit',\n",
       "   'score': 90,\n",
       "   'disclaimer': \"Credit card purchases may incur your bank's cash advance fees, subject to your bank's policies.\",\n",
       "   'delay': [5, 10],\n",
       "   'pendingOrderDescription': 'Card purchases may take a few minutes to complete.',\n",
       "   'amountTier': [1, 3],\n",
       "   'sellEnabled': True,\n",
       "   'sell': {'enabled': True},\n",
       "   'recurringBuy': {'enabled': True},\n",
       "   'buy': {'enabled': True}},\n",
       "  {'id': '/payments/sepa-bank-transfer',\n",
       "   'paymentType': 'bank-transfer',\n",
       "   'name': 'SEPA Bank Transfer',\n",
       "   'score': 270,\n",
       "   'delay': [1440, 7200],\n",
       "   'pendingOrderDescription': 'Bank transfers may take a few business days to complete.',\n",
       "   'amountTier': [3, 3],\n",
       "   'supportedCurrency': ['/currencies/fiat/eur'],\n",
       "   'supportedRegions': ['/regions/ad',\n",
       "    '/regions/at',\n",
       "    '/regions/be',\n",
       "    '/regions/cy',\n",
       "    '/regions/ee',\n",
       "    '/regions/fi',\n",
       "    '/regions/fr',\n",
       "    '/regions/de',\n",
       "    '/regions/gi',\n",
       "    '/regions/gr',\n",
       "    '/regions/ie',\n",
       "    '/regions/it',\n",
       "    '/regions/lv',\n",
       "    '/regions/lt',\n",
       "    '/regions/lu',\n",
       "    '/regions/mt',\n",
       "    '/regions/mc',\n",
       "    '/regions/nl',\n",
       "    '/regions/pt',\n",
       "    '/regions/sm',\n",
       "    '/regions/sk',\n",
       "    '/regions/si',\n",
       "    '/regions/es',\n",
       "    '/regions/dk',\n",
       "    '/regions/gf',\n",
       "    '/regions/gp',\n",
       "    '/regions/mq',\n",
       "    '/regions/yt',\n",
       "    '/regions/re',\n",
       "    '/regions/bl',\n",
       "    '/regions/mf',\n",
       "    '/regions/pm',\n",
       "    '/regions/bg',\n",
       "    '/regions/hr',\n",
       "    '/regions/cz',\n",
       "    '/regions/hu',\n",
       "    '/regions/is',\n",
       "    '/regions/li',\n",
       "    '/regions/no',\n",
       "    '/regions/pl',\n",
       "    '/regions/ro',\n",
       "    '/regions/se',\n",
       "    '/regions/ch',\n",
       "    '/regions/gb'],\n",
       "   'sellEnabled': True,\n",
       "   'sell': {'enabled': True},\n",
       "   'recurringBuy': {'enabled': False},\n",
       "   'buy': {'enabled': True}},\n",
       "  {'id': '/payments/khipu',\n",
       "   'paymentType': 'wallet',\n",
       "   'name': 'Khipu',\n",
       "   'score': 300,\n",
       "   'delay': [0, 0],\n",
       "   'pendingOrderDescription': 'Instant transfers may take a few minutes to complete.',\n",
       "   'amountTier': [3, 3],\n",
       "   'sell': {'enabled': False},\n",
       "   'recurringBuy': {'enabled': False},\n",
       "   'buy': {'enabled': True}},\n",
       "  {'id': '/payments/pse',\n",
       "   'paymentType': 'bank-transfer',\n",
       "   'name': 'PSE',\n",
       "   'score': 400,\n",
       "   'delay': [0, 10],\n",
       "   'pendingOrderDescription': 'Instant transfers may take a few minutes to complete.',\n",
       "   'amountTier': [2, 3],\n",
       "   'supportedRegions': [],\n",
       "   'sell': {'enabled': False},\n",
       "   'recurringBuy': {'enabled': False},\n",
       "   'buy': {'enabled': True}}]}"
      ]
     },
     "execution_count": 14,
     "metadata": {},
     "output_type": "execute_result"
    }
   ],
   "source": [
    "REGIONS_WITH_PAYMENT[0]"
   ]
  },
  {
   "cell_type": "code",
   "execution_count": 7,
   "metadata": {},
   "outputs": [],
   "source": []
  },
  {
   "cell_type": "code",
   "execution_count": 26,
   "metadata": {},
   "outputs": [],
   "source": [
    "CRYPTOCURRENCIES = [\n",
    "    {\n",
    "        \"name\": \"Ethereum Mainnet\"\n",
    "        , \"id\": \"/currencies/crypto/1/0x0000000000000000000000000000000000000000\"\n",
    "    },\n",
    "    {\n",
    "        \"name\": \"USDT (Ethereum)\"\n",
    "        , \"id\":  \"/currencies/crypto/1/0xdac17f958d2ee523a2206206994597c13d831ec7\"\n",
    "    },\n",
    "    {\n",
    "        \"name\": \"USDT (BNB Chain)\"\n",
    "        , \"id\":  \"/currencies/crypto/56/0x55d398326f99059ff775485246999027b3197955\"\n",
    "    },\n",
    "    \n",
    "]\n",
    "\n",
    "QUOTE_QUERY_PARAMS_BASE = []\n",
    "for region in REGIONS_WITH_PAYMENT:\n",
    "    for payment in region[\"payments\"]:\n",
    "        for crypto in CRYPTOCURRENCIES:\n",
    "            QUOTE_QUERY_PARAMS_BASE.append({\n",
    "                \"country\": region[\"country\"]\n",
    "                , \"region\": region[\"region\"] \n",
    "                , \"crypto_name\": crypto[\"name\"]\n",
    "                , \"payment_name\": payment[\"name\"]\n",
    "                , \"scrape_params\": {\n",
    "                    \"regionId\":f\"/regions/{region['region']}\"\n",
    "                    , \"paymentMethodId\": payment[\"id\"]\n",
    "                    , \"cryptoCurrencyId\": crypto[\"id\"]\n",
    "                    , \"fiatCurrencyId\": region[\"fiat_currency\"]\n",
    "                }\n",
    "                \n",
    "            })"
   ]
  },
  {
   "cell_type": "code",
   "execution_count": 27,
   "metadata": {},
   "outputs": [],
   "source": [
    "test_quote = deepcopy(QUOTE_QUERY_PARAMS_BASE[0])\n",
    "test_quote[\"scrape_params\"][\"amount\"] = 50"
   ]
  },
  {
   "cell_type": "code",
   "execution_count": 53,
   "metadata": {},
   "outputs": [
    {
     "data": {
      "text/plain": [
       "{'country': 'US',\n",
       " 'region': 'us-fl',\n",
       " 'crypto_name': 'USDT (BNB Chain)',\n",
       " 'payment_name': 'Debit or Credit',\n",
       " 'scrape_params': {'regionId': '/regions/us-fl',\n",
       "  'paymentMethodId': '/payments/debit-credit-card',\n",
       "  'cryptoCurrencyId': '/currencies/crypto/56/0x55d398326f99059ff775485246999027b3197955',\n",
       "  'fiatCurrencyId': '/currencies/fiat/usd'}}"
      ]
     },
     "execution_count": 53,
     "metadata": {},
     "output_type": "execute_result"
    }
   ],
   "source": [
    "QUOTE_QUERY_PARAMS_BASE[20]"
   ]
  },
  {
   "cell_type": "code",
   "execution_count": 71,
   "metadata": {},
   "outputs": [],
   "source": [
    "QUOTE_API = 'https://on-ramp.api.cx.metamask.io/providers/all/quote'\n",
    "\n",
    "\n",
    "# r = requests.get(QUOTE_API, params=test_quote[\"scrape_params\"])\n"
   ]
  },
  {
   "cell_type": "code",
   "execution_count": 49,
   "metadata": {},
   "outputs": [],
   "source": [
    "def _get_quote_data(quote_json:dict):\n",
    "    mandatory_keys = [\"amountIn\", \"amountOut\", \"exchangeRate\", \"networkFee\", \"providerFee\"]\n",
    "    optional_fields = [{\"key\":\"bestRate\", \"default\":False}]\n",
    "    quote_clean_dict = {key:val for key,val in quote_json.items() if key in mandatory_keys}\n",
    "    for field in optional_fields:\n",
    "        quote_clean_dict[field[\"key\"]] = quote_json.get(field[\"key\"], field[\"default\"])\n",
    "    return quote_clean_dict\n",
    "\n",
    "def get_quote_data(provider_quote_json, _position:int):\n",
    "    quote_data = _get_quote_data(provider_quote_json[\"quote\"])\n",
    "    quote_data.update({\n",
    "        \"provider\": provider_quote_json[\"provider\"]\n",
    "        , \"position\": _position\n",
    "    })\n",
    "    return quote_data\n",
    "    "
   ]
  },
  {
   "cell_type": "code",
   "execution_count": 70,
   "metadata": {},
   "outputs": [
    {
     "data": {
      "text/plain": [
       "'https://on-ramp.api.cx.metamask.io'"
      ]
     },
     "execution_count": 70,
     "metadata": {},
     "output_type": "execute_result"
    }
   ],
   "source": [
    "QUOTE_API"
   ]
  },
  {
   "cell_type": "code",
   "execution_count": 83,
   "metadata": {},
   "outputs": [],
   "source": [
    "def scrape_one_quote(scrape_params: dict , amount: float, endpoint=QUOTE_API):\n",
    "    copy_params = deepcopy(scrape_params)\n",
    "    copy_params[\"amount\"] = amount\n",
    "    response = requests.get(endpoint, params=copy_params)\n",
    "    print(response.status_code)\n",
    "    # return response\n",
    "    try:\n",
    "        raw = response.json()[\"success\"]\n",
    "        clean_quotes = []\n",
    "        for i,provider_quote in enumerate(raw):\n",
    "            _ = get_quote_data(provider_quote, i)\n",
    "            _.update(copy_params)\n",
    "            clean_quotes.append(_)\n",
    "        return {\"status\": \"success\", \"payload\": clean_quotes}\n",
    "    except Exception as e: \n",
    "        print(\"Error scraping\", copy_params)\n",
    "        print(e)\n",
    "        return {\"status\": \"failure\", \"payload\": response}"
   ]
  },
  {
   "cell_type": "code",
   "execution_count": null,
   "metadata": {},
   "outputs": [],
   "source": [
    "    # try:\n",
    "    #     raw = response.json()[\"success\"]\n",
    "    #     clean_quote = [get_quote_data(provider_quote, i) for i,provider_quote in enumerate(raw)]\n",
    "    #     clean_quote.update(copy_params)\n",
    "    # except Exception as e: \n",
    "    #     print(\"Error scraping\", copy_params)\n",
    "    #     print(e)"
   ]
  },
  {
   "cell_type": "code",
   "execution_count": 82,
   "metadata": {},
   "outputs": [
    {
     "name": "stdout",
     "output_type": "stream",
     "text": [
      "200\n",
      "Error scraping {'regionId': '/regions/us-fl', 'paymentMethodId': '/payments/debit-credit-card', 'cryptoCurrencyId': '/currencies/crypto/56/0x55d398326f99059ff775485246999027b3197955', 'fiatCurrencyId': '/currencies/fiat/usd', 'amount': 100}\n",
      "'list' object has no attribute 'update'\n"
     ]
    }
   ],
   "source": [
    "r = scrape_one_quote(scrape_params=QUOTE_QUERY_PARAMS_BASE[20][\"scrape_params\"], amount = 100, endpoint=QUOTE_API)"
   ]
  },
  {
   "cell_type": "code",
   "execution_count": 78,
   "metadata": {},
   "outputs": [
    {
     "data": {
      "text/plain": [
       "{'success': [{'provider': '/providers/banxa',\n",
       "   'url': None,\n",
       "   'method': None,\n",
       "   'headers': None,\n",
       "   'quote': {'crypto': {'id': '/currencies/crypto/56/0x55d398326f99059ff775485246999027b3197955',\n",
       "     'idv2': '/currencies/crypto/56/0x55d398326f99059ff775485246999027b3197955',\n",
       "     'legacyId': '/currencies/crypto/56/usdt',\n",
       "     'network': {'active': True,\n",
       "      'chainId': '56',\n",
       "      'chainName': 'BNB Chain Mainnet',\n",
       "      'shortName': 'BNB Chain'},\n",
       "     'logo': 'https://tokens.1inch.io/0xdac17f958d2ee523a2206206994597c13d831ec7.png',\n",
       "     'decimals': 18,\n",
       "     'address': '0x55d398326f99059ff775485246999027b3197955',\n",
       "     'symbol': 'USDT',\n",
       "     'name': 'Tether USD'},\n",
       "    'cryptoId': '/currencies/crypto/56/0x55d398326f99059ff775485246999027b3197955',\n",
       "    'fiat': {'id': '/currencies/fiat/usd',\n",
       "     'symbol': 'USD',\n",
       "     'name': 'US Dollar',\n",
       "     'decimals': 2,\n",
       "     'denomSymbol': '$'},\n",
       "    'fiatId': '/currencies/fiat/usd',\n",
       "    'amountIn': 100,\n",
       "    'amountOut': 99.97,\n",
       "    'exchangeRate': 1.000300090027008,\n",
       "    'networkFee': 0,\n",
       "    'providerFee': 0,\n",
       "    'extraFee': 0,\n",
       "    'paymentMethod': 'debit-credit-card',\n",
       "    'bestRate': True},\n",
       "   'nativeApplePay': {'supported': False,\n",
       "    'merchantId': 'merchant.io.metamask.banxa'}},\n",
       "  {'provider': '/providers/unlimitmeld',\n",
       "   'url': None,\n",
       "   'method': None,\n",
       "   'headers': None,\n",
       "   'quote': {'crypto': {'id': '/currencies/crypto/56/0x55d398326f99059ff775485246999027b3197955',\n",
       "     'idv2': '/currencies/crypto/56/0x55d398326f99059ff775485246999027b3197955',\n",
       "     'legacyId': '/currencies/crypto/56/usdt',\n",
       "     'network': {'active': True,\n",
       "      'chainId': '56',\n",
       "      'chainName': 'BNB Chain Mainnet',\n",
       "      'shortName': 'BNB Chain'},\n",
       "     'logo': 'https://tokens.1inch.io/0xdac17f958d2ee523a2206206994597c13d831ec7.png',\n",
       "     'decimals': 18,\n",
       "     'address': '0x55d398326f99059ff775485246999027b3197955',\n",
       "     'symbol': 'USDT',\n",
       "     'name': 'Tether USD'},\n",
       "    'cryptoId': '/currencies/crypto/56/0x55d398326f99059ff775485246999027b3197955',\n",
       "    'fiat': {'id': '/currencies/fiat/usd',\n",
       "     'symbol': 'USD',\n",
       "     'name': 'US Dollar',\n",
       "     'decimals': 2,\n",
       "     'denomSymbol': '$'},\n",
       "    'fiatId': '/currencies/fiat/usd',\n",
       "    'amountIn': 100,\n",
       "    'amountOut': 96.11320868,\n",
       "    'exchangeRate': 0.9985100000097094,\n",
       "    'networkFee': 0.2,\n",
       "    'providerFee': 3.83,\n",
       "    'extraFee': 0,\n",
       "    'paymentMethod': 'debit-credit-card'},\n",
       "   'nativeApplePay': {'supported': False}},\n",
       "  {'provider': '/providers/moonpay',\n",
       "   'url': None,\n",
       "   'method': None,\n",
       "   'headers': None,\n",
       "   'quote': {'crypto': {'id': '/currencies/crypto/56/0x55d398326f99059ff775485246999027b3197955',\n",
       "     'idv2': '/currencies/crypto/56/0x55d398326f99059ff775485246999027b3197955',\n",
       "     'legacyId': '/currencies/crypto/56/usdt',\n",
       "     'network': {'active': True,\n",
       "      'chainId': '56',\n",
       "      'chainName': 'BNB Chain Mainnet',\n",
       "      'shortName': 'BNB Chain'},\n",
       "     'logo': 'https://tokens.1inch.io/0xdac17f958d2ee523a2206206994597c13d831ec7.png',\n",
       "     'decimals': 18,\n",
       "     'address': '0x55d398326f99059ff775485246999027b3197955',\n",
       "     'symbol': 'USDT',\n",
       "     'name': 'Tether USD'},\n",
       "    'cryptoId': '/currencies/crypto/56/0x55d398326f99059ff775485246999027b3197955',\n",
       "    'fiat': {'id': '/currencies/fiat/usd',\n",
       "     'symbol': 'USD',\n",
       "     'name': 'US Dollar',\n",
       "     'decimals': 2,\n",
       "     'denomSymbol': '$'},\n",
       "    'fiatId': '/currencies/fiat/usd',\n",
       "    'amountIn': 100,\n",
       "    'amountOut': 95,\n",
       "    'exchangeRate': 1.0168421052631578,\n",
       "    'networkFee': 0.01,\n",
       "    'providerFee': 3.39,\n",
       "    'extraFee': 0,\n",
       "    'paymentMethod': 'debit-credit-card'},\n",
       "   'nativeApplePay': {'supported': False, 'merchantId': ''}},\n",
       "  {'provider': '/providers/moonpay-b',\n",
       "   'url': None,\n",
       "   'method': None,\n",
       "   'headers': None,\n",
       "   'quote': {'crypto': {'id': '/currencies/crypto/56/0x55d398326f99059ff775485246999027b3197955',\n",
       "     'idv2': '/currencies/crypto/56/0x55d398326f99059ff775485246999027b3197955',\n",
       "     'legacyId': '/currencies/crypto/56/usdt',\n",
       "     'network': {'active': True,\n",
       "      'chainId': '56',\n",
       "      'chainName': 'BNB Chain Mainnet',\n",
       "      'shortName': 'BNB Chain'},\n",
       "     'logo': 'https://tokens.1inch.io/0xdac17f958d2ee523a2206206994597c13d831ec7.png',\n",
       "     'decimals': 18,\n",
       "     'address': '0x55d398326f99059ff775485246999027b3197955',\n",
       "     'symbol': 'USDT',\n",
       "     'name': 'Tether USD'},\n",
       "    'cryptoId': '/currencies/crypto/56/0x55d398326f99059ff775485246999027b3197955',\n",
       "    'fiat': {'id': '/currencies/fiat/usd',\n",
       "     'symbol': 'USD',\n",
       "     'name': 'US Dollar',\n",
       "     'decimals': 2,\n",
       "     'denomSymbol': '$'},\n",
       "    'fiatId': '/currencies/fiat/usd',\n",
       "    'amountIn': 100,\n",
       "    'amountOut': 95,\n",
       "    'exchangeRate': 1.0168421052631578,\n",
       "    'networkFee': 0.01,\n",
       "    'providerFee': 3.39,\n",
       "    'extraFee': 0,\n",
       "    'paymentMethod': 'debit-credit-card'},\n",
       "   'nativeApplePay': {'supported': False, 'merchantId': ''}},\n",
       "  {'provider': '/providers/transak-b',\n",
       "   'url': None,\n",
       "   'method': None,\n",
       "   'headers': None,\n",
       "   'quote': {'crypto': {'id': '/currencies/crypto/56/0x55d398326f99059ff775485246999027b3197955',\n",
       "     'idv2': '/currencies/crypto/56/0x55d398326f99059ff775485246999027b3197955',\n",
       "     'legacyId': '/currencies/crypto/56/usdt',\n",
       "     'network': {'active': True,\n",
       "      'chainId': '56',\n",
       "      'chainName': 'BNB Chain Mainnet',\n",
       "      'shortName': 'BNB Chain'},\n",
       "     'logo': 'https://tokens.1inch.io/0xdac17f958d2ee523a2206206994597c13d831ec7.png',\n",
       "     'decimals': 18,\n",
       "     'address': '0x55d398326f99059ff775485246999027b3197955',\n",
       "     'symbol': 'USDT',\n",
       "     'name': 'Tether USD'},\n",
       "    'cryptoId': '/currencies/crypto/56/0x55d398326f99059ff775485246999027b3197955',\n",
       "    'fiat': {'id': '/currencies/fiat/usd',\n",
       "     'symbol': 'USD',\n",
       "     'name': 'US Dollar',\n",
       "     'decimals': 2,\n",
       "     'denomSymbol': '$'},\n",
       "    'fiatId': '/currencies/fiat/usd',\n",
       "    'amountIn': 100,\n",
       "    'amountOut': 94.74,\n",
       "    'exchangeRate': 1.0164661177960734,\n",
       "    'networkFee': 0.2,\n",
       "    'providerFee': 3.5,\n",
       "    'extraFee': 0,\n",
       "    'paymentMethod': 'debit-credit-card'},\n",
       "   'nativeApplePay': {'supported': False}},\n",
       "  {'provider': '/providers/transak',\n",
       "   'url': None,\n",
       "   'method': None,\n",
       "   'headers': None,\n",
       "   'quote': {'crypto': {'id': '/currencies/crypto/56/0x55d398326f99059ff775485246999027b3197955',\n",
       "     'idv2': '/currencies/crypto/56/0x55d398326f99059ff775485246999027b3197955',\n",
       "     'legacyId': '/currencies/crypto/56/usdt',\n",
       "     'network': {'active': True,\n",
       "      'chainId': '56',\n",
       "      'chainName': 'BNB Chain Mainnet',\n",
       "      'shortName': 'BNB Chain'},\n",
       "     'logo': 'https://tokens.1inch.io/0xdac17f958d2ee523a2206206994597c13d831ec7.png',\n",
       "     'decimals': 18,\n",
       "     'address': '0x55d398326f99059ff775485246999027b3197955',\n",
       "     'symbol': 'USDT',\n",
       "     'name': 'Tether USD'},\n",
       "    'cryptoId': '/currencies/crypto/56/0x55d398326f99059ff775485246999027b3197955',\n",
       "    'fiat': {'id': '/currencies/fiat/usd',\n",
       "     'symbol': 'USD',\n",
       "     'name': 'US Dollar',\n",
       "     'decimals': 2,\n",
       "     'denomSymbol': '$'},\n",
       "    'fiatId': '/currencies/fiat/usd',\n",
       "    'amountIn': 100,\n",
       "    'amountOut': 93.26,\n",
       "    'exchangeRate': 1.0166202015869612,\n",
       "    'networkFee': 0.2,\n",
       "    'providerFee': 4.99,\n",
       "    'extraFee': 0,\n",
       "    'paymentMethod': 'debit-credit-card'},\n",
       "   'nativeApplePay': {'supported': False}}],\n",
       " 'error': [{'err': {}, 'provider': '/providers/paypal'},\n",
       "  {'err': {}, 'provider': '/providers/mercuryo'},\n",
       "  {'err': {}, 'provider': '/providers/mercuryo-p'},\n",
       "  {'err': {}, 'provider': '/providers/coinbase'},\n",
       "  {'err': {}, 'provider': '/providers/coinbase-m'},\n",
       "  {'err': {}, 'provider': '/providers/sardine'},\n",
       "  {'err': {}, 'provider': '/providers/sardine-b'},\n",
       "  {'err': {}, 'provider': '/providers/onramp-money'},\n",
       "  {'err': {}, 'provider': '/providers/revolut'},\n",
       "  {'err': {}, 'provider': '/providers/ramp-network'},\n",
       "  {'err': {}, 'provider': '/providers/transfimeld'},\n",
       "  {'err': {}, 'provider': '/providers/fonbnk'},\n",
       "  {'err': {}, 'provider': '/providers/koywe'},\n",
       "  {'err': {}, 'provider': '/providers/robinhood'},\n",
       "  {'err': {}, 'provider': '/providers/stripe'},\n",
       "  {'err': {}, 'provider': '/providers/blockchaindotcom'},\n",
       "  {'err': {}, 'provider': '/providers/circle'}]}"
      ]
     },
     "execution_count": 78,
     "metadata": {},
     "output_type": "execute_result"
    }
   ],
   "source": [
    "r.json()"
   ]
  },
  {
   "cell_type": "code",
   "execution_count": 72,
   "metadata": {},
   "outputs": [
    {
     "data": {
      "text/plain": [
       "'https://on-ramp.api.cx.metamask.io/?country=US&region=us-fl&crypto_name=USDT+%28BNB+Chain%29&payment_name=Debit+or+Credit&scrape_params=regionId&scrape_params=paymentMethodId&scrape_params=cryptoCurrencyId&scrape_params=fiatCurrencyId&amount=100'"
      ]
     },
     "execution_count": 72,
     "metadata": {},
     "output_type": "execute_result"
    }
   ],
   "source": [
    "r.url"
   ]
  },
  {
   "cell_type": "code",
   "execution_count": 69,
   "metadata": {},
   "outputs": [
    {
     "data": {
      "text/plain": [
       "{'product': 'On-Ramp',\n",
       " 'service': 'On-Ramp API',\n",
       " 'version': '1.40.1',\n",
       " 'features': ['orders', 'analytics']}"
      ]
     },
     "execution_count": 69,
     "metadata": {},
     "output_type": "execute_result"
    }
   ],
   "source": [
    "r.json()"
   ]
  },
  {
   "cell_type": "code",
   "execution_count": 66,
   "metadata": {},
   "outputs": [
    {
     "data": {
      "text/plain": [
       "{'country': 'US',\n",
       " 'region': 'us-fl',\n",
       " 'crypto_name': 'USDT (BNB Chain)',\n",
       " 'payment_name': 'Debit or Credit',\n",
       " 'scrape_params': {'regionId': '/regions/us-fl',\n",
       "  'paymentMethodId': '/payments/debit-credit-card',\n",
       "  'cryptoCurrencyId': '/currencies/crypto/56/0x55d398326f99059ff775485246999027b3197955',\n",
       "  'fiatCurrencyId': '/currencies/fiat/usd'}}"
      ]
     },
     "execution_count": 66,
     "metadata": {},
     "output_type": "execute_result"
    }
   ],
   "source": [
    "QUOTE_QUERY_PARAMS_BASE[20]"
   ]
  },
  {
   "cell_type": "code",
   "execution_count": 64,
   "metadata": {},
   "outputs": [
    {
     "data": {
      "text/plain": [
       "{'product': 'On-Ramp',\n",
       " 'service': 'On-Ramp API',\n",
       " 'version': '1.40.1',\n",
       " 'features': ['orders', 'analytics']}"
      ]
     },
     "execution_count": 64,
     "metadata": {},
     "output_type": "execute_result"
    }
   ],
   "source": [
    "\n",
    "r.json()\n",
    "\n"
   ]
  }
 ],
 "metadata": {
  "kernelspec": {
   "display_name": "venv",
   "language": "python",
   "name": "python3"
  },
  "language_info": {
   "codemirror_mode": {
    "name": "ipython",
    "version": 3
   },
   "file_extension": ".py",
   "mimetype": "text/x-python",
   "name": "python",
   "nbconvert_exporter": "python",
   "pygments_lexer": "ipython3",
   "version": "3.11.4"
  }
 },
 "nbformat": 4,
 "nbformat_minor": 2
}
