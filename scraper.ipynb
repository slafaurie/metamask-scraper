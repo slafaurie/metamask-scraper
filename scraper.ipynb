{
 "cells": [
  {
   "cell_type": "code",
   "execution_count": 1,
   "metadata": {},
   "outputs": [],
   "source": [
    "%load_ext autoreload\n",
    "%autoreload 2"
   ]
  },
  {
   "cell_type": "code",
   "execution_count": 56,
   "metadata": {},
   "outputs": [],
   "source": [
    "import requests\n",
    "from config import *\n",
    "from copy import deepcopy\n",
    "from datetime import datetime\n",
    "import polars as pl\n",
    "from pathlib import Path\n",
    "import numpy as np\n",
    "\n",
    "\n"
   ]
  },
  {
   "cell_type": "markdown",
   "metadata": {},
   "source": [
    "# Configs"
   ]
  },
  {
   "cell_type": "code",
   "execution_count": 57,
   "metadata": {},
   "outputs": [],
   "source": [
    "DATA_FOLDER = Path('data')\n",
    "\n",
    "\n",
    "############## REGION - Get Payment\n",
    "REGION_PARAMS = {\n",
    "    \"sdk\":\"1.28.3\"\n",
    "}\n",
    "REGIONS_API = 'https://on-ramp-content.api.cx.metamask.io/regions'\n",
    "REGIONS = [\n",
    "    {\n",
    "        \"region\":\"de\"\n",
    "        , \"country\":\"DE\"\n",
    "        , \"fiat_currency\": \"/currencies/fiat/eur\"\n",
    "        , \"symbol\": \"EUR\"\n",
    "    },\n",
    "    {\n",
    "        \"region\":\"us-fl\"\n",
    "        , \"country\":\"US\"\n",
    "        , \"fiat_currency\": \"/currencies/fiat/usd\"\n",
    "        , \"symbol\": \"USD\"\n",
    "\n",
    "    },\n",
    "    {\n",
    "        \"region\":\"gb\"\n",
    "        , \"country\":\"UK\"\n",
    "        , \"fiat_currency\": \"/currencies/fiat/gbp\"\n",
    "        , \"symbol\": \"GBP\"\n",
    "    }\n",
    "]\n",
    "\n",
    "\n",
    "############## QUOTE\n",
    "QUOTE_API = 'https://on-ramp.api.cx.metamask.io/providers/all/quote'\n",
    "CRYPTOCURRENCIES = [\n",
    "    {\n",
    "        \"name\": \"Ethereum Mainnet\"\n",
    "        , \"id\": \"/currencies/crypto/1/0x0000000000000000000000000000000000000000\"\n",
    "    },\n",
    "    {\n",
    "        \"name\": \"USDT (Ethereum)\"\n",
    "        , \"id\":  \"/currencies/crypto/1/0xdac17f958d2ee523a2206206994597c13d831ec7\"\n",
    "    },\n",
    "    {\n",
    "        \"name\": \"USDT (BNB Chain)\"\n",
    "        , \"id\":  \"/currencies/crypto/56/0x55d398326f99059ff775485246999027b3197955\"\n",
    "    },\n",
    "    \n",
    "]"
   ]
  },
  {
   "cell_type": "markdown",
   "metadata": {},
   "source": [
    "# Scrape Payment data for regions\n",
    "\n",
    "We can get all the payments providers for a given region instead of manually looking them up. \n",
    "In an ongoing process this would only be needed to run when a new region is added or on-demand"
   ]
  },
  {
   "cell_type": "code",
   "execution_count": 58,
   "metadata": {},
   "outputs": [],
   "source": [
    "def extract_payments_data(payment_dict:dict):\n",
    "    payment_dict.pop('logo', None)\n",
    "    payment_dict.pop('icons', None)\n",
    "    return payment_dict\n",
    "\n",
    "def add_region_payment_data(region_dict:str, region_api:str = REGIONS_API, query_params:dict = REGION_PARAMS):\n",
    "    # using a deepcopy to avoid mutating the original input\n",
    "    dict_copy = deepcopy(region_dict)\n",
    "    response = requests.get(f\"{region_api}/{dict_copy['region']}\", params=query_params)\n",
    "    try:\n",
    "        data = response.json()\n",
    "        payment_info = [extract_payments_data(x) for x in data[\"payments\"]]\n",
    "        dict_copy[\"payments\"] = payment_info\n",
    "        print(\"Add Payment data\")\n",
    "        return dict_copy\n",
    "    except Exception as e:\n",
    "        print(\"Error adding payment data\")\n",
    "        print(e)"
   ]
  },
  {
   "cell_type": "code",
   "execution_count": 5,
   "metadata": {},
   "outputs": [
    {
     "name": "stdout",
     "output_type": "stream",
     "text": [
      "extracting payment info for {'region': 'de', 'country': 'DE', 'fiat_currency': '/currencies/fiat/eur'}\n",
      "Add Payment data\n",
      "extracting payment info for {'region': 'us-fl', 'country': 'US', 'fiat_currency': '/currencies/fiat/usd'}\n",
      "Add Payment data\n",
      "extracting payment info for {'region': 'gb', 'country': 'UK', 'fiat_currency': '/currencies/fiat/gbp'}\n",
      "Add Payment data\n"
     ]
    }
   ],
   "source": [
    "regions_with_payment = []\n",
    "for region in REGIONS:\n",
    "    print(f\"extracting payment info for\", region)\n",
    "    region_it = add_region_payment_data(region)\n",
    "    regions_with_payment.append(region_it)    "
   ]
  },
  {
   "cell_type": "markdown",
   "metadata": {},
   "source": [
    "# Generate Quote Scrapings\n",
    "\n",
    "Now, we generate a list of all the query parameters needed (except the amount) to make a call to the API. In an ongoing process this could be persisted to a table and run on demand (same considerations as before)"
   ]
  },
  {
   "cell_type": "code",
   "execution_count": 6,
   "metadata": {},
   "outputs": [],
   "source": [
    "quote_base_params = []\n",
    "for region in regions_with_payment:\n",
    "    for payment in region[\"payments\"]:\n",
    "        for crypto in CRYPTOCURRENCIES:\n",
    "            quote_base_params.append({\n",
    "                \"country\": region[\"country\"]\n",
    "                , \"region\": region[\"region\"] \n",
    "                , \"crypto_name\": crypto[\"name\"]\n",
    "                , \"payment_name\": payment[\"name\"]\n",
    "                , \"scrape_params\": {\n",
    "                    \"regionId\":f\"/regions/{region['region']}\"\n",
    "                    , \"paymentMethodId\": payment[\"id\"]\n",
    "                    , \"cryptoCurrencyId\": crypto[\"id\"]\n",
    "                    , \"fiatCurrencyId\": region[\"fiat_currency\"]\n",
    "                }\n",
    "                \n",
    "            })"
   ]
  },
  {
   "cell_type": "markdown",
   "metadata": {},
   "source": [
    "# Scraping a quote\n",
    "\n",
    "the following sections define the logic to finally make a call, parse the response and persist to a parquet file"
   ]
  },
  {
   "cell_type": "code",
   "execution_count": 59,
   "metadata": {},
   "outputs": [],
   "source": [
    "def get_metamask_rate(crypto_id:str, fiat:str) -> float:\n",
    "    AMOUNT_API = \"https://on-ramp-content.api.cx.metamask.io{crypto_id}/amount\" \n",
    "    amount_params = {\n",
    "        \"amount\":1\n",
    "        , \"sdk\":\"1.28.3\"\n",
    "        , \"fiat\": fiat\n",
    "    }\n",
    "    r = requests.get(AMOUNT_API.format(crypto_id=crypto_id), params=amount_params)\n",
    "    if r.status_code == 200:\n",
    "        return r.json().get('value')\n",
    "\n",
    "def get_success_quote_data(provider_json) -> dict:\n",
    "    # print(provider_json)\n",
    "    quote_data = {}\n",
    "    # quote_data[\"provider\"] = provider_json.get(\"provider\")\n",
    "    \n",
    "    fields_to_scrape = [ {\"parents\": [], \"key\":\"provider\", \"default\":None}\n",
    "        , {\"parents\": [\"quote\"], \"key\":\"amountIn\", \"default\":None}\n",
    "        , {\"parents\": [\"quote\"], \"key\":\"amountOut\", \"default\":None}\n",
    "        , {\"parents\": [\"quote\"], \"key\":\"exchangeRate\", \"default\":None}\n",
    "        , {\"parents\": [\"quote\"], \"key\":\"networkFee\", \"default\":None}\n",
    "        , {\"parents\": [\"quote\"], \"key\":\"providerFee\", \"default\":None}\n",
    "        , {\"parents\": [\"quote\"], \"key\":\"extraFee\", \"default\": None}\n",
    "        , {\"parents\": [\"quote\"], \"key\":\"bestRate\", \"default\":False}\n",
    "        , {\"parents\": [\"quote\", \"crypto\"] , \"key\":\"decimals\", \"default\":None}\n",
    "        , {\"parents\": [\"quote\", \"crypto\"] , \"key\":\"name\", \"default\":None}\n",
    "        , {\"parents\": [\"quote\", \"crypto\"] , \"key\":\"symbol\", \"default\":None}\n",
    "        , {\"parents\": [\"quote\", \"crypto\", \"network\"], \"key\":\"chainId\", \"default\":None}\n",
    "        , {\"parents\": [\"quote\", \"crypto\", \"network\"], \"key\":\"chainName\", \"default\":None}\n",
    "        , {\"parents\": [\"quote\", \"crypto\", \"network\"], \"key\":\"shortName\", \"default\":None}\n",
    "        , {\"parents\": [\"quote\", \"fiat\"] , \"key\":\"name\", \"default\":None}\n",
    "        , {\"parents\": [\"quote\", \"fiat\"] , \"key\":\"symbol\", \"default\":None}\n",
    "    ]\n",
    "        \n",
    "    # populate the field\n",
    "    for field in fields_to_scrape:\n",
    "        it_json = deepcopy(provider_json)\n",
    "        if len(field[\"parents\"]) > 0 :\n",
    "            for parent in field[\"parents\"]:\n",
    "                it_json = it_json.get(parent, {})\n",
    "        quote_data[field[\"key\"]] = it_json.get(field[\"key\"],field[\"default\"])\n",
    "        \n",
    "    # quote_data[\"amountOutFiat\"] = quote_data.get(\"amountOut\",*quote_data[\"exchangeRate\"]\n",
    "    # quote_data[\"totalFee\"] = quote_data[\"amountIn\"] - quote_data[\"amountOutFiat\"]\n",
    "    # quote_data[\"spread\"] = quote_data[\"totalFee\"] - quote_data[\"networkFee\"] - quote_data[\"providerFee\"] - quote_data[\"extraFee\"]\n",
    "    return quote_data\n",
    "            \n",
    "                    \n",
    "    \n",
    "    # # this is to keep the dict filling with the same pattern\n",
    "    # # for both error and success dict\n",
    "    # json_ref = provider_json\n",
    "    # if isinstance(provider_json.get(\"quote\"), dict):\n",
    "    #     json_ref = provider_json.get(\"quote\")\n",
    "    # for field in quote_fields_to_scrape:\n",
    "    #     quote_data[field[\"key\"]] = json_ref.get(field[\"key\"], field[\"default\"])\n",
    "    # return quote_data\n",
    "\n",
    "def _format_string(x):\n",
    "    return x.replace(\"(\",\"\").replace(\")\", \"\").replace(\" \", \"-\").lower()\n",
    "\n",
    "def generate_filename(query_params:dict, amount, format=\"parquet\"):\n",
    "    keys_to_format = [\"region\", \"crypto_name\", \"payment_name\"]\n",
    "    keys_formatted = [_format_string(query_params[x]) for x in keys_to_format]\n",
    "    keys_formatted.append(str(amount))\n",
    "    keys_formatted.append(query_params[\"scrape_params\"][\"fiatCurrencyId\"].split(\"/\")[-1])\n",
    "    keys_formatted.insert(0, datetime.now().strftime(\"%Y%m%d_%H%M\"))\n",
    "    return f'{\"__\".join(keys_formatted)}.{format}'\n",
    "\n",
    "def scrape_one_quote(query_params: dict , amount: float, endpoint=QUOTE_API) -> dict:\n",
    "\n",
    "    copy_params = deepcopy(query_params)\n",
    "    \n",
    "    \n",
    "    #\n",
    "    scrape_params = copy_params.pop(\"scrape_params\")\n",
    "    scrape_params[\"amount\"] = amount\n",
    "    scrape_params[\"request_time\"] = datetime.now()\n",
    "    \n",
    "    \n",
    "    # display_rate is the one used to show the conversion in the frontend\n",
    "    # this is used to calculate the spreadFee\n",
    "    display_rate = get_metamask_rate(\n",
    "        crypto_id=scrape_params[\"cryptoCurrencyId\"]\n",
    "        , fiat=scrape_params[\"fiatCurrencyId\"]\n",
    "    )\n",
    "    copy_params[\"display_rate\"] = display_rate\n",
    "    \n",
    "    \n",
    "    # scrape quote\n",
    "    response = requests.get(endpoint, params=scrape_params)\n",
    "    \n",
    "    # add them at the same level to keep tabular format\n",
    "    copy_params.update(scrape_params)\n",
    "    \n",
    "    print(response.status_code)\n",
    "    # return response\n",
    "    \"\"\" \n",
    "    I don't want to assume that a provider that is not in the \"success\" means it does not\n",
    "    support the currency, it could be just an error at this specific quoting\n",
    "    Logging the error for completeness.\n",
    "    It will also make coverage counting easier later on...\n",
    "    \"\"\"\n",
    "    try:\n",
    "        raw = response.json()\n",
    "        all_quotes = []\n",
    "        i=1\n",
    "        for key in [\"success\", \"error\"]:\n",
    "            if len(raw[key]) > 0:\n",
    "                for provider_quote in raw[key]:\n",
    "                    single_quote = get_success_quote_data(provider_quote)\n",
    "                    single_quote[\"position\"] = i if key == 'success' else None\n",
    "                    single_quote[\"has_quote\"] = True if key =='success' else False     \n",
    "                    single_quote.update(copy_params)\n",
    "                    all_quotes.append(single_quote)\n",
    "                    if key == 'success':\n",
    "                        i += 1\n",
    "        return {\"status\": \"success\", \"payload\": all_quotes}\n",
    "    except Exception as e: \n",
    "        print(\"Error scraping\", copy_params)\n",
    "        print(e)\n",
    "        print()\n",
    "        return {\"status\": \"failure\", \"payload\": response}\n",
    "\n",
    "def scrape_and_persist_quote(quote_params:dict, amount:float, endpoint:str, data_folder:Path):\n",
    "    \n",
    "    quote_schema = {\n",
    "        \"provider\":pl.String\n",
    "        , \"amountIn\": pl.Float64\n",
    "        , \"amountOut\": pl.Float64\n",
    "        , \"exchangeRate\": pl.Float64\n",
    "        , \"networkFee\": pl.Float64\n",
    "        , \"providerFee\": pl.Float64\n",
    "        , \"extraFee\": pl.Float64\n",
    "        , \"bestRate\": pl.Boolean\n",
    "        , \"decimals\": pl.Int32\n",
    "        , \"name\": pl.String\n",
    "        , \"symbol\": pl.String\n",
    "        , \"chainId\": pl.String\n",
    "        , \"chainName\": pl.String\n",
    "        , \"shortName\": pl.String\n",
    "        # , \"amountOutFiat\": pl.String\n",
    "        # , \"totalFee\": pl.Float32\n",
    "        # , \"spread\": pl.Float32\n",
    "        , \"position\": pl.Int32\n",
    "        , \"has_quote\": pl.Boolean\n",
    "        , \"regionId\": pl.String \n",
    "        , \"country\": pl.String \n",
    "        , \"region\": pl.String\n",
    "        , \"crypto_name\": pl.String\n",
    "        , \"payment_name\": pl.String\n",
    "        , \"paymentMethodId\":pl.String \n",
    "        , \"cryptoCurrencyId\":pl.String\n",
    "        , \"fiatCurrencyId\": pl.String \n",
    "        , \"amount\":pl.Float64\n",
    "        , \"request_time\": pl.Datetime\n",
    "        , \"display_rate\": pl.Float32\n",
    "    } \n",
    "    \n",
    "    \n",
    "    scrape_result = scrape_one_quote(\n",
    "        quote_params\n",
    "        , amount=amount\n",
    "        , endpoint=endpoint\n",
    "    )\n",
    "    \n",
    "    if scrape_result[\"status\"] == 'success':\n",
    "        filename = generate_filename(quote_params, amount)\n",
    "        df = (\n",
    "            pl.DataFrame(scrape_result[\"payload\"], schema = quote_schema)\n",
    "            .with_columns(\n",
    "                ( pl.col(\"amountOut\") * pl.col(\"display_rate\") ).alias(\"amountOutFiat\")\n",
    "                , (pl.col(\"amountIn\") -  pl.col(\"amountOut\") * pl.col(\"exchangeRate\") ).alias(\"totalFee\")\n",
    "            )\n",
    "            .with_columns(\n",
    "                ( pl.col(\"totalFee\") - pl.col(\"networkFee\") - pl.col(\"providerFee\") - pl.col(\"extraFee\")).alias(\"spreadFee\")\n",
    "            )\n",
    "            # .write_parquet(data_folder / filename, compression=\"snappy\")\n",
    "        )\n",
    "\n",
    "    return df\n"
   ]
  },
  {
   "cell_type": "code",
   "execution_count": 60,
   "metadata": {},
   "outputs": [
    {
     "name": "stdout",
     "output_type": "stream",
     "text": [
      "200\n"
     ]
    }
   ],
   "source": [
    "r = scrape_one_quote(quote_base_params[20]\n",
    "                    , amount= 36                \n",
    "                    , endpoint=QUOTE_API\n",
    "                    # , data_folder=DATA_FOLDER\n",
    "                    )"
   ]
  },
  {
   "cell_type": "code",
   "execution_count": 62,
   "metadata": {},
   "outputs": [
    {
     "data": {
      "text/plain": [
       "{'provider': '/providers/unlimitmeld',\n",
       " 'amountIn': 36,\n",
       " 'amountOut': 34.26104896,\n",
       " 'exchangeRate': 0.9985100000861155,\n",
       " 'networkFee': 0.2,\n",
       " 'providerFee': 1.59,\n",
       " 'extraFee': 0,\n",
       " 'bestRate': True,\n",
       " 'decimals': 18,\n",
       " 'name': 'US Dollar',\n",
       " 'symbol': 'USD',\n",
       " 'chainId': '56',\n",
       " 'chainName': 'BNB Chain Mainnet',\n",
       " 'shortName': 'BNB Chain',\n",
       " 'position': 1,\n",
       " 'has_quote': True,\n",
       " 'country': 'US',\n",
       " 'region': 'us-fl',\n",
       " 'crypto_name': 'USDT (BNB Chain)',\n",
       " 'payment_name': 'Debit or Credit',\n",
       " 'display_rate': 0.9913729204249776,\n",
       " 'regionId': '/regions/us-fl',\n",
       " 'paymentMethodId': '/payments/debit-credit-card',\n",
       " 'cryptoCurrencyId': '/currencies/crypto/56/0x55d398326f99059ff775485246999027b3197955',\n",
       " 'fiatCurrencyId': '/currencies/fiat/usd',\n",
       " 'amount': 36,\n",
       " 'request_time': datetime.datetime(2024, 8, 3, 18, 53, 52, 244051)}"
      ]
     },
     "execution_count": 62,
     "metadata": {},
     "output_type": "execute_result"
    }
   ],
   "source": [
    "r[\"payload\"][0]"
   ]
  },
  {
   "cell_type": "markdown",
   "metadata": {},
   "source": [
    "# Bulk scraping\n",
    "\n",
    "At this point we have a full scraping process for a single price point, we now need to scrape all the points we want to"
   ]
  },
  {
   "cell_type": "code",
   "execution_count": 26,
   "metadata": {},
   "outputs": [
    {
     "data": {
      "text/plain": [
       "[{'from': 30, 'midpoint': 36, 'to': 42},\n",
       " {'from': 42, 'midpoint': 51, 'to': 60},\n",
       " {'from': 60, 'midpoint': 72, 'to': 85},\n",
       " {'from': 85, 'midpoint': 102, 'to': 119},\n",
       " {'from': 119, 'midpoint': 144, 'to': 169},\n",
       " {'from': 169, 'midpoint': 204, 'to': 238},\n",
       " {'from': 238, 'midpoint': 288, 'to': 337},\n",
       " {'from': 337, 'midpoint': 406, 'to': 475},\n",
       " {'from': 475, 'midpoint': 574, 'to': 672},\n",
       " {'from': 672, 'midpoint': 810, 'to': 949},\n",
       " {'from': 949, 'midpoint': 1144, 'to': 1340},\n",
       " {'from': 1340, 'midpoint': 1616, 'to': 1893},\n",
       " {'from': 1893, 'midpoint': 2284, 'to': 2674},\n",
       " {'from': 2674, 'midpoint': 3226, 'to': 3777},\n",
       " {'from': 3777, 'midpoint': 4556, 'to': 5335},\n",
       " {'from': 5335, 'midpoint': 6436, 'to': 7536},\n",
       " {'from': 7536, 'midpoint': 9090, 'to': 10644},\n",
       " {'from': 10644, 'midpoint': 12840, 'to': 15036},\n",
       " {'from': 15036, 'midpoint': 18137, 'to': 21238},\n",
       " {'from': 21238, 'midpoint': 25619, 'to': 30000}]"
      ]
     },
     "execution_count": 26,
     "metadata": {},
     "output_type": "execute_result"
    }
   ],
   "source": [
    "def calculate_bin_midpoints(min_value=30, max_value=30000, n_bins=20):\n",
    "    bins = [min_value * (max_value / min_value)**(i/n_bins) for i in range(n_bins + 1)]\n",
    "    bins = [round(b) for b in bins]\n",
    "\n",
    "    midpoints = []\n",
    "    for i in range(len(bins) - 1):\n",
    "        from_value = bins[i]\n",
    "        to_value = bins[i + 1]\n",
    "        midpoint = round((from_value + to_value) / 2)\n",
    "        midpoints.append({\"from\": from_value, \"midpoint\": midpoint, \"to\": to_value})\n",
    "\n",
    "    return midpoints\n",
    "\n",
    "# Example usage:\n",
    "bin_midpoints = calculate_bin_midpoints()\n",
    "bin_midpoints"
   ]
  },
  {
   "cell_type": "code",
   "execution_count": 28,
   "metadata": {},
   "outputs": [
    {
     "name": "stderr",
     "output_type": "stream",
     "text": [
      "Scraping quotes:   0%|          | 0/1020 [00:00<?, ?it/s]"
     ]
    },
    {
     "name": "stdout",
     "output_type": "stream",
     "text": [
      "200\n"
     ]
    },
    {
     "name": "stderr",
     "output_type": "stream",
     "text": [
      "Scraping quotes:   0%|          | 1/1020 [00:02<42:57,  2.53s/it]"
     ]
    },
    {
     "name": "stdout",
     "output_type": "stream",
     "text": [
      "200\n"
     ]
    },
    {
     "name": "stderr",
     "output_type": "stream",
     "text": [
      "Scraping quotes:   0%|          | 2/1020 [00:05<42:30,  2.51s/it]"
     ]
    },
    {
     "name": "stdout",
     "output_type": "stream",
     "text": [
      "200\n"
     ]
    },
    {
     "name": "stderr",
     "output_type": "stream",
     "text": [
      "Scraping quotes:   0%|          | 3/1020 [00:07<40:51,  2.41s/it]"
     ]
    },
    {
     "name": "stdout",
     "output_type": "stream",
     "text": [
      "200\n"
     ]
    },
    {
     "name": "stderr",
     "output_type": "stream",
     "text": [
      "Scraping quotes:   0%|          | 4/1020 [00:09<40:38,  2.40s/it]"
     ]
    },
    {
     "name": "stdout",
     "output_type": "stream",
     "text": [
      "200\n"
     ]
    },
    {
     "name": "stderr",
     "output_type": "stream",
     "text": [
      "Scraping quotes:   0%|          | 5/1020 [00:12<44:25,  2.63s/it]"
     ]
    },
    {
     "name": "stdout",
     "output_type": "stream",
     "text": [
      "200\n"
     ]
    },
    {
     "name": "stderr",
     "output_type": "stream",
     "text": [
      "Scraping quotes:   1%|          | 6/1020 [00:15<42:43,  2.53s/it]"
     ]
    },
    {
     "name": "stdout",
     "output_type": "stream",
     "text": [
      "200\n"
     ]
    },
    {
     "name": "stderr",
     "output_type": "stream",
     "text": [
      "Scraping quotes:   1%|          | 7/1020 [00:17<41:02,  2.43s/it]"
     ]
    },
    {
     "name": "stdout",
     "output_type": "stream",
     "text": [
      "200\n"
     ]
    },
    {
     "name": "stderr",
     "output_type": "stream",
     "text": [
      "Scraping quotes:   1%|          | 8/1020 [00:19<39:58,  2.37s/it]"
     ]
    },
    {
     "name": "stdout",
     "output_type": "stream",
     "text": [
      "200\n"
     ]
    },
    {
     "name": "stderr",
     "output_type": "stream",
     "text": [
      "Scraping quotes:   1%|          | 9/1020 [00:21<39:25,  2.34s/it]"
     ]
    },
    {
     "name": "stdout",
     "output_type": "stream",
     "text": [
      "200\n"
     ]
    },
    {
     "name": "stderr",
     "output_type": "stream",
     "text": [
      "Scraping quotes:   1%|          | 10/1020 [00:23<33:45,  2.01s/it]"
     ]
    },
    {
     "name": "stdout",
     "output_type": "stream",
     "text": [
      "200\n"
     ]
    },
    {
     "name": "stderr",
     "output_type": "stream",
     "text": [
      "Scraping quotes:   1%|          | 11/1020 [00:24<28:23,  1.69s/it]"
     ]
    },
    {
     "name": "stdout",
     "output_type": "stream",
     "text": [
      "200\n"
     ]
    },
    {
     "name": "stderr",
     "output_type": "stream",
     "text": [
      "Scraping quotes:   1%|          | 12/1020 [00:26<30:26,  1.81s/it]"
     ]
    },
    {
     "name": "stdout",
     "output_type": "stream",
     "text": [
      "\u001b[K\r"
     ]
    },
    {
     "name": "stderr",
     "output_type": "stream",
     "text": [
      "Scraping quotes:   1%|▏         | 13/1020 [00:27<29:10,  1.74s/it]"
     ]
    },
    {
     "name": "stdout",
     "output_type": "stream",
     "text": [
      "500\n",
      "Error scraping {'country': 'DE', 'region': 'de', 'crypto_name': 'Ethereum Mainnet', 'payment_name': 'PSE', 'regionId': '/regions/de', 'paymentMethodId': '/payments/pse', 'cryptoCurrencyId': '/currencies/crypto/1/0x0000000000000000000000000000000000000000', 'fiatCurrencyId': '/currencies/fiat/eur', 'amount': 36, 'request_time': datetime.datetime(2024, 8, 3, 10, 57, 23, 353468)}\n",
      "'success'\n",
      "\n",
      "500\n",
      "Error scraping {'country': 'DE', 'region': 'de', 'crypto_name': 'USDT (Ethereum)', 'payment_name': 'PSE', 'regionId': '/regions/de', 'paymentMethodId': '/payments/pse', 'cryptoCurrencyId': '/currencies/crypto/1/0xdac17f958d2ee523a2206206994597c13d831ec7', 'fiatCurrencyId': '/currencies/fiat/eur', 'amount': 36, 'request_time': datetime.datetime(2024, 8, 3, 10, 57, 24, 933506)}\n",
      "'success'\n",
      "\n"
     ]
    },
    {
     "name": "stderr",
     "output_type": "stream",
     "text": [
      "Scraping quotes:   1%|▏         | 14/1020 [00:28<25:13,  1.50s/it]"
     ]
    },
    {
     "name": "stdout",
     "output_type": "stream",
     "text": [
      "500\n",
      "Error scraping {'country': 'DE', 'region': 'de', 'crypto_name': 'USDT (BNB Chain)', 'payment_name': 'PSE', 'regionId': '/regions/de', 'paymentMethodId': '/payments/pse', 'cryptoCurrencyId': '/currencies/crypto/56/0x55d398326f99059ff775485246999027b3197955', 'fiatCurrencyId': '/currencies/fiat/eur', 'amount': 36, 'request_time': datetime.datetime(2024, 8, 3, 10, 57, 25, 899387)}\n",
      "'success'\n",
      "\n"
     ]
    },
    {
     "name": "stderr",
     "output_type": "stream",
     "text": [
      "Scraping quotes:   1%|▏         | 15/1020 [00:30<24:36,  1.47s/it]"
     ]
    },
    {
     "name": "stdout",
     "output_type": "stream",
     "text": [
      "200\n"
     ]
    },
    {
     "name": "stderr",
     "output_type": "stream",
     "text": [
      "Scraping quotes:   2%|▏         | 16/1020 [00:32<30:35,  1.83s/it]"
     ]
    },
    {
     "name": "stdout",
     "output_type": "stream",
     "text": [
      "200\n"
     ]
    },
    {
     "name": "stderr",
     "output_type": "stream",
     "text": [
      "Scraping quotes:   2%|▏         | 17/1020 [00:35<34:21,  2.06s/it]"
     ]
    },
    {
     "name": "stdout",
     "output_type": "stream",
     "text": [
      "200\n"
     ]
    },
    {
     "name": "stderr",
     "output_type": "stream",
     "text": [
      "Scraping quotes:   2%|▏         | 18/1020 [00:37<36:22,  2.18s/it]"
     ]
    },
    {
     "name": "stdout",
     "output_type": "stream",
     "text": [
      "200\n"
     ]
    },
    {
     "name": "stderr",
     "output_type": "stream",
     "text": [
      "Scraping quotes:   2%|▏         | 19/1020 [00:40<37:21,  2.24s/it]"
     ]
    },
    {
     "name": "stdout",
     "output_type": "stream",
     "text": [
      "200\n"
     ]
    },
    {
     "name": "stderr",
     "output_type": "stream",
     "text": [
      "Scraping quotes:   2%|▏         | 20/1020 [00:42<37:53,  2.27s/it]"
     ]
    },
    {
     "name": "stdout",
     "output_type": "stream",
     "text": [
      "200\n"
     ]
    },
    {
     "name": "stderr",
     "output_type": "stream",
     "text": [
      "Scraping quotes:   2%|▏         | 21/1020 [00:44<37:42,  2.26s/it]"
     ]
    },
    {
     "name": "stdout",
     "output_type": "stream",
     "text": [
      "200\n"
     ]
    },
    {
     "name": "stderr",
     "output_type": "stream",
     "text": [
      "Scraping quotes:   2%|▏         | 22/1020 [00:45<29:41,  1.79s/it]"
     ]
    },
    {
     "name": "stdout",
     "output_type": "stream",
     "text": [
      "200\n"
     ]
    },
    {
     "name": "stderr",
     "output_type": "stream",
     "text": [
      "Scraping quotes:   2%|▏         | 23/1020 [00:47<30:10,  1.82s/it]"
     ]
    },
    {
     "name": "stdout",
     "output_type": "stream",
     "text": [
      "200\n"
     ]
    },
    {
     "name": "stderr",
     "output_type": "stream",
     "text": [
      "Scraping quotes:   2%|▏         | 24/1020 [00:47<24:24,  1.47s/it]"
     ]
    },
    {
     "name": "stdout",
     "output_type": "stream",
     "text": [
      "200\n"
     ]
    },
    {
     "name": "stderr",
     "output_type": "stream",
     "text": [
      "Scraping quotes:   2%|▏         | 25/1020 [00:49<22:39,  1.37s/it]"
     ]
    },
    {
     "name": "stdout",
     "output_type": "stream",
     "text": [
      "200\n"
     ]
    },
    {
     "name": "stderr",
     "output_type": "stream",
     "text": [
      "Scraping quotes:   3%|▎         | 26/1020 [00:50<20:28,  1.24s/it]"
     ]
    },
    {
     "name": "stdout",
     "output_type": "stream",
     "text": [
      "\u001b[K\r"
     ]
    },
    {
     "name": "stderr",
     "output_type": "stream",
     "text": [
      "Scraping quotes:   3%|▎         | 27/1020 [00:50<17:07,  1.03s/it]"
     ]
    },
    {
     "name": "stdout",
     "output_type": "stream",
     "text": [
      "500\n",
      "Error scraping {'country': 'US', 'region': 'us-fl', 'crypto_name': 'USDT (BNB Chain)', 'payment_name': 'Instant ACH Bank Transfer', 'regionId': '/regions/us-fl', 'paymentMethodId': '/payments/instant-bank-transfer', 'cryptoCurrencyId': '/currencies/crypto/56/0x55d398326f99059ff775485246999027b3197955', 'fiatCurrencyId': '/currencies/fiat/usd', 'amount': 36, 'request_time': datetime.datetime(2024, 8, 3, 10, 57, 47, 238041)}\n",
      "'success'\n",
      "\n",
      "\u001b[K\r"
     ]
    },
    {
     "name": "stderr",
     "output_type": "stream",
     "text": [
      "Scraping quotes:   3%|▎         | 28/1020 [00:52<22:14,  1.35s/it]"
     ]
    },
    {
     "name": "stdout",
     "output_type": "stream",
     "text": [
      "500\n",
      "Error scraping {'country': 'US', 'region': 'us-fl', 'crypto_name': 'Ethereum Mainnet', 'payment_name': 'Wire Transfer', 'regionId': '/regions/us-fl', 'paymentMethodId': '/payments/wire-transfer', 'cryptoCurrencyId': '/currencies/crypto/1/0x0000000000000000000000000000000000000000', 'fiatCurrencyId': '/currencies/fiat/usd', 'amount': 36, 'request_time': datetime.datetime(2024, 8, 3, 10, 57, 47, 817182)}\n",
      "'success'\n",
      "\n",
      "\u001b[K\r"
     ]
    },
    {
     "name": "stderr",
     "output_type": "stream",
     "text": [
      "Scraping quotes:   3%|▎         | 29/1020 [00:53<19:46,  1.20s/it]"
     ]
    },
    {
     "name": "stdout",
     "output_type": "stream",
     "text": [
      "500\n",
      "Error scraping {'country': 'US', 'region': 'us-fl', 'crypto_name': 'USDT (Ethereum)', 'payment_name': 'Wire Transfer', 'regionId': '/regions/us-fl', 'paymentMethodId': '/payments/wire-transfer', 'cryptoCurrencyId': '/currencies/crypto/1/0xdac17f958d2ee523a2206206994597c13d831ec7', 'fiatCurrencyId': '/currencies/fiat/usd', 'amount': 36, 'request_time': datetime.datetime(2024, 8, 3, 10, 57, 49, 880009)}\n",
      "'success'\n",
      "\n",
      "500\n",
      "Error scraping {'country': 'US', 'region': 'us-fl', 'crypto_name': 'USDT (BNB Chain)', 'payment_name': 'Wire Transfer', 'regionId': '/regions/us-fl', 'paymentMethodId': '/payments/wire-transfer', 'cryptoCurrencyId': '/currencies/crypto/56/0x55d398326f99059ff775485246999027b3197955', 'fiatCurrencyId': '/currencies/fiat/usd', 'amount': 36, 'request_time': datetime.datetime(2024, 8, 3, 10, 57, 50, 726008)}\n",
      "'success'\n",
      "\n"
     ]
    },
    {
     "name": "stderr",
     "output_type": "stream",
     "text": [
      "Scraping quotes:   3%|▎         | 30/1020 [00:55<21:41,  1.32s/it]"
     ]
    },
    {
     "name": "stdout",
     "output_type": "stream",
     "text": [
      "200\n"
     ]
    },
    {
     "name": "stderr",
     "output_type": "stream",
     "text": [
      "Scraping quotes:   3%|▎         | 31/1020 [00:55<19:23,  1.18s/it]"
     ]
    },
    {
     "name": "stdout",
     "output_type": "stream",
     "text": [
      "200\n"
     ]
    },
    {
     "name": "stderr",
     "output_type": "stream",
     "text": [
      "Scraping quotes:   3%|▎         | 32/1020 [00:56<18:08,  1.10s/it]"
     ]
    },
    {
     "name": "stdout",
     "output_type": "stream",
     "text": [
      "200\n"
     ]
    },
    {
     "name": "stderr",
     "output_type": "stream",
     "text": [
      "Scraping quotes:   3%|▎         | 33/1020 [00:58<18:16,  1.11s/it]"
     ]
    },
    {
     "name": "stdout",
     "output_type": "stream",
     "text": [
      "\u001b[K\r"
     ]
    },
    {
     "name": "stderr",
     "output_type": "stream",
     "text": [
      "Scraping quotes:   3%|▎         | 34/1020 [00:59<18:04,  1.10s/it]"
     ]
    },
    {
     "name": "stdout",
     "output_type": "stream",
     "text": [
      "500\n",
      "Error scraping {'country': 'US', 'region': 'us-fl', 'crypto_name': 'Ethereum Mainnet', 'payment_name': 'PSE', 'regionId': '/regions/us-fl', 'paymentMethodId': '/payments/pse', 'cryptoCurrencyId': '/currencies/crypto/1/0x0000000000000000000000000000000000000000', 'fiatCurrencyId': '/currencies/fiat/usd', 'amount': 36, 'request_time': datetime.datetime(2024, 8, 3, 10, 57, 55, 229916)}\n",
      "'success'\n",
      "\n",
      "\u001b[K\r"
     ]
    },
    {
     "name": "stderr",
     "output_type": "stream",
     "text": [
      "Scraping quotes:   3%|▎         | 35/1020 [00:59<16:59,  1.04s/it]"
     ]
    },
    {
     "name": "stdout",
     "output_type": "stream",
     "text": [
      "500\n",
      "Error scraping {'country': 'US', 'region': 'us-fl', 'crypto_name': 'USDT (Ethereum)', 'payment_name': 'PSE', 'regionId': '/regions/us-fl', 'paymentMethodId': '/payments/pse', 'cryptoCurrencyId': '/currencies/crypto/1/0xdac17f958d2ee523a2206206994597c13d831ec7', 'fiatCurrencyId': '/currencies/fiat/usd', 'amount': 36, 'request_time': datetime.datetime(2024, 8, 3, 10, 57, 56, 305482)}\n",
      "'success'\n",
      "\n",
      "500\n",
      "Error scraping {'country': 'US', 'region': 'us-fl', 'crypto_name': 'USDT (BNB Chain)', 'payment_name': 'PSE', 'regionId': '/regions/us-fl', 'paymentMethodId': '/payments/pse', 'cryptoCurrencyId': '/currencies/crypto/56/0x55d398326f99059ff775485246999027b3197955', 'fiatCurrencyId': '/currencies/fiat/usd', 'amount': 36, 'request_time': datetime.datetime(2024, 8, 3, 10, 57, 57, 187472)}\n",
      "'success'\n",
      "\n"
     ]
    },
    {
     "name": "stderr",
     "output_type": "stream",
     "text": [
      "Scraping quotes:   4%|▎         | 36/1020 [01:01<17:05,  1.04s/it]"
     ]
    },
    {
     "name": "stdout",
     "output_type": "stream",
     "text": [
      "200\n"
     ]
    },
    {
     "name": "stderr",
     "output_type": "stream",
     "text": [
      "Scraping quotes:   4%|▎         | 37/1020 [01:02<18:07,  1.11s/it]"
     ]
    },
    {
     "name": "stdout",
     "output_type": "stream",
     "text": [
      "200\n"
     ]
    },
    {
     "name": "stderr",
     "output_type": "stream",
     "text": [
      "Scraping quotes:   4%|▎         | 38/1020 [01:03<18:24,  1.12s/it]"
     ]
    },
    {
     "name": "stdout",
     "output_type": "stream",
     "text": [
      "200\n"
     ]
    },
    {
     "name": "stderr",
     "output_type": "stream",
     "text": [
      "Scraping quotes:   4%|▍         | 39/1020 [01:04<18:44,  1.15s/it]"
     ]
    },
    {
     "name": "stdout",
     "output_type": "stream",
     "text": [
      "200\n"
     ]
    },
    {
     "name": "stderr",
     "output_type": "stream",
     "text": [
      "Scraping quotes:   4%|▍         | 40/1020 [01:06<24:04,  1.47s/it]"
     ]
    },
    {
     "name": "stdout",
     "output_type": "stream",
     "text": [
      "200\n"
     ]
    },
    {
     "name": "stderr",
     "output_type": "stream",
     "text": [
      "Scraping quotes:   4%|▍         | 41/1020 [01:08<25:48,  1.58s/it]"
     ]
    },
    {
     "name": "stdout",
     "output_type": "stream",
     "text": [
      "200\n"
     ]
    },
    {
     "name": "stderr",
     "output_type": "stream",
     "text": [
      "Scraping quotes:   4%|▍         | 42/1020 [01:09<24:02,  1.47s/it]"
     ]
    },
    {
     "name": "stdout",
     "output_type": "stream",
     "text": [
      "200\n"
     ]
    },
    {
     "name": "stderr",
     "output_type": "stream",
     "text": [
      "Scraping quotes:   4%|▍         | 43/1020 [01:11<22:29,  1.38s/it]"
     ]
    },
    {
     "name": "stdout",
     "output_type": "stream",
     "text": [
      "200\n"
     ]
    },
    {
     "name": "stderr",
     "output_type": "stream",
     "text": [
      "Scraping quotes:   4%|▍         | 44/1020 [01:12<21:56,  1.35s/it]"
     ]
    },
    {
     "name": "stdout",
     "output_type": "stream",
     "text": [
      "200\n"
     ]
    },
    {
     "name": "stderr",
     "output_type": "stream",
     "text": [
      "Scraping quotes:   4%|▍         | 45/1020 [01:14<23:36,  1.45s/it]"
     ]
    },
    {
     "name": "stdout",
     "output_type": "stream",
     "text": [
      "200\n"
     ]
    },
    {
     "name": "stderr",
     "output_type": "stream",
     "text": [
      "Scraping quotes:   5%|▍         | 46/1020 [01:15<23:30,  1.45s/it]"
     ]
    },
    {
     "name": "stdout",
     "output_type": "stream",
     "text": [
      "200\n"
     ]
    },
    {
     "name": "stderr",
     "output_type": "stream",
     "text": [
      "Scraping quotes:   5%|▍         | 47/1020 [01:16<22:48,  1.41s/it]"
     ]
    },
    {
     "name": "stdout",
     "output_type": "stream",
     "text": [
      "200\n"
     ]
    },
    {
     "name": "stderr",
     "output_type": "stream",
     "text": [
      "Scraping quotes:   5%|▍         | 48/1020 [01:17<21:39,  1.34s/it]"
     ]
    },
    {
     "name": "stdout",
     "output_type": "stream",
     "text": [
      "\u001b[K\r"
     ]
    },
    {
     "name": "stderr",
     "output_type": "stream",
     "text": [
      "Scraping quotes:   5%|▍         | 49/1020 [01:18<19:15,  1.19s/it]"
     ]
    },
    {
     "name": "stdout",
     "output_type": "stream",
     "text": [
      "500\n",
      "Error scraping {'country': 'UK', 'region': 'gb', 'crypto_name': 'Ethereum Mainnet', 'payment_name': 'PSE', 'regionId': '/regions/gb', 'paymentMethodId': '/payments/pse', 'cryptoCurrencyId': '/currencies/crypto/1/0x0000000000000000000000000000000000000000', 'fiatCurrencyId': '/currencies/fiat/gbp', 'amount': 36, 'request_time': datetime.datetime(2024, 8, 3, 10, 58, 15, 218557)}\n",
      "'success'\n",
      "\n",
      "500\n",
      "Error scraping {'country': 'UK', 'region': 'gb', 'crypto_name': 'USDT (Ethereum)', 'payment_name': 'PSE', 'regionId': '/regions/gb', 'paymentMethodId': '/payments/pse', 'cryptoCurrencyId': '/currencies/crypto/1/0xdac17f958d2ee523a2206206994597c13d831ec7', 'fiatCurrencyId': '/currencies/fiat/gbp', 'amount': 36, 'request_time': datetime.datetime(2024, 8, 3, 10, 58, 16, 62956)}\n",
      "'success'\n",
      "\n"
     ]
    },
    {
     "name": "stderr",
     "output_type": "stream",
     "text": [
      "Scraping quotes:   5%|▍         | 50/1020 [01:19<17:57,  1.11s/it]"
     ]
    },
    {
     "name": "stdout",
     "output_type": "stream",
     "text": [
      "\u001b[K\r"
     ]
    },
    {
     "name": "stderr",
     "output_type": "stream",
     "text": [
      "Scraping quotes:   5%|▌         | 51/1020 [01:20<18:05,  1.12s/it]"
     ]
    },
    {
     "name": "stdout",
     "output_type": "stream",
     "text": [
      "500\n",
      "Error scraping {'country': 'UK', 'region': 'gb', 'crypto_name': 'USDT (BNB Chain)', 'payment_name': 'PSE', 'regionId': '/regions/gb', 'paymentMethodId': '/payments/pse', 'cryptoCurrencyId': '/currencies/crypto/56/0x55d398326f99059ff775485246999027b3197955', 'fiatCurrencyId': '/currencies/fiat/gbp', 'amount': 36, 'request_time': datetime.datetime(2024, 8, 3, 10, 58, 16, 991668)}\n",
      "'success'\n",
      "\n",
      "200\n"
     ]
    },
    {
     "name": "stderr",
     "output_type": "stream",
     "text": [
      "Scraping quotes:   5%|▌         | 52/1020 [01:23<27:00,  1.67s/it]"
     ]
    },
    {
     "name": "stdout",
     "output_type": "stream",
     "text": [
      "200\n"
     ]
    },
    {
     "name": "stderr",
     "output_type": "stream",
     "text": [
      "Scraping quotes:   5%|▌         | 53/1020 [01:26<31:19,  1.94s/it]"
     ]
    },
    {
     "name": "stdout",
     "output_type": "stream",
     "text": [
      "200\n"
     ]
    },
    {
     "name": "stderr",
     "output_type": "stream",
     "text": [
      "Scraping quotes:   5%|▌         | 54/1020 [01:28<30:33,  1.90s/it]"
     ]
    },
    {
     "name": "stdout",
     "output_type": "stream",
     "text": [
      "200\n"
     ]
    },
    {
     "name": "stderr",
     "output_type": "stream",
     "text": [
      "Scraping quotes:   5%|▌         | 55/1020 [01:30<33:31,  2.08s/it]"
     ]
    },
    {
     "name": "stdout",
     "output_type": "stream",
     "text": [
      "200\n"
     ]
    },
    {
     "name": "stderr",
     "output_type": "stream",
     "text": [
      "Scraping quotes:   5%|▌         | 56/1020 [01:34<39:56,  2.49s/it]"
     ]
    },
    {
     "name": "stdout",
     "output_type": "stream",
     "text": [
      "200\n"
     ]
    },
    {
     "name": "stderr",
     "output_type": "stream",
     "text": [
      "Scraping quotes:   6%|▌         | 57/1020 [01:36<38:43,  2.41s/it]"
     ]
    },
    {
     "name": "stdout",
     "output_type": "stream",
     "text": [
      "200\n"
     ]
    },
    {
     "name": "stderr",
     "output_type": "stream",
     "text": [
      "Scraping quotes:   6%|▌         | 58/1020 [01:39<40:05,  2.50s/it]"
     ]
    },
    {
     "name": "stdout",
     "output_type": "stream",
     "text": [
      "200\n"
     ]
    },
    {
     "name": "stderr",
     "output_type": "stream",
     "text": [
      "Scraping quotes:   6%|▌         | 59/1020 [01:42<43:23,  2.71s/it]"
     ]
    },
    {
     "name": "stdout",
     "output_type": "stream",
     "text": [
      "200\n"
     ]
    },
    {
     "name": "stderr",
     "output_type": "stream",
     "text": [
      "Scraping quotes:   6%|▌         | 60/1020 [01:44<41:14,  2.58s/it]"
     ]
    },
    {
     "name": "stdout",
     "output_type": "stream",
     "text": [
      "200\n"
     ]
    },
    {
     "name": "stderr",
     "output_type": "stream",
     "text": [
      "Scraping quotes:   6%|▌         | 61/1020 [01:45<35:15,  2.21s/it]"
     ]
    },
    {
     "name": "stdout",
     "output_type": "stream",
     "text": [
      "200\n"
     ]
    },
    {
     "name": "stderr",
     "output_type": "stream",
     "text": [
      "Scraping quotes:   6%|▌         | 62/1020 [01:48<34:35,  2.17s/it]"
     ]
    },
    {
     "name": "stdout",
     "output_type": "stream",
     "text": [
      "200\n"
     ]
    },
    {
     "name": "stderr",
     "output_type": "stream",
     "text": [
      "Scraping quotes:   6%|▌         | 63/1020 [01:49<33:22,  2.09s/it]"
     ]
    },
    {
     "name": "stdout",
     "output_type": "stream",
     "text": [
      "500\n",
      "Error scraping {'country': 'DE', 'region': 'de', 'crypto_name': 'Ethereum Mainnet', 'payment_name': 'PSE', 'regionId': '/regions/de', 'paymentMethodId': '/payments/pse', 'cryptoCurrencyId': '/currencies/crypto/1/0x0000000000000000000000000000000000000000', 'fiatCurrencyId': '/currencies/fiat/eur', 'amount': 51, 'request_time': datetime.datetime(2024, 8, 3, 10, 58, 47, 148942)}\n",
      "'success'\n",
      "\n"
     ]
    },
    {
     "name": "stderr",
     "output_type": "stream",
     "text": [
      "Scraping quotes:   6%|▋         | 64/1020 [01:51<28:30,  1.79s/it]"
     ]
    },
    {
     "name": "stdout",
     "output_type": "stream",
     "text": [
      "\u001b[K\r"
     ]
    },
    {
     "name": "stderr",
     "output_type": "stream",
     "text": [
      "Scraping quotes:   6%|▋         | 65/1020 [01:52<27:22,  1.72s/it]"
     ]
    },
    {
     "name": "stdout",
     "output_type": "stream",
     "text": [
      "500\n",
      "Error scraping {'country': 'DE', 'region': 'de', 'crypto_name': 'USDT (Ethereum)', 'payment_name': 'PSE', 'regionId': '/regions/de', 'paymentMethodId': '/payments/pse', 'cryptoCurrencyId': '/currencies/crypto/1/0xdac17f958d2ee523a2206206994597c13d831ec7', 'fiatCurrencyId': '/currencies/fiat/eur', 'amount': 51, 'request_time': datetime.datetime(2024, 8, 3, 10, 58, 48, 236073)}\n",
      "'success'\n",
      "\n",
      "\u001b[K\r"
     ]
    },
    {
     "name": "stderr",
     "output_type": "stream",
     "text": [
      "Scraping quotes:   6%|▋         | 66/1020 [01:53<24:19,  1.53s/it]"
     ]
    },
    {
     "name": "stdout",
     "output_type": "stream",
     "text": [
      "500\n",
      "Error scraping {'country': 'DE', 'region': 'de', 'crypto_name': 'USDT (BNB Chain)', 'payment_name': 'PSE', 'regionId': '/regions/de', 'paymentMethodId': '/payments/pse', 'cryptoCurrencyId': '/currencies/crypto/56/0x55d398326f99059ff775485246999027b3197955', 'fiatCurrencyId': '/currencies/fiat/eur', 'amount': 51, 'request_time': datetime.datetime(2024, 8, 3, 10, 58, 49, 789298)}\n",
      "'success'\n",
      "\n",
      "200\n"
     ]
    },
    {
     "name": "stderr",
     "output_type": "stream",
     "text": [
      "Scraping quotes:   7%|▋         | 67/1020 [01:56<28:58,  1.82s/it]"
     ]
    },
    {
     "name": "stdout",
     "output_type": "stream",
     "text": [
      "200\n"
     ]
    },
    {
     "name": "stderr",
     "output_type": "stream",
     "text": [
      "Scraping quotes:   7%|▋         | 68/1020 [01:58<30:59,  1.95s/it]"
     ]
    },
    {
     "name": "stdout",
     "output_type": "stream",
     "text": [
      "200\n"
     ]
    },
    {
     "name": "stderr",
     "output_type": "stream",
     "text": [
      "Scraping quotes:   7%|▋         | 69/1020 [02:00<32:50,  2.07s/it]"
     ]
    },
    {
     "name": "stdout",
     "output_type": "stream",
     "text": [
      "200\n"
     ]
    },
    {
     "name": "stderr",
     "output_type": "stream",
     "text": [
      "Scraping quotes:   7%|▋         | 70/1020 [02:03<36:09,  2.28s/it]"
     ]
    },
    {
     "name": "stdout",
     "output_type": "stream",
     "text": [
      "200\n"
     ]
    },
    {
     "name": "stderr",
     "output_type": "stream",
     "text": [
      "Scraping quotes:   7%|▋         | 71/1020 [02:05<36:36,  2.31s/it]"
     ]
    },
    {
     "name": "stdout",
     "output_type": "stream",
     "text": [
      "200\n"
     ]
    },
    {
     "name": "stderr",
     "output_type": "stream",
     "text": [
      "Scraping quotes:   7%|▋         | 72/1020 [02:08<36:05,  2.28s/it]"
     ]
    },
    {
     "name": "stdout",
     "output_type": "stream",
     "text": [
      "200\n"
     ]
    },
    {
     "name": "stderr",
     "output_type": "stream",
     "text": [
      "Scraping quotes:   7%|▋         | 73/1020 [02:08<28:40,  1.82s/it]"
     ]
    },
    {
     "name": "stdout",
     "output_type": "stream",
     "text": [
      "200\n"
     ]
    },
    {
     "name": "stderr",
     "output_type": "stream",
     "text": [
      "Scraping quotes:   7%|▋         | 74/1020 [02:09<23:57,  1.52s/it]"
     ]
    },
    {
     "name": "stdout",
     "output_type": "stream",
     "text": [
      "200\n"
     ]
    },
    {
     "name": "stderr",
     "output_type": "stream",
     "text": [
      "Scraping quotes:   7%|▋         | 75/1020 [02:10<20:00,  1.27s/it]"
     ]
    },
    {
     "name": "stdout",
     "output_type": "stream",
     "text": [
      "200\n"
     ]
    },
    {
     "name": "stderr",
     "output_type": "stream",
     "text": [
      "Scraping quotes:   7%|▋         | 76/1020 [02:11<17:53,  1.14s/it]"
     ]
    },
    {
     "name": "stdout",
     "output_type": "stream",
     "text": [
      "200\n"
     ]
    },
    {
     "name": "stderr",
     "output_type": "stream",
     "text": [
      "Scraping quotes:   8%|▊         | 77/1020 [02:12<17:53,  1.14s/it]"
     ]
    },
    {
     "name": "stdout",
     "output_type": "stream",
     "text": [
      "500\n",
      "Error scraping {'country': 'US', 'region': 'us-fl', 'crypto_name': 'USDT (BNB Chain)', 'payment_name': 'Instant ACH Bank Transfer', 'regionId': '/regions/us-fl', 'paymentMethodId': '/payments/instant-bank-transfer', 'cryptoCurrencyId': '/currencies/crypto/56/0x55d398326f99059ff775485246999027b3197955', 'fiatCurrencyId': '/currencies/fiat/usd', 'amount': 51, 'request_time': datetime.datetime(2024, 8, 3, 10, 59, 9, 580433)}\n",
      "'success'\n",
      "\n"
     ]
    },
    {
     "name": "stderr",
     "output_type": "stream",
     "text": [
      "Scraping quotes:   8%|▊         | 78/1020 [02:12<15:09,  1.04it/s]"
     ]
    },
    {
     "name": "stdout",
     "output_type": "stream",
     "text": [
      "\u001b[K\r"
     ]
    },
    {
     "name": "stderr",
     "output_type": "stream",
     "text": [
      "Scraping quotes:   8%|▊         | 79/1020 [02:13<14:16,  1.10it/s]"
     ]
    },
    {
     "name": "stdout",
     "output_type": "stream",
     "text": [
      "500\n",
      "Error scraping {'country': 'US', 'region': 'us-fl', 'crypto_name': 'Ethereum Mainnet', 'payment_name': 'Wire Transfer', 'regionId': '/regions/us-fl', 'paymentMethodId': '/payments/wire-transfer', 'cryptoCurrencyId': '/currencies/crypto/1/0x0000000000000000000000000000000000000000', 'fiatCurrencyId': '/currencies/fiat/usd', 'amount': 51, 'request_time': datetime.datetime(2024, 8, 3, 10, 59, 10, 140514)}\n",
      "'success'\n",
      "\n",
      "\u001b[K\r"
     ]
    },
    {
     "name": "stderr",
     "output_type": "stream",
     "text": [
      "Scraping quotes:   8%|▊         | 80/1020 [02:14<12:38,  1.24it/s]"
     ]
    },
    {
     "name": "stdout",
     "output_type": "stream",
     "text": [
      "500\n",
      "Error scraping {'country': 'US', 'region': 'us-fl', 'crypto_name': 'USDT (Ethereum)', 'payment_name': 'Wire Transfer', 'regionId': '/regions/us-fl', 'paymentMethodId': '/payments/wire-transfer', 'cryptoCurrencyId': '/currencies/crypto/1/0xdac17f958d2ee523a2206206994597c13d831ec7', 'fiatCurrencyId': '/currencies/fiat/usd', 'amount': 51, 'request_time': datetime.datetime(2024, 8, 3, 10, 59, 10, 921595)}\n",
      "'success'\n",
      "\n",
      "\u001b[K\r"
     ]
    },
    {
     "name": "stderr",
     "output_type": "stream",
     "text": [
      "Scraping quotes:   8%|▊         | 81/1020 [02:15<16:35,  1.06s/it]"
     ]
    },
    {
     "name": "stdout",
     "output_type": "stream",
     "text": [
      "500\n",
      "Error scraping {'country': 'US', 'region': 'us-fl', 'crypto_name': 'USDT (BNB Chain)', 'payment_name': 'Wire Transfer', 'regionId': '/regions/us-fl', 'paymentMethodId': '/payments/wire-transfer', 'cryptoCurrencyId': '/currencies/crypto/56/0x55d398326f99059ff775485246999027b3197955', 'fiatCurrencyId': '/currencies/fiat/usd', 'amount': 51, 'request_time': datetime.datetime(2024, 8, 3, 10, 59, 11, 485355)}\n",
      "'success'\n",
      "\n",
      "200\n"
     ]
    },
    {
     "name": "stderr",
     "output_type": "stream",
     "text": [
      "Scraping quotes:   8%|▊         | 82/1020 [02:16<14:48,  1.06it/s]"
     ]
    },
    {
     "name": "stdout",
     "output_type": "stream",
     "text": [
      "200\n"
     ]
    },
    {
     "name": "stderr",
     "output_type": "stream",
     "text": [
      "Scraping quotes:   8%|▊         | 83/1020 [02:17<14:43,  1.06it/s]"
     ]
    },
    {
     "name": "stdout",
     "output_type": "stream",
     "text": [
      "200\n"
     ]
    },
    {
     "name": "stderr",
     "output_type": "stream",
     "text": [
      "Scraping quotes:   8%|▊         | 84/1020 [02:19<18:13,  1.17s/it]"
     ]
    },
    {
     "name": "stdout",
     "output_type": "stream",
     "text": [
      "500\n",
      "Error scraping {'country': 'US', 'region': 'us-fl', 'crypto_name': 'Ethereum Mainnet', 'payment_name': 'PSE', 'regionId': '/regions/us-fl', 'paymentMethodId': '/payments/pse', 'cryptoCurrencyId': '/currencies/crypto/1/0x0000000000000000000000000000000000000000', 'fiatCurrencyId': '/currencies/fiat/usd', 'amount': 51, 'request_time': datetime.datetime(2024, 8, 3, 10, 59, 16, 450841)}\n",
      "'success'\n",
      "\n"
     ]
    },
    {
     "name": "stderr",
     "output_type": "stream",
     "text": [
      "Scraping quotes:   8%|▊         | 85/1020 [02:20<19:43,  1.27s/it]"
     ]
    },
    {
     "name": "stdout",
     "output_type": "stream",
     "text": [
      "\u001b[K\r"
     ]
    },
    {
     "name": "stderr",
     "output_type": "stream",
     "text": [
      "Scraping quotes:   8%|▊         | 86/1020 [02:21<18:29,  1.19s/it]"
     ]
    },
    {
     "name": "stdout",
     "output_type": "stream",
     "text": [
      "500\n",
      "Error scraping {'country': 'US', 'region': 'us-fl', 'crypto_name': 'USDT (Ethereum)', 'payment_name': 'PSE', 'regionId': '/regions/us-fl', 'paymentMethodId': '/payments/pse', 'cryptoCurrencyId': '/currencies/crypto/1/0xdac17f958d2ee523a2206206994597c13d831ec7', 'fiatCurrencyId': '/currencies/fiat/usd', 'amount': 51, 'request_time': datetime.datetime(2024, 8, 3, 10, 59, 17, 949998)}\n",
      "'success'\n",
      "\n",
      "\u001b[K\r"
     ]
    },
    {
     "name": "stderr",
     "output_type": "stream",
     "text": [
      "Scraping quotes:   9%|▊         | 87/1020 [02:22<17:49,  1.15s/it]"
     ]
    },
    {
     "name": "stdout",
     "output_type": "stream",
     "text": [
      "500\n",
      "Error scraping {'country': 'US', 'region': 'us-fl', 'crypto_name': 'USDT (BNB Chain)', 'payment_name': 'PSE', 'regionId': '/regions/us-fl', 'paymentMethodId': '/payments/pse', 'cryptoCurrencyId': '/currencies/crypto/56/0x55d398326f99059ff775485246999027b3197955', 'fiatCurrencyId': '/currencies/fiat/usd', 'amount': 51, 'request_time': datetime.datetime(2024, 8, 3, 10, 59, 18, 957291)}\n",
      "'success'\n",
      "\n",
      "200\n"
     ]
    },
    {
     "name": "stderr",
     "output_type": "stream",
     "text": [
      "Scraping quotes:   9%|▊         | 88/1020 [02:24<21:29,  1.38s/it]"
     ]
    },
    {
     "name": "stdout",
     "output_type": "stream",
     "text": [
      "200\n"
     ]
    },
    {
     "name": "stderr",
     "output_type": "stream",
     "text": [
      "Scraping quotes:   9%|▊         | 89/1020 [02:25<20:22,  1.31s/it]"
     ]
    },
    {
     "name": "stdout",
     "output_type": "stream",
     "text": [
      "200\n"
     ]
    },
    {
     "name": "stderr",
     "output_type": "stream",
     "text": [
      "Scraping quotes:   9%|▉         | 90/1020 [02:27<20:06,  1.30s/it]"
     ]
    },
    {
     "name": "stdout",
     "output_type": "stream",
     "text": [
      "200\n"
     ]
    },
    {
     "name": "stderr",
     "output_type": "stream",
     "text": [
      "Scraping quotes:   9%|▉         | 91/1020 [02:28<19:48,  1.28s/it]"
     ]
    },
    {
     "name": "stdout",
     "output_type": "stream",
     "text": [
      "200\n"
     ]
    },
    {
     "name": "stderr",
     "output_type": "stream",
     "text": [
      "Scraping quotes:   9%|▉         | 92/1020 [02:29<20:23,  1.32s/it]"
     ]
    },
    {
     "name": "stdout",
     "output_type": "stream",
     "text": [
      "200\n"
     ]
    },
    {
     "name": "stderr",
     "output_type": "stream",
     "text": [
      "Scraping quotes:   9%|▉         | 93/1020 [02:31<20:43,  1.34s/it]"
     ]
    },
    {
     "name": "stdout",
     "output_type": "stream",
     "text": [
      "200\n"
     ]
    },
    {
     "name": "stderr",
     "output_type": "stream",
     "text": [
      "Scraping quotes:   9%|▉         | 94/1020 [02:32<20:05,  1.30s/it]"
     ]
    },
    {
     "name": "stdout",
     "output_type": "stream",
     "text": [
      "200\n"
     ]
    },
    {
     "name": "stderr",
     "output_type": "stream",
     "text": [
      "Scraping quotes:   9%|▉         | 95/1020 [02:34<21:54,  1.42s/it]"
     ]
    },
    {
     "name": "stdout",
     "output_type": "stream",
     "text": [
      "200\n"
     ]
    },
    {
     "name": "stderr",
     "output_type": "stream",
     "text": [
      "Scraping quotes:   9%|▉         | 96/1020 [02:35<22:28,  1.46s/it]"
     ]
    },
    {
     "name": "stdout",
     "output_type": "stream",
     "text": [
      "200\n"
     ]
    },
    {
     "name": "stderr",
     "output_type": "stream",
     "text": [
      "Scraping quotes:  10%|▉         | 97/1020 [02:37<22:09,  1.44s/it]"
     ]
    },
    {
     "name": "stdout",
     "output_type": "stream",
     "text": [
      "200\n"
     ]
    },
    {
     "name": "stderr",
     "output_type": "stream",
     "text": [
      "Scraping quotes:  10%|▉         | 98/1020 [02:38<23:00,  1.50s/it]"
     ]
    },
    {
     "name": "stdout",
     "output_type": "stream",
     "text": [
      "200\n"
     ]
    },
    {
     "name": "stderr",
     "output_type": "stream",
     "text": [
      "Scraping quotes:  10%|▉         | 99/1020 [02:39<21:25,  1.40s/it]"
     ]
    },
    {
     "name": "stdout",
     "output_type": "stream",
     "text": [
      "500\n",
      "Error scraping {'country': 'UK', 'region': 'gb', 'crypto_name': 'Ethereum Mainnet', 'payment_name': 'PSE', 'regionId': '/regions/gb', 'paymentMethodId': '/payments/pse', 'cryptoCurrencyId': '/currencies/crypto/1/0x0000000000000000000000000000000000000000', 'fiatCurrencyId': '/currencies/fiat/gbp', 'amount': 51, 'request_time': datetime.datetime(2024, 8, 3, 10, 59, 37, 122306)}\n",
      "'success'\n",
      "\n"
     ]
    },
    {
     "name": "stderr",
     "output_type": "stream",
     "text": [
      "Scraping quotes:  10%|▉         | 100/1020 [02:40<20:28,  1.34s/it]"
     ]
    },
    {
     "name": "stdout",
     "output_type": "stream",
     "text": [
      "\u001b[K\r"
     ]
    },
    {
     "name": "stderr",
     "output_type": "stream",
     "text": [
      "Scraping quotes:  10%|▉         | 101/1020 [02:42<19:48,  1.29s/it]"
     ]
    },
    {
     "name": "stdout",
     "output_type": "stream",
     "text": [
      "500\n",
      "Error scraping {'country': 'UK', 'region': 'gb', 'crypto_name': 'USDT (Ethereum)', 'payment_name': 'PSE', 'regionId': '/regions/gb', 'paymentMethodId': '/payments/pse', 'cryptoCurrencyId': '/currencies/crypto/1/0xdac17f958d2ee523a2206206994597c13d831ec7', 'fiatCurrencyId': '/currencies/fiat/gbp', 'amount': 51, 'request_time': datetime.datetime(2024, 8, 3, 10, 59, 38, 227686)}\n",
      "'success'\n",
      "\n",
      "500\n",
      "Error scraping {'country': 'UK', 'region': 'gb', 'crypto_name': 'USDT (BNB Chain)', 'payment_name': 'PSE', 'regionId': '/regions/gb', 'paymentMethodId': '/payments/pse', 'cryptoCurrencyId': '/currencies/crypto/56/0x55d398326f99059ff775485246999027b3197955', 'fiatCurrencyId': '/currencies/fiat/gbp', 'amount': 51, 'request_time': datetime.datetime(2024, 8, 3, 10, 59, 39, 419416)}\n",
      "'success'\n",
      "\n"
     ]
    },
    {
     "name": "stderr",
     "output_type": "stream",
     "text": [
      "Scraping quotes:  10%|█         | 102/1020 [02:43<18:17,  1.20s/it]"
     ]
    },
    {
     "name": "stdout",
     "output_type": "stream",
     "text": [
      "200\n"
     ]
    },
    {
     "name": "stderr",
     "output_type": "stream",
     "text": [
      "Scraping quotes:  10%|█         | 103/1020 [02:45<25:05,  1.64s/it]"
     ]
    },
    {
     "name": "stdout",
     "output_type": "stream",
     "text": [
      "200\n"
     ]
    },
    {
     "name": "stderr",
     "output_type": "stream",
     "text": [
      "Scraping quotes:  10%|█         | 104/1020 [02:48<29:41,  1.95s/it]"
     ]
    },
    {
     "name": "stdout",
     "output_type": "stream",
     "text": [
      "200\n"
     ]
    },
    {
     "name": "stderr",
     "output_type": "stream",
     "text": [
      "Scraping quotes:  10%|█         | 105/1020 [02:51<33:20,  2.19s/it]"
     ]
    },
    {
     "name": "stdout",
     "output_type": "stream",
     "text": [
      "200\n"
     ]
    },
    {
     "name": "stderr",
     "output_type": "stream",
     "text": [
      "Scraping quotes:  10%|█         | 106/1020 [02:53<33:44,  2.22s/it]"
     ]
    },
    {
     "name": "stdout",
     "output_type": "stream",
     "text": [
      "200\n"
     ]
    },
    {
     "name": "stderr",
     "output_type": "stream",
     "text": [
      "Scraping quotes:  10%|█         | 107/1020 [02:56<35:18,  2.32s/it]"
     ]
    },
    {
     "name": "stdout",
     "output_type": "stream",
     "text": [
      "200\n"
     ]
    },
    {
     "name": "stderr",
     "output_type": "stream",
     "text": [
      "Scraping quotes:  11%|█         | 108/1020 [02:59<40:59,  2.70s/it]"
     ]
    },
    {
     "name": "stdout",
     "output_type": "stream",
     "text": [
      "200\n"
     ]
    },
    {
     "name": "stderr",
     "output_type": "stream",
     "text": [
      "Scraping quotes:  11%|█         | 109/1020 [03:02<41:09,  2.71s/it]"
     ]
    },
    {
     "name": "stdout",
     "output_type": "stream",
     "text": [
      "200\n"
     ]
    },
    {
     "name": "stderr",
     "output_type": "stream",
     "text": [
      "Scraping quotes:  11%|█         | 110/1020 [03:05<44:07,  2.91s/it]"
     ]
    },
    {
     "name": "stdout",
     "output_type": "stream",
     "text": [
      "200\n"
     ]
    },
    {
     "name": "stderr",
     "output_type": "stream",
     "text": [
      "Scraping quotes:  11%|█         | 111/1020 [03:08<41:09,  2.72s/it]"
     ]
    },
    {
     "name": "stdout",
     "output_type": "stream",
     "text": [
      "200\n"
     ]
    },
    {
     "name": "stderr",
     "output_type": "stream",
     "text": [
      "Scraping quotes:  11%|█         | 112/1020 [03:09<35:17,  2.33s/it]"
     ]
    },
    {
     "name": "stdout",
     "output_type": "stream",
     "text": [
      "200\n"
     ]
    },
    {
     "name": "stderr",
     "output_type": "stream",
     "text": [
      "Scraping quotes:  11%|█         | 113/1020 [03:10<30:31,  2.02s/it]"
     ]
    },
    {
     "name": "stdout",
     "output_type": "stream",
     "text": [
      "200\n"
     ]
    },
    {
     "name": "stderr",
     "output_type": "stream",
     "text": [
      "Scraping quotes:  11%|█         | 114/1020 [03:12<28:26,  1.88s/it]"
     ]
    },
    {
     "name": "stdout",
     "output_type": "stream",
     "text": [
      "500\n",
      "Error scraping {'country': 'DE', 'region': 'de', 'crypto_name': 'Ethereum Mainnet', 'payment_name': 'PSE', 'regionId': '/regions/de', 'paymentMethodId': '/payments/pse', 'cryptoCurrencyId': '/currencies/crypto/1/0x0000000000000000000000000000000000000000', 'fiatCurrencyId': '/currencies/fiat/eur', 'amount': 72, 'request_time': datetime.datetime(2024, 8, 3, 11, 0, 9, 573116)}\n",
      "'success'\n",
      "\n"
     ]
    },
    {
     "name": "stderr",
     "output_type": "stream",
     "text": [
      "Scraping quotes:  11%|█▏        | 115/1020 [03:13<25:42,  1.70s/it]"
     ]
    },
    {
     "name": "stdout",
     "output_type": "stream",
     "text": [
      "\u001b[K\r"
     ]
    },
    {
     "name": "stderr",
     "output_type": "stream",
     "text": [
      "Scraping quotes:  11%|█▏        | 116/1020 [03:14<24:00,  1.59s/it]"
     ]
    },
    {
     "name": "stdout",
     "output_type": "stream",
     "text": [
      "500\n",
      "Error scraping {'country': 'DE', 'region': 'de', 'crypto_name': 'USDT (Ethereum)', 'payment_name': 'PSE', 'regionId': '/regions/de', 'paymentMethodId': '/payments/pse', 'cryptoCurrencyId': '/currencies/crypto/1/0xdac17f958d2ee523a2206206994597c13d831ec7', 'fiatCurrencyId': '/currencies/fiat/eur', 'amount': 72, 'request_time': datetime.datetime(2024, 8, 3, 11, 0, 10, 858211)}\n",
      "'success'\n",
      "\n",
      "\u001b[K\r"
     ]
    },
    {
     "name": "stderr",
     "output_type": "stream",
     "text": [
      "Scraping quotes:  11%|█▏        | 117/1020 [03:15<20:55,  1.39s/it]"
     ]
    },
    {
     "name": "stdout",
     "output_type": "stream",
     "text": [
      "500\n",
      "Error scraping {'country': 'DE', 'region': 'de', 'crypto_name': 'USDT (BNB Chain)', 'payment_name': 'PSE', 'regionId': '/regions/de', 'paymentMethodId': '/payments/pse', 'cryptoCurrencyId': '/currencies/crypto/56/0x55d398326f99059ff775485246999027b3197955', 'fiatCurrencyId': '/currencies/fiat/eur', 'amount': 72, 'request_time': datetime.datetime(2024, 8, 3, 11, 0, 12, 189995)}\n",
      "'success'\n",
      "\n",
      "200\n"
     ]
    },
    {
     "name": "stderr",
     "output_type": "stream",
     "text": [
      "Scraping quotes:  12%|█▏        | 118/1020 [03:18<26:54,  1.79s/it]"
     ]
    },
    {
     "name": "stdout",
     "output_type": "stream",
     "text": [
      "200\n"
     ]
    },
    {
     "name": "stderr",
     "output_type": "stream",
     "text": [
      "Scraping quotes:  12%|█▏        | 119/1020 [03:20<28:42,  1.91s/it]"
     ]
    },
    {
     "name": "stdout",
     "output_type": "stream",
     "text": [
      "200\n"
     ]
    },
    {
     "name": "stderr",
     "output_type": "stream",
     "text": [
      "Scraping quotes:  12%|█▏        | 120/1020 [03:23<30:20,  2.02s/it]"
     ]
    },
    {
     "name": "stdout",
     "output_type": "stream",
     "text": [
      "200\n"
     ]
    },
    {
     "name": "stderr",
     "output_type": "stream",
     "text": [
      "Scraping quotes:  12%|█▏        | 121/1020 [03:25<34:04,  2.27s/it]"
     ]
    },
    {
     "name": "stdout",
     "output_type": "stream",
     "text": [
      "200\n"
     ]
    },
    {
     "name": "stderr",
     "output_type": "stream",
     "text": [
      "Scraping quotes:  12%|█▏        | 122/1020 [03:28<34:48,  2.33s/it]"
     ]
    },
    {
     "name": "stdout",
     "output_type": "stream",
     "text": [
      "200\n"
     ]
    },
    {
     "name": "stderr",
     "output_type": "stream",
     "text": [
      "Scraping quotes:  12%|█▏        | 123/1020 [03:30<34:56,  2.34s/it]"
     ]
    },
    {
     "name": "stdout",
     "output_type": "stream",
     "text": [
      "200\n"
     ]
    },
    {
     "name": "stderr",
     "output_type": "stream",
     "text": [
      "Scraping quotes:  12%|█▏        | 124/1020 [03:32<32:24,  2.17s/it]"
     ]
    },
    {
     "name": "stdout",
     "output_type": "stream",
     "text": [
      "200\n"
     ]
    },
    {
     "name": "stderr",
     "output_type": "stream",
     "text": [
      "Scraping quotes:  12%|█▏        | 125/1020 [03:33<27:12,  1.82s/it]"
     ]
    },
    {
     "name": "stdout",
     "output_type": "stream",
     "text": [
      "200\n"
     ]
    },
    {
     "name": "stderr",
     "output_type": "stream",
     "text": [
      "Scraping quotes:  12%|█▏        | 126/1020 [03:34<22:12,  1.49s/it]"
     ]
    },
    {
     "name": "stdout",
     "output_type": "stream",
     "text": [
      "200\n"
     ]
    },
    {
     "name": "stderr",
     "output_type": "stream",
     "text": [
      "Scraping quotes:  12%|█▏        | 127/1020 [03:35<21:12,  1.42s/it]"
     ]
    },
    {
     "name": "stdout",
     "output_type": "stream",
     "text": [
      "200\n"
     ]
    },
    {
     "name": "stderr",
     "output_type": "stream",
     "text": [
      "Scraping quotes:  13%|█▎        | 128/1020 [03:36<18:46,  1.26s/it]"
     ]
    },
    {
     "name": "stdout",
     "output_type": "stream",
     "text": [
      "\u001b[K\r"
     ]
    },
    {
     "name": "stderr",
     "output_type": "stream",
     "text": [
      "Scraping quotes:  13%|█▎        | 129/1020 [03:37<15:43,  1.06s/it]"
     ]
    },
    {
     "name": "stdout",
     "output_type": "stream",
     "text": [
      "500\n",
      "Error scraping {'country': 'US', 'region': 'us-fl', 'crypto_name': 'USDT (BNB Chain)', 'payment_name': 'Instant ACH Bank Transfer', 'regionId': '/regions/us-fl', 'paymentMethodId': '/payments/instant-bank-transfer', 'cryptoCurrencyId': '/currencies/crypto/56/0x55d398326f99059ff775485246999027b3197955', 'fiatCurrencyId': '/currencies/fiat/usd', 'amount': 72, 'request_time': datetime.datetime(2024, 8, 3, 11, 0, 33, 647110)}\n",
      "'success'\n",
      "\n",
      "500\n",
      "Error scraping {'country': 'US', 'region': 'us-fl', 'crypto_name': 'Ethereum Mainnet', 'payment_name': 'Wire Transfer', 'regionId': '/regions/us-fl', 'paymentMethodId': '/payments/wire-transfer', 'cryptoCurrencyId': '/currencies/crypto/1/0x0000000000000000000000000000000000000000', 'fiatCurrencyId': '/currencies/fiat/usd', 'amount': 72, 'request_time': datetime.datetime(2024, 8, 3, 11, 0, 34, 227666)}\n",
      "'success'\n",
      "\n"
     ]
    },
    {
     "name": "stderr",
     "output_type": "stream",
     "text": [
      "Scraping quotes:  13%|█▎        | 130/1020 [03:37<13:36,  1.09it/s]"
     ]
    },
    {
     "name": "stdout",
     "output_type": "stream",
     "text": [
      "500\n",
      "Error scraping {'country': 'US', 'region': 'us-fl', 'crypto_name': 'USDT (Ethereum)', 'payment_name': 'Wire Transfer', 'regionId': '/regions/us-fl', 'paymentMethodId': '/payments/wire-transfer', 'cryptoCurrencyId': '/currencies/crypto/1/0xdac17f958d2ee523a2206206994597c13d831ec7', 'fiatCurrencyId': '/currencies/fiat/usd', 'amount': 72, 'request_time': datetime.datetime(2024, 8, 3, 11, 0, 34, 817092)}\n",
      "'success'\n",
      "\n"
     ]
    },
    {
     "name": "stderr",
     "output_type": "stream",
     "text": [
      "Scraping quotes:  13%|█▎        | 131/1020 [03:38<12:42,  1.17it/s]"
     ]
    },
    {
     "name": "stdout",
     "output_type": "stream",
     "text": [
      "500\n",
      "Error scraping {'country': 'US', 'region': 'us-fl', 'crypto_name': 'USDT (BNB Chain)', 'payment_name': 'Wire Transfer', 'regionId': '/regions/us-fl', 'paymentMethodId': '/payments/wire-transfer', 'cryptoCurrencyId': '/currencies/crypto/56/0x55d398326f99059ff775485246999027b3197955', 'fiatCurrencyId': '/currencies/fiat/usd', 'amount': 72, 'request_time': datetime.datetime(2024, 8, 3, 11, 0, 35, 531137)}\n",
      "'success'\n",
      "\n"
     ]
    },
    {
     "name": "stderr",
     "output_type": "stream",
     "text": [
      "Scraping quotes:  13%|█▎        | 132/1020 [03:38<11:36,  1.27it/s]"
     ]
    },
    {
     "name": "stdout",
     "output_type": "stream",
     "text": [
      "200\n"
     ]
    },
    {
     "name": "stderr",
     "output_type": "stream",
     "text": [
      "Scraping quotes:  13%|█▎        | 133/1020 [03:39<12:11,  1.21it/s]"
     ]
    },
    {
     "name": "stdout",
     "output_type": "stream",
     "text": [
      "200\n"
     ]
    },
    {
     "name": "stderr",
     "output_type": "stream",
     "text": [
      "Scraping quotes:  13%|█▎        | 134/1020 [03:40<12:51,  1.15it/s]"
     ]
    },
    {
     "name": "stdout",
     "output_type": "stream",
     "text": [
      "200\n"
     ]
    },
    {
     "name": "stderr",
     "output_type": "stream",
     "text": [
      "Scraping quotes:  13%|█▎        | 135/1020 [03:42<17:28,  1.19s/it]"
     ]
    },
    {
     "name": "stdout",
     "output_type": "stream",
     "text": [
      "\u001b[K\r"
     ]
    },
    {
     "name": "stderr",
     "output_type": "stream",
     "text": [
      "Scraping quotes:  13%|█▎        | 136/1020 [03:43<16:39,  1.13s/it]"
     ]
    },
    {
     "name": "stdout",
     "output_type": "stream",
     "text": [
      "500\n",
      "Error scraping {'country': 'US', 'region': 'us-fl', 'crypto_name': 'Ethereum Mainnet', 'payment_name': 'PSE', 'regionId': '/regions/us-fl', 'paymentMethodId': '/payments/pse', 'cryptoCurrencyId': '/currencies/crypto/1/0x0000000000000000000000000000000000000000', 'fiatCurrencyId': '/currencies/fiat/usd', 'amount': 72, 'request_time': datetime.datetime(2024, 8, 3, 11, 0, 39, 959806)}\n",
      "'success'\n",
      "\n",
      "\u001b[K\r"
     ]
    },
    {
     "name": "stderr",
     "output_type": "stream",
     "text": [
      "Scraping quotes:  13%|█▎        | 137/1020 [03:45<18:41,  1.27s/it]"
     ]
    },
    {
     "name": "stdout",
     "output_type": "stream",
     "text": [
      "500\n",
      "Error scraping {'country': 'US', 'region': 'us-fl', 'crypto_name': 'USDT (Ethereum)', 'payment_name': 'PSE', 'regionId': '/regions/us-fl', 'paymentMethodId': '/payments/pse', 'cryptoCurrencyId': '/currencies/crypto/1/0xdac17f958d2ee523a2206206994597c13d831ec7', 'fiatCurrencyId': '/currencies/fiat/usd', 'amount': 72, 'request_time': datetime.datetime(2024, 8, 3, 11, 0, 40, 966295)}\n",
      "'success'\n",
      "\n",
      "\u001b[K\r"
     ]
    },
    {
     "name": "stderr",
     "output_type": "stream",
     "text": [
      "Scraping quotes:  14%|█▎        | 138/1020 [03:46<17:18,  1.18s/it]"
     ]
    },
    {
     "name": "stdout",
     "output_type": "stream",
     "text": [
      "500\n",
      "Error scraping {'country': 'US', 'region': 'us-fl', 'crypto_name': 'USDT (BNB Chain)', 'payment_name': 'PSE', 'regionId': '/regions/us-fl', 'paymentMethodId': '/payments/pse', 'cryptoCurrencyId': '/currencies/crypto/56/0x55d398326f99059ff775485246999027b3197955', 'fiatCurrencyId': '/currencies/fiat/usd', 'amount': 72, 'request_time': datetime.datetime(2024, 8, 3, 11, 0, 42, 559122)}\n",
      "'success'\n",
      "\n",
      "200\n"
     ]
    },
    {
     "name": "stderr",
     "output_type": "stream",
     "text": [
      "Scraping quotes:  14%|█▎        | 139/1020 [03:48<21:35,  1.47s/it]"
     ]
    },
    {
     "name": "stdout",
     "output_type": "stream",
     "text": [
      "200\n"
     ]
    },
    {
     "name": "stderr",
     "output_type": "stream",
     "text": [
      "Scraping quotes:  14%|█▎        | 140/1020 [03:49<20:11,  1.38s/it]"
     ]
    },
    {
     "name": "stdout",
     "output_type": "stream",
     "text": [
      "200\n"
     ]
    },
    {
     "name": "stderr",
     "output_type": "stream",
     "text": [
      "Scraping quotes:  14%|█▍        | 141/1020 [03:51<20:17,  1.39s/it]"
     ]
    },
    {
     "name": "stdout",
     "output_type": "stream",
     "text": [
      "200\n"
     ]
    },
    {
     "name": "stderr",
     "output_type": "stream",
     "text": [
      "Scraping quotes:  14%|█▍        | 142/1020 [03:53<27:17,  1.86s/it]"
     ]
    },
    {
     "name": "stdout",
     "output_type": "stream",
     "text": [
      "200\n"
     ]
    },
    {
     "name": "stderr",
     "output_type": "stream",
     "text": [
      "Scraping quotes:  14%|█▍        | 143/1020 [03:55<27:16,  1.87s/it]"
     ]
    },
    {
     "name": "stdout",
     "output_type": "stream",
     "text": [
      "200\n"
     ]
    },
    {
     "name": "stderr",
     "output_type": "stream",
     "text": [
      "Scraping quotes:  14%|█▍        | 144/1020 [03:57<24:07,  1.65s/it]"
     ]
    },
    {
     "name": "stdout",
     "output_type": "stream",
     "text": [
      "200\n"
     ]
    },
    {
     "name": "stderr",
     "output_type": "stream",
     "text": [
      "Scraping quotes:  14%|█▍        | 145/1020 [03:58<23:05,  1.58s/it]"
     ]
    },
    {
     "name": "stdout",
     "output_type": "stream",
     "text": [
      "200\n"
     ]
    },
    {
     "name": "stderr",
     "output_type": "stream",
     "text": [
      "Scraping quotes:  14%|█▍        | 146/1020 [04:00<25:06,  1.72s/it]"
     ]
    },
    {
     "name": "stdout",
     "output_type": "stream",
     "text": [
      "200\n"
     ]
    },
    {
     "name": "stderr",
     "output_type": "stream",
     "text": [
      "Scraping quotes:  14%|█▍        | 147/1020 [04:02<26:00,  1.79s/it]"
     ]
    },
    {
     "name": "stdout",
     "output_type": "stream",
     "text": [
      "200\n"
     ]
    },
    {
     "name": "stderr",
     "output_type": "stream",
     "text": [
      "Scraping quotes:  15%|█▍        | 148/1020 [04:04<27:09,  1.87s/it]"
     ]
    },
    {
     "name": "stdout",
     "output_type": "stream",
     "text": [
      "200\n"
     ]
    },
    {
     "name": "stderr",
     "output_type": "stream",
     "text": [
      "Scraping quotes:  15%|█▍        | 149/1020 [04:06<26:28,  1.82s/it]"
     ]
    },
    {
     "name": "stdout",
     "output_type": "stream",
     "text": [
      "200\n"
     ]
    },
    {
     "name": "stderr",
     "output_type": "stream",
     "text": [
      "Scraping quotes:  15%|█▍        | 150/1020 [04:07<23:02,  1.59s/it]"
     ]
    },
    {
     "name": "stdout",
     "output_type": "stream",
     "text": [
      "500\n",
      "Error scraping {'country': 'UK', 'region': 'gb', 'crypto_name': 'Ethereum Mainnet', 'payment_name': 'PSE', 'regionId': '/regions/gb', 'paymentMethodId': '/payments/pse', 'cryptoCurrencyId': '/currencies/crypto/1/0x0000000000000000000000000000000000000000', 'fiatCurrencyId': '/currencies/fiat/gbp', 'amount': 72, 'request_time': datetime.datetime(2024, 8, 3, 11, 1, 4, 474338)}\n",
      "'success'\n",
      "\n"
     ]
    },
    {
     "name": "stderr",
     "output_type": "stream",
     "text": [
      "Scraping quotes:  15%|█▍        | 151/1020 [04:08<20:17,  1.40s/it]"
     ]
    },
    {
     "name": "stdout",
     "output_type": "stream",
     "text": [
      "\u001b[K\r"
     ]
    },
    {
     "name": "stderr",
     "output_type": "stream",
     "text": [
      "Scraping quotes:  15%|█▍        | 152/1020 [04:09<19:15,  1.33s/it]"
     ]
    },
    {
     "name": "stdout",
     "output_type": "stream",
     "text": [
      "500\n",
      "Error scraping {'country': 'UK', 'region': 'gb', 'crypto_name': 'USDT (Ethereum)', 'payment_name': 'PSE', 'regionId': '/regions/gb', 'paymentMethodId': '/payments/pse', 'cryptoCurrencyId': '/currencies/crypto/1/0xdac17f958d2ee523a2206206994597c13d831ec7', 'fiatCurrencyId': '/currencies/fiat/gbp', 'amount': 72, 'request_time': datetime.datetime(2024, 8, 3, 11, 1, 5, 436731)}\n",
      "'success'\n",
      "\n",
      "\u001b[K\r"
     ]
    },
    {
     "name": "stderr",
     "output_type": "stream",
     "text": [
      "Scraping quotes:  15%|█▌        | 153/1020 [04:10<17:21,  1.20s/it]"
     ]
    },
    {
     "name": "stdout",
     "output_type": "stream",
     "text": [
      "500\n",
      "Error scraping {'country': 'UK', 'region': 'gb', 'crypto_name': 'USDT (BNB Chain)', 'payment_name': 'PSE', 'regionId': '/regions/gb', 'paymentMethodId': '/payments/pse', 'cryptoCurrencyId': '/currencies/crypto/56/0x55d398326f99059ff775485246999027b3197955', 'fiatCurrencyId': '/currencies/fiat/gbp', 'amount': 72, 'request_time': datetime.datetime(2024, 8, 3, 11, 1, 6, 604879)}\n",
      "'success'\n",
      "\n",
      "200\n"
     ]
    },
    {
     "name": "stderr",
     "output_type": "stream",
     "text": [
      "Scraping quotes:  15%|█▌        | 154/1020 [04:13<24:44,  1.71s/it]"
     ]
    },
    {
     "name": "stdout",
     "output_type": "stream",
     "text": [
      "200\n"
     ]
    },
    {
     "name": "stderr",
     "output_type": "stream",
     "text": [
      "Scraping quotes:  15%|█▌        | 155/1020 [04:15<26:56,  1.87s/it]"
     ]
    },
    {
     "name": "stdout",
     "output_type": "stream",
     "text": [
      "200\n"
     ]
    },
    {
     "name": "stderr",
     "output_type": "stream",
     "text": [
      "Scraping quotes:  15%|█▌        | 156/1020 [04:17<29:55,  2.08s/it]"
     ]
    },
    {
     "name": "stdout",
     "output_type": "stream",
     "text": [
      "200\n"
     ]
    },
    {
     "name": "stderr",
     "output_type": "stream",
     "text": [
      "Scraping quotes:  15%|█▌        | 157/1020 [04:21<37:02,  2.58s/it]"
     ]
    },
    {
     "name": "stdout",
     "output_type": "stream",
     "text": [
      "200\n"
     ]
    },
    {
     "name": "stderr",
     "output_type": "stream",
     "text": [
      "Scraping quotes:  15%|█▌        | 158/1020 [04:24<39:32,  2.75s/it]"
     ]
    },
    {
     "name": "stdout",
     "output_type": "stream",
     "text": [
      "200\n"
     ]
    },
    {
     "name": "stderr",
     "output_type": "stream",
     "text": [
      "Scraping quotes:  16%|█▌        | 159/1020 [04:27<37:55,  2.64s/it]"
     ]
    },
    {
     "name": "stdout",
     "output_type": "stream",
     "text": [
      "200\n"
     ]
    },
    {
     "name": "stderr",
     "output_type": "stream",
     "text": [
      "Scraping quotes:  16%|█▌        | 160/1020 [04:29<37:45,  2.63s/it]"
     ]
    },
    {
     "name": "stdout",
     "output_type": "stream",
     "text": [
      "200\n"
     ]
    },
    {
     "name": "stderr",
     "output_type": "stream",
     "text": [
      "Scraping quotes:  16%|█▌        | 161/1020 [04:32<36:49,  2.57s/it]"
     ]
    },
    {
     "name": "stdout",
     "output_type": "stream",
     "text": [
      "200\n"
     ]
    },
    {
     "name": "stderr",
     "output_type": "stream",
     "text": [
      "Scraping quotes:  16%|█▌        | 162/1020 [04:34<36:14,  2.53s/it]"
     ]
    },
    {
     "name": "stdout",
     "output_type": "stream",
     "text": [
      "200\n"
     ]
    },
    {
     "name": "stderr",
     "output_type": "stream",
     "text": [
      "Scraping quotes:  16%|█▌        | 163/1020 [04:35<30:34,  2.14s/it]"
     ]
    },
    {
     "name": "stdout",
     "output_type": "stream",
     "text": [
      "200\n"
     ]
    },
    {
     "name": "stderr",
     "output_type": "stream",
     "text": [
      "Scraping quotes:  16%|█▌        | 164/1020 [04:37<26:37,  1.87s/it]"
     ]
    },
    {
     "name": "stdout",
     "output_type": "stream",
     "text": [
      "200\n"
     ]
    },
    {
     "name": "stderr",
     "output_type": "stream",
     "text": [
      "Scraping quotes:  16%|█▌        | 165/1020 [04:38<24:51,  1.74s/it]"
     ]
    },
    {
     "name": "stdout",
     "output_type": "stream",
     "text": [
      "\u001b[K\r"
     ]
    },
    {
     "name": "stderr",
     "output_type": "stream",
     "text": [
      "Scraping quotes:  16%|█▋        | 166/1020 [04:39<22:45,  1.60s/it]"
     ]
    },
    {
     "name": "stdout",
     "output_type": "stream",
     "text": [
      "500\n",
      "Error scraping {'country': 'DE', 'region': 'de', 'crypto_name': 'Ethereum Mainnet', 'payment_name': 'PSE', 'regionId': '/regions/de', 'paymentMethodId': '/payments/pse', 'cryptoCurrencyId': '/currencies/crypto/1/0x0000000000000000000000000000000000000000', 'fiatCurrencyId': '/currencies/fiat/eur', 'amount': 102, 'request_time': datetime.datetime(2024, 8, 3, 11, 1, 35, 892869)}\n",
      "'success'\n",
      "\n",
      "\u001b[K\r"
     ]
    },
    {
     "name": "stderr",
     "output_type": "stream",
     "text": [
      "Scraping quotes:  16%|█▋        | 167/1020 [04:41<20:48,  1.46s/it]"
     ]
    },
    {
     "name": "stdout",
     "output_type": "stream",
     "text": [
      "500\n",
      "Error scraping {'country': 'DE', 'region': 'de', 'crypto_name': 'USDT (Ethereum)', 'payment_name': 'PSE', 'regionId': '/regions/de', 'paymentMethodId': '/payments/pse', 'cryptoCurrencyId': '/currencies/crypto/1/0xdac17f958d2ee523a2206206994597c13d831ec7', 'fiatCurrencyId': '/currencies/fiat/eur', 'amount': 102, 'request_time': datetime.datetime(2024, 8, 3, 11, 1, 37, 151544)}\n",
      "'success'\n",
      "\n",
      "\u001b[K\r"
     ]
    },
    {
     "name": "stderr",
     "output_type": "stream",
     "text": [
      "Scraping quotes:  16%|█▋        | 168/1020 [04:42<18:34,  1.31s/it]"
     ]
    },
    {
     "name": "stdout",
     "output_type": "stream",
     "text": [
      "500\n",
      "Error scraping {'country': 'DE', 'region': 'de', 'crypto_name': 'USDT (BNB Chain)', 'payment_name': 'PSE', 'regionId': '/regions/de', 'paymentMethodId': '/payments/pse', 'cryptoCurrencyId': '/currencies/crypto/56/0x55d398326f99059ff775485246999027b3197955', 'fiatCurrencyId': '/currencies/fiat/eur', 'amount': 102, 'request_time': datetime.datetime(2024, 8, 3, 11, 1, 38, 300493)}\n",
      "'success'\n",
      "\n",
      "200\n"
     ]
    },
    {
     "name": "stderr",
     "output_type": "stream",
     "text": [
      "Scraping quotes:  17%|█▋        | 169/1020 [04:44<23:56,  1.69s/it]"
     ]
    },
    {
     "name": "stdout",
     "output_type": "stream",
     "text": [
      "200\n"
     ]
    },
    {
     "name": "stderr",
     "output_type": "stream",
     "text": [
      "Scraping quotes:  17%|█▋        | 170/1020 [04:47<28:29,  2.01s/it]"
     ]
    },
    {
     "name": "stdout",
     "output_type": "stream",
     "text": [
      "200\n"
     ]
    },
    {
     "name": "stderr",
     "output_type": "stream",
     "text": [
      "Scraping quotes:  17%|█▋        | 171/1020 [04:49<29:21,  2.08s/it]"
     ]
    },
    {
     "name": "stdout",
     "output_type": "stream",
     "text": [
      "200\n"
     ]
    },
    {
     "name": "stderr",
     "output_type": "stream",
     "text": [
      "Scraping quotes:  17%|█▋        | 172/1020 [04:52<30:47,  2.18s/it]"
     ]
    },
    {
     "name": "stdout",
     "output_type": "stream",
     "text": [
      "200\n"
     ]
    },
    {
     "name": "stderr",
     "output_type": "stream",
     "text": [
      "Scraping quotes:  17%|█▋        | 173/1020 [04:54<31:21,  2.22s/it]"
     ]
    },
    {
     "name": "stdout",
     "output_type": "stream",
     "text": [
      "200\n"
     ]
    },
    {
     "name": "stderr",
     "output_type": "stream",
     "text": [
      "Scraping quotes:  17%|█▋        | 174/1020 [04:56<30:16,  2.15s/it]"
     ]
    },
    {
     "name": "stdout",
     "output_type": "stream",
     "text": [
      "200\n"
     ]
    },
    {
     "name": "stderr",
     "output_type": "stream",
     "text": [
      "Scraping quotes:  17%|█▋        | 175/1020 [04:57<25:33,  1.81s/it]"
     ]
    },
    {
     "name": "stdout",
     "output_type": "stream",
     "text": [
      "200\n"
     ]
    },
    {
     "name": "stderr",
     "output_type": "stream",
     "text": [
      "Scraping quotes:  17%|█▋        | 176/1020 [04:58<20:41,  1.47s/it]"
     ]
    },
    {
     "name": "stdout",
     "output_type": "stream",
     "text": [
      "200\n"
     ]
    },
    {
     "name": "stderr",
     "output_type": "stream",
     "text": [
      "Scraping quotes:  17%|█▋        | 177/1020 [04:58<17:30,  1.25s/it]"
     ]
    },
    {
     "name": "stdout",
     "output_type": "stream",
     "text": [
      "200\n"
     ]
    },
    {
     "name": "stderr",
     "output_type": "stream",
     "text": [
      "Scraping quotes:  17%|█▋        | 178/1020 [04:59<17:03,  1.22s/it]"
     ]
    },
    {
     "name": "stdout",
     "output_type": "stream",
     "text": [
      "200\n"
     ]
    },
    {
     "name": "stderr",
     "output_type": "stream",
     "text": [
      "Scraping quotes:  18%|█▊        | 179/1020 [05:00<15:41,  1.12s/it]"
     ]
    },
    {
     "name": "stdout",
     "output_type": "stream",
     "text": [
      "\u001b[K\r"
     ]
    },
    {
     "name": "stderr",
     "output_type": "stream",
     "text": [
      "Scraping quotes:  18%|█▊        | 180/1020 [05:01<13:24,  1.04it/s]"
     ]
    },
    {
     "name": "stdout",
     "output_type": "stream",
     "text": [
      "500\n",
      "Error scraping {'country': 'US', 'region': 'us-fl', 'crypto_name': 'USDT (BNB Chain)', 'payment_name': 'Instant ACH Bank Transfer', 'regionId': '/regions/us-fl', 'paymentMethodId': '/payments/instant-bank-transfer', 'cryptoCurrencyId': '/currencies/crypto/56/0x55d398326f99059ff775485246999027b3197955', 'fiatCurrencyId': '/currencies/fiat/usd', 'amount': 102, 'request_time': datetime.datetime(2024, 8, 3, 11, 1, 57, 999043)}\n",
      "'success'\n",
      "\n",
      "\u001b[K\r"
     ]
    },
    {
     "name": "stderr",
     "output_type": "stream",
     "text": [
      "Scraping quotes:  18%|█▊        | 181/1020 [05:01<12:01,  1.16it/s]"
     ]
    },
    {
     "name": "stdout",
     "output_type": "stream",
     "text": [
      "500\n",
      "Error scraping {'country': 'US', 'region': 'us-fl', 'crypto_name': 'Ethereum Mainnet', 'payment_name': 'Wire Transfer', 'regionId': '/regions/us-fl', 'paymentMethodId': '/payments/wire-transfer', 'cryptoCurrencyId': '/currencies/crypto/1/0x0000000000000000000000000000000000000000', 'fiatCurrencyId': '/currencies/fiat/usd', 'amount': 102, 'request_time': datetime.datetime(2024, 8, 3, 11, 1, 58, 577397)}\n",
      "'success'\n",
      "\n",
      "\u001b[K\r"
     ]
    },
    {
     "name": "stderr",
     "output_type": "stream",
     "text": [
      "Scraping quotes:  18%|█▊        | 182/1020 [05:02<10:52,  1.28it/s]"
     ]
    },
    {
     "name": "stdout",
     "output_type": "stream",
     "text": [
      "500\n",
      "Error scraping {'country': 'US', 'region': 'us-fl', 'crypto_name': 'USDT (Ethereum)', 'payment_name': 'Wire Transfer', 'regionId': '/regions/us-fl', 'paymentMethodId': '/payments/wire-transfer', 'cryptoCurrencyId': '/currencies/crypto/1/0xdac17f958d2ee523a2206206994597c13d831ec7', 'fiatCurrencyId': '/currencies/fiat/usd', 'amount': 102, 'request_time': datetime.datetime(2024, 8, 3, 11, 1, 59, 208943)}\n",
      "'success'\n",
      "\n",
      "\u001b[K\r"
     ]
    },
    {
     "name": "stderr",
     "output_type": "stream",
     "text": [
      "Scraping quotes:  18%|█▊        | 183/1020 [05:03<09:52,  1.41it/s]"
     ]
    },
    {
     "name": "stdout",
     "output_type": "stream",
     "text": [
      "500\n",
      "Error scraping {'country': 'US', 'region': 'us-fl', 'crypto_name': 'USDT (BNB Chain)', 'payment_name': 'Wire Transfer', 'regionId': '/regions/us-fl', 'paymentMethodId': '/payments/wire-transfer', 'cryptoCurrencyId': '/currencies/crypto/56/0x55d398326f99059ff775485246999027b3197955', 'fiatCurrencyId': '/currencies/fiat/usd', 'amount': 102, 'request_time': datetime.datetime(2024, 8, 3, 11, 1, 59, 798772)}\n",
      "'success'\n",
      "\n",
      "200\n"
     ]
    },
    {
     "name": "stderr",
     "output_type": "stream",
     "text": [
      "Scraping quotes:  18%|█▊        | 184/1020 [05:04<10:51,  1.28it/s]"
     ]
    },
    {
     "name": "stdout",
     "output_type": "stream",
     "text": [
      "200\n"
     ]
    },
    {
     "name": "stderr",
     "output_type": "stream",
     "text": [
      "Scraping quotes:  18%|█▊        | 185/1020 [05:05<12:18,  1.13it/s]"
     ]
    },
    {
     "name": "stdout",
     "output_type": "stream",
     "text": [
      "\u001b[K\r"
     ]
    },
    {
     "name": "stderr",
     "output_type": "stream",
     "text": [
      "Scraping quotes:  18%|█▊        | 186/1020 [05:12<38:17,  2.76s/it]"
     ]
    },
    {
     "name": "stdout",
     "output_type": "stream",
     "text": [
      "500\n",
      "Error scraping {'country': 'US', 'region': 'us-fl', 'crypto_name': 'USDT (BNB Chain)', 'payment_name': 'ACH Bank Transfer', 'regionId': '/regions/us-fl', 'paymentMethodId': '/payments/ach-bank-transfer', 'cryptoCurrencyId': '/currencies/crypto/56/0x55d398326f99059ff775485246999027b3197955', 'fiatCurrencyId': '/currencies/fiat/usd', 'amount': 102, 'request_time': datetime.datetime(2024, 8, 3, 11, 2, 2, 417041)}\n",
      "'success'\n",
      "\n",
      "\u001b[K\r"
     ]
    },
    {
     "name": "stderr",
     "output_type": "stream",
     "text": [
      "Scraping quotes:  18%|█▊        | 187/1020 [05:15<42:08,  3.04s/it]"
     ]
    },
    {
     "name": "stdout",
     "output_type": "stream",
     "text": [
      "500\n",
      "Error scraping {'country': 'US', 'region': 'us-fl', 'crypto_name': 'Ethereum Mainnet', 'payment_name': 'PSE', 'regionId': '/regions/us-fl', 'paymentMethodId': '/payments/pse', 'cryptoCurrencyId': '/currencies/crypto/1/0x0000000000000000000000000000000000000000', 'fiatCurrencyId': '/currencies/fiat/usd', 'amount': 102, 'request_time': datetime.datetime(2024, 8, 3, 11, 2, 9, 537164)}\n",
      "'success'\n",
      "\n",
      "500\n",
      "Error scraping {'country': 'US', 'region': 'us-fl', 'crypto_name': 'USDT (Ethereum)', 'payment_name': 'PSE', 'regionId': '/regions/us-fl', 'paymentMethodId': '/payments/pse', 'cryptoCurrencyId': '/currencies/crypto/1/0xdac17f958d2ee523a2206206994597c13d831ec7', 'fiatCurrencyId': '/currencies/fiat/usd', 'amount': 102, 'request_time': datetime.datetime(2024, 8, 3, 11, 2, 13, 226088)}\n",
      "'success'\n",
      "\n"
     ]
    },
    {
     "name": "stderr",
     "output_type": "stream",
     "text": [
      "Scraping quotes:  18%|█▊        | 188/1020 [05:17<34:12,  2.47s/it]"
     ]
    },
    {
     "name": "stdout",
     "output_type": "stream",
     "text": [
      "\u001b[K\r"
     ]
    },
    {
     "name": "stderr",
     "output_type": "stream",
     "text": [
      "Scraping quotes:  19%|█▊        | 189/1020 [05:18<28:16,  2.04s/it]"
     ]
    },
    {
     "name": "stdout",
     "output_type": "stream",
     "text": [
      "500\n",
      "Error scraping {'country': 'US', 'region': 'us-fl', 'crypto_name': 'USDT (BNB Chain)', 'payment_name': 'PSE', 'regionId': '/regions/us-fl', 'paymentMethodId': '/payments/pse', 'cryptoCurrencyId': '/currencies/crypto/56/0x55d398326f99059ff775485246999027b3197955', 'fiatCurrencyId': '/currencies/fiat/usd', 'amount': 102, 'request_time': datetime.datetime(2024, 8, 3, 11, 2, 14, 366224)}\n",
      "'success'\n",
      "\n",
      "200\n"
     ]
    },
    {
     "name": "stderr",
     "output_type": "stream",
     "text": [
      "Scraping quotes:  19%|█▊        | 190/1020 [05:19<27:13,  1.97s/it]"
     ]
    },
    {
     "name": "stdout",
     "output_type": "stream",
     "text": [
      "200\n"
     ]
    },
    {
     "name": "stderr",
     "output_type": "stream",
     "text": [
      "Scraping quotes:  19%|█▊        | 191/1020 [05:21<24:41,  1.79s/it]"
     ]
    },
    {
     "name": "stdout",
     "output_type": "stream",
     "text": [
      "200\n"
     ]
    },
    {
     "name": "stderr",
     "output_type": "stream",
     "text": [
      "Scraping quotes:  19%|█▉        | 192/1020 [05:22<21:06,  1.53s/it]"
     ]
    },
    {
     "name": "stdout",
     "output_type": "stream",
     "text": [
      "200\n"
     ]
    },
    {
     "name": "stderr",
     "output_type": "stream",
     "text": [
      "Scraping quotes:  19%|█▉        | 193/1020 [05:24<24:46,  1.80s/it]"
     ]
    },
    {
     "name": "stdout",
     "output_type": "stream",
     "text": [
      "200\n"
     ]
    },
    {
     "name": "stderr",
     "output_type": "stream",
     "text": [
      "Scraping quotes:  19%|█▉        | 194/1020 [05:26<24:13,  1.76s/it]"
     ]
    },
    {
     "name": "stdout",
     "output_type": "stream",
     "text": [
      "200\n"
     ]
    },
    {
     "name": "stderr",
     "output_type": "stream",
     "text": [
      "Scraping quotes:  19%|█▉        | 195/1020 [05:27<21:35,  1.57s/it]"
     ]
    },
    {
     "name": "stdout",
     "output_type": "stream",
     "text": [
      "200\n"
     ]
    },
    {
     "name": "stderr",
     "output_type": "stream",
     "text": [
      "Scraping quotes:  19%|█▉        | 196/1020 [05:28<19:58,  1.45s/it]"
     ]
    },
    {
     "name": "stdout",
     "output_type": "stream",
     "text": [
      "200\n"
     ]
    },
    {
     "name": "stderr",
     "output_type": "stream",
     "text": [
      "Scraping quotes:  19%|█▉        | 197/1020 [05:29<18:48,  1.37s/it]"
     ]
    },
    {
     "name": "stdout",
     "output_type": "stream",
     "text": [
      "200\n"
     ]
    },
    {
     "name": "stderr",
     "output_type": "stream",
     "text": [
      "Scraping quotes:  19%|█▉        | 198/1020 [05:31<17:51,  1.30s/it]"
     ]
    },
    {
     "name": "stdout",
     "output_type": "stream",
     "text": [
      "200\n"
     ]
    },
    {
     "name": "stderr",
     "output_type": "stream",
     "text": [
      "Scraping quotes:  20%|█▉        | 199/1020 [05:32<19:55,  1.46s/it]"
     ]
    },
    {
     "name": "stdout",
     "output_type": "stream",
     "text": [
      "200\n"
     ]
    },
    {
     "name": "stderr",
     "output_type": "stream",
     "text": [
      "Scraping quotes:  20%|█▉        | 200/1020 [05:34<19:09,  1.40s/it]"
     ]
    },
    {
     "name": "stdout",
     "output_type": "stream",
     "text": [
      "200\n"
     ]
    },
    {
     "name": "stderr",
     "output_type": "stream",
     "text": [
      "Scraping quotes:  20%|█▉        | 201/1020 [05:35<17:17,  1.27s/it]"
     ]
    },
    {
     "name": "stdout",
     "output_type": "stream",
     "text": [
      "500\n",
      "Error scraping {'country': 'UK', 'region': 'gb', 'crypto_name': 'Ethereum Mainnet', 'payment_name': 'PSE', 'regionId': '/regions/gb', 'paymentMethodId': '/payments/pse', 'cryptoCurrencyId': '/currencies/crypto/1/0x0000000000000000000000000000000000000000', 'fiatCurrencyId': '/currencies/fiat/gbp', 'amount': 102, 'request_time': datetime.datetime(2024, 8, 3, 11, 2, 32, 272331)}\n",
      "'success'\n",
      "\n"
     ]
    },
    {
     "name": "stderr",
     "output_type": "stream",
     "text": [
      "Scraping quotes:  20%|█▉        | 202/1020 [05:35<15:49,  1.16s/it]"
     ]
    },
    {
     "name": "stdout",
     "output_type": "stream",
     "text": [
      "\u001b[K\r"
     ]
    },
    {
     "name": "stderr",
     "output_type": "stream",
     "text": [
      "Scraping quotes:  20%|█▉        | 203/1020 [05:36<15:14,  1.12s/it]"
     ]
    },
    {
     "name": "stdout",
     "output_type": "stream",
     "text": [
      "500\n",
      "Error scraping {'country': 'UK', 'region': 'gb', 'crypto_name': 'USDT (Ethereum)', 'payment_name': 'PSE', 'regionId': '/regions/gb', 'paymentMethodId': '/payments/pse', 'cryptoCurrencyId': '/currencies/crypto/1/0xdac17f958d2ee523a2206206994597c13d831ec7', 'fiatCurrencyId': '/currencies/fiat/gbp', 'amount': 102, 'request_time': datetime.datetime(2024, 8, 3, 11, 2, 33, 188008)}\n",
      "'success'\n",
      "\n",
      "500\n",
      "Error scraping {'country': 'UK', 'region': 'gb', 'crypto_name': 'USDT (BNB Chain)', 'payment_name': 'PSE', 'regionId': '/regions/gb', 'paymentMethodId': '/payments/pse', 'cryptoCurrencyId': '/currencies/crypto/56/0x55d398326f99059ff775485246999027b3197955', 'fiatCurrencyId': '/currencies/fiat/gbp', 'amount': 102, 'request_time': datetime.datetime(2024, 8, 3, 11, 2, 34, 210914)}\n",
      "'success'\n",
      "\n"
     ]
    },
    {
     "name": "stderr",
     "output_type": "stream",
     "text": [
      "Scraping quotes:  20%|██        | 204/1020 [05:37<14:01,  1.03s/it]"
     ]
    },
    {
     "name": "stdout",
     "output_type": "stream",
     "text": [
      "200\n"
     ]
    },
    {
     "name": "stderr",
     "output_type": "stream",
     "text": [
      "Scraping quotes:  20%|██        | 205/1020 [05:40<20:02,  1.48s/it]"
     ]
    },
    {
     "name": "stdout",
     "output_type": "stream",
     "text": [
      "200\n"
     ]
    },
    {
     "name": "stderr",
     "output_type": "stream",
     "text": [
      "Scraping quotes:  20%|██        | 206/1020 [05:43<25:11,  1.86s/it]"
     ]
    },
    {
     "name": "stdout",
     "output_type": "stream",
     "text": [
      "200\n"
     ]
    },
    {
     "name": "stderr",
     "output_type": "stream",
     "text": [
      "Scraping quotes:  20%|██        | 207/1020 [05:45<26:29,  1.96s/it]"
     ]
    },
    {
     "name": "stdout",
     "output_type": "stream",
     "text": [
      "200\n"
     ]
    },
    {
     "name": "stderr",
     "output_type": "stream",
     "text": [
      "Scraping quotes:  20%|██        | 208/1020 [05:48<30:04,  2.22s/it]"
     ]
    },
    {
     "name": "stdout",
     "output_type": "stream",
     "text": [
      "200\n"
     ]
    },
    {
     "name": "stderr",
     "output_type": "stream",
     "text": [
      "Scraping quotes:  20%|██        | 209/1020 [05:50<30:08,  2.23s/it]"
     ]
    },
    {
     "name": "stdout",
     "output_type": "stream",
     "text": [
      "200\n"
     ]
    },
    {
     "name": "stderr",
     "output_type": "stream",
     "text": [
      "Scraping quotes:  21%|██        | 210/1020 [05:52<30:31,  2.26s/it]"
     ]
    },
    {
     "name": "stdout",
     "output_type": "stream",
     "text": [
      "200\n"
     ]
    },
    {
     "name": "stderr",
     "output_type": "stream",
     "text": [
      "Scraping quotes:  21%|██        | 211/1020 [05:55<32:58,  2.45s/it]"
     ]
    },
    {
     "name": "stdout",
     "output_type": "stream",
     "text": [
      "200\n"
     ]
    },
    {
     "name": "stderr",
     "output_type": "stream",
     "text": [
      "Scraping quotes:  21%|██        | 212/1020 [05:57<32:10,  2.39s/it]"
     ]
    },
    {
     "name": "stdout",
     "output_type": "stream",
     "text": [
      "200\n"
     ]
    },
    {
     "name": "stderr",
     "output_type": "stream",
     "text": [
      "Scraping quotes:  21%|██        | 213/1020 [06:00<31:29,  2.34s/it]"
     ]
    },
    {
     "name": "stdout",
     "output_type": "stream",
     "text": [
      "200\n"
     ]
    },
    {
     "name": "stderr",
     "output_type": "stream",
     "text": [
      "Scraping quotes:  21%|██        | 214/1020 [06:01<27:08,  2.02s/it]"
     ]
    },
    {
     "name": "stdout",
     "output_type": "stream",
     "text": [
      "200\n"
     ]
    },
    {
     "name": "stderr",
     "output_type": "stream",
     "text": [
      "Scraping quotes:  21%|██        | 215/1020 [06:02<24:43,  1.84s/it]"
     ]
    },
    {
     "name": "stdout",
     "output_type": "stream",
     "text": [
      "200\n"
     ]
    },
    {
     "name": "stderr",
     "output_type": "stream",
     "text": [
      "Scraping quotes:  21%|██        | 216/1020 [06:03<22:11,  1.66s/it]"
     ]
    },
    {
     "name": "stdout",
     "output_type": "stream",
     "text": [
      "\u001b[K\r"
     ]
    },
    {
     "name": "stderr",
     "output_type": "stream",
     "text": [
      "Scraping quotes:  21%|██▏       | 217/1020 [06:04<19:27,  1.45s/it]"
     ]
    },
    {
     "name": "stdout",
     "output_type": "stream",
     "text": [
      "500\n",
      "Error scraping {'country': 'DE', 'region': 'de', 'crypto_name': 'Ethereum Mainnet', 'payment_name': 'PSE', 'regionId': '/regions/de', 'paymentMethodId': '/payments/pse', 'cryptoCurrencyId': '/currencies/crypto/1/0x0000000000000000000000000000000000000000', 'fiatCurrencyId': '/currencies/fiat/eur', 'amount': 144, 'request_time': datetime.datetime(2024, 8, 3, 11, 3, 1, 189619)}\n",
      "'success'\n",
      "\n",
      "\u001b[K\r"
     ]
    },
    {
     "name": "stderr",
     "output_type": "stream",
     "text": [
      "Scraping quotes:  21%|██▏       | 218/1020 [06:05<16:56,  1.27s/it]"
     ]
    },
    {
     "name": "stdout",
     "output_type": "stream",
     "text": [
      "500\n",
      "Error scraping {'country': 'DE', 'region': 'de', 'crypto_name': 'USDT (Ethereum)', 'payment_name': 'PSE', 'regionId': '/regions/de', 'paymentMethodId': '/payments/pse', 'cryptoCurrencyId': '/currencies/crypto/1/0xdac17f958d2ee523a2206206994597c13d831ec7', 'fiatCurrencyId': '/currencies/fiat/eur', 'amount': 144, 'request_time': datetime.datetime(2024, 8, 3, 11, 3, 2, 170660)}\n",
      "'success'\n",
      "\n",
      "\u001b[K\r"
     ]
    },
    {
     "name": "stderr",
     "output_type": "stream",
     "text": [
      "Scraping quotes:  21%|██▏       | 219/1020 [06:06<16:17,  1.22s/it]"
     ]
    },
    {
     "name": "stdout",
     "output_type": "stream",
     "text": [
      "500\n",
      "Error scraping {'country': 'DE', 'region': 'de', 'crypto_name': 'USDT (BNB Chain)', 'payment_name': 'PSE', 'regionId': '/regions/de', 'paymentMethodId': '/payments/pse', 'cryptoCurrencyId': '/currencies/crypto/56/0x55d398326f99059ff775485246999027b3197955', 'fiatCurrencyId': '/currencies/fiat/eur', 'amount': 144, 'request_time': datetime.datetime(2024, 8, 3, 11, 3, 3, 5220)}\n",
      "'success'\n",
      "\n",
      "200\n"
     ]
    },
    {
     "name": "stderr",
     "output_type": "stream",
     "text": [
      "Scraping quotes:  22%|██▏       | 220/1020 [06:09<21:52,  1.64s/it]"
     ]
    },
    {
     "name": "stdout",
     "output_type": "stream",
     "text": [
      "200\n"
     ]
    },
    {
     "name": "stderr",
     "output_type": "stream",
     "text": [
      "Scraping quotes:  22%|██▏       | 221/1020 [06:12<25:20,  1.90s/it]"
     ]
    },
    {
     "name": "stdout",
     "output_type": "stream",
     "text": [
      "500\n",
      "Error scraping {'country': 'US', 'region': 'us-fl', 'crypto_name': 'USDT (BNB Chain)', 'payment_name': 'Apple Pay', 'regionId': '/regions/us-fl', 'paymentMethodId': '/payments/apple-pay', 'cryptoCurrencyId': '/currencies/crypto/56/0x55d398326f99059ff775485246999027b3197955', 'fiatCurrencyId': '/currencies/fiat/usd', 'amount': 144, 'request_time': datetime.datetime(2024, 8, 3, 11, 3, 9, 250741)}\n",
      "'success'\n",
      "\n"
     ]
    },
    {
     "name": "stderr",
     "output_type": "stream",
     "text": [
      "Scraping quotes:  22%|██▏       | 222/1020 [06:20<50:19,  3.78s/it]"
     ]
    },
    {
     "name": "stdout",
     "output_type": "stream",
     "text": [
      "200\n"
     ]
    },
    {
     "name": "stderr",
     "output_type": "stream",
     "text": [
      "Scraping quotes:  22%|██▏       | 223/1020 [06:22<45:15,  3.41s/it]"
     ]
    },
    {
     "name": "stdout",
     "output_type": "stream",
     "text": [
      "200\n"
     ]
    },
    {
     "name": "stderr",
     "output_type": "stream",
     "text": [
      "Scraping quotes:  22%|██▏       | 224/1020 [06:25<41:19,  3.11s/it]"
     ]
    },
    {
     "name": "stdout",
     "output_type": "stream",
     "text": [
      "200\n"
     ]
    },
    {
     "name": "stderr",
     "output_type": "stream",
     "text": [
      "Scraping quotes:  22%|██▏       | 225/1020 [06:27<38:43,  2.92s/it]"
     ]
    },
    {
     "name": "stdout",
     "output_type": "stream",
     "text": [
      "200\n"
     ]
    },
    {
     "name": "stderr",
     "output_type": "stream",
     "text": [
      "Scraping quotes:  22%|██▏       | 226/1020 [06:28<30:43,  2.32s/it]"
     ]
    },
    {
     "name": "stdout",
     "output_type": "stream",
     "text": [
      "200\n"
     ]
    },
    {
     "name": "stderr",
     "output_type": "stream",
     "text": [
      "Scraping quotes:  22%|██▏       | 227/1020 [06:29<25:00,  1.89s/it]"
     ]
    },
    {
     "name": "stdout",
     "output_type": "stream",
     "text": [
      "200\n"
     ]
    },
    {
     "name": "stderr",
     "output_type": "stream",
     "text": [
      "Scraping quotes:  22%|██▏       | 228/1020 [06:30<21:10,  1.60s/it]"
     ]
    },
    {
     "name": "stdout",
     "output_type": "stream",
     "text": [
      "200\n"
     ]
    },
    {
     "name": "stderr",
     "output_type": "stream",
     "text": [
      "Scraping quotes:  22%|██▏       | 229/1020 [06:31<18:56,  1.44s/it]"
     ]
    },
    {
     "name": "stdout",
     "output_type": "stream",
     "text": [
      "200\n"
     ]
    },
    {
     "name": "stderr",
     "output_type": "stream",
     "text": [
      "Scraping quotes:  23%|██▎       | 230/1020 [06:32<16:35,  1.26s/it]"
     ]
    },
    {
     "name": "stdout",
     "output_type": "stream",
     "text": [
      "\u001b[K\r"
     ]
    },
    {
     "name": "stderr",
     "output_type": "stream",
     "text": [
      "Scraping quotes:  23%|██▎       | 231/1020 [06:32<14:05,  1.07s/it]"
     ]
    },
    {
     "name": "stdout",
     "output_type": "stream",
     "text": [
      "500\n",
      "Error scraping {'country': 'US', 'region': 'us-fl', 'crypto_name': 'USDT (BNB Chain)', 'payment_name': 'Instant ACH Bank Transfer', 'regionId': '/regions/us-fl', 'paymentMethodId': '/payments/instant-bank-transfer', 'cryptoCurrencyId': '/currencies/crypto/56/0x55d398326f99059ff775485246999027b3197955', 'fiatCurrencyId': '/currencies/fiat/usd', 'amount': 144, 'request_time': datetime.datetime(2024, 8, 3, 11, 3, 29, 493515)}\n",
      "'success'\n",
      "\n",
      "\u001b[K\r"
     ]
    },
    {
     "name": "stderr",
     "output_type": "stream",
     "text": [
      "Scraping quotes:  23%|██▎       | 232/1020 [06:33<11:54,  1.10it/s]"
     ]
    },
    {
     "name": "stdout",
     "output_type": "stream",
     "text": [
      "500\n",
      "Error scraping {'country': 'US', 'region': 'us-fl', 'crypto_name': 'Ethereum Mainnet', 'payment_name': 'Wire Transfer', 'regionId': '/regions/us-fl', 'paymentMethodId': '/payments/wire-transfer', 'cryptoCurrencyId': '/currencies/crypto/1/0x0000000000000000000000000000000000000000', 'fiatCurrencyId': '/currencies/fiat/usd', 'amount': 144, 'request_time': datetime.datetime(2024, 8, 3, 11, 3, 30, 125851)}\n",
      "'success'\n",
      "\n",
      "\u001b[K\r"
     ]
    },
    {
     "name": "stderr",
     "output_type": "stream",
     "text": [
      "Scraping quotes:  23%|██▎       | 233/1020 [06:34<11:30,  1.14it/s]"
     ]
    },
    {
     "name": "stdout",
     "output_type": "stream",
     "text": [
      "500\n",
      "Error scraping {'country': 'US', 'region': 'us-fl', 'crypto_name': 'USDT (Ethereum)', 'payment_name': 'Wire Transfer', 'regionId': '/regions/us-fl', 'paymentMethodId': '/payments/wire-transfer', 'cryptoCurrencyId': '/currencies/crypto/1/0xdac17f958d2ee523a2206206994597c13d831ec7', 'fiatCurrencyId': '/currencies/fiat/usd', 'amount': 144, 'request_time': datetime.datetime(2024, 8, 3, 11, 3, 30, 648202)}\n",
      "'success'\n",
      "\n",
      "500\n",
      "Error scraping {'country': 'US', 'region': 'us-fl', 'crypto_name': 'USDT (BNB Chain)', 'payment_name': 'Wire Transfer', 'regionId': '/regions/us-fl', 'paymentMethodId': '/payments/wire-transfer', 'cryptoCurrencyId': '/currencies/crypto/56/0x55d398326f99059ff775485246999027b3197955', 'fiatCurrencyId': '/currencies/fiat/usd', 'amount': 144, 'request_time': datetime.datetime(2024, 8, 3, 11, 3, 31, 455096)}\n",
      "'success'\n",
      "\n"
     ]
    },
    {
     "name": "stderr",
     "output_type": "stream",
     "text": [
      "Scraping quotes:  23%|██▎       | 234/1020 [06:34<10:27,  1.25it/s]"
     ]
    },
    {
     "name": "stdout",
     "output_type": "stream",
     "text": [
      "200\n"
     ]
    },
    {
     "name": "stderr",
     "output_type": "stream",
     "text": [
      "Scraping quotes:  23%|██▎       | 235/1020 [06:35<10:14,  1.28it/s]"
     ]
    },
    {
     "name": "stdout",
     "output_type": "stream",
     "text": [
      "200\n"
     ]
    },
    {
     "name": "stderr",
     "output_type": "stream",
     "text": [
      "Scraping quotes:  23%|██▎       | 236/1020 [06:36<09:47,  1.33it/s]"
     ]
    },
    {
     "name": "stdout",
     "output_type": "stream",
     "text": [
      "200\n"
     ]
    },
    {
     "name": "stderr",
     "output_type": "stream",
     "text": [
      "Scraping quotes:  23%|██▎       | 237/1020 [06:37<10:22,  1.26it/s]"
     ]
    },
    {
     "name": "stdout",
     "output_type": "stream",
     "text": [
      "\u001b[K\r"
     ]
    },
    {
     "name": "stderr",
     "output_type": "stream",
     "text": [
      "Scraping quotes:  23%|██▎       | 238/1020 [06:45<40:45,  3.13s/it]"
     ]
    },
    {
     "name": "stdout",
     "output_type": "stream",
     "text": [
      "500\n",
      "Error scraping {'country': 'US', 'region': 'us-fl', 'crypto_name': 'Ethereum Mainnet', 'payment_name': 'PSE', 'regionId': '/regions/us-fl', 'paymentMethodId': '/payments/pse', 'cryptoCurrencyId': '/currencies/crypto/1/0x0000000000000000000000000000000000000000', 'fiatCurrencyId': '/currencies/fiat/usd', 'amount': 144, 'request_time': datetime.datetime(2024, 8, 3, 11, 3, 34, 385937)}\n",
      "'success'\n",
      "\n",
      "\u001b[K\r"
     ]
    },
    {
     "name": "stderr",
     "output_type": "stream",
     "text": [
      "Scraping quotes:  23%|██▎       | 239/1020 [06:46<31:59,  2.46s/it]"
     ]
    },
    {
     "name": "stdout",
     "output_type": "stream",
     "text": [
      "500\n",
      "Error scraping {'country': 'US', 'region': 'us-fl', 'crypto_name': 'USDT (Ethereum)', 'payment_name': 'PSE', 'regionId': '/regions/us-fl', 'paymentMethodId': '/payments/pse', 'cryptoCurrencyId': '/currencies/crypto/1/0xdac17f958d2ee523a2206206994597c13d831ec7', 'fiatCurrencyId': '/currencies/fiat/usd', 'amount': 144, 'request_time': datetime.datetime(2024, 8, 3, 11, 3, 42, 957104)}\n",
      "'success'\n",
      "\n",
      "500\n",
      "Error scraping {'country': 'US', 'region': 'us-fl', 'crypto_name': 'USDT (BNB Chain)', 'payment_name': 'PSE', 'regionId': '/regions/us-fl', 'paymentMethodId': '/payments/pse', 'cryptoCurrencyId': '/currencies/crypto/56/0x55d398326f99059ff775485246999027b3197955', 'fiatCurrencyId': '/currencies/fiat/usd', 'amount': 144, 'request_time': datetime.datetime(2024, 8, 3, 11, 3, 43, 851664)}\n",
      "'success'\n",
      "\n"
     ]
    },
    {
     "name": "stderr",
     "output_type": "stream",
     "text": [
      "Scraping quotes:  24%|██▎       | 240/1020 [06:47<26:06,  2.01s/it]"
     ]
    },
    {
     "name": "stdout",
     "output_type": "stream",
     "text": [
      "200\n"
     ]
    },
    {
     "name": "stderr",
     "output_type": "stream",
     "text": [
      "Scraping quotes:  24%|██▎       | 241/1020 [06:48<22:56,  1.77s/it]"
     ]
    },
    {
     "name": "stdout",
     "output_type": "stream",
     "text": [
      "200\n"
     ]
    },
    {
     "name": "stderr",
     "output_type": "stream",
     "text": [
      "Scraping quotes:  24%|██▎       | 242/1020 [06:49<20:03,  1.55s/it]"
     ]
    },
    {
     "name": "stdout",
     "output_type": "stream",
     "text": [
      "200\n"
     ]
    },
    {
     "name": "stderr",
     "output_type": "stream",
     "text": [
      "Scraping quotes:  24%|██▍       | 243/1020 [06:50<18:15,  1.41s/it]"
     ]
    },
    {
     "name": "stdout",
     "output_type": "stream",
     "text": [
      "200\n"
     ]
    },
    {
     "name": "stderr",
     "output_type": "stream",
     "text": [
      "Scraping quotes:  24%|██▍       | 244/1020 [06:52<19:08,  1.48s/it]"
     ]
    },
    {
     "name": "stdout",
     "output_type": "stream",
     "text": [
      "200\n"
     ]
    },
    {
     "name": "stderr",
     "output_type": "stream",
     "text": [
      "Scraping quotes:  24%|██▍       | 245/1020 [06:53<18:18,  1.42s/it]"
     ]
    },
    {
     "name": "stdout",
     "output_type": "stream",
     "text": [
      "200\n"
     ]
    },
    {
     "name": "stderr",
     "output_type": "stream",
     "text": [
      "Scraping quotes:  24%|██▍       | 246/1020 [06:55<19:28,  1.51s/it]"
     ]
    },
    {
     "name": "stdout",
     "output_type": "stream",
     "text": [
      "200\n"
     ]
    },
    {
     "name": "stderr",
     "output_type": "stream",
     "text": [
      "Scraping quotes:  24%|██▍       | 247/1020 [06:56<18:49,  1.46s/it]"
     ]
    },
    {
     "name": "stdout",
     "output_type": "stream",
     "text": [
      "200\n"
     ]
    },
    {
     "name": "stderr",
     "output_type": "stream",
     "text": [
      "Scraping quotes:  24%|██▍       | 248/1020 [06:58<18:43,  1.46s/it]"
     ]
    },
    {
     "name": "stdout",
     "output_type": "stream",
     "text": [
      "200\n"
     ]
    },
    {
     "name": "stderr",
     "output_type": "stream",
     "text": [
      "Scraping quotes:  24%|██▍       | 249/1020 [06:59<18:15,  1.42s/it]"
     ]
    },
    {
     "name": "stdout",
     "output_type": "stream",
     "text": [
      "200\n"
     ]
    },
    {
     "name": "stderr",
     "output_type": "stream",
     "text": [
      "Scraping quotes:  25%|██▍       | 250/1020 [07:00<17:08,  1.34s/it]"
     ]
    },
    {
     "name": "stdout",
     "output_type": "stream",
     "text": [
      "200\n"
     ]
    },
    {
     "name": "stderr",
     "output_type": "stream",
     "text": [
      "Scraping quotes:  25%|██▍       | 251/1020 [07:02<19:20,  1.51s/it]"
     ]
    },
    {
     "name": "stdout",
     "output_type": "stream",
     "text": [
      "200\n"
     ]
    },
    {
     "name": "stderr",
     "output_type": "stream",
     "text": [
      "Scraping quotes:  25%|██▍       | 252/1020 [07:03<18:07,  1.42s/it]"
     ]
    },
    {
     "name": "stdout",
     "output_type": "stream",
     "text": [
      "\u001b[K\r"
     ]
    },
    {
     "name": "stderr",
     "output_type": "stream",
     "text": [
      "Scraping quotes:  25%|██▍       | 253/1020 [07:04<16:33,  1.30s/it]"
     ]
    },
    {
     "name": "stdout",
     "output_type": "stream",
     "text": [
      "500\n",
      "Error scraping {'country': 'UK', 'region': 'gb', 'crypto_name': 'Ethereum Mainnet', 'payment_name': 'PSE', 'regionId': '/regions/gb', 'paymentMethodId': '/payments/pse', 'cryptoCurrencyId': '/currencies/crypto/1/0x0000000000000000000000000000000000000000', 'fiatCurrencyId': '/currencies/fiat/gbp', 'amount': 144, 'request_time': datetime.datetime(2024, 8, 3, 11, 4, 1, 164442)}\n",
      "'success'\n",
      "\n",
      "\u001b[K\r"
     ]
    },
    {
     "name": "stderr",
     "output_type": "stream",
     "text": [
      "Scraping quotes:  25%|██▍       | 254/1020 [07:05<15:29,  1.21s/it]"
     ]
    },
    {
     "name": "stdout",
     "output_type": "stream",
     "text": [
      "500\n",
      "Error scraping {'country': 'UK', 'region': 'gb', 'crypto_name': 'USDT (Ethereum)', 'payment_name': 'PSE', 'regionId': '/regions/gb', 'paymentMethodId': '/payments/pse', 'cryptoCurrencyId': '/currencies/crypto/1/0xdac17f958d2ee523a2206206994597c13d831ec7', 'fiatCurrencyId': '/currencies/fiat/gbp', 'amount': 144, 'request_time': datetime.datetime(2024, 8, 3, 11, 4, 2, 174522)}\n",
      "'success'\n",
      "\n",
      "\u001b[K\r"
     ]
    },
    {
     "name": "stderr",
     "output_type": "stream",
     "text": [
      "Scraping quotes:  25%|██▌       | 255/1020 [07:06<14:21,  1.13s/it]"
     ]
    },
    {
     "name": "stdout",
     "output_type": "stream",
     "text": [
      "500\n",
      "Error scraping {'country': 'UK', 'region': 'gb', 'crypto_name': 'USDT (BNB Chain)', 'payment_name': 'PSE', 'regionId': '/regions/gb', 'paymentMethodId': '/payments/pse', 'cryptoCurrencyId': '/currencies/crypto/56/0x55d398326f99059ff775485246999027b3197955', 'fiatCurrencyId': '/currencies/fiat/gbp', 'amount': 144, 'request_time': datetime.datetime(2024, 8, 3, 11, 4, 3, 197757)}\n",
      "'success'\n",
      "\n",
      "200\n"
     ]
    },
    {
     "name": "stderr",
     "output_type": "stream",
     "text": [
      "Scraping quotes:  25%|██▌       | 256/1020 [07:09<19:27,  1.53s/it]"
     ]
    },
    {
     "name": "stdout",
     "output_type": "stream",
     "text": [
      "200\n"
     ]
    },
    {
     "name": "stderr",
     "output_type": "stream",
     "text": [
      "Scraping quotes:  25%|██▌       | 257/1020 [07:11<23:04,  1.81s/it]"
     ]
    },
    {
     "name": "stdout",
     "output_type": "stream",
     "text": [
      "200\n"
     ]
    },
    {
     "name": "stderr",
     "output_type": "stream",
     "text": [
      "Scraping quotes:  25%|██▌       | 258/1020 [07:14<24:39,  1.94s/it]"
     ]
    },
    {
     "name": "stdout",
     "output_type": "stream",
     "text": [
      "200\n"
     ]
    },
    {
     "name": "stderr",
     "output_type": "stream",
     "text": [
      "Scraping quotes:  25%|██▌       | 259/1020 [07:16<26:32,  2.09s/it]"
     ]
    },
    {
     "name": "stdout",
     "output_type": "stream",
     "text": [
      "200\n"
     ]
    },
    {
     "name": "stderr",
     "output_type": "stream",
     "text": [
      "Scraping quotes:  25%|██▌       | 260/1020 [07:18<27:26,  2.17s/it]"
     ]
    },
    {
     "name": "stdout",
     "output_type": "stream",
     "text": [
      "200\n"
     ]
    },
    {
     "name": "stderr",
     "output_type": "stream",
     "text": [
      "Scraping quotes:  26%|██▌       | 261/1020 [07:21<27:50,  2.20s/it]"
     ]
    },
    {
     "name": "stdout",
     "output_type": "stream",
     "text": [
      "200\n"
     ]
    },
    {
     "name": "stderr",
     "output_type": "stream",
     "text": [
      "Scraping quotes:  26%|██▌       | 262/1020 [07:23<28:07,  2.23s/it]"
     ]
    },
    {
     "name": "stdout",
     "output_type": "stream",
     "text": [
      "200\n"
     ]
    },
    {
     "name": "stderr",
     "output_type": "stream",
     "text": [
      "Scraping quotes:  26%|██▌       | 263/1020 [07:26<32:14,  2.56s/it]"
     ]
    },
    {
     "name": "stdout",
     "output_type": "stream",
     "text": [
      "200\n"
     ]
    },
    {
     "name": "stderr",
     "output_type": "stream",
     "text": [
      "Scraping quotes:  26%|██▌       | 264/1020 [07:28<30:59,  2.46s/it]"
     ]
    },
    {
     "name": "stdout",
     "output_type": "stream",
     "text": [
      "200\n"
     ]
    },
    {
     "name": "stderr",
     "output_type": "stream",
     "text": [
      "Scraping quotes:  26%|██▌       | 265/1020 [07:30<27:28,  2.18s/it]"
     ]
    },
    {
     "name": "stdout",
     "output_type": "stream",
     "text": [
      "200\n"
     ]
    },
    {
     "name": "stderr",
     "output_type": "stream",
     "text": [
      "Scraping quotes:  26%|██▌       | 266/1020 [07:32<27:46,  2.21s/it]"
     ]
    },
    {
     "name": "stdout",
     "output_type": "stream",
     "text": [
      "200\n"
     ]
    },
    {
     "name": "stderr",
     "output_type": "stream",
     "text": [
      "Scraping quotes:  26%|██▌       | 267/1020 [07:34<24:54,  1.99s/it]"
     ]
    },
    {
     "name": "stdout",
     "output_type": "stream",
     "text": [
      "\u001b[K\r"
     ]
    },
    {
     "name": "stderr",
     "output_type": "stream",
     "text": [
      "Scraping quotes:  26%|██▋       | 268/1020 [07:35<21:08,  1.69s/it]"
     ]
    },
    {
     "name": "stdout",
     "output_type": "stream",
     "text": [
      "500\n",
      "Error scraping {'country': 'DE', 'region': 'de', 'crypto_name': 'Ethereum Mainnet', 'payment_name': 'PSE', 'regionId': '/regions/de', 'paymentMethodId': '/payments/pse', 'cryptoCurrencyId': '/currencies/crypto/1/0x0000000000000000000000000000000000000000', 'fiatCurrencyId': '/currencies/fiat/eur', 'amount': 204, 'request_time': datetime.datetime(2024, 8, 3, 11, 4, 31, 515269)}\n",
      "'success'\n",
      "\n",
      "500\n",
      "Error scraping {'country': 'DE', 'region': 'de', 'crypto_name': 'USDT (Ethereum)', 'payment_name': 'PSE', 'regionId': '/regions/de', 'paymentMethodId': '/payments/pse', 'cryptoCurrencyId': '/currencies/crypto/1/0xdac17f958d2ee523a2206206994597c13d831ec7', 'fiatCurrencyId': '/currencies/fiat/eur', 'amount': 204, 'request_time': datetime.datetime(2024, 8, 3, 11, 4, 32, 479454)}\n",
      "'success'\n",
      "\n"
     ]
    },
    {
     "name": "stderr",
     "output_type": "stream",
     "text": [
      "Scraping quotes:  26%|██▋       | 269/1020 [07:36<18:57,  1.51s/it]"
     ]
    },
    {
     "name": "stdout",
     "output_type": "stream",
     "text": [
      "\u001b[K\r"
     ]
    },
    {
     "name": "stderr",
     "output_type": "stream",
     "text": [
      "Scraping quotes:  26%|██▋       | 270/1020 [07:37<17:32,  1.40s/it]"
     ]
    },
    {
     "name": "stdout",
     "output_type": "stream",
     "text": [
      "500\n",
      "Error scraping {'country': 'DE', 'region': 'de', 'crypto_name': 'USDT (BNB Chain)', 'payment_name': 'PSE', 'regionId': '/regions/de', 'paymentMethodId': '/payments/pse', 'cryptoCurrencyId': '/currencies/crypto/56/0x55d398326f99059ff775485246999027b3197955', 'fiatCurrencyId': '/currencies/fiat/eur', 'amount': 204, 'request_time': datetime.datetime(2024, 8, 3, 11, 4, 33, 593193)}\n",
      "'success'\n",
      "\n",
      "200\n"
     ]
    },
    {
     "name": "stderr",
     "output_type": "stream",
     "text": [
      "Scraping quotes:  27%|██▋       | 271/1020 [07:41<26:40,  2.14s/it]"
     ]
    },
    {
     "name": "stdout",
     "output_type": "stream",
     "text": [
      "200\n"
     ]
    },
    {
     "name": "stderr",
     "output_type": "stream",
     "text": [
      "Scraping quotes:  27%|██▋       | 272/1020 [07:43<27:45,  2.23s/it]"
     ]
    },
    {
     "name": "stdout",
     "output_type": "stream",
     "text": [
      "200\n"
     ]
    },
    {
     "name": "stderr",
     "output_type": "stream",
     "text": [
      "Scraping quotes:  27%|██▋       | 273/1020 [07:45<25:59,  2.09s/it]"
     ]
    },
    {
     "name": "stdout",
     "output_type": "stream",
     "text": [
      "200\n"
     ]
    },
    {
     "name": "stderr",
     "output_type": "stream",
     "text": [
      "Scraping quotes:  27%|██▋       | 274/1020 [07:48<27:58,  2.25s/it]"
     ]
    },
    {
     "name": "stdout",
     "output_type": "stream",
     "text": [
      "200\n"
     ]
    },
    {
     "name": "stderr",
     "output_type": "stream",
     "text": [
      "Scraping quotes:  27%|██▋       | 275/1020 [07:50<27:47,  2.24s/it]"
     ]
    },
    {
     "name": "stdout",
     "output_type": "stream",
     "text": [
      "200\n"
     ]
    },
    {
     "name": "stderr",
     "output_type": "stream",
     "text": [
      "Scraping quotes:  27%|██▋       | 276/1020 [07:53<31:52,  2.57s/it]"
     ]
    },
    {
     "name": "stdout",
     "output_type": "stream",
     "text": [
      "200\n"
     ]
    },
    {
     "name": "stderr",
     "output_type": "stream",
     "text": [
      "Scraping quotes:  27%|██▋       | 277/1020 [07:54<25:16,  2.04s/it]"
     ]
    },
    {
     "name": "stdout",
     "output_type": "stream",
     "text": [
      "200\n"
     ]
    },
    {
     "name": "stderr",
     "output_type": "stream",
     "text": [
      "Scraping quotes:  27%|██▋       | 278/1020 [07:55<20:18,  1.64s/it]"
     ]
    },
    {
     "name": "stdout",
     "output_type": "stream",
     "text": [
      "200\n"
     ]
    },
    {
     "name": "stderr",
     "output_type": "stream",
     "text": [
      "Scraping quotes:  27%|██▋       | 279/1020 [07:56<17:39,  1.43s/it]"
     ]
    },
    {
     "name": "stdout",
     "output_type": "stream",
     "text": [
      "200\n"
     ]
    },
    {
     "name": "stderr",
     "output_type": "stream",
     "text": [
      "Scraping quotes:  27%|██▋       | 280/1020 [07:57<16:35,  1.34s/it]"
     ]
    },
    {
     "name": "stdout",
     "output_type": "stream",
     "text": [
      "200\n"
     ]
    },
    {
     "name": "stderr",
     "output_type": "stream",
     "text": [
      "Scraping quotes:  28%|██▊       | 281/1020 [07:58<15:35,  1.27s/it]"
     ]
    },
    {
     "name": "stdout",
     "output_type": "stream",
     "text": [
      "\u001b[K\r"
     ]
    },
    {
     "name": "stderr",
     "output_type": "stream",
     "text": [
      "Scraping quotes:  28%|██▊       | 282/1020 [07:59<13:56,  1.13s/it]"
     ]
    },
    {
     "name": "stdout",
     "output_type": "stream",
     "text": [
      "500\n",
      "Error scraping {'country': 'US', 'region': 'us-fl', 'crypto_name': 'USDT (BNB Chain)', 'payment_name': 'Instant ACH Bank Transfer', 'regionId': '/regions/us-fl', 'paymentMethodId': '/payments/instant-bank-transfer', 'cryptoCurrencyId': '/currencies/crypto/56/0x55d398326f99059ff775485246999027b3197955', 'fiatCurrencyId': '/currencies/fiat/usd', 'amount': 204, 'request_time': datetime.datetime(2024, 8, 3, 11, 4, 55, 650729)}\n",
      "'success'\n",
      "\n",
      "\u001b[K\r"
     ]
    },
    {
     "name": "stderr",
     "output_type": "stream",
     "text": [
      "Scraping quotes:  28%|██▊       | 283/1020 [07:59<11:54,  1.03it/s]"
     ]
    },
    {
     "name": "stdout",
     "output_type": "stream",
     "text": [
      "500\n",
      "Error scraping {'country': 'US', 'region': 'us-fl', 'crypto_name': 'Ethereum Mainnet', 'payment_name': 'Wire Transfer', 'regionId': '/regions/us-fl', 'paymentMethodId': '/payments/wire-transfer', 'cryptoCurrencyId': '/currencies/crypto/1/0x0000000000000000000000000000000000000000', 'fiatCurrencyId': '/currencies/fiat/usd', 'amount': 204, 'request_time': datetime.datetime(2024, 8, 3, 11, 4, 56, 476429)}\n",
      "'success'\n",
      "\n",
      "\u001b[K\r"
     ]
    },
    {
     "name": "stderr",
     "output_type": "stream",
     "text": [
      "Scraping quotes:  28%|██▊       | 284/1020 [08:00<10:34,  1.16it/s]"
     ]
    },
    {
     "name": "stdout",
     "output_type": "stream",
     "text": [
      "500\n",
      "Error scraping {'country': 'US', 'region': 'us-fl', 'crypto_name': 'USDT (Ethereum)', 'payment_name': 'Wire Transfer', 'regionId': '/regions/us-fl', 'paymentMethodId': '/payments/wire-transfer', 'cryptoCurrencyId': '/currencies/crypto/1/0xdac17f958d2ee523a2206206994597c13d831ec7', 'fiatCurrencyId': '/currencies/fiat/usd', 'amount': 204, 'request_time': datetime.datetime(2024, 8, 3, 11, 4, 57, 63210)}\n",
      "'success'\n",
      "\n",
      "\u001b[K\r"
     ]
    },
    {
     "name": "stderr",
     "output_type": "stream",
     "text": [
      "Scraping quotes:  28%|██▊       | 285/1020 [08:01<09:29,  1.29it/s]"
     ]
    },
    {
     "name": "stdout",
     "output_type": "stream",
     "text": [
      "500\n",
      "Error scraping {'country': 'US', 'region': 'us-fl', 'crypto_name': 'USDT (BNB Chain)', 'payment_name': 'Wire Transfer', 'regionId': '/regions/us-fl', 'paymentMethodId': '/payments/wire-transfer', 'cryptoCurrencyId': '/currencies/crypto/56/0x55d398326f99059ff775485246999027b3197955', 'fiatCurrencyId': '/currencies/fiat/usd', 'amount': 204, 'request_time': datetime.datetime(2024, 8, 3, 11, 4, 57, 674849)}\n",
      "'success'\n",
      "\n",
      "200\n"
     ]
    },
    {
     "name": "stderr",
     "output_type": "stream",
     "text": [
      "Scraping quotes:  28%|██▊       | 286/1020 [08:01<09:16,  1.32it/s]"
     ]
    },
    {
     "name": "stdout",
     "output_type": "stream",
     "text": [
      "200\n"
     ]
    },
    {
     "name": "stderr",
     "output_type": "stream",
     "text": [
      "Scraping quotes:  28%|██▊       | 287/1020 [08:02<09:06,  1.34it/s]"
     ]
    },
    {
     "name": "stdout",
     "output_type": "stream",
     "text": [
      "200\n"
     ]
    },
    {
     "name": "stderr",
     "output_type": "stream",
     "text": [
      "Scraping quotes:  28%|██▊       | 288/1020 [08:03<08:45,  1.39it/s]"
     ]
    },
    {
     "name": "stdout",
     "output_type": "stream",
     "text": [
      "\u001b[K\r"
     ]
    },
    {
     "name": "stderr",
     "output_type": "stream",
     "text": [
      "Scraping quotes:  28%|██▊       | 289/1020 [08:03<08:44,  1.39it/s]"
     ]
    },
    {
     "name": "stdout",
     "output_type": "stream",
     "text": [
      "500\n",
      "Error scraping {'country': 'US', 'region': 'us-fl', 'crypto_name': 'Ethereum Mainnet', 'payment_name': 'PSE', 'regionId': '/regions/us-fl', 'paymentMethodId': '/payments/pse', 'cryptoCurrencyId': '/currencies/crypto/1/0x0000000000000000000000000000000000000000', 'fiatCurrencyId': '/currencies/fiat/usd', 'amount': 204, 'request_time': datetime.datetime(2024, 8, 3, 11, 5, 0, 333185)}\n",
      "'success'\n",
      "\n",
      "\u001b[K\r"
     ]
    },
    {
     "name": "stderr",
     "output_type": "stream",
     "text": [
      "Scraping quotes:  28%|██▊       | 290/1020 [08:05<13:36,  1.12s/it]"
     ]
    },
    {
     "name": "stdout",
     "output_type": "stream",
     "text": [
      "500\n",
      "Error scraping {'country': 'US', 'region': 'us-fl', 'crypto_name': 'USDT (Ethereum)', 'payment_name': 'PSE', 'regionId': '/regions/us-fl', 'paymentMethodId': '/payments/pse', 'cryptoCurrencyId': '/currencies/crypto/1/0xdac17f958d2ee523a2206206994597c13d831ec7', 'fiatCurrencyId': '/currencies/fiat/usd', 'amount': 204, 'request_time': datetime.datetime(2024, 8, 3, 11, 5, 1, 50062)}\n",
      "'success'\n",
      "\n",
      "\u001b[K\r"
     ]
    },
    {
     "name": "stderr",
     "output_type": "stream",
     "text": [
      "Scraping quotes:  29%|██▊       | 291/1020 [08:06<13:14,  1.09s/it]"
     ]
    },
    {
     "name": "stdout",
     "output_type": "stream",
     "text": [
      "500\n",
      "Error scraping {'country': 'US', 'region': 'us-fl', 'crypto_name': 'USDT (BNB Chain)', 'payment_name': 'PSE', 'regionId': '/regions/us-fl', 'paymentMethodId': '/payments/pse', 'cryptoCurrencyId': '/currencies/crypto/56/0x55d398326f99059ff775485246999027b3197955', 'fiatCurrencyId': '/currencies/fiat/usd', 'amount': 204, 'request_time': datetime.datetime(2024, 8, 3, 11, 5, 3, 102066)}\n",
      "'success'\n",
      "\n",
      "200\n"
     ]
    },
    {
     "name": "stderr",
     "output_type": "stream",
     "text": [
      "Scraping quotes:  29%|██▊       | 292/1020 [08:08<13:32,  1.12s/it]"
     ]
    },
    {
     "name": "stdout",
     "output_type": "stream",
     "text": [
      "200\n"
     ]
    },
    {
     "name": "stderr",
     "output_type": "stream",
     "text": [
      "Scraping quotes:  29%|██▊       | 293/1020 [08:09<13:57,  1.15s/it]"
     ]
    },
    {
     "name": "stdout",
     "output_type": "stream",
     "text": [
      "200\n"
     ]
    },
    {
     "name": "stderr",
     "output_type": "stream",
     "text": [
      "Scraping quotes:  29%|██▉       | 294/1020 [08:11<16:08,  1.33s/it]"
     ]
    },
    {
     "name": "stdout",
     "output_type": "stream",
     "text": [
      "200\n"
     ]
    },
    {
     "name": "stderr",
     "output_type": "stream",
     "text": [
      "Scraping quotes:  29%|██▉       | 295/1020 [08:12<15:50,  1.31s/it]"
     ]
    },
    {
     "name": "stdout",
     "output_type": "stream",
     "text": [
      "200\n"
     ]
    },
    {
     "name": "stderr",
     "output_type": "stream",
     "text": [
      "Scraping quotes:  29%|██▉       | 296/1020 [08:13<15:49,  1.31s/it]"
     ]
    },
    {
     "name": "stdout",
     "output_type": "stream",
     "text": [
      "200\n"
     ]
    },
    {
     "name": "stderr",
     "output_type": "stream",
     "text": [
      "Scraping quotes:  29%|██▉       | 297/1020 [08:15<17:21,  1.44s/it]"
     ]
    },
    {
     "name": "stdout",
     "output_type": "stream",
     "text": [
      "200\n"
     ]
    },
    {
     "name": "stderr",
     "output_type": "stream",
     "text": [
      "Scraping quotes:  29%|██▉       | 298/1020 [08:16<16:27,  1.37s/it]"
     ]
    },
    {
     "name": "stdout",
     "output_type": "stream",
     "text": [
      "200\n"
     ]
    },
    {
     "name": "stderr",
     "output_type": "stream",
     "text": [
      "Scraping quotes:  29%|██▉       | 299/1020 [08:17<15:53,  1.32s/it]"
     ]
    },
    {
     "name": "stdout",
     "output_type": "stream",
     "text": [
      "200\n"
     ]
    },
    {
     "name": "stderr",
     "output_type": "stream",
     "text": [
      "Scraping quotes:  29%|██▉       | 300/1020 [08:18<15:18,  1.28s/it]"
     ]
    },
    {
     "name": "stdout",
     "output_type": "stream",
     "text": [
      "200\n"
     ]
    },
    {
     "name": "stderr",
     "output_type": "stream",
     "text": [
      "Scraping quotes:  30%|██▉       | 301/1020 [08:20<16:49,  1.40s/it]"
     ]
    },
    {
     "name": "stdout",
     "output_type": "stream",
     "text": [
      "200\n"
     ]
    },
    {
     "name": "stderr",
     "output_type": "stream",
     "text": [
      "Scraping quotes:  30%|██▉       | 302/1020 [08:22<19:11,  1.60s/it]"
     ]
    },
    {
     "name": "stdout",
     "output_type": "stream",
     "text": [
      "200\n"
     ]
    },
    {
     "name": "stderr",
     "output_type": "stream",
     "text": [
      "Scraping quotes:  30%|██▉       | 303/1020 [08:23<16:15,  1.36s/it]"
     ]
    },
    {
     "name": "stdout",
     "output_type": "stream",
     "text": [
      "\u001b[K\r"
     ]
    },
    {
     "name": "stderr",
     "output_type": "stream",
     "text": [
      "Scraping quotes:  30%|██▉       | 304/1020 [08:24<15:35,  1.31s/it]"
     ]
    },
    {
     "name": "stdout",
     "output_type": "stream",
     "text": [
      "500\n",
      "Error scraping {'country': 'UK', 'region': 'gb', 'crypto_name': 'Ethereum Mainnet', 'payment_name': 'PSE', 'regionId': '/regions/gb', 'paymentMethodId': '/payments/pse', 'cryptoCurrencyId': '/currencies/crypto/1/0x0000000000000000000000000000000000000000', 'fiatCurrencyId': '/currencies/fiat/gbp', 'amount': 204, 'request_time': datetime.datetime(2024, 8, 3, 11, 5, 20, 759483)}\n",
      "'success'\n",
      "\n",
      "\u001b[K\r"
     ]
    },
    {
     "name": "stderr",
     "output_type": "stream",
     "text": [
      "Scraping quotes:  30%|██▉       | 305/1020 [08:25<13:49,  1.16s/it]"
     ]
    },
    {
     "name": "stdout",
     "output_type": "stream",
     "text": [
      "500\n",
      "Error scraping {'country': 'UK', 'region': 'gb', 'crypto_name': 'USDT (Ethereum)', 'payment_name': 'PSE', 'regionId': '/regions/gb', 'paymentMethodId': '/payments/pse', 'cryptoCurrencyId': '/currencies/crypto/1/0xdac17f958d2ee523a2206206994597c13d831ec7', 'fiatCurrencyId': '/currencies/fiat/gbp', 'amount': 204, 'request_time': datetime.datetime(2024, 8, 3, 11, 5, 21, 940992)}\n",
      "'success'\n",
      "\n",
      "\u001b[K\r"
     ]
    },
    {
     "name": "stderr",
     "output_type": "stream",
     "text": [
      "Scraping quotes:  30%|███       | 306/1020 [08:26<12:58,  1.09s/it]"
     ]
    },
    {
     "name": "stdout",
     "output_type": "stream",
     "text": [
      "500\n",
      "Error scraping {'country': 'UK', 'region': 'gb', 'crypto_name': 'USDT (BNB Chain)', 'payment_name': 'PSE', 'regionId': '/regions/gb', 'paymentMethodId': '/payments/pse', 'cryptoCurrencyId': '/currencies/crypto/56/0x55d398326f99059ff775485246999027b3197955', 'fiatCurrencyId': '/currencies/fiat/gbp', 'amount': 204, 'request_time': datetime.datetime(2024, 8, 3, 11, 5, 22, 759239)}\n",
      "'success'\n",
      "\n",
      "200\n"
     ]
    },
    {
     "name": "stderr",
     "output_type": "stream",
     "text": [
      "Scraping quotes:  30%|███       | 307/1020 [08:28<17:56,  1.51s/it]"
     ]
    },
    {
     "name": "stdout",
     "output_type": "stream",
     "text": [
      "200\n"
     ]
    },
    {
     "name": "stderr",
     "output_type": "stream",
     "text": [
      "Scraping quotes:  30%|███       | 308/1020 [08:31<21:05,  1.78s/it]"
     ]
    },
    {
     "name": "stdout",
     "output_type": "stream",
     "text": [
      "200\n"
     ]
    },
    {
     "name": "stderr",
     "output_type": "stream",
     "text": [
      "Scraping quotes:  30%|███       | 309/1020 [08:33<23:02,  1.94s/it]"
     ]
    },
    {
     "name": "stdout",
     "output_type": "stream",
     "text": [
      "200\n"
     ]
    },
    {
     "name": "stderr",
     "output_type": "stream",
     "text": [
      "Scraping quotes:  30%|███       | 310/1020 [08:36<24:48,  2.10s/it]"
     ]
    },
    {
     "name": "stdout",
     "output_type": "stream",
     "text": [
      "200\n"
     ]
    },
    {
     "name": "stderr",
     "output_type": "stream",
     "text": [
      "Scraping quotes:  30%|███       | 311/1020 [08:39<28:09,  2.38s/it]"
     ]
    },
    {
     "name": "stdout",
     "output_type": "stream",
     "text": [
      "200\n"
     ]
    },
    {
     "name": "stderr",
     "output_type": "stream",
     "text": [
      "Scraping quotes:  31%|███       | 312/1020 [08:41<27:11,  2.30s/it]"
     ]
    },
    {
     "name": "stdout",
     "output_type": "stream",
     "text": [
      "200\n"
     ]
    },
    {
     "name": "stderr",
     "output_type": "stream",
     "text": [
      "Scraping quotes:  31%|███       | 313/1020 [08:43<27:48,  2.36s/it]"
     ]
    },
    {
     "name": "stdout",
     "output_type": "stream",
     "text": [
      "200\n"
     ]
    },
    {
     "name": "stderr",
     "output_type": "stream",
     "text": [
      "Scraping quotes:  31%|███       | 314/1020 [08:46<27:23,  2.33s/it]"
     ]
    },
    {
     "name": "stdout",
     "output_type": "stream",
     "text": [
      "200\n"
     ]
    },
    {
     "name": "stderr",
     "output_type": "stream",
     "text": [
      "Scraping quotes:  31%|███       | 315/1020 [08:48<27:10,  2.31s/it]"
     ]
    },
    {
     "name": "stdout",
     "output_type": "stream",
     "text": [
      "200\n"
     ]
    },
    {
     "name": "stderr",
     "output_type": "stream",
     "text": [
      "Scraping quotes:  31%|███       | 316/1020 [08:49<23:54,  2.04s/it]"
     ]
    },
    {
     "name": "stdout",
     "output_type": "stream",
     "text": [
      "200\n"
     ]
    },
    {
     "name": "stderr",
     "output_type": "stream",
     "text": [
      "Scraping quotes:  31%|███       | 317/1020 [08:50<19:39,  1.68s/it]"
     ]
    },
    {
     "name": "stdout",
     "output_type": "stream",
     "text": [
      "200\n"
     ]
    },
    {
     "name": "stderr",
     "output_type": "stream",
     "text": [
      "Scraping quotes:  31%|███       | 318/1020 [08:51<18:29,  1.58s/it]"
     ]
    },
    {
     "name": "stdout",
     "output_type": "stream",
     "text": [
      "\u001b[K\r"
     ]
    },
    {
     "name": "stderr",
     "output_type": "stream",
     "text": [
      "Scraping quotes:  31%|███▏      | 319/1020 [08:52<16:17,  1.40s/it]"
     ]
    },
    {
     "name": "stdout",
     "output_type": "stream",
     "text": [
      "500\n",
      "Error scraping {'country': 'DE', 'region': 'de', 'crypto_name': 'Ethereum Mainnet', 'payment_name': 'PSE', 'regionId': '/regions/de', 'paymentMethodId': '/payments/pse', 'cryptoCurrencyId': '/currencies/crypto/1/0x0000000000000000000000000000000000000000', 'fiatCurrencyId': '/currencies/fiat/eur', 'amount': 288, 'request_time': datetime.datetime(2024, 8, 3, 11, 5, 49, 140072)}\n",
      "'success'\n",
      "\n",
      "\u001b[K\r"
     ]
    },
    {
     "name": "stderr",
     "output_type": "stream",
     "text": [
      "Scraping quotes:  31%|███▏      | 320/1020 [08:53<14:38,  1.25s/it]"
     ]
    },
    {
     "name": "stdout",
     "output_type": "stream",
     "text": [
      "500\n",
      "Error scraping {'country': 'DE', 'region': 'de', 'crypto_name': 'USDT (Ethereum)', 'payment_name': 'PSE', 'regionId': '/regions/de', 'paymentMethodId': '/payments/pse', 'cryptoCurrencyId': '/currencies/crypto/1/0xdac17f958d2ee523a2206206994597c13d831ec7', 'fiatCurrencyId': '/currencies/fiat/eur', 'amount': 288, 'request_time': datetime.datetime(2024, 8, 3, 11, 5, 50, 104461)}\n",
      "'success'\n",
      "\n",
      "\u001b[K\r"
     ]
    },
    {
     "name": "stderr",
     "output_type": "stream",
     "text": [
      "Scraping quotes:  31%|███▏      | 321/1020 [08:54<12:43,  1.09s/it]"
     ]
    },
    {
     "name": "stdout",
     "output_type": "stream",
     "text": [
      "500\n",
      "Error scraping {'country': 'DE', 'region': 'de', 'crypto_name': 'USDT (BNB Chain)', 'payment_name': 'PSE', 'regionId': '/regions/de', 'paymentMethodId': '/payments/pse', 'cryptoCurrencyId': '/currencies/crypto/56/0x55d398326f99059ff775485246999027b3197955', 'fiatCurrencyId': '/currencies/fiat/eur', 'amount': 288, 'request_time': datetime.datetime(2024, 8, 3, 11, 5, 51, 31607)}\n",
      "'success'\n",
      "\n",
      "200\n"
     ]
    },
    {
     "name": "stderr",
     "output_type": "stream",
     "text": [
      "Scraping quotes:  32%|███▏      | 322/1020 [08:57<18:17,  1.57s/it]"
     ]
    },
    {
     "name": "stdout",
     "output_type": "stream",
     "text": [
      "200\n"
     ]
    },
    {
     "name": "stderr",
     "output_type": "stream",
     "text": [
      "Scraping quotes:  32%|███▏      | 323/1020 [08:59<21:52,  1.88s/it]"
     ]
    },
    {
     "name": "stdout",
     "output_type": "stream",
     "text": [
      "200\n"
     ]
    },
    {
     "name": "stderr",
     "output_type": "stream",
     "text": [
      "Scraping quotes:  32%|███▏      | 324/1020 [09:02<24:00,  2.07s/it]"
     ]
    },
    {
     "name": "stdout",
     "output_type": "stream",
     "text": [
      "200\n"
     ]
    },
    {
     "name": "stderr",
     "output_type": "stream",
     "text": [
      "Scraping quotes:  32%|███▏      | 325/1020 [09:04<25:24,  2.19s/it]"
     ]
    },
    {
     "name": "stdout",
     "output_type": "stream",
     "text": [
      "200\n"
     ]
    },
    {
     "name": "stderr",
     "output_type": "stream",
     "text": [
      "Scraping quotes:  32%|███▏      | 326/1020 [09:07<25:52,  2.24s/it]"
     ]
    },
    {
     "name": "stdout",
     "output_type": "stream",
     "text": [
      "200\n"
     ]
    },
    {
     "name": "stderr",
     "output_type": "stream",
     "text": [
      "Scraping quotes:  32%|███▏      | 327/1020 [09:09<25:56,  2.25s/it]"
     ]
    },
    {
     "name": "stdout",
     "output_type": "stream",
     "text": [
      "200\n"
     ]
    },
    {
     "name": "stderr",
     "output_type": "stream",
     "text": [
      "Scraping quotes:  32%|███▏      | 328/1020 [09:10<20:42,  1.80s/it]"
     ]
    },
    {
     "name": "stdout",
     "output_type": "stream",
     "text": [
      "200\n"
     ]
    },
    {
     "name": "stderr",
     "output_type": "stream",
     "text": [
      "Scraping quotes:  32%|███▏      | 329/1020 [09:11<17:33,  1.52s/it]"
     ]
    },
    {
     "name": "stdout",
     "output_type": "stream",
     "text": [
      "200\n"
     ]
    },
    {
     "name": "stderr",
     "output_type": "stream",
     "text": [
      "Scraping quotes:  32%|███▏      | 330/1020 [09:11<15:29,  1.35s/it]"
     ]
    },
    {
     "name": "stdout",
     "output_type": "stream",
     "text": [
      "200\n"
     ]
    },
    {
     "name": "stderr",
     "output_type": "stream",
     "text": [
      "Scraping quotes:  32%|███▏      | 331/1020 [09:42<1:55:44, 10.08s/it]"
     ]
    },
    {
     "name": "stdout",
     "output_type": "stream",
     "text": [
      "200\n"
     ]
    },
    {
     "name": "stderr",
     "output_type": "stream",
     "text": [
      "Scraping quotes:  33%|███▎      | 332/1020 [09:43<1:24:51,  7.40s/it]"
     ]
    },
    {
     "name": "stdout",
     "output_type": "stream",
     "text": [
      "\u001b[K\r"
     ]
    },
    {
     "name": "stderr",
     "output_type": "stream",
     "text": [
      "Scraping quotes:  33%|███▎      | 333/1020 [09:44<1:02:00,  5.42s/it]"
     ]
    },
    {
     "name": "stdout",
     "output_type": "stream",
     "text": [
      "500\n",
      "Error scraping {'country': 'US', 'region': 'us-fl', 'crypto_name': 'USDT (BNB Chain)', 'payment_name': 'Instant ACH Bank Transfer', 'regionId': '/regions/us-fl', 'paymentMethodId': '/payments/instant-bank-transfer', 'cryptoCurrencyId': '/currencies/crypto/56/0x55d398326f99059ff775485246999027b3197955', 'fiatCurrencyId': '/currencies/fiat/usd', 'amount': 288, 'request_time': datetime.datetime(2024, 8, 3, 11, 6, 40, 814628)}\n",
      "'success'\n",
      "\n",
      "500\n",
      "Error scraping {'country': 'US', 'region': 'us-fl', 'crypto_name': 'Ethereum Mainnet', 'payment_name': 'Wire Transfer', 'regionId': '/regions/us-fl', 'paymentMethodId': '/payments/wire-transfer', 'cryptoCurrencyId': '/currencies/crypto/1/0x0000000000000000000000000000000000000000', 'fiatCurrencyId': '/currencies/fiat/usd', 'amount': 288, 'request_time': datetime.datetime(2024, 8, 3, 11, 6, 41, 597513)}\n",
      "'success'\n",
      "\n"
     ]
    },
    {
     "name": "stderr",
     "output_type": "stream",
     "text": [
      "Scraping quotes:  33%|███▎      | 334/1020 [11:23<6:24:34, 33.64s/it]"
     ]
    },
    {
     "name": "stdout",
     "output_type": "stream",
     "text": [
      "\u001b[K\r"
     ]
    },
    {
     "name": "stderr",
     "output_type": "stream",
     "text": [
      "Scraping quotes:  33%|███▎      | 335/1020 [11:28<4:43:16, 24.81s/it]"
     ]
    },
    {
     "name": "stdout",
     "output_type": "stream",
     "text": [
      "500\n",
      "Error scraping {'country': 'US', 'region': 'us-fl', 'crypto_name': 'USDT (Ethereum)', 'payment_name': 'Wire Transfer', 'regionId': '/regions/us-fl', 'paymentMethodId': '/payments/wire-transfer', 'cryptoCurrencyId': '/currencies/crypto/1/0xdac17f958d2ee523a2206206994597c13d831ec7', 'fiatCurrencyId': '/currencies/fiat/usd', 'amount': 288, 'request_time': datetime.datetime(2024, 8, 3, 11, 8, 21, 79874)}\n",
      "'success'\n",
      "\n",
      "500\n",
      "Error scraping {'country': 'US', 'region': 'us-fl', 'crypto_name': 'USDT (BNB Chain)', 'payment_name': 'Wire Transfer', 'regionId': '/regions/us-fl', 'paymentMethodId': '/payments/wire-transfer', 'cryptoCurrencyId': '/currencies/crypto/56/0x55d398326f99059ff775485246999027b3197955', 'fiatCurrencyId': '/currencies/fiat/usd', 'amount': 288, 'request_time': datetime.datetime(2024, 8, 3, 11, 8, 25, 306074)}\n",
      "'success'\n",
      "\n"
     ]
    },
    {
     "name": "stderr",
     "output_type": "stream",
     "text": [
      "Scraping quotes:  33%|███▎      | 336/1020 [11:29<3:21:42, 17.69s/it]"
     ]
    },
    {
     "name": "stdout",
     "output_type": "stream",
     "text": [
      "200\n"
     ]
    },
    {
     "name": "stderr",
     "output_type": "stream",
     "text": [
      "Scraping quotes:  33%|███▎      | 337/1020 [11:30<2:24:29, 12.69s/it]"
     ]
    },
    {
     "name": "stdout",
     "output_type": "stream",
     "text": [
      "200\n"
     ]
    },
    {
     "name": "stderr",
     "output_type": "stream",
     "text": [
      "Scraping quotes:  33%|███▎      | 338/1020 [11:31<1:43:57,  9.15s/it]"
     ]
    },
    {
     "name": "stdout",
     "output_type": "stream",
     "text": [
      "200\n"
     ]
    },
    {
     "name": "stderr",
     "output_type": "stream",
     "text": [
      "Scraping quotes:  33%|███▎      | 339/1020 [11:31<1:15:51,  6.68s/it]"
     ]
    },
    {
     "name": "stdout",
     "output_type": "stream",
     "text": [
      "500\n",
      "Error scraping {'country': 'US', 'region': 'us-fl', 'crypto_name': 'Ethereum Mainnet', 'payment_name': 'PSE', 'regionId': '/regions/us-fl', 'paymentMethodId': '/payments/pse', 'cryptoCurrencyId': '/currencies/crypto/1/0x0000000000000000000000000000000000000000', 'fiatCurrencyId': '/currencies/fiat/usd', 'amount': 288, 'request_time': datetime.datetime(2024, 8, 3, 11, 8, 29, 216783)}\n",
      "'success'\n",
      "\n"
     ]
    },
    {
     "name": "stderr",
     "output_type": "stream",
     "text": [
      "Scraping quotes:  33%|███▎      | 340/1020 [11:33<56:40,  5.00s/it]  "
     ]
    },
    {
     "name": "stdout",
     "output_type": "stream",
     "text": [
      "\u001b[K\r"
     ]
    },
    {
     "name": "stderr",
     "output_type": "stream",
     "text": [
      "Scraping quotes:  33%|███▎      | 341/1020 [11:34<44:14,  3.91s/it]"
     ]
    },
    {
     "name": "stdout",
     "output_type": "stream",
     "text": [
      "500\n",
      "Error scraping {'country': 'US', 'region': 'us-fl', 'crypto_name': 'USDT (Ethereum)', 'payment_name': 'PSE', 'regionId': '/regions/us-fl', 'paymentMethodId': '/payments/pse', 'cryptoCurrencyId': '/currencies/crypto/1/0xdac17f958d2ee523a2206206994597c13d831ec7', 'fiatCurrencyId': '/currencies/fiat/usd', 'amount': 288, 'request_time': datetime.datetime(2024, 8, 3, 11, 8, 30, 292339)}\n",
      "'success'\n",
      "\n",
      "\u001b[K\r"
     ]
    },
    {
     "name": "stderr",
     "output_type": "stream",
     "text": [
      "Scraping quotes:  34%|███▎      | 342/1020 [11:35<35:14,  3.12s/it]"
     ]
    },
    {
     "name": "stdout",
     "output_type": "stream",
     "text": [
      "500\n",
      "Error scraping {'country': 'US', 'region': 'us-fl', 'crypto_name': 'USDT (BNB Chain)', 'payment_name': 'PSE', 'regionId': '/regions/us-fl', 'paymentMethodId': '/payments/pse', 'cryptoCurrencyId': '/currencies/crypto/56/0x55d398326f99059ff775485246999027b3197955', 'fiatCurrencyId': '/currencies/fiat/usd', 'amount': 288, 'request_time': datetime.datetime(2024, 8, 3, 11, 8, 31, 654477)}\n",
      "'success'\n",
      "\n",
      "200\n"
     ]
    },
    {
     "name": "stderr",
     "output_type": "stream",
     "text": [
      "Scraping quotes:  34%|███▎      | 343/1020 [11:38<35:09,  3.12s/it]"
     ]
    },
    {
     "name": "stdout",
     "output_type": "stream",
     "text": [
      "200\n"
     ]
    },
    {
     "name": "stderr",
     "output_type": "stream",
     "text": [
      "Scraping quotes:  34%|███▎      | 344/1020 [11:41<32:51,  2.92s/it]"
     ]
    },
    {
     "name": "stdout",
     "output_type": "stream",
     "text": [
      "200\n"
     ]
    },
    {
     "name": "stderr",
     "output_type": "stream",
     "text": [
      "Scraping quotes:  34%|███▍      | 345/1020 [11:42<27:28,  2.44s/it]"
     ]
    },
    {
     "name": "stdout",
     "output_type": "stream",
     "text": [
      "200\n"
     ]
    },
    {
     "name": "stderr",
     "output_type": "stream",
     "text": [
      "Scraping quotes:  34%|███▍      | 346/1020 [11:44<27:12,  2.42s/it]"
     ]
    },
    {
     "name": "stdout",
     "output_type": "stream",
     "text": [
      "200\n"
     ]
    },
    {
     "name": "stderr",
     "output_type": "stream",
     "text": [
      "Scraping quotes:  34%|███▍      | 347/1020 [11:47<27:29,  2.45s/it]"
     ]
    },
    {
     "name": "stdout",
     "output_type": "stream",
     "text": [
      "200\n"
     ]
    },
    {
     "name": "stderr",
     "output_type": "stream",
     "text": [
      "Scraping quotes:  34%|███▍      | 348/1020 [11:48<24:03,  2.15s/it]"
     ]
    },
    {
     "name": "stdout",
     "output_type": "stream",
     "text": [
      "200\n"
     ]
    },
    {
     "name": "stderr",
     "output_type": "stream",
     "text": [
      "Scraping quotes:  34%|███▍      | 349/1020 [11:50<21:19,  1.91s/it]"
     ]
    },
    {
     "name": "stdout",
     "output_type": "stream",
     "text": [
      "200\n"
     ]
    },
    {
     "name": "stderr",
     "output_type": "stream",
     "text": [
      "Scraping quotes:  34%|███▍      | 350/1020 [11:53<24:48,  2.22s/it]"
     ]
    },
    {
     "name": "stdout",
     "output_type": "stream",
     "text": [
      "200\n"
     ]
    },
    {
     "name": "stderr",
     "output_type": "stream",
     "text": [
      "Scraping quotes:  34%|███▍      | 351/1020 [11:54<20:54,  1.87s/it]"
     ]
    },
    {
     "name": "stdout",
     "output_type": "stream",
     "text": [
      "200\n"
     ]
    },
    {
     "name": "stderr",
     "output_type": "stream",
     "text": [
      "Scraping quotes:  35%|███▍      | 352/1020 [11:55<19:39,  1.77s/it]"
     ]
    },
    {
     "name": "stdout",
     "output_type": "stream",
     "text": [
      "200\n"
     ]
    },
    {
     "name": "stderr",
     "output_type": "stream",
     "text": [
      "Scraping quotes:  35%|███▍      | 353/1020 [11:57<17:42,  1.59s/it]"
     ]
    },
    {
     "name": "stdout",
     "output_type": "stream",
     "text": [
      "200\n"
     ]
    },
    {
     "name": "stderr",
     "output_type": "stream",
     "text": [
      "Scraping quotes:  35%|███▍      | 354/1020 [11:58<16:55,  1.53s/it]"
     ]
    },
    {
     "name": "stdout",
     "output_type": "stream",
     "text": [
      "\u001b[K\r"
     ]
    },
    {
     "name": "stderr",
     "output_type": "stream",
     "text": [
      "Scraping quotes:  35%|███▍      | 355/1020 [11:59<14:56,  1.35s/it]"
     ]
    },
    {
     "name": "stdout",
     "output_type": "stream",
     "text": [
      "500\n",
      "Error scraping {'country': 'UK', 'region': 'gb', 'crypto_name': 'Ethereum Mainnet', 'payment_name': 'PSE', 'regionId': '/regions/gb', 'paymentMethodId': '/payments/pse', 'cryptoCurrencyId': '/currencies/crypto/1/0x0000000000000000000000000000000000000000', 'fiatCurrencyId': '/currencies/fiat/gbp', 'amount': 288, 'request_time': datetime.datetime(2024, 8, 3, 11, 8, 55, 597003)}\n",
      "'success'\n",
      "\n",
      "500\n",
      "Error scraping {'country': 'UK', 'region': 'gb', 'crypto_name': 'USDT (Ethereum)', 'payment_name': 'PSE', 'regionId': '/regions/gb', 'paymentMethodId': '/payments/pse', 'cryptoCurrencyId': '/currencies/crypto/1/0xdac17f958d2ee523a2206206994597c13d831ec7', 'fiatCurrencyId': '/currencies/fiat/gbp', 'amount': 288, 'request_time': datetime.datetime(2024, 8, 3, 11, 8, 56, 531581)}\n",
      "'success'\n",
      "\n"
     ]
    },
    {
     "name": "stderr",
     "output_type": "stream",
     "text": [
      "Scraping quotes:  35%|███▍      | 356/1020 [12:00<13:27,  1.22s/it]"
     ]
    },
    {
     "name": "stdout",
     "output_type": "stream",
     "text": [
      "\u001b[K\r"
     ]
    },
    {
     "name": "stderr",
     "output_type": "stream",
     "text": [
      "Scraping quotes:  35%|███▌      | 357/1020 [12:00<11:46,  1.07s/it]"
     ]
    },
    {
     "name": "stdout",
     "output_type": "stream",
     "text": [
      "500\n",
      "Error scraping {'country': 'UK', 'region': 'gb', 'crypto_name': 'USDT (BNB Chain)', 'payment_name': 'PSE', 'regionId': '/regions/gb', 'paymentMethodId': '/payments/pse', 'cryptoCurrencyId': '/currencies/crypto/56/0x55d398326f99059ff775485246999027b3197955', 'fiatCurrencyId': '/currencies/fiat/gbp', 'amount': 288, 'request_time': datetime.datetime(2024, 8, 3, 11, 8, 57, 444355)}\n",
      "'success'\n",
      "\n",
      "200\n"
     ]
    },
    {
     "name": "stderr",
     "output_type": "stream",
     "text": [
      "Scraping quotes:  35%|███▌      | 358/1020 [12:03<16:31,  1.50s/it]"
     ]
    },
    {
     "name": "stdout",
     "output_type": "stream",
     "text": [
      "200\n"
     ]
    },
    {
     "name": "stderr",
     "output_type": "stream",
     "text": [
      "Scraping quotes:  35%|███▌      | 359/1020 [12:05<19:18,  1.75s/it]"
     ]
    },
    {
     "name": "stdout",
     "output_type": "stream",
     "text": [
      "200\n"
     ]
    },
    {
     "name": "stderr",
     "output_type": "stream",
     "text": [
      "Scraping quotes:  35%|███▌      | 360/1020 [12:08<21:14,  1.93s/it]"
     ]
    },
    {
     "name": "stdout",
     "output_type": "stream",
     "text": [
      "200\n"
     ]
    },
    {
     "name": "stderr",
     "output_type": "stream",
     "text": [
      "Scraping quotes:  35%|███▌      | 361/1020 [12:10<24:07,  2.20s/it]"
     ]
    },
    {
     "name": "stdout",
     "output_type": "stream",
     "text": [
      "200\n"
     ]
    },
    {
     "name": "stderr",
     "output_type": "stream",
     "text": [
      "Scraping quotes:  35%|███▌      | 362/1020 [12:13<24:34,  2.24s/it]"
     ]
    },
    {
     "name": "stdout",
     "output_type": "stream",
     "text": [
      "200\n"
     ]
    },
    {
     "name": "stderr",
     "output_type": "stream",
     "text": [
      "Scraping quotes:  36%|███▌      | 363/1020 [12:16<28:12,  2.58s/it]"
     ]
    },
    {
     "name": "stdout",
     "output_type": "stream",
     "text": [
      "200\n"
     ]
    },
    {
     "name": "stderr",
     "output_type": "stream",
     "text": [
      "Scraping quotes:  36%|███▌      | 364/1020 [12:18<26:34,  2.43s/it]"
     ]
    },
    {
     "name": "stdout",
     "output_type": "stream",
     "text": [
      "200\n"
     ]
    },
    {
     "name": "stderr",
     "output_type": "stream",
     "text": [
      "Scraping quotes:  36%|███▌      | 365/1020 [12:20<25:41,  2.35s/it]"
     ]
    },
    {
     "name": "stdout",
     "output_type": "stream",
     "text": [
      "200\n"
     ]
    },
    {
     "name": "stderr",
     "output_type": "stream",
     "text": [
      "Scraping quotes:  36%|███▌      | 366/1020 [12:23<27:11,  2.49s/it]"
     ]
    },
    {
     "name": "stdout",
     "output_type": "stream",
     "text": [
      "200\n"
     ]
    },
    {
     "name": "stderr",
     "output_type": "stream",
     "text": [
      "Scraping quotes:  36%|███▌      | 367/1020 [12:24<22:58,  2.11s/it]"
     ]
    },
    {
     "name": "stdout",
     "output_type": "stream",
     "text": [
      "200\n"
     ]
    },
    {
     "name": "stderr",
     "output_type": "stream",
     "text": [
      "Scraping quotes:  36%|███▌      | 368/1020 [12:26<19:59,  1.84s/it]"
     ]
    },
    {
     "name": "stdout",
     "output_type": "stream",
     "text": [
      "200\n"
     ]
    },
    {
     "name": "stderr",
     "output_type": "stream",
     "text": [
      "Scraping quotes:  36%|███▌      | 369/1020 [12:28<20:47,  1.92s/it]"
     ]
    },
    {
     "name": "stdout",
     "output_type": "stream",
     "text": [
      "\u001b[K\r"
     ]
    },
    {
     "name": "stderr",
     "output_type": "stream",
     "text": [
      "Scraping quotes:  36%|███▋      | 370/1020 [12:29<17:21,  1.60s/it]"
     ]
    },
    {
     "name": "stdout",
     "output_type": "stream",
     "text": [
      "500\n",
      "Error scraping {'country': 'DE', 'region': 'de', 'crypto_name': 'Ethereum Mainnet', 'payment_name': 'PSE', 'regionId': '/regions/de', 'paymentMethodId': '/payments/pse', 'cryptoCurrencyId': '/currencies/crypto/1/0x0000000000000000000000000000000000000000', 'fiatCurrencyId': '/currencies/fiat/eur', 'amount': 406, 'request_time': datetime.datetime(2024, 8, 3, 11, 9, 25, 479274)}\n",
      "'success'\n",
      "\n",
      "500\n",
      "Error scraping {'country': 'DE', 'region': 'de', 'crypto_name': 'USDT (Ethereum)', 'payment_name': 'PSE', 'regionId': '/regions/de', 'paymentMethodId': '/payments/pse', 'cryptoCurrencyId': '/currencies/crypto/1/0xdac17f958d2ee523a2206206994597c13d831ec7', 'fiatCurrencyId': '/currencies/fiat/eur', 'amount': 406, 'request_time': datetime.datetime(2024, 8, 3, 11, 9, 26, 351729)}\n",
      "'success'\n",
      "\n"
     ]
    },
    {
     "name": "stderr",
     "output_type": "stream",
     "text": [
      "Scraping quotes:  36%|███▋      | 371/1020 [12:30<15:40,  1.45s/it]"
     ]
    },
    {
     "name": "stdout",
     "output_type": "stream",
     "text": [
      "\u001b[K\r"
     ]
    },
    {
     "name": "stderr",
     "output_type": "stream",
     "text": [
      "Scraping quotes:  36%|███▋      | 372/1020 [12:31<13:55,  1.29s/it]"
     ]
    },
    {
     "name": "stdout",
     "output_type": "stream",
     "text": [
      "500\n",
      "Error scraping {'country': 'DE', 'region': 'de', 'crypto_name': 'USDT (BNB Chain)', 'payment_name': 'PSE', 'regionId': '/regions/de', 'paymentMethodId': '/payments/pse', 'cryptoCurrencyId': '/currencies/crypto/56/0x55d398326f99059ff775485246999027b3197955', 'fiatCurrencyId': '/currencies/fiat/eur', 'amount': 406, 'request_time': datetime.datetime(2024, 8, 3, 11, 9, 27, 443209)}\n",
      "'success'\n",
      "\n",
      "200\n"
     ]
    },
    {
     "name": "stderr",
     "output_type": "stream",
     "text": [
      "Scraping quotes:  37%|███▋      | 373/1020 [12:33<16:58,  1.57s/it]"
     ]
    },
    {
     "name": "stdout",
     "output_type": "stream",
     "text": [
      "200\n"
     ]
    },
    {
     "name": "stderr",
     "output_type": "stream",
     "text": [
      "Scraping quotes:  37%|███▋      | 374/1020 [12:36<22:57,  2.13s/it]"
     ]
    },
    {
     "name": "stdout",
     "output_type": "stream",
     "text": [
      "200\n"
     ]
    },
    {
     "name": "stderr",
     "output_type": "stream",
     "text": [
      "Scraping quotes:  37%|███▋      | 375/1020 [12:39<23:11,  2.16s/it]"
     ]
    },
    {
     "name": "stdout",
     "output_type": "stream",
     "text": [
      "200\n"
     ]
    },
    {
     "name": "stderr",
     "output_type": "stream",
     "text": [
      "Scraping quotes:  37%|███▋      | 376/1020 [12:42<27:06,  2.53s/it]"
     ]
    },
    {
     "name": "stdout",
     "output_type": "stream",
     "text": [
      "200\n"
     ]
    },
    {
     "name": "stderr",
     "output_type": "stream",
     "text": [
      "Scraping quotes:  37%|███▋      | 377/1020 [12:44<26:58,  2.52s/it]"
     ]
    },
    {
     "name": "stdout",
     "output_type": "stream",
     "text": [
      "200\n"
     ]
    },
    {
     "name": "stderr",
     "output_type": "stream",
     "text": [
      "Scraping quotes:  37%|███▋      | 378/1020 [12:47<26:51,  2.51s/it]"
     ]
    },
    {
     "name": "stdout",
     "output_type": "stream",
     "text": [
      "200\n"
     ]
    },
    {
     "name": "stderr",
     "output_type": "stream",
     "text": [
      "Scraping quotes:  37%|███▋      | 379/1020 [12:48<21:15,  1.99s/it]"
     ]
    },
    {
     "name": "stdout",
     "output_type": "stream",
     "text": [
      "200\n"
     ]
    },
    {
     "name": "stderr",
     "output_type": "stream",
     "text": [
      "Scraping quotes:  37%|███▋      | 380/1020 [12:48<16:53,  1.58s/it]"
     ]
    },
    {
     "name": "stdout",
     "output_type": "stream",
     "text": [
      "200\n"
     ]
    },
    {
     "name": "stderr",
     "output_type": "stream",
     "text": [
      "Scraping quotes:  37%|███▋      | 381/1020 [12:49<13:45,  1.29s/it]"
     ]
    },
    {
     "name": "stdout",
     "output_type": "stream",
     "text": [
      "200\n"
     ]
    },
    {
     "name": "stderr",
     "output_type": "stream",
     "text": [
      "Scraping quotes:  37%|███▋      | 382/1020 [12:50<12:11,  1.15s/it]"
     ]
    },
    {
     "name": "stdout",
     "output_type": "stream",
     "text": [
      "200\n"
     ]
    },
    {
     "name": "stderr",
     "output_type": "stream",
     "text": [
      "Scraping quotes:  38%|███▊      | 383/1020 [12:51<11:10,  1.05s/it]"
     ]
    },
    {
     "name": "stdout",
     "output_type": "stream",
     "text": [
      "500\n",
      "Error scraping {'country': 'US', 'region': 'us-fl', 'crypto_name': 'USDT (BNB Chain)', 'payment_name': 'Instant ACH Bank Transfer', 'regionId': '/regions/us-fl', 'paymentMethodId': '/payments/instant-bank-transfer', 'cryptoCurrencyId': '/currencies/crypto/56/0x55d398326f99059ff775485246999027b3197955', 'fiatCurrencyId': '/currencies/fiat/usd', 'amount': 406, 'request_time': datetime.datetime(2024, 8, 3, 11, 9, 48, 297756)}\n",
      "'success'\n",
      "\n"
     ]
    },
    {
     "name": "stderr",
     "output_type": "stream",
     "text": [
      "Scraping quotes:  38%|███▊      | 384/1020 [12:51<09:31,  1.11it/s]"
     ]
    },
    {
     "name": "stdout",
     "output_type": "stream",
     "text": [
      "\u001b[K\r"
     ]
    },
    {
     "name": "stderr",
     "output_type": "stream",
     "text": [
      "Scraping quotes:  38%|███▊      | 385/1020 [12:53<11:27,  1.08s/it]"
     ]
    },
    {
     "name": "stdout",
     "output_type": "stream",
     "text": [
      "500\n",
      "Error scraping {'country': 'US', 'region': 'us-fl', 'crypto_name': 'Ethereum Mainnet', 'payment_name': 'Wire Transfer', 'regionId': '/regions/us-fl', 'paymentMethodId': '/payments/wire-transfer', 'cryptoCurrencyId': '/currencies/crypto/1/0x0000000000000000000000000000000000000000', 'fiatCurrencyId': '/currencies/fiat/usd', 'amount': 406, 'request_time': datetime.datetime(2024, 8, 3, 11, 9, 48, 827589)}\n",
      "'success'\n",
      "\n",
      "\u001b[K\r"
     ]
    },
    {
     "name": "stderr",
     "output_type": "stream",
     "text": [
      "Scraping quotes:  38%|███▊      | 386/1020 [12:53<10:14,  1.03it/s]"
     ]
    },
    {
     "name": "stdout",
     "output_type": "stream",
     "text": [
      "500\n",
      "Error scraping {'country': 'US', 'region': 'us-fl', 'crypto_name': 'USDT (Ethereum)', 'payment_name': 'Wire Transfer', 'regionId': '/regions/us-fl', 'paymentMethodId': '/payments/wire-transfer', 'cryptoCurrencyId': '/currencies/crypto/1/0xdac17f958d2ee523a2206206994597c13d831ec7', 'fiatCurrencyId': '/currencies/fiat/usd', 'amount': 406, 'request_time': datetime.datetime(2024, 8, 3, 11, 9, 50, 339440)}\n",
      "'success'\n",
      "\n",
      "500\n",
      "Error scraping {'country': 'US', 'region': 'us-fl', 'crypto_name': 'USDT (BNB Chain)', 'payment_name': 'Wire Transfer', 'regionId': '/regions/us-fl', 'paymentMethodId': '/payments/wire-transfer', 'cryptoCurrencyId': '/currencies/crypto/56/0x55d398326f99059ff775485246999027b3197955', 'fiatCurrencyId': '/currencies/fiat/usd', 'amount': 406, 'request_time': datetime.datetime(2024, 8, 3, 11, 9, 51, 47388)}\n",
      "'success'\n",
      "\n"
     ]
    },
    {
     "name": "stderr",
     "output_type": "stream",
     "text": [
      "Scraping quotes:  38%|███▊      | 387/1020 [12:54<09:27,  1.11it/s]"
     ]
    },
    {
     "name": "stdout",
     "output_type": "stream",
     "text": [
      "200\n"
     ]
    },
    {
     "name": "stderr",
     "output_type": "stream",
     "text": [
      "Scraping quotes:  38%|███▊      | 388/1020 [12:55<08:39,  1.22it/s]"
     ]
    },
    {
     "name": "stdout",
     "output_type": "stream",
     "text": [
      "200\n"
     ]
    },
    {
     "name": "stderr",
     "output_type": "stream",
     "text": [
      "Scraping quotes:  38%|███▊      | 389/1020 [12:55<08:18,  1.27it/s]"
     ]
    },
    {
     "name": "stdout",
     "output_type": "stream",
     "text": [
      "200\n"
     ]
    },
    {
     "name": "stderr",
     "output_type": "stream",
     "text": [
      "Scraping quotes:  38%|███▊      | 390/1020 [12:56<08:46,  1.20it/s]"
     ]
    },
    {
     "name": "stdout",
     "output_type": "stream",
     "text": [
      "500\n",
      "Error scraping {'country': 'US', 'region': 'us-fl', 'crypto_name': 'Ethereum Mainnet', 'payment_name': 'PSE', 'regionId': '/regions/us-fl', 'paymentMethodId': '/payments/pse', 'cryptoCurrencyId': '/currencies/crypto/1/0x0000000000000000000000000000000000000000', 'fiatCurrencyId': '/currencies/fiat/usd', 'amount': 406, 'request_time': datetime.datetime(2024, 8, 3, 11, 9, 54, 77560)}\n",
      "'success'\n",
      "\n"
     ]
    },
    {
     "name": "stderr",
     "output_type": "stream",
     "text": [
      "Scraping quotes:  38%|███▊      | 391/1020 [12:58<09:57,  1.05it/s]"
     ]
    },
    {
     "name": "stdout",
     "output_type": "stream",
     "text": [
      "500\n",
      "Error scraping {'country': 'US', 'region': 'us-fl', 'crypto_name': 'USDT (Ethereum)', 'payment_name': 'PSE', 'regionId': '/regions/us-fl', 'paymentMethodId': '/payments/pse', 'cryptoCurrencyId': '/currencies/crypto/1/0xdac17f958d2ee523a2206206994597c13d831ec7', 'fiatCurrencyId': '/currencies/fiat/usd', 'amount': 406, 'request_time': datetime.datetime(2024, 8, 3, 11, 9, 55, 296869)}\n",
      "'success'\n",
      "\n"
     ]
    },
    {
     "name": "stderr",
     "output_type": "stream",
     "text": [
      "Scraping quotes:  38%|███▊      | 392/1020 [12:59<09:54,  1.06it/s]"
     ]
    },
    {
     "name": "stdout",
     "output_type": "stream",
     "text": [
      "\u001b[K\r"
     ]
    },
    {
     "name": "stderr",
     "output_type": "stream",
     "text": [
      "Scraping quotes:  39%|███▊      | 393/1020 [12:59<09:45,  1.07it/s]"
     ]
    },
    {
     "name": "stdout",
     "output_type": "stream",
     "text": [
      "500\n",
      "Error scraping {'country': 'US', 'region': 'us-fl', 'crypto_name': 'USDT (BNB Chain)', 'payment_name': 'PSE', 'regionId': '/regions/us-fl', 'paymentMethodId': '/payments/pse', 'cryptoCurrencyId': '/currencies/crypto/56/0x55d398326f99059ff775485246999027b3197955', 'fiatCurrencyId': '/currencies/fiat/usd', 'amount': 406, 'request_time': datetime.datetime(2024, 8, 3, 11, 9, 56, 232455)}\n",
      "'success'\n",
      "\n",
      "200\n"
     ]
    },
    {
     "name": "stderr",
     "output_type": "stream",
     "text": [
      "Scraping quotes:  39%|███▊      | 394/1020 [13:01<10:40,  1.02s/it]"
     ]
    },
    {
     "name": "stdout",
     "output_type": "stream",
     "text": [
      "200\n"
     ]
    },
    {
     "name": "stderr",
     "output_type": "stream",
     "text": [
      "Scraping quotes:  39%|███▊      | 395/1020 [13:02<10:41,  1.03s/it]"
     ]
    },
    {
     "name": "stdout",
     "output_type": "stream",
     "text": [
      "200\n"
     ]
    },
    {
     "name": "stderr",
     "output_type": "stream",
     "text": [
      "Scraping quotes:  39%|███▉      | 396/1020 [13:03<12:19,  1.19s/it]"
     ]
    },
    {
     "name": "stdout",
     "output_type": "stream",
     "text": [
      "200\n"
     ]
    },
    {
     "name": "stderr",
     "output_type": "stream",
     "text": [
      "Scraping quotes:  39%|███▉      | 397/1020 [13:07<20:57,  2.02s/it]"
     ]
    },
    {
     "name": "stdout",
     "output_type": "stream",
     "text": [
      "200\n"
     ]
    },
    {
     "name": "stderr",
     "output_type": "stream",
     "text": [
      "Scraping quotes:  39%|███▉      | 398/1020 [13:09<19:00,  1.83s/it]"
     ]
    },
    {
     "name": "stdout",
     "output_type": "stream",
     "text": [
      "200\n"
     ]
    },
    {
     "name": "stderr",
     "output_type": "stream",
     "text": [
      "Scraping quotes:  39%|███▉      | 399/1020 [13:10<16:22,  1.58s/it]"
     ]
    },
    {
     "name": "stdout",
     "output_type": "stream",
     "text": [
      "200\n"
     ]
    },
    {
     "name": "stderr",
     "output_type": "stream",
     "text": [
      "Scraping quotes:  39%|███▉      | 400/1020 [13:11<15:15,  1.48s/it]"
     ]
    },
    {
     "name": "stdout",
     "output_type": "stream",
     "text": [
      "200\n"
     ]
    },
    {
     "name": "stderr",
     "output_type": "stream",
     "text": [
      "Scraping quotes:  39%|███▉      | 401/1020 [13:12<15:09,  1.47s/it]"
     ]
    },
    {
     "name": "stdout",
     "output_type": "stream",
     "text": [
      "200\n"
     ]
    },
    {
     "name": "stderr",
     "output_type": "stream",
     "text": [
      "Scraping quotes:  39%|███▉      | 402/1020 [13:14<14:59,  1.46s/it]"
     ]
    },
    {
     "name": "stdout",
     "output_type": "stream",
     "text": [
      "200\n"
     ]
    },
    {
     "name": "stderr",
     "output_type": "stream",
     "text": [
      "Scraping quotes:  40%|███▉      | 403/1020 [13:15<14:20,  1.39s/it]"
     ]
    },
    {
     "name": "stdout",
     "output_type": "stream",
     "text": [
      "200\n"
     ]
    },
    {
     "name": "stderr",
     "output_type": "stream",
     "text": [
      "Scraping quotes:  40%|███▉      | 404/1020 [13:16<13:46,  1.34s/it]"
     ]
    },
    {
     "name": "stdout",
     "output_type": "stream",
     "text": [
      "200\n"
     ]
    },
    {
     "name": "stderr",
     "output_type": "stream",
     "text": [
      "Scraping quotes:  40%|███▉      | 405/1020 [13:17<12:15,  1.20s/it]"
     ]
    },
    {
     "name": "stdout",
     "output_type": "stream",
     "text": [
      "500\n",
      "Error scraping {'country': 'UK', 'region': 'gb', 'crypto_name': 'Ethereum Mainnet', 'payment_name': 'PSE', 'regionId': '/regions/gb', 'paymentMethodId': '/payments/pse', 'cryptoCurrencyId': '/currencies/crypto/1/0x0000000000000000000000000000000000000000', 'fiatCurrencyId': '/currencies/fiat/gbp', 'amount': 406, 'request_time': datetime.datetime(2024, 8, 3, 11, 10, 14, 751371)}\n",
      "'success'\n",
      "\n"
     ]
    },
    {
     "name": "stderr",
     "output_type": "stream",
     "text": [
      "Scraping quotes:  40%|███▉      | 406/1020 [13:23<26:53,  2.63s/it]"
     ]
    },
    {
     "name": "stdout",
     "output_type": "stream",
     "text": [
      "\u001b[K\r"
     ]
    },
    {
     "name": "stderr",
     "output_type": "stream",
     "text": [
      "Scraping quotes:  40%|███▉      | 407/1020 [13:24<21:39,  2.12s/it]"
     ]
    },
    {
     "name": "stdout",
     "output_type": "stream",
     "text": [
      "500\n",
      "Error scraping {'country': 'UK', 'region': 'gb', 'crypto_name': 'USDT (Ethereum)', 'payment_name': 'PSE', 'regionId': '/regions/gb', 'paymentMethodId': '/payments/pse', 'cryptoCurrencyId': '/currencies/crypto/1/0xdac17f958d2ee523a2206206994597c13d831ec7', 'fiatCurrencyId': '/currencies/fiat/gbp', 'amount': 406, 'request_time': datetime.datetime(2024, 8, 3, 11, 10, 20, 719668)}\n",
      "'success'\n",
      "\n",
      "\u001b[K\r"
     ]
    },
    {
     "name": "stderr",
     "output_type": "stream",
     "text": [
      "Scraping quotes:  40%|████      | 408/1020 [13:25<18:07,  1.78s/it]"
     ]
    },
    {
     "name": "stdout",
     "output_type": "stream",
     "text": [
      "500\n",
      "Error scraping {'country': 'UK', 'region': 'gb', 'crypto_name': 'USDT (BNB Chain)', 'payment_name': 'PSE', 'regionId': '/regions/gb', 'paymentMethodId': '/payments/pse', 'cryptoCurrencyId': '/currencies/crypto/56/0x55d398326f99059ff775485246999027b3197955', 'fiatCurrencyId': '/currencies/fiat/gbp', 'amount': 406, 'request_time': datetime.datetime(2024, 8, 3, 11, 10, 21, 655738)}\n",
      "'success'\n",
      "\n",
      "200\n"
     ]
    },
    {
     "name": "stderr",
     "output_type": "stream",
     "text": [
      "Scraping quotes:  40%|████      | 409/1020 [13:27<20:00,  1.97s/it]"
     ]
    },
    {
     "name": "stdout",
     "output_type": "stream",
     "text": [
      "200\n"
     ]
    },
    {
     "name": "stderr",
     "output_type": "stream",
     "text": [
      "Scraping quotes:  40%|████      | 410/1020 [13:30<21:10,  2.08s/it]"
     ]
    },
    {
     "name": "stdout",
     "output_type": "stream",
     "text": [
      "200\n"
     ]
    },
    {
     "name": "stderr",
     "output_type": "stream",
     "text": [
      "Scraping quotes:  40%|████      | 411/1020 [13:32<21:24,  2.11s/it]"
     ]
    },
    {
     "name": "stdout",
     "output_type": "stream",
     "text": [
      "200\n"
     ]
    },
    {
     "name": "stderr",
     "output_type": "stream",
     "text": [
      "Scraping quotes:  40%|████      | 412/1020 [13:35<24:37,  2.43s/it]"
     ]
    },
    {
     "name": "stdout",
     "output_type": "stream",
     "text": [
      "200\n"
     ]
    },
    {
     "name": "stderr",
     "output_type": "stream",
     "text": [
      "Scraping quotes:  40%|████      | 413/1020 [13:38<24:46,  2.45s/it]"
     ]
    },
    {
     "name": "stdout",
     "output_type": "stream",
     "text": [
      "200\n"
     ]
    },
    {
     "name": "stderr",
     "output_type": "stream",
     "text": [
      "Scraping quotes:  41%|████      | 414/1020 [13:40<24:25,  2.42s/it]"
     ]
    },
    {
     "name": "stdout",
     "output_type": "stream",
     "text": [
      "200\n"
     ]
    },
    {
     "name": "stderr",
     "output_type": "stream",
     "text": [
      "Scraping quotes:  41%|████      | 415/1020 [13:42<24:30,  2.43s/it]"
     ]
    },
    {
     "name": "stdout",
     "output_type": "stream",
     "text": [
      "200\n"
     ]
    },
    {
     "name": "stderr",
     "output_type": "stream",
     "text": [
      "Scraping quotes:  41%|████      | 416/1020 [13:45<23:59,  2.38s/it]"
     ]
    },
    {
     "name": "stdout",
     "output_type": "stream",
     "text": [
      "200\n"
     ]
    },
    {
     "name": "stderr",
     "output_type": "stream",
     "text": [
      "Scraping quotes:  41%|████      | 417/1020 [13:47<23:05,  2.30s/it]"
     ]
    },
    {
     "name": "stdout",
     "output_type": "stream",
     "text": [
      "200\n"
     ]
    },
    {
     "name": "stderr",
     "output_type": "stream",
     "text": [
      "Scraping quotes:  41%|████      | 418/1020 [13:48<20:19,  2.03s/it]"
     ]
    },
    {
     "name": "stdout",
     "output_type": "stream",
     "text": [
      "200\n"
     ]
    },
    {
     "name": "stderr",
     "output_type": "stream",
     "text": [
      "Scraping quotes:  41%|████      | 419/1020 [13:49<16:27,  1.64s/it]"
     ]
    },
    {
     "name": "stdout",
     "output_type": "stream",
     "text": [
      "200\n"
     ]
    },
    {
     "name": "stderr",
     "output_type": "stream",
     "text": [
      "Scraping quotes:  41%|████      | 420/1020 [13:50<15:15,  1.53s/it]"
     ]
    },
    {
     "name": "stdout",
     "output_type": "stream",
     "text": [
      "\u001b[K\r"
     ]
    },
    {
     "name": "stderr",
     "output_type": "stream",
     "text": [
      "Scraping quotes:  41%|████▏     | 421/1020 [13:51<13:21,  1.34s/it]"
     ]
    },
    {
     "name": "stdout",
     "output_type": "stream",
     "text": [
      "500\n",
      "Error scraping {'country': 'DE', 'region': 'de', 'crypto_name': 'Ethereum Mainnet', 'payment_name': 'PSE', 'regionId': '/regions/de', 'paymentMethodId': '/payments/pse', 'cryptoCurrencyId': '/currencies/crypto/1/0x0000000000000000000000000000000000000000', 'fiatCurrencyId': '/currencies/fiat/eur', 'amount': 574, 'request_time': datetime.datetime(2024, 8, 3, 11, 10, 47, 806204)}\n",
      "'success'\n",
      "\n",
      "\u001b[K\r"
     ]
    },
    {
     "name": "stderr",
     "output_type": "stream",
     "text": [
      "Scraping quotes:  41%|████▏     | 422/1020 [13:52<12:06,  1.22s/it]"
     ]
    },
    {
     "name": "stdout",
     "output_type": "stream",
     "text": [
      "500\n",
      "Error scraping {'country': 'DE', 'region': 'de', 'crypto_name': 'USDT (Ethereum)', 'payment_name': 'PSE', 'regionId': '/regions/de', 'paymentMethodId': '/payments/pse', 'cryptoCurrencyId': '/currencies/crypto/1/0xdac17f958d2ee523a2206206994597c13d831ec7', 'fiatCurrencyId': '/currencies/fiat/eur', 'amount': 574, 'request_time': datetime.datetime(2024, 8, 3, 11, 10, 48, 711138)}\n",
      "'success'\n",
      "\n",
      "\u001b[K\r"
     ]
    },
    {
     "name": "stderr",
     "output_type": "stream",
     "text": [
      "Scraping quotes:  41%|████▏     | 423/1020 [13:53<11:28,  1.15s/it]"
     ]
    },
    {
     "name": "stdout",
     "output_type": "stream",
     "text": [
      "500\n",
      "Error scraping {'country': 'DE', 'region': 'de', 'crypto_name': 'USDT (BNB Chain)', 'payment_name': 'PSE', 'regionId': '/regions/de', 'paymentMethodId': '/payments/pse', 'cryptoCurrencyId': '/currencies/crypto/56/0x55d398326f99059ff775485246999027b3197955', 'fiatCurrencyId': '/currencies/fiat/eur', 'amount': 574, 'request_time': datetime.datetime(2024, 8, 3, 11, 10, 49, 637668)}\n",
      "'success'\n",
      "\n",
      "200\n"
     ]
    },
    {
     "name": "stderr",
     "output_type": "stream",
     "text": [
      "Scraping quotes:  42%|████▏     | 424/1020 [13:55<13:30,  1.36s/it]"
     ]
    },
    {
     "name": "stdout",
     "output_type": "stream",
     "text": [
      "200\n"
     ]
    },
    {
     "name": "stderr",
     "output_type": "stream",
     "text": [
      "Scraping quotes:  42%|████▏     | 425/1020 [13:57<16:06,  1.63s/it]"
     ]
    },
    {
     "name": "stdout",
     "output_type": "stream",
     "text": [
      "200\n"
     ]
    },
    {
     "name": "stderr",
     "output_type": "stream",
     "text": [
      "Scraping quotes:  42%|████▏     | 426/1020 [13:59<17:51,  1.80s/it]"
     ]
    },
    {
     "name": "stdout",
     "output_type": "stream",
     "text": [
      "200\n"
     ]
    },
    {
     "name": "stderr",
     "output_type": "stream",
     "text": [
      "Scraping quotes:  42%|████▏     | 427/1020 [14:02<19:35,  1.98s/it]"
     ]
    },
    {
     "name": "stdout",
     "output_type": "stream",
     "text": [
      "200\n"
     ]
    },
    {
     "name": "stderr",
     "output_type": "stream",
     "text": [
      "Scraping quotes:  42%|████▏     | 428/1020 [14:04<21:49,  2.21s/it]"
     ]
    },
    {
     "name": "stdout",
     "output_type": "stream",
     "text": [
      "200\n"
     ]
    },
    {
     "name": "stderr",
     "output_type": "stream",
     "text": [
      "Scraping quotes:  42%|████▏     | 429/1020 [14:07<23:02,  2.34s/it]"
     ]
    },
    {
     "name": "stdout",
     "output_type": "stream",
     "text": [
      "200\n"
     ]
    },
    {
     "name": "stderr",
     "output_type": "stream",
     "text": [
      "Scraping quotes:  42%|████▏     | 430/1020 [14:09<21:01,  2.14s/it]"
     ]
    },
    {
     "name": "stdout",
     "output_type": "stream",
     "text": [
      "200\n"
     ]
    },
    {
     "name": "stderr",
     "output_type": "stream",
     "text": [
      "Scraping quotes:  42%|████▏     | 431/1020 [14:10<17:19,  1.76s/it]"
     ]
    },
    {
     "name": "stdout",
     "output_type": "stream",
     "text": [
      "200\n"
     ]
    },
    {
     "name": "stderr",
     "output_type": "stream",
     "text": [
      "Scraping quotes:  42%|████▏     | 432/1020 [14:10<13:55,  1.42s/it]"
     ]
    },
    {
     "name": "stdout",
     "output_type": "stream",
     "text": [
      "200\n"
     ]
    },
    {
     "name": "stderr",
     "output_type": "stream",
     "text": [
      "Scraping quotes:  42%|████▏     | 433/1020 [14:12<15:48,  1.62s/it]"
     ]
    },
    {
     "name": "stdout",
     "output_type": "stream",
     "text": [
      "200\n"
     ]
    },
    {
     "name": "stderr",
     "output_type": "stream",
     "text": [
      "Scraping quotes:  43%|████▎     | 434/1020 [14:13<13:29,  1.38s/it]"
     ]
    },
    {
     "name": "stdout",
     "output_type": "stream",
     "text": [
      "\u001b[K\r"
     ]
    },
    {
     "name": "stderr",
     "output_type": "stream",
     "text": [
      "Scraping quotes:  43%|████▎     | 435/1020 [14:14<11:01,  1.13s/it]"
     ]
    },
    {
     "name": "stdout",
     "output_type": "stream",
     "text": [
      "500\n",
      "Error scraping {'country': 'US', 'region': 'us-fl', 'crypto_name': 'USDT (BNB Chain)', 'payment_name': 'Instant ACH Bank Transfer', 'regionId': '/regions/us-fl', 'paymentMethodId': '/payments/instant-bank-transfer', 'cryptoCurrencyId': '/currencies/crypto/56/0x55d398326f99059ff775485246999027b3197955', 'fiatCurrencyId': '/currencies/fiat/usd', 'amount': 574, 'request_time': datetime.datetime(2024, 8, 3, 11, 11, 10, 817357)}\n",
      "'success'\n",
      "\n",
      "\u001b[K\r"
     ]
    },
    {
     "name": "stderr",
     "output_type": "stream",
     "text": [
      "Scraping quotes:  43%|████▎     | 436/1020 [14:15<10:22,  1.07s/it]"
     ]
    },
    {
     "name": "stdout",
     "output_type": "stream",
     "text": [
      "500\n",
      "Error scraping {'country': 'US', 'region': 'us-fl', 'crypto_name': 'Ethereum Mainnet', 'payment_name': 'Wire Transfer', 'regionId': '/regions/us-fl', 'paymentMethodId': '/payments/wire-transfer', 'cryptoCurrencyId': '/currencies/crypto/1/0x0000000000000000000000000000000000000000', 'fiatCurrencyId': '/currencies/fiat/usd', 'amount': 574, 'request_time': datetime.datetime(2024, 8, 3, 11, 11, 11, 366569)}\n",
      "'success'\n",
      "\n",
      "\u001b[K\r"
     ]
    },
    {
     "name": "stderr",
     "output_type": "stream",
     "text": [
      "Scraping quotes:  43%|████▎     | 437/1020 [14:15<09:41,  1.00it/s]"
     ]
    },
    {
     "name": "stdout",
     "output_type": "stream",
     "text": [
      "500\n",
      "Error scraping {'country': 'US', 'region': 'us-fl', 'crypto_name': 'USDT (Ethereum)', 'payment_name': 'Wire Transfer', 'regionId': '/regions/us-fl', 'paymentMethodId': '/payments/wire-transfer', 'cryptoCurrencyId': '/currencies/crypto/1/0xdac17f958d2ee523a2206206994597c13d831ec7', 'fiatCurrencyId': '/currencies/fiat/usd', 'amount': 574, 'request_time': datetime.datetime(2024, 8, 3, 11, 11, 12, 275978)}\n",
      "'success'\n",
      "\n",
      "500\n",
      "Error scraping {'country': 'US', 'region': 'us-fl', 'crypto_name': 'USDT (BNB Chain)', 'payment_name': 'Wire Transfer', 'regionId': '/regions/us-fl', 'paymentMethodId': '/payments/wire-transfer', 'cryptoCurrencyId': '/currencies/crypto/56/0x55d398326f99059ff775485246999027b3197955', 'fiatCurrencyId': '/currencies/fiat/usd', 'amount': 574, 'request_time': datetime.datetime(2024, 8, 3, 11, 11, 13, 117346)}\n",
      "'success'\n",
      "\n"
     ]
    },
    {
     "name": "stderr",
     "output_type": "stream",
     "text": [
      "Scraping quotes:  43%|████▎     | 438/1020 [14:16<08:55,  1.09it/s]"
     ]
    },
    {
     "name": "stdout",
     "output_type": "stream",
     "text": [
      "200\n"
     ]
    },
    {
     "name": "stderr",
     "output_type": "stream",
     "text": [
      "Scraping quotes:  43%|████▎     | 439/1020 [14:17<08:12,  1.18it/s]"
     ]
    },
    {
     "name": "stdout",
     "output_type": "stream",
     "text": [
      "200\n"
     ]
    },
    {
     "name": "stderr",
     "output_type": "stream",
     "text": [
      "Scraping quotes:  43%|████▎     | 440/1020 [14:18<07:46,  1.24it/s]"
     ]
    },
    {
     "name": "stdout",
     "output_type": "stream",
     "text": [
      "200\n"
     ]
    },
    {
     "name": "stderr",
     "output_type": "stream",
     "text": [
      "Scraping quotes:  43%|████▎     | 441/1020 [14:18<08:10,  1.18it/s]"
     ]
    },
    {
     "name": "stdout",
     "output_type": "stream",
     "text": [
      "500\n",
      "Error scraping {'country': 'US', 'region': 'us-fl', 'crypto_name': 'Ethereum Mainnet', 'payment_name': 'PSE', 'regionId': '/regions/us-fl', 'paymentMethodId': '/payments/pse', 'cryptoCurrencyId': '/currencies/crypto/1/0x0000000000000000000000000000000000000000', 'fiatCurrencyId': '/currencies/fiat/usd', 'amount': 574, 'request_time': datetime.datetime(2024, 8, 3, 11, 11, 16, 183866)}\n",
      "'success'\n",
      "\n"
     ]
    },
    {
     "name": "stderr",
     "output_type": "stream",
     "text": [
      "Scraping quotes:  43%|████▎     | 442/1020 [14:19<08:18,  1.16it/s]"
     ]
    },
    {
     "name": "stdout",
     "output_type": "stream",
     "text": [
      "500\n",
      "Error scraping {'country': 'US', 'region': 'us-fl', 'crypto_name': 'USDT (Ethereum)', 'payment_name': 'PSE', 'regionId': '/regions/us-fl', 'paymentMethodId': '/payments/pse', 'cryptoCurrencyId': '/currencies/crypto/1/0xdac17f958d2ee523a2206206994597c13d831ec7', 'fiatCurrencyId': '/currencies/fiat/usd', 'amount': 574, 'request_time': datetime.datetime(2024, 8, 3, 11, 11, 17, 85894)}\n",
      "'success'\n",
      "\n"
     ]
    },
    {
     "name": "stderr",
     "output_type": "stream",
     "text": [
      "Scraping quotes:  43%|████▎     | 443/1020 [14:20<07:55,  1.21it/s]"
     ]
    },
    {
     "name": "stdout",
     "output_type": "stream",
     "text": [
      "\u001b[K\r"
     ]
    },
    {
     "name": "stderr",
     "output_type": "stream",
     "text": [
      "Scraping quotes:  44%|████▎     | 444/1020 [14:21<08:29,  1.13it/s]"
     ]
    },
    {
     "name": "stdout",
     "output_type": "stream",
     "text": [
      "500\n",
      "Error scraping {'country': 'US', 'region': 'us-fl', 'crypto_name': 'USDT (BNB Chain)', 'payment_name': 'PSE', 'regionId': '/regions/us-fl', 'paymentMethodId': '/payments/pse', 'cryptoCurrencyId': '/currencies/crypto/56/0x55d398326f99059ff775485246999027b3197955', 'fiatCurrencyId': '/currencies/fiat/usd', 'amount': 574, 'request_time': datetime.datetime(2024, 8, 3, 11, 11, 17, 816889)}\n",
      "'success'\n",
      "\n",
      "200\n"
     ]
    },
    {
     "name": "stderr",
     "output_type": "stream",
     "text": [
      "Scraping quotes:  44%|████▎     | 445/1020 [14:23<09:59,  1.04s/it]"
     ]
    },
    {
     "name": "stdout",
     "output_type": "stream",
     "text": [
      "200\n"
     ]
    },
    {
     "name": "stderr",
     "output_type": "stream",
     "text": [
      "Scraping quotes:  44%|████▎     | 446/1020 [14:24<11:37,  1.21s/it]"
     ]
    },
    {
     "name": "stdout",
     "output_type": "stream",
     "text": [
      "200\n"
     ]
    },
    {
     "name": "stderr",
     "output_type": "stream",
     "text": [
      "Scraping quotes:  44%|████▍     | 447/1020 [14:25<11:06,  1.16s/it]"
     ]
    },
    {
     "name": "stdout",
     "output_type": "stream",
     "text": [
      "200\n"
     ]
    },
    {
     "name": "stderr",
     "output_type": "stream",
     "text": [
      "Scraping quotes:  44%|████▍     | 448/1020 [14:26<11:10,  1.17s/it]"
     ]
    },
    {
     "name": "stdout",
     "output_type": "stream",
     "text": [
      "200\n"
     ]
    },
    {
     "name": "stderr",
     "output_type": "stream",
     "text": [
      "Scraping quotes:  44%|████▍     | 449/1020 [14:28<12:38,  1.33s/it]"
     ]
    },
    {
     "name": "stdout",
     "output_type": "stream",
     "text": [
      "200\n"
     ]
    },
    {
     "name": "stderr",
     "output_type": "stream",
     "text": [
      "Scraping quotes:  44%|████▍     | 450/1020 [14:29<11:39,  1.23s/it]"
     ]
    },
    {
     "name": "stdout",
     "output_type": "stream",
     "text": [
      "200\n"
     ]
    },
    {
     "name": "stderr",
     "output_type": "stream",
     "text": [
      "Scraping quotes:  44%|████▍     | 451/1020 [14:30<12:11,  1.28s/it]"
     ]
    },
    {
     "name": "stdout",
     "output_type": "stream",
     "text": [
      "200\n"
     ]
    },
    {
     "name": "stderr",
     "output_type": "stream",
     "text": [
      "Scraping quotes:  44%|████▍     | 452/1020 [14:33<14:44,  1.56s/it]"
     ]
    },
    {
     "name": "stdout",
     "output_type": "stream",
     "text": [
      "200\n"
     ]
    },
    {
     "name": "stderr",
     "output_type": "stream",
     "text": [
      "Scraping quotes:  44%|████▍     | 453/1020 [14:34<13:26,  1.42s/it]"
     ]
    },
    {
     "name": "stdout",
     "output_type": "stream",
     "text": [
      "200\n"
     ]
    },
    {
     "name": "stderr",
     "output_type": "stream",
     "text": [
      "Scraping quotes:  45%|████▍     | 454/1020 [14:36<16:05,  1.71s/it]"
     ]
    },
    {
     "name": "stdout",
     "output_type": "stream",
     "text": [
      "200\n"
     ]
    },
    {
     "name": "stderr",
     "output_type": "stream",
     "text": [
      "Scraping quotes:  45%|████▍     | 455/1020 [14:37<14:58,  1.59s/it]"
     ]
    },
    {
     "name": "stdout",
     "output_type": "stream",
     "text": [
      "200\n"
     ]
    },
    {
     "name": "stderr",
     "output_type": "stream",
     "text": [
      "Scraping quotes:  45%|████▍     | 456/1020 [14:39<13:26,  1.43s/it]"
     ]
    },
    {
     "name": "stdout",
     "output_type": "stream",
     "text": [
      "\u001b[K\r"
     ]
    },
    {
     "name": "stderr",
     "output_type": "stream",
     "text": [
      "Scraping quotes:  45%|████▍     | 457/1020 [14:39<11:35,  1.24s/it]"
     ]
    },
    {
     "name": "stdout",
     "output_type": "stream",
     "text": [
      "500\n",
      "Error scraping {'country': 'UK', 'region': 'gb', 'crypto_name': 'Ethereum Mainnet', 'payment_name': 'PSE', 'regionId': '/regions/gb', 'paymentMethodId': '/payments/pse', 'cryptoCurrencyId': '/currencies/crypto/1/0x0000000000000000000000000000000000000000', 'fiatCurrencyId': '/currencies/fiat/gbp', 'amount': 574, 'request_time': datetime.datetime(2024, 8, 3, 11, 11, 36, 256494)}\n",
      "'success'\n",
      "\n",
      "\u001b[K\r"
     ]
    },
    {
     "name": "stderr",
     "output_type": "stream",
     "text": [
      "Scraping quotes:  45%|████▍     | 458/1020 [14:40<10:46,  1.15s/it]"
     ]
    },
    {
     "name": "stdout",
     "output_type": "stream",
     "text": [
      "500\n",
      "Error scraping {'country': 'UK', 'region': 'gb', 'crypto_name': 'USDT (Ethereum)', 'payment_name': 'PSE', 'regionId': '/regions/gb', 'paymentMethodId': '/payments/pse', 'cryptoCurrencyId': '/currencies/crypto/1/0xdac17f958d2ee523a2206206994597c13d831ec7', 'fiatCurrencyId': '/currencies/fiat/gbp', 'amount': 574, 'request_time': datetime.datetime(2024, 8, 3, 11, 11, 37, 45546)}\n",
      "'success'\n",
      "\n",
      "\u001b[K\r"
     ]
    },
    {
     "name": "stderr",
     "output_type": "stream",
     "text": [
      "Scraping quotes:  45%|████▌     | 459/1020 [14:41<10:37,  1.14s/it]"
     ]
    },
    {
     "name": "stdout",
     "output_type": "stream",
     "text": [
      "500\n",
      "Error scraping {'country': 'UK', 'region': 'gb', 'crypto_name': 'USDT (BNB Chain)', 'payment_name': 'PSE', 'regionId': '/regions/gb', 'paymentMethodId': '/payments/pse', 'cryptoCurrencyId': '/currencies/crypto/56/0x55d398326f99059ff775485246999027b3197955', 'fiatCurrencyId': '/currencies/fiat/gbp', 'amount': 574, 'request_time': datetime.datetime(2024, 8, 3, 11, 11, 37, 992130)}\n",
      "'success'\n",
      "\n",
      "200\n"
     ]
    },
    {
     "name": "stderr",
     "output_type": "stream",
     "text": [
      "Scraping quotes:  45%|████▌     | 460/1020 [14:43<12:27,  1.33s/it]"
     ]
    },
    {
     "name": "stdout",
     "output_type": "stream",
     "text": [
      "200\n"
     ]
    },
    {
     "name": "stderr",
     "output_type": "stream",
     "text": [
      "Scraping quotes:  45%|████▌     | 461/1020 [14:46<15:14,  1.64s/it]"
     ]
    },
    {
     "name": "stdout",
     "output_type": "stream",
     "text": [
      "200\n"
     ]
    },
    {
     "name": "stderr",
     "output_type": "stream",
     "text": [
      "Scraping quotes:  45%|████▌     | 462/1020 [14:48<17:15,  1.86s/it]"
     ]
    },
    {
     "name": "stdout",
     "output_type": "stream",
     "text": [
      "200\n"
     ]
    },
    {
     "name": "stderr",
     "output_type": "stream",
     "text": [
      "Scraping quotes:  45%|████▌     | 463/1020 [14:50<18:44,  2.02s/it]"
     ]
    },
    {
     "name": "stdout",
     "output_type": "stream",
     "text": [
      "200\n"
     ]
    },
    {
     "name": "stderr",
     "output_type": "stream",
     "text": [
      "Scraping quotes:  45%|████▌     | 464/1020 [14:53<20:08,  2.17s/it]"
     ]
    },
    {
     "name": "stdout",
     "output_type": "stream",
     "text": [
      "200\n"
     ]
    },
    {
     "name": "stderr",
     "output_type": "stream",
     "text": [
      "Scraping quotes:  46%|████▌     | 465/1020 [14:55<19:14,  2.08s/it]"
     ]
    },
    {
     "name": "stdout",
     "output_type": "stream",
     "text": [
      "200\n"
     ]
    },
    {
     "name": "stderr",
     "output_type": "stream",
     "text": [
      "Scraping quotes:  46%|████▌     | 466/1020 [14:57<19:47,  2.14s/it]"
     ]
    },
    {
     "name": "stdout",
     "output_type": "stream",
     "text": [
      "200\n"
     ]
    },
    {
     "name": "stderr",
     "output_type": "stream",
     "text": [
      "Scraping quotes:  46%|████▌     | 467/1020 [14:59<20:03,  2.18s/it]"
     ]
    },
    {
     "name": "stdout",
     "output_type": "stream",
     "text": [
      "200\n"
     ]
    },
    {
     "name": "stderr",
     "output_type": "stream",
     "text": [
      "Scraping quotes:  46%|████▌     | 468/1020 [15:01<19:55,  2.17s/it]"
     ]
    },
    {
     "name": "stdout",
     "output_type": "stream",
     "text": [
      "200\n"
     ]
    },
    {
     "name": "stderr",
     "output_type": "stream",
     "text": [
      "Scraping quotes:  46%|████▌     | 469/1020 [15:03<18:14,  1.99s/it]"
     ]
    },
    {
     "name": "stdout",
     "output_type": "stream",
     "text": [
      "200\n"
     ]
    },
    {
     "name": "stderr",
     "output_type": "stream",
     "text": [
      "Scraping quotes:  46%|████▌     | 470/1020 [15:04<16:04,  1.75s/it]"
     ]
    },
    {
     "name": "stdout",
     "output_type": "stream",
     "text": [
      "200\n"
     ]
    },
    {
     "name": "stderr",
     "output_type": "stream",
     "text": [
      "Scraping quotes:  46%|████▌     | 471/1020 [15:05<14:35,  1.59s/it]"
     ]
    },
    {
     "name": "stdout",
     "output_type": "stream",
     "text": [
      "500\n",
      "Error scraping {'country': 'DE', 'region': 'de', 'crypto_name': 'Ethereum Mainnet', 'payment_name': 'PSE', 'regionId': '/regions/de', 'paymentMethodId': '/payments/pse', 'cryptoCurrencyId': '/currencies/crypto/1/0x0000000000000000000000000000000000000000', 'fiatCurrencyId': '/currencies/fiat/eur', 'amount': 810, 'request_time': datetime.datetime(2024, 8, 3, 11, 12, 3, 82384)}\n",
      "'success'\n",
      "\n"
     ]
    },
    {
     "name": "stderr",
     "output_type": "stream",
     "text": [
      "Scraping quotes:  46%|████▋     | 472/1020 [15:07<13:20,  1.46s/it]"
     ]
    },
    {
     "name": "stdout",
     "output_type": "stream",
     "text": [
      "\u001b[K\r"
     ]
    },
    {
     "name": "stderr",
     "output_type": "stream",
     "text": [
      "Scraping quotes:  46%|████▋     | 473/1020 [15:07<11:18,  1.24s/it]"
     ]
    },
    {
     "name": "stdout",
     "output_type": "stream",
     "text": [
      "500\n",
      "Error scraping {'country': 'DE', 'region': 'de', 'crypto_name': 'USDT (Ethereum)', 'payment_name': 'PSE', 'regionId': '/regions/de', 'paymentMethodId': '/payments/pse', 'cryptoCurrencyId': '/currencies/crypto/1/0xdac17f958d2ee523a2206206994597c13d831ec7', 'fiatCurrencyId': '/currencies/fiat/eur', 'amount': 810, 'request_time': datetime.datetime(2024, 8, 3, 11, 12, 4, 227607)}\n",
      "'success'\n",
      "\n",
      "\u001b[K\r"
     ]
    },
    {
     "name": "stderr",
     "output_type": "stream",
     "text": [
      "Scraping quotes:  46%|████▋     | 474/1020 [15:08<09:59,  1.10s/it]"
     ]
    },
    {
     "name": "stdout",
     "output_type": "stream",
     "text": [
      "500\n",
      "Error scraping {'country': 'DE', 'region': 'de', 'crypto_name': 'USDT (BNB Chain)', 'payment_name': 'PSE', 'regionId': '/regions/de', 'paymentMethodId': '/payments/pse', 'cryptoCurrencyId': '/currencies/crypto/56/0x55d398326f99059ff775485246999027b3197955', 'fiatCurrencyId': '/currencies/fiat/eur', 'amount': 810, 'request_time': datetime.datetime(2024, 8, 3, 11, 12, 4, 955692)}\n",
      "'success'\n",
      "\n",
      "200\n"
     ]
    },
    {
     "name": "stderr",
     "output_type": "stream",
     "text": [
      "Scraping quotes:  47%|████▋     | 475/1020 [15:10<13:03,  1.44s/it]"
     ]
    },
    {
     "name": "stdout",
     "output_type": "stream",
     "text": [
      "200\n"
     ]
    },
    {
     "name": "stderr",
     "output_type": "stream",
     "text": [
      "Scraping quotes:  47%|████▋     | 476/1020 [15:13<15:20,  1.69s/it]"
     ]
    },
    {
     "name": "stdout",
     "output_type": "stream",
     "text": [
      "200\n"
     ]
    },
    {
     "name": "stderr",
     "output_type": "stream",
     "text": [
      "Scraping quotes:  47%|████▋     | 477/1020 [15:16<19:52,  2.20s/it]"
     ]
    },
    {
     "name": "stdout",
     "output_type": "stream",
     "text": [
      "200\n"
     ]
    },
    {
     "name": "stderr",
     "output_type": "stream",
     "text": [
      "Scraping quotes:  47%|████▋     | 478/1020 [15:18<20:33,  2.28s/it]"
     ]
    },
    {
     "name": "stdout",
     "output_type": "stream",
     "text": [
      "200\n"
     ]
    },
    {
     "name": "stderr",
     "output_type": "stream",
     "text": [
      "Scraping quotes:  47%|████▋     | 479/1020 [15:21<21:07,  2.34s/it]"
     ]
    },
    {
     "name": "stdout",
     "output_type": "stream",
     "text": [
      "200\n"
     ]
    },
    {
     "name": "stderr",
     "output_type": "stream",
     "text": [
      "Scraping quotes:  47%|████▋     | 480/1020 [15:24<22:00,  2.45s/it]"
     ]
    },
    {
     "name": "stdout",
     "output_type": "stream",
     "text": [
      "200\n"
     ]
    },
    {
     "name": "stderr",
     "output_type": "stream",
     "text": [
      "Scraping quotes:  47%|████▋     | 481/1020 [15:25<18:18,  2.04s/it]"
     ]
    },
    {
     "name": "stdout",
     "output_type": "stream",
     "text": [
      "200\n"
     ]
    },
    {
     "name": "stderr",
     "output_type": "stream",
     "text": [
      "Scraping quotes:  47%|████▋     | 482/1020 [15:25<14:33,  1.62s/it]"
     ]
    },
    {
     "name": "stdout",
     "output_type": "stream",
     "text": [
      "200\n"
     ]
    },
    {
     "name": "stderr",
     "output_type": "stream",
     "text": [
      "Scraping quotes:  47%|████▋     | 483/1020 [15:26<11:58,  1.34s/it]"
     ]
    },
    {
     "name": "stdout",
     "output_type": "stream",
     "text": [
      "200\n"
     ]
    },
    {
     "name": "stderr",
     "output_type": "stream",
     "text": [
      "Scraping quotes:  47%|████▋     | 484/1020 [15:27<11:00,  1.23s/it]"
     ]
    },
    {
     "name": "stdout",
     "output_type": "stream",
     "text": [
      "200\n"
     ]
    },
    {
     "name": "stderr",
     "output_type": "stream",
     "text": [
      "Scraping quotes:  48%|████▊     | 485/1020 [15:28<10:04,  1.13s/it]"
     ]
    },
    {
     "name": "stdout",
     "output_type": "stream",
     "text": [
      "500\n",
      "Error scraping {'country': 'US', 'region': 'us-fl', 'crypto_name': 'USDT (BNB Chain)', 'payment_name': 'Instant ACH Bank Transfer', 'regionId': '/regions/us-fl', 'paymentMethodId': '/payments/instant-bank-transfer', 'cryptoCurrencyId': '/currencies/crypto/56/0x55d398326f99059ff775485246999027b3197955', 'fiatCurrencyId': '/currencies/fiat/usd', 'amount': 810, 'request_time': datetime.datetime(2024, 8, 3, 11, 12, 25, 549307)}\n",
      "'success'\n",
      "\n"
     ]
    },
    {
     "name": "stderr",
     "output_type": "stream",
     "text": [
      "Scraping quotes:  48%|████▊     | 486/1020 [15:28<08:48,  1.01it/s]"
     ]
    },
    {
     "name": "stdout",
     "output_type": "stream",
     "text": [
      "\u001b[K\r"
     ]
    },
    {
     "name": "stderr",
     "output_type": "stream",
     "text": [
      "Scraping quotes:  48%|████▊     | 487/1020 [15:29<07:33,  1.17it/s]"
     ]
    },
    {
     "name": "stdout",
     "output_type": "stream",
     "text": [
      "500\n",
      "Error scraping {'country': 'US', 'region': 'us-fl', 'crypto_name': 'Ethereum Mainnet', 'payment_name': 'Wire Transfer', 'regionId': '/regions/us-fl', 'paymentMethodId': '/payments/wire-transfer', 'cryptoCurrencyId': '/currencies/crypto/1/0x0000000000000000000000000000000000000000', 'fiatCurrencyId': '/currencies/fiat/usd', 'amount': 810, 'request_time': datetime.datetime(2024, 8, 3, 11, 12, 26, 210880)}\n",
      "'success'\n",
      "\n",
      "500\n",
      "Error scraping {'country': 'US', 'region': 'us-fl', 'crypto_name': 'USDT (Ethereum)', 'payment_name': 'Wire Transfer', 'regionId': '/regions/us-fl', 'paymentMethodId': '/payments/wire-transfer', 'cryptoCurrencyId': '/currencies/crypto/1/0xdac17f958d2ee523a2206206994597c13d831ec7', 'fiatCurrencyId': '/currencies/fiat/usd', 'amount': 810, 'request_time': datetime.datetime(2024, 8, 3, 11, 12, 26, 738909)}\n",
      "'success'\n",
      "\n"
     ]
    },
    {
     "name": "stderr",
     "output_type": "stream",
     "text": [
      "Scraping quotes:  48%|████▊     | 488/1020 [15:30<06:48,  1.30it/s]"
     ]
    },
    {
     "name": "stdout",
     "output_type": "stream",
     "text": [
      "\u001b[K\r"
     ]
    },
    {
     "name": "stderr",
     "output_type": "stream",
     "text": [
      "Scraping quotes:  48%|████▊     | 489/1020 [15:30<06:52,  1.29it/s]"
     ]
    },
    {
     "name": "stdout",
     "output_type": "stream",
     "text": [
      "500\n",
      "Error scraping {'country': 'US', 'region': 'us-fl', 'crypto_name': 'USDT (BNB Chain)', 'payment_name': 'Wire Transfer', 'regionId': '/regions/us-fl', 'paymentMethodId': '/payments/wire-transfer', 'cryptoCurrencyId': '/currencies/crypto/56/0x55d398326f99059ff775485246999027b3197955', 'fiatCurrencyId': '/currencies/fiat/usd', 'amount': 810, 'request_time': datetime.datetime(2024, 8, 3, 11, 12, 27, 313483)}\n",
      "'success'\n",
      "\n",
      "200\n"
     ]
    },
    {
     "name": "stderr",
     "output_type": "stream",
     "text": [
      "Scraping quotes:  48%|████▊     | 490/1020 [15:31<06:40,  1.32it/s]"
     ]
    },
    {
     "name": "stdout",
     "output_type": "stream",
     "text": [
      "200\n"
     ]
    },
    {
     "name": "stderr",
     "output_type": "stream",
     "text": [
      "Scraping quotes:  48%|████▊     | 491/1020 [15:32<06:55,  1.27it/s]"
     ]
    },
    {
     "name": "stdout",
     "output_type": "stream",
     "text": [
      "200\n"
     ]
    },
    {
     "name": "stderr",
     "output_type": "stream",
     "text": [
      "Scraping quotes:  48%|████▊     | 492/1020 [15:33<07:36,  1.16it/s]"
     ]
    },
    {
     "name": "stdout",
     "output_type": "stream",
     "text": [
      "\u001b[K\r"
     ]
    },
    {
     "name": "stderr",
     "output_type": "stream",
     "text": [
      "Scraping quotes:  48%|████▊     | 493/1020 [15:34<07:46,  1.13it/s]"
     ]
    },
    {
     "name": "stdout",
     "output_type": "stream",
     "text": [
      "500\n",
      "Error scraping {'country': 'US', 'region': 'us-fl', 'crypto_name': 'Ethereum Mainnet', 'payment_name': 'PSE', 'regionId': '/regions/us-fl', 'paymentMethodId': '/payments/pse', 'cryptoCurrencyId': '/currencies/crypto/1/0x0000000000000000000000000000000000000000', 'fiatCurrencyId': '/currencies/fiat/usd', 'amount': 810, 'request_time': datetime.datetime(2024, 8, 3, 11, 12, 30, 721240)}\n",
      "'success'\n",
      "\n",
      "\u001b[K\r"
     ]
    },
    {
     "name": "stderr",
     "output_type": "stream",
     "text": [
      "Scraping quotes:  48%|████▊     | 494/1020 [15:35<07:49,  1.12it/s]"
     ]
    },
    {
     "name": "stdout",
     "output_type": "stream",
     "text": [
      "500\n",
      "Error scraping {'country': 'US', 'region': 'us-fl', 'crypto_name': 'USDT (Ethereum)', 'payment_name': 'PSE', 'regionId': '/regions/us-fl', 'paymentMethodId': '/payments/pse', 'cryptoCurrencyId': '/currencies/crypto/1/0xdac17f958d2ee523a2206206994597c13d831ec7', 'fiatCurrencyId': '/currencies/fiat/usd', 'amount': 810, 'request_time': datetime.datetime(2024, 8, 3, 11, 12, 31, 655661)}\n",
      "'success'\n",
      "\n",
      "\u001b[K\r"
     ]
    },
    {
     "name": "stderr",
     "output_type": "stream",
     "text": [
      "Scraping quotes:  49%|████▊     | 495/1020 [15:36<07:41,  1.14it/s]"
     ]
    },
    {
     "name": "stdout",
     "output_type": "stream",
     "text": [
      "500\n",
      "Error scraping {'country': 'US', 'region': 'us-fl', 'crypto_name': 'USDT (BNB Chain)', 'payment_name': 'PSE', 'regionId': '/regions/us-fl', 'paymentMethodId': '/payments/pse', 'cryptoCurrencyId': '/currencies/crypto/56/0x55d398326f99059ff775485246999027b3197955', 'fiatCurrencyId': '/currencies/fiat/usd', 'amount': 810, 'request_time': datetime.datetime(2024, 8, 3, 11, 12, 32, 562503)}\n",
      "'success'\n",
      "\n",
      "200\n"
     ]
    },
    {
     "name": "stderr",
     "output_type": "stream",
     "text": [
      "Scraping quotes:  49%|████▊     | 496/1020 [15:37<09:06,  1.04s/it]"
     ]
    },
    {
     "name": "stdout",
     "output_type": "stream",
     "text": [
      "200\n"
     ]
    },
    {
     "name": "stderr",
     "output_type": "stream",
     "text": [
      "Scraping quotes:  49%|████▊     | 497/1020 [15:39<10:40,  1.23s/it]"
     ]
    },
    {
     "name": "stdout",
     "output_type": "stream",
     "text": [
      "200\n"
     ]
    },
    {
     "name": "stderr",
     "output_type": "stream",
     "text": [
      "Scraping quotes:  49%|████▉     | 498/1020 [15:40<10:03,  1.16s/it]"
     ]
    },
    {
     "name": "stdout",
     "output_type": "stream",
     "text": [
      "200\n"
     ]
    },
    {
     "name": "stderr",
     "output_type": "stream",
     "text": [
      "Scraping quotes:  49%|████▉     | 499/1020 [15:41<10:26,  1.20s/it]"
     ]
    },
    {
     "name": "stdout",
     "output_type": "stream",
     "text": [
      "200\n"
     ]
    },
    {
     "name": "stderr",
     "output_type": "stream",
     "text": [
      "Scraping quotes:  49%|████▉     | 500/1020 [15:43<11:05,  1.28s/it]"
     ]
    },
    {
     "name": "stdout",
     "output_type": "stream",
     "text": [
      "200\n"
     ]
    },
    {
     "name": "stderr",
     "output_type": "stream",
     "text": [
      "Scraping quotes:  49%|████▉     | 501/1020 [15:44<11:42,  1.35s/it]"
     ]
    },
    {
     "name": "stdout",
     "output_type": "stream",
     "text": [
      "200\n"
     ]
    },
    {
     "name": "stderr",
     "output_type": "stream",
     "text": [
      "Scraping quotes:  49%|████▉     | 502/1020 [15:45<11:16,  1.31s/it]"
     ]
    },
    {
     "name": "stdout",
     "output_type": "stream",
     "text": [
      "200\n"
     ]
    },
    {
     "name": "stderr",
     "output_type": "stream",
     "text": [
      "Scraping quotes:  49%|████▉     | 503/1020 [15:46<11:04,  1.29s/it]"
     ]
    },
    {
     "name": "stdout",
     "output_type": "stream",
     "text": [
      "200\n"
     ]
    },
    {
     "name": "stderr",
     "output_type": "stream",
     "text": [
      "Scraping quotes:  49%|████▉     | 504/1020 [15:47<10:00,  1.16s/it]"
     ]
    },
    {
     "name": "stdout",
     "output_type": "stream",
     "text": [
      "200\n"
     ]
    },
    {
     "name": "stderr",
     "output_type": "stream",
     "text": [
      "Scraping quotes:  50%|████▉     | 505/1020 [15:49<10:10,  1.19s/it]"
     ]
    },
    {
     "name": "stdout",
     "output_type": "stream",
     "text": [
      "200\n"
     ]
    },
    {
     "name": "stderr",
     "output_type": "stream",
     "text": [
      "Scraping quotes:  50%|████▉     | 506/1020 [15:50<10:46,  1.26s/it]"
     ]
    },
    {
     "name": "stdout",
     "output_type": "stream",
     "text": [
      "200\n"
     ]
    },
    {
     "name": "stderr",
     "output_type": "stream",
     "text": [
      "Scraping quotes:  50%|████▉     | 507/1020 [15:51<10:04,  1.18s/it]"
     ]
    },
    {
     "name": "stdout",
     "output_type": "stream",
     "text": [
      "\u001b[K\r"
     ]
    },
    {
     "name": "stderr",
     "output_type": "stream",
     "text": [
      "Scraping quotes:  50%|████▉     | 508/1020 [15:53<11:22,  1.33s/it]"
     ]
    },
    {
     "name": "stdout",
     "output_type": "stream",
     "text": [
      "500\n",
      "Error scraping {'country': 'UK', 'region': 'gb', 'crypto_name': 'Ethereum Mainnet', 'payment_name': 'PSE', 'regionId': '/regions/gb', 'paymentMethodId': '/payments/pse', 'cryptoCurrencyId': '/currencies/crypto/1/0x0000000000000000000000000000000000000000', 'fiatCurrencyId': '/currencies/fiat/gbp', 'amount': 810, 'request_time': datetime.datetime(2024, 8, 3, 11, 12, 48, 743914)}\n",
      "'success'\n",
      "\n",
      "\u001b[K\r"
     ]
    },
    {
     "name": "stderr",
     "output_type": "stream",
     "text": [
      "Scraping quotes:  50%|████▉     | 509/1020 [15:53<09:55,  1.17s/it]"
     ]
    },
    {
     "name": "stdout",
     "output_type": "stream",
     "text": [
      "500\n",
      "Error scraping {'country': 'UK', 'region': 'gb', 'crypto_name': 'USDT (Ethereum)', 'payment_name': 'PSE', 'regionId': '/regions/gb', 'paymentMethodId': '/payments/pse', 'cryptoCurrencyId': '/currencies/crypto/1/0xdac17f958d2ee523a2206206994597c13d831ec7', 'fiatCurrencyId': '/currencies/fiat/gbp', 'amount': 810, 'request_time': datetime.datetime(2024, 8, 3, 11, 12, 50, 438529)}\n",
      "'success'\n",
      "\n",
      "\u001b[K\r"
     ]
    },
    {
     "name": "stderr",
     "output_type": "stream",
     "text": [
      "Scraping quotes:  50%|█████     | 510/1020 [15:54<08:54,  1.05s/it]"
     ]
    },
    {
     "name": "stdout",
     "output_type": "stream",
     "text": [
      "500\n",
      "Error scraping {'country': 'UK', 'region': 'gb', 'crypto_name': 'USDT (BNB Chain)', 'payment_name': 'PSE', 'regionId': '/regions/gb', 'paymentMethodId': '/payments/pse', 'cryptoCurrencyId': '/currencies/crypto/56/0x55d398326f99059ff775485246999027b3197955', 'fiatCurrencyId': '/currencies/fiat/gbp', 'amount': 810, 'request_time': datetime.datetime(2024, 8, 3, 11, 12, 51, 212753)}\n",
      "'success'\n",
      "\n",
      "200\n"
     ]
    },
    {
     "name": "stderr",
     "output_type": "stream",
     "text": [
      "Scraping quotes:  50%|█████     | 511/1020 [15:57<12:01,  1.42s/it]"
     ]
    },
    {
     "name": "stdout",
     "output_type": "stream",
     "text": [
      "200\n"
     ]
    },
    {
     "name": "stderr",
     "output_type": "stream",
     "text": [
      "Scraping quotes:  50%|█████     | 512/1020 [15:59<14:23,  1.70s/it]"
     ]
    },
    {
     "name": "stdout",
     "output_type": "stream",
     "text": [
      "200\n"
     ]
    },
    {
     "name": "stderr",
     "output_type": "stream",
     "text": [
      "Scraping quotes:  50%|█████     | 513/1020 [16:01<15:33,  1.84s/it]"
     ]
    },
    {
     "name": "stdout",
     "output_type": "stream",
     "text": [
      "200\n"
     ]
    },
    {
     "name": "stderr",
     "output_type": "stream",
     "text": [
      "Scraping quotes:  50%|█████     | 514/1020 [16:03<16:53,  2.00s/it]"
     ]
    },
    {
     "name": "stdout",
     "output_type": "stream",
     "text": [
      "200\n"
     ]
    },
    {
     "name": "stderr",
     "output_type": "stream",
     "text": [
      "Scraping quotes:  50%|█████     | 515/1020 [16:06<17:48,  2.11s/it]"
     ]
    },
    {
     "name": "stdout",
     "output_type": "stream",
     "text": [
      "200\n"
     ]
    },
    {
     "name": "stderr",
     "output_type": "stream",
     "text": [
      "Scraping quotes:  51%|█████     | 516/1020 [16:08<18:26,  2.19s/it]"
     ]
    },
    {
     "name": "stdout",
     "output_type": "stream",
     "text": [
      "200\n"
     ]
    },
    {
     "name": "stderr",
     "output_type": "stream",
     "text": [
      "Scraping quotes:  51%|█████     | 517/1020 [16:11<18:50,  2.25s/it]"
     ]
    },
    {
     "name": "stdout",
     "output_type": "stream",
     "text": [
      "200\n"
     ]
    },
    {
     "name": "stderr",
     "output_type": "stream",
     "text": [
      "Scraping quotes:  51%|█████     | 518/1020 [16:13<18:49,  2.25s/it]"
     ]
    },
    {
     "name": "stdout",
     "output_type": "stream",
     "text": [
      "200\n"
     ]
    },
    {
     "name": "stderr",
     "output_type": "stream",
     "text": [
      "Scraping quotes:  51%|█████     | 519/1020 [16:15<18:56,  2.27s/it]"
     ]
    },
    {
     "name": "stdout",
     "output_type": "stream",
     "text": [
      "200\n"
     ]
    },
    {
     "name": "stderr",
     "output_type": "stream",
     "text": [
      "Scraping quotes:  51%|█████     | 520/1020 [16:16<16:14,  1.95s/it]"
     ]
    },
    {
     "name": "stdout",
     "output_type": "stream",
     "text": [
      "200\n"
     ]
    },
    {
     "name": "stderr",
     "output_type": "stream",
     "text": [
      "Scraping quotes:  51%|█████     | 521/1020 [16:18<15:31,  1.87s/it]"
     ]
    },
    {
     "name": "stdout",
     "output_type": "stream",
     "text": [
      "200\n"
     ]
    },
    {
     "name": "stderr",
     "output_type": "stream",
     "text": [
      "Scraping quotes:  51%|█████     | 522/1020 [16:19<14:09,  1.71s/it]"
     ]
    },
    {
     "name": "stdout",
     "output_type": "stream",
     "text": [
      "500\n",
      "Error scraping {'country': 'DE', 'region': 'de', 'crypto_name': 'Ethereum Mainnet', 'payment_name': 'PSE', 'regionId': '/regions/de', 'paymentMethodId': '/payments/pse', 'cryptoCurrencyId': '/currencies/crypto/1/0x0000000000000000000000000000000000000000', 'fiatCurrencyId': '/currencies/fiat/eur', 'amount': 1144, 'request_time': datetime.datetime(2024, 8, 3, 11, 13, 17, 83515)}\n",
      "'success'\n",
      "\n"
     ]
    },
    {
     "name": "stderr",
     "output_type": "stream",
     "text": [
      "Scraping quotes:  51%|█████▏    | 523/1020 [16:20<12:17,  1.48s/it]"
     ]
    },
    {
     "name": "stdout",
     "output_type": "stream",
     "text": [
      "\u001b[K\r"
     ]
    },
    {
     "name": "stderr",
     "output_type": "stream",
     "text": [
      "Scraping quotes:  51%|█████▏    | 524/1020 [16:21<10:29,  1.27s/it]"
     ]
    },
    {
     "name": "stdout",
     "output_type": "stream",
     "text": [
      "500\n",
      "Error scraping {'country': 'DE', 'region': 'de', 'crypto_name': 'USDT (Ethereum)', 'payment_name': 'PSE', 'regionId': '/regions/de', 'paymentMethodId': '/payments/pse', 'cryptoCurrencyId': '/currencies/crypto/1/0xdac17f958d2ee523a2206206994597c13d831ec7', 'fiatCurrencyId': '/currencies/fiat/eur', 'amount': 1144, 'request_time': datetime.datetime(2024, 8, 3, 11, 13, 18, 45762)}\n",
      "'success'\n",
      "\n",
      "\u001b[K\r"
     ]
    },
    {
     "name": "stderr",
     "output_type": "stream",
     "text": [
      "Scraping quotes:  51%|█████▏    | 525/1020 [16:22<09:13,  1.12s/it]"
     ]
    },
    {
     "name": "stdout",
     "output_type": "stream",
     "text": [
      "500\n",
      "Error scraping {'country': 'DE', 'region': 'de', 'crypto_name': 'USDT (BNB Chain)', 'payment_name': 'PSE', 'regionId': '/regions/de', 'paymentMethodId': '/payments/pse', 'cryptoCurrencyId': '/currencies/crypto/56/0x55d398326f99059ff775485246999027b3197955', 'fiatCurrencyId': '/currencies/fiat/eur', 'amount': 1144, 'request_time': datetime.datetime(2024, 8, 3, 11, 13, 18, 816485)}\n",
      "'success'\n",
      "\n",
      "200\n"
     ]
    },
    {
     "name": "stderr",
     "output_type": "stream",
     "text": [
      "Scraping quotes:  52%|█████▏    | 526/1020 [16:26<17:30,  2.13s/it]"
     ]
    },
    {
     "name": "stdout",
     "output_type": "stream",
     "text": [
      "200\n"
     ]
    },
    {
     "name": "stderr",
     "output_type": "stream",
     "text": [
      "Scraping quotes:  52%|█████▏    | 527/1020 [16:29<18:46,  2.28s/it]"
     ]
    },
    {
     "name": "stdout",
     "output_type": "stream",
     "text": [
      "200\n"
     ]
    },
    {
     "name": "stderr",
     "output_type": "stream",
     "text": [
      "Scraping quotes:  52%|█████▏    | 528/1020 [16:31<19:16,  2.35s/it]"
     ]
    },
    {
     "name": "stdout",
     "output_type": "stream",
     "text": [
      "200\n"
     ]
    },
    {
     "name": "stderr",
     "output_type": "stream",
     "text": [
      "Scraping quotes:  52%|█████▏    | 529/1020 [16:34<19:32,  2.39s/it]"
     ]
    },
    {
     "name": "stdout",
     "output_type": "stream",
     "text": [
      "200\n"
     ]
    },
    {
     "name": "stderr",
     "output_type": "stream",
     "text": [
      "Scraping quotes:  52%|█████▏    | 530/1020 [16:36<19:30,  2.39s/it]"
     ]
    },
    {
     "name": "stdout",
     "output_type": "stream",
     "text": [
      "200\n"
     ]
    },
    {
     "name": "stderr",
     "output_type": "stream",
     "text": [
      "Scraping quotes:  52%|█████▏    | 531/1020 [16:40<22:19,  2.74s/it]"
     ]
    },
    {
     "name": "stdout",
     "output_type": "stream",
     "text": [
      "200\n"
     ]
    },
    {
     "name": "stderr",
     "output_type": "stream",
     "text": [
      "Scraping quotes:  52%|█████▏    | 532/1020 [16:41<17:18,  2.13s/it]"
     ]
    },
    {
     "name": "stdout",
     "output_type": "stream",
     "text": [
      "200\n"
     ]
    },
    {
     "name": "stderr",
     "output_type": "stream",
     "text": [
      "Scraping quotes:  52%|█████▏    | 533/1020 [16:42<16:13,  2.00s/it]"
     ]
    },
    {
     "name": "stdout",
     "output_type": "stream",
     "text": [
      "200\n"
     ]
    },
    {
     "name": "stderr",
     "output_type": "stream",
     "text": [
      "Scraping quotes:  52%|█████▏    | 534/1020 [16:44<15:22,  1.90s/it]"
     ]
    },
    {
     "name": "stdout",
     "output_type": "stream",
     "text": [
      "200\n"
     ]
    },
    {
     "name": "stderr",
     "output_type": "stream",
     "text": [
      "Scraping quotes:  52%|█████▏    | 535/1020 [16:45<12:38,  1.56s/it]"
     ]
    },
    {
     "name": "stdout",
     "output_type": "stream",
     "text": [
      "200\n"
     ]
    },
    {
     "name": "stderr",
     "output_type": "stream",
     "text": [
      "Scraping quotes:  53%|█████▎    | 536/1020 [16:46<10:48,  1.34s/it]"
     ]
    },
    {
     "name": "stdout",
     "output_type": "stream",
     "text": [
      "500\n",
      "Error scraping {'country': 'US', 'region': 'us-fl', 'crypto_name': 'USDT (BNB Chain)', 'payment_name': 'Instant ACH Bank Transfer', 'regionId': '/regions/us-fl', 'paymentMethodId': '/payments/instant-bank-transfer', 'cryptoCurrencyId': '/currencies/crypto/56/0x55d398326f99059ff775485246999027b3197955', 'fiatCurrencyId': '/currencies/fiat/usd', 'amount': 1144, 'request_time': datetime.datetime(2024, 8, 3, 11, 13, 43, 308842)}\n",
      "'success'\n",
      "\n"
     ]
    },
    {
     "name": "stderr",
     "output_type": "stream",
     "text": [
      "Scraping quotes:  53%|█████▎    | 537/1020 [16:51<21:43,  2.70s/it]"
     ]
    },
    {
     "name": "stdout",
     "output_type": "stream",
     "text": [
      "500\n",
      "Error scraping {'country': 'US', 'region': 'us-fl', 'crypto_name': 'Ethereum Mainnet', 'payment_name': 'Wire Transfer', 'regionId': '/regions/us-fl', 'paymentMethodId': '/payments/wire-transfer', 'cryptoCurrencyId': '/currencies/crypto/1/0x0000000000000000000000000000000000000000', 'fiatCurrencyId': '/currencies/fiat/usd', 'amount': 1144, 'request_time': datetime.datetime(2024, 8, 3, 11, 13, 49, 176469)}\n",
      "'success'\n",
      "\n"
     ]
    },
    {
     "name": "stderr",
     "output_type": "stream",
     "text": [
      "Scraping quotes:  53%|█████▎    | 538/1020 [16:52<17:30,  2.18s/it]"
     ]
    },
    {
     "name": "stdout",
     "output_type": "stream",
     "text": [
      "500\n",
      "Error scraping {'country': 'US', 'region': 'us-fl', 'crypto_name': 'USDT (Ethereum)', 'payment_name': 'Wire Transfer', 'regionId': '/regions/us-fl', 'paymentMethodId': '/payments/wire-transfer', 'cryptoCurrencyId': '/currencies/crypto/1/0xdac17f958d2ee523a2206206994597c13d831ec7', 'fiatCurrencyId': '/currencies/fiat/usd', 'amount': 1144, 'request_time': datetime.datetime(2024, 8, 3, 11, 13, 50, 143870)}\n",
      "'success'\n",
      "\n"
     ]
    },
    {
     "name": "stderr",
     "output_type": "stream",
     "text": [
      "Scraping quotes:  53%|█████▎    | 539/1020 [16:53<14:20,  1.79s/it]"
     ]
    },
    {
     "name": "stdout",
     "output_type": "stream",
     "text": [
      "500\n",
      "Error scraping {'country': 'US', 'region': 'us-fl', 'crypto_name': 'USDT (BNB Chain)', 'payment_name': 'Wire Transfer', 'regionId': '/regions/us-fl', 'paymentMethodId': '/payments/wire-transfer', 'cryptoCurrencyId': '/currencies/crypto/56/0x55d398326f99059ff775485246999027b3197955', 'fiatCurrencyId': '/currencies/fiat/usd', 'amount': 1144, 'request_time': datetime.datetime(2024, 8, 3, 11, 13, 51, 21505)}\n",
      "'success'\n",
      "\n"
     ]
    },
    {
     "name": "stderr",
     "output_type": "stream",
     "text": [
      "Scraping quotes:  53%|█████▎    | 540/1020 [16:54<11:53,  1.49s/it]"
     ]
    },
    {
     "name": "stdout",
     "output_type": "stream",
     "text": [
      "200\n"
     ]
    },
    {
     "name": "stderr",
     "output_type": "stream",
     "text": [
      "Scraping quotes:  53%|█████▎    | 541/1020 [16:55<09:49,  1.23s/it]"
     ]
    },
    {
     "name": "stdout",
     "output_type": "stream",
     "text": [
      "200\n"
     ]
    },
    {
     "name": "stderr",
     "output_type": "stream",
     "text": [
      "Scraping quotes:  53%|█████▎    | 542/1020 [16:56<08:50,  1.11s/it]"
     ]
    },
    {
     "name": "stdout",
     "output_type": "stream",
     "text": [
      "200\n"
     ]
    },
    {
     "name": "stderr",
     "output_type": "stream",
     "text": [
      "Scraping quotes:  53%|█████▎    | 543/1020 [16:57<08:49,  1.11s/it]"
     ]
    },
    {
     "name": "stdout",
     "output_type": "stream",
     "text": [
      "\u001b[K\r"
     ]
    },
    {
     "name": "stderr",
     "output_type": "stream",
     "text": [
      "Scraping quotes:  53%|█████▎    | 544/1020 [16:58<08:38,  1.09s/it]"
     ]
    },
    {
     "name": "stdout",
     "output_type": "stream",
     "text": [
      "500\n",
      "Error scraping {'country': 'US', 'region': 'us-fl', 'crypto_name': 'Ethereum Mainnet', 'payment_name': 'PSE', 'regionId': '/regions/us-fl', 'paymentMethodId': '/payments/pse', 'cryptoCurrencyId': '/currencies/crypto/1/0x0000000000000000000000000000000000000000', 'fiatCurrencyId': '/currencies/fiat/usd', 'amount': 1144, 'request_time': datetime.datetime(2024, 8, 3, 11, 13, 54, 375172)}\n",
      "'success'\n",
      "\n",
      "\u001b[K\r"
     ]
    },
    {
     "name": "stderr",
     "output_type": "stream",
     "text": [
      "Scraping quotes:  53%|█████▎    | 545/1020 [16:59<08:23,  1.06s/it]"
     ]
    },
    {
     "name": "stdout",
     "output_type": "stream",
     "text": [
      "500\n",
      "Error scraping {'country': 'US', 'region': 'us-fl', 'crypto_name': 'USDT (Ethereum)', 'payment_name': 'PSE', 'regionId': '/regions/us-fl', 'paymentMethodId': '/payments/pse', 'cryptoCurrencyId': '/currencies/crypto/1/0xdac17f958d2ee523a2206206994597c13d831ec7', 'fiatCurrencyId': '/currencies/fiat/usd', 'amount': 1144, 'request_time': datetime.datetime(2024, 8, 3, 11, 13, 55, 418070)}\n",
      "'success'\n",
      "\n",
      "\u001b[K\r"
     ]
    },
    {
     "name": "stderr",
     "output_type": "stream",
     "text": [
      "Scraping quotes:  54%|█████▎    | 546/1020 [17:01<10:28,  1.33s/it]"
     ]
    },
    {
     "name": "stdout",
     "output_type": "stream",
     "text": [
      "500\n",
      "Error scraping {'country': 'US', 'region': 'us-fl', 'crypto_name': 'USDT (BNB Chain)', 'payment_name': 'PSE', 'regionId': '/regions/us-fl', 'paymentMethodId': '/payments/pse', 'cryptoCurrencyId': '/currencies/crypto/56/0x55d398326f99059ff775485246999027b3197955', 'fiatCurrencyId': '/currencies/fiat/usd', 'amount': 1144, 'request_time': datetime.datetime(2024, 8, 3, 11, 13, 56, 412407)}\n",
      "'success'\n",
      "\n",
      "200\n"
     ]
    },
    {
     "name": "stderr",
     "output_type": "stream",
     "text": [
      "Scraping quotes:  54%|█████▎    | 547/1020 [17:02<11:00,  1.40s/it]"
     ]
    },
    {
     "name": "stdout",
     "output_type": "stream",
     "text": [
      "200\n"
     ]
    },
    {
     "name": "stderr",
     "output_type": "stream",
     "text": [
      "Scraping quotes:  54%|█████▎    | 548/1020 [17:03<09:53,  1.26s/it]"
     ]
    },
    {
     "name": "stdout",
     "output_type": "stream",
     "text": [
      "200\n"
     ]
    },
    {
     "name": "stderr",
     "output_type": "stream",
     "text": [
      "Scraping quotes:  54%|█████▍    | 549/1020 [17:04<08:55,  1.14s/it]"
     ]
    },
    {
     "name": "stdout",
     "output_type": "stream",
     "text": [
      "200\n"
     ]
    },
    {
     "name": "stderr",
     "output_type": "stream",
     "text": [
      "Scraping quotes:  54%|█████▍    | 550/1020 [17:06<10:16,  1.31s/it]"
     ]
    },
    {
     "name": "stdout",
     "output_type": "stream",
     "text": [
      "200\n"
     ]
    },
    {
     "name": "stderr",
     "output_type": "stream",
     "text": [
      "Scraping quotes:  54%|█████▍    | 551/1020 [17:07<10:12,  1.31s/it]"
     ]
    },
    {
     "name": "stdout",
     "output_type": "stream",
     "text": [
      "200\n"
     ]
    },
    {
     "name": "stderr",
     "output_type": "stream",
     "text": [
      "Scraping quotes:  54%|█████▍    | 552/1020 [17:08<09:34,  1.23s/it]"
     ]
    },
    {
     "name": "stdout",
     "output_type": "stream",
     "text": [
      "200\n"
     ]
    },
    {
     "name": "stderr",
     "output_type": "stream",
     "text": [
      "Scraping quotes:  54%|█████▍    | 553/1020 [17:10<11:27,  1.47s/it]"
     ]
    },
    {
     "name": "stdout",
     "output_type": "stream",
     "text": [
      "200\n"
     ]
    },
    {
     "name": "stderr",
     "output_type": "stream",
     "text": [
      "Scraping quotes:  54%|█████▍    | 554/1020 [17:12<11:20,  1.46s/it]"
     ]
    },
    {
     "name": "stdout",
     "output_type": "stream",
     "text": [
      "200\n"
     ]
    },
    {
     "name": "stderr",
     "output_type": "stream",
     "text": [
      "Scraping quotes:  54%|█████▍    | 555/1020 [17:13<10:14,  1.32s/it]"
     ]
    },
    {
     "name": "stdout",
     "output_type": "stream",
     "text": [
      "200\n"
     ]
    },
    {
     "name": "stderr",
     "output_type": "stream",
     "text": [
      "Scraping quotes:  55%|█████▍    | 556/1020 [17:14<09:53,  1.28s/it]"
     ]
    },
    {
     "name": "stdout",
     "output_type": "stream",
     "text": [
      "200\n"
     ]
    },
    {
     "name": "stderr",
     "output_type": "stream",
     "text": [
      "Scraping quotes:  55%|█████▍    | 557/1020 [17:15<09:29,  1.23s/it]"
     ]
    },
    {
     "name": "stdout",
     "output_type": "stream",
     "text": [
      "200\n"
     ]
    },
    {
     "name": "stderr",
     "output_type": "stream",
     "text": [
      "Scraping quotes:  55%|█████▍    | 558/1020 [17:16<09:02,  1.17s/it]"
     ]
    },
    {
     "name": "stdout",
     "output_type": "stream",
     "text": [
      "\u001b[K\r"
     ]
    },
    {
     "name": "stderr",
     "output_type": "stream",
     "text": [
      "Scraping quotes:  55%|█████▍    | 559/1020 [17:17<08:19,  1.08s/it]"
     ]
    },
    {
     "name": "stdout",
     "output_type": "stream",
     "text": [
      "500\n",
      "Error scraping {'country': 'UK', 'region': 'gb', 'crypto_name': 'Ethereum Mainnet', 'payment_name': 'PSE', 'regionId': '/regions/gb', 'paymentMethodId': '/payments/pse', 'cryptoCurrencyId': '/currencies/crypto/1/0x0000000000000000000000000000000000000000', 'fiatCurrencyId': '/currencies/fiat/gbp', 'amount': 1144, 'request_time': datetime.datetime(2024, 8, 3, 11, 14, 13, 573285)}\n",
      "'success'\n",
      "\n",
      "\u001b[K\r"
     ]
    },
    {
     "name": "stderr",
     "output_type": "stream",
     "text": [
      "Scraping quotes:  55%|█████▍    | 560/1020 [17:17<07:30,  1.02it/s]"
     ]
    },
    {
     "name": "stdout",
     "output_type": "stream",
     "text": [
      "500\n",
      "Error scraping {'country': 'UK', 'region': 'gb', 'crypto_name': 'USDT (Ethereum)', 'payment_name': 'PSE', 'regionId': '/regions/gb', 'paymentMethodId': '/payments/pse', 'cryptoCurrencyId': '/currencies/crypto/1/0xdac17f958d2ee523a2206206994597c13d831ec7', 'fiatCurrencyId': '/currencies/fiat/gbp', 'amount': 1144, 'request_time': datetime.datetime(2024, 8, 3, 11, 14, 14, 446342)}\n",
      "'success'\n",
      "\n",
      "\u001b[K\r"
     ]
    },
    {
     "name": "stderr",
     "output_type": "stream",
     "text": [
      "Scraping quotes:  55%|█████▌    | 561/1020 [17:18<07:32,  1.01it/s]"
     ]
    },
    {
     "name": "stdout",
     "output_type": "stream",
     "text": [
      "500\n",
      "Error scraping {'country': 'UK', 'region': 'gb', 'crypto_name': 'USDT (BNB Chain)', 'payment_name': 'PSE', 'regionId': '/regions/gb', 'paymentMethodId': '/payments/pse', 'cryptoCurrencyId': '/currencies/crypto/56/0x55d398326f99059ff775485246999027b3197955', 'fiatCurrencyId': '/currencies/fiat/gbp', 'amount': 1144, 'request_time': datetime.datetime(2024, 8, 3, 11, 14, 15, 182172)}\n",
      "'success'\n",
      "\n",
      "200\n"
     ]
    },
    {
     "name": "stderr",
     "output_type": "stream",
     "text": [
      "Scraping quotes:  55%|█████▌    | 562/1020 [17:22<12:17,  1.61s/it]"
     ]
    },
    {
     "name": "stdout",
     "output_type": "stream",
     "text": [
      "200\n"
     ]
    },
    {
     "name": "stderr",
     "output_type": "stream",
     "text": [
      "Scraping quotes:  55%|█████▌    | 563/1020 [17:24<15:15,  2.00s/it]"
     ]
    },
    {
     "name": "stdout",
     "output_type": "stream",
     "text": [
      "200\n"
     ]
    },
    {
     "name": "stderr",
     "output_type": "stream",
     "text": [
      "Scraping quotes:  55%|█████▌    | 564/1020 [17:27<17:09,  2.26s/it]"
     ]
    },
    {
     "name": "stdout",
     "output_type": "stream",
     "text": [
      "200\n"
     ]
    },
    {
     "name": "stderr",
     "output_type": "stream",
     "text": [
      "Scraping quotes:  55%|█████▌    | 565/1020 [17:30<17:22,  2.29s/it]"
     ]
    },
    {
     "name": "stdout",
     "output_type": "stream",
     "text": [
      "200\n"
     ]
    },
    {
     "name": "stderr",
     "output_type": "stream",
     "text": [
      "Scraping quotes:  55%|█████▌    | 566/1020 [17:31<15:52,  2.10s/it]"
     ]
    },
    {
     "name": "stdout",
     "output_type": "stream",
     "text": [
      "200\n"
     ]
    },
    {
     "name": "stderr",
     "output_type": "stream",
     "text": [
      "Scraping quotes:  56%|█████▌    | 567/1020 [17:33<15:55,  2.11s/it]"
     ]
    },
    {
     "name": "stdout",
     "output_type": "stream",
     "text": [
      "200\n"
     ]
    },
    {
     "name": "stderr",
     "output_type": "stream",
     "text": [
      "Scraping quotes:  56%|█████▌    | 568/1020 [17:36<16:32,  2.19s/it]"
     ]
    },
    {
     "name": "stdout",
     "output_type": "stream",
     "text": [
      "200\n"
     ]
    },
    {
     "name": "stderr",
     "output_type": "stream",
     "text": [
      "Scraping quotes:  56%|█████▌    | 569/1020 [17:38<17:01,  2.27s/it]"
     ]
    },
    {
     "name": "stdout",
     "output_type": "stream",
     "text": [
      "200\n"
     ]
    },
    {
     "name": "stderr",
     "output_type": "stream",
     "text": [
      "Scraping quotes:  56%|█████▌    | 570/1020 [17:42<19:13,  2.56s/it]"
     ]
    },
    {
     "name": "stdout",
     "output_type": "stream",
     "text": [
      "200\n"
     ]
    },
    {
     "name": "stderr",
     "output_type": "stream",
     "text": [
      "Scraping quotes:  56%|█████▌    | 571/1020 [17:43<16:16,  2.17s/it]"
     ]
    },
    {
     "name": "stdout",
     "output_type": "stream",
     "text": [
      "200\n"
     ]
    },
    {
     "name": "stderr",
     "output_type": "stream",
     "text": [
      "Scraping quotes:  56%|█████▌    | 572/1020 [17:44<14:09,  1.90s/it]"
     ]
    },
    {
     "name": "stdout",
     "output_type": "stream",
     "text": [
      "200\n"
     ]
    },
    {
     "name": "stderr",
     "output_type": "stream",
     "text": [
      "Scraping quotes:  56%|█████▌    | 573/1020 [17:45<13:07,  1.76s/it]"
     ]
    },
    {
     "name": "stdout",
     "output_type": "stream",
     "text": [
      "\u001b[K\r"
     ]
    },
    {
     "name": "stderr",
     "output_type": "stream",
     "text": [
      "Scraping quotes:  56%|█████▋    | 574/1020 [17:46<11:19,  1.52s/it]"
     ]
    },
    {
     "name": "stdout",
     "output_type": "stream",
     "text": [
      "500\n",
      "Error scraping {'country': 'DE', 'region': 'de', 'crypto_name': 'Ethereum Mainnet', 'payment_name': 'PSE', 'regionId': '/regions/de', 'paymentMethodId': '/payments/pse', 'cryptoCurrencyId': '/currencies/crypto/1/0x0000000000000000000000000000000000000000', 'fiatCurrencyId': '/currencies/fiat/eur', 'amount': 1616, 'request_time': datetime.datetime(2024, 8, 3, 11, 14, 43, 220282)}\n",
      "'success'\n",
      "\n",
      "\u001b[K\r"
     ]
    },
    {
     "name": "stderr",
     "output_type": "stream",
     "text": [
      "Scraping quotes:  56%|█████▋    | 575/1020 [17:47<09:32,  1.29s/it]"
     ]
    },
    {
     "name": "stdout",
     "output_type": "stream",
     "text": [
      "500\n",
      "Error scraping {'country': 'DE', 'region': 'de', 'crypto_name': 'USDT (Ethereum)', 'payment_name': 'PSE', 'regionId': '/regions/de', 'paymentMethodId': '/payments/pse', 'cryptoCurrencyId': '/currencies/crypto/1/0xdac17f958d2ee523a2206206994597c13d831ec7', 'fiatCurrencyId': '/currencies/fiat/eur', 'amount': 1616, 'request_time': datetime.datetime(2024, 8, 3, 11, 14, 44, 186047)}\n",
      "'success'\n",
      "\n",
      "\u001b[K\r"
     ]
    },
    {
     "name": "stderr",
     "output_type": "stream",
     "text": [
      "Scraping quotes:  56%|█████▋    | 576/1020 [17:48<08:37,  1.16s/it]"
     ]
    },
    {
     "name": "stdout",
     "output_type": "stream",
     "text": [
      "500\n",
      "Error scraping {'country': 'DE', 'region': 'de', 'crypto_name': 'USDT (BNB Chain)', 'payment_name': 'PSE', 'regionId': '/regions/de', 'paymentMethodId': '/payments/pse', 'cryptoCurrencyId': '/currencies/crypto/56/0x55d398326f99059ff775485246999027b3197955', 'fiatCurrencyId': '/currencies/fiat/eur', 'amount': 1616, 'request_time': datetime.datetime(2024, 8, 3, 11, 14, 44, 925753)}\n",
      "'success'\n",
      "\n",
      "200\n"
     ]
    },
    {
     "name": "stderr",
     "output_type": "stream",
     "text": [
      "Scraping quotes:  57%|█████▋    | 577/1020 [17:51<12:36,  1.71s/it]"
     ]
    },
    {
     "name": "stdout",
     "output_type": "stream",
     "text": [
      "200\n"
     ]
    },
    {
     "name": "stderr",
     "output_type": "stream",
     "text": [
      "Scraping quotes:  57%|█████▋    | 578/1020 [17:53<14:04,  1.91s/it]"
     ]
    },
    {
     "name": "stdout",
     "output_type": "stream",
     "text": [
      "200\n"
     ]
    },
    {
     "name": "stderr",
     "output_type": "stream",
     "text": [
      "Scraping quotes:  57%|█████▋    | 579/1020 [17:56<14:42,  2.00s/it]"
     ]
    },
    {
     "name": "stdout",
     "output_type": "stream",
     "text": [
      "200\n"
     ]
    },
    {
     "name": "stderr",
     "output_type": "stream",
     "text": [
      "Scraping quotes:  57%|█████▋    | 580/1020 [17:58<16:28,  2.25s/it]"
     ]
    },
    {
     "name": "stdout",
     "output_type": "stream",
     "text": [
      "200\n"
     ]
    },
    {
     "name": "stderr",
     "output_type": "stream",
     "text": [
      "Scraping quotes:  57%|█████▋    | 581/1020 [18:01<17:07,  2.34s/it]"
     ]
    },
    {
     "name": "stdout",
     "output_type": "stream",
     "text": [
      "200\n"
     ]
    },
    {
     "name": "stderr",
     "output_type": "stream",
     "text": [
      "Scraping quotes:  57%|█████▋    | 582/1020 [18:02<15:10,  2.08s/it]"
     ]
    },
    {
     "name": "stdout",
     "output_type": "stream",
     "text": [
      "200\n"
     ]
    },
    {
     "name": "stderr",
     "output_type": "stream",
     "text": [
      "Scraping quotes:  57%|█████▋    | 583/1020 [18:04<12:58,  1.78s/it]"
     ]
    },
    {
     "name": "stdout",
     "output_type": "stream",
     "text": [
      "200\n"
     ]
    },
    {
     "name": "stderr",
     "output_type": "stream",
     "text": [
      "Scraping quotes:  57%|█████▋    | 584/1020 [18:05<11:08,  1.53s/it]"
     ]
    },
    {
     "name": "stdout",
     "output_type": "stream",
     "text": [
      "200\n"
     ]
    },
    {
     "name": "stderr",
     "output_type": "stream",
     "text": [
      "Scraping quotes:  57%|█████▋    | 585/1020 [18:05<09:14,  1.27s/it]"
     ]
    },
    {
     "name": "stdout",
     "output_type": "stream",
     "text": [
      "200\n"
     ]
    },
    {
     "name": "stderr",
     "output_type": "stream",
     "text": [
      "Scraping quotes:  57%|█████▋    | 586/1020 [18:06<08:39,  1.20s/it]"
     ]
    },
    {
     "name": "stdout",
     "output_type": "stream",
     "text": [
      "200\n"
     ]
    },
    {
     "name": "stderr",
     "output_type": "stream",
     "text": [
      "Scraping quotes:  58%|█████▊    | 587/1020 [18:07<07:56,  1.10s/it]"
     ]
    },
    {
     "name": "stdout",
     "output_type": "stream",
     "text": [
      "\u001b[K\r"
     ]
    },
    {
     "name": "stderr",
     "output_type": "stream",
     "text": [
      "Scraping quotes:  58%|█████▊    | 588/1020 [18:08<07:26,  1.03s/it]"
     ]
    },
    {
     "name": "stdout",
     "output_type": "stream",
     "text": [
      "500\n",
      "Error scraping {'country': 'US', 'region': 'us-fl', 'crypto_name': 'USDT (BNB Chain)', 'payment_name': 'Instant ACH Bank Transfer', 'regionId': '/regions/us-fl', 'paymentMethodId': '/payments/instant-bank-transfer', 'cryptoCurrencyId': '/currencies/crypto/56/0x55d398326f99059ff775485246999027b3197955', 'fiatCurrencyId': '/currencies/fiat/usd', 'amount': 1616, 'request_time': datetime.datetime(2024, 8, 3, 11, 15, 4, 825475)}\n",
      "'success'\n",
      "\n",
      "500\n",
      "Error scraping {'country': 'US', 'region': 'us-fl', 'crypto_name': 'Ethereum Mainnet', 'payment_name': 'Wire Transfer', 'regionId': '/regions/us-fl', 'paymentMethodId': '/payments/wire-transfer', 'cryptoCurrencyId': '/currencies/crypto/1/0x0000000000000000000000000000000000000000', 'fiatCurrencyId': '/currencies/fiat/usd', 'amount': 1616, 'request_time': datetime.datetime(2024, 8, 3, 11, 15, 5, 698800)}\n",
      "'success'\n",
      "\n"
     ]
    },
    {
     "name": "stderr",
     "output_type": "stream",
     "text": [
      "Scraping quotes:  58%|█████▊    | 589/1020 [18:09<06:28,  1.11it/s]"
     ]
    },
    {
     "name": "stdout",
     "output_type": "stream",
     "text": [
      "\u001b[K\r"
     ]
    },
    {
     "name": "stderr",
     "output_type": "stream",
     "text": [
      "Scraping quotes:  58%|█████▊    | 590/1020 [18:10<07:46,  1.08s/it]"
     ]
    },
    {
     "name": "stdout",
     "output_type": "stream",
     "text": [
      "500\n",
      "Error scraping {'country': 'US', 'region': 'us-fl', 'crypto_name': 'USDT (Ethereum)', 'payment_name': 'Wire Transfer', 'regionId': '/regions/us-fl', 'paymentMethodId': '/payments/wire-transfer', 'cryptoCurrencyId': '/currencies/crypto/1/0xdac17f958d2ee523a2206206994597c13d831ec7', 'fiatCurrencyId': '/currencies/fiat/usd', 'amount': 1616, 'request_time': datetime.datetime(2024, 8, 3, 11, 15, 6, 295232)}\n",
      "'success'\n",
      "\n",
      "\u001b[K\r"
     ]
    },
    {
     "name": "stderr",
     "output_type": "stream",
     "text": [
      "Scraping quotes:  58%|█████▊    | 591/1020 [18:11<06:36,  1.08it/s]"
     ]
    },
    {
     "name": "stdout",
     "output_type": "stream",
     "text": [
      "500\n",
      "Error scraping {'country': 'US', 'region': 'us-fl', 'crypto_name': 'USDT (BNB Chain)', 'payment_name': 'Wire Transfer', 'regionId': '/regions/us-fl', 'paymentMethodId': '/payments/wire-transfer', 'cryptoCurrencyId': '/currencies/crypto/56/0x55d398326f99059ff775485246999027b3197955', 'fiatCurrencyId': '/currencies/fiat/usd', 'amount': 1616, 'request_time': datetime.datetime(2024, 8, 3, 11, 15, 7, 809823)}\n",
      "'success'\n",
      "\n",
      "200\n"
     ]
    },
    {
     "name": "stderr",
     "output_type": "stream",
     "text": [
      "Scraping quotes:  58%|█████▊    | 592/1020 [18:11<06:00,  1.19it/s]"
     ]
    },
    {
     "name": "stdout",
     "output_type": "stream",
     "text": [
      "200\n"
     ]
    },
    {
     "name": "stderr",
     "output_type": "stream",
     "text": [
      "Scraping quotes:  58%|█████▊    | 593/1020 [18:13<06:53,  1.03it/s]"
     ]
    },
    {
     "name": "stdout",
     "output_type": "stream",
     "text": [
      "200\n"
     ]
    },
    {
     "name": "stderr",
     "output_type": "stream",
     "text": [
      "Scraping quotes:  58%|█████▊    | 594/1020 [18:14<07:23,  1.04s/it]"
     ]
    },
    {
     "name": "stdout",
     "output_type": "stream",
     "text": [
      "\u001b[K\r"
     ]
    },
    {
     "name": "stderr",
     "output_type": "stream",
     "text": [
      "Scraping quotes:  58%|█████▊    | 595/1020 [18:15<07:09,  1.01s/it]"
     ]
    },
    {
     "name": "stdout",
     "output_type": "stream",
     "text": [
      "500\n",
      "Error scraping {'country': 'US', 'region': 'us-fl', 'crypto_name': 'Ethereum Mainnet', 'payment_name': 'PSE', 'regionId': '/regions/us-fl', 'paymentMethodId': '/payments/pse', 'cryptoCurrencyId': '/currencies/crypto/1/0x0000000000000000000000000000000000000000', 'fiatCurrencyId': '/currencies/fiat/usd', 'amount': 1616, 'request_time': datetime.datetime(2024, 8, 3, 11, 15, 11, 477959)}\n",
      "'success'\n",
      "\n",
      "\u001b[K\r"
     ]
    },
    {
     "name": "stderr",
     "output_type": "stream",
     "text": [
      "Scraping quotes:  58%|█████▊    | 596/1020 [18:16<07:52,  1.11s/it]"
     ]
    },
    {
     "name": "stdout",
     "output_type": "stream",
     "text": [
      "500\n",
      "Error scraping {'country': 'US', 'region': 'us-fl', 'crypto_name': 'USDT (Ethereum)', 'payment_name': 'PSE', 'regionId': '/regions/us-fl', 'paymentMethodId': '/payments/pse', 'cryptoCurrencyId': '/currencies/crypto/1/0xdac17f958d2ee523a2206206994597c13d831ec7', 'fiatCurrencyId': '/currencies/fiat/usd', 'amount': 1616, 'request_time': datetime.datetime(2024, 8, 3, 11, 15, 12, 420776)}\n",
      "'success'\n",
      "\n",
      "\u001b[K\r"
     ]
    },
    {
     "name": "stderr",
     "output_type": "stream",
     "text": [
      "Scraping quotes:  59%|█████▊    | 597/1020 [18:17<07:19,  1.04s/it]"
     ]
    },
    {
     "name": "stdout",
     "output_type": "stream",
     "text": [
      "500\n",
      "Error scraping {'country': 'US', 'region': 'us-fl', 'crypto_name': 'USDT (BNB Chain)', 'payment_name': 'PSE', 'regionId': '/regions/us-fl', 'paymentMethodId': '/payments/pse', 'cryptoCurrencyId': '/currencies/crypto/56/0x55d398326f99059ff775485246999027b3197955', 'fiatCurrencyId': '/currencies/fiat/usd', 'amount': 1616, 'request_time': datetime.datetime(2024, 8, 3, 11, 15, 13, 772578)}\n",
      "'success'\n",
      "\n",
      "200\n"
     ]
    },
    {
     "name": "stderr",
     "output_type": "stream",
     "text": [
      "Scraping quotes:  59%|█████▊    | 598/1020 [18:18<07:29,  1.07s/it]"
     ]
    },
    {
     "name": "stdout",
     "output_type": "stream",
     "text": [
      "200\n"
     ]
    },
    {
     "name": "stderr",
     "output_type": "stream",
     "text": [
      "Scraping quotes:  59%|█████▊    | 599/1020 [18:19<07:36,  1.08s/it]"
     ]
    },
    {
     "name": "stdout",
     "output_type": "stream",
     "text": [
      "200\n"
     ]
    },
    {
     "name": "stderr",
     "output_type": "stream",
     "text": [
      "Scraping quotes:  59%|█████▉    | 600/1020 [18:20<07:11,  1.03s/it]"
     ]
    },
    {
     "name": "stdout",
     "output_type": "stream",
     "text": [
      "200\n"
     ]
    },
    {
     "name": "stderr",
     "output_type": "stream",
     "text": [
      "Scraping quotes:  59%|█████▉    | 601/1020 [18:22<08:36,  1.23s/it]"
     ]
    },
    {
     "name": "stdout",
     "output_type": "stream",
     "text": [
      "200\n"
     ]
    },
    {
     "name": "stderr",
     "output_type": "stream",
     "text": [
      "Scraping quotes:  59%|█████▉    | 602/1020 [18:24<10:44,  1.54s/it]"
     ]
    },
    {
     "name": "stdout",
     "output_type": "stream",
     "text": [
      "200\n"
     ]
    },
    {
     "name": "stderr",
     "output_type": "stream",
     "text": [
      "Scraping quotes:  59%|█████▉    | 603/1020 [18:25<10:13,  1.47s/it]"
     ]
    },
    {
     "name": "stdout",
     "output_type": "stream",
     "text": [
      "200\n"
     ]
    },
    {
     "name": "stderr",
     "output_type": "stream",
     "text": [
      "Scraping quotes:  59%|█████▉    | 604/1020 [18:27<09:33,  1.38s/it]"
     ]
    },
    {
     "name": "stdout",
     "output_type": "stream",
     "text": [
      "200\n"
     ]
    },
    {
     "name": "stderr",
     "output_type": "stream",
     "text": [
      "Scraping quotes:  59%|█████▉    | 605/1020 [18:28<09:43,  1.41s/it]"
     ]
    },
    {
     "name": "stdout",
     "output_type": "stream",
     "text": [
      "200\n"
     ]
    },
    {
     "name": "stderr",
     "output_type": "stream",
     "text": [
      "Scraping quotes:  59%|█████▉    | 606/1020 [18:29<09:08,  1.32s/it]"
     ]
    },
    {
     "name": "stdout",
     "output_type": "stream",
     "text": [
      "200\n"
     ]
    },
    {
     "name": "stderr",
     "output_type": "stream",
     "text": [
      "Scraping quotes:  60%|█████▉    | 607/1020 [18:30<08:39,  1.26s/it]"
     ]
    },
    {
     "name": "stdout",
     "output_type": "stream",
     "text": [
      "200\n"
     ]
    },
    {
     "name": "stderr",
     "output_type": "stream",
     "text": [
      "Scraping quotes:  60%|█████▉    | 608/1020 [18:33<11:28,  1.67s/it]"
     ]
    },
    {
     "name": "stdout",
     "output_type": "stream",
     "text": [
      "200\n"
     ]
    },
    {
     "name": "stderr",
     "output_type": "stream",
     "text": [
      "Scraping quotes:  60%|█████▉    | 609/1020 [18:35<11:45,  1.72s/it]"
     ]
    },
    {
     "name": "stdout",
     "output_type": "stream",
     "text": [
      "\u001b[K\r"
     ]
    },
    {
     "name": "stderr",
     "output_type": "stream",
     "text": [
      "Scraping quotes:  60%|█████▉    | 610/1020 [18:36<10:01,  1.47s/it]"
     ]
    },
    {
     "name": "stdout",
     "output_type": "stream",
     "text": [
      "500\n",
      "Error scraping {'country': 'UK', 'region': 'gb', 'crypto_name': 'Ethereum Mainnet', 'payment_name': 'PSE', 'regionId': '/regions/gb', 'paymentMethodId': '/payments/pse', 'cryptoCurrencyId': '/currencies/crypto/1/0x0000000000000000000000000000000000000000', 'fiatCurrencyId': '/currencies/fiat/gbp', 'amount': 1616, 'request_time': datetime.datetime(2024, 8, 3, 11, 15, 32, 399131)}\n",
      "'success'\n",
      "\n",
      "500\n",
      "Error scraping {'country': 'UK', 'region': 'gb', 'crypto_name': 'USDT (Ethereum)', 'payment_name': 'PSE', 'regionId': '/regions/gb', 'paymentMethodId': '/payments/pse', 'cryptoCurrencyId': '/currencies/crypto/1/0xdac17f958d2ee523a2206206994597c13d831ec7', 'fiatCurrencyId': '/currencies/fiat/gbp', 'amount': 1616, 'request_time': datetime.datetime(2024, 8, 3, 11, 15, 33, 286093)}\n",
      "'success'\n",
      "\n"
     ]
    },
    {
     "name": "stderr",
     "output_type": "stream",
     "text": [
      "Scraping quotes:  60%|█████▉    | 611/1020 [18:37<09:29,  1.39s/it]"
     ]
    },
    {
     "name": "stdout",
     "output_type": "stream",
     "text": [
      "\u001b[K\r"
     ]
    },
    {
     "name": "stderr",
     "output_type": "stream",
     "text": [
      "Scraping quotes:  60%|██████    | 612/1020 [18:38<08:42,  1.28s/it]"
     ]
    },
    {
     "name": "stdout",
     "output_type": "stream",
     "text": [
      "500\n",
      "Error scraping {'country': 'UK', 'region': 'gb', 'crypto_name': 'USDT (BNB Chain)', 'payment_name': 'PSE', 'regionId': '/regions/gb', 'paymentMethodId': '/payments/pse', 'cryptoCurrencyId': '/currencies/crypto/56/0x55d398326f99059ff775485246999027b3197955', 'fiatCurrencyId': '/currencies/fiat/gbp', 'amount': 1616, 'request_time': datetime.datetime(2024, 8, 3, 11, 15, 34, 505123)}\n",
      "'success'\n",
      "\n",
      "200\n"
     ]
    },
    {
     "name": "stderr",
     "output_type": "stream",
     "text": [
      "Scraping quotes:  60%|██████    | 613/1020 [18:40<11:17,  1.67s/it]"
     ]
    },
    {
     "name": "stdout",
     "output_type": "stream",
     "text": [
      "200\n"
     ]
    },
    {
     "name": "stderr",
     "output_type": "stream",
     "text": [
      "Scraping quotes:  60%|██████    | 614/1020 [18:43<12:35,  1.86s/it]"
     ]
    },
    {
     "name": "stdout",
     "output_type": "stream",
     "text": [
      "200\n"
     ]
    },
    {
     "name": "stderr",
     "output_type": "stream",
     "text": [
      "Scraping quotes:  60%|██████    | 615/1020 [18:46<15:11,  2.25s/it]"
     ]
    },
    {
     "name": "stdout",
     "output_type": "stream",
     "text": [
      "200\n"
     ]
    },
    {
     "name": "stderr",
     "output_type": "stream",
     "text": [
      "Scraping quotes:  60%|██████    | 616/1020 [18:48<15:09,  2.25s/it]"
     ]
    },
    {
     "name": "stdout",
     "output_type": "stream",
     "text": [
      "200\n"
     ]
    },
    {
     "name": "stderr",
     "output_type": "stream",
     "text": [
      "Scraping quotes:  60%|██████    | 617/1020 [18:50<15:06,  2.25s/it]"
     ]
    },
    {
     "name": "stdout",
     "output_type": "stream",
     "text": [
      "200\n"
     ]
    },
    {
     "name": "stderr",
     "output_type": "stream",
     "text": [
      "Scraping quotes:  61%|██████    | 618/1020 [18:53<15:08,  2.26s/it]"
     ]
    },
    {
     "name": "stdout",
     "output_type": "stream",
     "text": [
      "200\n"
     ]
    },
    {
     "name": "stderr",
     "output_type": "stream",
     "text": [
      "Scraping quotes:  61%|██████    | 619/1020 [18:55<15:48,  2.37s/it]"
     ]
    },
    {
     "name": "stdout",
     "output_type": "stream",
     "text": [
      "200\n"
     ]
    },
    {
     "name": "stderr",
     "output_type": "stream",
     "text": [
      "Scraping quotes:  61%|██████    | 620/1020 [18:57<15:20,  2.30s/it]"
     ]
    },
    {
     "name": "stdout",
     "output_type": "stream",
     "text": [
      "200\n"
     ]
    },
    {
     "name": "stderr",
     "output_type": "stream",
     "text": [
      "Scraping quotes:  61%|██████    | 621/1020 [19:00<15:04,  2.27s/it]"
     ]
    },
    {
     "name": "stdout",
     "output_type": "stream",
     "text": [
      "200\n"
     ]
    },
    {
     "name": "stderr",
     "output_type": "stream",
     "text": [
      "Scraping quotes:  61%|██████    | 622/1020 [19:01<12:57,  1.95s/it]"
     ]
    },
    {
     "name": "stdout",
     "output_type": "stream",
     "text": [
      "200\n"
     ]
    },
    {
     "name": "stderr",
     "output_type": "stream",
     "text": [
      "Scraping quotes:  61%|██████    | 623/1020 [19:02<11:27,  1.73s/it]"
     ]
    },
    {
     "name": "stdout",
     "output_type": "stream",
     "text": [
      "200\n"
     ]
    },
    {
     "name": "stderr",
     "output_type": "stream",
     "text": [
      "Scraping quotes:  61%|██████    | 624/1020 [19:03<10:49,  1.64s/it]"
     ]
    },
    {
     "name": "stdout",
     "output_type": "stream",
     "text": [
      "\u001b[K\r"
     ]
    },
    {
     "name": "stderr",
     "output_type": "stream",
     "text": [
      "Scraping quotes:  61%|██████▏   | 625/1020 [19:04<09:39,  1.47s/it]"
     ]
    },
    {
     "name": "stdout",
     "output_type": "stream",
     "text": [
      "500\n",
      "Error scraping {'country': 'DE', 'region': 'de', 'crypto_name': 'Ethereum Mainnet', 'payment_name': 'PSE', 'regionId': '/regions/de', 'paymentMethodId': '/payments/pse', 'cryptoCurrencyId': '/currencies/crypto/1/0x0000000000000000000000000000000000000000', 'fiatCurrencyId': '/currencies/fiat/eur', 'amount': 2284, 'request_time': datetime.datetime(2024, 8, 3, 11, 16, 1, 159435)}\n",
      "'success'\n",
      "\n",
      "\u001b[K\r"
     ]
    },
    {
     "name": "stderr",
     "output_type": "stream",
     "text": [
      "Scraping quotes:  61%|██████▏   | 626/1020 [19:05<08:34,  1.31s/it]"
     ]
    },
    {
     "name": "stdout",
     "output_type": "stream",
     "text": [
      "500\n",
      "Error scraping {'country': 'DE', 'region': 'de', 'crypto_name': 'USDT (Ethereum)', 'payment_name': 'PSE', 'regionId': '/regions/de', 'paymentMethodId': '/payments/pse', 'cryptoCurrencyId': '/currencies/crypto/1/0xdac17f958d2ee523a2206206994597c13d831ec7', 'fiatCurrencyId': '/currencies/fiat/eur', 'amount': 2284, 'request_time': datetime.datetime(2024, 8, 3, 11, 16, 2, 221752)}\n",
      "'success'\n",
      "\n",
      "500\n",
      "Error scraping {'country': 'DE', 'region': 'de', 'crypto_name': 'USDT (BNB Chain)', 'payment_name': 'PSE', 'regionId': '/regions/de', 'paymentMethodId': '/payments/pse', 'cryptoCurrencyId': '/currencies/crypto/56/0x55d398326f99059ff775485246999027b3197955', 'fiatCurrencyId': '/currencies/fiat/eur', 'amount': 2284, 'request_time': datetime.datetime(2024, 8, 3, 11, 16, 3, 147824)}\n",
      "'success'\n",
      "\n"
     ]
    },
    {
     "name": "stderr",
     "output_type": "stream",
     "text": [
      "Scraping quotes:  61%|██████▏   | 627/1020 [19:07<08:06,  1.24s/it]"
     ]
    },
    {
     "name": "stdout",
     "output_type": "stream",
     "text": [
      "200\n"
     ]
    },
    {
     "name": "stderr",
     "output_type": "stream",
     "text": [
      "Scraping quotes:  62%|██████▏   | 628/1020 [19:09<10:48,  1.65s/it]"
     ]
    },
    {
     "name": "stdout",
     "output_type": "stream",
     "text": [
      "200\n"
     ]
    },
    {
     "name": "stderr",
     "output_type": "stream",
     "text": [
      "Scraping quotes:  62%|██████▏   | 629/1020 [19:11<10:49,  1.66s/it]"
     ]
    },
    {
     "name": "stdout",
     "output_type": "stream",
     "text": [
      "200\n"
     ]
    },
    {
     "name": "stderr",
     "output_type": "stream",
     "text": [
      "Scraping quotes:  62%|██████▏   | 630/1020 [19:13<12:08,  1.87s/it]"
     ]
    },
    {
     "name": "stdout",
     "output_type": "stream",
     "text": [
      "200\n"
     ]
    },
    {
     "name": "stderr",
     "output_type": "stream",
     "text": [
      "Scraping quotes:  62%|██████▏   | 631/1020 [19:16<13:05,  2.02s/it]"
     ]
    },
    {
     "name": "stdout",
     "output_type": "stream",
     "text": [
      "200\n"
     ]
    },
    {
     "name": "stderr",
     "output_type": "stream",
     "text": [
      "Scraping quotes:  62%|██████▏   | 632/1020 [19:18<13:58,  2.16s/it]"
     ]
    },
    {
     "name": "stdout",
     "output_type": "stream",
     "text": [
      "200\n"
     ]
    },
    {
     "name": "stderr",
     "output_type": "stream",
     "text": [
      "Scraping quotes:  62%|██████▏   | 633/1020 [19:20<14:02,  2.18s/it]"
     ]
    },
    {
     "name": "stdout",
     "output_type": "stream",
     "text": [
      "200\n"
     ]
    },
    {
     "name": "stderr",
     "output_type": "stream",
     "text": [
      "Scraping quotes:  62%|██████▏   | 634/1020 [19:21<11:02,  1.72s/it]"
     ]
    },
    {
     "name": "stdout",
     "output_type": "stream",
     "text": [
      "200\n"
     ]
    },
    {
     "name": "stderr",
     "output_type": "stream",
     "text": [
      "Scraping quotes:  62%|██████▏   | 635/1020 [19:22<09:30,  1.48s/it]"
     ]
    },
    {
     "name": "stdout",
     "output_type": "stream",
     "text": [
      "200\n"
     ]
    },
    {
     "name": "stderr",
     "output_type": "stream",
     "text": [
      "Scraping quotes:  62%|██████▏   | 636/1020 [19:23<08:19,  1.30s/it]"
     ]
    },
    {
     "name": "stdout",
     "output_type": "stream",
     "text": [
      "200\n"
     ]
    },
    {
     "name": "stderr",
     "output_type": "stream",
     "text": [
      "Scraping quotes:  62%|██████▏   | 637/1020 [19:25<09:30,  1.49s/it]"
     ]
    },
    {
     "name": "stdout",
     "output_type": "stream",
     "text": [
      "200\n"
     ]
    },
    {
     "name": "stderr",
     "output_type": "stream",
     "text": [
      "Scraping quotes:  63%|██████▎   | 638/1020 [19:25<08:10,  1.28s/it]"
     ]
    },
    {
     "name": "stdout",
     "output_type": "stream",
     "text": [
      "\u001b[K\r"
     ]
    },
    {
     "name": "stderr",
     "output_type": "stream",
     "text": [
      "Scraping quotes:  63%|██████▎   | 639/1020 [19:26<06:41,  1.05s/it]"
     ]
    },
    {
     "name": "stdout",
     "output_type": "stream",
     "text": [
      "500\n",
      "Error scraping {'country': 'US', 'region': 'us-fl', 'crypto_name': 'USDT (BNB Chain)', 'payment_name': 'Instant ACH Bank Transfer', 'regionId': '/regions/us-fl', 'paymentMethodId': '/payments/instant-bank-transfer', 'cryptoCurrencyId': '/currencies/crypto/56/0x55d398326f99059ff775485246999027b3197955', 'fiatCurrencyId': '/currencies/fiat/usd', 'amount': 2284, 'request_time': datetime.datetime(2024, 8, 3, 11, 16, 23, 153786)}\n",
      "'success'\n",
      "\n",
      "\u001b[K\r"
     ]
    },
    {
     "name": "stderr",
     "output_type": "stream",
     "text": [
      "Scraping quotes:  63%|██████▎   | 640/1020 [19:26<05:37,  1.13it/s]"
     ]
    },
    {
     "name": "stdout",
     "output_type": "stream",
     "text": [
      "500\n",
      "Error scraping {'country': 'US', 'region': 'us-fl', 'crypto_name': 'Ethereum Mainnet', 'payment_name': 'Wire Transfer', 'regionId': '/regions/us-fl', 'paymentMethodId': '/payments/wire-transfer', 'cryptoCurrencyId': '/currencies/crypto/1/0x0000000000000000000000000000000000000000', 'fiatCurrencyId': '/currencies/fiat/usd', 'amount': 2284, 'request_time': datetime.datetime(2024, 8, 3, 11, 16, 23, 670263)}\n",
      "'success'\n",
      "\n",
      "\u001b[K\r"
     ]
    },
    {
     "name": "stderr",
     "output_type": "stream",
     "text": [
      "Scraping quotes:  63%|██████▎   | 641/1020 [19:27<05:07,  1.23it/s]"
     ]
    },
    {
     "name": "stdout",
     "output_type": "stream",
     "text": [
      "500\n",
      "Error scraping {'country': 'US', 'region': 'us-fl', 'crypto_name': 'USDT (Ethereum)', 'payment_name': 'Wire Transfer', 'regionId': '/regions/us-fl', 'paymentMethodId': '/payments/wire-transfer', 'cryptoCurrencyId': '/currencies/crypto/1/0xdac17f958d2ee523a2206206994597c13d831ec7', 'fiatCurrencyId': '/currencies/fiat/usd', 'amount': 2284, 'request_time': datetime.datetime(2024, 8, 3, 11, 16, 24, 169348)}\n",
      "'success'\n",
      "\n",
      "\u001b[K\r"
     ]
    },
    {
     "name": "stderr",
     "output_type": "stream",
     "text": [
      "Scraping quotes:  63%|██████▎   | 642/1020 [19:28<04:41,  1.34it/s]"
     ]
    },
    {
     "name": "stdout",
     "output_type": "stream",
     "text": [
      "500\n",
      "Error scraping {'country': 'US', 'region': 'us-fl', 'crypto_name': 'USDT (BNB Chain)', 'payment_name': 'Wire Transfer', 'regionId': '/regions/us-fl', 'paymentMethodId': '/payments/wire-transfer', 'cryptoCurrencyId': '/currencies/crypto/56/0x55d398326f99059ff775485246999027b3197955', 'fiatCurrencyId': '/currencies/fiat/usd', 'amount': 2284, 'request_time': datetime.datetime(2024, 8, 3, 11, 16, 24, 804358)}\n",
      "'success'\n",
      "\n",
      "200\n"
     ]
    },
    {
     "name": "stderr",
     "output_type": "stream",
     "text": [
      "Scraping quotes:  63%|██████▎   | 643/1020 [19:28<04:35,  1.37it/s]"
     ]
    },
    {
     "name": "stdout",
     "output_type": "stream",
     "text": [
      "200\n"
     ]
    },
    {
     "name": "stderr",
     "output_type": "stream",
     "text": [
      "Scraping quotes:  63%|██████▎   | 644/1020 [19:29<04:28,  1.40it/s]"
     ]
    },
    {
     "name": "stdout",
     "output_type": "stream",
     "text": [
      "200\n"
     ]
    },
    {
     "name": "stderr",
     "output_type": "stream",
     "text": [
      "Scraping quotes:  63%|██████▎   | 645/1020 [19:30<04:18,  1.45it/s]"
     ]
    },
    {
     "name": "stdout",
     "output_type": "stream",
     "text": [
      "\u001b[K\r"
     ]
    },
    {
     "name": "stderr",
     "output_type": "stream",
     "text": [
      "Scraping quotes:  63%|██████▎   | 646/1020 [19:30<04:23,  1.42it/s]"
     ]
    },
    {
     "name": "stdout",
     "output_type": "stream",
     "text": [
      "500\n",
      "Error scraping {'country': 'US', 'region': 'us-fl', 'crypto_name': 'Ethereum Mainnet', 'payment_name': 'PSE', 'regionId': '/regions/us-fl', 'paymentMethodId': '/payments/pse', 'cryptoCurrencyId': '/currencies/crypto/1/0x0000000000000000000000000000000000000000', 'fiatCurrencyId': '/currencies/fiat/usd', 'amount': 2284, 'request_time': datetime.datetime(2024, 8, 3, 11, 16, 27, 395827)}\n",
      "'success'\n",
      "\n",
      "\u001b[K\r"
     ]
    },
    {
     "name": "stderr",
     "output_type": "stream",
     "text": [
      "Scraping quotes:  63%|██████▎   | 647/1020 [19:31<04:47,  1.30it/s]"
     ]
    },
    {
     "name": "stdout",
     "output_type": "stream",
     "text": [
      "500\n",
      "Error scraping {'country': 'US', 'region': 'us-fl', 'crypto_name': 'USDT (Ethereum)', 'payment_name': 'PSE', 'regionId': '/regions/us-fl', 'paymentMethodId': '/payments/pse', 'cryptoCurrencyId': '/currencies/crypto/1/0xdac17f958d2ee523a2206206994597c13d831ec7', 'fiatCurrencyId': '/currencies/fiat/usd', 'amount': 2284, 'request_time': datetime.datetime(2024, 8, 3, 11, 16, 28, 134024)}\n",
      "'success'\n",
      "\n",
      "\u001b[K\r"
     ]
    },
    {
     "name": "stderr",
     "output_type": "stream",
     "text": [
      "Scraping quotes:  64%|██████▎   | 648/1020 [19:32<05:10,  1.20it/s]"
     ]
    },
    {
     "name": "stdout",
     "output_type": "stream",
     "text": [
      "500\n",
      "Error scraping {'country': 'US', 'region': 'us-fl', 'crypto_name': 'USDT (BNB Chain)', 'payment_name': 'PSE', 'regionId': '/regions/us-fl', 'paymentMethodId': '/payments/pse', 'cryptoCurrencyId': '/currencies/crypto/56/0x55d398326f99059ff775485246999027b3197955', 'fiatCurrencyId': '/currencies/fiat/usd', 'amount': 2284, 'request_time': datetime.datetime(2024, 8, 3, 11, 16, 29, 65493)}\n",
      "'success'\n",
      "\n",
      "200\n"
     ]
    },
    {
     "name": "stderr",
     "output_type": "stream",
     "text": [
      "Scraping quotes:  64%|██████▎   | 649/1020 [19:34<07:16,  1.18s/it]"
     ]
    },
    {
     "name": "stdout",
     "output_type": "stream",
     "text": [
      "200\n"
     ]
    },
    {
     "name": "stderr",
     "output_type": "stream",
     "text": [
      "Scraping quotes:  64%|██████▎   | 650/1020 [19:36<07:53,  1.28s/it]"
     ]
    },
    {
     "name": "stdout",
     "output_type": "stream",
     "text": [
      "200\n"
     ]
    },
    {
     "name": "stderr",
     "output_type": "stream",
     "text": [
      "Scraping quotes:  64%|██████▍   | 651/1020 [19:37<07:37,  1.24s/it]"
     ]
    },
    {
     "name": "stdout",
     "output_type": "stream",
     "text": [
      "200\n"
     ]
    },
    {
     "name": "stderr",
     "output_type": "stream",
     "text": [
      "Scraping quotes:  64%|██████▍   | 652/1020 [19:39<08:12,  1.34s/it]"
     ]
    },
    {
     "name": "stdout",
     "output_type": "stream",
     "text": [
      "200\n"
     ]
    },
    {
     "name": "stderr",
     "output_type": "stream",
     "text": [
      "Scraping quotes:  64%|██████▍   | 653/1020 [19:40<08:15,  1.35s/it]"
     ]
    },
    {
     "name": "stdout",
     "output_type": "stream",
     "text": [
      "200\n"
     ]
    },
    {
     "name": "stderr",
     "output_type": "stream",
     "text": [
      "Scraping quotes:  64%|██████▍   | 654/1020 [19:41<07:17,  1.19s/it]"
     ]
    },
    {
     "name": "stdout",
     "output_type": "stream",
     "text": [
      "200\n"
     ]
    },
    {
     "name": "stderr",
     "output_type": "stream",
     "text": [
      "Scraping quotes:  64%|██████▍   | 655/1020 [19:42<07:44,  1.27s/it]"
     ]
    },
    {
     "name": "stdout",
     "output_type": "stream",
     "text": [
      "200\n"
     ]
    },
    {
     "name": "stderr",
     "output_type": "stream",
     "text": [
      "Scraping quotes:  64%|██████▍   | 656/1020 [19:44<08:23,  1.38s/it]"
     ]
    },
    {
     "name": "stdout",
     "output_type": "stream",
     "text": [
      "200\n"
     ]
    },
    {
     "name": "stderr",
     "output_type": "stream",
     "text": [
      "Scraping quotes:  64%|██████▍   | 657/1020 [19:45<07:51,  1.30s/it]"
     ]
    },
    {
     "name": "stdout",
     "output_type": "stream",
     "text": [
      "200\n"
     ]
    },
    {
     "name": "stderr",
     "output_type": "stream",
     "text": [
      "Scraping quotes:  65%|██████▍   | 658/1020 [19:47<08:24,  1.39s/it]"
     ]
    },
    {
     "name": "stdout",
     "output_type": "stream",
     "text": [
      "200\n"
     ]
    },
    {
     "name": "stderr",
     "output_type": "stream",
     "text": [
      "Scraping quotes:  65%|██████▍   | 659/1020 [19:48<08:48,  1.46s/it]"
     ]
    },
    {
     "name": "stdout",
     "output_type": "stream",
     "text": [
      "200\n"
     ]
    },
    {
     "name": "stderr",
     "output_type": "stream",
     "text": [
      "Scraping quotes:  65%|██████▍   | 660/1020 [19:49<07:54,  1.32s/it]"
     ]
    },
    {
     "name": "stdout",
     "output_type": "stream",
     "text": [
      "\u001b[K\r"
     ]
    },
    {
     "name": "stderr",
     "output_type": "stream",
     "text": [
      "Scraping quotes:  65%|██████▍   | 661/1020 [19:50<07:06,  1.19s/it]"
     ]
    },
    {
     "name": "stdout",
     "output_type": "stream",
     "text": [
      "500\n",
      "Error scraping {'country': 'UK', 'region': 'gb', 'crypto_name': 'Ethereum Mainnet', 'payment_name': 'PSE', 'regionId': '/regions/gb', 'paymentMethodId': '/payments/pse', 'cryptoCurrencyId': '/currencies/crypto/1/0x0000000000000000000000000000000000000000', 'fiatCurrencyId': '/currencies/fiat/gbp', 'amount': 2284, 'request_time': datetime.datetime(2024, 8, 3, 11, 16, 46, 882373)}\n",
      "'success'\n",
      "\n",
      "\u001b[K\r"
     ]
    },
    {
     "name": "stderr",
     "output_type": "stream",
     "text": [
      "Scraping quotes:  65%|██████▍   | 662/1020 [19:51<06:39,  1.12s/it]"
     ]
    },
    {
     "name": "stdout",
     "output_type": "stream",
     "text": [
      "500\n",
      "Error scraping {'country': 'UK', 'region': 'gb', 'crypto_name': 'USDT (Ethereum)', 'payment_name': 'PSE', 'regionId': '/regions/gb', 'paymentMethodId': '/payments/pse', 'cryptoCurrencyId': '/currencies/crypto/1/0xdac17f958d2ee523a2206206994597c13d831ec7', 'fiatCurrencyId': '/currencies/fiat/gbp', 'amount': 2284, 'request_time': datetime.datetime(2024, 8, 3, 11, 16, 47, 763532)}\n",
      "'success'\n",
      "\n",
      "500\n",
      "Error scraping {'country': 'UK', 'region': 'gb', 'crypto_name': 'USDT (BNB Chain)', 'payment_name': 'PSE', 'regionId': '/regions/gb', 'paymentMethodId': '/payments/pse', 'cryptoCurrencyId': '/currencies/crypto/56/0x55d398326f99059ff775485246999027b3197955', 'fiatCurrencyId': '/currencies/fiat/gbp', 'amount': 2284, 'request_time': datetime.datetime(2024, 8, 3, 11, 16, 48, 710005)}\n",
      "'success'\n",
      "\n"
     ]
    },
    {
     "name": "stderr",
     "output_type": "stream",
     "text": [
      "Scraping quotes:  65%|██████▌   | 663/1020 [19:53<07:58,  1.34s/it]"
     ]
    },
    {
     "name": "stdout",
     "output_type": "stream",
     "text": [
      "200\n"
     ]
    },
    {
     "name": "stderr",
     "output_type": "stream",
     "text": [
      "Scraping quotes:  65%|██████▌   | 664/1020 [19:55<09:48,  1.65s/it]"
     ]
    },
    {
     "name": "stdout",
     "output_type": "stream",
     "text": [
      "200\n"
     ]
    },
    {
     "name": "stderr",
     "output_type": "stream",
     "text": [
      "Scraping quotes:  65%|██████▌   | 665/1020 [19:58<11:41,  1.98s/it]"
     ]
    },
    {
     "name": "stdout",
     "output_type": "stream",
     "text": [
      "200\n"
     ]
    },
    {
     "name": "stderr",
     "output_type": "stream",
     "text": [
      "Scraping quotes:  65%|██████▌   | 666/1020 [20:00<12:02,  2.04s/it]"
     ]
    },
    {
     "name": "stdout",
     "output_type": "stream",
     "text": [
      "200\n"
     ]
    },
    {
     "name": "stderr",
     "output_type": "stream",
     "text": [
      "Scraping quotes:  65%|██████▌   | 667/1020 [20:02<12:22,  2.10s/it]"
     ]
    },
    {
     "name": "stdout",
     "output_type": "stream",
     "text": [
      "200\n"
     ]
    },
    {
     "name": "stderr",
     "output_type": "stream",
     "text": [
      "Scraping quotes:  65%|██████▌   | 668/1020 [20:05<12:54,  2.20s/it]"
     ]
    },
    {
     "name": "stdout",
     "output_type": "stream",
     "text": [
      "200\n"
     ]
    },
    {
     "name": "stderr",
     "output_type": "stream",
     "text": [
      "Scraping quotes:  66%|██████▌   | 669/1020 [20:07<12:48,  2.19s/it]"
     ]
    },
    {
     "name": "stdout",
     "output_type": "stream",
     "text": [
      "200\n"
     ]
    },
    {
     "name": "stderr",
     "output_type": "stream",
     "text": [
      "Scraping quotes:  66%|██████▌   | 670/1020 [20:09<13:01,  2.23s/it]"
     ]
    },
    {
     "name": "stdout",
     "output_type": "stream",
     "text": [
      "200\n"
     ]
    },
    {
     "name": "stderr",
     "output_type": "stream",
     "text": [
      "Scraping quotes:  66%|██████▌   | 671/1020 [20:12<13:16,  2.28s/it]"
     ]
    },
    {
     "name": "stdout",
     "output_type": "stream",
     "text": [
      "200\n"
     ]
    },
    {
     "name": "stderr",
     "output_type": "stream",
     "text": [
      "Scraping quotes:  66%|██████▌   | 672/1020 [20:14<13:33,  2.34s/it]"
     ]
    },
    {
     "name": "stdout",
     "output_type": "stream",
     "text": [
      "200\n"
     ]
    },
    {
     "name": "stderr",
     "output_type": "stream",
     "text": [
      "Scraping quotes:  66%|██████▌   | 673/1020 [20:15<11:32,  2.00s/it]"
     ]
    },
    {
     "name": "stdout",
     "output_type": "stream",
     "text": [
      "200\n"
     ]
    },
    {
     "name": "stderr",
     "output_type": "stream",
     "text": [
      "Scraping quotes:  66%|██████▌   | 674/1020 [20:17<10:07,  1.76s/it]"
     ]
    },
    {
     "name": "stdout",
     "output_type": "stream",
     "text": [
      "200\n"
     ]
    },
    {
     "name": "stderr",
     "output_type": "stream",
     "text": [
      "Scraping quotes:  66%|██████▌   | 675/1020 [20:18<09:11,  1.60s/it]"
     ]
    },
    {
     "name": "stdout",
     "output_type": "stream",
     "text": [
      "\u001b[K\r"
     ]
    },
    {
     "name": "stderr",
     "output_type": "stream",
     "text": [
      "Scraping quotes:  66%|██████▋   | 676/1020 [20:19<08:01,  1.40s/it]"
     ]
    },
    {
     "name": "stdout",
     "output_type": "stream",
     "text": [
      "500\n",
      "Error scraping {'country': 'DE', 'region': 'de', 'crypto_name': 'Ethereum Mainnet', 'payment_name': 'PSE', 'regionId': '/regions/de', 'paymentMethodId': '/payments/pse', 'cryptoCurrencyId': '/currencies/crypto/1/0x0000000000000000000000000000000000000000', 'fiatCurrencyId': '/currencies/fiat/eur', 'amount': 3226, 'request_time': datetime.datetime(2024, 8, 3, 11, 17, 15, 546782)}\n",
      "'success'\n",
      "\n",
      "\u001b[K\r"
     ]
    },
    {
     "name": "stderr",
     "output_type": "stream",
     "text": [
      "Scraping quotes:  66%|██████▋   | 677/1020 [20:20<07:33,  1.32s/it]"
     ]
    },
    {
     "name": "stdout",
     "output_type": "stream",
     "text": [
      "500\n",
      "Error scraping {'country': 'DE', 'region': 'de', 'crypto_name': 'USDT (Ethereum)', 'payment_name': 'PSE', 'regionId': '/regions/de', 'paymentMethodId': '/payments/pse', 'cryptoCurrencyId': '/currencies/crypto/1/0xdac17f958d2ee523a2206206994597c13d831ec7', 'fiatCurrencyId': '/currencies/fiat/eur', 'amount': 3226, 'request_time': datetime.datetime(2024, 8, 3, 11, 17, 16, 481052)}\n",
      "'success'\n",
      "\n",
      "\u001b[K\r"
     ]
    },
    {
     "name": "stderr",
     "output_type": "stream",
     "text": [
      "Scraping quotes:  66%|██████▋   | 678/1020 [20:21<07:29,  1.32s/it]"
     ]
    },
    {
     "name": "stdout",
     "output_type": "stream",
     "text": [
      "500\n",
      "Error scraping {'country': 'DE', 'region': 'de', 'crypto_name': 'USDT (BNB Chain)', 'payment_name': 'PSE', 'regionId': '/regions/de', 'paymentMethodId': '/payments/pse', 'cryptoCurrencyId': '/currencies/crypto/56/0x55d398326f99059ff775485246999027b3197955', 'fiatCurrencyId': '/currencies/fiat/eur', 'amount': 3226, 'request_time': datetime.datetime(2024, 8, 3, 11, 17, 17, 617270)}\n",
      "'success'\n",
      "\n",
      "200\n"
     ]
    },
    {
     "name": "stderr",
     "output_type": "stream",
     "text": [
      "Scraping quotes:  67%|██████▋   | 679/1020 [20:24<09:51,  1.74s/it]"
     ]
    },
    {
     "name": "stdout",
     "output_type": "stream",
     "text": [
      "200\n"
     ]
    },
    {
     "name": "stderr",
     "output_type": "stream",
     "text": [
      "Scraping quotes:  67%|██████▋   | 680/1020 [20:26<10:46,  1.90s/it]"
     ]
    },
    {
     "name": "stdout",
     "output_type": "stream",
     "text": [
      "200\n"
     ]
    },
    {
     "name": "stderr",
     "output_type": "stream",
     "text": [
      "Scraping quotes:  67%|██████▋   | 681/1020 [20:28<09:58,  1.77s/it]"
     ]
    },
    {
     "name": "stdout",
     "output_type": "stream",
     "text": [
      "200\n"
     ]
    },
    {
     "name": "stderr",
     "output_type": "stream",
     "text": [
      "Scraping quotes:  67%|██████▋   | 682/1020 [20:30<10:46,  1.91s/it]"
     ]
    },
    {
     "name": "stdout",
     "output_type": "stream",
     "text": [
      "200\n"
     ]
    },
    {
     "name": "stderr",
     "output_type": "stream",
     "text": [
      "Scraping quotes:  67%|██████▋   | 683/1020 [20:32<11:26,  2.04s/it]"
     ]
    },
    {
     "name": "stdout",
     "output_type": "stream",
     "text": [
      "200\n"
     ]
    },
    {
     "name": "stderr",
     "output_type": "stream",
     "text": [
      "Scraping quotes:  67%|██████▋   | 684/1020 [20:35<11:55,  2.13s/it]"
     ]
    },
    {
     "name": "stdout",
     "output_type": "stream",
     "text": [
      "200\n"
     ]
    },
    {
     "name": "stderr",
     "output_type": "stream",
     "text": [
      "Scraping quotes:  67%|██████▋   | 685/1020 [20:36<11:31,  2.06s/it]"
     ]
    },
    {
     "name": "stdout",
     "output_type": "stream",
     "text": [
      "200\n"
     ]
    },
    {
     "name": "stderr",
     "output_type": "stream",
     "text": [
      "Scraping quotes:  67%|██████▋   | 686/1020 [20:37<09:26,  1.70s/it]"
     ]
    },
    {
     "name": "stdout",
     "output_type": "stream",
     "text": [
      "200\n"
     ]
    },
    {
     "name": "stderr",
     "output_type": "stream",
     "text": [
      "Scraping quotes:  67%|██████▋   | 687/1020 [20:38<07:49,  1.41s/it]"
     ]
    },
    {
     "name": "stdout",
     "output_type": "stream",
     "text": [
      "200\n"
     ]
    },
    {
     "name": "stderr",
     "output_type": "stream",
     "text": [
      "Scraping quotes:  67%|██████▋   | 688/1020 [20:39<06:54,  1.25s/it]"
     ]
    },
    {
     "name": "stdout",
     "output_type": "stream",
     "text": [
      "200\n"
     ]
    },
    {
     "name": "stderr",
     "output_type": "stream",
     "text": [
      "Scraping quotes:  68%|██████▊   | 689/1020 [20:40<06:12,  1.12s/it]"
     ]
    },
    {
     "name": "stdout",
     "output_type": "stream",
     "text": [
      "\u001b[K\r"
     ]
    },
    {
     "name": "stderr",
     "output_type": "stream",
     "text": [
      "Scraping quotes:  68%|██████▊   | 690/1020 [20:40<05:08,  1.07it/s]"
     ]
    },
    {
     "name": "stdout",
     "output_type": "stream",
     "text": [
      "500\n",
      "Error scraping {'country': 'US', 'region': 'us-fl', 'crypto_name': 'USDT (BNB Chain)', 'payment_name': 'Instant ACH Bank Transfer', 'regionId': '/regions/us-fl', 'paymentMethodId': '/payments/instant-bank-transfer', 'cryptoCurrencyId': '/currencies/crypto/56/0x55d398326f99059ff775485246999027b3197955', 'fiatCurrencyId': '/currencies/fiat/usd', 'amount': 3226, 'request_time': datetime.datetime(2024, 8, 3, 11, 17, 37, 500085)}\n",
      "'success'\n",
      "\n",
      "\u001b[K\r"
     ]
    },
    {
     "name": "stderr",
     "output_type": "stream",
     "text": [
      "Scraping quotes:  68%|██████▊   | 691/1020 [20:41<04:27,  1.23it/s]"
     ]
    },
    {
     "name": "stdout",
     "output_type": "stream",
     "text": [
      "500\n",
      "Error scraping {'country': 'US', 'region': 'us-fl', 'crypto_name': 'Ethereum Mainnet', 'payment_name': 'Wire Transfer', 'regionId': '/regions/us-fl', 'paymentMethodId': '/payments/wire-transfer', 'cryptoCurrencyId': '/currencies/crypto/1/0x0000000000000000000000000000000000000000', 'fiatCurrencyId': '/currencies/fiat/usd', 'amount': 3226, 'request_time': datetime.datetime(2024, 8, 3, 11, 17, 37, 995506)}\n",
      "'success'\n",
      "\n",
      "\u001b[K\r"
     ]
    },
    {
     "name": "stderr",
     "output_type": "stream",
     "text": [
      "Scraping quotes:  68%|██████▊   | 692/1020 [20:41<03:55,  1.39it/s]"
     ]
    },
    {
     "name": "stdout",
     "output_type": "stream",
     "text": [
      "500\n",
      "Error scraping {'country': 'US', 'region': 'us-fl', 'crypto_name': 'USDT (Ethereum)', 'payment_name': 'Wire Transfer', 'regionId': '/regions/us-fl', 'paymentMethodId': '/payments/wire-transfer', 'cryptoCurrencyId': '/currencies/crypto/1/0xdac17f958d2ee523a2206206994597c13d831ec7', 'fiatCurrencyId': '/currencies/fiat/usd', 'amount': 3226, 'request_time': datetime.datetime(2024, 8, 3, 11, 17, 38, 518862)}\n",
      "'success'\n",
      "\n",
      "\u001b[K\r"
     ]
    },
    {
     "name": "stderr",
     "output_type": "stream",
     "text": [
      "Scraping quotes:  68%|██████▊   | 693/1020 [20:42<03:38,  1.49it/s]"
     ]
    },
    {
     "name": "stdout",
     "output_type": "stream",
     "text": [
      "500\n",
      "Error scraping {'country': 'US', 'region': 'us-fl', 'crypto_name': 'USDT (BNB Chain)', 'payment_name': 'Wire Transfer', 'regionId': '/regions/us-fl', 'paymentMethodId': '/payments/wire-transfer', 'cryptoCurrencyId': '/currencies/crypto/56/0x55d398326f99059ff775485246999027b3197955', 'fiatCurrencyId': '/currencies/fiat/usd', 'amount': 3226, 'request_time': datetime.datetime(2024, 8, 3, 11, 17, 39, 19079)}\n",
      "'success'\n",
      "\n",
      "200\n"
     ]
    },
    {
     "name": "stderr",
     "output_type": "stream",
     "text": [
      "Scraping quotes:  68%|██████▊   | 694/1020 [20:42<03:35,  1.51it/s]"
     ]
    },
    {
     "name": "stdout",
     "output_type": "stream",
     "text": [
      "200\n"
     ]
    },
    {
     "name": "stderr",
     "output_type": "stream",
     "text": [
      "Scraping quotes:  68%|██████▊   | 695/1020 [20:43<03:41,  1.47it/s]"
     ]
    },
    {
     "name": "stdout",
     "output_type": "stream",
     "text": [
      "200\n"
     ]
    },
    {
     "name": "stderr",
     "output_type": "stream",
     "text": [
      "Scraping quotes:  68%|██████▊   | 696/1020 [20:44<03:59,  1.36it/s]"
     ]
    },
    {
     "name": "stdout",
     "output_type": "stream",
     "text": [
      "\u001b[K\r"
     ]
    },
    {
     "name": "stderr",
     "output_type": "stream",
     "text": [
      "Scraping quotes:  68%|██████▊   | 697/1020 [20:45<04:34,  1.18it/s]"
     ]
    },
    {
     "name": "stdout",
     "output_type": "stream",
     "text": [
      "500\n",
      "Error scraping {'country': 'US', 'region': 'us-fl', 'crypto_name': 'Ethereum Mainnet', 'payment_name': 'PSE', 'regionId': '/regions/us-fl', 'paymentMethodId': '/payments/pse', 'cryptoCurrencyId': '/currencies/crypto/1/0x0000000000000000000000000000000000000000', 'fiatCurrencyId': '/currencies/fiat/usd', 'amount': 3226, 'request_time': datetime.datetime(2024, 8, 3, 11, 17, 41, 813281)}\n",
      "'success'\n",
      "\n",
      "\u001b[K\r"
     ]
    },
    {
     "name": "stderr",
     "output_type": "stream",
     "text": [
      "Scraping quotes:  68%|██████▊   | 698/1020 [20:46<04:18,  1.25it/s]"
     ]
    },
    {
     "name": "stdout",
     "output_type": "stream",
     "text": [
      "500\n",
      "Error scraping {'country': 'US', 'region': 'us-fl', 'crypto_name': 'USDT (Ethereum)', 'payment_name': 'PSE', 'regionId': '/regions/us-fl', 'paymentMethodId': '/payments/pse', 'cryptoCurrencyId': '/currencies/crypto/1/0xdac17f958d2ee523a2206206994597c13d831ec7', 'fiatCurrencyId': '/currencies/fiat/usd', 'amount': 3226, 'request_time': datetime.datetime(2024, 8, 3, 11, 17, 42, 927320)}\n",
      "'success'\n",
      "\n",
      "\u001b[K\r"
     ]
    },
    {
     "name": "stderr",
     "output_type": "stream",
     "text": [
      "Scraping quotes:  69%|██████▊   | 699/1020 [20:47<04:33,  1.17it/s]"
     ]
    },
    {
     "name": "stdout",
     "output_type": "stream",
     "text": [
      "500\n",
      "Error scraping {'country': 'US', 'region': 'us-fl', 'crypto_name': 'USDT (BNB Chain)', 'payment_name': 'PSE', 'regionId': '/regions/us-fl', 'paymentMethodId': '/payments/pse', 'cryptoCurrencyId': '/currencies/crypto/56/0x55d398326f99059ff775485246999027b3197955', 'fiatCurrencyId': '/currencies/fiat/usd', 'amount': 3226, 'request_time': datetime.datetime(2024, 8, 3, 11, 17, 43, 619283)}\n",
      "'success'\n",
      "\n",
      "200\n"
     ]
    },
    {
     "name": "stderr",
     "output_type": "stream",
     "text": [
      "Scraping quotes:  69%|██████▊   | 700/1020 [20:48<04:33,  1.17it/s]"
     ]
    },
    {
     "name": "stdout",
     "output_type": "stream",
     "text": [
      "200\n"
     ]
    },
    {
     "name": "stderr",
     "output_type": "stream",
     "text": [
      "Scraping quotes:  69%|██████▊   | 701/1020 [20:49<05:35,  1.05s/it]"
     ]
    },
    {
     "name": "stdout",
     "output_type": "stream",
     "text": [
      "200\n"
     ]
    },
    {
     "name": "stderr",
     "output_type": "stream",
     "text": [
      "Scraping quotes:  69%|██████▉   | 702/1020 [20:51<06:03,  1.14s/it]"
     ]
    },
    {
     "name": "stdout",
     "output_type": "stream",
     "text": [
      "200\n"
     ]
    },
    {
     "name": "stderr",
     "output_type": "stream",
     "text": [
      "Scraping quotes:  69%|██████▉   | 703/1020 [20:52<06:27,  1.22s/it]"
     ]
    },
    {
     "name": "stdout",
     "output_type": "stream",
     "text": [
      "200\n"
     ]
    },
    {
     "name": "stderr",
     "output_type": "stream",
     "text": [
      "Scraping quotes:  69%|██████▉   | 704/1020 [20:53<06:28,  1.23s/it]"
     ]
    },
    {
     "name": "stdout",
     "output_type": "stream",
     "text": [
      "200\n"
     ]
    },
    {
     "name": "stderr",
     "output_type": "stream",
     "text": [
      "Scraping quotes:  69%|██████▉   | 705/1020 [20:55<07:07,  1.36s/it]"
     ]
    },
    {
     "name": "stdout",
     "output_type": "stream",
     "text": [
      "200\n"
     ]
    },
    {
     "name": "stderr",
     "output_type": "stream",
     "text": [
      "Scraping quotes:  69%|██████▉   | 706/1020 [20:57<08:14,  1.57s/it]"
     ]
    },
    {
     "name": "stdout",
     "output_type": "stream",
     "text": [
      "200\n"
     ]
    },
    {
     "name": "stderr",
     "output_type": "stream",
     "text": [
      "Scraping quotes:  69%|██████▉   | 707/1020 [20:58<07:27,  1.43s/it]"
     ]
    },
    {
     "name": "stdout",
     "output_type": "stream",
     "text": [
      "200\n"
     ]
    },
    {
     "name": "stderr",
     "output_type": "stream",
     "text": [
      "Scraping quotes:  69%|██████▉   | 708/1020 [20:59<07:00,  1.35s/it]"
     ]
    },
    {
     "name": "stdout",
     "output_type": "stream",
     "text": [
      "200\n"
     ]
    },
    {
     "name": "stderr",
     "output_type": "stream",
     "text": [
      "Scraping quotes:  70%|██████▉   | 709/1020 [21:01<08:03,  1.55s/it]"
     ]
    },
    {
     "name": "stdout",
     "output_type": "stream",
     "text": [
      "200\n"
     ]
    },
    {
     "name": "stderr",
     "output_type": "stream",
     "text": [
      "Scraping quotes:  70%|██████▉   | 710/1020 [21:02<07:26,  1.44s/it]"
     ]
    },
    {
     "name": "stdout",
     "output_type": "stream",
     "text": [
      "200\n"
     ]
    },
    {
     "name": "stderr",
     "output_type": "stream",
     "text": [
      "Scraping quotes:  70%|██████▉   | 711/1020 [21:04<07:00,  1.36s/it]"
     ]
    },
    {
     "name": "stdout",
     "output_type": "stream",
     "text": [
      "\u001b[K\r"
     ]
    },
    {
     "name": "stderr",
     "output_type": "stream",
     "text": [
      "Scraping quotes:  70%|██████▉   | 712/1020 [21:05<06:42,  1.31s/it]"
     ]
    },
    {
     "name": "stdout",
     "output_type": "stream",
     "text": [
      "500\n",
      "Error scraping {'country': 'UK', 'region': 'gb', 'crypto_name': 'Ethereum Mainnet', 'payment_name': 'PSE', 'regionId': '/regions/gb', 'paymentMethodId': '/payments/pse', 'cryptoCurrencyId': '/currencies/crypto/1/0x0000000000000000000000000000000000000000', 'fiatCurrencyId': '/currencies/fiat/gbp', 'amount': 3226, 'request_time': datetime.datetime(2024, 8, 3, 11, 18, 1, 335801)}\n",
      "'success'\n",
      "\n",
      "\u001b[K\r"
     ]
    },
    {
     "name": "stderr",
     "output_type": "stream",
     "text": [
      "Scraping quotes:  70%|██████▉   | 713/1020 [21:06<05:47,  1.13s/it]"
     ]
    },
    {
     "name": "stdout",
     "output_type": "stream",
     "text": [
      "500\n",
      "Error scraping {'country': 'UK', 'region': 'gb', 'crypto_name': 'USDT (Ethereum)', 'payment_name': 'PSE', 'regionId': '/regions/gb', 'paymentMethodId': '/payments/pse', 'cryptoCurrencyId': '/currencies/crypto/1/0xdac17f958d2ee523a2206206994597c13d831ec7', 'fiatCurrencyId': '/currencies/fiat/gbp', 'amount': 3226, 'request_time': datetime.datetime(2024, 8, 3, 11, 18, 2, 517464)}\n",
      "'success'\n",
      "\n",
      "\u001b[K\r"
     ]
    },
    {
     "name": "stderr",
     "output_type": "stream",
     "text": [
      "Scraping quotes:  70%|███████   | 714/1020 [21:07<06:11,  1.22s/it]"
     ]
    },
    {
     "name": "stdout",
     "output_type": "stream",
     "text": [
      "500\n",
      "Error scraping {'country': 'UK', 'region': 'gb', 'crypto_name': 'USDT (BNB Chain)', 'payment_name': 'PSE', 'regionId': '/regions/gb', 'paymentMethodId': '/payments/pse', 'cryptoCurrencyId': '/currencies/crypto/56/0x55d398326f99059ff775485246999027b3197955', 'fiatCurrencyId': '/currencies/fiat/gbp', 'amount': 3226, 'request_time': datetime.datetime(2024, 8, 3, 11, 18, 3, 235762)}\n",
      "'success'\n",
      "\n",
      "200\n"
     ]
    },
    {
     "name": "stderr",
     "output_type": "stream",
     "text": [
      "Scraping quotes:  70%|███████   | 715/1020 [21:09<08:14,  1.62s/it]"
     ]
    },
    {
     "name": "stdout",
     "output_type": "stream",
     "text": [
      "200\n"
     ]
    },
    {
     "name": "stderr",
     "output_type": "stream",
     "text": [
      "Scraping quotes:  70%|███████   | 716/1020 [21:11<08:20,  1.65s/it]"
     ]
    },
    {
     "name": "stdout",
     "output_type": "stream",
     "text": [
      "200\n"
     ]
    },
    {
     "name": "stderr",
     "output_type": "stream",
     "text": [
      "Scraping quotes:  70%|███████   | 717/1020 [21:13<09:14,  1.83s/it]"
     ]
    },
    {
     "name": "stdout",
     "output_type": "stream",
     "text": [
      "200\n"
     ]
    },
    {
     "name": "stderr",
     "output_type": "stream",
     "text": [
      "Scraping quotes:  70%|███████   | 718/1020 [21:16<10:21,  2.06s/it]"
     ]
    },
    {
     "name": "stdout",
     "output_type": "stream",
     "text": [
      "200\n"
     ]
    },
    {
     "name": "stderr",
     "output_type": "stream",
     "text": [
      "Scraping quotes:  70%|███████   | 719/1020 [21:19<11:28,  2.29s/it]"
     ]
    },
    {
     "name": "stdout",
     "output_type": "stream",
     "text": [
      "200\n"
     ]
    },
    {
     "name": "stderr",
     "output_type": "stream",
     "text": [
      "Scraping quotes:  71%|███████   | 720/1020 [21:21<11:37,  2.33s/it]"
     ]
    },
    {
     "name": "stdout",
     "output_type": "stream",
     "text": [
      "200\n"
     ]
    },
    {
     "name": "stderr",
     "output_type": "stream",
     "text": [
      "Scraping quotes:  71%|███████   | 721/1020 [21:24<11:31,  2.31s/it]"
     ]
    },
    {
     "name": "stdout",
     "output_type": "stream",
     "text": [
      "200\n"
     ]
    },
    {
     "name": "stderr",
     "output_type": "stream",
     "text": [
      "Scraping quotes:  71%|███████   | 722/1020 [21:26<11:51,  2.39s/it]"
     ]
    },
    {
     "name": "stdout",
     "output_type": "stream",
     "text": [
      "200\n"
     ]
    },
    {
     "name": "stderr",
     "output_type": "stream",
     "text": [
      "Scraping quotes:  71%|███████   | 723/1020 [21:28<11:34,  2.34s/it]"
     ]
    },
    {
     "name": "stdout",
     "output_type": "stream",
     "text": [
      "200\n"
     ]
    },
    {
     "name": "stderr",
     "output_type": "stream",
     "text": [
      "Scraping quotes:  71%|███████   | 724/1020 [21:30<10:21,  2.10s/it]"
     ]
    },
    {
     "name": "stdout",
     "output_type": "stream",
     "text": [
      "200\n"
     ]
    },
    {
     "name": "stderr",
     "output_type": "stream",
     "text": [
      "Scraping quotes:  71%|███████   | 725/1020 [21:31<09:24,  1.91s/it]"
     ]
    },
    {
     "name": "stdout",
     "output_type": "stream",
     "text": [
      "200\n"
     ]
    },
    {
     "name": "stderr",
     "output_type": "stream",
     "text": [
      "Scraping quotes:  71%|███████   | 726/1020 [21:33<08:53,  1.82s/it]"
     ]
    },
    {
     "name": "stdout",
     "output_type": "stream",
     "text": [
      "\u001b[K\r"
     ]
    },
    {
     "name": "stderr",
     "output_type": "stream",
     "text": [
      "Scraping quotes:  71%|███████▏  | 727/1020 [21:34<08:02,  1.65s/it]"
     ]
    },
    {
     "name": "stdout",
     "output_type": "stream",
     "text": [
      "500\n",
      "Error scraping {'country': 'DE', 'region': 'de', 'crypto_name': 'Ethereum Mainnet', 'payment_name': 'PSE', 'regionId': '/regions/de', 'paymentMethodId': '/payments/pse', 'cryptoCurrencyId': '/currencies/crypto/1/0x0000000000000000000000000000000000000000', 'fiatCurrencyId': '/currencies/fiat/eur', 'amount': 4556, 'request_time': datetime.datetime(2024, 8, 3, 11, 18, 30, 688561)}\n",
      "'success'\n",
      "\n",
      "\u001b[K\r"
     ]
    },
    {
     "name": "stderr",
     "output_type": "stream",
     "text": [
      "Scraping quotes:  71%|███████▏  | 728/1020 [21:35<06:42,  1.38s/it]"
     ]
    },
    {
     "name": "stdout",
     "output_type": "stream",
     "text": [
      "500\n",
      "Error scraping {'country': 'DE', 'region': 'de', 'crypto_name': 'USDT (Ethereum)', 'payment_name': 'PSE', 'regionId': '/regions/de', 'paymentMethodId': '/payments/pse', 'cryptoCurrencyId': '/currencies/crypto/1/0xdac17f958d2ee523a2206206994597c13d831ec7', 'fiatCurrencyId': '/currencies/fiat/eur', 'amount': 4556, 'request_time': datetime.datetime(2024, 8, 3, 11, 18, 31, 941768)}\n",
      "'success'\n",
      "\n",
      "\u001b[K\r"
     ]
    },
    {
     "name": "stderr",
     "output_type": "stream",
     "text": [
      "Scraping quotes:  71%|███████▏  | 729/1020 [21:36<05:52,  1.21s/it]"
     ]
    },
    {
     "name": "stdout",
     "output_type": "stream",
     "text": [
      "500\n",
      "Error scraping {'country': 'DE', 'region': 'de', 'crypto_name': 'USDT (BNB Chain)', 'payment_name': 'PSE', 'regionId': '/regions/de', 'paymentMethodId': '/payments/pse', 'cryptoCurrencyId': '/currencies/crypto/56/0x55d398326f99059ff775485246999027b3197955', 'fiatCurrencyId': '/currencies/fiat/eur', 'amount': 4556, 'request_time': datetime.datetime(2024, 8, 3, 11, 18, 32, 698133)}\n",
      "'success'\n",
      "\n",
      "200\n"
     ]
    },
    {
     "name": "stderr",
     "output_type": "stream",
     "text": [
      "Scraping quotes:  72%|███████▏  | 730/1020 [21:38<07:33,  1.56s/it]"
     ]
    },
    {
     "name": "stdout",
     "output_type": "stream",
     "text": [
      "200\n"
     ]
    },
    {
     "name": "stderr",
     "output_type": "stream",
     "text": [
      "Scraping quotes:  72%|███████▏  | 731/1020 [21:41<08:41,  1.81s/it]"
     ]
    },
    {
     "name": "stdout",
     "output_type": "stream",
     "text": [
      "200\n"
     ]
    },
    {
     "name": "stderr",
     "output_type": "stream",
     "text": [
      "Scraping quotes:  72%|███████▏  | 732/1020 [21:43<09:12,  1.92s/it]"
     ]
    },
    {
     "name": "stdout",
     "output_type": "stream",
     "text": [
      "200\n"
     ]
    },
    {
     "name": "stderr",
     "output_type": "stream",
     "text": [
      "Scraping quotes:  72%|███████▏  | 733/1020 [21:45<09:50,  2.06s/it]"
     ]
    },
    {
     "name": "stdout",
     "output_type": "stream",
     "text": [
      "200\n"
     ]
    },
    {
     "name": "stderr",
     "output_type": "stream",
     "text": [
      "Scraping quotes:  72%|███████▏  | 734/1020 [21:47<09:15,  1.94s/it]"
     ]
    },
    {
     "name": "stdout",
     "output_type": "stream",
     "text": [
      "200\n"
     ]
    },
    {
     "name": "stderr",
     "output_type": "stream",
     "text": [
      "Scraping quotes:  72%|███████▏  | 735/1020 [21:49<09:40,  2.04s/it]"
     ]
    },
    {
     "name": "stdout",
     "output_type": "stream",
     "text": [
      "200\n"
     ]
    },
    {
     "name": "stderr",
     "output_type": "stream",
     "text": [
      "Scraping quotes:  72%|███████▏  | 736/1020 [21:50<07:51,  1.66s/it]"
     ]
    },
    {
     "name": "stdout",
     "output_type": "stream",
     "text": [
      "200\n"
     ]
    },
    {
     "name": "stderr",
     "output_type": "stream",
     "text": [
      "Scraping quotes:  72%|███████▏  | 737/1020 [21:51<06:39,  1.41s/it]"
     ]
    },
    {
     "name": "stdout",
     "output_type": "stream",
     "text": [
      "200\n"
     ]
    },
    {
     "name": "stderr",
     "output_type": "stream",
     "text": [
      "Scraping quotes:  72%|███████▏  | 738/1020 [21:51<05:31,  1.18s/it]"
     ]
    },
    {
     "name": "stdout",
     "output_type": "stream",
     "text": [
      "200\n"
     ]
    },
    {
     "name": "stderr",
     "output_type": "stream",
     "text": [
      "Scraping quotes:  72%|███████▏  | 739/1020 [21:52<05:02,  1.08s/it]"
     ]
    },
    {
     "name": "stdout",
     "output_type": "stream",
     "text": [
      "200\n"
     ]
    },
    {
     "name": "stderr",
     "output_type": "stream",
     "text": [
      "Scraping quotes:  73%|███████▎  | 740/1020 [21:53<04:43,  1.01s/it]"
     ]
    },
    {
     "name": "stdout",
     "output_type": "stream",
     "text": [
      "500\n",
      "Error scraping {'country': 'US', 'region': 'us-fl', 'crypto_name': 'USDT (BNB Chain)', 'payment_name': 'Instant ACH Bank Transfer', 'regionId': '/regions/us-fl', 'paymentMethodId': '/payments/instant-bank-transfer', 'cryptoCurrencyId': '/currencies/crypto/56/0x55d398326f99059ff775485246999027b3197955', 'fiatCurrencyId': '/currencies/fiat/usd', 'amount': 4556, 'request_time': datetime.datetime(2024, 8, 3, 11, 18, 50, 710349)}\n",
      "'success'\n",
      "\n"
     ]
    },
    {
     "name": "stderr",
     "output_type": "stream",
     "text": [
      "Scraping quotes:  73%|███████▎  | 741/1020 [21:54<04:13,  1.10it/s]"
     ]
    },
    {
     "name": "stdout",
     "output_type": "stream",
     "text": [
      "\u001b[K\r"
     ]
    },
    {
     "name": "stderr",
     "output_type": "stream",
     "text": [
      "Scraping quotes:  73%|███████▎  | 742/1020 [21:54<03:51,  1.20it/s]"
     ]
    },
    {
     "name": "stdout",
     "output_type": "stream",
     "text": [
      "500\n",
      "Error scraping {'country': 'US', 'region': 'us-fl', 'crypto_name': 'Ethereum Mainnet', 'payment_name': 'Wire Transfer', 'regionId': '/regions/us-fl', 'paymentMethodId': '/payments/wire-transfer', 'cryptoCurrencyId': '/currencies/crypto/1/0x0000000000000000000000000000000000000000', 'fiatCurrencyId': '/currencies/fiat/usd', 'amount': 4556, 'request_time': datetime.datetime(2024, 8, 3, 11, 18, 51, 375711)}\n",
      "'success'\n",
      "\n",
      "\u001b[K\r"
     ]
    },
    {
     "name": "stderr",
     "output_type": "stream",
     "text": [
      "Scraping quotes:  73%|███████▎  | 743/1020 [21:55<03:23,  1.36it/s]"
     ]
    },
    {
     "name": "stdout",
     "output_type": "stream",
     "text": [
      "500\n",
      "Error scraping {'country': 'US', 'region': 'us-fl', 'crypto_name': 'USDT (Ethereum)', 'payment_name': 'Wire Transfer', 'regionId': '/regions/us-fl', 'paymentMethodId': '/payments/wire-transfer', 'cryptoCurrencyId': '/currencies/crypto/1/0xdac17f958d2ee523a2206206994597c13d831ec7', 'fiatCurrencyId': '/currencies/fiat/usd', 'amount': 4556, 'request_time': datetime.datetime(2024, 8, 3, 11, 18, 52, 30310)}\n",
      "'success'\n",
      "\n",
      "500\n",
      "Error scraping {'country': 'US', 'region': 'us-fl', 'crypto_name': 'USDT (BNB Chain)', 'payment_name': 'Wire Transfer', 'regionId': '/regions/us-fl', 'paymentMethodId': '/payments/wire-transfer', 'cryptoCurrencyId': '/currencies/crypto/56/0x55d398326f99059ff775485246999027b3197955', 'fiatCurrencyId': '/currencies/fiat/usd', 'amount': 4556, 'request_time': datetime.datetime(2024, 8, 3, 11, 18, 52, 536889)}\n",
      "'success'\n",
      "\n"
     ]
    },
    {
     "name": "stderr",
     "output_type": "stream",
     "text": [
      "Scraping quotes:  73%|███████▎  | 744/1020 [21:55<03:12,  1.43it/s]"
     ]
    },
    {
     "name": "stdout",
     "output_type": "stream",
     "text": [
      "200\n"
     ]
    },
    {
     "name": "stderr",
     "output_type": "stream",
     "text": [
      "Scraping quotes:  73%|███████▎  | 745/1020 [21:56<03:10,  1.45it/s]"
     ]
    },
    {
     "name": "stdout",
     "output_type": "stream",
     "text": [
      "200\n"
     ]
    },
    {
     "name": "stderr",
     "output_type": "stream",
     "text": [
      "Scraping quotes:  73%|███████▎  | 746/1020 [21:57<03:05,  1.48it/s]"
     ]
    },
    {
     "name": "stdout",
     "output_type": "stream",
     "text": [
      "200\n"
     ]
    },
    {
     "name": "stderr",
     "output_type": "stream",
     "text": [
      "Scraping quotes:  73%|███████▎  | 747/1020 [21:57<03:04,  1.48it/s]"
     ]
    },
    {
     "name": "stdout",
     "output_type": "stream",
     "text": [
      "\u001b[K\r"
     ]
    },
    {
     "name": "stderr",
     "output_type": "stream",
     "text": [
      "Scraping quotes:  73%|███████▎  | 748/1020 [21:58<03:06,  1.46it/s]"
     ]
    },
    {
     "name": "stdout",
     "output_type": "stream",
     "text": [
      "500\n",
      "Error scraping {'country': 'US', 'region': 'us-fl', 'crypto_name': 'Ethereum Mainnet', 'payment_name': 'PSE', 'regionId': '/regions/us-fl', 'paymentMethodId': '/payments/pse', 'cryptoCurrencyId': '/currencies/crypto/1/0x0000000000000000000000000000000000000000', 'fiatCurrencyId': '/currencies/fiat/usd', 'amount': 4556, 'request_time': datetime.datetime(2024, 8, 3, 11, 18, 55, 137188)}\n",
      "'success'\n",
      "\n",
      "\u001b[K\r"
     ]
    },
    {
     "name": "stderr",
     "output_type": "stream",
     "text": [
      "Scraping quotes:  73%|███████▎  | 749/1020 [21:59<03:31,  1.28it/s]"
     ]
    },
    {
     "name": "stdout",
     "output_type": "stream",
     "text": [
      "500\n",
      "Error scraping {'country': 'US', 'region': 'us-fl', 'crypto_name': 'USDT (Ethereum)', 'payment_name': 'PSE', 'regionId': '/regions/us-fl', 'paymentMethodId': '/payments/pse', 'cryptoCurrencyId': '/currencies/crypto/1/0xdac17f958d2ee523a2206206994597c13d831ec7', 'fiatCurrencyId': '/currencies/fiat/usd', 'amount': 4556, 'request_time': datetime.datetime(2024, 8, 3, 11, 18, 55, 846050)}\n",
      "'success'\n",
      "\n",
      "\u001b[K\r"
     ]
    },
    {
     "name": "stderr",
     "output_type": "stream",
     "text": [
      "Scraping quotes:  74%|███████▎  | 750/1020 [22:01<05:08,  1.14s/it]"
     ]
    },
    {
     "name": "stdout",
     "output_type": "stream",
     "text": [
      "500\n",
      "Error scraping {'country': 'US', 'region': 'us-fl', 'crypto_name': 'USDT (BNB Chain)', 'payment_name': 'PSE', 'regionId': '/regions/us-fl', 'paymentMethodId': '/payments/pse', 'cryptoCurrencyId': '/currencies/crypto/56/0x55d398326f99059ff775485246999027b3197955', 'fiatCurrencyId': '/currencies/fiat/usd', 'amount': 4556, 'request_time': datetime.datetime(2024, 8, 3, 11, 18, 56, 851256)}\n",
      "'success'\n",
      "\n",
      "200\n"
     ]
    },
    {
     "name": "stderr",
     "output_type": "stream",
     "text": [
      "Scraping quotes:  74%|███████▎  | 751/1020 [22:02<04:45,  1.06s/it]"
     ]
    },
    {
     "name": "stdout",
     "output_type": "stream",
     "text": [
      "200\n"
     ]
    },
    {
     "name": "stderr",
     "output_type": "stream",
     "text": [
      "Scraping quotes:  74%|███████▎  | 752/1020 [22:03<04:55,  1.10s/it]"
     ]
    },
    {
     "name": "stdout",
     "output_type": "stream",
     "text": [
      "200\n"
     ]
    },
    {
     "name": "stderr",
     "output_type": "stream",
     "text": [
      "Scraping quotes:  74%|███████▍  | 753/1020 [22:05<05:43,  1.29s/it]"
     ]
    },
    {
     "name": "stdout",
     "output_type": "stream",
     "text": [
      "200\n"
     ]
    },
    {
     "name": "stderr",
     "output_type": "stream",
     "text": [
      "Scraping quotes:  74%|███████▍  | 754/1020 [22:07<06:51,  1.55s/it]"
     ]
    },
    {
     "name": "stdout",
     "output_type": "stream",
     "text": [
      "200\n"
     ]
    },
    {
     "name": "stderr",
     "output_type": "stream",
     "text": [
      "Scraping quotes:  74%|███████▍  | 755/1020 [22:09<07:33,  1.71s/it]"
     ]
    },
    {
     "name": "stdout",
     "output_type": "stream",
     "text": [
      "200\n"
     ]
    },
    {
     "name": "stderr",
     "output_type": "stream",
     "text": [
      "Scraping quotes:  74%|███████▍  | 756/1020 [22:10<06:57,  1.58s/it]"
     ]
    },
    {
     "name": "stdout",
     "output_type": "stream",
     "text": [
      "200\n"
     ]
    },
    {
     "name": "stderr",
     "output_type": "stream",
     "text": [
      "Scraping quotes:  74%|███████▍  | 757/1020 [22:12<06:44,  1.54s/it]"
     ]
    },
    {
     "name": "stdout",
     "output_type": "stream",
     "text": [
      "200\n"
     ]
    },
    {
     "name": "stderr",
     "output_type": "stream",
     "text": [
      "Scraping quotes:  74%|███████▍  | 758/1020 [22:14<06:50,  1.57s/it]"
     ]
    },
    {
     "name": "stdout",
     "output_type": "stream",
     "text": [
      "200\n"
     ]
    },
    {
     "name": "stderr",
     "output_type": "stream",
     "text": [
      "Scraping quotes:  74%|███████▍  | 759/1020 [22:15<07:19,  1.68s/it]"
     ]
    },
    {
     "name": "stdout",
     "output_type": "stream",
     "text": [
      "200\n"
     ]
    },
    {
     "name": "stderr",
     "output_type": "stream",
     "text": [
      "Scraping quotes:  75%|███████▍  | 760/1020 [22:17<07:00,  1.62s/it]"
     ]
    },
    {
     "name": "stdout",
     "output_type": "stream",
     "text": [
      "200\n"
     ]
    },
    {
     "name": "stderr",
     "output_type": "stream",
     "text": [
      "Scraping quotes:  75%|███████▍  | 761/1020 [22:19<06:56,  1.61s/it]"
     ]
    },
    {
     "name": "stdout",
     "output_type": "stream",
     "text": [
      "200\n"
     ]
    },
    {
     "name": "stderr",
     "output_type": "stream",
     "text": [
      "Scraping quotes:  75%|███████▍  | 762/1020 [22:20<06:16,  1.46s/it]"
     ]
    },
    {
     "name": "stdout",
     "output_type": "stream",
     "text": [
      "500\n",
      "Error scraping {'country': 'UK', 'region': 'gb', 'crypto_name': 'Ethereum Mainnet', 'payment_name': 'PSE', 'regionId': '/regions/gb', 'paymentMethodId': '/payments/pse', 'cryptoCurrencyId': '/currencies/crypto/1/0x0000000000000000000000000000000000000000', 'fiatCurrencyId': '/currencies/fiat/gbp', 'amount': 4556, 'request_time': datetime.datetime(2024, 8, 3, 11, 19, 17, 353179)}\n",
      "'success'\n",
      "\n"
     ]
    },
    {
     "name": "stderr",
     "output_type": "stream",
     "text": [
      "Scraping quotes:  75%|███████▍  | 763/1020 [22:21<05:32,  1.29s/it]"
     ]
    },
    {
     "name": "stdout",
     "output_type": "stream",
     "text": [
      "\u001b[K\r"
     ]
    },
    {
     "name": "stderr",
     "output_type": "stream",
     "text": [
      "Scraping quotes:  75%|███████▍  | 764/1020 [22:21<04:45,  1.12s/it]"
     ]
    },
    {
     "name": "stdout",
     "output_type": "stream",
     "text": [
      "500\n",
      "Error scraping {'country': 'UK', 'region': 'gb', 'crypto_name': 'USDT (Ethereum)', 'payment_name': 'PSE', 'regionId': '/regions/gb', 'paymentMethodId': '/payments/pse', 'cryptoCurrencyId': '/currencies/crypto/1/0xdac17f958d2ee523a2206206994597c13d831ec7', 'fiatCurrencyId': '/currencies/fiat/gbp', 'amount': 4556, 'request_time': datetime.datetime(2024, 8, 3, 11, 19, 18, 256593)}\n",
      "'success'\n",
      "\n",
      "500\n",
      "Error scraping {'country': 'UK', 'region': 'gb', 'crypto_name': 'USDT (BNB Chain)', 'payment_name': 'PSE', 'regionId': '/regions/gb', 'paymentMethodId': '/payments/pse', 'cryptoCurrencyId': '/currencies/crypto/56/0x55d398326f99059ff775485246999027b3197955', 'fiatCurrencyId': '/currencies/fiat/gbp', 'amount': 4556, 'request_time': datetime.datetime(2024, 8, 3, 11, 19, 18, 960734)}\n",
      "'success'\n",
      "\n"
     ]
    },
    {
     "name": "stderr",
     "output_type": "stream",
     "text": [
      "Scraping quotes:  75%|███████▌  | 765/1020 [22:22<04:22,  1.03s/it]"
     ]
    },
    {
     "name": "stdout",
     "output_type": "stream",
     "text": [
      "200\n"
     ]
    },
    {
     "name": "stderr",
     "output_type": "stream",
     "text": [
      "Scraping quotes:  75%|███████▌  | 766/1020 [22:25<06:10,  1.46s/it]"
     ]
    },
    {
     "name": "stdout",
     "output_type": "stream",
     "text": [
      "200\n"
     ]
    },
    {
     "name": "stderr",
     "output_type": "stream",
     "text": [
      "Scraping quotes:  75%|███████▌  | 767/1020 [22:27<07:37,  1.81s/it]"
     ]
    },
    {
     "name": "stdout",
     "output_type": "stream",
     "text": [
      "200\n"
     ]
    },
    {
     "name": "stderr",
     "output_type": "stream",
     "text": [
      "Scraping quotes:  75%|███████▌  | 768/1020 [22:29<07:57,  1.89s/it]"
     ]
    },
    {
     "name": "stdout",
     "output_type": "stream",
     "text": [
      "200\n"
     ]
    },
    {
     "name": "stderr",
     "output_type": "stream",
     "text": [
      "Scraping quotes:  75%|███████▌  | 769/1020 [22:32<08:40,  2.07s/it]"
     ]
    },
    {
     "name": "stdout",
     "output_type": "stream",
     "text": [
      "200\n"
     ]
    },
    {
     "name": "stderr",
     "output_type": "stream",
     "text": [
      "Scraping quotes:  75%|███████▌  | 770/1020 [22:34<08:59,  2.16s/it]"
     ]
    },
    {
     "name": "stdout",
     "output_type": "stream",
     "text": [
      "200\n"
     ]
    },
    {
     "name": "stderr",
     "output_type": "stream",
     "text": [
      "Scraping quotes:  76%|███████▌  | 771/1020 [22:36<09:12,  2.22s/it]"
     ]
    },
    {
     "name": "stdout",
     "output_type": "stream",
     "text": [
      "200\n"
     ]
    },
    {
     "name": "stderr",
     "output_type": "stream",
     "text": [
      "Scraping quotes:  76%|███████▌  | 772/1020 [22:39<09:16,  2.24s/it]"
     ]
    },
    {
     "name": "stdout",
     "output_type": "stream",
     "text": [
      "200\n"
     ]
    },
    {
     "name": "stderr",
     "output_type": "stream",
     "text": [
      "Scraping quotes:  76%|███████▌  | 773/1020 [22:42<10:40,  2.59s/it]"
     ]
    },
    {
     "name": "stdout",
     "output_type": "stream",
     "text": [
      "200\n"
     ]
    },
    {
     "name": "stderr",
     "output_type": "stream",
     "text": [
      "Scraping quotes:  76%|███████▌  | 774/1020 [22:44<10:03,  2.45s/it]"
     ]
    },
    {
     "name": "stdout",
     "output_type": "stream",
     "text": [
      "200\n"
     ]
    },
    {
     "name": "stderr",
     "output_type": "stream",
     "text": [
      "Scraping quotes:  76%|███████▌  | 775/1020 [22:46<08:58,  2.20s/it]"
     ]
    },
    {
     "name": "stdout",
     "output_type": "stream",
     "text": [
      "200\n"
     ]
    },
    {
     "name": "stderr",
     "output_type": "stream",
     "text": [
      "Scraping quotes:  76%|███████▌  | 776/1020 [22:47<07:47,  1.91s/it]"
     ]
    },
    {
     "name": "stdout",
     "output_type": "stream",
     "text": [
      "200\n"
     ]
    },
    {
     "name": "stderr",
     "output_type": "stream",
     "text": [
      "Scraping quotes:  76%|███████▌  | 777/1020 [22:48<06:54,  1.71s/it]"
     ]
    },
    {
     "name": "stdout",
     "output_type": "stream",
     "text": [
      "\u001b[K\r"
     ]
    },
    {
     "name": "stderr",
     "output_type": "stream",
     "text": [
      "Scraping quotes:  76%|███████▋  | 778/1020 [22:50<06:40,  1.65s/it]"
     ]
    },
    {
     "name": "stdout",
     "output_type": "stream",
     "text": [
      "500\n",
      "Error scraping {'country': 'DE', 'region': 'de', 'crypto_name': 'Ethereum Mainnet', 'payment_name': 'PSE', 'regionId': '/regions/de', 'paymentMethodId': '/payments/pse', 'cryptoCurrencyId': '/currencies/crypto/1/0x0000000000000000000000000000000000000000', 'fiatCurrencyId': '/currencies/fiat/eur', 'amount': 6436, 'request_time': datetime.datetime(2024, 8, 3, 11, 19, 46, 90724)}\n",
      "'success'\n",
      "\n",
      "\u001b[K\r"
     ]
    },
    {
     "name": "stderr",
     "output_type": "stream",
     "text": [
      "Scraping quotes:  76%|███████▋  | 779/1020 [22:51<05:43,  1.43s/it]"
     ]
    },
    {
     "name": "stdout",
     "output_type": "stream",
     "text": [
      "500\n",
      "Error scraping {'country': 'DE', 'region': 'de', 'crypto_name': 'USDT (Ethereum)', 'payment_name': 'PSE', 'regionId': '/regions/de', 'paymentMethodId': '/payments/pse', 'cryptoCurrencyId': '/currencies/crypto/1/0xdac17f958d2ee523a2206206994597c13d831ec7', 'fiatCurrencyId': '/currencies/fiat/eur', 'amount': 6436, 'request_time': datetime.datetime(2024, 8, 3, 11, 19, 47, 625590)}\n",
      "'success'\n",
      "\n",
      "\u001b[K\r"
     ]
    },
    {
     "name": "stderr",
     "output_type": "stream",
     "text": [
      "Scraping quotes:  76%|███████▋  | 780/1020 [22:52<05:06,  1.28s/it]"
     ]
    },
    {
     "name": "stdout",
     "output_type": "stream",
     "text": [
      "500\n",
      "Error scraping {'country': 'DE', 'region': 'de', 'crypto_name': 'USDT (BNB Chain)', 'payment_name': 'PSE', 'regionId': '/regions/de', 'paymentMethodId': '/payments/pse', 'cryptoCurrencyId': '/currencies/crypto/56/0x55d398326f99059ff775485246999027b3197955', 'fiatCurrencyId': '/currencies/fiat/eur', 'amount': 6436, 'request_time': datetime.datetime(2024, 8, 3, 11, 19, 48, 518229)}\n",
      "'success'\n",
      "\n",
      "200\n"
     ]
    },
    {
     "name": "stderr",
     "output_type": "stream",
     "text": [
      "Scraping quotes:  77%|███████▋  | 781/1020 [22:54<06:04,  1.52s/it]"
     ]
    },
    {
     "name": "stdout",
     "output_type": "stream",
     "text": [
      "200\n"
     ]
    },
    {
     "name": "stderr",
     "output_type": "stream",
     "text": [
      "Scraping quotes:  77%|███████▋  | 782/1020 [22:56<06:56,  1.75s/it]"
     ]
    },
    {
     "name": "stdout",
     "output_type": "stream",
     "text": [
      "200\n"
     ]
    },
    {
     "name": "stderr",
     "output_type": "stream",
     "text": [
      "Scraping quotes:  77%|███████▋  | 783/1020 [22:58<07:23,  1.87s/it]"
     ]
    },
    {
     "name": "stdout",
     "output_type": "stream",
     "text": [
      "200\n"
     ]
    },
    {
     "name": "stderr",
     "output_type": "stream",
     "text": [
      "Scraping quotes:  77%|███████▋  | 784/1020 [23:01<08:01,  2.04s/it]"
     ]
    },
    {
     "name": "stdout",
     "output_type": "stream",
     "text": [
      "200\n"
     ]
    },
    {
     "name": "stderr",
     "output_type": "stream",
     "text": [
      "Scraping quotes:  77%|███████▋  | 785/1020 [23:03<08:35,  2.19s/it]"
     ]
    },
    {
     "name": "stdout",
     "output_type": "stream",
     "text": [
      "200\n"
     ]
    },
    {
     "name": "stderr",
     "output_type": "stream",
     "text": [
      "Scraping quotes:  77%|███████▋  | 786/1020 [23:06<08:43,  2.24s/it]"
     ]
    },
    {
     "name": "stdout",
     "output_type": "stream",
     "text": [
      "200\n"
     ]
    },
    {
     "name": "stderr",
     "output_type": "stream",
     "text": [
      "Scraping quotes:  77%|███████▋  | 787/1020 [23:07<07:16,  1.87s/it]"
     ]
    },
    {
     "name": "stdout",
     "output_type": "stream",
     "text": [
      "200\n"
     ]
    },
    {
     "name": "stderr",
     "output_type": "stream",
     "text": [
      "Scraping quotes:  77%|███████▋  | 788/1020 [23:07<05:47,  1.50s/it]"
     ]
    },
    {
     "name": "stdout",
     "output_type": "stream",
     "text": [
      "200\n"
     ]
    },
    {
     "name": "stderr",
     "output_type": "stream",
     "text": [
      "Scraping quotes:  77%|███████▋  | 789/1020 [23:08<04:44,  1.23s/it]"
     ]
    },
    {
     "name": "stdout",
     "output_type": "stream",
     "text": [
      "200\n"
     ]
    },
    {
     "name": "stderr",
     "output_type": "stream",
     "text": [
      "Scraping quotes:  77%|███████▋  | 790/1020 [23:09<04:31,  1.18s/it]"
     ]
    },
    {
     "name": "stdout",
     "output_type": "stream",
     "text": [
      "200\n"
     ]
    },
    {
     "name": "stderr",
     "output_type": "stream",
     "text": [
      "Scraping quotes:  78%|███████▊  | 791/1020 [23:10<04:24,  1.15s/it]"
     ]
    },
    {
     "name": "stdout",
     "output_type": "stream",
     "text": [
      "\u001b[K\r"
     ]
    },
    {
     "name": "stderr",
     "output_type": "stream",
     "text": [
      "Scraping quotes:  78%|███████▊  | 792/1020 [23:11<03:41,  1.03it/s]"
     ]
    },
    {
     "name": "stdout",
     "output_type": "stream",
     "text": [
      "500\n",
      "Error scraping {'country': 'US', 'region': 'us-fl', 'crypto_name': 'USDT (BNB Chain)', 'payment_name': 'Instant ACH Bank Transfer', 'regionId': '/regions/us-fl', 'paymentMethodId': '/payments/instant-bank-transfer', 'cryptoCurrencyId': '/currencies/crypto/56/0x55d398326f99059ff775485246999027b3197955', 'fiatCurrencyId': '/currencies/fiat/usd', 'amount': 6436, 'request_time': datetime.datetime(2024, 8, 3, 11, 20, 7, 719326)}\n",
      "'success'\n",
      "\n",
      "\u001b[K\r"
     ]
    },
    {
     "name": "stderr",
     "output_type": "stream",
     "text": [
      "Scraping quotes:  78%|███████▊  | 793/1020 [23:11<03:09,  1.20it/s]"
     ]
    },
    {
     "name": "stdout",
     "output_type": "stream",
     "text": [
      "500\n",
      "Error scraping {'country': 'US', 'region': 'us-fl', 'crypto_name': 'Ethereum Mainnet', 'payment_name': 'Wire Transfer', 'regionId': '/regions/us-fl', 'paymentMethodId': '/payments/wire-transfer', 'cryptoCurrencyId': '/currencies/crypto/1/0x0000000000000000000000000000000000000000', 'fiatCurrencyId': '/currencies/fiat/usd', 'amount': 6436, 'request_time': datetime.datetime(2024, 8, 3, 11, 20, 8, 269795)}\n",
      "'success'\n",
      "\n",
      "\u001b[K\r"
     ]
    },
    {
     "name": "stderr",
     "output_type": "stream",
     "text": [
      "Scraping quotes:  78%|███████▊  | 794/1020 [23:12<02:51,  1.32it/s]"
     ]
    },
    {
     "name": "stdout",
     "output_type": "stream",
     "text": [
      "500\n",
      "Error scraping {'country': 'US', 'region': 'us-fl', 'crypto_name': 'USDT (Ethereum)', 'payment_name': 'Wire Transfer', 'regionId': '/regions/us-fl', 'paymentMethodId': '/payments/wire-transfer', 'cryptoCurrencyId': '/currencies/crypto/1/0xdac17f958d2ee523a2206206994597c13d831ec7', 'fiatCurrencyId': '/currencies/fiat/usd', 'amount': 6436, 'request_time': datetime.datetime(2024, 8, 3, 11, 20, 8, 779090)}\n",
      "'success'\n",
      "\n",
      "500\n",
      "Error scraping {'country': 'US', 'region': 'us-fl', 'crypto_name': 'USDT (BNB Chain)', 'payment_name': 'Wire Transfer', 'regionId': '/regions/us-fl', 'paymentMethodId': '/payments/wire-transfer', 'cryptoCurrencyId': '/currencies/crypto/56/0x55d398326f99059ff775485246999027b3197955', 'fiatCurrencyId': '/currencies/fiat/usd', 'amount': 6436, 'request_time': datetime.datetime(2024, 8, 3, 11, 20, 9, 360920)}\n",
      "'success'\n",
      "\n"
     ]
    },
    {
     "name": "stderr",
     "output_type": "stream",
     "text": [
      "Scraping quotes:  78%|███████▊  | 795/1020 [23:12<02:37,  1.43it/s]"
     ]
    },
    {
     "name": "stdout",
     "output_type": "stream",
     "text": [
      "200\n"
     ]
    },
    {
     "name": "stderr",
     "output_type": "stream",
     "text": [
      "Scraping quotes:  78%|███████▊  | 796/1020 [23:14<03:44,  1.00s/it]"
     ]
    },
    {
     "name": "stdout",
     "output_type": "stream",
     "text": [
      "200\n"
     ]
    },
    {
     "name": "stderr",
     "output_type": "stream",
     "text": [
      "Scraping quotes:  78%|███████▊  | 797/1020 [23:15<03:23,  1.10it/s]"
     ]
    },
    {
     "name": "stdout",
     "output_type": "stream",
     "text": [
      "200\n"
     ]
    },
    {
     "name": "stderr",
     "output_type": "stream",
     "text": [
      "Scraping quotes:  78%|███████▊  | 798/1020 [23:15<03:18,  1.12it/s]"
     ]
    },
    {
     "name": "stdout",
     "output_type": "stream",
     "text": [
      "\u001b[K\r"
     ]
    },
    {
     "name": "stderr",
     "output_type": "stream",
     "text": [
      "Scraping quotes:  78%|███████▊  | 799/1020 [23:16<03:20,  1.10it/s]"
     ]
    },
    {
     "name": "stdout",
     "output_type": "stream",
     "text": [
      "500\n",
      "Error scraping {'country': 'US', 'region': 'us-fl', 'crypto_name': 'Ethereum Mainnet', 'payment_name': 'PSE', 'regionId': '/regions/us-fl', 'paymentMethodId': '/payments/pse', 'cryptoCurrencyId': '/currencies/crypto/1/0x0000000000000000000000000000000000000000', 'fiatCurrencyId': '/currencies/fiat/usd', 'amount': 6436, 'request_time': datetime.datetime(2024, 8, 3, 11, 20, 13, 179584)}\n",
      "'success'\n",
      "\n",
      "\u001b[K\r"
     ]
    },
    {
     "name": "stderr",
     "output_type": "stream",
     "text": [
      "Scraping quotes:  78%|███████▊  | 800/1020 [23:18<03:48,  1.04s/it]"
     ]
    },
    {
     "name": "stdout",
     "output_type": "stream",
     "text": [
      "500\n",
      "Error scraping {'country': 'US', 'region': 'us-fl', 'crypto_name': 'USDT (Ethereum)', 'payment_name': 'PSE', 'regionId': '/regions/us-fl', 'paymentMethodId': '/payments/pse', 'cryptoCurrencyId': '/currencies/crypto/1/0xdac17f958d2ee523a2206206994597c13d831ec7', 'fiatCurrencyId': '/currencies/fiat/usd', 'amount': 6436, 'request_time': datetime.datetime(2024, 8, 3, 11, 20, 14, 116223)}\n",
      "'success'\n",
      "\n",
      "500\n",
      "Error scraping {'country': 'US', 'region': 'us-fl', 'crypto_name': 'USDT (BNB Chain)', 'payment_name': 'PSE', 'regionId': '/regions/us-fl', 'paymentMethodId': '/payments/pse', 'cryptoCurrencyId': '/currencies/crypto/56/0x55d398326f99059ff775485246999027b3197955', 'fiatCurrencyId': '/currencies/fiat/usd', 'amount': 6436, 'request_time': datetime.datetime(2024, 8, 3, 11, 20, 15, 462011)}\n",
      "'success'\n",
      "\n"
     ]
    },
    {
     "name": "stderr",
     "output_type": "stream",
     "text": [
      "Scraping quotes:  79%|███████▊  | 801/1020 [23:19<04:20,  1.19s/it]"
     ]
    },
    {
     "name": "stdout",
     "output_type": "stream",
     "text": [
      "200\n"
     ]
    },
    {
     "name": "stderr",
     "output_type": "stream",
     "text": [
      "Scraping quotes:  79%|███████▊  | 802/1020 [23:21<04:23,  1.21s/it]"
     ]
    },
    {
     "name": "stdout",
     "output_type": "stream",
     "text": [
      "200\n"
     ]
    },
    {
     "name": "stderr",
     "output_type": "stream",
     "text": [
      "Scraping quotes:  79%|███████▊  | 803/1020 [23:21<03:57,  1.09s/it]"
     ]
    },
    {
     "name": "stdout",
     "output_type": "stream",
     "text": [
      "200\n"
     ]
    },
    {
     "name": "stderr",
     "output_type": "stream",
     "text": [
      "Scraping quotes:  79%|███████▉  | 804/1020 [23:22<03:53,  1.08s/it]"
     ]
    },
    {
     "name": "stdout",
     "output_type": "stream",
     "text": [
      "200\n"
     ]
    },
    {
     "name": "stderr",
     "output_type": "stream",
     "text": [
      "Scraping quotes:  79%|███████▉  | 805/1020 [23:24<04:05,  1.14s/it]"
     ]
    },
    {
     "name": "stdout",
     "output_type": "stream",
     "text": [
      "200\n"
     ]
    },
    {
     "name": "stderr",
     "output_type": "stream",
     "text": [
      "Scraping quotes:  79%|███████▉  | 806/1020 [23:26<05:25,  1.52s/it]"
     ]
    },
    {
     "name": "stdout",
     "output_type": "stream",
     "text": [
      "200\n"
     ]
    },
    {
     "name": "stderr",
     "output_type": "stream",
     "text": [
      "Scraping quotes:  79%|███████▉  | 807/1020 [23:27<04:58,  1.40s/it]"
     ]
    },
    {
     "name": "stdout",
     "output_type": "stream",
     "text": [
      "200\n"
     ]
    },
    {
     "name": "stderr",
     "output_type": "stream",
     "text": [
      "Scraping quotes:  79%|███████▉  | 808/1020 [23:28<04:41,  1.33s/it]"
     ]
    },
    {
     "name": "stdout",
     "output_type": "stream",
     "text": [
      "200\n"
     ]
    },
    {
     "name": "stderr",
     "output_type": "stream",
     "text": [
      "Scraping quotes:  79%|███████▉  | 809/1020 [23:30<04:35,  1.30s/it]"
     ]
    },
    {
     "name": "stdout",
     "output_type": "stream",
     "text": [
      "200\n"
     ]
    },
    {
     "name": "stderr",
     "output_type": "stream",
     "text": [
      "Scraping quotes:  79%|███████▉  | 810/1020 [23:31<04:44,  1.35s/it]"
     ]
    },
    {
     "name": "stdout",
     "output_type": "stream",
     "text": [
      "200\n"
     ]
    },
    {
     "name": "stderr",
     "output_type": "stream",
     "text": [
      "Scraping quotes:  80%|███████▉  | 811/1020 [23:33<04:46,  1.37s/it]"
     ]
    },
    {
     "name": "stdout",
     "output_type": "stream",
     "text": [
      "200\n"
     ]
    },
    {
     "name": "stderr",
     "output_type": "stream",
     "text": [
      "Scraping quotes:  80%|███████▉  | 812/1020 [23:34<04:31,  1.31s/it]"
     ]
    },
    {
     "name": "stdout",
     "output_type": "stream",
     "text": [
      "200\n"
     ]
    },
    {
     "name": "stderr",
     "output_type": "stream",
     "text": [
      "Scraping quotes:  80%|███████▉  | 813/1020 [23:36<05:25,  1.57s/it]"
     ]
    },
    {
     "name": "stdout",
     "output_type": "stream",
     "text": [
      "\u001b[K\r"
     ]
    },
    {
     "name": "stderr",
     "output_type": "stream",
     "text": [
      "Scraping quotes:  80%|███████▉  | 814/1020 [23:37<04:30,  1.31s/it]"
     ]
    },
    {
     "name": "stdout",
     "output_type": "stream",
     "text": [
      "500\n",
      "Error scraping {'country': 'UK', 'region': 'gb', 'crypto_name': 'Ethereum Mainnet', 'payment_name': 'PSE', 'regionId': '/regions/gb', 'paymentMethodId': '/payments/pse', 'cryptoCurrencyId': '/currencies/crypto/1/0x0000000000000000000000000000000000000000', 'fiatCurrencyId': '/currencies/fiat/gbp', 'amount': 6436, 'request_time': datetime.datetime(2024, 8, 3, 11, 20, 33, 578442)}\n",
      "'success'\n",
      "\n",
      "\u001b[K\r"
     ]
    },
    {
     "name": "stderr",
     "output_type": "stream",
     "text": [
      "Scraping quotes:  80%|███████▉  | 815/1020 [23:37<04:01,  1.18s/it]"
     ]
    },
    {
     "name": "stdout",
     "output_type": "stream",
     "text": [
      "500\n",
      "Error scraping {'country': 'UK', 'region': 'gb', 'crypto_name': 'USDT (Ethereum)', 'payment_name': 'PSE', 'regionId': '/regions/gb', 'paymentMethodId': '/payments/pse', 'cryptoCurrencyId': '/currencies/crypto/1/0xdac17f958d2ee523a2206206994597c13d831ec7', 'fiatCurrencyId': '/currencies/fiat/gbp', 'amount': 6436, 'request_time': datetime.datetime(2024, 8, 3, 11, 20, 34, 280021)}\n",
      "'success'\n",
      "\n",
      "\u001b[K\r"
     ]
    },
    {
     "name": "stderr",
     "output_type": "stream",
     "text": [
      "Scraping quotes:  80%|████████  | 816/1020 [23:39<04:09,  1.23s/it]"
     ]
    },
    {
     "name": "stdout",
     "output_type": "stream",
     "text": [
      "500\n",
      "Error scraping {'country': 'UK', 'region': 'gb', 'crypto_name': 'USDT (BNB Chain)', 'payment_name': 'PSE', 'regionId': '/regions/gb', 'paymentMethodId': '/payments/pse', 'cryptoCurrencyId': '/currencies/crypto/56/0x55d398326f99059ff775485246999027b3197955', 'fiatCurrencyId': '/currencies/fiat/gbp', 'amount': 6436, 'request_time': datetime.datetime(2024, 8, 3, 11, 20, 35, 147898)}\n",
      "'success'\n",
      "\n",
      "200\n"
     ]
    },
    {
     "name": "stderr",
     "output_type": "stream",
     "text": [
      "Scraping quotes:  80%|████████  | 817/1020 [23:41<05:11,  1.53s/it]"
     ]
    },
    {
     "name": "stdout",
     "output_type": "stream",
     "text": [
      "200\n"
     ]
    },
    {
     "name": "stderr",
     "output_type": "stream",
     "text": [
      "Scraping quotes:  80%|████████  | 818/1020 [23:44<06:16,  1.86s/it]"
     ]
    },
    {
     "name": "stdout",
     "output_type": "stream",
     "text": [
      "200\n"
     ]
    },
    {
     "name": "stderr",
     "output_type": "stream",
     "text": [
      "Scraping quotes:  80%|████████  | 819/1020 [23:46<06:34,  1.96s/it]"
     ]
    },
    {
     "name": "stdout",
     "output_type": "stream",
     "text": [
      "200\n"
     ]
    },
    {
     "name": "stderr",
     "output_type": "stream",
     "text": [
      "Scraping quotes:  80%|████████  | 820/1020 [23:48<06:57,  2.09s/it]"
     ]
    },
    {
     "name": "stdout",
     "output_type": "stream",
     "text": [
      "200\n"
     ]
    },
    {
     "name": "stderr",
     "output_type": "stream",
     "text": [
      "Scraping quotes:  80%|████████  | 821/1020 [23:51<08:04,  2.43s/it]"
     ]
    },
    {
     "name": "stdout",
     "output_type": "stream",
     "text": [
      "200\n"
     ]
    },
    {
     "name": "stderr",
     "output_type": "stream",
     "text": [
      "Scraping quotes:  81%|████████  | 822/1020 [23:54<07:42,  2.33s/it]"
     ]
    },
    {
     "name": "stdout",
     "output_type": "stream",
     "text": [
      "200\n"
     ]
    },
    {
     "name": "stderr",
     "output_type": "stream",
     "text": [
      "Scraping quotes:  81%|████████  | 823/1020 [23:56<07:44,  2.36s/it]"
     ]
    },
    {
     "name": "stdout",
     "output_type": "stream",
     "text": [
      "200\n"
     ]
    },
    {
     "name": "stderr",
     "output_type": "stream",
     "text": [
      "Scraping quotes:  81%|████████  | 824/1020 [23:58<07:42,  2.36s/it]"
     ]
    },
    {
     "name": "stdout",
     "output_type": "stream",
     "text": [
      "200\n"
     ]
    },
    {
     "name": "stderr",
     "output_type": "stream",
     "text": [
      "Scraping quotes:  81%|████████  | 825/1020 [24:01<07:30,  2.31s/it]"
     ]
    },
    {
     "name": "stdout",
     "output_type": "stream",
     "text": [
      "200\n"
     ]
    },
    {
     "name": "stderr",
     "output_type": "stream",
     "text": [
      "Scraping quotes:  81%|████████  | 826/1020 [24:01<06:09,  1.90s/it]"
     ]
    },
    {
     "name": "stdout",
     "output_type": "stream",
     "text": [
      "200\n"
     ]
    },
    {
     "name": "stderr",
     "output_type": "stream",
     "text": [
      "Scraping quotes:  81%|████████  | 827/1020 [24:02<05:00,  1.56s/it]"
     ]
    },
    {
     "name": "stdout",
     "output_type": "stream",
     "text": [
      "200\n"
     ]
    },
    {
     "name": "stderr",
     "output_type": "stream",
     "text": [
      "Scraping quotes:  81%|████████  | 828/1020 [24:03<04:38,  1.45s/it]"
     ]
    },
    {
     "name": "stdout",
     "output_type": "stream",
     "text": [
      "500\n",
      "Error scraping {'country': 'DE', 'region': 'de', 'crypto_name': 'Ethereum Mainnet', 'payment_name': 'PSE', 'regionId': '/regions/de', 'paymentMethodId': '/payments/pse', 'cryptoCurrencyId': '/currencies/crypto/1/0x0000000000000000000000000000000000000000', 'fiatCurrencyId': '/currencies/fiat/eur', 'amount': 9090, 'request_time': datetime.datetime(2024, 8, 3, 11, 21, 1, 165014)}\n",
      "'success'\n",
      "\n"
     ]
    },
    {
     "name": "stderr",
     "output_type": "stream",
     "text": [
      "Scraping quotes:  81%|████████▏ | 829/1020 [24:05<04:15,  1.34s/it]"
     ]
    },
    {
     "name": "stdout",
     "output_type": "stream",
     "text": [
      "\u001b[K\r"
     ]
    },
    {
     "name": "stderr",
     "output_type": "stream",
     "text": [
      "Scraping quotes:  81%|████████▏ | 830/1020 [24:05<03:39,  1.16s/it]"
     ]
    },
    {
     "name": "stdout",
     "output_type": "stream",
     "text": [
      "500\n",
      "Error scraping {'country': 'DE', 'region': 'de', 'crypto_name': 'USDT (Ethereum)', 'payment_name': 'PSE', 'regionId': '/regions/de', 'paymentMethodId': '/payments/pse', 'cryptoCurrencyId': '/currencies/crypto/1/0xdac17f958d2ee523a2206206994597c13d831ec7', 'fiatCurrencyId': '/currencies/fiat/eur', 'amount': 9090, 'request_time': datetime.datetime(2024, 8, 3, 11, 21, 2, 233082)}\n",
      "'success'\n",
      "\n",
      "\u001b[K\r"
     ]
    },
    {
     "name": "stderr",
     "output_type": "stream",
     "text": [
      "Scraping quotes:  81%|████████▏ | 831/1020 [24:06<03:17,  1.04s/it]"
     ]
    },
    {
     "name": "stdout",
     "output_type": "stream",
     "text": [
      "500\n",
      "Error scraping {'country': 'DE', 'region': 'de', 'crypto_name': 'USDT (BNB Chain)', 'payment_name': 'PSE', 'regionId': '/regions/de', 'paymentMethodId': '/payments/pse', 'cryptoCurrencyId': '/currencies/crypto/56/0x55d398326f99059ff775485246999027b3197955', 'fiatCurrencyId': '/currencies/fiat/eur', 'amount': 9090, 'request_time': datetime.datetime(2024, 8, 3, 11, 21, 2, 971231)}\n",
      "'success'\n",
      "\n",
      "200\n"
     ]
    },
    {
     "name": "stderr",
     "output_type": "stream",
     "text": [
      "Scraping quotes:  82%|████████▏ | 832/1020 [24:09<04:51,  1.55s/it]"
     ]
    },
    {
     "name": "stdout",
     "output_type": "stream",
     "text": [
      "200\n"
     ]
    },
    {
     "name": "stderr",
     "output_type": "stream",
     "text": [
      "Scraping quotes:  82%|████████▏ | 833/1020 [24:11<05:18,  1.70s/it]"
     ]
    },
    {
     "name": "stdout",
     "output_type": "stream",
     "text": [
      "200\n"
     ]
    },
    {
     "name": "stderr",
     "output_type": "stream",
     "text": [
      "Scraping quotes:  82%|████████▏ | 834/1020 [24:13<05:44,  1.85s/it]"
     ]
    },
    {
     "name": "stdout",
     "output_type": "stream",
     "text": [
      "200\n"
     ]
    },
    {
     "name": "stderr",
     "output_type": "stream",
     "text": [
      "Scraping quotes:  82%|████████▏ | 835/1020 [24:15<05:37,  1.82s/it]"
     ]
    },
    {
     "name": "stdout",
     "output_type": "stream",
     "text": [
      "200\n"
     ]
    },
    {
     "name": "stderr",
     "output_type": "stream",
     "text": [
      "Scraping quotes:  82%|████████▏ | 836/1020 [24:17<06:07,  1.99s/it]"
     ]
    },
    {
     "name": "stdout",
     "output_type": "stream",
     "text": [
      "200\n"
     ]
    },
    {
     "name": "stderr",
     "output_type": "stream",
     "text": [
      "Scraping quotes:  82%|████████▏ | 837/1020 [24:19<06:17,  2.06s/it]"
     ]
    },
    {
     "name": "stdout",
     "output_type": "stream",
     "text": [
      "200\n"
     ]
    },
    {
     "name": "stderr",
     "output_type": "stream",
     "text": [
      "Scraping quotes:  82%|████████▏ | 838/1020 [24:20<04:57,  1.64s/it]"
     ]
    },
    {
     "name": "stdout",
     "output_type": "stream",
     "text": [
      "200\n"
     ]
    },
    {
     "name": "stderr",
     "output_type": "stream",
     "text": [
      "Scraping quotes:  82%|████████▏ | 839/1020 [24:22<05:07,  1.70s/it]"
     ]
    },
    {
     "name": "stdout",
     "output_type": "stream",
     "text": [
      "200\n"
     ]
    },
    {
     "name": "stderr",
     "output_type": "stream",
     "text": [
      "Scraping quotes:  82%|████████▏ | 840/1020 [24:23<04:08,  1.38s/it]"
     ]
    },
    {
     "name": "stdout",
     "output_type": "stream",
     "text": [
      "200\n"
     ]
    },
    {
     "name": "stderr",
     "output_type": "stream",
     "text": [
      "Scraping quotes:  82%|████████▏ | 841/1020 [24:24<03:53,  1.30s/it]"
     ]
    },
    {
     "name": "stdout",
     "output_type": "stream",
     "text": [
      "200\n"
     ]
    },
    {
     "name": "stderr",
     "output_type": "stream",
     "text": [
      "Scraping quotes:  83%|████████▎ | 842/1020 [24:26<04:30,  1.52s/it]"
     ]
    },
    {
     "name": "stdout",
     "output_type": "stream",
     "text": [
      "\u001b[K\r"
     ]
    },
    {
     "name": "stderr",
     "output_type": "stream",
     "text": [
      "Scraping quotes:  83%|████████▎ | 843/1020 [24:26<03:45,  1.27s/it]"
     ]
    },
    {
     "name": "stdout",
     "output_type": "stream",
     "text": [
      "500\n",
      "Error scraping {'country': 'US', 'region': 'us-fl', 'crypto_name': 'USDT (BNB Chain)', 'payment_name': 'Instant ACH Bank Transfer', 'regionId': '/regions/us-fl', 'paymentMethodId': '/payments/instant-bank-transfer', 'cryptoCurrencyId': '/currencies/crypto/56/0x55d398326f99059ff775485246999027b3197955', 'fiatCurrencyId': '/currencies/fiat/usd', 'amount': 9090, 'request_time': datetime.datetime(2024, 8, 3, 11, 21, 23, 383254)}\n",
      "'success'\n",
      "\n",
      "\u001b[K\r"
     ]
    },
    {
     "name": "stderr",
     "output_type": "stream",
     "text": [
      "Scraping quotes:  83%|████████▎ | 844/1020 [24:27<03:07,  1.07s/it]"
     ]
    },
    {
     "name": "stdout",
     "output_type": "stream",
     "text": [
      "500\n",
      "Error scraping {'country': 'US', 'region': 'us-fl', 'crypto_name': 'Ethereum Mainnet', 'payment_name': 'Wire Transfer', 'regionId': '/regions/us-fl', 'paymentMethodId': '/payments/wire-transfer', 'cryptoCurrencyId': '/currencies/crypto/1/0x0000000000000000000000000000000000000000', 'fiatCurrencyId': '/currencies/fiat/usd', 'amount': 9090, 'request_time': datetime.datetime(2024, 8, 3, 11, 21, 24, 81565)}\n",
      "'success'\n",
      "\n",
      "\u001b[K\r"
     ]
    },
    {
     "name": "stderr",
     "output_type": "stream",
     "text": [
      "Scraping quotes:  83%|████████▎ | 845/1020 [24:27<02:36,  1.12it/s]"
     ]
    },
    {
     "name": "stdout",
     "output_type": "stream",
     "text": [
      "500\n",
      "Error scraping {'country': 'US', 'region': 'us-fl', 'crypto_name': 'USDT (Ethereum)', 'payment_name': 'Wire Transfer', 'regionId': '/regions/us-fl', 'paymentMethodId': '/payments/wire-transfer', 'cryptoCurrencyId': '/currencies/crypto/1/0xdac17f958d2ee523a2206206994597c13d831ec7', 'fiatCurrencyId': '/currencies/fiat/usd', 'amount': 9090, 'request_time': datetime.datetime(2024, 8, 3, 11, 21, 24, 669301)}\n",
      "'success'\n",
      "\n",
      "\u001b[K\r"
     ]
    },
    {
     "name": "stderr",
     "output_type": "stream",
     "text": [
      "Scraping quotes:  83%|████████▎ | 846/1020 [24:28<02:17,  1.27it/s]"
     ]
    },
    {
     "name": "stdout",
     "output_type": "stream",
     "text": [
      "500\n",
      "Error scraping {'country': 'US', 'region': 'us-fl', 'crypto_name': 'USDT (BNB Chain)', 'payment_name': 'Wire Transfer', 'regionId': '/regions/us-fl', 'paymentMethodId': '/payments/wire-transfer', 'cryptoCurrencyId': '/currencies/crypto/56/0x55d398326f99059ff775485246999027b3197955', 'fiatCurrencyId': '/currencies/fiat/usd', 'amount': 9090, 'request_time': datetime.datetime(2024, 8, 3, 11, 21, 25, 166643)}\n",
      "'success'\n",
      "\n",
      "200\n"
     ]
    },
    {
     "name": "stderr",
     "output_type": "stream",
     "text": [
      "Scraping quotes:  83%|████████▎ | 847/1020 [24:29<02:21,  1.22it/s]"
     ]
    },
    {
     "name": "stdout",
     "output_type": "stream",
     "text": [
      "200\n"
     ]
    },
    {
     "name": "stderr",
     "output_type": "stream",
     "text": [
      "Scraping quotes:  83%|████████▎ | 848/1020 [24:30<02:14,  1.28it/s]"
     ]
    },
    {
     "name": "stdout",
     "output_type": "stream",
     "text": [
      "200\n"
     ]
    },
    {
     "name": "stderr",
     "output_type": "stream",
     "text": [
      "Scraping quotes:  83%|████████▎ | 849/1020 [24:30<02:06,  1.35it/s]"
     ]
    },
    {
     "name": "stdout",
     "output_type": "stream",
     "text": [
      "500\n",
      "Error scraping {'country': 'US', 'region': 'us-fl', 'crypto_name': 'Ethereum Mainnet', 'payment_name': 'PSE', 'regionId': '/regions/us-fl', 'paymentMethodId': '/payments/pse', 'cryptoCurrencyId': '/currencies/crypto/1/0x0000000000000000000000000000000000000000', 'fiatCurrencyId': '/currencies/fiat/usd', 'amount': 9090, 'request_time': datetime.datetime(2024, 8, 3, 11, 21, 27, 928515)}\n",
      "'success'\n",
      "\n"
     ]
    },
    {
     "name": "stderr",
     "output_type": "stream",
     "text": [
      "Scraping quotes:  83%|████████▎ | 850/1020 [24:33<03:25,  1.21s/it]"
     ]
    },
    {
     "name": "stdout",
     "output_type": "stream",
     "text": [
      "500\n",
      "Error scraping {'country': 'US', 'region': 'us-fl', 'crypto_name': 'USDT (Ethereum)', 'payment_name': 'PSE', 'regionId': '/regions/us-fl', 'paymentMethodId': '/payments/pse', 'cryptoCurrencyId': '/currencies/crypto/1/0xdac17f958d2ee523a2206206994597c13d831ec7', 'fiatCurrencyId': '/currencies/fiat/usd', 'amount': 9090, 'request_time': datetime.datetime(2024, 8, 3, 11, 21, 30, 228072)}\n",
      "'success'\n",
      "\n"
     ]
    },
    {
     "name": "stderr",
     "output_type": "stream",
     "text": [
      "Scraping quotes:  83%|████████▎ | 851/1020 [24:34<03:30,  1.25s/it]"
     ]
    },
    {
     "name": "stdout",
     "output_type": "stream",
     "text": [
      "\u001b[K\r"
     ]
    },
    {
     "name": "stderr",
     "output_type": "stream",
     "text": [
      "Scraping quotes:  84%|████████▎ | 852/1020 [24:35<03:14,  1.16s/it]"
     ]
    },
    {
     "name": "stdout",
     "output_type": "stream",
     "text": [
      "500\n",
      "Error scraping {'country': 'US', 'region': 'us-fl', 'crypto_name': 'USDT (BNB Chain)', 'payment_name': 'PSE', 'regionId': '/regions/us-fl', 'paymentMethodId': '/payments/pse', 'cryptoCurrencyId': '/currencies/crypto/56/0x55d398326f99059ff775485246999027b3197955', 'fiatCurrencyId': '/currencies/fiat/usd', 'amount': 9090, 'request_time': datetime.datetime(2024, 8, 3, 11, 21, 31, 560568)}\n",
      "'success'\n",
      "\n",
      "200\n"
     ]
    },
    {
     "name": "stderr",
     "output_type": "stream",
     "text": [
      "Scraping quotes:  84%|████████▎ | 853/1020 [24:36<03:18,  1.19s/it]"
     ]
    },
    {
     "name": "stdout",
     "output_type": "stream",
     "text": [
      "200\n"
     ]
    },
    {
     "name": "stderr",
     "output_type": "stream",
     "text": [
      "Scraping quotes:  84%|████████▎ | 854/1020 [24:38<03:50,  1.39s/it]"
     ]
    },
    {
     "name": "stdout",
     "output_type": "stream",
     "text": [
      "200\n"
     ]
    },
    {
     "name": "stderr",
     "output_type": "stream",
     "text": [
      "Scraping quotes:  84%|████████▍ | 855/1020 [24:39<03:24,  1.24s/it]"
     ]
    },
    {
     "name": "stdout",
     "output_type": "stream",
     "text": [
      "200\n"
     ]
    },
    {
     "name": "stderr",
     "output_type": "stream",
     "text": [
      "Scraping quotes:  84%|████████▍ | 856/1020 [24:40<03:21,  1.23s/it]"
     ]
    },
    {
     "name": "stdout",
     "output_type": "stream",
     "text": [
      "200\n"
     ]
    },
    {
     "name": "stderr",
     "output_type": "stream",
     "text": [
      "Scraping quotes:  84%|████████▍ | 857/1020 [24:41<03:21,  1.24s/it]"
     ]
    },
    {
     "name": "stdout",
     "output_type": "stream",
     "text": [
      "200\n"
     ]
    },
    {
     "name": "stderr",
     "output_type": "stream",
     "text": [
      "Scraping quotes:  84%|████████▍ | 858/1020 [24:42<03:13,  1.19s/it]"
     ]
    },
    {
     "name": "stdout",
     "output_type": "stream",
     "text": [
      "200\n"
     ]
    },
    {
     "name": "stderr",
     "output_type": "stream",
     "text": [
      "Scraping quotes:  84%|████████▍ | 859/1020 [24:44<03:26,  1.28s/it]"
     ]
    },
    {
     "name": "stdout",
     "output_type": "stream",
     "text": [
      "200\n"
     ]
    },
    {
     "name": "stderr",
     "output_type": "stream",
     "text": [
      "Scraping quotes:  84%|████████▍ | 860/1020 [24:45<03:19,  1.25s/it]"
     ]
    },
    {
     "name": "stdout",
     "output_type": "stream",
     "text": [
      "200\n"
     ]
    },
    {
     "name": "stderr",
     "output_type": "stream",
     "text": [
      "Scraping quotes:  84%|████████▍ | 861/1020 [24:47<03:56,  1.49s/it]"
     ]
    },
    {
     "name": "stdout",
     "output_type": "stream",
     "text": [
      "200\n"
     ]
    },
    {
     "name": "stderr",
     "output_type": "stream",
     "text": [
      "Scraping quotes:  85%|████████▍ | 862/1020 [24:48<03:48,  1.45s/it]"
     ]
    },
    {
     "name": "stdout",
     "output_type": "stream",
     "text": [
      "200\n"
     ]
    },
    {
     "name": "stderr",
     "output_type": "stream",
     "text": [
      "Scraping quotes:  85%|████████▍ | 863/1020 [24:50<04:02,  1.55s/it]"
     ]
    },
    {
     "name": "stdout",
     "output_type": "stream",
     "text": [
      "200\n"
     ]
    },
    {
     "name": "stderr",
     "output_type": "stream",
     "text": [
      "Scraping quotes:  85%|████████▍ | 864/1020 [24:51<03:39,  1.41s/it]"
     ]
    },
    {
     "name": "stdout",
     "output_type": "stream",
     "text": [
      "500\n",
      "Error scraping {'country': 'UK', 'region': 'gb', 'crypto_name': 'Ethereum Mainnet', 'payment_name': 'PSE', 'regionId': '/regions/gb', 'paymentMethodId': '/payments/pse', 'cryptoCurrencyId': '/currencies/crypto/1/0x0000000000000000000000000000000000000000', 'fiatCurrencyId': '/currencies/fiat/gbp', 'amount': 9090, 'request_time': datetime.datetime(2024, 8, 3, 11, 21, 48, 986705)}\n",
      "'success'\n",
      "\n"
     ]
    },
    {
     "name": "stderr",
     "output_type": "stream",
     "text": [
      "Scraping quotes:  85%|████████▍ | 865/1020 [24:53<04:04,  1.58s/it]"
     ]
    },
    {
     "name": "stdout",
     "output_type": "stream",
     "text": [
      "\u001b[K\r"
     ]
    },
    {
     "name": "stderr",
     "output_type": "stream",
     "text": [
      "Scraping quotes:  85%|████████▍ | 866/1020 [24:55<04:11,  1.63s/it]"
     ]
    },
    {
     "name": "stdout",
     "output_type": "stream",
     "text": [
      "500\n",
      "Error scraping {'country': 'UK', 'region': 'gb', 'crypto_name': 'USDT (Ethereum)', 'payment_name': 'PSE', 'regionId': '/regions/gb', 'paymentMethodId': '/payments/pse', 'cryptoCurrencyId': '/currencies/crypto/1/0xdac17f958d2ee523a2206206994597c13d831ec7', 'fiatCurrencyId': '/currencies/fiat/gbp', 'amount': 9090, 'request_time': datetime.datetime(2024, 8, 3, 11, 21, 50, 960982)}\n",
      "'success'\n",
      "\n",
      "500\n",
      "Error scraping {'country': 'UK', 'region': 'gb', 'crypto_name': 'USDT (BNB Chain)', 'payment_name': 'PSE', 'regionId': '/regions/gb', 'paymentMethodId': '/payments/pse', 'cryptoCurrencyId': '/currencies/crypto/56/0x55d398326f99059ff775485246999027b3197955', 'fiatCurrencyId': '/currencies/fiat/gbp', 'amount': 9090, 'request_time': datetime.datetime(2024, 8, 3, 11, 21, 52, 729216)}\n",
      "'success'\n",
      "\n"
     ]
    },
    {
     "name": "stderr",
     "output_type": "stream",
     "text": [
      "Scraping quotes:  85%|████████▌ | 867/1020 [24:56<03:36,  1.41s/it]"
     ]
    },
    {
     "name": "stdout",
     "output_type": "stream",
     "text": [
      "200\n"
     ]
    },
    {
     "name": "stderr",
     "output_type": "stream",
     "text": [
      "Scraping quotes:  85%|████████▌ | 868/1020 [24:58<04:23,  1.74s/it]"
     ]
    },
    {
     "name": "stdout",
     "output_type": "stream",
     "text": [
      "200\n"
     ]
    },
    {
     "name": "stderr",
     "output_type": "stream",
     "text": [
      "Scraping quotes:  85%|████████▌ | 869/1020 [25:01<04:42,  1.87s/it]"
     ]
    },
    {
     "name": "stdout",
     "output_type": "stream",
     "text": [
      "200\n"
     ]
    },
    {
     "name": "stderr",
     "output_type": "stream",
     "text": [
      "Scraping quotes:  85%|████████▌ | 870/1020 [25:03<04:46,  1.91s/it]"
     ]
    },
    {
     "name": "stdout",
     "output_type": "stream",
     "text": [
      "200\n"
     ]
    },
    {
     "name": "stderr",
     "output_type": "stream",
     "text": [
      "Scraping quotes:  85%|████████▌ | 871/1020 [25:05<05:18,  2.14s/it]"
     ]
    },
    {
     "name": "stdout",
     "output_type": "stream",
     "text": [
      "200\n"
     ]
    },
    {
     "name": "stderr",
     "output_type": "stream",
     "text": [
      "Scraping quotes:  85%|████████▌ | 872/1020 [25:08<05:24,  2.19s/it]"
     ]
    },
    {
     "name": "stdout",
     "output_type": "stream",
     "text": [
      "200\n"
     ]
    },
    {
     "name": "stderr",
     "output_type": "stream",
     "text": [
      "Scraping quotes:  86%|████████▌ | 873/1020 [25:10<05:39,  2.31s/it]"
     ]
    },
    {
     "name": "stdout",
     "output_type": "stream",
     "text": [
      "200\n"
     ]
    },
    {
     "name": "stderr",
     "output_type": "stream",
     "text": [
      "Scraping quotes:  86%|████████▌ | 874/1020 [25:12<05:37,  2.31s/it]"
     ]
    },
    {
     "name": "stdout",
     "output_type": "stream",
     "text": [
      "200\n"
     ]
    },
    {
     "name": "stderr",
     "output_type": "stream",
     "text": [
      "Scraping quotes:  86%|████████▌ | 875/1020 [25:15<05:41,  2.35s/it]"
     ]
    },
    {
     "name": "stdout",
     "output_type": "stream",
     "text": [
      "200\n"
     ]
    },
    {
     "name": "stderr",
     "output_type": "stream",
     "text": [
      "Scraping quotes:  86%|████████▌ | 876/1020 [25:17<05:32,  2.31s/it]"
     ]
    },
    {
     "name": "stdout",
     "output_type": "stream",
     "text": [
      "200\n"
     ]
    },
    {
     "name": "stderr",
     "output_type": "stream",
     "text": [
      "Scraping quotes:  86%|████████▌ | 877/1020 [25:19<04:53,  2.05s/it]"
     ]
    },
    {
     "name": "stdout",
     "output_type": "stream",
     "text": [
      "200\n"
     ]
    },
    {
     "name": "stderr",
     "output_type": "stream",
     "text": [
      "Scraping quotes:  86%|████████▌ | 878/1020 [25:19<03:56,  1.67s/it]"
     ]
    },
    {
     "name": "stdout",
     "output_type": "stream",
     "text": [
      "200\n"
     ]
    },
    {
     "name": "stderr",
     "output_type": "stream",
     "text": [
      "Scraping quotes:  86%|████████▌ | 879/1020 [25:20<03:18,  1.41s/it]"
     ]
    },
    {
     "name": "stdout",
     "output_type": "stream",
     "text": [
      "500\n",
      "Error scraping {'country': 'DE', 'region': 'de', 'crypto_name': 'Ethereum Mainnet', 'payment_name': 'PSE', 'regionId': '/regions/de', 'paymentMethodId': '/payments/pse', 'cryptoCurrencyId': '/currencies/crypto/1/0x0000000000000000000000000000000000000000', 'fiatCurrencyId': '/currencies/fiat/eur', 'amount': 12840, 'request_time': datetime.datetime(2024, 8, 3, 11, 22, 17, 869108)}\n",
      "'success'\n",
      "\n"
     ]
    },
    {
     "name": "stderr",
     "output_type": "stream",
     "text": [
      "Scraping quotes:  86%|████████▋ | 880/1020 [25:21<03:07,  1.34s/it]"
     ]
    },
    {
     "name": "stdout",
     "output_type": "stream",
     "text": [
      "\u001b[K\r"
     ]
    },
    {
     "name": "stderr",
     "output_type": "stream",
     "text": [
      "Scraping quotes:  86%|████████▋ | 881/1020 [25:23<03:01,  1.31s/it]"
     ]
    },
    {
     "name": "stdout",
     "output_type": "stream",
     "text": [
      "500\n",
      "Error scraping {'country': 'DE', 'region': 'de', 'crypto_name': 'USDT (Ethereum)', 'payment_name': 'PSE', 'regionId': '/regions/de', 'paymentMethodId': '/payments/pse', 'cryptoCurrencyId': '/currencies/crypto/1/0xdac17f958d2ee523a2206206994597c13d831ec7', 'fiatCurrencyId': '/currencies/fiat/eur', 'amount': 12840, 'request_time': datetime.datetime(2024, 8, 3, 11, 22, 19, 42851)}\n",
      "'success'\n",
      "\n",
      "\u001b[K\r"
     ]
    },
    {
     "name": "stderr",
     "output_type": "stream",
     "text": [
      "Scraping quotes:  86%|████████▋ | 882/1020 [25:24<02:52,  1.25s/it]"
     ]
    },
    {
     "name": "stdout",
     "output_type": "stream",
     "text": [
      "500\n",
      "Error scraping {'country': 'DE', 'region': 'de', 'crypto_name': 'USDT (BNB Chain)', 'payment_name': 'PSE', 'regionId': '/regions/de', 'paymentMethodId': '/payments/pse', 'cryptoCurrencyId': '/currencies/crypto/56/0x55d398326f99059ff775485246999027b3197955', 'fiatCurrencyId': '/currencies/fiat/eur', 'amount': 12840, 'request_time': datetime.datetime(2024, 8, 3, 11, 22, 20, 271170)}\n",
      "'success'\n",
      "\n",
      "200\n"
     ]
    },
    {
     "name": "stderr",
     "output_type": "stream",
     "text": [
      "Scraping quotes:  87%|████████▋ | 883/1020 [25:26<03:30,  1.53s/it]"
     ]
    },
    {
     "name": "stdout",
     "output_type": "stream",
     "text": [
      "200\n"
     ]
    },
    {
     "name": "stderr",
     "output_type": "stream",
     "text": [
      "Scraping quotes:  87%|████████▋ | 884/1020 [25:28<03:47,  1.67s/it]"
     ]
    },
    {
     "name": "stdout",
     "output_type": "stream",
     "text": [
      "200\n"
     ]
    },
    {
     "name": "stderr",
     "output_type": "stream",
     "text": [
      "Scraping quotes:  87%|████████▋ | 885/1020 [25:30<03:46,  1.68s/it]"
     ]
    },
    {
     "name": "stdout",
     "output_type": "stream",
     "text": [
      "200\n"
     ]
    },
    {
     "name": "stderr",
     "output_type": "stream",
     "text": [
      "Scraping quotes:  87%|████████▋ | 886/1020 [25:32<04:12,  1.88s/it]"
     ]
    },
    {
     "name": "stdout",
     "output_type": "stream",
     "text": [
      "200\n"
     ]
    },
    {
     "name": "stderr",
     "output_type": "stream",
     "text": [
      "Scraping quotes:  87%|████████▋ | 887/1020 [25:35<04:39,  2.10s/it]"
     ]
    },
    {
     "name": "stdout",
     "output_type": "stream",
     "text": [
      "200\n"
     ]
    },
    {
     "name": "stderr",
     "output_type": "stream",
     "text": [
      "Scraping quotes:  87%|████████▋ | 888/1020 [25:38<05:23,  2.45s/it]"
     ]
    },
    {
     "name": "stdout",
     "output_type": "stream",
     "text": [
      "200\n"
     ]
    },
    {
     "name": "stderr",
     "output_type": "stream",
     "text": [
      "Scraping quotes:  87%|████████▋ | 889/1020 [25:39<04:19,  1.98s/it]"
     ]
    },
    {
     "name": "stdout",
     "output_type": "stream",
     "text": [
      "200\n"
     ]
    },
    {
     "name": "stderr",
     "output_type": "stream",
     "text": [
      "Scraping quotes:  87%|████████▋ | 890/1020 [25:39<03:29,  1.61s/it]"
     ]
    },
    {
     "name": "stdout",
     "output_type": "stream",
     "text": [
      "200\n"
     ]
    },
    {
     "name": "stderr",
     "output_type": "stream",
     "text": [
      "Scraping quotes:  87%|████████▋ | 891/1020 [25:40<03:03,  1.42s/it]"
     ]
    },
    {
     "name": "stdout",
     "output_type": "stream",
     "text": [
      "200\n"
     ]
    },
    {
     "name": "stderr",
     "output_type": "stream",
     "text": [
      "Scraping quotes:  87%|████████▋ | 892/1020 [25:41<02:47,  1.31s/it]"
     ]
    },
    {
     "name": "stdout",
     "output_type": "stream",
     "text": [
      "200\n"
     ]
    },
    {
     "name": "stderr",
     "output_type": "stream",
     "text": [
      "Scraping quotes:  88%|████████▊ | 893/1020 [25:42<02:28,  1.17s/it]"
     ]
    },
    {
     "name": "stdout",
     "output_type": "stream",
     "text": [
      "\u001b[K\r"
     ]
    },
    {
     "name": "stderr",
     "output_type": "stream",
     "text": [
      "Scraping quotes:  88%|████████▊ | 894/1020 [25:43<02:04,  1.01it/s]"
     ]
    },
    {
     "name": "stdout",
     "output_type": "stream",
     "text": [
      "500\n",
      "Error scraping {'country': 'US', 'region': 'us-fl', 'crypto_name': 'USDT (BNB Chain)', 'payment_name': 'Instant ACH Bank Transfer', 'regionId': '/regions/us-fl', 'paymentMethodId': '/payments/instant-bank-transfer', 'cryptoCurrencyId': '/currencies/crypto/56/0x55d398326f99059ff775485246999027b3197955', 'fiatCurrencyId': '/currencies/fiat/usd', 'amount': 12840, 'request_time': datetime.datetime(2024, 8, 3, 11, 22, 40, 3628)}\n",
      "'success'\n",
      "\n",
      "500\n",
      "Error scraping {'country': 'US', 'region': 'us-fl', 'crypto_name': 'Ethereum Mainnet', 'payment_name': 'Wire Transfer', 'regionId': '/regions/us-fl', 'paymentMethodId': '/payments/wire-transfer', 'cryptoCurrencyId': '/currencies/crypto/1/0x0000000000000000000000000000000000000000', 'fiatCurrencyId': '/currencies/fiat/usd', 'amount': 12840, 'request_time': datetime.datetime(2024, 8, 3, 11, 22, 40, 565798)}\n",
      "'success'\n",
      "\n"
     ]
    },
    {
     "name": "stderr",
     "output_type": "stream",
     "text": [
      "Scraping quotes:  88%|████████▊ | 895/1020 [25:43<01:48,  1.15it/s]"
     ]
    },
    {
     "name": "stdout",
     "output_type": "stream",
     "text": [
      "\u001b[K\r"
     ]
    },
    {
     "name": "stderr",
     "output_type": "stream",
     "text": [
      "Scraping quotes:  88%|████████▊ | 896/1020 [25:44<01:37,  1.27it/s]"
     ]
    },
    {
     "name": "stdout",
     "output_type": "stream",
     "text": [
      "500\n",
      "Error scraping {'country': 'US', 'region': 'us-fl', 'crypto_name': 'USDT (Ethereum)', 'payment_name': 'Wire Transfer', 'regionId': '/regions/us-fl', 'paymentMethodId': '/payments/wire-transfer', 'cryptoCurrencyId': '/currencies/crypto/1/0xdac17f958d2ee523a2206206994597c13d831ec7', 'fiatCurrencyId': '/currencies/fiat/usd', 'amount': 12840, 'request_time': datetime.datetime(2024, 8, 3, 11, 22, 41, 157973)}\n",
      "'success'\n",
      "\n",
      "\u001b[K\r"
     ]
    },
    {
     "name": "stderr",
     "output_type": "stream",
     "text": [
      "Scraping quotes:  88%|████████▊ | 897/1020 [25:45<01:27,  1.41it/s]"
     ]
    },
    {
     "name": "stdout",
     "output_type": "stream",
     "text": [
      "500\n",
      "Error scraping {'country': 'US', 'region': 'us-fl', 'crypto_name': 'USDT (BNB Chain)', 'payment_name': 'Wire Transfer', 'regionId': '/regions/us-fl', 'paymentMethodId': '/payments/wire-transfer', 'cryptoCurrencyId': '/currencies/crypto/56/0x55d398326f99059ff775485246999027b3197955', 'fiatCurrencyId': '/currencies/fiat/usd', 'amount': 12840, 'request_time': datetime.datetime(2024, 8, 3, 11, 22, 41, 752670)}\n",
      "'success'\n",
      "\n",
      "200\n"
     ]
    },
    {
     "name": "stderr",
     "output_type": "stream",
     "text": [
      "Scraping quotes:  88%|████████▊ | 898/1020 [25:46<01:42,  1.19it/s]"
     ]
    },
    {
     "name": "stdout",
     "output_type": "stream",
     "text": [
      "200\n"
     ]
    },
    {
     "name": "stderr",
     "output_type": "stream",
     "text": [
      "Scraping quotes:  88%|████████▊ | 899/1020 [25:46<01:34,  1.28it/s]"
     ]
    },
    {
     "name": "stdout",
     "output_type": "stream",
     "text": [
      "200\n"
     ]
    },
    {
     "name": "stderr",
     "output_type": "stream",
     "text": [
      "Scraping quotes:  88%|████████▊ | 900/1020 [25:47<01:28,  1.35it/s]"
     ]
    },
    {
     "name": "stdout",
     "output_type": "stream",
     "text": [
      "500\n",
      "Error scraping {'country': 'US', 'region': 'us-fl', 'crypto_name': 'Ethereum Mainnet', 'payment_name': 'PSE', 'regionId': '/regions/us-fl', 'paymentMethodId': '/payments/pse', 'cryptoCurrencyId': '/currencies/crypto/1/0x0000000000000000000000000000000000000000', 'fiatCurrencyId': '/currencies/fiat/usd', 'amount': 12840, 'request_time': datetime.datetime(2024, 8, 3, 11, 22, 44, 710558)}\n",
      "'success'\n",
      "\n"
     ]
    },
    {
     "name": "stderr",
     "output_type": "stream",
     "text": [
      "Scraping quotes:  88%|████████▊ | 901/1020 [25:48<01:26,  1.37it/s]"
     ]
    },
    {
     "name": "stdout",
     "output_type": "stream",
     "text": [
      "\u001b[K\r"
     ]
    },
    {
     "name": "stderr",
     "output_type": "stream",
     "text": [
      "Scraping quotes:  88%|████████▊ | 902/1020 [25:49<01:38,  1.20it/s]"
     ]
    },
    {
     "name": "stdout",
     "output_type": "stream",
     "text": [
      "500\n",
      "Error scraping {'country': 'US', 'region': 'us-fl', 'crypto_name': 'USDT (Ethereum)', 'payment_name': 'PSE', 'regionId': '/regions/us-fl', 'paymentMethodId': '/payments/pse', 'cryptoCurrencyId': '/currencies/crypto/1/0xdac17f958d2ee523a2206206994597c13d831ec7', 'fiatCurrencyId': '/currencies/fiat/usd', 'amount': 12840, 'request_time': datetime.datetime(2024, 8, 3, 11, 22, 45, 413503)}\n",
      "'success'\n",
      "\n",
      "\u001b[K\r"
     ]
    },
    {
     "name": "stderr",
     "output_type": "stream",
     "text": [
      "Scraping quotes:  89%|████████▊ | 903/1020 [25:50<01:50,  1.06it/s]"
     ]
    },
    {
     "name": "stdout",
     "output_type": "stream",
     "text": [
      "500\n",
      "Error scraping {'country': 'US', 'region': 'us-fl', 'crypto_name': 'USDT (BNB Chain)', 'payment_name': 'PSE', 'regionId': '/regions/us-fl', 'paymentMethodId': '/payments/pse', 'cryptoCurrencyId': '/currencies/crypto/56/0x55d398326f99059ff775485246999027b3197955', 'fiatCurrencyId': '/currencies/fiat/usd', 'amount': 12840, 'request_time': datetime.datetime(2024, 8, 3, 11, 22, 46, 490558)}\n",
      "'success'\n",
      "\n",
      "200\n"
     ]
    },
    {
     "name": "stderr",
     "output_type": "stream",
     "text": [
      "Scraping quotes:  89%|████████▊ | 904/1020 [25:51<01:52,  1.03it/s]"
     ]
    },
    {
     "name": "stdout",
     "output_type": "stream",
     "text": [
      "200\n"
     ]
    },
    {
     "name": "stderr",
     "output_type": "stream",
     "text": [
      "Scraping quotes:  89%|████████▊ | 905/1020 [25:53<02:17,  1.20s/it]"
     ]
    },
    {
     "name": "stdout",
     "output_type": "stream",
     "text": [
      "200\n"
     ]
    },
    {
     "name": "stderr",
     "output_type": "stream",
     "text": [
      "Scraping quotes:  89%|████████▉ | 906/1020 [25:54<02:10,  1.14s/it]"
     ]
    },
    {
     "name": "stdout",
     "output_type": "stream",
     "text": [
      "200\n"
     ]
    },
    {
     "name": "stderr",
     "output_type": "stream",
     "text": [
      "Scraping quotes:  89%|████████▉ | 907/1020 [25:55<02:10,  1.15s/it]"
     ]
    },
    {
     "name": "stdout",
     "output_type": "stream",
     "text": [
      "200\n"
     ]
    },
    {
     "name": "stderr",
     "output_type": "stream",
     "text": [
      "Scraping quotes:  89%|████████▉ | 908/1020 [25:56<02:20,  1.26s/it]"
     ]
    },
    {
     "name": "stdout",
     "output_type": "stream",
     "text": [
      "200\n"
     ]
    },
    {
     "name": "stderr",
     "output_type": "stream",
     "text": [
      "Scraping quotes:  89%|████████▉ | 909/1020 [25:57<02:08,  1.16s/it]"
     ]
    },
    {
     "name": "stdout",
     "output_type": "stream",
     "text": [
      "200\n"
     ]
    },
    {
     "name": "stderr",
     "output_type": "stream",
     "text": [
      "Scraping quotes:  89%|████████▉ | 910/1020 [25:58<02:06,  1.15s/it]"
     ]
    },
    {
     "name": "stdout",
     "output_type": "stream",
     "text": [
      "200\n"
     ]
    },
    {
     "name": "stderr",
     "output_type": "stream",
     "text": [
      "Scraping quotes:  89%|████████▉ | 911/1020 [26:00<02:06,  1.16s/it]"
     ]
    },
    {
     "name": "stdout",
     "output_type": "stream",
     "text": [
      "200\n"
     ]
    },
    {
     "name": "stderr",
     "output_type": "stream",
     "text": [
      "Scraping quotes:  89%|████████▉ | 912/1020 [26:01<01:55,  1.07s/it]"
     ]
    },
    {
     "name": "stdout",
     "output_type": "stream",
     "text": [
      "200\n"
     ]
    },
    {
     "name": "stderr",
     "output_type": "stream",
     "text": [
      "Scraping quotes:  90%|████████▉ | 913/1020 [26:02<01:57,  1.10s/it]"
     ]
    },
    {
     "name": "stdout",
     "output_type": "stream",
     "text": [
      "200\n"
     ]
    },
    {
     "name": "stderr",
     "output_type": "stream",
     "text": [
      "Scraping quotes:  90%|████████▉ | 914/1020 [26:03<02:01,  1.15s/it]"
     ]
    },
    {
     "name": "stdout",
     "output_type": "stream",
     "text": [
      "200\n"
     ]
    },
    {
     "name": "stderr",
     "output_type": "stream",
     "text": [
      "Scraping quotes:  90%|████████▉ | 915/1020 [26:04<01:53,  1.08s/it]"
     ]
    },
    {
     "name": "stdout",
     "output_type": "stream",
     "text": [
      "\u001b[K\r"
     ]
    },
    {
     "name": "stderr",
     "output_type": "stream",
     "text": [
      "Scraping quotes:  90%|████████▉ | 916/1020 [26:07<02:49,  1.63s/it]"
     ]
    },
    {
     "name": "stdout",
     "output_type": "stream",
     "text": [
      "500\n",
      "Error scraping {'country': 'UK', 'region': 'gb', 'crypto_name': 'Ethereum Mainnet', 'payment_name': 'PSE', 'regionId': '/regions/gb', 'paymentMethodId': '/payments/pse', 'cryptoCurrencyId': '/currencies/crypto/1/0x0000000000000000000000000000000000000000', 'fiatCurrencyId': '/currencies/fiat/gbp', 'amount': 12840, 'request_time': datetime.datetime(2024, 8, 3, 11, 23, 1, 599901)}\n",
      "'success'\n",
      "\n",
      "500\n",
      "Error scraping {'country': 'UK', 'region': 'gb', 'crypto_name': 'USDT (Ethereum)', 'payment_name': 'PSE', 'regionId': '/regions/gb', 'paymentMethodId': '/payments/pse', 'cryptoCurrencyId': '/currencies/crypto/1/0xdac17f958d2ee523a2206206994597c13d831ec7', 'fiatCurrencyId': '/currencies/fiat/gbp', 'amount': 12840, 'request_time': datetime.datetime(2024, 8, 3, 11, 23, 4, 497537)}\n",
      "'success'\n",
      "\n"
     ]
    },
    {
     "name": "stderr",
     "output_type": "stream",
     "text": [
      "Scraping quotes:  90%|████████▉ | 917/1020 [26:08<02:24,  1.41s/it]"
     ]
    },
    {
     "name": "stdout",
     "output_type": "stream",
     "text": [
      "\u001b[K\r"
     ]
    },
    {
     "name": "stderr",
     "output_type": "stream",
     "text": [
      "Scraping quotes:  90%|█████████ | 918/1020 [26:09<02:09,  1.27s/it]"
     ]
    },
    {
     "name": "stdout",
     "output_type": "stream",
     "text": [
      "500\n",
      "Error scraping {'country': 'UK', 'region': 'gb', 'crypto_name': 'USDT (BNB Chain)', 'payment_name': 'PSE', 'regionId': '/regions/gb', 'paymentMethodId': '/payments/pse', 'cryptoCurrencyId': '/currencies/crypto/56/0x55d398326f99059ff775485246999027b3197955', 'fiatCurrencyId': '/currencies/fiat/gbp', 'amount': 12840, 'request_time': datetime.datetime(2024, 8, 3, 11, 23, 5, 390474)}\n",
      "'success'\n",
      "\n",
      "200\n"
     ]
    },
    {
     "name": "stderr",
     "output_type": "stream",
     "text": [
      "Scraping quotes:  90%|█████████ | 919/1020 [26:11<02:44,  1.63s/it]"
     ]
    },
    {
     "name": "stdout",
     "output_type": "stream",
     "text": [
      "200\n"
     ]
    },
    {
     "name": "stderr",
     "output_type": "stream",
     "text": [
      "Scraping quotes:  90%|█████████ | 920/1020 [26:13<02:54,  1.75s/it]"
     ]
    },
    {
     "name": "stdout",
     "output_type": "stream",
     "text": [
      "200\n"
     ]
    },
    {
     "name": "stderr",
     "output_type": "stream",
     "text": [
      "Scraping quotes:  90%|█████████ | 921/1020 [26:16<03:32,  2.15s/it]"
     ]
    },
    {
     "name": "stdout",
     "output_type": "stream",
     "text": [
      "200\n"
     ]
    },
    {
     "name": "stderr",
     "output_type": "stream",
     "text": [
      "Scraping quotes:  90%|█████████ | 922/1020 [26:19<03:39,  2.24s/it]"
     ]
    },
    {
     "name": "stdout",
     "output_type": "stream",
     "text": [
      "200\n"
     ]
    },
    {
     "name": "stderr",
     "output_type": "stream",
     "text": [
      "Scraping quotes:  90%|█████████ | 923/1020 [26:21<03:31,  2.18s/it]"
     ]
    },
    {
     "name": "stdout",
     "output_type": "stream",
     "text": [
      "200\n"
     ]
    },
    {
     "name": "stderr",
     "output_type": "stream",
     "text": [
      "Scraping quotes:  91%|█████████ | 924/1020 [26:23<03:28,  2.17s/it]"
     ]
    },
    {
     "name": "stdout",
     "output_type": "stream",
     "text": [
      "200\n"
     ]
    },
    {
     "name": "stderr",
     "output_type": "stream",
     "text": [
      "Scraping quotes:  91%|█████████ | 925/1020 [26:26<03:43,  2.35s/it]"
     ]
    },
    {
     "name": "stdout",
     "output_type": "stream",
     "text": [
      "200\n"
     ]
    },
    {
     "name": "stderr",
     "output_type": "stream",
     "text": [
      "Scraping quotes:  91%|█████████ | 926/1020 [26:28<03:42,  2.36s/it]"
     ]
    },
    {
     "name": "stdout",
     "output_type": "stream",
     "text": [
      "200\n"
     ]
    },
    {
     "name": "stderr",
     "output_type": "stream",
     "text": [
      "Scraping quotes:  91%|█████████ | 927/1020 [26:30<03:39,  2.37s/it]"
     ]
    },
    {
     "name": "stdout",
     "output_type": "stream",
     "text": [
      "200\n"
     ]
    },
    {
     "name": "stderr",
     "output_type": "stream",
     "text": [
      "Scraping quotes:  91%|█████████ | 928/1020 [26:32<03:06,  2.03s/it]"
     ]
    },
    {
     "name": "stdout",
     "output_type": "stream",
     "text": [
      "200\n"
     ]
    },
    {
     "name": "stderr",
     "output_type": "stream",
     "text": [
      "Scraping quotes:  91%|█████████ | 929/1020 [26:33<02:43,  1.79s/it]"
     ]
    },
    {
     "name": "stdout",
     "output_type": "stream",
     "text": [
      "200\n"
     ]
    },
    {
     "name": "stderr",
     "output_type": "stream",
     "text": [
      "Scraping quotes:  91%|█████████ | 930/1020 [26:34<02:25,  1.62s/it]"
     ]
    },
    {
     "name": "stdout",
     "output_type": "stream",
     "text": [
      "\u001b[K\r"
     ]
    },
    {
     "name": "stderr",
     "output_type": "stream",
     "text": [
      "Scraping quotes:  91%|█████████▏| 931/1020 [26:35<02:10,  1.46s/it]"
     ]
    },
    {
     "name": "stdout",
     "output_type": "stream",
     "text": [
      "500\n",
      "Error scraping {'country': 'DE', 'region': 'de', 'crypto_name': 'Ethereum Mainnet', 'payment_name': 'PSE', 'regionId': '/regions/de', 'paymentMethodId': '/payments/pse', 'cryptoCurrencyId': '/currencies/crypto/1/0x0000000000000000000000000000000000000000', 'fiatCurrencyId': '/currencies/fiat/eur', 'amount': 18137, 'request_time': datetime.datetime(2024, 8, 3, 11, 23, 31, 795000)}\n",
      "'success'\n",
      "\n",
      "\u001b[K\r"
     ]
    },
    {
     "name": "stderr",
     "output_type": "stream",
     "text": [
      "Scraping quotes:  91%|█████████▏| 932/1020 [26:36<01:54,  1.30s/it]"
     ]
    },
    {
     "name": "stdout",
     "output_type": "stream",
     "text": [
      "500\n",
      "Error scraping {'country': 'DE', 'region': 'de', 'crypto_name': 'USDT (Ethereum)', 'payment_name': 'PSE', 'regionId': '/regions/de', 'paymentMethodId': '/payments/pse', 'cryptoCurrencyId': '/currencies/crypto/1/0xdac17f958d2ee523a2206206994597c13d831ec7', 'fiatCurrencyId': '/currencies/fiat/eur', 'amount': 18137, 'request_time': datetime.datetime(2024, 8, 3, 11, 23, 32, 899229)}\n",
      "'success'\n",
      "\n",
      "\u001b[K\r"
     ]
    },
    {
     "name": "stderr",
     "output_type": "stream",
     "text": [
      "Scraping quotes:  91%|█████████▏| 933/1020 [26:37<01:43,  1.19s/it]"
     ]
    },
    {
     "name": "stdout",
     "output_type": "stream",
     "text": [
      "500\n",
      "Error scraping {'country': 'DE', 'region': 'de', 'crypto_name': 'USDT (BNB Chain)', 'payment_name': 'PSE', 'regionId': '/regions/de', 'paymentMethodId': '/payments/pse', 'cryptoCurrencyId': '/currencies/crypto/56/0x55d398326f99059ff775485246999027b3197955', 'fiatCurrencyId': '/currencies/fiat/eur', 'amount': 18137, 'request_time': datetime.datetime(2024, 8, 3, 11, 23, 33, 834223)}\n",
      "'success'\n",
      "\n",
      "200\n"
     ]
    },
    {
     "name": "stderr",
     "output_type": "stream",
     "text": [
      "Scraping quotes:  92%|█████████▏| 934/1020 [26:39<02:01,  1.42s/it]"
     ]
    },
    {
     "name": "stdout",
     "output_type": "stream",
     "text": [
      "200\n"
     ]
    },
    {
     "name": "stderr",
     "output_type": "stream",
     "text": [
      "Scraping quotes:  92%|█████████▏| 935/1020 [26:41<02:19,  1.64s/it]"
     ]
    },
    {
     "name": "stdout",
     "output_type": "stream",
     "text": [
      "200\n"
     ]
    },
    {
     "name": "stderr",
     "output_type": "stream",
     "text": [
      "Scraping quotes:  92%|█████████▏| 936/1020 [26:43<02:26,  1.75s/it]"
     ]
    },
    {
     "name": "stdout",
     "output_type": "stream",
     "text": [
      "200\n"
     ]
    },
    {
     "name": "stderr",
     "output_type": "stream",
     "text": [
      "Scraping quotes:  92%|█████████▏| 937/1020 [26:45<02:31,  1.82s/it]"
     ]
    },
    {
     "name": "stdout",
     "output_type": "stream",
     "text": [
      "200\n"
     ]
    },
    {
     "name": "stderr",
     "output_type": "stream",
     "text": [
      "Scraping quotes:  92%|█████████▏| 938/1020 [26:47<02:38,  1.93s/it]"
     ]
    },
    {
     "name": "stdout",
     "output_type": "stream",
     "text": [
      "200\n"
     ]
    },
    {
     "name": "stderr",
     "output_type": "stream",
     "text": [
      "Scraping quotes:  92%|█████████▏| 939/1020 [26:49<02:40,  1.98s/it]"
     ]
    },
    {
     "name": "stdout",
     "output_type": "stream",
     "text": [
      "200\n"
     ]
    },
    {
     "name": "stderr",
     "output_type": "stream",
     "text": [
      "Scraping quotes:  92%|█████████▏| 940/1020 [26:51<02:17,  1.72s/it]"
     ]
    },
    {
     "name": "stdout",
     "output_type": "stream",
     "text": [
      "200\n"
     ]
    },
    {
     "name": "stderr",
     "output_type": "stream",
     "text": [
      "Scraping quotes:  92%|█████████▏| 941/1020 [26:51<01:52,  1.42s/it]"
     ]
    },
    {
     "name": "stdout",
     "output_type": "stream",
     "text": [
      "200\n"
     ]
    },
    {
     "name": "stderr",
     "output_type": "stream",
     "text": [
      "Scraping quotes:  92%|█████████▏| 942/1020 [26:52<01:42,  1.31s/it]"
     ]
    },
    {
     "name": "stdout",
     "output_type": "stream",
     "text": [
      "200\n"
     ]
    },
    {
     "name": "stderr",
     "output_type": "stream",
     "text": [
      "Scraping quotes:  92%|█████████▏| 943/1020 [26:53<01:37,  1.26s/it]"
     ]
    },
    {
     "name": "stdout",
     "output_type": "stream",
     "text": [
      "200\n"
     ]
    },
    {
     "name": "stderr",
     "output_type": "stream",
     "text": [
      "Scraping quotes:  93%|█████████▎| 944/1020 [26:55<01:32,  1.21s/it]"
     ]
    },
    {
     "name": "stdout",
     "output_type": "stream",
     "text": [
      "\u001b[K\r"
     ]
    },
    {
     "name": "stderr",
     "output_type": "stream",
     "text": [
      "Scraping quotes:  93%|█████████▎| 945/1020 [26:55<01:16,  1.02s/it]"
     ]
    },
    {
     "name": "stdout",
     "output_type": "stream",
     "text": [
      "500\n",
      "Error scraping {'country': 'US', 'region': 'us-fl', 'crypto_name': 'USDT (BNB Chain)', 'payment_name': 'Instant ACH Bank Transfer', 'regionId': '/regions/us-fl', 'paymentMethodId': '/payments/instant-bank-transfer', 'cryptoCurrencyId': '/currencies/crypto/56/0x55d398326f99059ff775485246999027b3197955', 'fiatCurrencyId': '/currencies/fiat/usd', 'amount': 18137, 'request_time': datetime.datetime(2024, 8, 3, 11, 23, 52, 275445)}\n",
      "'success'\n",
      "\n",
      "\u001b[K\r"
     ]
    },
    {
     "name": "stderr",
     "output_type": "stream",
     "text": [
      "Scraping quotes:  93%|█████████▎| 946/1020 [26:56<01:08,  1.09it/s]"
     ]
    },
    {
     "name": "stdout",
     "output_type": "stream",
     "text": [
      "500\n",
      "Error scraping {'country': 'US', 'region': 'us-fl', 'crypto_name': 'Ethereum Mainnet', 'payment_name': 'Wire Transfer', 'regionId': '/regions/us-fl', 'paymentMethodId': '/payments/wire-transfer', 'cryptoCurrencyId': '/currencies/crypto/1/0x0000000000000000000000000000000000000000', 'fiatCurrencyId': '/currencies/fiat/usd', 'amount': 18137, 'request_time': datetime.datetime(2024, 8, 3, 11, 23, 52, 844904)}\n",
      "'success'\n",
      "\n",
      "500\n",
      "Error scraping {'country': 'US', 'region': 'us-fl', 'crypto_name': 'USDT (Ethereum)', 'payment_name': 'Wire Transfer', 'regionId': '/regions/us-fl', 'paymentMethodId': '/payments/wire-transfer', 'cryptoCurrencyId': '/currencies/crypto/1/0xdac17f958d2ee523a2206206994597c13d831ec7', 'fiatCurrencyId': '/currencies/fiat/usd', 'amount': 18137, 'request_time': datetime.datetime(2024, 8, 3, 11, 23, 53, 528328)}\n",
      "'success'\n",
      "\n"
     ]
    },
    {
     "name": "stderr",
     "output_type": "stream",
     "text": [
      "Scraping quotes:  93%|█████████▎| 947/1020 [26:56<00:58,  1.25it/s]"
     ]
    },
    {
     "name": "stdout",
     "output_type": "stream",
     "text": [
      "\u001b[K\r"
     ]
    },
    {
     "name": "stderr",
     "output_type": "stream",
     "text": [
      "Scraping quotes:  93%|█████████▎| 948/1020 [26:58<01:13,  1.02s/it]"
     ]
    },
    {
     "name": "stdout",
     "output_type": "stream",
     "text": [
      "500\n",
      "Error scraping {'country': 'US', 'region': 'us-fl', 'crypto_name': 'USDT (BNB Chain)', 'payment_name': 'Wire Transfer', 'regionId': '/regions/us-fl', 'paymentMethodId': '/payments/wire-transfer', 'cryptoCurrencyId': '/currencies/crypto/56/0x55d398326f99059ff775485246999027b3197955', 'fiatCurrencyId': '/currencies/fiat/usd', 'amount': 18137, 'request_time': datetime.datetime(2024, 8, 3, 11, 23, 54, 45035)}\n",
      "'success'\n",
      "\n",
      "200\n"
     ]
    },
    {
     "name": "stderr",
     "output_type": "stream",
     "text": [
      "Scraping quotes:  93%|█████████▎| 949/1020 [26:59<01:10,  1.01it/s]"
     ]
    },
    {
     "name": "stdout",
     "output_type": "stream",
     "text": [
      "200\n"
     ]
    },
    {
     "name": "stderr",
     "output_type": "stream",
     "text": [
      "Scraping quotes:  93%|█████████▎| 950/1020 [26:59<01:02,  1.13it/s]"
     ]
    },
    {
     "name": "stdout",
     "output_type": "stream",
     "text": [
      "200\n"
     ]
    },
    {
     "name": "stderr",
     "output_type": "stream",
     "text": [
      "Scraping quotes:  93%|█████████▎| 951/1020 [27:00<00:55,  1.24it/s]"
     ]
    },
    {
     "name": "stdout",
     "output_type": "stream",
     "text": [
      "\u001b[K\r"
     ]
    },
    {
     "name": "stderr",
     "output_type": "stream",
     "text": [
      "Scraping quotes:  93%|█████████▎| 952/1020 [27:01<01:00,  1.12it/s]"
     ]
    },
    {
     "name": "stdout",
     "output_type": "stream",
     "text": [
      "500\n",
      "Error scraping {'country': 'US', 'region': 'us-fl', 'crypto_name': 'Ethereum Mainnet', 'payment_name': 'PSE', 'regionId': '/regions/us-fl', 'paymentMethodId': '/payments/pse', 'cryptoCurrencyId': '/currencies/crypto/1/0x0000000000000000000000000000000000000000', 'fiatCurrencyId': '/currencies/fiat/usd', 'amount': 18137, 'request_time': datetime.datetime(2024, 8, 3, 11, 23, 57, 758945)}\n",
      "'success'\n",
      "\n",
      "500\n",
      "Error scraping {'country': 'US', 'region': 'us-fl', 'crypto_name': 'USDT (Ethereum)', 'payment_name': 'PSE', 'regionId': '/regions/us-fl', 'paymentMethodId': '/payments/pse', 'cryptoCurrencyId': '/currencies/crypto/1/0xdac17f958d2ee523a2206206994597c13d831ec7', 'fiatCurrencyId': '/currencies/fiat/usd', 'amount': 18137, 'request_time': datetime.datetime(2024, 8, 3, 11, 23, 58, 849767)}\n",
      "'success'\n",
      "\n"
     ]
    },
    {
     "name": "stderr",
     "output_type": "stream",
     "text": [
      "Scraping quotes:  93%|█████████▎| 953/1020 [27:03<01:19,  1.19s/it]"
     ]
    },
    {
     "name": "stdout",
     "output_type": "stream",
     "text": [
      "500\n",
      "Error scraping {'country': 'US', 'region': 'us-fl', 'crypto_name': 'USDT (BNB Chain)', 'payment_name': 'PSE', 'regionId': '/regions/us-fl', 'paymentMethodId': '/payments/pse', 'cryptoCurrencyId': '/currencies/crypto/56/0x55d398326f99059ff775485246999027b3197955', 'fiatCurrencyId': '/currencies/fiat/usd', 'amount': 18137, 'request_time': datetime.datetime(2024, 8, 3, 11, 24, 0, 740983)}\n",
      "'success'\n",
      "\n"
     ]
    },
    {
     "name": "stderr",
     "output_type": "stream",
     "text": [
      "Scraping quotes:  94%|█████████▎| 954/1020 [27:04<01:15,  1.14s/it]"
     ]
    },
    {
     "name": "stdout",
     "output_type": "stream",
     "text": [
      "200\n"
     ]
    },
    {
     "name": "stderr",
     "output_type": "stream",
     "text": [
      "Scraping quotes:  94%|█████████▎| 955/1020 [27:05<01:17,  1.20s/it]"
     ]
    },
    {
     "name": "stdout",
     "output_type": "stream",
     "text": [
      "200\n"
     ]
    },
    {
     "name": "stderr",
     "output_type": "stream",
     "text": [
      "Scraping quotes:  94%|█████████▎| 956/1020 [27:07<01:15,  1.18s/it]"
     ]
    },
    {
     "name": "stdout",
     "output_type": "stream",
     "text": [
      "200\n"
     ]
    },
    {
     "name": "stderr",
     "output_type": "stream",
     "text": [
      "Scraping quotes:  94%|█████████▍| 957/1020 [27:08<01:11,  1.13s/it]"
     ]
    },
    {
     "name": "stdout",
     "output_type": "stream",
     "text": [
      "200\n"
     ]
    },
    {
     "name": "stderr",
     "output_type": "stream",
     "text": [
      "Scraping quotes:  94%|█████████▍| 958/1020 [27:09<01:18,  1.27s/it]"
     ]
    },
    {
     "name": "stdout",
     "output_type": "stream",
     "text": [
      "200\n"
     ]
    },
    {
     "name": "stderr",
     "output_type": "stream",
     "text": [
      "Scraping quotes:  94%|█████████▍| 959/1020 [27:11<01:31,  1.50s/it]"
     ]
    },
    {
     "name": "stdout",
     "output_type": "stream",
     "text": [
      "200\n"
     ]
    },
    {
     "name": "stderr",
     "output_type": "stream",
     "text": [
      "Scraping quotes:  94%|█████████▍| 960/1020 [27:12<01:21,  1.36s/it]"
     ]
    },
    {
     "name": "stdout",
     "output_type": "stream",
     "text": [
      "200\n"
     ]
    },
    {
     "name": "stderr",
     "output_type": "stream",
     "text": [
      "Scraping quotes:  94%|█████████▍| 961/1020 [27:13<01:15,  1.28s/it]"
     ]
    },
    {
     "name": "stdout",
     "output_type": "stream",
     "text": [
      "200\n"
     ]
    },
    {
     "name": "stderr",
     "output_type": "stream",
     "text": [
      "Scraping quotes:  94%|█████████▍| 962/1020 [27:14<01:13,  1.26s/it]"
     ]
    },
    {
     "name": "stdout",
     "output_type": "stream",
     "text": [
      "200\n"
     ]
    },
    {
     "name": "stderr",
     "output_type": "stream",
     "text": [
      "Scraping quotes:  94%|█████████▍| 963/1020 [27:15<01:05,  1.15s/it]"
     ]
    },
    {
     "name": "stdout",
     "output_type": "stream",
     "text": [
      "200\n"
     ]
    },
    {
     "name": "stderr",
     "output_type": "stream",
     "text": [
      "Scraping quotes:  95%|█████████▍| 964/1020 [27:17<01:13,  1.32s/it]"
     ]
    },
    {
     "name": "stdout",
     "output_type": "stream",
     "text": [
      "200\n"
     ]
    },
    {
     "name": "stderr",
     "output_type": "stream",
     "text": [
      "Scraping quotes:  95%|█████████▍| 965/1020 [27:18<01:10,  1.27s/it]"
     ]
    },
    {
     "name": "stdout",
     "output_type": "stream",
     "text": [
      "200\n"
     ]
    },
    {
     "name": "stderr",
     "output_type": "stream",
     "text": [
      "Scraping quotes:  95%|█████████▍| 966/1020 [27:19<01:02,  1.15s/it]"
     ]
    },
    {
     "name": "stdout",
     "output_type": "stream",
     "text": [
      "\u001b[K\r"
     ]
    },
    {
     "name": "stderr",
     "output_type": "stream",
     "text": [
      "Scraping quotes:  95%|█████████▍| 967/1020 [27:21<01:08,  1.28s/it]"
     ]
    },
    {
     "name": "stdout",
     "output_type": "stream",
     "text": [
      "500\n",
      "Error scraping {'country': 'UK', 'region': 'gb', 'crypto_name': 'Ethereum Mainnet', 'payment_name': 'PSE', 'regionId': '/regions/gb', 'paymentMethodId': '/payments/pse', 'cryptoCurrencyId': '/currencies/crypto/1/0x0000000000000000000000000000000000000000', 'fiatCurrencyId': '/currencies/fiat/gbp', 'amount': 18137, 'request_time': datetime.datetime(2024, 8, 3, 11, 24, 16, 857389)}\n",
      "'success'\n",
      "\n",
      "500\n",
      "Error scraping {'country': 'UK', 'region': 'gb', 'crypto_name': 'USDT (Ethereum)', 'payment_name': 'PSE', 'regionId': '/regions/gb', 'paymentMethodId': '/payments/pse', 'cryptoCurrencyId': '/currencies/crypto/1/0xdac17f958d2ee523a2206206994597c13d831ec7', 'fiatCurrencyId': '/currencies/fiat/gbp', 'amount': 18137, 'request_time': datetime.datetime(2024, 8, 3, 11, 24, 18, 445896)}\n",
      "'success'\n",
      "\n"
     ]
    },
    {
     "name": "stderr",
     "output_type": "stream",
     "text": [
      "Scraping quotes:  95%|█████████▍| 968/1020 [27:22<00:59,  1.14s/it]"
     ]
    },
    {
     "name": "stdout",
     "output_type": "stream",
     "text": [
      "\u001b[K\r"
     ]
    },
    {
     "name": "stderr",
     "output_type": "stream",
     "text": [
      "Scraping quotes:  95%|█████████▌| 969/1020 [27:23<01:08,  1.35s/it]"
     ]
    },
    {
     "name": "stdout",
     "output_type": "stream",
     "text": [
      "500\n",
      "Error scraping {'country': 'UK', 'region': 'gb', 'crypto_name': 'USDT (BNB Chain)', 'payment_name': 'PSE', 'regionId': '/regions/gb', 'paymentMethodId': '/payments/pse', 'cryptoCurrencyId': '/currencies/crypto/56/0x55d398326f99059ff775485246999027b3197955', 'fiatCurrencyId': '/currencies/fiat/gbp', 'amount': 18137, 'request_time': datetime.datetime(2024, 8, 3, 11, 24, 19, 242316)}\n",
      "'success'\n",
      "\n",
      "200\n"
     ]
    },
    {
     "name": "stderr",
     "output_type": "stream",
     "text": [
      "Scraping quotes:  95%|█████████▌| 970/1020 [27:26<01:21,  1.62s/it]"
     ]
    },
    {
     "name": "stdout",
     "output_type": "stream",
     "text": [
      "200\n"
     ]
    },
    {
     "name": "stderr",
     "output_type": "stream",
     "text": [
      "Scraping quotes:  95%|█████████▌| 971/1020 [27:28<01:25,  1.74s/it]"
     ]
    },
    {
     "name": "stdout",
     "output_type": "stream",
     "text": [
      "200\n"
     ]
    },
    {
     "name": "stderr",
     "output_type": "stream",
     "text": [
      "Scraping quotes:  95%|█████████▌| 972/1020 [27:29<01:20,  1.68s/it]"
     ]
    },
    {
     "name": "stdout",
     "output_type": "stream",
     "text": [
      "200\n"
     ]
    },
    {
     "name": "stderr",
     "output_type": "stream",
     "text": [
      "Scraping quotes:  95%|█████████▌| 973/1020 [27:32<01:29,  1.91s/it]"
     ]
    },
    {
     "name": "stdout",
     "output_type": "stream",
     "text": [
      "200\n"
     ]
    },
    {
     "name": "stderr",
     "output_type": "stream",
     "text": [
      "Scraping quotes:  95%|█████████▌| 974/1020 [27:33<01:21,  1.78s/it]"
     ]
    },
    {
     "name": "stdout",
     "output_type": "stream",
     "text": [
      "200\n"
     ]
    },
    {
     "name": "stderr",
     "output_type": "stream",
     "text": [
      "Scraping quotes:  96%|█████████▌| 975/1020 [27:35<01:22,  1.83s/it]"
     ]
    },
    {
     "name": "stdout",
     "output_type": "stream",
     "text": [
      "200\n"
     ]
    },
    {
     "name": "stderr",
     "output_type": "stream",
     "text": [
      "Scraping quotes:  96%|█████████▌| 976/1020 [27:37<01:28,  2.00s/it]"
     ]
    },
    {
     "name": "stdout",
     "output_type": "stream",
     "text": [
      "200\n"
     ]
    },
    {
     "name": "stderr",
     "output_type": "stream",
     "text": [
      "Scraping quotes:  96%|█████████▌| 977/1020 [27:39<01:22,  1.93s/it]"
     ]
    },
    {
     "name": "stdout",
     "output_type": "stream",
     "text": [
      "200\n"
     ]
    },
    {
     "name": "stderr",
     "output_type": "stream",
     "text": [
      "Scraping quotes:  96%|█████████▌| 978/1020 [27:41<01:23,  2.00s/it]"
     ]
    },
    {
     "name": "stdout",
     "output_type": "stream",
     "text": [
      "200\n"
     ]
    },
    {
     "name": "stderr",
     "output_type": "stream",
     "text": [
      "Scraping quotes:  96%|█████████▌| 979/1020 [27:43<01:14,  1.82s/it]"
     ]
    },
    {
     "name": "stdout",
     "output_type": "stream",
     "text": [
      "200\n"
     ]
    },
    {
     "name": "stderr",
     "output_type": "stream",
     "text": [
      "Scraping quotes:  96%|█████████▌| 980/1020 [27:44<01:07,  1.69s/it]"
     ]
    },
    {
     "name": "stdout",
     "output_type": "stream",
     "text": [
      "200\n"
     ]
    },
    {
     "name": "stderr",
     "output_type": "stream",
     "text": [
      "Scraping quotes:  96%|█████████▌| 981/1020 [27:45<01:00,  1.54s/it]"
     ]
    },
    {
     "name": "stdout",
     "output_type": "stream",
     "text": [
      "\u001b[K\r"
     ]
    },
    {
     "name": "stderr",
     "output_type": "stream",
     "text": [
      "Scraping quotes:  96%|█████████▋| 982/1020 [27:46<00:52,  1.38s/it]"
     ]
    },
    {
     "name": "stdout",
     "output_type": "stream",
     "text": [
      "500\n",
      "Error scraping {'country': 'DE', 'region': 'de', 'crypto_name': 'Ethereum Mainnet', 'payment_name': 'PSE', 'regionId': '/regions/de', 'paymentMethodId': '/payments/pse', 'cryptoCurrencyId': '/currencies/crypto/1/0x0000000000000000000000000000000000000000', 'fiatCurrencyId': '/currencies/fiat/eur', 'amount': 25619, 'request_time': datetime.datetime(2024, 8, 3, 11, 24, 43, 73220)}\n",
      "'success'\n",
      "\n",
      "500\n",
      "Error scraping {'country': 'DE', 'region': 'de', 'crypto_name': 'USDT (Ethereum)', 'payment_name': 'PSE', 'regionId': '/regions/de', 'paymentMethodId': '/payments/pse', 'cryptoCurrencyId': '/currencies/crypto/1/0xdac17f958d2ee523a2206206994597c13d831ec7', 'fiatCurrencyId': '/currencies/fiat/eur', 'amount': 25619, 'request_time': datetime.datetime(2024, 8, 3, 11, 24, 44, 67242)}\n",
      "'success'\n",
      "\n"
     ]
    },
    {
     "name": "stderr",
     "output_type": "stream",
     "text": [
      "Scraping quotes:  96%|█████████▋| 983/1020 [27:47<00:43,  1.19s/it]"
     ]
    },
    {
     "name": "stdout",
     "output_type": "stream",
     "text": [
      "\u001b[K\r"
     ]
    },
    {
     "name": "stderr",
     "output_type": "stream",
     "text": [
      "Scraping quotes:  96%|█████████▋| 984/1020 [27:48<00:39,  1.10s/it]"
     ]
    },
    {
     "name": "stdout",
     "output_type": "stream",
     "text": [
      "500\n",
      "Error scraping {'country': 'DE', 'region': 'de', 'crypto_name': 'USDT (BNB Chain)', 'payment_name': 'PSE', 'regionId': '/regions/de', 'paymentMethodId': '/payments/pse', 'cryptoCurrencyId': '/currencies/crypto/56/0x55d398326f99059ff775485246999027b3197955', 'fiatCurrencyId': '/currencies/fiat/eur', 'amount': 25619, 'request_time': datetime.datetime(2024, 8, 3, 11, 24, 44, 809119)}\n",
      "'success'\n",
      "\n",
      "200\n"
     ]
    },
    {
     "name": "stderr",
     "output_type": "stream",
     "text": [
      "Scraping quotes:  97%|█████████▋| 985/1020 [27:50<00:49,  1.40s/it]"
     ]
    },
    {
     "name": "stdout",
     "output_type": "stream",
     "text": [
      "200\n"
     ]
    },
    {
     "name": "stderr",
     "output_type": "stream",
     "text": [
      "Scraping quotes:  97%|█████████▋| 986/1020 [27:53<01:04,  1.89s/it]"
     ]
    },
    {
     "name": "stdout",
     "output_type": "stream",
     "text": [
      "200\n"
     ]
    },
    {
     "name": "stderr",
     "output_type": "stream",
     "text": [
      "Scraping quotes:  97%|█████████▋| 987/1020 [27:55<01:02,  1.90s/it]"
     ]
    },
    {
     "name": "stdout",
     "output_type": "stream",
     "text": [
      "200\n"
     ]
    },
    {
     "name": "stderr",
     "output_type": "stream",
     "text": [
      "Scraping quotes:  97%|█████████▋| 988/1020 [27:57<01:05,  2.05s/it]"
     ]
    },
    {
     "name": "stdout",
     "output_type": "stream",
     "text": [
      "200\n"
     ]
    },
    {
     "name": "stderr",
     "output_type": "stream",
     "text": [
      "Scraping quotes:  97%|█████████▋| 989/1020 [27:59<01:03,  2.04s/it]"
     ]
    },
    {
     "name": "stdout",
     "output_type": "stream",
     "text": [
      "200\n"
     ]
    },
    {
     "name": "stderr",
     "output_type": "stream",
     "text": [
      "Scraping quotes:  97%|█████████▋| 990/1020 [28:02<01:08,  2.28s/it]"
     ]
    },
    {
     "name": "stdout",
     "output_type": "stream",
     "text": [
      "200\n"
     ]
    },
    {
     "name": "stderr",
     "output_type": "stream",
     "text": [
      "Scraping quotes:  97%|█████████▋| 991/1020 [28:03<00:52,  1.80s/it]"
     ]
    },
    {
     "name": "stdout",
     "output_type": "stream",
     "text": [
      "200\n"
     ]
    },
    {
     "name": "stderr",
     "output_type": "stream",
     "text": [
      "Scraping quotes:  97%|█████████▋| 992/1020 [28:04<00:40,  1.46s/it]"
     ]
    },
    {
     "name": "stdout",
     "output_type": "stream",
     "text": [
      "200\n"
     ]
    },
    {
     "name": "stderr",
     "output_type": "stream",
     "text": [
      "Scraping quotes:  97%|█████████▋| 993/1020 [28:04<00:34,  1.27s/it]"
     ]
    },
    {
     "name": "stdout",
     "output_type": "stream",
     "text": [
      "200\n"
     ]
    },
    {
     "name": "stderr",
     "output_type": "stream",
     "text": [
      "Scraping quotes:  97%|█████████▋| 994/1020 [28:06<00:34,  1.32s/it]"
     ]
    },
    {
     "name": "stdout",
     "output_type": "stream",
     "text": [
      "200\n"
     ]
    },
    {
     "name": "stderr",
     "output_type": "stream",
     "text": [
      "Scraping quotes:  98%|█████████▊| 995/1020 [28:07<00:29,  1.18s/it]"
     ]
    },
    {
     "name": "stdout",
     "output_type": "stream",
     "text": [
      "\u001b[K\r"
     ]
    },
    {
     "name": "stderr",
     "output_type": "stream",
     "text": [
      "Scraping quotes:  98%|█████████▊| 996/1020 [28:07<00:24,  1.01s/it]"
     ]
    },
    {
     "name": "stdout",
     "output_type": "stream",
     "text": [
      "500\n",
      "Error scraping {'country': 'US', 'region': 'us-fl', 'crypto_name': 'USDT (BNB Chain)', 'payment_name': 'Instant ACH Bank Transfer', 'regionId': '/regions/us-fl', 'paymentMethodId': '/payments/instant-bank-transfer', 'cryptoCurrencyId': '/currencies/crypto/56/0x55d398326f99059ff775485246999027b3197955', 'fiatCurrencyId': '/currencies/fiat/usd', 'amount': 25619, 'request_time': datetime.datetime(2024, 8, 3, 11, 25, 4, 489773)}\n",
      "'success'\n",
      "\n",
      "\u001b[K\r"
     ]
    },
    {
     "name": "stderr",
     "output_type": "stream",
     "text": [
      "Scraping quotes:  98%|█████████▊| 997/1020 [28:08<00:19,  1.16it/s]"
     ]
    },
    {
     "name": "stdout",
     "output_type": "stream",
     "text": [
      "500\n",
      "Error scraping {'country': 'US', 'region': 'us-fl', 'crypto_name': 'Ethereum Mainnet', 'payment_name': 'Wire Transfer', 'regionId': '/regions/us-fl', 'paymentMethodId': '/payments/wire-transfer', 'cryptoCurrencyId': '/currencies/crypto/1/0x0000000000000000000000000000000000000000', 'fiatCurrencyId': '/currencies/fiat/usd', 'amount': 25619, 'request_time': datetime.datetime(2024, 8, 3, 11, 25, 5, 101588)}\n",
      "'success'\n",
      "\n",
      "500\n",
      "Error scraping {'country': 'US', 'region': 'us-fl', 'crypto_name': 'USDT (Ethereum)', 'payment_name': 'Wire Transfer', 'regionId': '/regions/us-fl', 'paymentMethodId': '/payments/wire-transfer', 'cryptoCurrencyId': '/currencies/crypto/1/0xdac17f958d2ee523a2206206994597c13d831ec7', 'fiatCurrencyId': '/currencies/fiat/usd', 'amount': 25619, 'request_time': datetime.datetime(2024, 8, 3, 11, 25, 5, 609011)}\n",
      "'success'\n",
      "\n"
     ]
    },
    {
     "name": "stderr",
     "output_type": "stream",
     "text": [
      "Scraping quotes:  98%|█████████▊| 998/1020 [28:08<00:17,  1.28it/s]"
     ]
    },
    {
     "name": "stdout",
     "output_type": "stream",
     "text": [
      "500\n",
      "Error scraping {'country': 'US', 'region': 'us-fl', 'crypto_name': 'USDT (BNB Chain)', 'payment_name': 'Wire Transfer', 'regionId': '/regions/us-fl', 'paymentMethodId': '/payments/wire-transfer', 'cryptoCurrencyId': '/currencies/crypto/56/0x55d398326f99059ff775485246999027b3197955', 'fiatCurrencyId': '/currencies/fiat/usd', 'amount': 25619, 'request_time': datetime.datetime(2024, 8, 3, 11, 25, 6, 210594)}\n",
      "'success'\n",
      "\n"
     ]
    },
    {
     "name": "stderr",
     "output_type": "stream",
     "text": [
      "Scraping quotes:  98%|█████████▊| 999/1020 [28:09<00:14,  1.42it/s]"
     ]
    },
    {
     "name": "stdout",
     "output_type": "stream",
     "text": [
      "200\n"
     ]
    },
    {
     "name": "stderr",
     "output_type": "stream",
     "text": [
      "Scraping quotes:  98%|█████████▊| 1000/1020 [28:10<00:14,  1.34it/s]"
     ]
    },
    {
     "name": "stdout",
     "output_type": "stream",
     "text": [
      "200\n"
     ]
    },
    {
     "name": "stderr",
     "output_type": "stream",
     "text": [
      "Scraping quotes:  98%|█████████▊| 1001/1020 [28:11<00:14,  1.27it/s]"
     ]
    },
    {
     "name": "stdout",
     "output_type": "stream",
     "text": [
      "200\n"
     ]
    },
    {
     "name": "stderr",
     "output_type": "stream",
     "text": [
      "Scraping quotes:  98%|█████████▊| 1002/1020 [28:11<00:13,  1.29it/s]"
     ]
    },
    {
     "name": "stdout",
     "output_type": "stream",
     "text": [
      "500\n",
      "Error scraping {'country': 'US', 'region': 'us-fl', 'crypto_name': 'Ethereum Mainnet', 'payment_name': 'PSE', 'regionId': '/regions/us-fl', 'paymentMethodId': '/payments/pse', 'cryptoCurrencyId': '/currencies/crypto/1/0x0000000000000000000000000000000000000000', 'fiatCurrencyId': '/currencies/fiat/usd', 'amount': 25619, 'request_time': datetime.datetime(2024, 8, 3, 11, 25, 9, 216032)}\n",
      "'success'\n",
      "\n"
     ]
    },
    {
     "name": "stderr",
     "output_type": "stream",
     "text": [
      "Scraping quotes:  98%|█████████▊| 1003/1020 [28:12<00:13,  1.24it/s]"
     ]
    },
    {
     "name": "stdout",
     "output_type": "stream",
     "text": [
      "500\n",
      "Error scraping {'country': 'US', 'region': 'us-fl', 'crypto_name': 'USDT (Ethereum)', 'payment_name': 'PSE', 'regionId': '/regions/us-fl', 'paymentMethodId': '/payments/pse', 'cryptoCurrencyId': '/currencies/crypto/1/0xdac17f958d2ee523a2206206994597c13d831ec7', 'fiatCurrencyId': '/currencies/fiat/usd', 'amount': 25619, 'request_time': datetime.datetime(2024, 8, 3, 11, 25, 10, 91141)}\n",
      "'success'\n",
      "\n"
     ]
    },
    {
     "name": "stderr",
     "output_type": "stream",
     "text": [
      "Scraping quotes:  98%|█████████▊| 1004/1020 [28:14<00:15,  1.04it/s]"
     ]
    },
    {
     "name": "stdout",
     "output_type": "stream",
     "text": [
      "\u001b[K\r"
     ]
    },
    {
     "name": "stderr",
     "output_type": "stream",
     "text": [
      "Scraping quotes:  99%|█████████▊| 1005/1020 [28:15<00:13,  1.07it/s]"
     ]
    },
    {
     "name": "stdout",
     "output_type": "stream",
     "text": [
      "500\n",
      "Error scraping {'country': 'US', 'region': 'us-fl', 'crypto_name': 'USDT (BNB Chain)', 'payment_name': 'PSE', 'regionId': '/regions/us-fl', 'paymentMethodId': '/payments/pse', 'cryptoCurrencyId': '/currencies/crypto/56/0x55d398326f99059ff775485246999027b3197955', 'fiatCurrencyId': '/currencies/fiat/usd', 'amount': 25619, 'request_time': datetime.datetime(2024, 8, 3, 11, 25, 11, 406983)}\n",
      "'success'\n",
      "\n",
      "200\n"
     ]
    },
    {
     "name": "stderr",
     "output_type": "stream",
     "text": [
      "Scraping quotes:  99%|█████████▊| 1006/1020 [28:17<00:18,  1.35s/it]"
     ]
    },
    {
     "name": "stdout",
     "output_type": "stream",
     "text": [
      "200\n"
     ]
    },
    {
     "name": "stderr",
     "output_type": "stream",
     "text": [
      "Scraping quotes:  99%|█████████▊| 1007/1020 [28:19<00:18,  1.44s/it]"
     ]
    },
    {
     "name": "stdout",
     "output_type": "stream",
     "text": [
      "200\n"
     ]
    },
    {
     "name": "stderr",
     "output_type": "stream",
     "text": [
      "Scraping quotes:  99%|█████████▉| 1008/1020 [28:20<00:16,  1.39s/it]"
     ]
    },
    {
     "name": "stdout",
     "output_type": "stream",
     "text": [
      "200\n"
     ]
    },
    {
     "name": "stderr",
     "output_type": "stream",
     "text": [
      "Scraping quotes:  99%|█████████▉| 1009/1020 [28:22<00:18,  1.72s/it]"
     ]
    },
    {
     "name": "stdout",
     "output_type": "stream",
     "text": [
      "200\n"
     ]
    },
    {
     "name": "stderr",
     "output_type": "stream",
     "text": [
      "Scraping quotes:  99%|█████████▉| 1010/1020 [28:24<00:17,  1.71s/it]"
     ]
    },
    {
     "name": "stdout",
     "output_type": "stream",
     "text": [
      "200\n"
     ]
    },
    {
     "name": "stderr",
     "output_type": "stream",
     "text": [
      "Scraping quotes:  99%|█████████▉| 1011/1020 [28:25<00:12,  1.42s/it]"
     ]
    },
    {
     "name": "stdout",
     "output_type": "stream",
     "text": [
      "200\n"
     ]
    },
    {
     "name": "stderr",
     "output_type": "stream",
     "text": [
      "Scraping quotes:  99%|█████████▉| 1012/1020 [28:26<00:11,  1.40s/it]"
     ]
    },
    {
     "name": "stdout",
     "output_type": "stream",
     "text": [
      "200\n"
     ]
    },
    {
     "name": "stderr",
     "output_type": "stream",
     "text": [
      "Scraping quotes:  99%|█████████▉| 1013/1020 [28:27<00:09,  1.38s/it]"
     ]
    },
    {
     "name": "stdout",
     "output_type": "stream",
     "text": [
      "200\n"
     ]
    },
    {
     "name": "stderr",
     "output_type": "stream",
     "text": [
      "Scraping quotes:  99%|█████████▉| 1014/1020 [28:28<00:07,  1.19s/it]"
     ]
    },
    {
     "name": "stdout",
     "output_type": "stream",
     "text": [
      "200\n"
     ]
    },
    {
     "name": "stderr",
     "output_type": "stream",
     "text": [
      "Scraping quotes: 100%|█████████▉| 1015/1020 [28:29<00:05,  1.17s/it]"
     ]
    },
    {
     "name": "stdout",
     "output_type": "stream",
     "text": [
      "200\n"
     ]
    },
    {
     "name": "stderr",
     "output_type": "stream",
     "text": [
      "Scraping quotes: 100%|█████████▉| 1016/1020 [28:30<00:04,  1.17s/it]"
     ]
    },
    {
     "name": "stdout",
     "output_type": "stream",
     "text": [
      "200\n"
     ]
    },
    {
     "name": "stderr",
     "output_type": "stream",
     "text": [
      "Scraping quotes: 100%|█████████▉| 1017/1020 [28:32<00:03,  1.15s/it]"
     ]
    },
    {
     "name": "stdout",
     "output_type": "stream",
     "text": [
      "\u001b[K\r"
     ]
    },
    {
     "name": "stderr",
     "output_type": "stream",
     "text": [
      "Scraping quotes: 100%|█████████▉| 1018/1020 [28:33<00:02,  1.28s/it]"
     ]
    },
    {
     "name": "stdout",
     "output_type": "stream",
     "text": [
      "500\n",
      "Error scraping {'country': 'UK', 'region': 'gb', 'crypto_name': 'Ethereum Mainnet', 'payment_name': 'PSE', 'regionId': '/regions/gb', 'paymentMethodId': '/payments/pse', 'cryptoCurrencyId': '/currencies/crypto/1/0x0000000000000000000000000000000000000000', 'fiatCurrencyId': '/currencies/fiat/gbp', 'amount': 25619, 'request_time': datetime.datetime(2024, 8, 3, 11, 25, 29, 262625)}\n",
      "'success'\n",
      "\n",
      "500\n",
      "Error scraping {'country': 'UK', 'region': 'gb', 'crypto_name': 'USDT (Ethereum)', 'payment_name': 'PSE', 'regionId': '/regions/gb', 'paymentMethodId': '/payments/pse', 'cryptoCurrencyId': '/currencies/crypto/1/0xdac17f958d2ee523a2206206994597c13d831ec7', 'fiatCurrencyId': '/currencies/fiat/gbp', 'amount': 25619, 'request_time': datetime.datetime(2024, 8, 3, 11, 25, 30, 869225)}\n",
      "'success'\n",
      "\n"
     ]
    },
    {
     "name": "stderr",
     "output_type": "stream",
     "text": [
      "Scraping quotes: 100%|█████████▉| 1019/1020 [28:34<00:01,  1.17s/it]"
     ]
    },
    {
     "name": "stdout",
     "output_type": "stream",
     "text": [
      "\u001b[K\r"
     ]
    },
    {
     "name": "stderr",
     "output_type": "stream",
     "text": [
      "Scraping quotes: 100%|██████████| 1020/1020 [28:35<00:00,  1.10s/it]"
     ]
    },
    {
     "name": "stdout",
     "output_type": "stream",
     "text": [
      "500\n",
      "Error scraping {'country': 'UK', 'region': 'gb', 'crypto_name': 'USDT (BNB Chain)', 'payment_name': 'PSE', 'regionId': '/regions/gb', 'paymentMethodId': '/payments/pse', 'cryptoCurrencyId': '/currencies/crypto/56/0x55d398326f99059ff775485246999027b3197955', 'fiatCurrencyId': '/currencies/fiat/gbp', 'amount': 25619, 'request_time': datetime.datetime(2024, 8, 3, 11, 25, 31, 759244)}\n",
      "'success'\n",
      "\n"
     ]
    },
    {
     "name": "stderr",
     "output_type": "stream",
     "text": [
      "Scraping quotes: 100%|██████████| 1020/1020 [28:35<00:00,  1.68s/it]"
     ]
    },
    {
     "name": "stdout",
     "output_type": "stream",
     "text": [
      "\u001b[K\r"
     ]
    },
    {
     "name": "stderr",
     "output_type": "stream",
     "text": [
      "\n"
     ]
    }
   ],
   "source": [
    "import time \n",
    "from tqdm import tqdm\n",
    "\n",
    "total_iterations = len(bin_midpoints) * len(quote_base_params)\n",
    "with tqdm(total=total_iterations, desc=\"Scraping quotes\", position=0, leave=True) as pbar:\n",
    "    for bin in bin_midpoints:\n",
    "        for quote_param in quote_base_params:\n",
    "            r = scrape_and_persist_quote(\n",
    "                quote_params=quote_param\n",
    "                , amount=bin[\"midpoint\"]\n",
    "                , endpoint=QUOTE_API\n",
    "                , data_folder=DATA_FOLDER\n",
    "            )\n",
    "            # to not overload the API\n",
    "            time.sleep(0.2)\n",
    "            pbar.update(1)"
   ]
  },
  {
   "cell_type": "code",
   "execution_count": 22,
   "metadata": {},
   "outputs": [
    {
     "name": "stdout",
     "output_type": "stream",
     "text": [
      "200\n"
     ]
    }
   ],
   "source": []
  },
  {
   "cell_type": "markdown",
   "metadata": {},
   "source": [
    "# Load to BigQuery"
   ]
  },
  {
   "cell_type": "code",
   "execution_count": 24,
   "metadata": {},
   "outputs": [
    {
     "data": {
      "text/html": [
       "<div><style>\n",
       ".dataframe > thead > tr,\n",
       ".dataframe > tbody > tr {\n",
       "  text-align: right;\n",
       "  white-space: pre-wrap;\n",
       "}\n",
       "</style>\n",
       "<small>shape: (23, 29)</small><table border=\"1\" class=\"dataframe\"><thead><tr><th>provider</th><th>amountIn</th><th>amountOut</th><th>exchangeRate</th><th>networkFee</th><th>providerFee</th><th>extraFee</th><th>bestRate</th><th>decimals</th><th>name</th><th>symbol</th><th>chainId</th><th>chainName</th><th>shortName</th><th>position</th><th>has_quote</th><th>regionId</th><th>country</th><th>region</th><th>crypto_name</th><th>payment_name</th><th>paymentMethodId</th><th>cryptoCurrencyId</th><th>fiatCurrencyId</th><th>amount</th><th>request_time</th><th>amountOutFiat</th><th>TotalFee</th><th>spreadFee</th></tr><tr><td>str</td><td>f64</td><td>f64</td><td>f64</td><td>f64</td><td>f64</td><td>f64</td><td>bool</td><td>i32</td><td>str</td><td>str</td><td>str</td><td>str</td><td>str</td><td>i32</td><td>bool</td><td>str</td><td>str</td><td>str</td><td>str</td><td>str</td><td>str</td><td>str</td><td>str</td><td>f64</td><td>datetime[μs]</td><td>f64</td><td>f64</td><td>f64</td></tr></thead><tbody><tr><td>&quot;/providers/unlimitmeld&quot;</td><td>36.0</td><td>34.261049</td><td>0.99851</td><td>0.2</td><td>1.59</td><td>0.0</td><td>true</td><td>18</td><td>&quot;Tether USD&quot;</td><td>&quot;USDT&quot;</td><td>&quot;56&quot;</td><td>&quot;BNB Chain Mainnet&quot;</td><td>&quot;BNB Chain&quot;</td><td>1</td><td>true</td><td>&quot;/regions/us-fl&quot;</td><td>&quot;US&quot;</td><td>&quot;us-fl&quot;</td><td>&quot;USDT (BNB Chain)&quot;</td><td>&quot;Debit or Credit&quot;</td><td>&quot;/payments/debit-credit-card&quot;</td><td>&quot;/currencies/crypto/56/0x55d398…</td><td>&quot;/currencies/fiat/usd&quot;</td><td>36.0</td><td>2024-08-03 10:54:09.817135</td><td>34.21</td><td>1.79</td><td>-8.8818e-16</td></tr><tr><td>&quot;/providers/moonpay&quot;</td><td>36.0</td><td>34.0</td><td>1.019118</td><td>0.01</td><td>1.34</td><td>0.0</td><td>false</td><td>18</td><td>&quot;Tether USD&quot;</td><td>&quot;USDT&quot;</td><td>&quot;56&quot;</td><td>&quot;BNB Chain Mainnet&quot;</td><td>&quot;BNB Chain&quot;</td><td>2</td><td>true</td><td>&quot;/regions/us-fl&quot;</td><td>&quot;US&quot;</td><td>&quot;us-fl&quot;</td><td>&quot;USDT (BNB Chain)&quot;</td><td>&quot;Debit or Credit&quot;</td><td>&quot;/payments/debit-credit-card&quot;</td><td>&quot;/currencies/crypto/56/0x55d398…</td><td>&quot;/currencies/fiat/usd&quot;</td><td>36.0</td><td>2024-08-03 10:54:09.817135</td><td>34.65</td><td>1.35</td><td>1.3323e-15</td></tr><tr><td>&quot;/providers/moonpay-b&quot;</td><td>36.0</td><td>34.0</td><td>1.019118</td><td>0.01</td><td>1.34</td><td>0.0</td><td>false</td><td>18</td><td>&quot;Tether USD&quot;</td><td>&quot;USDT&quot;</td><td>&quot;56&quot;</td><td>&quot;BNB Chain Mainnet&quot;</td><td>&quot;BNB Chain&quot;</td><td>3</td><td>true</td><td>&quot;/regions/us-fl&quot;</td><td>&quot;US&quot;</td><td>&quot;us-fl&quot;</td><td>&quot;USDT (BNB Chain)&quot;</td><td>&quot;Debit or Credit&quot;</td><td>&quot;/payments/debit-credit-card&quot;</td><td>&quot;/currencies/crypto/56/0x55d398…</td><td>&quot;/currencies/fiat/usd&quot;</td><td>36.0</td><td>2024-08-03 10:54:09.817135</td><td>34.65</td><td>1.35</td><td>1.3323e-15</td></tr><tr><td>&quot;/providers/transak-b&quot;</td><td>36.0</td><td>33.98</td><td>1.01648</td><td>0.2</td><td>1.26</td><td>0.0</td><td>false</td><td>18</td><td>&quot;Tether USD&quot;</td><td>&quot;USDT&quot;</td><td>&quot;56&quot;</td><td>&quot;BNB Chain Mainnet&quot;</td><td>&quot;BNB Chain&quot;</td><td>4</td><td>true</td><td>&quot;/regions/us-fl&quot;</td><td>&quot;US&quot;</td><td>&quot;us-fl&quot;</td><td>&quot;USDT (BNB Chain)&quot;</td><td>&quot;Debit or Credit&quot;</td><td>&quot;/payments/debit-credit-card&quot;</td><td>&quot;/currencies/crypto/56/0x55d398…</td><td>&quot;/currencies/fiat/usd&quot;</td><td>36.0</td><td>2024-08-03 10:54:09.817135</td><td>34.54</td><td>1.46</td><td>8.8818e-16</td></tr><tr><td>&quot;/providers/transak&quot;</td><td>36.0</td><td>32.8</td><td>1.017073</td><td>0.2</td><td>2.44</td><td>0.0</td><td>false</td><td>18</td><td>&quot;Tether USD&quot;</td><td>&quot;USDT&quot;</td><td>&quot;56&quot;</td><td>&quot;BNB Chain Mainnet&quot;</td><td>&quot;BNB Chain&quot;</td><td>5</td><td>true</td><td>&quot;/regions/us-fl&quot;</td><td>&quot;US&quot;</td><td>&quot;us-fl&quot;</td><td>&quot;USDT (BNB Chain)&quot;</td><td>&quot;Debit or Credit&quot;</td><td>&quot;/payments/debit-credit-card&quot;</td><td>&quot;/currencies/crypto/56/0x55d398…</td><td>&quot;/currencies/fiat/usd&quot;</td><td>36.0</td><td>2024-08-03 10:54:09.817135</td><td>33.36</td><td>2.64</td><td>4.4409e-16</td></tr><tr><td>&hellip;</td><td>&hellip;</td><td>&hellip;</td><td>&hellip;</td><td>&hellip;</td><td>&hellip;</td><td>&hellip;</td><td>&hellip;</td><td>&hellip;</td><td>&hellip;</td><td>&hellip;</td><td>&hellip;</td><td>&hellip;</td><td>&hellip;</td><td>&hellip;</td><td>&hellip;</td><td>&hellip;</td><td>&hellip;</td><td>&hellip;</td><td>&hellip;</td><td>&hellip;</td><td>&hellip;</td><td>&hellip;</td><td>&hellip;</td><td>&hellip;</td><td>&hellip;</td><td>&hellip;</td><td>&hellip;</td><td>&hellip;</td></tr><tr><td>&quot;/providers/koywe&quot;</td><td>null</td><td>null</td><td>null</td><td>null</td><td>null</td><td>null</td><td>false</td><td>null</td><td>null</td><td>null</td><td>null</td><td>null</td><td>null</td><td>null</td><td>false</td><td>&quot;/regions/us-fl&quot;</td><td>&quot;US&quot;</td><td>&quot;us-fl&quot;</td><td>&quot;USDT (BNB Chain)&quot;</td><td>&quot;Debit or Credit&quot;</td><td>&quot;/payments/debit-credit-card&quot;</td><td>&quot;/currencies/crypto/56/0x55d398…</td><td>&quot;/currencies/fiat/usd&quot;</td><td>36.0</td><td>2024-08-03 10:54:09.817135</td><td>null</td><td>null</td><td>null</td></tr><tr><td>&quot;/providers/robinhood&quot;</td><td>null</td><td>null</td><td>null</td><td>null</td><td>null</td><td>null</td><td>false</td><td>null</td><td>null</td><td>null</td><td>null</td><td>null</td><td>null</td><td>null</td><td>false</td><td>&quot;/regions/us-fl&quot;</td><td>&quot;US&quot;</td><td>&quot;us-fl&quot;</td><td>&quot;USDT (BNB Chain)&quot;</td><td>&quot;Debit or Credit&quot;</td><td>&quot;/payments/debit-credit-card&quot;</td><td>&quot;/currencies/crypto/56/0x55d398…</td><td>&quot;/currencies/fiat/usd&quot;</td><td>36.0</td><td>2024-08-03 10:54:09.817135</td><td>null</td><td>null</td><td>null</td></tr><tr><td>&quot;/providers/stripe&quot;</td><td>null</td><td>null</td><td>null</td><td>null</td><td>null</td><td>null</td><td>false</td><td>null</td><td>null</td><td>null</td><td>null</td><td>null</td><td>null</td><td>null</td><td>false</td><td>&quot;/regions/us-fl&quot;</td><td>&quot;US&quot;</td><td>&quot;us-fl&quot;</td><td>&quot;USDT (BNB Chain)&quot;</td><td>&quot;Debit or Credit&quot;</td><td>&quot;/payments/debit-credit-card&quot;</td><td>&quot;/currencies/crypto/56/0x55d398…</td><td>&quot;/currencies/fiat/usd&quot;</td><td>36.0</td><td>2024-08-03 10:54:09.817135</td><td>null</td><td>null</td><td>null</td></tr><tr><td>&quot;/providers/blockchaindotcom&quot;</td><td>null</td><td>null</td><td>null</td><td>null</td><td>null</td><td>null</td><td>false</td><td>null</td><td>null</td><td>null</td><td>null</td><td>null</td><td>null</td><td>null</td><td>false</td><td>&quot;/regions/us-fl&quot;</td><td>&quot;US&quot;</td><td>&quot;us-fl&quot;</td><td>&quot;USDT (BNB Chain)&quot;</td><td>&quot;Debit or Credit&quot;</td><td>&quot;/payments/debit-credit-card&quot;</td><td>&quot;/currencies/crypto/56/0x55d398…</td><td>&quot;/currencies/fiat/usd&quot;</td><td>36.0</td><td>2024-08-03 10:54:09.817135</td><td>null</td><td>null</td><td>null</td></tr><tr><td>&quot;/providers/circle&quot;</td><td>null</td><td>null</td><td>null</td><td>null</td><td>null</td><td>null</td><td>false</td><td>null</td><td>null</td><td>null</td><td>null</td><td>null</td><td>null</td><td>null</td><td>false</td><td>&quot;/regions/us-fl&quot;</td><td>&quot;US&quot;</td><td>&quot;us-fl&quot;</td><td>&quot;USDT (BNB Chain)&quot;</td><td>&quot;Debit or Credit&quot;</td><td>&quot;/payments/debit-credit-card&quot;</td><td>&quot;/currencies/crypto/56/0x55d398…</td><td>&quot;/currencies/fiat/usd&quot;</td><td>36.0</td><td>2024-08-03 10:54:09.817135</td><td>null</td><td>null</td><td>null</td></tr></tbody></table></div>"
      ],
      "text/plain": [
       "shape: (23, 29)\n",
       "┌────────────┬──────────┬───────────┬───────────┬───┬───────────┬───────────┬──────────┬───────────┐\n",
       "│ provider   ┆ amountIn ┆ amountOut ┆ exchangeR ┆ … ┆ request_t ┆ amountOut ┆ TotalFee ┆ spreadFee │\n",
       "│ ---        ┆ ---      ┆ ---       ┆ ate       ┆   ┆ ime       ┆ Fiat      ┆ ---      ┆ ---       │\n",
       "│ str        ┆ f64      ┆ f64       ┆ ---       ┆   ┆ ---       ┆ ---       ┆ f64      ┆ f64       │\n",
       "│            ┆          ┆           ┆ f64       ┆   ┆ datetime[ ┆ f64       ┆          ┆           │\n",
       "│            ┆          ┆           ┆           ┆   ┆ μs]       ┆           ┆          ┆           │\n",
       "╞════════════╪══════════╪═══════════╪═══════════╪═══╪═══════════╪═══════════╪══════════╪═══════════╡\n",
       "│ /providers ┆ 36.0     ┆ 34.261049 ┆ 0.99851   ┆ … ┆ 2024-08-0 ┆ 34.21     ┆ 1.79     ┆ -8.8818e- │\n",
       "│ /unlimitme ┆          ┆           ┆           ┆   ┆ 3 10:54:0 ┆           ┆          ┆ 16        │\n",
       "│ ld         ┆          ┆           ┆           ┆   ┆ 9.817135  ┆           ┆          ┆           │\n",
       "│ /providers ┆ 36.0     ┆ 34.0      ┆ 1.019118  ┆ … ┆ 2024-08-0 ┆ 34.65     ┆ 1.35     ┆ 1.3323e-1 │\n",
       "│ /moonpay   ┆          ┆           ┆           ┆   ┆ 3 10:54:0 ┆           ┆          ┆ 5         │\n",
       "│            ┆          ┆           ┆           ┆   ┆ 9.817135  ┆           ┆          ┆           │\n",
       "│ /providers ┆ 36.0     ┆ 34.0      ┆ 1.019118  ┆ … ┆ 2024-08-0 ┆ 34.65     ┆ 1.35     ┆ 1.3323e-1 │\n",
       "│ /moonpay-b ┆          ┆           ┆           ┆   ┆ 3 10:54:0 ┆           ┆          ┆ 5         │\n",
       "│            ┆          ┆           ┆           ┆   ┆ 9.817135  ┆           ┆          ┆           │\n",
       "│ /providers ┆ 36.0     ┆ 33.98     ┆ 1.01648   ┆ … ┆ 2024-08-0 ┆ 34.54     ┆ 1.46     ┆ 8.8818e-1 │\n",
       "│ /transak-b ┆          ┆           ┆           ┆   ┆ 3 10:54:0 ┆           ┆          ┆ 6         │\n",
       "│            ┆          ┆           ┆           ┆   ┆ 9.817135  ┆           ┆          ┆           │\n",
       "│ /providers ┆ 36.0     ┆ 32.8      ┆ 1.017073  ┆ … ┆ 2024-08-0 ┆ 33.36     ┆ 2.64     ┆ 4.4409e-1 │\n",
       "│ /transak   ┆          ┆           ┆           ┆   ┆ 3 10:54:0 ┆           ┆          ┆ 6         │\n",
       "│            ┆          ┆           ┆           ┆   ┆ 9.817135  ┆           ┆          ┆           │\n",
       "│ …          ┆ …        ┆ …         ┆ …         ┆ … ┆ …         ┆ …         ┆ …        ┆ …         │\n",
       "│ /providers ┆ null     ┆ null      ┆ null      ┆ … ┆ 2024-08-0 ┆ null      ┆ null     ┆ null      │\n",
       "│ /koywe     ┆          ┆           ┆           ┆   ┆ 3 10:54:0 ┆           ┆          ┆           │\n",
       "│            ┆          ┆           ┆           ┆   ┆ 9.817135  ┆           ┆          ┆           │\n",
       "│ /providers ┆ null     ┆ null      ┆ null      ┆ … ┆ 2024-08-0 ┆ null      ┆ null     ┆ null      │\n",
       "│ /robinhood ┆          ┆           ┆           ┆   ┆ 3 10:54:0 ┆           ┆          ┆           │\n",
       "│            ┆          ┆           ┆           ┆   ┆ 9.817135  ┆           ┆          ┆           │\n",
       "│ /providers ┆ null     ┆ null      ┆ null      ┆ … ┆ 2024-08-0 ┆ null      ┆ null     ┆ null      │\n",
       "│ /stripe    ┆          ┆           ┆           ┆   ┆ 3 10:54:0 ┆           ┆          ┆           │\n",
       "│            ┆          ┆           ┆           ┆   ┆ 9.817135  ┆           ┆          ┆           │\n",
       "│ /providers ┆ null     ┆ null      ┆ null      ┆ … ┆ 2024-08-0 ┆ null      ┆ null     ┆ null      │\n",
       "│ /blockchai ┆          ┆           ┆           ┆   ┆ 3 10:54:0 ┆           ┆          ┆           │\n",
       "│ ndotcom    ┆          ┆           ┆           ┆   ┆ 9.817135  ┆           ┆          ┆           │\n",
       "│ /providers ┆ null     ┆ null      ┆ null      ┆ … ┆ 2024-08-0 ┆ null      ┆ null     ┆ null      │\n",
       "│ /circle    ┆          ┆           ┆           ┆   ┆ 3 10:54:0 ┆           ┆          ┆           │\n",
       "│            ┆          ┆           ┆           ┆   ┆ 9.817135  ┆           ┆          ┆           │\n",
       "└────────────┴──────────┴───────────┴───────────┴───┴───────────┴───────────┴──────────┴───────────┘"
      ]
     },
     "execution_count": 24,
     "metadata": {},
     "output_type": "execute_result"
    }
   ],
   "source": [
    "(\n",
    "    pl.read_parquet(\"data/*.parquet\")\n",
    ")"
   ]
  }
 ],
 "metadata": {
  "kernelspec": {
   "display_name": "venv",
   "language": "python",
   "name": "python3"
  },
  "language_info": {
   "codemirror_mode": {
    "name": "ipython",
    "version": 3
   },
   "file_extension": ".py",
   "mimetype": "text/x-python",
   "name": "python",
   "nbconvert_exporter": "python",
   "pygments_lexer": "ipython3",
   "version": "3.11.4"
  }
 },
 "nbformat": 4,
 "nbformat_minor": 2
}
