{
 "cells": [
  {
   "cell_type": "code",
   "execution_count": 1,
   "metadata": {},
   "outputs": [],
   "source": [
    "%load_ext autoreload\n",
    "%autoreload 2"
   ]
  },
  {
   "cell_type": "code",
   "execution_count": 206,
   "metadata": {},
   "outputs": [],
   "source": [
    "import requests\n",
    "from config import *\n",
    "from copy import deepcopy\n",
    "import pandas as pd\n",
    "from datetime import datetime\n",
    "import polars as pl\n",
    "from pathlib import Path\n",
    "\n",
    "\n"
   ]
  },
  {
   "cell_type": "markdown",
   "metadata": {},
   "source": [
    "# Configs"
   ]
  },
  {
   "cell_type": "code",
   "execution_count": null,
   "metadata": {},
   "outputs": [],
   "source": [
    "DATA_FOLDER = Path('data')\n",
    "\n",
    "\n",
    "############## REGION - Get Payment\n",
    "REGION_PARAMS = {\n",
    "    \"sdk\":\"1.28.3\"\n",
    "}\n",
    "REGIONS_API = 'https://on-ramp-content.api.cx.metamask.io/regions'\n",
    "REGIONS = [\n",
    "    {\n",
    "        \"region\":\"de\"\n",
    "        , \"country\":\"DE\"\n",
    "        , \"fiat_currency\": \"/currencies/fiat/eur\"\n",
    "    },\n",
    "    {\n",
    "        \"region\":\"us-fl\"\n",
    "        , \"country\":\"US\"\n",
    "        , \"fiat_currency\": \"/currencies/fiat/usd\"\n",
    "    },\n",
    "    {\n",
    "        \"region\":\"gb\"\n",
    "        , \"country\":\"UK\"\n",
    "        , \"fiat_currency\": \"/currencies/fiat/gb\"\n",
    "    }\n",
    "]\n",
    "\n",
    "############## QUOTE\n",
    "QUOTE_API = 'https://on-ramp.api.cx.metamask.io/providers/all/quote'\n",
    "CRYPTOCURRENCIES = [\n",
    "    {\n",
    "        \"name\": \"Ethereum Mainnet\"\n",
    "        , \"id\": \"/currencies/crypto/1/0x0000000000000000000000000000000000000000\"\n",
    "    },\n",
    "    {\n",
    "        \"name\": \"USDT (Ethereum)\"\n",
    "        , \"id\":  \"/currencies/crypto/1/0xdac17f958d2ee523a2206206994597c13d831ec7\"\n",
    "    },\n",
    "    {\n",
    "        \"name\": \"USDT (BNB Chain)\"\n",
    "        , \"id\":  \"/currencies/crypto/56/0x55d398326f99059ff775485246999027b3197955\"\n",
    "    },\n",
    "    \n",
    "]"
   ]
  },
  {
   "cell_type": "markdown",
   "metadata": {},
   "source": [
    "# Scrape Payment data for regions"
   ]
  },
  {
   "cell_type": "code",
   "execution_count": 4,
   "metadata": {},
   "outputs": [],
   "source": [
    "def extract_payments_data(payment_dict:dict):\n",
    "    payment_dict.pop('logo', None)\n",
    "    payment_dict.pop('icons', None)\n",
    "    return payment_dict\n",
    "\n",
    "def add_region_payment_data(region_dict:str, region_api:str = REGIONS_API, query_params:dict = REGION_PARAMS):\n",
    "    # using a deepcopy to avoid mutating the original input\n",
    "    dict_copy = deepcopy(region_dict)\n",
    "    response = requests.get(f\"{region_api}/{dict_copy['region']}\", params=query_params)\n",
    "    try:\n",
    "        data = response.json()\n",
    "        payment_info = [extract_payments_data(x) for x in data[\"payments\"]]\n",
    "        dict_copy[\"payments\"] = payment_info\n",
    "        print(\"Add Payment data\")\n",
    "        return dict_copy\n",
    "    except Exception as e:\n",
    "        print(\"Error adding payment data\")\n",
    "        print(e)"
   ]
  },
  {
   "cell_type": "code",
   "execution_count": 11,
   "metadata": {},
   "outputs": [
    {
     "name": "stdout",
     "output_type": "stream",
     "text": [
      "extracting payment info for {'region': 'de', 'country': 'DE', 'fiat_currency': '/currencies/fiat/eur'}\n",
      "Add Payment data\n",
      "extracting payment info for {'region': 'us-fl', 'country': 'US', 'fiat_currency': '/currencies/fiat/usd'}\n",
      "Add Payment data\n",
      "extracting payment info for {'region': 'gb', 'country': 'UK', 'fiat_currency': '/currencies/fiat/gb'}\n",
      "Add Payment data\n"
     ]
    }
   ],
   "source": [
    "REGIONS_WITH_PAYMENT = []\n",
    "for region in REGIONS:\n",
    "    print(f\"extracting payment info for\", region)\n",
    "    region_it = add_region_payment_data(region)\n",
    "    REGIONS_WITH_PAYMENT.append(region_it)    "
   ]
  },
  {
   "cell_type": "markdown",
   "metadata": {},
   "source": [
    "# Generate Quote Scrapings"
   ]
  },
  {
   "cell_type": "code",
   "execution_count": 26,
   "metadata": {},
   "outputs": [],
   "source": [
    "QUOTE_QUERY_PARAMS_BASE = []\n",
    "for region in REGIONS_WITH_PAYMENT:\n",
    "    for payment in region[\"payments\"]:\n",
    "        for crypto in CRYPTOCURRENCIES:\n",
    "            QUOTE_QUERY_PARAMS_BASE.append({\n",
    "                \"country\": region[\"country\"]\n",
    "                , \"region\": region[\"region\"] \n",
    "                , \"crypto_name\": crypto[\"name\"]\n",
    "                , \"payment_name\": payment[\"name\"]\n",
    "                , \"scrape_params\": {\n",
    "                    \"regionId\":f\"/regions/{region['region']}\"\n",
    "                    , \"paymentMethodId\": payment[\"id\"]\n",
    "                    , \"cryptoCurrencyId\": crypto[\"id\"]\n",
    "                    , \"fiatCurrencyId\": region[\"fiat_currency\"]\n",
    "                }\n",
    "                \n",
    "            })"
   ]
  },
  {
   "cell_type": "code",
   "execution_count": 192,
   "metadata": {},
   "outputs": [],
   "source": [
    "def get_success_quote_data(provider_json) -> dict:\n",
    "    quote_data = {}\n",
    "    quote_data[\"provider\"] = provider_json.get(\"provider\")\n",
    "    \n",
    "    quote_fields_to_scrape = [\n",
    "          {\"key\":\"amountIn\", \"default\":None}\n",
    "        , {\"key\":\"amountOut\", \"default\":None}\n",
    "        , {\"key\":\"exchangeRate\", \"default\":None}\n",
    "        , {\"key\":\"networkFee\", \"default\":None}\n",
    "        , {\"key\":\"providerFee\", \"default\":None}\n",
    "        , {\"key\":\"bestRate\", \"default\":False}\n",
    "    ]\n",
    "    \n",
    "    # this is to keep the dict filling with the same pattern\n",
    "    # for both error and success dict\n",
    "    json_ref = provider_json\n",
    "    if isinstance(provider_json.get(\"quote\"), dict):\n",
    "        json_ref = provider_json.get(\"quote\")\n",
    "    for field in quote_fields_to_scrape:\n",
    "        quote_data[field[\"key\"]] = json_ref.get(field[\"key\"], field[\"default\"])\n",
    "    return quote_data\n",
    "\n",
    "def _format_string(x):\n",
    "    return x.replace(\"(\",\"\").replace(\")\", \"\").replace(\" \", \"-\").lower()\n",
    "\n",
    "def generate_filename(query_params:dict, amount, format=\"parquet\"):\n",
    "    keys_to_format = [\"region\", \"crypto_name\", \"payment_name\"]\n",
    "    keys_formatted = [_format_string(query_params[x]) for x in keys_to_format]\n",
    "    keys_formatted.append(str(amount))\n",
    "    keys_formatted.append(query_params[\"scrape_params\"][\"fiatCurrencyId\"].split(\"/\")[-1])\n",
    "    keys_formatted.insert(0, datetime.now().strftime(\"%Y%m%d_%H%M\"))\n",
    "    return f'{\"__\".join(keys_formatted)}.{format}'\n",
    "\n",
    "\n",
    "def _scrape_one_quote(query_params: dict , amount: float, endpoint=QUOTE_API) -> dict:\n",
    "    copy_params = deepcopy(query_params)\n",
    "    copy_params[\"amount\"] = amount\n",
    "    copy_params[\"request_time\"] = datetime.now()\n",
    "    response = requests.get(endpoint, params=copy_params)\n",
    "    print(response.status_code)\n",
    "    # return response\n",
    "    \"\"\" \n",
    "    I don't want to assume that a provider that is not in the \"success\" means it does not\n",
    "    support the currency, it probably was just a error at this specific quoting\n",
    "    Logging the error for completeness.\n",
    "    It will also make coverage counting easier later on...\n",
    "    \"\"\"\n",
    "    try:\n",
    "        raw = response.json()\n",
    "        all_quotes = []\n",
    "        i=1\n",
    "        for key in [\"success\", \"error\"]:\n",
    "            if len(raw[key]) > 0:\n",
    "                for provider_quote in raw[key]:\n",
    "                    single_quote = get_success_quote_data(provider_quote)\n",
    "                    single_quote[\"position\"] = i if key == 'success' else None\n",
    "                    single_quote[\"has_quote\"] = True if key =='success' else False     \n",
    "                    single_quote.update(copy_params)\n",
    "                    all_quotes.append(single_quote)\n",
    "                    if key == 'success':\n",
    "                        i += 1\n",
    "        return {\"status\": \"success\", \"payload\": all_quotes}\n",
    "    except Exception as e: \n",
    "        print(\"Error scraping\", copy_params)\n",
    "        print(e)\n",
    "        return {\"status\": \"failure\", \"payload\": response}\n",
    "\n",
    "def scrape_one_quote(quote_params:dict, amount:float, endpoint:str, data_folder:Path):\n",
    "    \n",
    "    quote_schema = {\n",
    "        \"provider\":pl.String\n",
    "        , \"amountIn\": pl.Float64\n",
    "        , \"amountOut\": pl.Float64\n",
    "        , \"exchangeRate\": pl.Float64\n",
    "        , \"networkFee\": pl.Float64\n",
    "        , \"providerFee\": pl.Float64\n",
    "        , \"bestRate\": pl.Boolean\n",
    "        , \"position\": pl.Int32\n",
    "        , \"has_quote\": pl.Boolean\n",
    "        , \"regionId\": pl.String \n",
    "        , \"paymentMethodId\":pl.String \n",
    "        , \"cryptoCurrencyId\":pl.String\n",
    "        , \"fiatCurrencyId\": pl.String \n",
    "        , \"amount\":pl.Float64\n",
    "        , \"request_time\": pl.Datetime\n",
    "    }   \n",
    "    \n",
    "    scrape_result = _scrape_one_quote(\n",
    "        quote_params[\"scrape_params\"]\n",
    "        , amount=amount\n",
    "        , endpoint=endpoint\n",
    "    )\n",
    "    \n",
    "    if scrape_result[\"status\"] == 'success':\n",
    "        filename = generate_filename(quote_params, amount)\n",
    "        (\n",
    "            pl.DataFrame(scrape_result[\"payload\"], schema = quote_schema)\n",
    "            .write_parquet(data_folder / filename, compression=\"snappy\")\n",
    "        )\n"
   ]
  },
  {
   "cell_type": "code",
   "execution_count": null,
   "metadata": {},
   "outputs": [],
   "source": []
  },
  {
   "cell_type": "code",
   "execution_count": 198,
   "metadata": {},
   "outputs": [
    {
     "name": "stdout",
     "output_type": "stream",
     "text": [
      "200\n"
     ]
    }
   ],
   "source": [
    "r = scrape_one_quote(scrape_params=quote_test[\"scrape_params\"], amount = amount_test, endpoint=QUOTE_API)"
   ]
  },
  {
   "cell_type": "markdown",
   "metadata": {},
   "source": [
    "# Bulk scraping"
   ]
  },
  {
   "cell_type": "code",
   "execution_count": 136,
   "metadata": {},
   "outputs": [
    {
     "data": {
      "text/plain": [
       "[{'from': 30, 'midpoint': 36, 'to': 42},\n",
       " {'from': 42, 'midpoint': 51, 'to': 60},\n",
       " {'from': 60, 'midpoint': 72, 'to': 85},\n",
       " {'from': 85, 'midpoint': 102, 'to': 119},\n",
       " {'from': 119, 'midpoint': 144, 'to': 169},\n",
       " {'from': 169, 'midpoint': 204, 'to': 238},\n",
       " {'from': 238, 'midpoint': 288, 'to': 337},\n",
       " {'from': 337, 'midpoint': 406, 'to': 475},\n",
       " {'from': 475, 'midpoint': 574, 'to': 672},\n",
       " {'from': 672, 'midpoint': 810, 'to': 949},\n",
       " {'from': 949, 'midpoint': 1144, 'to': 1340},\n",
       " {'from': 1340, 'midpoint': 1616, 'to': 1893},\n",
       " {'from': 1893, 'midpoint': 2284, 'to': 2674},\n",
       " {'from': 2674, 'midpoint': 3226, 'to': 3777},\n",
       " {'from': 3777, 'midpoint': 4556, 'to': 5335},\n",
       " {'from': 5335, 'midpoint': 6436, 'to': 7536},\n",
       " {'from': 7536, 'midpoint': 9090, 'to': 10644},\n",
       " {'from': 10644, 'midpoint': 12840, 'to': 15036},\n",
       " {'from': 15036, 'midpoint': 18137, 'to': 21238},\n",
       " {'from': 21238, 'midpoint': 25619, 'to': 30000}]"
      ]
     },
     "execution_count": 136,
     "metadata": {},
     "output_type": "execute_result"
    }
   ],
   "source": [
    "import numpy as np\n",
    "\n",
    "\n",
    "def calculate_bin_midpoints(min_value=30, max_value=30000, n_bins=20):\n",
    "    bins = [min_value * (max_value / min_value)**(i/n_bins) for i in range(n_bins + 1)]\n",
    "    bins = [round(b) for b in bins]\n",
    "\n",
    "    midpoints = []\n",
    "    for i in range(len(bins) - 1):\n",
    "        from_value = bins[i]\n",
    "        to_value = bins[i + 1]\n",
    "        midpoint = round((from_value + to_value) / 2)\n",
    "        midpoints.append({\"from\": from_value, \"midpoint\": midpoint, \"to\": to_value})\n",
    "\n",
    "    return midpoints\n",
    "\n",
    "# Example usage:\n",
    "bin_midpoints = calculate_bin_midpoints()\n",
    "bin_midpoints"
   ]
  },
  {
   "cell_type": "code",
   "execution_count": 72,
   "metadata": {},
   "outputs": [
    {
     "data": {
      "text/plain": [
       "'https://on-ramp.api.cx.metamask.io/?country=US&region=us-fl&crypto_name=USDT+%28BNB+Chain%29&payment_name=Debit+or+Credit&scrape_params=regionId&scrape_params=paymentMethodId&scrape_params=cryptoCurrencyId&scrape_params=fiatCurrencyId&amount=100'"
      ]
     },
     "execution_count": 72,
     "metadata": {},
     "output_type": "execute_result"
    }
   ],
   "source": [
    "\n"
   ]
  },
  {
   "cell_type": "code",
   "execution_count": 69,
   "metadata": {},
   "outputs": [
    {
     "data": {
      "text/plain": [
       "{'product': 'On-Ramp',\n",
       " 'service': 'On-Ramp API',\n",
       " 'version': '1.40.1',\n",
       " 'features': ['orders', 'analytics']}"
      ]
     },
     "execution_count": 69,
     "metadata": {},
     "output_type": "execute_result"
    }
   ],
   "source": [
    "r.json()"
   ]
  },
  {
   "cell_type": "code",
   "execution_count": 66,
   "metadata": {},
   "outputs": [
    {
     "data": {
      "text/plain": [
       "{'country': 'US',\n",
       " 'region': 'us-fl',\n",
       " 'crypto_name': 'USDT (BNB Chain)',\n",
       " 'payment_name': 'Debit or Credit',\n",
       " 'scrape_params': {'regionId': '/regions/us-fl',\n",
       "  'paymentMethodId': '/payments/debit-credit-card',\n",
       "  'cryptoCurrencyId': '/currencies/crypto/56/0x55d398326f99059ff775485246999027b3197955',\n",
       "  'fiatCurrencyId': '/currencies/fiat/usd'}}"
      ]
     },
     "execution_count": 66,
     "metadata": {},
     "output_type": "execute_result"
    }
   ],
   "source": [
    "QUOTE_QUERY_PARAMS_BASE[20]"
   ]
  },
  {
   "cell_type": "code",
   "execution_count": 64,
   "metadata": {},
   "outputs": [
    {
     "data": {
      "text/plain": [
       "{'product': 'On-Ramp',\n",
       " 'service': 'On-Ramp API',\n",
       " 'version': '1.40.1',\n",
       " 'features': ['orders', 'analytics']}"
      ]
     },
     "execution_count": 64,
     "metadata": {},
     "output_type": "execute_result"
    }
   ],
   "source": [
    "\n",
    "r.json()\n",
    "\n"
   ]
  }
 ],
 "metadata": {
  "kernelspec": {
   "display_name": "venv",
   "language": "python",
   "name": "python3"
  },
  "language_info": {
   "codemirror_mode": {
    "name": "ipython",
    "version": 3
   },
   "file_extension": ".py",
   "mimetype": "text/x-python",
   "name": "python",
   "nbconvert_exporter": "python",
   "pygments_lexer": "ipython3",
   "version": "3.11.4"
  }
 },
 "nbformat": 4,
 "nbformat_minor": 2
}
