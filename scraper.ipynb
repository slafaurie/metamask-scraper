{
 "cells": [
  {
   "cell_type": "code",
   "execution_count": 1,
   "metadata": {},
   "outputs": [],
   "source": [
    "%load_ext autoreload\n",
    "%autoreload 2"
   ]
  },
  {
   "cell_type": "code",
   "execution_count": 2,
   "metadata": {},
   "outputs": [],
   "source": [
    "import requests\n",
    "from config import *\n",
    "from copy import deepcopy\n",
    "from datetime import datetime\n",
    "import polars as pl\n",
    "from pathlib import Path\n",
    "import numpy as np\n",
    "\n",
    "\n"
   ]
  },
  {
   "cell_type": "markdown",
   "metadata": {},
   "source": [
    "# Configs"
   ]
  },
  {
   "cell_type": "code",
   "execution_count": 3,
   "metadata": {},
   "outputs": [],
   "source": [
    "DATA_FOLDER = Path('data')\n",
    "\n",
    "\n",
    "############## REGION - Get Payment\n",
    "REGION_PARAMS = {\n",
    "    \"sdk\":\"1.28.3\"\n",
    "}\n",
    "REGIONS_API = 'https://on-ramp-content.api.cx.metamask.io/regions'\n",
    "REGIONS = [\n",
    "    {\n",
    "        \"region\":\"de\"\n",
    "        , \"country\":\"DE\"\n",
    "        , \"fiat_currency\": \"/currencies/fiat/eur\"\n",
    "    },\n",
    "    {\n",
    "        \"region\":\"us-fl\"\n",
    "        , \"country\":\"US\"\n",
    "        , \"fiat_currency\": \"/currencies/fiat/usd\"\n",
    "    },\n",
    "    {\n",
    "        \"region\":\"gb\"\n",
    "        , \"country\":\"UK\"\n",
    "        , \"fiat_currency\": \"/currencies/fiat/gbp\"\n",
    "    }\n",
    "]\n",
    "\n",
    "############## QUOTE\n",
    "QUOTE_API = 'https://on-ramp.api.cx.metamask.io/providers/all/quote'\n",
    "CRYPTOCURRENCIES = [\n",
    "    {\n",
    "        \"name\": \"Ethereum Mainnet\"\n",
    "        , \"id\": \"/currencies/crypto/1/0x0000000000000000000000000000000000000000\"\n",
    "    },\n",
    "    {\n",
    "        \"name\": \"USDT (Ethereum)\"\n",
    "        , \"id\":  \"/currencies/crypto/1/0xdac17f958d2ee523a2206206994597c13d831ec7\"\n",
    "    },\n",
    "    {\n",
    "        \"name\": \"USDT (BNB Chain)\"\n",
    "        , \"id\":  \"/currencies/crypto/56/0x55d398326f99059ff775485246999027b3197955\"\n",
    "    },\n",
    "    \n",
    "]\n"
   ]
  },
  {
   "cell_type": "markdown",
   "metadata": {},
   "source": [
    "# Scrape Payment data for regions\n",
    "\n",
    "We can get all the payments providers for a given region instead of manually looking them up. \n",
    "In an ongoing process this would only be needed to run when a new region is added or on-demand"
   ]
  },
  {
   "cell_type": "code",
   "execution_count": 4,
   "metadata": {},
   "outputs": [],
   "source": [
    "def extract_payments_data(payment_dict:dict):\n",
    "    payment_dict.pop('logo', None)\n",
    "    payment_dict.pop('icons', None)\n",
    "    return payment_dict\n",
    "\n",
    "def add_region_payment_data(region_dict:str, region_api:str = REGIONS_API, query_params:dict = REGION_PARAMS):\n",
    "    # using a deepcopy to avoid mutating the original input\n",
    "    dict_copy = deepcopy(region_dict)\n",
    "    response = requests.get(f\"{region_api}/{dict_copy['region']}\", params=query_params)\n",
    "    try:\n",
    "        data = response.json()\n",
    "        payment_info = [extract_payments_data(x) for x in data[\"payments\"]]\n",
    "        dict_copy[\"payments\"] = payment_info\n",
    "        print(\"Add Payment data\")\n",
    "        return dict_copy\n",
    "    except Exception as e:\n",
    "        print(\"Error adding payment data\")\n",
    "        print(e)"
   ]
  },
  {
   "cell_type": "code",
   "execution_count": 5,
   "metadata": {},
   "outputs": [
    {
     "name": "stdout",
     "output_type": "stream",
     "text": [
      "extracting payment info for {'region': 'de', 'country': 'DE', 'fiat_currency': '/currencies/fiat/eur'}\n",
      "Add Payment data\n",
      "extracting payment info for {'region': 'us-fl', 'country': 'US', 'fiat_currency': '/currencies/fiat/usd'}\n",
      "Add Payment data\n",
      "extracting payment info for {'region': 'gb', 'country': 'UK', 'fiat_currency': '/currencies/fiat/gbp'}\n",
      "Add Payment data\n"
     ]
    }
   ],
   "source": [
    "regions_with_payment = []\n",
    "for region in REGIONS:\n",
    "    print(f\"extracting payment info for\", region)\n",
    "    region_it = add_region_payment_data(region)\n",
    "    regions_with_payment.append(region_it)    "
   ]
  },
  {
   "cell_type": "markdown",
   "metadata": {},
   "source": [
    "# Generate Quote Scrapings\n",
    "\n",
    "Now, we generate a list of all the query parameters needed (except the amount) to make a call to the API. In an ongoing process this could be persisted to a table and run on demand (same considerations as before)"
   ]
  },
  {
   "cell_type": "code",
   "execution_count": 6,
   "metadata": {},
   "outputs": [],
   "source": [
    "quote_base_params = []\n",
    "for region in regions_with_payment:\n",
    "    for payment in region[\"payments\"]:\n",
    "        for crypto in CRYPTOCURRENCIES:\n",
    "            quote_base_params.append({\n",
    "                \"country\": region[\"country\"]\n",
    "                , \"region\": region[\"region\"] \n",
    "                , \"crypto_name\": crypto[\"name\"]\n",
    "                , \"payment_name\": payment[\"name\"]\n",
    "                , \"scrape_params\": {\n",
    "                    \"regionId\":f\"/regions/{region['region']}\"\n",
    "                    , \"paymentMethodId\": payment[\"id\"]\n",
    "                    , \"cryptoCurrencyId\": crypto[\"id\"]\n",
    "                    , \"fiatCurrencyId\": region[\"fiat_currency\"]\n",
    "                }\n",
    "                \n",
    "            })"
   ]
  },
  {
   "cell_type": "markdown",
   "metadata": {},
   "source": [
    "# Scraping a quote\n",
    "\n",
    "the following sections define the logic to finally make a call, parse the response and persist to a parquet file"
   ]
  },
  {
   "cell_type": "code",
   "execution_count": 25,
   "metadata": {},
   "outputs": [],
   "source": [
    "def get_success_quote_data(provider_json) -> dict:\n",
    "    # print(provider_json)\n",
    "    quote_data = {}\n",
    "    # quote_data[\"provider\"] = provider_json.get(\"provider\")\n",
    "    \n",
    "    fields_to_scrape = [ {\"parents\": [], \"key\":\"provider\", \"default\":None}\n",
    "        , {\"parents\": [\"quote\"], \"key\":\"amountIn\", \"default\":None}\n",
    "        , {\"parents\": [\"quote\"], \"key\":\"amountOut\", \"default\":None}\n",
    "        , {\"parents\": [\"quote\"], \"key\":\"exchangeRate\", \"default\":None}\n",
    "        , {\"parents\": [\"quote\"], \"key\":\"networkFee\", \"default\":None}\n",
    "        , {\"parents\": [\"quote\"], \"key\":\"providerFee\", \"default\":None}\n",
    "        , {\"parents\": [\"quote\"], \"key\":\"extraFee\", \"default\": None}\n",
    "        , {\"parents\": [\"quote\"], \"key\":\"bestRate\", \"default\":False}\n",
    "        , {\"parents\": [\"quote\", \"crypto\"] , \"key\":\"decimals\", \"default\":None}\n",
    "        , {\"parents\": [\"quote\", \"crypto\"] , \"key\":\"name\", \"default\":None}\n",
    "        , {\"parents\": [\"quote\", \"crypto\"] , \"key\":\"symbol\", \"default\":None}\n",
    "        , {\"parents\": [\"quote\", \"crypto\", \"network\"], \"key\":\"chainId\", \"default\":None}\n",
    "        , {\"parents\": [\"quote\", \"crypto\", \"network\"], \"key\":\"chainName\", \"default\":None}\n",
    "        , {\"parents\": [\"quote\", \"crypto\", \"network\"], \"key\":\"shortName\", \"default\":None}\n",
    "    ]\n",
    "        \n",
    "    # populate the field\n",
    "    for field in fields_to_scrape:\n",
    "        it_json = deepcopy(provider_json)\n",
    "        if len(field[\"parents\"]) > 0 :\n",
    "            for parent in field[\"parents\"]:\n",
    "                it_json = it_json.get(parent, {})\n",
    "        quote_data[field[\"key\"]] = it_json.get(field[\"key\"],field[\"default\"])\n",
    "        \n",
    "    # quote_data[\"amountOutFiat\"] = quote_data.get(\"amountOut\",*quote_data[\"exchangeRate\"]\n",
    "    # quote_data[\"totalFee\"] = quote_data[\"amountIn\"] - quote_data[\"amountOutFiat\"]\n",
    "    # quote_data[\"spread\"] = quote_data[\"totalFee\"] - quote_data[\"networkFee\"] - quote_data[\"providerFee\"] - quote_data[\"extraFee\"]\n",
    "    return quote_data\n",
    "            \n",
    "                    \n",
    "    \n",
    "    # # this is to keep the dict filling with the same pattern\n",
    "    # # for both error and success dict\n",
    "    # json_ref = provider_json\n",
    "    # if isinstance(provider_json.get(\"quote\"), dict):\n",
    "    #     json_ref = provider_json.get(\"quote\")\n",
    "    # for field in quote_fields_to_scrape:\n",
    "    #     quote_data[field[\"key\"]] = json_ref.get(field[\"key\"], field[\"default\"])\n",
    "    # return quote_data\n",
    "\n",
    "    \n",
    "def _format_string(x):\n",
    "    return x.replace(\"(\",\"\").replace(\")\", \"\").replace(\" \", \"-\").lower()\n",
    "\n",
    "def generate_filename(query_params:dict, amount, format=\"parquet\"):\n",
    "    keys_to_format = [\"region\", \"crypto_name\", \"payment_name\"]\n",
    "    keys_formatted = [_format_string(query_params[x]) for x in keys_to_format]\n",
    "    keys_formatted.append(str(amount))\n",
    "    keys_formatted.append(query_params[\"scrape_params\"][\"fiatCurrencyId\"].split(\"/\")[-1])\n",
    "    keys_formatted.insert(0, datetime.now().strftime(\"%Y%m%d_%H%M\"))\n",
    "    return f'{\"__\".join(keys_formatted)}.{format}'\n",
    "\n",
    "\n",
    "def scrape_one_quote(query_params: dict , amount: float, endpoint=QUOTE_API) -> dict:\n",
    "    # print(query_params)\n",
    "    copy_params = deepcopy(query_params)\n",
    "    scrape_params = copy_params.pop(\"scrape_params\")\n",
    "    scrape_params[\"amount\"] = amount\n",
    "    scrape_params[\"request_time\"] = datetime.now()\n",
    "    response = requests.get(endpoint, params=scrape_params)\n",
    "    \n",
    "    # add them at the same level to keep tabular format\n",
    "    copy_params.update(scrape_params)\n",
    "    print(response.status_code)\n",
    "    # return response\n",
    "    \"\"\" \n",
    "    I don't want to assume that a provider that is not in the \"success\" means it does not\n",
    "    support the currency, it probably was just a error at this specific quoting\n",
    "    Logging the error for completeness.\n",
    "    It will also make coverage counting easier later on...\n",
    "    \"\"\"\n",
    "    try:\n",
    "        raw = response.json()\n",
    "        all_quotes = []\n",
    "        i=1\n",
    "        for key in [\"success\", \"error\"]:\n",
    "            if len(raw[key]) > 0:\n",
    "                for provider_quote in raw[key]:\n",
    "                    single_quote = get_success_quote_data(provider_quote)\n",
    "                    single_quote[\"position\"] = i if key == 'success' else None\n",
    "                    single_quote[\"has_quote\"] = True if key =='success' else False     \n",
    "                    single_quote.update(copy_params)\n",
    "                    all_quotes.append(single_quote)\n",
    "                    if key == 'success':\n",
    "                        i += 1\n",
    "        return {\"status\": \"success\", \"payload\": all_quotes}\n",
    "    except Exception as e: \n",
    "        print(\"Error scraping\", copy_params)\n",
    "        print(e)\n",
    "        print()\n",
    "        return {\"status\": \"failure\", \"payload\": response}\n",
    "\n",
    "def scrape_and_persist_quote(quote_params:dict, amount:float, endpoint:str, data_folder:Path):\n",
    "    \n",
    "    quote_schema = {\n",
    "        \"provider\":pl.String\n",
    "        , \"amountIn\": pl.Float64\n",
    "        , \"amountOut\": pl.Float64\n",
    "        , \"exchangeRate\": pl.Float64\n",
    "        , \"networkFee\": pl.Float64\n",
    "        , \"providerFee\": pl.Float64\n",
    "        , \"extraFee\": pl.Float64\n",
    "        , \"bestRate\": pl.Boolean\n",
    "        , \"decimals\": pl.Int32\n",
    "        , \"name\": pl.String\n",
    "        , \"symbol\": pl.String\n",
    "        , \"chainId\": pl.String\n",
    "        , \"chainName\": pl.String\n",
    "        , \"shortName\": pl.String\n",
    "        # , \"amountOutFiat\": pl.String\n",
    "        # , \"totalFee\": pl.Float32\n",
    "        # , \"spread\": pl.Float32\n",
    "        , \"position\": pl.Int32\n",
    "        , \"has_quote\": pl.Boolean\n",
    "        , \"regionId\": pl.String \n",
    "        , \"country\": pl.String \n",
    "        , \"region\": pl.String\n",
    "        , \"crypto_name\": pl.String\n",
    "        , \"payment_name\": pl.String\n",
    "        , \"paymentMethodId\":pl.String \n",
    "        , \"cryptoCurrencyId\":pl.String\n",
    "        , \"fiatCurrencyId\": pl.String \n",
    "        , \"amount\":pl.Float64\n",
    "        , \"request_time\": pl.Datetime\n",
    "    } \n",
    "    \n",
    "    \n",
    "    scrape_result = scrape_one_quote(\n",
    "        quote_params\n",
    "        , amount=amount\n",
    "        , endpoint=endpoint\n",
    "    )\n",
    "    \n",
    "    if scrape_result[\"status\"] == 'success':\n",
    "        filename = generate_filename(quote_params, amount)\n",
    "        (\n",
    "            pl.DataFrame(scrape_result[\"payload\"], schema = quote_schema)\n",
    "            .with_columns(\n",
    "                ( pl.col(\"amountOut\") * pl.col(\"exchangeRate\") ).alias(\"amountOutFiat\")\n",
    "                , (pl.col(\"amountIn\") -  pl.col(\"amountOut\") * pl.col(\"exchangeRate\") ).alias(\"totalFee\")\n",
    "            )\n",
    "            .with_columns(\n",
    "                ( pl.col(\"totalFee\") - pl.col(\"networkFee\") - pl.col(\"providerFee\") - pl.col(\"extraFee\")).alias(\"spreadFee\")\n",
    "            )\n",
    "            .write_parquet(data_folder / filename, compression=\"snappy\")\n",
    "        )\n",
    "\n",
    "    return scrape_result\n"
   ]
  },
  {
   "cell_type": "markdown",
   "metadata": {},
   "source": [
    "# Bulk scraping\n",
    "\n",
    "At this point we have a full scraping process for a single price point, we now need to scrape all the points we want to"
   ]
  },
  {
   "cell_type": "code",
   "execution_count": 26,
   "metadata": {},
   "outputs": [
    {
     "data": {
      "text/plain": [
       "[{'from': 30, 'midpoint': 36, 'to': 42},\n",
       " {'from': 42, 'midpoint': 51, 'to': 60},\n",
       " {'from': 60, 'midpoint': 72, 'to': 85},\n",
       " {'from': 85, 'midpoint': 102, 'to': 119},\n",
       " {'from': 119, 'midpoint': 144, 'to': 169},\n",
       " {'from': 169, 'midpoint': 204, 'to': 238},\n",
       " {'from': 238, 'midpoint': 288, 'to': 337},\n",
       " {'from': 337, 'midpoint': 406, 'to': 475},\n",
       " {'from': 475, 'midpoint': 574, 'to': 672},\n",
       " {'from': 672, 'midpoint': 810, 'to': 949},\n",
       " {'from': 949, 'midpoint': 1144, 'to': 1340},\n",
       " {'from': 1340, 'midpoint': 1616, 'to': 1893},\n",
       " {'from': 1893, 'midpoint': 2284, 'to': 2674},\n",
       " {'from': 2674, 'midpoint': 3226, 'to': 3777},\n",
       " {'from': 3777, 'midpoint': 4556, 'to': 5335},\n",
       " {'from': 5335, 'midpoint': 6436, 'to': 7536},\n",
       " {'from': 7536, 'midpoint': 9090, 'to': 10644},\n",
       " {'from': 10644, 'midpoint': 12840, 'to': 15036},\n",
       " {'from': 15036, 'midpoint': 18137, 'to': 21238},\n",
       " {'from': 21238, 'midpoint': 25619, 'to': 30000}]"
      ]
     },
     "execution_count": 26,
     "metadata": {},
     "output_type": "execute_result"
    }
   ],
   "source": [
    "def calculate_bin_midpoints(min_value=30, max_value=30000, n_bins=20):\n",
    "    bins = [min_value * (max_value / min_value)**(i/n_bins) for i in range(n_bins + 1)]\n",
    "    bins = [round(b) for b in bins]\n",
    "\n",
    "    midpoints = []\n",
    "    for i in range(len(bins) - 1):\n",
    "        from_value = bins[i]\n",
    "        to_value = bins[i + 1]\n",
    "        midpoint = round((from_value + to_value) / 2)\n",
    "        midpoints.append({\"from\": from_value, \"midpoint\": midpoint, \"to\": to_value})\n",
    "\n",
    "    return midpoints\n",
    "\n",
    "# Example usage:\n",
    "bin_midpoints = calculate_bin_midpoints()\n",
    "bin_midpoints"
   ]
  },
  {
   "cell_type": "code",
   "execution_count": 12,
   "metadata": {},
   "outputs": [
    {
     "name": "stderr",
     "output_type": "stream",
     "text": [
      "Scraping quotes:   0%|          | 0/1020 [00:00<?, ?it/s]"
     ]
    },
    {
     "name": "stdout",
     "output_type": "stream",
     "text": [
      "200\n"
     ]
    },
    {
     "name": "stderr",
     "output_type": "stream",
     "text": [
      "Scraping quotes:   0%|          | 1/1020 [00:02<41:47,  2.46s/it]"
     ]
    },
    {
     "name": "stdout",
     "output_type": "stream",
     "text": [
      "200\n"
     ]
    },
    {
     "name": "stderr",
     "output_type": "stream",
     "text": [
      "Scraping quotes:   0%|          | 2/1020 [00:05<45:02,  2.65s/it]"
     ]
    },
    {
     "name": "stdout",
     "output_type": "stream",
     "text": [
      "200\n"
     ]
    },
    {
     "name": "stderr",
     "output_type": "stream",
     "text": [
      "Scraping quotes:   0%|          | 3/1020 [00:06<36:59,  2.18s/it]"
     ]
    },
    {
     "name": "stdout",
     "output_type": "stream",
     "text": [
      "200\n"
     ]
    },
    {
     "name": "stderr",
     "output_type": "stream",
     "text": [
      "Scraping quotes:   0%|          | 4/1020 [00:09<38:19,  2.26s/it]"
     ]
    },
    {
     "name": "stdout",
     "output_type": "stream",
     "text": [
      "200\n"
     ]
    },
    {
     "name": "stderr",
     "output_type": "stream",
     "text": [
      "Scraping quotes:   0%|          | 5/1020 [00:11<38:45,  2.29s/it]"
     ]
    },
    {
     "name": "stdout",
     "output_type": "stream",
     "text": [
      "200\n"
     ]
    },
    {
     "name": "stderr",
     "output_type": "stream",
     "text": [
      "Scraping quotes:   1%|          | 6/1020 [00:13<39:15,  2.32s/it]"
     ]
    },
    {
     "name": "stdout",
     "output_type": "stream",
     "text": [
      "200\n"
     ]
    },
    {
     "name": "stderr",
     "output_type": "stream",
     "text": [
      "Scraping quotes:   1%|          | 7/1020 [00:16<39:15,  2.33s/it]"
     ]
    },
    {
     "name": "stdout",
     "output_type": "stream",
     "text": [
      "200\n"
     ]
    },
    {
     "name": "stderr",
     "output_type": "stream",
     "text": [
      "Scraping quotes:   1%|          | 8/1020 [00:18<37:40,  2.23s/it]"
     ]
    },
    {
     "name": "stdout",
     "output_type": "stream",
     "text": [
      "200\n"
     ]
    },
    {
     "name": "stderr",
     "output_type": "stream",
     "text": [
      "Scraping quotes:   1%|          | 9/1020 [00:20<36:41,  2.18s/it]"
     ]
    },
    {
     "name": "stdout",
     "output_type": "stream",
     "text": [
      "200\n"
     ]
    },
    {
     "name": "stderr",
     "output_type": "stream",
     "text": [
      "Scraping quotes:   1%|          | 10/1020 [00:21<31:34,  1.88s/it]"
     ]
    },
    {
     "name": "stdout",
     "output_type": "stream",
     "text": [
      "200\n"
     ]
    },
    {
     "name": "stderr",
     "output_type": "stream",
     "text": [
      "Scraping quotes:   1%|          | 11/1020 [00:23<29:36,  1.76s/it]"
     ]
    },
    {
     "name": "stdout",
     "output_type": "stream",
     "text": [
      "200\n"
     ]
    },
    {
     "name": "stderr",
     "output_type": "stream",
     "text": [
      "Scraping quotes:   1%|▏         | 13/1020 [00:25<25:52,  1.54s/it]"
     ]
    },
    {
     "name": "stdout",
     "output_type": "stream",
     "text": [
      "500\n",
      "Error scraping {'country': 'DE', 'region': 'de', 'crypto_name': 'Ethereum Mainnet', 'payment_name': 'PSE', 'regionId': '/regions/de', 'paymentMethodId': '/payments/pse', 'cryptoCurrencyId': '/currencies/crypto/1/0x0000000000000000000000000000000000000000', 'fiatCurrencyId': '/currencies/fiat/eur', 'amount': 36, 'request_time': datetime.datetime(2024, 8, 2, 21, 43, 23, 887666)}\n",
      "'success'\n",
      "\n"
     ]
    },
    {
     "name": "stderr",
     "output_type": "stream",
     "text": [
      "Scraping quotes:   1%|▏         | 14/1020 [00:26<22:15,  1.33s/it]"
     ]
    },
    {
     "name": "stdout",
     "output_type": "stream",
     "text": [
      "500\n",
      "Error scraping {'country': 'DE', 'region': 'de', 'crypto_name': 'USDT (Ethereum)', 'payment_name': 'PSE', 'regionId': '/regions/de', 'paymentMethodId': '/payments/pse', 'cryptoCurrencyId': '/currencies/crypto/1/0xdac17f958d2ee523a2206206994597c13d831ec7', 'fiatCurrencyId': '/currencies/fiat/eur', 'amount': 36, 'request_time': datetime.datetime(2024, 8, 2, 21, 43, 25, 393926)}\n",
      "'success'\n",
      "\n"
     ]
    },
    {
     "name": "stderr",
     "output_type": "stream",
     "text": [
      "Scraping quotes:   1%|▏         | 15/1020 [00:27<19:35,  1.17s/it]"
     ]
    },
    {
     "name": "stdout",
     "output_type": "stream",
     "text": [
      "500\n",
      "Error scraping {'country': 'DE', 'region': 'de', 'crypto_name': 'USDT (BNB Chain)', 'payment_name': 'PSE', 'regionId': '/regions/de', 'paymentMethodId': '/payments/pse', 'cryptoCurrencyId': '/currencies/crypto/56/0x55d398326f99059ff775485246999027b3197955', 'fiatCurrencyId': '/currencies/fiat/eur', 'amount': 36, 'request_time': datetime.datetime(2024, 8, 2, 21, 43, 26, 224196)}\n",
      "'success'\n",
      "\n",
      "200\n"
     ]
    },
    {
     "name": "stderr",
     "output_type": "stream",
     "text": [
      "Scraping quotes:   2%|▏         | 16/1020 [00:29<25:10,  1.50s/it]"
     ]
    },
    {
     "name": "stdout",
     "output_type": "stream",
     "text": [
      "200\n"
     ]
    },
    {
     "name": "stderr",
     "output_type": "stream",
     "text": [
      "Scraping quotes:   2%|▏         | 17/1020 [00:32<32:48,  1.96s/it]"
     ]
    },
    {
     "name": "stdout",
     "output_type": "stream",
     "text": [
      "200\n"
     ]
    },
    {
     "name": "stderr",
     "output_type": "stream",
     "text": [
      "Scraping quotes:   2%|▏         | 18/1020 [00:34<33:17,  1.99s/it]"
     ]
    },
    {
     "name": "stdout",
     "output_type": "stream",
     "text": [
      "200\n"
     ]
    },
    {
     "name": "stderr",
     "output_type": "stream",
     "text": [
      "Scraping quotes:   2%|▏         | 19/1020 [00:37<35:02,  2.10s/it]"
     ]
    },
    {
     "name": "stdout",
     "output_type": "stream",
     "text": [
      "200\n"
     ]
    },
    {
     "name": "stderr",
     "output_type": "stream",
     "text": [
      "Scraping quotes:   2%|▏         | 20/1020 [00:39<36:25,  2.19s/it]"
     ]
    },
    {
     "name": "stdout",
     "output_type": "stream",
     "text": [
      "200\n"
     ]
    },
    {
     "name": "stderr",
     "output_type": "stream",
     "text": [
      "Scraping quotes:   2%|▏         | 21/1020 [00:41<35:40,  2.14s/it]"
     ]
    },
    {
     "name": "stdout",
     "output_type": "stream",
     "text": [
      "200\n"
     ]
    },
    {
     "name": "stderr",
     "output_type": "stream",
     "text": [
      "Scraping quotes:   2%|▏         | 22/1020 [00:42<29:35,  1.78s/it]"
     ]
    },
    {
     "name": "stdout",
     "output_type": "stream",
     "text": [
      "200\n"
     ]
    },
    {
     "name": "stderr",
     "output_type": "stream",
     "text": [
      "Scraping quotes:   2%|▏         | 23/1020 [00:43<24:11,  1.46s/it]"
     ]
    },
    {
     "name": "stdout",
     "output_type": "stream",
     "text": [
      "200\n"
     ]
    },
    {
     "name": "stderr",
     "output_type": "stream",
     "text": [
      "Scraping quotes:   2%|▏         | 24/1020 [00:43<20:29,  1.23s/it]"
     ]
    },
    {
     "name": "stdout",
     "output_type": "stream",
     "text": [
      "200\n"
     ]
    },
    {
     "name": "stderr",
     "output_type": "stream",
     "text": [
      "Scraping quotes:   2%|▏         | 25/1020 [00:44<19:31,  1.18s/it]"
     ]
    },
    {
     "name": "stdout",
     "output_type": "stream",
     "text": [
      "200\n"
     ]
    },
    {
     "name": "stderr",
     "output_type": "stream",
     "text": [
      "Scraping quotes:   3%|▎         | 27/1020 [00:46<16:07,  1.03it/s]"
     ]
    },
    {
     "name": "stdout",
     "output_type": "stream",
     "text": [
      "500\n",
      "Error scraping {'country': 'US', 'region': 'us-fl', 'crypto_name': 'USDT (BNB Chain)', 'payment_name': 'Instant ACH Bank Transfer', 'regionId': '/regions/us-fl', 'paymentMethodId': '/payments/instant-bank-transfer', 'cryptoCurrencyId': '/currencies/crypto/56/0x55d398326f99059ff775485246999027b3197955', 'fiatCurrencyId': '/currencies/fiat/usd', 'amount': 36, 'request_time': datetime.datetime(2024, 8, 2, 21, 43, 45, 707952)}\n",
      "'success'\n",
      "\n"
     ]
    },
    {
     "name": "stderr",
     "output_type": "stream",
     "text": [
      "Scraping quotes:   3%|▎         | 28/1020 [00:47<14:00,  1.18it/s]"
     ]
    },
    {
     "name": "stdout",
     "output_type": "stream",
     "text": [
      "500\n",
      "Error scraping {'country': 'US', 'region': 'us-fl', 'crypto_name': 'Ethereum Mainnet', 'payment_name': 'Wire Transfer', 'regionId': '/regions/us-fl', 'paymentMethodId': '/payments/wire-transfer', 'cryptoCurrencyId': '/currencies/crypto/1/0x0000000000000000000000000000000000000000', 'fiatCurrencyId': '/currencies/fiat/usd', 'amount': 36, 'request_time': datetime.datetime(2024, 8, 2, 21, 43, 46, 237924)}\n",
      "'success'\n",
      "\n",
      "500\n",
      "Error scraping {'country': 'US', 'region': 'us-fl', 'crypto_name': 'USDT (Ethereum)', 'payment_name': 'Wire Transfer', 'regionId': '/regions/us-fl', 'paymentMethodId': '/payments/wire-transfer', 'cryptoCurrencyId': '/currencies/crypto/1/0xdac17f958d2ee523a2206206994597c13d831ec7', 'fiatCurrencyId': '/currencies/fiat/usd', 'amount': 36, 'request_time': datetime.datetime(2024, 8, 2, 21, 43, 46, 790949)}\n",
      "'success'\n",
      "\n"
     ]
    },
    {
     "name": "stderr",
     "output_type": "stream",
     "text": [
      "Scraping quotes:   3%|▎         | 30/1020 [00:48<12:04,  1.37it/s]"
     ]
    },
    {
     "name": "stdout",
     "output_type": "stream",
     "text": [
      "500\n",
      "Error scraping {'country': 'US', 'region': 'us-fl', 'crypto_name': 'USDT (BNB Chain)', 'payment_name': 'Wire Transfer', 'regionId': '/regions/us-fl', 'paymentMethodId': '/payments/wire-transfer', 'cryptoCurrencyId': '/currencies/crypto/56/0x55d398326f99059ff775485246999027b3197955', 'fiatCurrencyId': '/currencies/fiat/usd', 'amount': 36, 'request_time': datetime.datetime(2024, 8, 2, 21, 43, 47, 368320)}\n",
      "'success'\n",
      "\n",
      "200\n"
     ]
    },
    {
     "name": "stderr",
     "output_type": "stream",
     "text": [
      "Scraping quotes:   3%|▎         | 31/1020 [00:49<13:12,  1.25it/s]"
     ]
    },
    {
     "name": "stdout",
     "output_type": "stream",
     "text": [
      "200\n"
     ]
    },
    {
     "name": "stderr",
     "output_type": "stream",
     "text": [
      "Scraping quotes:   3%|▎         | 32/1020 [00:50<12:45,  1.29it/s]"
     ]
    },
    {
     "name": "stdout",
     "output_type": "stream",
     "text": [
      "200\n"
     ]
    },
    {
     "name": "stderr",
     "output_type": "stream",
     "text": [
      "Scraping quotes:   3%|▎         | 34/1020 [00:51<13:24,  1.23it/s]"
     ]
    },
    {
     "name": "stdout",
     "output_type": "stream",
     "text": [
      "500\n",
      "Error scraping {'country': 'US', 'region': 'us-fl', 'crypto_name': 'Ethereum Mainnet', 'payment_name': 'PSE', 'regionId': '/regions/us-fl', 'paymentMethodId': '/payments/pse', 'cryptoCurrencyId': '/currencies/crypto/1/0x0000000000000000000000000000000000000000', 'fiatCurrencyId': '/currencies/fiat/usd', 'amount': 36, 'request_time': datetime.datetime(2024, 8, 2, 21, 43, 50, 505455)}\n",
      "'success'\n",
      "\n",
      "500\n",
      "Error scraping {'country': 'US', 'region': 'us-fl', 'crypto_name': 'USDT (Ethereum)', 'payment_name': 'PSE', 'regionId': '/regions/us-fl', 'paymentMethodId': '/payments/pse', 'cryptoCurrencyId': '/currencies/crypto/1/0xdac17f958d2ee523a2206206994597c13d831ec7', 'fiatCurrencyId': '/currencies/fiat/usd', 'amount': 36, 'request_time': datetime.datetime(2024, 8, 2, 21, 43, 51, 393039)}\n",
      "'success'\n",
      "\n"
     ]
    },
    {
     "name": "stderr",
     "output_type": "stream",
     "text": [
      "Scraping quotes:   4%|▎         | 36/1020 [00:54<19:08,  1.17s/it]"
     ]
    },
    {
     "name": "stdout",
     "output_type": "stream",
     "text": [
      "500\n",
      "Error scraping {'country': 'US', 'region': 'us-fl', 'crypto_name': 'USDT (BNB Chain)', 'payment_name': 'PSE', 'regionId': '/regions/us-fl', 'paymentMethodId': '/payments/pse', 'cryptoCurrencyId': '/currencies/crypto/56/0x55d398326f99059ff775485246999027b3197955', 'fiatCurrencyId': '/currencies/fiat/usd', 'amount': 36, 'request_time': datetime.datetime(2024, 8, 2, 21, 43, 52, 326104)}\n",
      "'success'\n",
      "\n",
      "200\n"
     ]
    },
    {
     "name": "stderr",
     "output_type": "stream",
     "text": [
      "Scraping quotes:   4%|▎         | 37/1020 [00:55<18:50,  1.15s/it]"
     ]
    },
    {
     "name": "stdout",
     "output_type": "stream",
     "text": [
      "200\n"
     ]
    },
    {
     "name": "stderr",
     "output_type": "stream",
     "text": [
      "Scraping quotes:   4%|▎         | 38/1020 [00:57<21:08,  1.29s/it]"
     ]
    },
    {
     "name": "stdout",
     "output_type": "stream",
     "text": [
      "200\n"
     ]
    },
    {
     "name": "stderr",
     "output_type": "stream",
     "text": [
      "Scraping quotes:   4%|▍         | 39/1020 [00:58<20:59,  1.28s/it]"
     ]
    },
    {
     "name": "stdout",
     "output_type": "stream",
     "text": [
      "200\n"
     ]
    },
    {
     "name": "stderr",
     "output_type": "stream",
     "text": [
      "Scraping quotes:   4%|▍         | 40/1020 [00:59<20:27,  1.25s/it]"
     ]
    },
    {
     "name": "stdout",
     "output_type": "stream",
     "text": [
      "200\n"
     ]
    },
    {
     "name": "stderr",
     "output_type": "stream",
     "text": [
      "Scraping quotes:   4%|▍         | 41/1020 [01:01<22:39,  1.39s/it]"
     ]
    },
    {
     "name": "stdout",
     "output_type": "stream",
     "text": [
      "200\n"
     ]
    },
    {
     "name": "stderr",
     "output_type": "stream",
     "text": [
      "Scraping quotes:   4%|▍         | 42/1020 [01:02<21:38,  1.33s/it]"
     ]
    },
    {
     "name": "stdout",
     "output_type": "stream",
     "text": [
      "200\n"
     ]
    },
    {
     "name": "stderr",
     "output_type": "stream",
     "text": [
      "Scraping quotes:   4%|▍         | 43/1020 [01:04<24:31,  1.51s/it]"
     ]
    },
    {
     "name": "stdout",
     "output_type": "stream",
     "text": [
      "200\n"
     ]
    },
    {
     "name": "stderr",
     "output_type": "stream",
     "text": [
      "Scraping quotes:   4%|▍         | 44/1020 [01:06<25:08,  1.55s/it]"
     ]
    },
    {
     "name": "stdout",
     "output_type": "stream",
     "text": [
      "200\n"
     ]
    },
    {
     "name": "stderr",
     "output_type": "stream",
     "text": [
      "Scraping quotes:   4%|▍         | 45/1020 [01:07<23:14,  1.43s/it]"
     ]
    },
    {
     "name": "stdout",
     "output_type": "stream",
     "text": [
      "200\n"
     ]
    },
    {
     "name": "stderr",
     "output_type": "stream",
     "text": [
      "Scraping quotes:   5%|▍         | 46/1020 [01:09<26:40,  1.64s/it]"
     ]
    },
    {
     "name": "stdout",
     "output_type": "stream",
     "text": [
      "200\n"
     ]
    },
    {
     "name": "stderr",
     "output_type": "stream",
     "text": [
      "Scraping quotes:   5%|▍         | 47/1020 [01:10<25:07,  1.55s/it]"
     ]
    },
    {
     "name": "stdout",
     "output_type": "stream",
     "text": [
      "200\n"
     ]
    },
    {
     "name": "stderr",
     "output_type": "stream",
     "text": [
      "Scraping quotes:   5%|▍         | 49/1020 [01:12<19:45,  1.22s/it]"
     ]
    },
    {
     "name": "stdout",
     "output_type": "stream",
     "text": [
      "500\n",
      "Error scraping {'country': 'UK', 'region': 'gb', 'crypto_name': 'Ethereum Mainnet', 'payment_name': 'PSE', 'regionId': '/regions/gb', 'paymentMethodId': '/payments/pse', 'cryptoCurrencyId': '/currencies/crypto/1/0x0000000000000000000000000000000000000000', 'fiatCurrencyId': '/currencies/fiat/gbp', 'amount': 36, 'request_time': datetime.datetime(2024, 8, 2, 21, 44, 11, 363871)}\n",
      "'success'\n",
      "\n"
     ]
    },
    {
     "name": "stderr",
     "output_type": "stream",
     "text": [
      "Scraping quotes:   5%|▍         | 50/1020 [01:13<17:17,  1.07s/it]"
     ]
    },
    {
     "name": "stdout",
     "output_type": "stream",
     "text": [
      "500\n",
      "Error scraping {'country': 'UK', 'region': 'gb', 'crypto_name': 'USDT (Ethereum)', 'payment_name': 'PSE', 'regionId': '/regions/gb', 'paymentMethodId': '/payments/pse', 'cryptoCurrencyId': '/currencies/crypto/1/0xdac17f958d2ee523a2206206994597c13d831ec7', 'fiatCurrencyId': '/currencies/fiat/gbp', 'amount': 36, 'request_time': datetime.datetime(2024, 8, 2, 21, 44, 12, 287930)}\n",
      "'success'\n",
      "\n"
     ]
    },
    {
     "name": "stderr",
     "output_type": "stream",
     "text": [
      "Scraping quotes:   5%|▌         | 51/1020 [01:14<16:03,  1.01it/s]"
     ]
    },
    {
     "name": "stdout",
     "output_type": "stream",
     "text": [
      "500\n",
      "Error scraping {'country': 'UK', 'region': 'gb', 'crypto_name': 'USDT (BNB Chain)', 'payment_name': 'PSE', 'regionId': '/regions/gb', 'paymentMethodId': '/payments/pse', 'cryptoCurrencyId': '/currencies/crypto/56/0x55d398326f99059ff775485246999027b3197955', 'fiatCurrencyId': '/currencies/fiat/gbp', 'amount': 36, 'request_time': datetime.datetime(2024, 8, 2, 21, 44, 13, 5424)}\n",
      "'success'\n",
      "\n",
      "200\n"
     ]
    },
    {
     "name": "stderr",
     "output_type": "stream",
     "text": [
      "Scraping quotes:   5%|▌         | 52/1020 [01:16<21:52,  1.36s/it]"
     ]
    },
    {
     "name": "stdout",
     "output_type": "stream",
     "text": [
      "200\n"
     ]
    },
    {
     "name": "stderr",
     "output_type": "stream",
     "text": [
      "Scraping quotes:   5%|▌         | 53/1020 [01:18<28:10,  1.75s/it]"
     ]
    },
    {
     "name": "stdout",
     "output_type": "stream",
     "text": [
      "200\n"
     ]
    },
    {
     "name": "stderr",
     "output_type": "stream",
     "text": [
      "Scraping quotes:   5%|▌         | 54/1020 [01:21<30:08,  1.87s/it]"
     ]
    },
    {
     "name": "stdout",
     "output_type": "stream",
     "text": [
      "200\n"
     ]
    },
    {
     "name": "stderr",
     "output_type": "stream",
     "text": [
      "Scraping quotes:   5%|▌         | 55/1020 [01:23<32:47,  2.04s/it]"
     ]
    },
    {
     "name": "stdout",
     "output_type": "stream",
     "text": [
      "200\n"
     ]
    },
    {
     "name": "stderr",
     "output_type": "stream",
     "text": [
      "Scraping quotes:   5%|▌         | 56/1020 [01:25<34:12,  2.13s/it]"
     ]
    },
    {
     "name": "stdout",
     "output_type": "stream",
     "text": [
      "200\n"
     ]
    },
    {
     "name": "stderr",
     "output_type": "stream",
     "text": [
      "Scraping quotes:   6%|▌         | 57/1020 [01:28<35:16,  2.20s/it]"
     ]
    },
    {
     "name": "stdout",
     "output_type": "stream",
     "text": [
      "200\n"
     ]
    },
    {
     "name": "stderr",
     "output_type": "stream",
     "text": [
      "Scraping quotes:   6%|▌         | 58/1020 [01:30<35:43,  2.23s/it]"
     ]
    },
    {
     "name": "stdout",
     "output_type": "stream",
     "text": [
      "200\n"
     ]
    },
    {
     "name": "stderr",
     "output_type": "stream",
     "text": [
      "Scraping quotes:   6%|▌         | 59/1020 [01:34<42:05,  2.63s/it]"
     ]
    },
    {
     "name": "stdout",
     "output_type": "stream",
     "text": [
      "200\n"
     ]
    },
    {
     "name": "stderr",
     "output_type": "stream",
     "text": [
      "Scraping quotes:   6%|▌         | 60/1020 [01:36<40:12,  2.51s/it]"
     ]
    },
    {
     "name": "stdout",
     "output_type": "stream",
     "text": [
      "200\n"
     ]
    },
    {
     "name": "stderr",
     "output_type": "stream",
     "text": [
      "Scraping quotes:   6%|▌         | 61/1020 [01:37<34:05,  2.13s/it]"
     ]
    },
    {
     "name": "stdout",
     "output_type": "stream",
     "text": [
      "200\n"
     ]
    },
    {
     "name": "stderr",
     "output_type": "stream",
     "text": [
      "Scraping quotes:   6%|▌         | 62/1020 [01:38<30:05,  1.88s/it]"
     ]
    },
    {
     "name": "stdout",
     "output_type": "stream",
     "text": [
      "200\n"
     ]
    },
    {
     "name": "stderr",
     "output_type": "stream",
     "text": [
      "Scraping quotes:   6%|▋         | 64/1020 [01:41<23:52,  1.50s/it]"
     ]
    },
    {
     "name": "stdout",
     "output_type": "stream",
     "text": [
      "500\n",
      "Error scraping {'country': 'DE', 'region': 'de', 'crypto_name': 'Ethereum Mainnet', 'payment_name': 'PSE', 'regionId': '/regions/de', 'paymentMethodId': '/payments/pse', 'cryptoCurrencyId': '/currencies/crypto/1/0x0000000000000000000000000000000000000000', 'fiatCurrencyId': '/currencies/fiat/eur', 'amount': 51, 'request_time': datetime.datetime(2024, 8, 2, 21, 44, 39, 998998)}\n",
      "'success'\n",
      "\n",
      "500\n",
      "Error scraping {'country': 'DE', 'region': 'de', 'crypto_name': 'USDT (Ethereum)', 'payment_name': 'PSE', 'regionId': '/regions/de', 'paymentMethodId': '/payments/pse', 'cryptoCurrencyId': '/currencies/crypto/1/0xdac17f958d2ee523a2206206994597c13d831ec7', 'fiatCurrencyId': '/currencies/fiat/eur', 'amount': 51, 'request_time': datetime.datetime(2024, 8, 2, 21, 44, 40, 957857)}\n",
      "'success'\n",
      "\n"
     ]
    },
    {
     "name": "stderr",
     "output_type": "stream",
     "text": [
      "Scraping quotes:   6%|▋         | 66/1020 [01:44<24:18,  1.53s/it]"
     ]
    },
    {
     "name": "stdout",
     "output_type": "stream",
     "text": [
      "500\n",
      "Error scraping {'country': 'DE', 'region': 'de', 'crypto_name': 'USDT (BNB Chain)', 'payment_name': 'PSE', 'regionId': '/regions/de', 'paymentMethodId': '/payments/pse', 'cryptoCurrencyId': '/currencies/crypto/56/0x55d398326f99059ff775485246999027b3197955', 'fiatCurrencyId': '/currencies/fiat/eur', 'amount': 51, 'request_time': datetime.datetime(2024, 8, 2, 21, 44, 43, 403193)}\n",
      "'success'\n",
      "\n",
      "200\n"
     ]
    },
    {
     "name": "stderr",
     "output_type": "stream",
     "text": [
      "Scraping quotes:   7%|▋         | 67/1020 [01:47<28:55,  1.82s/it]"
     ]
    },
    {
     "name": "stdout",
     "output_type": "stream",
     "text": [
      "200\n"
     ]
    },
    {
     "name": "stderr",
     "output_type": "stream",
     "text": [
      "Scraping quotes:   7%|▋         | 68/1020 [01:49<30:54,  1.95s/it]"
     ]
    },
    {
     "name": "stdout",
     "output_type": "stream",
     "text": [
      "200\n"
     ]
    },
    {
     "name": "stderr",
     "output_type": "stream",
     "text": [
      "Scraping quotes:   7%|▋         | 69/1020 [01:51<33:17,  2.10s/it]"
     ]
    },
    {
     "name": "stdout",
     "output_type": "stream",
     "text": [
      "200\n"
     ]
    },
    {
     "name": "stderr",
     "output_type": "stream",
     "text": [
      "Scraping quotes:   7%|▋         | 70/1020 [01:54<35:26,  2.24s/it]"
     ]
    },
    {
     "name": "stdout",
     "output_type": "stream",
     "text": [
      "200\n"
     ]
    },
    {
     "name": "stderr",
     "output_type": "stream",
     "text": [
      "Scraping quotes:   7%|▋         | 71/1020 [01:56<35:06,  2.22s/it]"
     ]
    },
    {
     "name": "stdout",
     "output_type": "stream",
     "text": [
      "200\n"
     ]
    },
    {
     "name": "stderr",
     "output_type": "stream",
     "text": [
      "Scraping quotes:   7%|▋         | 72/1020 [01:58<34:55,  2.21s/it]"
     ]
    },
    {
     "name": "stdout",
     "output_type": "stream",
     "text": [
      "200\n"
     ]
    },
    {
     "name": "stderr",
     "output_type": "stream",
     "text": [
      "Scraping quotes:   7%|▋         | 73/1020 [01:59<28:00,  1.77s/it]"
     ]
    },
    {
     "name": "stdout",
     "output_type": "stream",
     "text": [
      "200\n"
     ]
    },
    {
     "name": "stderr",
     "output_type": "stream",
     "text": [
      "Scraping quotes:   7%|▋         | 74/1020 [02:00<22:45,  1.44s/it]"
     ]
    },
    {
     "name": "stdout",
     "output_type": "stream",
     "text": [
      "200\n"
     ]
    },
    {
     "name": "stderr",
     "output_type": "stream",
     "text": [
      "Scraping quotes:   7%|▋         | 75/1020 [02:01<23:47,  1.51s/it]"
     ]
    },
    {
     "name": "stdout",
     "output_type": "stream",
     "text": [
      "200\n"
     ]
    },
    {
     "name": "stderr",
     "output_type": "stream",
     "text": [
      "Scraping quotes:   7%|▋         | 76/1020 [02:02<20:52,  1.33s/it]"
     ]
    },
    {
     "name": "stdout",
     "output_type": "stream",
     "text": [
      "200\n"
     ]
    },
    {
     "name": "stderr",
     "output_type": "stream",
     "text": [
      "Scraping quotes:   8%|▊         | 78/1020 [02:04<15:44,  1.00s/it]"
     ]
    },
    {
     "name": "stdout",
     "output_type": "stream",
     "text": [
      "500\n",
      "Error scraping {'country': 'US', 'region': 'us-fl', 'crypto_name': 'USDT (BNB Chain)', 'payment_name': 'Instant ACH Bank Transfer', 'regionId': '/regions/us-fl', 'paymentMethodId': '/payments/instant-bank-transfer', 'cryptoCurrencyId': '/currencies/crypto/56/0x55d398326f99059ff775485246999027b3197955', 'fiatCurrencyId': '/currencies/fiat/usd', 'amount': 51, 'request_time': datetime.datetime(2024, 8, 2, 21, 45, 3, 328721)}\n",
      "'success'\n",
      "\n",
      "500\n",
      "Error scraping {'country': 'US', 'region': 'us-fl', 'crypto_name': 'Ethereum Mainnet', 'payment_name': 'Wire Transfer', 'regionId': '/regions/us-fl', 'paymentMethodId': '/payments/wire-transfer', 'cryptoCurrencyId': '/currencies/crypto/1/0x0000000000000000000000000000000000000000', 'fiatCurrencyId': '/currencies/fiat/usd', 'amount': 51, 'request_time': datetime.datetime(2024, 8, 2, 21, 45, 3, 899571)}\n",
      "'success'\n",
      "\n"
     ]
    },
    {
     "name": "stderr",
     "output_type": "stream",
     "text": [
      "Scraping quotes:   8%|▊         | 80/1020 [02:05<12:36,  1.24it/s]"
     ]
    },
    {
     "name": "stdout",
     "output_type": "stream",
     "text": [
      "500\n",
      "Error scraping {'country': 'US', 'region': 'us-fl', 'crypto_name': 'USDT (Ethereum)', 'payment_name': 'Wire Transfer', 'regionId': '/regions/us-fl', 'paymentMethodId': '/payments/wire-transfer', 'cryptoCurrencyId': '/currencies/crypto/1/0xdac17f958d2ee523a2206206994597c13d831ec7', 'fiatCurrencyId': '/currencies/fiat/usd', 'amount': 51, 'request_time': datetime.datetime(2024, 8, 2, 21, 45, 4, 510438)}\n",
      "'success'\n",
      "\n"
     ]
    },
    {
     "name": "stderr",
     "output_type": "stream",
     "text": [
      "Scraping quotes:   8%|▊         | 81/1020 [02:07<17:00,  1.09s/it]"
     ]
    },
    {
     "name": "stdout",
     "output_type": "stream",
     "text": [
      "500\n",
      "Error scraping {'country': 'US', 'region': 'us-fl', 'crypto_name': 'USDT (BNB Chain)', 'payment_name': 'Wire Transfer', 'regionId': '/regions/us-fl', 'paymentMethodId': '/payments/wire-transfer', 'cryptoCurrencyId': '/currencies/crypto/56/0x55d398326f99059ff775485246999027b3197955', 'fiatCurrencyId': '/currencies/fiat/usd', 'amount': 51, 'request_time': datetime.datetime(2024, 8, 2, 21, 45, 5, 124846)}\n",
      "'success'\n",
      "\n",
      "200\n"
     ]
    },
    {
     "name": "stderr",
     "output_type": "stream",
     "text": [
      "Scraping quotes:   8%|▊         | 82/1020 [02:07<15:13,  1.03it/s]"
     ]
    },
    {
     "name": "stdout",
     "output_type": "stream",
     "text": [
      "200\n"
     ]
    },
    {
     "name": "stderr",
     "output_type": "stream",
     "text": [
      "Scraping quotes:   8%|▊         | 83/1020 [02:08<14:56,  1.04it/s]"
     ]
    },
    {
     "name": "stdout",
     "output_type": "stream",
     "text": [
      "200\n"
     ]
    },
    {
     "name": "stderr",
     "output_type": "stream",
     "text": [
      "Scraping quotes:   8%|▊         | 85/1020 [02:10<13:36,  1.15it/s]"
     ]
    },
    {
     "name": "stdout",
     "output_type": "stream",
     "text": [
      "500\n",
      "Error scraping {'country': 'US', 'region': 'us-fl', 'crypto_name': 'Ethereum Mainnet', 'payment_name': 'PSE', 'regionId': '/regions/us-fl', 'paymentMethodId': '/payments/pse', 'cryptoCurrencyId': '/currencies/crypto/1/0x0000000000000000000000000000000000000000', 'fiatCurrencyId': '/currencies/fiat/usd', 'amount': 51, 'request_time': datetime.datetime(2024, 8, 2, 21, 45, 9, 150785)}\n",
      "'success'\n",
      "\n"
     ]
    },
    {
     "name": "stderr",
     "output_type": "stream",
     "text": [
      "Scraping quotes:   8%|▊         | 86/1020 [02:11<14:38,  1.06it/s]"
     ]
    },
    {
     "name": "stdout",
     "output_type": "stream",
     "text": [
      "500\n",
      "Error scraping {'country': 'US', 'region': 'us-fl', 'crypto_name': 'USDT (Ethereum)', 'payment_name': 'PSE', 'regionId': '/regions/us-fl', 'paymentMethodId': '/payments/pse', 'cryptoCurrencyId': '/currencies/crypto/1/0xdac17f958d2ee523a2206206994597c13d831ec7', 'fiatCurrencyId': '/currencies/fiat/usd', 'amount': 51, 'request_time': datetime.datetime(2024, 8, 2, 21, 45, 10, 42310)}\n",
      "'success'\n",
      "\n"
     ]
    },
    {
     "name": "stderr",
     "output_type": "stream",
     "text": [
      "Scraping quotes:   9%|▊         | 87/1020 [02:12<15:23,  1.01it/s]"
     ]
    },
    {
     "name": "stdout",
     "output_type": "stream",
     "text": [
      "500\n",
      "Error scraping {'country': 'US', 'region': 'us-fl', 'crypto_name': 'USDT (BNB Chain)', 'payment_name': 'PSE', 'regionId': '/regions/us-fl', 'paymentMethodId': '/payments/pse', 'cryptoCurrencyId': '/currencies/crypto/56/0x55d398326f99059ff775485246999027b3197955', 'fiatCurrencyId': '/currencies/fiat/usd', 'amount': 51, 'request_time': datetime.datetime(2024, 8, 2, 21, 45, 11, 139280)}\n",
      "'success'\n",
      "\n",
      "200\n"
     ]
    },
    {
     "name": "stderr",
     "output_type": "stream",
     "text": [
      "Scraping quotes:   9%|▊         | 88/1020 [02:13<15:27,  1.01it/s]"
     ]
    },
    {
     "name": "stdout",
     "output_type": "stream",
     "text": [
      "200\n"
     ]
    },
    {
     "name": "stderr",
     "output_type": "stream",
     "text": [
      "Scraping quotes:   9%|▊         | 89/1020 [02:14<16:49,  1.08s/it]"
     ]
    },
    {
     "name": "stdout",
     "output_type": "stream",
     "text": [
      "200\n"
     ]
    },
    {
     "name": "stderr",
     "output_type": "stream",
     "text": [
      "Scraping quotes:   9%|▉         | 90/1020 [02:16<20:36,  1.33s/it]"
     ]
    },
    {
     "name": "stdout",
     "output_type": "stream",
     "text": [
      "200\n"
     ]
    },
    {
     "name": "stderr",
     "output_type": "stream",
     "text": [
      "Scraping quotes:   9%|▉         | 91/1020 [02:19<27:36,  1.78s/it]"
     ]
    },
    {
     "name": "stdout",
     "output_type": "stream",
     "text": [
      "200\n"
     ]
    },
    {
     "name": "stderr",
     "output_type": "stream",
     "text": [
      "Scraping quotes:   9%|▉         | 92/1020 [02:21<29:54,  1.93s/it]"
     ]
    },
    {
     "name": "stdout",
     "output_type": "stream",
     "text": [
      "200\n"
     ]
    },
    {
     "name": "stderr",
     "output_type": "stream",
     "text": [
      "Scraping quotes:   9%|▉         | 93/1020 [02:24<33:16,  2.15s/it]"
     ]
    },
    {
     "name": "stdout",
     "output_type": "stream",
     "text": [
      "200\n"
     ]
    },
    {
     "name": "stderr",
     "output_type": "stream",
     "text": [
      "Scraping quotes:   9%|▉         | 94/1020 [02:25<28:23,  1.84s/it]"
     ]
    },
    {
     "name": "stdout",
     "output_type": "stream",
     "text": [
      "200\n"
     ]
    },
    {
     "name": "stderr",
     "output_type": "stream",
     "text": [
      "Scraping quotes:   9%|▉         | 95/1020 [02:26<25:25,  1.65s/it]"
     ]
    },
    {
     "name": "stdout",
     "output_type": "stream",
     "text": [
      "200\n"
     ]
    },
    {
     "name": "stderr",
     "output_type": "stream",
     "text": [
      "Scraping quotes:   9%|▉         | 96/1020 [02:28<23:30,  1.53s/it]"
     ]
    },
    {
     "name": "stdout",
     "output_type": "stream",
     "text": [
      "200\n"
     ]
    },
    {
     "name": "stderr",
     "output_type": "stream",
     "text": [
      "Scraping quotes:  10%|▉         | 97/1020 [02:32<36:53,  2.40s/it]"
     ]
    },
    {
     "name": "stdout",
     "output_type": "stream",
     "text": [
      "200\n"
     ]
    },
    {
     "name": "stderr",
     "output_type": "stream",
     "text": [
      "Scraping quotes:  10%|▉         | 98/1020 [02:34<32:43,  2.13s/it]"
     ]
    },
    {
     "name": "stdout",
     "output_type": "stream",
     "text": [
      "200\n"
     ]
    },
    {
     "name": "stderr",
     "output_type": "stream",
     "text": [
      "Scraping quotes:  10%|▉         | 100/1020 [02:36<24:58,  1.63s/it]"
     ]
    },
    {
     "name": "stdout",
     "output_type": "stream",
     "text": [
      "500\n",
      "Error scraping {'country': 'UK', 'region': 'gb', 'crypto_name': 'Ethereum Mainnet', 'payment_name': 'PSE', 'regionId': '/regions/gb', 'paymentMethodId': '/payments/pse', 'cryptoCurrencyId': '/currencies/crypto/1/0x0000000000000000000000000000000000000000', 'fiatCurrencyId': '/currencies/fiat/gbp', 'amount': 51, 'request_time': datetime.datetime(2024, 8, 2, 21, 45, 34, 980467)}\n",
      "'success'\n",
      "\n"
     ]
    },
    {
     "name": "stderr",
     "output_type": "stream",
     "text": [
      "Scraping quotes:  10%|▉         | 101/1020 [02:38<24:58,  1.63s/it]"
     ]
    },
    {
     "name": "stdout",
     "output_type": "stream",
     "text": [
      "500\n",
      "Error scraping {'country': 'UK', 'region': 'gb', 'crypto_name': 'USDT (Ethereum)', 'payment_name': 'PSE', 'regionId': '/regions/gb', 'paymentMethodId': '/payments/pse', 'cryptoCurrencyId': '/currencies/crypto/1/0xdac17f958d2ee523a2206206994597c13d831ec7', 'fiatCurrencyId': '/currencies/fiat/gbp', 'amount': 51, 'request_time': datetime.datetime(2024, 8, 2, 21, 45, 36, 52506)}\n",
      "'success'\n",
      "\n"
     ]
    },
    {
     "name": "stderr",
     "output_type": "stream",
     "text": [
      "Scraping quotes:  10%|█         | 102/1020 [02:40<31:05,  2.03s/it]"
     ]
    },
    {
     "name": "stdout",
     "output_type": "stream",
     "text": [
      "500\n",
      "Error scraping {'country': 'UK', 'region': 'gb', 'crypto_name': 'USDT (BNB Chain)', 'payment_name': 'PSE', 'regionId': '/regions/gb', 'paymentMethodId': '/payments/pse', 'cryptoCurrencyId': '/currencies/crypto/56/0x55d398326f99059ff775485246999027b3197955', 'fiatCurrencyId': '/currencies/fiat/gbp', 'amount': 51, 'request_time': datetime.datetime(2024, 8, 2, 21, 45, 37, 689625)}\n",
      "'success'\n",
      "\n",
      "200\n"
     ]
    },
    {
     "name": "stderr",
     "output_type": "stream",
     "text": [
      "Scraping quotes:  10%|█         | 103/1020 [02:43<34:33,  2.26s/it]"
     ]
    },
    {
     "name": "stdout",
     "output_type": "stream",
     "text": [
      "200\n"
     ]
    },
    {
     "name": "stderr",
     "output_type": "stream",
     "text": [
      "Scraping quotes:  10%|█         | 104/1020 [02:47<39:42,  2.60s/it]"
     ]
    },
    {
     "name": "stdout",
     "output_type": "stream",
     "text": [
      "200\n"
     ]
    },
    {
     "name": "stderr",
     "output_type": "stream",
     "text": [
      "Scraping quotes:  10%|█         | 105/1020 [02:49<38:25,  2.52s/it]"
     ]
    },
    {
     "name": "stdout",
     "output_type": "stream",
     "text": [
      "200\n"
     ]
    },
    {
     "name": "stderr",
     "output_type": "stream",
     "text": [
      "Scraping quotes:  10%|█         | 106/1020 [02:52<38:40,  2.54s/it]"
     ]
    },
    {
     "name": "stdout",
     "output_type": "stream",
     "text": [
      "200\n"
     ]
    },
    {
     "name": "stderr",
     "output_type": "stream",
     "text": [
      "Scraping quotes:  10%|█         | 107/1020 [02:54<38:58,  2.56s/it]"
     ]
    },
    {
     "name": "stdout",
     "output_type": "stream",
     "text": [
      "200\n"
     ]
    },
    {
     "name": "stderr",
     "output_type": "stream",
     "text": [
      "Scraping quotes:  11%|█         | 108/1020 [02:56<37:40,  2.48s/it]"
     ]
    },
    {
     "name": "stdout",
     "output_type": "stream",
     "text": [
      "200\n"
     ]
    },
    {
     "name": "stderr",
     "output_type": "stream",
     "text": [
      "Scraping quotes:  11%|█         | 109/1020 [02:59<37:58,  2.50s/it]"
     ]
    },
    {
     "name": "stdout",
     "output_type": "stream",
     "text": [
      "200\n"
     ]
    },
    {
     "name": "stderr",
     "output_type": "stream",
     "text": [
      "Scraping quotes:  11%|█         | 110/1020 [03:02<37:49,  2.49s/it]"
     ]
    },
    {
     "name": "stdout",
     "output_type": "stream",
     "text": [
      "200\n"
     ]
    },
    {
     "name": "stderr",
     "output_type": "stream",
     "text": [
      "Scraping quotes:  11%|█         | 111/1020 [03:05<40:45,  2.69s/it]"
     ]
    },
    {
     "name": "stdout",
     "output_type": "stream",
     "text": [
      "200\n"
     ]
    },
    {
     "name": "stderr",
     "output_type": "stream",
     "text": [
      "Scraping quotes:  11%|█         | 112/1020 [03:06<35:04,  2.32s/it]"
     ]
    },
    {
     "name": "stdout",
     "output_type": "stream",
     "text": [
      "200\n"
     ]
    },
    {
     "name": "stderr",
     "output_type": "stream",
     "text": [
      "Scraping quotes:  11%|█         | 113/1020 [03:07<30:02,  1.99s/it]"
     ]
    },
    {
     "name": "stdout",
     "output_type": "stream",
     "text": [
      "200\n"
     ]
    },
    {
     "name": "stderr",
     "output_type": "stream",
     "text": [
      "Scraping quotes:  11%|█▏        | 115/1020 [03:10<25:32,  1.69s/it]"
     ]
    },
    {
     "name": "stdout",
     "output_type": "stream",
     "text": [
      "500\n",
      "Error scraping {'country': 'DE', 'region': 'de', 'crypto_name': 'Ethereum Mainnet', 'payment_name': 'PSE', 'regionId': '/regions/de', 'paymentMethodId': '/payments/pse', 'cryptoCurrencyId': '/currencies/crypto/1/0x0000000000000000000000000000000000000000', 'fiatCurrencyId': '/currencies/fiat/eur', 'amount': 72, 'request_time': datetime.datetime(2024, 8, 2, 21, 46, 8, 855699)}\n",
      "'success'\n",
      "\n"
     ]
    },
    {
     "name": "stderr",
     "output_type": "stream",
     "text": [
      "Scraping quotes:  11%|█▏        | 116/1020 [03:11<21:16,  1.41s/it]"
     ]
    },
    {
     "name": "stdout",
     "output_type": "stream",
     "text": [
      "500\n",
      "Error scraping {'country': 'DE', 'region': 'de', 'crypto_name': 'USDT (Ethereum)', 'payment_name': 'PSE', 'regionId': '/regions/de', 'paymentMethodId': '/payments/pse', 'cryptoCurrencyId': '/currencies/crypto/1/0xdac17f958d2ee523a2206206994597c13d831ec7', 'fiatCurrencyId': '/currencies/fiat/eur', 'amount': 72, 'request_time': datetime.datetime(2024, 8, 2, 21, 46, 10, 306370)}\n",
      "'success'\n",
      "\n",
      "500\n",
      "Error scraping {'country': 'DE', 'region': 'de', 'crypto_name': 'USDT (BNB Chain)', 'payment_name': 'PSE', 'regionId': '/regions/de', 'paymentMethodId': '/payments/pse', 'cryptoCurrencyId': '/currencies/crypto/56/0x55d398326f99059ff775485246999027b3197955', 'fiatCurrencyId': '/currencies/fiat/eur', 'amount': 72, 'request_time': datetime.datetime(2024, 8, 2, 21, 46, 11, 62525)}\n",
      "'success'\n",
      "\n"
     ]
    },
    {
     "name": "stderr",
     "output_type": "stream",
     "text": [
      "Scraping quotes:  11%|█▏        | 117/1020 [03:12<20:28,  1.36s/it]"
     ]
    },
    {
     "name": "stdout",
     "output_type": "stream",
     "text": [
      "200\n"
     ]
    },
    {
     "name": "stderr",
     "output_type": "stream",
     "text": [
      "Scraping quotes:  12%|█▏        | 118/1020 [03:14<24:33,  1.63s/it]"
     ]
    },
    {
     "name": "stdout",
     "output_type": "stream",
     "text": [
      "200\n"
     ]
    },
    {
     "name": "stderr",
     "output_type": "stream",
     "text": [
      "Scraping quotes:  12%|█▏        | 119/1020 [03:17<27:18,  1.82s/it]"
     ]
    },
    {
     "name": "stdout",
     "output_type": "stream",
     "text": [
      "200\n"
     ]
    },
    {
     "name": "stderr",
     "output_type": "stream",
     "text": [
      "Scraping quotes:  12%|█▏        | 120/1020 [03:19<29:18,  1.95s/it]"
     ]
    },
    {
     "name": "stdout",
     "output_type": "stream",
     "text": [
      "200\n"
     ]
    },
    {
     "name": "stderr",
     "output_type": "stream",
     "text": [
      "Scraping quotes:  12%|█▏        | 121/1020 [03:22<32:29,  2.17s/it]"
     ]
    },
    {
     "name": "stdout",
     "output_type": "stream",
     "text": [
      "200\n"
     ]
    },
    {
     "name": "stderr",
     "output_type": "stream",
     "text": [
      "Scraping quotes:  12%|█▏        | 122/1020 [03:24<33:40,  2.25s/it]"
     ]
    },
    {
     "name": "stdout",
     "output_type": "stream",
     "text": [
      "200\n"
     ]
    },
    {
     "name": "stderr",
     "output_type": "stream",
     "text": [
      "Scraping quotes:  12%|█▏        | 123/1020 [03:26<33:40,  2.25s/it]"
     ]
    },
    {
     "name": "stdout",
     "output_type": "stream",
     "text": [
      "200\n"
     ]
    },
    {
     "name": "stderr",
     "output_type": "stream",
     "text": [
      "Scraping quotes:  12%|█▏        | 124/1020 [03:27<26:44,  1.79s/it]"
     ]
    },
    {
     "name": "stdout",
     "output_type": "stream",
     "text": [
      "200\n"
     ]
    },
    {
     "name": "stderr",
     "output_type": "stream",
     "text": [
      "Scraping quotes:  12%|█▏        | 125/1020 [03:28<22:53,  1.53s/it]"
     ]
    },
    {
     "name": "stdout",
     "output_type": "stream",
     "text": [
      "200\n"
     ]
    },
    {
     "name": "stderr",
     "output_type": "stream",
     "text": [
      "Scraping quotes:  12%|█▏        | 126/1020 [03:29<19:10,  1.29s/it]"
     ]
    },
    {
     "name": "stdout",
     "output_type": "stream",
     "text": [
      "200\n"
     ]
    },
    {
     "name": "stderr",
     "output_type": "stream",
     "text": [
      "Scraping quotes:  12%|█▏        | 127/1020 [03:30<17:31,  1.18s/it]"
     ]
    },
    {
     "name": "stdout",
     "output_type": "stream",
     "text": [
      "200\n"
     ]
    },
    {
     "name": "stderr",
     "output_type": "stream",
     "text": [
      "Scraping quotes:  13%|█▎        | 128/1020 [03:31<17:16,  1.16s/it]"
     ]
    },
    {
     "name": "stdout",
     "output_type": "stream",
     "text": [
      "500\n",
      "Error scraping {'country': 'US', 'region': 'us-fl', 'crypto_name': 'USDT (BNB Chain)', 'payment_name': 'Instant ACH Bank Transfer', 'regionId': '/regions/us-fl', 'paymentMethodId': '/payments/instant-bank-transfer', 'cryptoCurrencyId': '/currencies/crypto/56/0x55d398326f99059ff775485246999027b3197955', 'fiatCurrencyId': '/currencies/fiat/usd', 'amount': 72, 'request_time': datetime.datetime(2024, 8, 2, 21, 46, 30, 873298)}\n",
      "'success'\n",
      "\n"
     ]
    },
    {
     "name": "stderr",
     "output_type": "stream",
     "text": [
      "Scraping quotes:  13%|█▎        | 130/1020 [03:32<13:01,  1.14it/s]"
     ]
    },
    {
     "name": "stdout",
     "output_type": "stream",
     "text": [
      "500\n",
      "Error scraping {'country': 'US', 'region': 'us-fl', 'crypto_name': 'Ethereum Mainnet', 'payment_name': 'Wire Transfer', 'regionId': '/regions/us-fl', 'paymentMethodId': '/payments/wire-transfer', 'cryptoCurrencyId': '/currencies/crypto/1/0x0000000000000000000000000000000000000000', 'fiatCurrencyId': '/currencies/fiat/usd', 'amount': 72, 'request_time': datetime.datetime(2024, 8, 2, 21, 46, 31, 448968)}\n",
      "'success'\n",
      "\n",
      "500\n",
      "Error scraping {'country': 'US', 'region': 'us-fl', 'crypto_name': 'USDT (Ethereum)', 'payment_name': 'Wire Transfer', 'regionId': '/regions/us-fl', 'paymentMethodId': '/payments/wire-transfer', 'cryptoCurrencyId': '/currencies/crypto/1/0xdac17f958d2ee523a2206206994597c13d831ec7', 'fiatCurrencyId': '/currencies/fiat/usd', 'amount': 72, 'request_time': datetime.datetime(2024, 8, 2, 21, 46, 32, 69911)}\n",
      "'success'\n",
      "\n"
     ]
    },
    {
     "name": "stderr",
     "output_type": "stream",
     "text": [
      "Scraping quotes:  13%|█▎        | 132/1020 [03:34<15:05,  1.02s/it]"
     ]
    },
    {
     "name": "stdout",
     "output_type": "stream",
     "text": [
      "500\n",
      "Error scraping {'country': 'US', 'region': 'us-fl', 'crypto_name': 'USDT (BNB Chain)', 'payment_name': 'Wire Transfer', 'regionId': '/regions/us-fl', 'paymentMethodId': '/payments/wire-transfer', 'cryptoCurrencyId': '/currencies/crypto/56/0x55d398326f99059ff775485246999027b3197955', 'fiatCurrencyId': '/currencies/fiat/usd', 'amount': 72, 'request_time': datetime.datetime(2024, 8, 2, 21, 46, 33, 704802)}\n",
      "'success'\n",
      "\n",
      "200\n"
     ]
    },
    {
     "name": "stderr",
     "output_type": "stream",
     "text": [
      "Scraping quotes:  13%|█▎        | 133/1020 [03:35<14:46,  1.00it/s]"
     ]
    },
    {
     "name": "stdout",
     "output_type": "stream",
     "text": [
      "200\n"
     ]
    },
    {
     "name": "stderr",
     "output_type": "stream",
     "text": [
      "Scraping quotes:  13%|█▎        | 134/1020 [03:37<19:01,  1.29s/it]"
     ]
    },
    {
     "name": "stdout",
     "output_type": "stream",
     "text": [
      "200\n"
     ]
    },
    {
     "name": "stderr",
     "output_type": "stream",
     "text": [
      "Scraping quotes:  13%|█▎        | 136/1020 [03:39<16:47,  1.14s/it]"
     ]
    },
    {
     "name": "stdout",
     "output_type": "stream",
     "text": [
      "500\n",
      "Error scraping {'country': 'US', 'region': 'us-fl', 'crypto_name': 'Ethereum Mainnet', 'payment_name': 'PSE', 'regionId': '/regions/us-fl', 'paymentMethodId': '/payments/pse', 'cryptoCurrencyId': '/currencies/crypto/1/0x0000000000000000000000000000000000000000', 'fiatCurrencyId': '/currencies/fiat/usd', 'amount': 72, 'request_time': datetime.datetime(2024, 8, 2, 21, 46, 38, 442460)}\n",
      "'success'\n",
      "\n"
     ]
    },
    {
     "name": "stderr",
     "output_type": "stream",
     "text": [
      "Scraping quotes:  13%|█▎        | 137/1020 [03:40<15:58,  1.09s/it]"
     ]
    },
    {
     "name": "stdout",
     "output_type": "stream",
     "text": [
      "500\n",
      "Error scraping {'country': 'US', 'region': 'us-fl', 'crypto_name': 'USDT (Ethereum)', 'payment_name': 'PSE', 'regionId': '/regions/us-fl', 'paymentMethodId': '/payments/pse', 'cryptoCurrencyId': '/currencies/crypto/1/0xdac17f958d2ee523a2206206994597c13d831ec7', 'fiatCurrencyId': '/currencies/fiat/usd', 'amount': 72, 'request_time': datetime.datetime(2024, 8, 2, 21, 46, 39, 435893)}\n",
      "'success'\n",
      "\n",
      "500\n",
      "Error scraping {'country': 'US', 'region': 'us-fl', 'crypto_name': 'USDT (BNB Chain)', 'payment_name': 'PSE', 'regionId': '/regions/us-fl', 'paymentMethodId': '/payments/pse', 'cryptoCurrencyId': '/currencies/crypto/56/0x55d398326f99059ff775485246999027b3197955', 'fiatCurrencyId': '/currencies/fiat/usd', 'amount': 72, 'request_time': datetime.datetime(2024, 8, 2, 21, 46, 40, 395698)}\n",
      "'success'\n",
      "\n"
     ]
    },
    {
     "name": "stderr",
     "output_type": "stream",
     "text": [
      "Scraping quotes:  14%|█▎        | 138/1020 [03:41<15:31,  1.06s/it]"
     ]
    },
    {
     "name": "stdout",
     "output_type": "stream",
     "text": [
      "200\n"
     ]
    },
    {
     "name": "stderr",
     "output_type": "stream",
     "text": [
      "Scraping quotes:  14%|█▎        | 139/1020 [03:43<18:14,  1.24s/it]"
     ]
    },
    {
     "name": "stdout",
     "output_type": "stream",
     "text": [
      "200\n"
     ]
    },
    {
     "name": "stderr",
     "output_type": "stream",
     "text": [
      "Scraping quotes:  14%|█▎        | 140/1020 [03:44<18:46,  1.28s/it]"
     ]
    },
    {
     "name": "stdout",
     "output_type": "stream",
     "text": [
      "200\n"
     ]
    },
    {
     "name": "stderr",
     "output_type": "stream",
     "text": [
      "Scraping quotes:  14%|█▍        | 141/1020 [03:46<19:12,  1.31s/it]"
     ]
    },
    {
     "name": "stdout",
     "output_type": "stream",
     "text": [
      "200\n"
     ]
    },
    {
     "name": "stderr",
     "output_type": "stream",
     "text": [
      "Scraping quotes:  14%|█▍        | 142/1020 [03:48<23:21,  1.60s/it]"
     ]
    },
    {
     "name": "stdout",
     "output_type": "stream",
     "text": [
      "200\n"
     ]
    },
    {
     "name": "stderr",
     "output_type": "stream",
     "text": [
      "Scraping quotes:  14%|█▍        | 143/1020 [03:50<25:18,  1.73s/it]"
     ]
    },
    {
     "name": "stdout",
     "output_type": "stream",
     "text": [
      "200\n"
     ]
    },
    {
     "name": "stderr",
     "output_type": "stream",
     "text": [
      "Scraping quotes:  14%|█▍        | 144/1020 [03:53<29:57,  2.05s/it]"
     ]
    },
    {
     "name": "stdout",
     "output_type": "stream",
     "text": [
      "200\n"
     ]
    },
    {
     "name": "stderr",
     "output_type": "stream",
     "text": [
      "Scraping quotes:  14%|█▍        | 145/1020 [03:54<28:01,  1.92s/it]"
     ]
    },
    {
     "name": "stdout",
     "output_type": "stream",
     "text": [
      "200\n"
     ]
    },
    {
     "name": "stderr",
     "output_type": "stream",
     "text": [
      "Scraping quotes:  14%|█▍        | 146/1020 [03:57<32:42,  2.25s/it]"
     ]
    },
    {
     "name": "stdout",
     "output_type": "stream",
     "text": [
      "200\n"
     ]
    },
    {
     "name": "stderr",
     "output_type": "stream",
     "text": [
      "Scraping quotes:  14%|█▍        | 147/1020 [03:58<26:44,  1.84s/it]"
     ]
    },
    {
     "name": "stdout",
     "output_type": "stream",
     "text": [
      "200\n"
     ]
    },
    {
     "name": "stderr",
     "output_type": "stream",
     "text": [
      "Scraping quotes:  15%|█▍        | 148/1020 [03:59<23:39,  1.63s/it]"
     ]
    },
    {
     "name": "stdout",
     "output_type": "stream",
     "text": [
      "200\n"
     ]
    },
    {
     "name": "stderr",
     "output_type": "stream",
     "text": [
      "Scraping quotes:  15%|█▍        | 149/1020 [04:01<23:13,  1.60s/it]"
     ]
    },
    {
     "name": "stdout",
     "output_type": "stream",
     "text": [
      "200\n"
     ]
    },
    {
     "name": "stderr",
     "output_type": "stream",
     "text": [
      "Scraping quotes:  15%|█▍        | 150/1020 [04:03<24:07,  1.66s/it]"
     ]
    },
    {
     "name": "stdout",
     "output_type": "stream",
     "text": [
      "500\n",
      "Error scraping {'country': 'UK', 'region': 'gb', 'crypto_name': 'Ethereum Mainnet', 'payment_name': 'PSE', 'regionId': '/regions/gb', 'paymentMethodId': '/payments/pse', 'cryptoCurrencyId': '/currencies/crypto/1/0x0000000000000000000000000000000000000000', 'fiatCurrencyId': '/currencies/fiat/gbp', 'amount': 72, 'request_time': datetime.datetime(2024, 8, 2, 21, 47, 2, 921185)}\n",
      "'success'\n",
      "\n"
     ]
    },
    {
     "name": "stderr",
     "output_type": "stream",
     "text": [
      "Scraping quotes:  15%|█▍        | 152/1020 [04:04<18:12,  1.26s/it]"
     ]
    },
    {
     "name": "stdout",
     "output_type": "stream",
     "text": [
      "500\n",
      "Error scraping {'country': 'UK', 'region': 'gb', 'crypto_name': 'USDT (Ethereum)', 'payment_name': 'PSE', 'regionId': '/regions/gb', 'paymentMethodId': '/payments/pse', 'cryptoCurrencyId': '/currencies/crypto/1/0xdac17f958d2ee523a2206206994597c13d831ec7', 'fiatCurrencyId': '/currencies/fiat/gbp', 'amount': 72, 'request_time': datetime.datetime(2024, 8, 2, 21, 47, 3, 704708)}\n",
      "'success'\n",
      "\n"
     ]
    },
    {
     "name": "stderr",
     "output_type": "stream",
     "text": [
      "Scraping quotes:  15%|█▌        | 153/1020 [04:05<17:10,  1.19s/it]"
     ]
    },
    {
     "name": "stdout",
     "output_type": "stream",
     "text": [
      "500\n",
      "Error scraping {'country': 'UK', 'region': 'gb', 'crypto_name': 'USDT (BNB Chain)', 'payment_name': 'PSE', 'regionId': '/regions/gb', 'paymentMethodId': '/payments/pse', 'cryptoCurrencyId': '/currencies/crypto/56/0x55d398326f99059ff775485246999027b3197955', 'fiatCurrencyId': '/currencies/fiat/gbp', 'amount': 72, 'request_time': datetime.datetime(2024, 8, 2, 21, 47, 4, 625643)}\n",
      "'success'\n",
      "\n",
      "200\n"
     ]
    },
    {
     "name": "stderr",
     "output_type": "stream",
     "text": [
      "Scraping quotes:  15%|█▌        | 154/1020 [04:08<23:19,  1.62s/it]"
     ]
    },
    {
     "name": "stdout",
     "output_type": "stream",
     "text": [
      "200\n"
     ]
    },
    {
     "name": "stderr",
     "output_type": "stream",
     "text": [
      "Scraping quotes:  15%|█▌        | 155/1020 [04:11<28:10,  1.95s/it]"
     ]
    },
    {
     "name": "stdout",
     "output_type": "stream",
     "text": [
      "200\n"
     ]
    },
    {
     "name": "stderr",
     "output_type": "stream",
     "text": [
      "Scraping quotes:  15%|█▌        | 156/1020 [04:15<36:07,  2.51s/it]"
     ]
    },
    {
     "name": "stdout",
     "output_type": "stream",
     "text": [
      "200\n"
     ]
    },
    {
     "name": "stderr",
     "output_type": "stream",
     "text": [
      "Scraping quotes:  15%|█▌        | 157/1020 [04:17<35:50,  2.49s/it]"
     ]
    },
    {
     "name": "stdout",
     "output_type": "stream",
     "text": [
      "200\n"
     ]
    },
    {
     "name": "stderr",
     "output_type": "stream",
     "text": [
      "Scraping quotes:  15%|█▌        | 158/1020 [04:19<35:08,  2.45s/it]"
     ]
    },
    {
     "name": "stdout",
     "output_type": "stream",
     "text": [
      "200\n"
     ]
    },
    {
     "name": "stderr",
     "output_type": "stream",
     "text": [
      "Scraping quotes:  16%|█▌        | 159/1020 [04:21<32:32,  2.27s/it]"
     ]
    },
    {
     "name": "stdout",
     "output_type": "stream",
     "text": [
      "200\n"
     ]
    },
    {
     "name": "stderr",
     "output_type": "stream",
     "text": [
      "Scraping quotes:  16%|█▌        | 160/1020 [04:24<33:26,  2.33s/it]"
     ]
    },
    {
     "name": "stdout",
     "output_type": "stream",
     "text": [
      "200\n"
     ]
    },
    {
     "name": "stderr",
     "output_type": "stream",
     "text": [
      "Scraping quotes:  16%|█▌        | 161/1020 [04:26<34:42,  2.42s/it]"
     ]
    },
    {
     "name": "stdout",
     "output_type": "stream",
     "text": [
      "200\n"
     ]
    },
    {
     "name": "stderr",
     "output_type": "stream",
     "text": [
      "Scraping quotes:  16%|█▌        | 162/1020 [04:29<33:28,  2.34s/it]"
     ]
    },
    {
     "name": "stdout",
     "output_type": "stream",
     "text": [
      "200\n"
     ]
    },
    {
     "name": "stderr",
     "output_type": "stream",
     "text": [
      "Scraping quotes:  16%|█▌        | 163/1020 [04:30<31:21,  2.20s/it]"
     ]
    },
    {
     "name": "stdout",
     "output_type": "stream",
     "text": [
      "200\n"
     ]
    },
    {
     "name": "stderr",
     "output_type": "stream",
     "text": [
      "Scraping quotes:  16%|█▌        | 164/1020 [04:32<27:30,  1.93s/it]"
     ]
    },
    {
     "name": "stdout",
     "output_type": "stream",
     "text": [
      "200\n"
     ]
    },
    {
     "name": "stderr",
     "output_type": "stream",
     "text": [
      "Scraping quotes:  16%|█▋        | 166/1020 [04:34<21:24,  1.50s/it]"
     ]
    },
    {
     "name": "stdout",
     "output_type": "stream",
     "text": [
      "500\n",
      "Error scraping {'country': 'DE', 'region': 'de', 'crypto_name': 'Ethereum Mainnet', 'payment_name': 'PSE', 'regionId': '/regions/de', 'paymentMethodId': '/payments/pse', 'cryptoCurrencyId': '/currencies/crypto/1/0x0000000000000000000000000000000000000000', 'fiatCurrencyId': '/currencies/fiat/eur', 'amount': 102, 'request_time': datetime.datetime(2024, 8, 2, 21, 47, 33, 158335)}\n",
      "'success'\n",
      "\n"
     ]
    },
    {
     "name": "stderr",
     "output_type": "stream",
     "text": [
      "Scraping quotes:  16%|█▋        | 167/1020 [04:35<18:06,  1.27s/it]"
     ]
    },
    {
     "name": "stdout",
     "output_type": "stream",
     "text": [
      "500\n",
      "Error scraping {'country': 'DE', 'region': 'de', 'crypto_name': 'USDT (Ethereum)', 'payment_name': 'PSE', 'regionId': '/regions/de', 'paymentMethodId': '/payments/pse', 'cryptoCurrencyId': '/currencies/crypto/1/0xdac17f958d2ee523a2206206994597c13d831ec7', 'fiatCurrencyId': '/currencies/fiat/eur', 'amount': 102, 'request_time': datetime.datetime(2024, 8, 2, 21, 47, 34, 121940)}\n",
      "'success'\n",
      "\n",
      "500\n",
      "Error scraping {'country': 'DE', 'region': 'de', 'crypto_name': 'USDT (BNB Chain)', 'payment_name': 'PSE', 'regionId': '/regions/de', 'paymentMethodId': '/payments/pse', 'cryptoCurrencyId': '/currencies/crypto/56/0x55d398326f99059ff775485246999027b3197955', 'fiatCurrencyId': '/currencies/fiat/eur', 'amount': 102, 'request_time': datetime.datetime(2024, 8, 2, 21, 47, 34, 855252)}\n",
      "'success'\n",
      "\n"
     ]
    },
    {
     "name": "stderr",
     "output_type": "stream",
     "text": [
      "Scraping quotes:  16%|█▋        | 168/1020 [04:36<17:48,  1.25s/it]"
     ]
    },
    {
     "name": "stdout",
     "output_type": "stream",
     "text": [
      "200\n"
     ]
    },
    {
     "name": "stderr",
     "output_type": "stream",
     "text": [
      "Scraping quotes:  17%|█▋        | 169/1020 [04:38<22:32,  1.59s/it]"
     ]
    },
    {
     "name": "stdout",
     "output_type": "stream",
     "text": [
      "200\n"
     ]
    },
    {
     "name": "stderr",
     "output_type": "stream",
     "text": [
      "Scraping quotes:  17%|█▋        | 170/1020 [04:41<25:51,  1.83s/it]"
     ]
    },
    {
     "name": "stdout",
     "output_type": "stream",
     "text": [
      "200\n"
     ]
    },
    {
     "name": "stderr",
     "output_type": "stream",
     "text": [
      "Scraping quotes:  17%|█▋        | 171/1020 [04:43<27:38,  1.95s/it]"
     ]
    },
    {
     "name": "stdout",
     "output_type": "stream",
     "text": [
      "200\n"
     ]
    },
    {
     "name": "stderr",
     "output_type": "stream",
     "text": [
      "Scraping quotes:  17%|█▋        | 172/1020 [04:45<29:40,  2.10s/it]"
     ]
    },
    {
     "name": "stdout",
     "output_type": "stream",
     "text": [
      "200\n"
     ]
    },
    {
     "name": "stderr",
     "output_type": "stream",
     "text": [
      "Scraping quotes:  17%|█▋        | 173/1020 [04:49<35:30,  2.52s/it]"
     ]
    },
    {
     "name": "stdout",
     "output_type": "stream",
     "text": [
      "200\n"
     ]
    },
    {
     "name": "stderr",
     "output_type": "stream",
     "text": [
      "Scraping quotes:  17%|█▋        | 174/1020 [04:51<34:32,  2.45s/it]"
     ]
    },
    {
     "name": "stdout",
     "output_type": "stream",
     "text": [
      "200\n"
     ]
    },
    {
     "name": "stderr",
     "output_type": "stream",
     "text": [
      "Scraping quotes:  17%|█▋        | 175/1020 [04:52<27:56,  1.98s/it]"
     ]
    },
    {
     "name": "stdout",
     "output_type": "stream",
     "text": [
      "200\n"
     ]
    },
    {
     "name": "stderr",
     "output_type": "stream",
     "text": [
      "Scraping quotes:  17%|█▋        | 176/1020 [04:53<24:15,  1.72s/it]"
     ]
    },
    {
     "name": "stdout",
     "output_type": "stream",
     "text": [
      "200\n"
     ]
    },
    {
     "name": "stderr",
     "output_type": "stream",
     "text": [
      "Scraping quotes:  17%|█▋        | 177/1020 [04:54<20:09,  1.43s/it]"
     ]
    },
    {
     "name": "stdout",
     "output_type": "stream",
     "text": [
      "200\n"
     ]
    },
    {
     "name": "stderr",
     "output_type": "stream",
     "text": [
      "Scraping quotes:  17%|█▋        | 178/1020 [04:55<18:13,  1.30s/it]"
     ]
    },
    {
     "name": "stdout",
     "output_type": "stream",
     "text": [
      "200\n"
     ]
    },
    {
     "name": "stderr",
     "output_type": "stream",
     "text": [
      "Scraping quotes:  18%|█▊        | 180/1020 [04:57<14:46,  1.06s/it]"
     ]
    },
    {
     "name": "stdout",
     "output_type": "stream",
     "text": [
      "500\n",
      "Error scraping {'country': 'US', 'region': 'us-fl', 'crypto_name': 'USDT (BNB Chain)', 'payment_name': 'Instant ACH Bank Transfer', 'regionId': '/regions/us-fl', 'paymentMethodId': '/payments/instant-bank-transfer', 'cryptoCurrencyId': '/currencies/crypto/56/0x55d398326f99059ff775485246999027b3197955', 'fiatCurrencyId': '/currencies/fiat/usd', 'amount': 102, 'request_time': datetime.datetime(2024, 8, 2, 21, 47, 56, 62708)}\n",
      "'success'\n",
      "\n"
     ]
    },
    {
     "name": "stderr",
     "output_type": "stream",
     "text": [
      "Scraping quotes:  18%|█▊        | 181/1020 [04:57<14:10,  1.01s/it]"
     ]
    },
    {
     "name": "stdout",
     "output_type": "stream",
     "text": [
      "500\n",
      "Error scraping {'country': 'US', 'region': 'us-fl', 'crypto_name': 'Ethereum Mainnet', 'payment_name': 'Wire Transfer', 'regionId': '/regions/us-fl', 'paymentMethodId': '/payments/wire-transfer', 'cryptoCurrencyId': '/currencies/crypto/1/0x0000000000000000000000000000000000000000', 'fiatCurrencyId': '/currencies/fiat/usd', 'amount': 102, 'request_time': datetime.datetime(2024, 8, 2, 21, 47, 56, 749640)}\n",
      "'success'\n",
      "\n"
     ]
    },
    {
     "name": "stderr",
     "output_type": "stream",
     "text": [
      "Scraping quotes:  18%|█▊        | 182/1020 [04:59<17:40,  1.27s/it]"
     ]
    },
    {
     "name": "stdout",
     "output_type": "stream",
     "text": [
      "500\n",
      "Error scraping {'country': 'US', 'region': 'us-fl', 'crypto_name': 'USDT (Ethereum)', 'payment_name': 'Wire Transfer', 'regionId': '/regions/us-fl', 'paymentMethodId': '/payments/wire-transfer', 'cryptoCurrencyId': '/currencies/crypto/1/0xdac17f958d2ee523a2206206994597c13d831ec7', 'fiatCurrencyId': '/currencies/fiat/usd', 'amount': 102, 'request_time': datetime.datetime(2024, 8, 2, 21, 47, 57, 663005)}\n",
      "'success'\n",
      "\n",
      "500\n",
      "Error scraping {'country': 'US', 'region': 'us-fl', 'crypto_name': 'USDT (BNB Chain)', 'payment_name': 'Wire Transfer', 'regionId': '/regions/us-fl', 'paymentMethodId': '/payments/wire-transfer', 'cryptoCurrencyId': '/currencies/crypto/56/0x55d398326f99059ff775485246999027b3197955', 'fiatCurrencyId': '/currencies/fiat/usd', 'amount': 102, 'request_time': datetime.datetime(2024, 8, 2, 21, 47, 59, 515897)}\n",
      "'success'\n",
      "\n"
     ]
    },
    {
     "name": "stderr",
     "output_type": "stream",
     "text": [
      "Scraping quotes:  18%|█▊        | 183/1020 [05:00<16:15,  1.17s/it]"
     ]
    },
    {
     "name": "stdout",
     "output_type": "stream",
     "text": [
      "200\n"
     ]
    },
    {
     "name": "stderr",
     "output_type": "stream",
     "text": [
      "Scraping quotes:  18%|█▊        | 184/1020 [05:02<19:32,  1.40s/it]"
     ]
    },
    {
     "name": "stdout",
     "output_type": "stream",
     "text": [
      "200\n"
     ]
    },
    {
     "name": "stderr",
     "output_type": "stream",
     "text": [
      "Scraping quotes:  18%|█▊        | 185/1020 [05:03<16:41,  1.20s/it]"
     ]
    },
    {
     "name": "stdout",
     "output_type": "stream",
     "text": [
      "200\n"
     ]
    },
    {
     "name": "stderr",
     "output_type": "stream",
     "text": [
      "Scraping quotes:  18%|█▊        | 187/1020 [05:07<24:53,  1.79s/it]"
     ]
    },
    {
     "name": "stdout",
     "output_type": "stream",
     "text": [
      "500\n",
      "Error scraping {'country': 'US', 'region': 'us-fl', 'crypto_name': 'Ethereum Mainnet', 'payment_name': 'PSE', 'regionId': '/regions/us-fl', 'paymentMethodId': '/payments/pse', 'cryptoCurrencyId': '/currencies/crypto/1/0x0000000000000000000000000000000000000000', 'fiatCurrencyId': '/currencies/fiat/usd', 'amount': 102, 'request_time': datetime.datetime(2024, 8, 2, 21, 48, 3, 826476)}\n",
      "'success'\n",
      "\n"
     ]
    },
    {
     "name": "stderr",
     "output_type": "stream",
     "text": [
      "Scraping quotes:  18%|█▊        | 188/1020 [05:09<24:36,  1.77s/it]"
     ]
    },
    {
     "name": "stdout",
     "output_type": "stream",
     "text": [
      "500\n",
      "Error scraping {'country': 'US', 'region': 'us-fl', 'crypto_name': 'USDT (Ethereum)', 'payment_name': 'PSE', 'regionId': '/regions/us-fl', 'paymentMethodId': '/payments/pse', 'cryptoCurrencyId': '/currencies/crypto/1/0xdac17f958d2ee523a2206206994597c13d831ec7', 'fiatCurrencyId': '/currencies/fiat/usd', 'amount': 102, 'request_time': datetime.datetime(2024, 8, 2, 21, 48, 7, 354706)}\n",
      "'success'\n",
      "\n",
      "500\n",
      "Error scraping {'country': 'US', 'region': 'us-fl', 'crypto_name': 'USDT (BNB Chain)', 'payment_name': 'PSE', 'regionId': '/regions/us-fl', 'paymentMethodId': '/payments/pse', 'cryptoCurrencyId': '/currencies/crypto/56/0x55d398326f99059ff775485246999027b3197955', 'fiatCurrencyId': '/currencies/fiat/usd', 'amount': 102, 'request_time': datetime.datetime(2024, 8, 2, 21, 48, 9, 90004)}\n",
      "'success'\n",
      "\n"
     ]
    },
    {
     "name": "stderr",
     "output_type": "stream",
     "text": [
      "Scraping quotes:  19%|█▊        | 189/1020 [05:13<32:18,  2.33s/it]"
     ]
    },
    {
     "name": "stdout",
     "output_type": "stream",
     "text": [
      "200\n"
     ]
    },
    {
     "name": "stderr",
     "output_type": "stream",
     "text": [
      "Scraping quotes:  19%|█▊        | 190/1020 [05:14<27:34,  1.99s/it]"
     ]
    },
    {
     "name": "stdout",
     "output_type": "stream",
     "text": [
      "200\n"
     ]
    },
    {
     "name": "stderr",
     "output_type": "stream",
     "text": [
      "Scraping quotes:  19%|█▊        | 191/1020 [05:15<24:36,  1.78s/it]"
     ]
    },
    {
     "name": "stdout",
     "output_type": "stream",
     "text": [
      "200\n"
     ]
    },
    {
     "name": "stderr",
     "output_type": "stream",
     "text": [
      "Scraping quotes:  19%|█▉        | 192/1020 [05:16<21:01,  1.52s/it]"
     ]
    },
    {
     "name": "stdout",
     "output_type": "stream",
     "text": [
      "200\n"
     ]
    },
    {
     "name": "stderr",
     "output_type": "stream",
     "text": [
      "Scraping quotes:  19%|█▉        | 193/1020 [05:18<23:59,  1.74s/it]"
     ]
    },
    {
     "name": "stdout",
     "output_type": "stream",
     "text": [
      "200\n"
     ]
    },
    {
     "name": "stderr",
     "output_type": "stream",
     "text": [
      "Scraping quotes:  19%|█▉        | 194/1020 [05:20<23:08,  1.68s/it]"
     ]
    },
    {
     "name": "stdout",
     "output_type": "stream",
     "text": [
      "200\n"
     ]
    },
    {
     "name": "stderr",
     "output_type": "stream",
     "text": [
      "Scraping quotes:  19%|█▉        | 195/1020 [05:21<21:16,  1.55s/it]"
     ]
    },
    {
     "name": "stdout",
     "output_type": "stream",
     "text": [
      "200\n"
     ]
    },
    {
     "name": "stderr",
     "output_type": "stream",
     "text": [
      "Scraping quotes:  19%|█▉        | 196/1020 [05:22<20:21,  1.48s/it]"
     ]
    },
    {
     "name": "stdout",
     "output_type": "stream",
     "text": [
      "200\n"
     ]
    },
    {
     "name": "stderr",
     "output_type": "stream",
     "text": [
      "Scraping quotes:  19%|█▉        | 197/1020 [05:25<25:36,  1.87s/it]"
     ]
    },
    {
     "name": "stdout",
     "output_type": "stream",
     "text": [
      "200\n"
     ]
    },
    {
     "name": "stderr",
     "output_type": "stream",
     "text": [
      "Scraping quotes:  19%|█▉        | 198/1020 [05:26<22:03,  1.61s/it]"
     ]
    },
    {
     "name": "stdout",
     "output_type": "stream",
     "text": [
      "200\n"
     ]
    },
    {
     "name": "stderr",
     "output_type": "stream",
     "text": [
      "Scraping quotes:  20%|█▉        | 199/1020 [05:28<23:36,  1.72s/it]"
     ]
    },
    {
     "name": "stdout",
     "output_type": "stream",
     "text": [
      "200\n"
     ]
    },
    {
     "name": "stderr",
     "output_type": "stream",
     "text": [
      "Scraping quotes:  20%|█▉        | 200/1020 [05:29<21:46,  1.59s/it]"
     ]
    },
    {
     "name": "stdout",
     "output_type": "stream",
     "text": [
      "200\n"
     ]
    },
    {
     "name": "stderr",
     "output_type": "stream",
     "text": [
      "Scraping quotes:  20%|█▉        | 202/1020 [05:33<23:48,  1.75s/it]"
     ]
    },
    {
     "name": "stdout",
     "output_type": "stream",
     "text": [
      "500\n",
      "Error scraping {'country': 'UK', 'region': 'gb', 'crypto_name': 'Ethereum Mainnet', 'payment_name': 'PSE', 'regionId': '/regions/gb', 'paymentMethodId': '/payments/pse', 'cryptoCurrencyId': '/currencies/crypto/1/0x0000000000000000000000000000000000000000', 'fiatCurrencyId': '/currencies/fiat/gbp', 'amount': 102, 'request_time': datetime.datetime(2024, 8, 2, 21, 48, 31, 693737)}\n",
      "'success'\n",
      "\n"
     ]
    },
    {
     "name": "stderr",
     "output_type": "stream",
     "text": [
      "Scraping quotes:  20%|█▉        | 203/1020 [05:34<20:26,  1.50s/it]"
     ]
    },
    {
     "name": "stdout",
     "output_type": "stream",
     "text": [
      "500\n",
      "Error scraping {'country': 'UK', 'region': 'gb', 'crypto_name': 'USDT (Ethereum)', 'payment_name': 'PSE', 'regionId': '/regions/gb', 'paymentMethodId': '/payments/pse', 'cryptoCurrencyId': '/currencies/crypto/1/0xdac17f958d2ee523a2206206994597c13d831ec7', 'fiatCurrencyId': '/currencies/fiat/gbp', 'amount': 102, 'request_time': datetime.datetime(2024, 8, 2, 21, 48, 33, 408471)}\n",
      "'success'\n",
      "\n"
     ]
    },
    {
     "name": "stderr",
     "output_type": "stream",
     "text": [
      "Scraping quotes:  20%|██        | 204/1020 [05:36<22:12,  1.63s/it]"
     ]
    },
    {
     "name": "stdout",
     "output_type": "stream",
     "text": [
      "500\n",
      "Error scraping {'country': 'UK', 'region': 'gb', 'crypto_name': 'USDT (BNB Chain)', 'payment_name': 'PSE', 'regionId': '/regions/gb', 'paymentMethodId': '/payments/pse', 'cryptoCurrencyId': '/currencies/crypto/56/0x55d398326f99059ff775485246999027b3197955', 'fiatCurrencyId': '/currencies/fiat/gbp', 'amount': 102, 'request_time': datetime.datetime(2024, 8, 2, 21, 48, 34, 336843)}\n",
      "'success'\n",
      "\n",
      "200\n"
     ]
    },
    {
     "name": "stderr",
     "output_type": "stream",
     "text": [
      "Scraping quotes:  20%|██        | 205/1020 [05:39<28:38,  2.11s/it]"
     ]
    },
    {
     "name": "stdout",
     "output_type": "stream",
     "text": [
      "200\n"
     ]
    },
    {
     "name": "stderr",
     "output_type": "stream",
     "text": [
      "Scraping quotes:  20%|██        | 206/1020 [05:42<29:22,  2.17s/it]"
     ]
    },
    {
     "name": "stdout",
     "output_type": "stream",
     "text": [
      "200\n"
     ]
    },
    {
     "name": "stderr",
     "output_type": "stream",
     "text": [
      "Scraping quotes:  20%|██        | 207/1020 [05:45<34:48,  2.57s/it]"
     ]
    },
    {
     "name": "stdout",
     "output_type": "stream",
     "text": [
      "200\n"
     ]
    },
    {
     "name": "stderr",
     "output_type": "stream",
     "text": [
      "Scraping quotes:  20%|██        | 208/1020 [05:48<36:53,  2.73s/it]"
     ]
    },
    {
     "name": "stdout",
     "output_type": "stream",
     "text": [
      "200\n"
     ]
    },
    {
     "name": "stderr",
     "output_type": "stream",
     "text": [
      "Scraping quotes:  20%|██        | 209/1020 [05:50<32:52,  2.43s/it]"
     ]
    },
    {
     "name": "stdout",
     "output_type": "stream",
     "text": [
      "200\n"
     ]
    },
    {
     "name": "stderr",
     "output_type": "stream",
     "text": [
      "Scraping quotes:  21%|██        | 210/1020 [05:52<33:15,  2.46s/it]"
     ]
    },
    {
     "name": "stdout",
     "output_type": "stream",
     "text": [
      "200\n"
     ]
    },
    {
     "name": "stderr",
     "output_type": "stream",
     "text": [
      "Scraping quotes:  21%|██        | 211/1020 [05:55<31:32,  2.34s/it]"
     ]
    },
    {
     "name": "stdout",
     "output_type": "stream",
     "text": [
      "200\n"
     ]
    },
    {
     "name": "stderr",
     "output_type": "stream",
     "text": [
      "Scraping quotes:  21%|██        | 212/1020 [05:58<35:06,  2.61s/it]"
     ]
    },
    {
     "name": "stdout",
     "output_type": "stream",
     "text": [
      "200\n"
     ]
    },
    {
     "name": "stderr",
     "output_type": "stream",
     "text": [
      "Scraping quotes:  21%|██        | 213/1020 [06:00<33:23,  2.48s/it]"
     ]
    },
    {
     "name": "stdout",
     "output_type": "stream",
     "text": [
      "200\n"
     ]
    },
    {
     "name": "stderr",
     "output_type": "stream",
     "text": [
      "Scraping quotes:  21%|██        | 214/1020 [06:01<28:26,  2.12s/it]"
     ]
    },
    {
     "name": "stdout",
     "output_type": "stream",
     "text": [
      "200\n"
     ]
    },
    {
     "name": "stderr",
     "output_type": "stream",
     "text": [
      "Scraping quotes:  21%|██        | 215/1020 [06:03<25:56,  1.93s/it]"
     ]
    },
    {
     "name": "stdout",
     "output_type": "stream",
     "text": [
      "200\n"
     ]
    },
    {
     "name": "stderr",
     "output_type": "stream",
     "text": [
      "Scraping quotes:  21%|██        | 216/1020 [06:04<22:15,  1.66s/it]"
     ]
    },
    {
     "name": "stdout",
     "output_type": "stream",
     "text": [
      "500\n",
      "Error scraping {'country': 'DE', 'region': 'de', 'crypto_name': 'Ethereum Mainnet', 'payment_name': 'PSE', 'regionId': '/regions/de', 'paymentMethodId': '/payments/pse', 'cryptoCurrencyId': '/currencies/crypto/1/0x0000000000000000000000000000000000000000', 'fiatCurrencyId': '/currencies/fiat/eur', 'amount': 144, 'request_time': datetime.datetime(2024, 8, 2, 21, 49, 3, 947500)}\n",
      "'success'\n",
      "\n"
     ]
    },
    {
     "name": "stderr",
     "output_type": "stream",
     "text": [
      "Scraping quotes:  21%|██▏       | 218/1020 [06:06<17:11,  1.29s/it]"
     ]
    },
    {
     "name": "stdout",
     "output_type": "stream",
     "text": [
      "500\n",
      "Error scraping {'country': 'DE', 'region': 'de', 'crypto_name': 'USDT (Ethereum)', 'payment_name': 'PSE', 'regionId': '/regions/de', 'paymentMethodId': '/payments/pse', 'cryptoCurrencyId': '/currencies/crypto/1/0xdac17f958d2ee523a2206206994597c13d831ec7', 'fiatCurrencyId': '/currencies/fiat/eur', 'amount': 144, 'request_time': datetime.datetime(2024, 8, 2, 21, 49, 4, 844994)}\n",
      "'success'\n",
      "\n"
     ]
    },
    {
     "name": "stderr",
     "output_type": "stream",
     "text": [
      "Scraping quotes:  21%|██▏       | 219/1020 [06:07<16:32,  1.24s/it]"
     ]
    },
    {
     "name": "stdout",
     "output_type": "stream",
     "text": [
      "500\n",
      "Error scraping {'country': 'DE', 'region': 'de', 'crypto_name': 'USDT (BNB Chain)', 'payment_name': 'PSE', 'regionId': '/regions/de', 'paymentMethodId': '/payments/pse', 'cryptoCurrencyId': '/currencies/crypto/56/0x55d398326f99059ff775485246999027b3197955', 'fiatCurrencyId': '/currencies/fiat/eur', 'amount': 144, 'request_time': datetime.datetime(2024, 8, 2, 21, 49, 5, 790675)}\n",
      "'success'\n",
      "\n",
      "200\n"
     ]
    },
    {
     "name": "stderr",
     "output_type": "stream",
     "text": [
      "Scraping quotes:  22%|██▏       | 220/1020 [06:09<21:48,  1.64s/it]"
     ]
    },
    {
     "name": "stdout",
     "output_type": "stream",
     "text": [
      "200\n"
     ]
    },
    {
     "name": "stderr",
     "output_type": "stream",
     "text": [
      "Scraping quotes:  22%|██▏       | 221/1020 [06:12<24:35,  1.85s/it]"
     ]
    },
    {
     "name": "stdout",
     "output_type": "stream",
     "text": [
      "200\n"
     ]
    },
    {
     "name": "stderr",
     "output_type": "stream",
     "text": [
      "Scraping quotes:  22%|██▏       | 222/1020 [06:14<25:48,  1.94s/it]"
     ]
    },
    {
     "name": "stdout",
     "output_type": "stream",
     "text": [
      "200\n"
     ]
    },
    {
     "name": "stderr",
     "output_type": "stream",
     "text": [
      "Scraping quotes:  22%|██▏       | 223/1020 [06:16<26:42,  2.01s/it]"
     ]
    },
    {
     "name": "stdout",
     "output_type": "stream",
     "text": [
      "200\n"
     ]
    },
    {
     "name": "stderr",
     "output_type": "stream",
     "text": [
      "Scraping quotes:  22%|██▏       | 224/1020 [06:19<29:18,  2.21s/it]"
     ]
    },
    {
     "name": "stdout",
     "output_type": "stream",
     "text": [
      "200\n"
     ]
    },
    {
     "name": "stderr",
     "output_type": "stream",
     "text": [
      "Scraping quotes:  22%|██▏       | 225/1020 [06:21<30:07,  2.27s/it]"
     ]
    },
    {
     "name": "stdout",
     "output_type": "stream",
     "text": [
      "200\n"
     ]
    },
    {
     "name": "stderr",
     "output_type": "stream",
     "text": [
      "Scraping quotes:  22%|██▏       | 226/1020 [06:22<25:03,  1.89s/it]"
     ]
    },
    {
     "name": "stdout",
     "output_type": "stream",
     "text": [
      "200\n"
     ]
    },
    {
     "name": "stderr",
     "output_type": "stream",
     "text": [
      "Scraping quotes:  22%|██▏       | 227/1020 [06:23<21:17,  1.61s/it]"
     ]
    },
    {
     "name": "stdout",
     "output_type": "stream",
     "text": [
      "200\n"
     ]
    },
    {
     "name": "stderr",
     "output_type": "stream",
     "text": [
      "Scraping quotes:  22%|██▏       | 228/1020 [06:24<17:39,  1.34s/it]"
     ]
    },
    {
     "name": "stdout",
     "output_type": "stream",
     "text": [
      "200\n"
     ]
    },
    {
     "name": "stderr",
     "output_type": "stream",
     "text": [
      "Scraping quotes:  22%|██▏       | 229/1020 [06:25<16:26,  1.25s/it]"
     ]
    },
    {
     "name": "stdout",
     "output_type": "stream",
     "text": [
      "200\n"
     ]
    },
    {
     "name": "stderr",
     "output_type": "stream",
     "text": [
      "Scraping quotes:  23%|██▎       | 231/1020 [06:27<13:59,  1.06s/it]"
     ]
    },
    {
     "name": "stdout",
     "output_type": "stream",
     "text": [
      "500\n",
      "Error scraping {'country': 'US', 'region': 'us-fl', 'crypto_name': 'USDT (BNB Chain)', 'payment_name': 'Instant ACH Bank Transfer', 'regionId': '/regions/us-fl', 'paymentMethodId': '/payments/instant-bank-transfer', 'cryptoCurrencyId': '/currencies/crypto/56/0x55d398326f99059ff775485246999027b3197955', 'fiatCurrencyId': '/currencies/fiat/usd', 'amount': 144, 'request_time': datetime.datetime(2024, 8, 2, 21, 49, 26, 60742)}\n",
      "'success'\n",
      "\n"
     ]
    },
    {
     "name": "stderr",
     "output_type": "stream",
     "text": [
      "Scraping quotes:  23%|██▎       | 232/1020 [06:27<11:48,  1.11it/s]"
     ]
    },
    {
     "name": "stdout",
     "output_type": "stream",
     "text": [
      "500\n",
      "Error scraping {'country': 'US', 'region': 'us-fl', 'crypto_name': 'Ethereum Mainnet', 'payment_name': 'Wire Transfer', 'regionId': '/regions/us-fl', 'paymentMethodId': '/payments/wire-transfer', 'cryptoCurrencyId': '/currencies/crypto/1/0x0000000000000000000000000000000000000000', 'fiatCurrencyId': '/currencies/fiat/usd', 'amount': 144, 'request_time': datetime.datetime(2024, 8, 2, 21, 49, 26, 789870)}\n",
      "'success'\n",
      "\n"
     ]
    },
    {
     "name": "stderr",
     "output_type": "stream",
     "text": [
      "Scraping quotes:  23%|██▎       | 233/1020 [06:28<11:44,  1.12it/s]"
     ]
    },
    {
     "name": "stdout",
     "output_type": "stream",
     "text": [
      "500\n",
      "Error scraping {'country': 'US', 'region': 'us-fl', 'crypto_name': 'USDT (Ethereum)', 'payment_name': 'Wire Transfer', 'regionId': '/regions/us-fl', 'paymentMethodId': '/payments/wire-transfer', 'cryptoCurrencyId': '/currencies/crypto/1/0xdac17f958d2ee523a2206206994597c13d831ec7', 'fiatCurrencyId': '/currencies/fiat/usd', 'amount': 144, 'request_time': datetime.datetime(2024, 8, 2, 21, 49, 27, 304161)}\n",
      "'success'\n",
      "\n"
     ]
    },
    {
     "name": "stderr",
     "output_type": "stream",
     "text": [
      "Scraping quotes:  23%|██▎       | 234/1020 [06:29<11:25,  1.15it/s]"
     ]
    },
    {
     "name": "stdout",
     "output_type": "stream",
     "text": [
      "500\n",
      "Error scraping {'country': 'US', 'region': 'us-fl', 'crypto_name': 'USDT (BNB Chain)', 'payment_name': 'Wire Transfer', 'regionId': '/regions/us-fl', 'paymentMethodId': '/payments/wire-transfer', 'cryptoCurrencyId': '/currencies/crypto/56/0x55d398326f99059ff775485246999027b3197955', 'fiatCurrencyId': '/currencies/fiat/usd', 'amount': 144, 'request_time': datetime.datetime(2024, 8, 2, 21, 49, 28, 200154)}\n",
      "'success'\n",
      "\n",
      "200\n"
     ]
    },
    {
     "name": "stderr",
     "output_type": "stream",
     "text": [
      "Scraping quotes:  23%|██▎       | 235/1020 [06:30<10:54,  1.20it/s]"
     ]
    },
    {
     "name": "stdout",
     "output_type": "stream",
     "text": [
      "200\n"
     ]
    },
    {
     "name": "stderr",
     "output_type": "stream",
     "text": [
      "Scraping quotes:  23%|██▎       | 236/1020 [06:30<10:27,  1.25it/s]"
     ]
    },
    {
     "name": "stdout",
     "output_type": "stream",
     "text": [
      "200\n"
     ]
    },
    {
     "name": "stderr",
     "output_type": "stream",
     "text": [
      "Scraping quotes:  23%|██▎       | 237/1020 [06:31<10:04,  1.30it/s]"
     ]
    },
    {
     "name": "stdout",
     "output_type": "stream",
     "text": [
      "500\n",
      "Error scraping {'country': 'US', 'region': 'us-fl', 'crypto_name': 'Ethereum Mainnet', 'payment_name': 'PSE', 'regionId': '/regions/us-fl', 'paymentMethodId': '/payments/pse', 'cryptoCurrencyId': '/currencies/crypto/1/0x0000000000000000000000000000000000000000', 'fiatCurrencyId': '/currencies/fiat/usd', 'amount': 144, 'request_time': datetime.datetime(2024, 8, 2, 21, 49, 31, 181716)}\n",
      "'success'\n",
      "\n"
     ]
    },
    {
     "name": "stderr",
     "output_type": "stream",
     "text": [
      "Scraping quotes:  23%|██▎       | 239/1020 [06:33<10:27,  1.24it/s]"
     ]
    },
    {
     "name": "stdout",
     "output_type": "stream",
     "text": [
      "500\n",
      "Error scraping {'country': 'US', 'region': 'us-fl', 'crypto_name': 'USDT (Ethereum)', 'payment_name': 'PSE', 'regionId': '/regions/us-fl', 'paymentMethodId': '/payments/pse', 'cryptoCurrencyId': '/currencies/crypto/1/0xdac17f958d2ee523a2206206994597c13d831ec7', 'fiatCurrencyId': '/currencies/fiat/usd', 'amount': 144, 'request_time': datetime.datetime(2024, 8, 2, 21, 49, 32, 187682)}\n",
      "'success'\n",
      "\n"
     ]
    },
    {
     "name": "stderr",
     "output_type": "stream",
     "text": [
      "Scraping quotes:  24%|██▎       | 240/1020 [06:34<11:13,  1.16it/s]"
     ]
    },
    {
     "name": "stdout",
     "output_type": "stream",
     "text": [
      "500\n",
      "Error scraping {'country': 'US', 'region': 'us-fl', 'crypto_name': 'USDT (BNB Chain)', 'payment_name': 'PSE', 'regionId': '/regions/us-fl', 'paymentMethodId': '/payments/pse', 'cryptoCurrencyId': '/currencies/crypto/56/0x55d398326f99059ff775485246999027b3197955', 'fiatCurrencyId': '/currencies/fiat/usd', 'amount': 144, 'request_time': datetime.datetime(2024, 8, 2, 21, 49, 32, 901486)}\n",
      "'success'\n",
      "\n",
      "200\n"
     ]
    },
    {
     "name": "stderr",
     "output_type": "stream",
     "text": [
      "Scraping quotes:  24%|██▎       | 241/1020 [06:38<25:14,  1.94s/it]"
     ]
    },
    {
     "name": "stdout",
     "output_type": "stream",
     "text": [
      "200\n"
     ]
    },
    {
     "name": "stderr",
     "output_type": "stream",
     "text": [
      "Scraping quotes:  24%|██▎       | 242/1020 [06:39<22:00,  1.70s/it]"
     ]
    },
    {
     "name": "stdout",
     "output_type": "stream",
     "text": [
      "200\n"
     ]
    },
    {
     "name": "stderr",
     "output_type": "stream",
     "text": [
      "Scraping quotes:  24%|██▍       | 243/1020 [06:40<19:18,  1.49s/it]"
     ]
    },
    {
     "name": "stdout",
     "output_type": "stream",
     "text": [
      "200\n"
     ]
    },
    {
     "name": "stderr",
     "output_type": "stream",
     "text": [
      "Scraping quotes:  24%|██▍       | 244/1020 [06:42<19:28,  1.51s/it]"
     ]
    },
    {
     "name": "stdout",
     "output_type": "stream",
     "text": [
      "200\n"
     ]
    },
    {
     "name": "stderr",
     "output_type": "stream",
     "text": [
      "Scraping quotes:  24%|██▍       | 245/1020 [06:45<25:06,  1.94s/it]"
     ]
    },
    {
     "name": "stdout",
     "output_type": "stream",
     "text": [
      "200\n"
     ]
    },
    {
     "name": "stderr",
     "output_type": "stream",
     "text": [
      "Scraping quotes:  24%|██▍       | 246/1020 [06:46<23:14,  1.80s/it]"
     ]
    },
    {
     "name": "stdout",
     "output_type": "stream",
     "text": [
      "200\n"
     ]
    },
    {
     "name": "stderr",
     "output_type": "stream",
     "text": [
      "Scraping quotes:  24%|██▍       | 247/1020 [06:48<24:01,  1.86s/it]"
     ]
    },
    {
     "name": "stdout",
     "output_type": "stream",
     "text": [
      "200\n"
     ]
    },
    {
     "name": "stderr",
     "output_type": "stream",
     "text": [
      "Scraping quotes:  24%|██▍       | 248/1020 [06:50<22:06,  1.72s/it]"
     ]
    },
    {
     "name": "stdout",
     "output_type": "stream",
     "text": [
      "200\n"
     ]
    },
    {
     "name": "stderr",
     "output_type": "stream",
     "text": [
      "Scraping quotes:  24%|██▍       | 249/1020 [06:51<19:23,  1.51s/it]"
     ]
    },
    {
     "name": "stdout",
     "output_type": "stream",
     "text": [
      "200\n"
     ]
    },
    {
     "name": "stderr",
     "output_type": "stream",
     "text": [
      "Scraping quotes:  25%|██▍       | 250/1020 [06:54<28:01,  2.18s/it]"
     ]
    },
    {
     "name": "stdout",
     "output_type": "stream",
     "text": [
      "200\n"
     ]
    },
    {
     "name": "stderr",
     "output_type": "stream",
     "text": [
      "Scraping quotes:  25%|██▍       | 251/1020 [06:56<26:40,  2.08s/it]"
     ]
    },
    {
     "name": "stdout",
     "output_type": "stream",
     "text": [
      "200\n"
     ]
    },
    {
     "name": "stderr",
     "output_type": "stream",
     "text": [
      "Scraping quotes:  25%|██▍       | 253/1020 [06:59<20:18,  1.59s/it]"
     ]
    },
    {
     "name": "stdout",
     "output_type": "stream",
     "text": [
      "500\n",
      "Error scraping {'country': 'UK', 'region': 'gb', 'crypto_name': 'Ethereum Mainnet', 'payment_name': 'PSE', 'regionId': '/regions/gb', 'paymentMethodId': '/payments/pse', 'cryptoCurrencyId': '/currencies/crypto/1/0x0000000000000000000000000000000000000000', 'fiatCurrencyId': '/currencies/fiat/gbp', 'amount': 144, 'request_time': datetime.datetime(2024, 8, 2, 21, 49, 57, 914728)}\n",
      "'success'\n",
      "\n"
     ]
    },
    {
     "name": "stderr",
     "output_type": "stream",
     "text": [
      "Scraping quotes:  25%|██▍       | 254/1020 [07:00<18:56,  1.48s/it]"
     ]
    },
    {
     "name": "stdout",
     "output_type": "stream",
     "text": [
      "500\n",
      "Error scraping {'country': 'UK', 'region': 'gb', 'crypto_name': 'USDT (Ethereum)', 'payment_name': 'PSE', 'regionId': '/regions/gb', 'paymentMethodId': '/payments/pse', 'cryptoCurrencyId': '/currencies/crypto/1/0xdac17f958d2ee523a2206206994597c13d831ec7', 'fiatCurrencyId': '/currencies/fiat/gbp', 'amount': 144, 'request_time': datetime.datetime(2024, 8, 2, 21, 49, 58, 809074)}\n",
      "'success'\n",
      "\n"
     ]
    },
    {
     "name": "stderr",
     "output_type": "stream",
     "text": [
      "Scraping quotes:  25%|██▌       | 255/1020 [07:03<24:03,  1.89s/it]"
     ]
    },
    {
     "name": "stdout",
     "output_type": "stream",
     "text": [
      "500\n",
      "Error scraping {'country': 'UK', 'region': 'gb', 'crypto_name': 'USDT (BNB Chain)', 'payment_name': 'PSE', 'regionId': '/regions/gb', 'paymentMethodId': '/payments/pse', 'cryptoCurrencyId': '/currencies/crypto/56/0x55d398326f99059ff775485246999027b3197955', 'fiatCurrencyId': '/currencies/fiat/gbp', 'amount': 144, 'request_time': datetime.datetime(2024, 8, 2, 21, 50, 0, 46687)}\n",
      "'success'\n",
      "\n",
      "200\n"
     ]
    },
    {
     "name": "stderr",
     "output_type": "stream",
     "text": [
      "Scraping quotes:  25%|██▌       | 256/1020 [07:05<27:15,  2.14s/it]"
     ]
    },
    {
     "name": "stdout",
     "output_type": "stream",
     "text": [
      "200\n"
     ]
    },
    {
     "name": "stderr",
     "output_type": "stream",
     "text": [
      "Scraping quotes:  25%|██▌       | 257/1020 [07:08<27:21,  2.15s/it]"
     ]
    },
    {
     "name": "stdout",
     "output_type": "stream",
     "text": [
      "200\n"
     ]
    },
    {
     "name": "stderr",
     "output_type": "stream",
     "text": [
      "Scraping quotes:  25%|██▌       | 258/1020 [07:11<31:33,  2.48s/it]"
     ]
    },
    {
     "name": "stdout",
     "output_type": "stream",
     "text": [
      "200\n"
     ]
    },
    {
     "name": "stderr",
     "output_type": "stream",
     "text": [
      "Scraping quotes:  25%|██▌       | 259/1020 [07:14<34:49,  2.75s/it]"
     ]
    },
    {
     "name": "stdout",
     "output_type": "stream",
     "text": [
      "200\n"
     ]
    },
    {
     "name": "stderr",
     "output_type": "stream",
     "text": [
      "Scraping quotes:  25%|██▌       | 260/1020 [07:19<42:16,  3.34s/it]"
     ]
    },
    {
     "name": "stdout",
     "output_type": "stream",
     "text": [
      "200\n"
     ]
    },
    {
     "name": "stderr",
     "output_type": "stream",
     "text": [
      "Scraping quotes:  26%|██▌       | 261/1020 [07:21<38:05,  3.01s/it]"
     ]
    },
    {
     "name": "stdout",
     "output_type": "stream",
     "text": [
      "200\n"
     ]
    },
    {
     "name": "stderr",
     "output_type": "stream",
     "text": [
      "Scraping quotes:  26%|██▌       | 262/1020 [07:24<35:55,  2.84s/it]"
     ]
    },
    {
     "name": "stdout",
     "output_type": "stream",
     "text": [
      "200\n"
     ]
    },
    {
     "name": "stderr",
     "output_type": "stream",
     "text": [
      "Scraping quotes:  26%|██▌       | 263/1020 [07:26<34:50,  2.76s/it]"
     ]
    },
    {
     "name": "stdout",
     "output_type": "stream",
     "text": [
      "200\n"
     ]
    },
    {
     "name": "stderr",
     "output_type": "stream",
     "text": [
      "Scraping quotes:  26%|██▌       | 264/1020 [07:29<35:11,  2.79s/it]"
     ]
    },
    {
     "name": "stdout",
     "output_type": "stream",
     "text": [
      "200\n"
     ]
    },
    {
     "name": "stderr",
     "output_type": "stream",
     "text": [
      "Scraping quotes:  26%|██▌       | 265/1020 [07:30<27:48,  2.21s/it]"
     ]
    },
    {
     "name": "stdout",
     "output_type": "stream",
     "text": [
      "200\n"
     ]
    },
    {
     "name": "stderr",
     "output_type": "stream",
     "text": [
      "Scraping quotes:  26%|██▌       | 266/1020 [07:31<24:20,  1.94s/it]"
     ]
    },
    {
     "name": "stdout",
     "output_type": "stream",
     "text": [
      "200\n"
     ]
    },
    {
     "name": "stderr",
     "output_type": "stream",
     "text": [
      "Scraping quotes:  26%|██▌       | 267/1020 [07:33<22:05,  1.76s/it]"
     ]
    },
    {
     "name": "stdout",
     "output_type": "stream",
     "text": [
      "500\n",
      "Error scraping {'country': 'DE', 'region': 'de', 'crypto_name': 'Ethereum Mainnet', 'payment_name': 'PSE', 'regionId': '/regions/de', 'paymentMethodId': '/payments/pse', 'cryptoCurrencyId': '/currencies/crypto/1/0x0000000000000000000000000000000000000000', 'fiatCurrencyId': '/currencies/fiat/eur', 'amount': 204, 'request_time': datetime.datetime(2024, 8, 2, 21, 50, 32, 761310)}\n",
      "'success'\n",
      "\n"
     ]
    },
    {
     "name": "stderr",
     "output_type": "stream",
     "text": [
      "Scraping quotes:  26%|██▋       | 269/1020 [07:37<24:30,  1.96s/it]"
     ]
    },
    {
     "name": "stdout",
     "output_type": "stream",
     "text": [
      "500\n",
      "Error scraping {'country': 'DE', 'region': 'de', 'crypto_name': 'USDT (Ethereum)', 'payment_name': 'PSE', 'regionId': '/regions/de', 'paymentMethodId': '/payments/pse', 'cryptoCurrencyId': '/currencies/crypto/1/0xdac17f958d2ee523a2206206994597c13d831ec7', 'fiatCurrencyId': '/currencies/fiat/eur', 'amount': 204, 'request_time': datetime.datetime(2024, 8, 2, 21, 50, 36, 802328)}\n",
      "'success'\n",
      "\n"
     ]
    },
    {
     "name": "stderr",
     "output_type": "stream",
     "text": [
      "Scraping quotes:  26%|██▋       | 270/1020 [07:38<20:57,  1.68s/it]"
     ]
    },
    {
     "name": "stdout",
     "output_type": "stream",
     "text": [
      "500\n",
      "Error scraping {'country': 'DE', 'region': 'de', 'crypto_name': 'USDT (BNB Chain)', 'payment_name': 'PSE', 'regionId': '/regions/de', 'paymentMethodId': '/payments/pse', 'cryptoCurrencyId': '/currencies/crypto/56/0x55d398326f99059ff775485246999027b3197955', 'fiatCurrencyId': '/currencies/fiat/eur', 'amount': 204, 'request_time': datetime.datetime(2024, 8, 2, 21, 50, 37, 619558)}\n",
      "'success'\n",
      "\n",
      "200\n"
     ]
    },
    {
     "name": "stderr",
     "output_type": "stream",
     "text": [
      "Scraping quotes:  27%|██▋       | 271/1020 [07:41<25:28,  2.04s/it]"
     ]
    },
    {
     "name": "stdout",
     "output_type": "stream",
     "text": [
      "200\n"
     ]
    },
    {
     "name": "stderr",
     "output_type": "stream",
     "text": [
      "Scraping quotes:  27%|██▋       | 272/1020 [07:44<27:49,  2.23s/it]"
     ]
    },
    {
     "name": "stdout",
     "output_type": "stream",
     "text": [
      "200\n"
     ]
    },
    {
     "name": "stderr",
     "output_type": "stream",
     "text": [
      "Scraping quotes:  27%|██▋       | 273/1020 [07:46<28:33,  2.29s/it]"
     ]
    },
    {
     "name": "stdout",
     "output_type": "stream",
     "text": [
      "200\n"
     ]
    },
    {
     "name": "stderr",
     "output_type": "stream",
     "text": [
      "Scraping quotes:  27%|██▋       | 274/1020 [07:49<30:22,  2.44s/it]"
     ]
    },
    {
     "name": "stdout",
     "output_type": "stream",
     "text": [
      "200\n"
     ]
    },
    {
     "name": "stderr",
     "output_type": "stream",
     "text": [
      "Scraping quotes:  27%|██▋       | 275/1020 [07:52<29:58,  2.41s/it]"
     ]
    },
    {
     "name": "stdout",
     "output_type": "stream",
     "text": [
      "200\n"
     ]
    },
    {
     "name": "stderr",
     "output_type": "stream",
     "text": [
      "Scraping quotes:  27%|██▋       | 276/1020 [07:54<29:16,  2.36s/it]"
     ]
    },
    {
     "name": "stdout",
     "output_type": "stream",
     "text": [
      "200\n"
     ]
    },
    {
     "name": "stderr",
     "output_type": "stream",
     "text": [
      "Scraping quotes:  27%|██▋       | 277/1020 [07:55<23:52,  1.93s/it]"
     ]
    },
    {
     "name": "stdout",
     "output_type": "stream",
     "text": [
      "200\n"
     ]
    },
    {
     "name": "stderr",
     "output_type": "stream",
     "text": [
      "Scraping quotes:  27%|██▋       | 278/1020 [07:55<19:22,  1.57s/it]"
     ]
    },
    {
     "name": "stdout",
     "output_type": "stream",
     "text": [
      "200\n"
     ]
    },
    {
     "name": "stderr",
     "output_type": "stream",
     "text": [
      "Scraping quotes:  27%|██▋       | 279/1020 [07:57<20:07,  1.63s/it]"
     ]
    },
    {
     "name": "stdout",
     "output_type": "stream",
     "text": [
      "200\n"
     ]
    },
    {
     "name": "stderr",
     "output_type": "stream",
     "text": [
      "Scraping quotes:  27%|██▋       | 280/1020 [07:58<17:09,  1.39s/it]"
     ]
    },
    {
     "name": "stdout",
     "output_type": "stream",
     "text": [
      "200\n"
     ]
    },
    {
     "name": "stderr",
     "output_type": "stream",
     "text": [
      "Scraping quotes:  28%|██▊       | 282/1020 [07:59<12:22,  1.01s/it]"
     ]
    },
    {
     "name": "stdout",
     "output_type": "stream",
     "text": [
      "500\n",
      "Error scraping {'country': 'US', 'region': 'us-fl', 'crypto_name': 'USDT (BNB Chain)', 'payment_name': 'Instant ACH Bank Transfer', 'regionId': '/regions/us-fl', 'paymentMethodId': '/payments/instant-bank-transfer', 'cryptoCurrencyId': '/currencies/crypto/56/0x55d398326f99059ff775485246999027b3197955', 'fiatCurrencyId': '/currencies/fiat/usd', 'amount': 204, 'request_time': datetime.datetime(2024, 8, 2, 21, 50, 59, 61897)}\n",
      "'success'\n",
      "\n"
     ]
    },
    {
     "name": "stderr",
     "output_type": "stream",
     "text": [
      "Scraping quotes:  28%|██▊       | 283/1020 [08:00<11:04,  1.11it/s]"
     ]
    },
    {
     "name": "stdout",
     "output_type": "stream",
     "text": [
      "500\n",
      "Error scraping {'country': 'US', 'region': 'us-fl', 'crypto_name': 'Ethereum Mainnet', 'payment_name': 'Wire Transfer', 'regionId': '/regions/us-fl', 'paymentMethodId': '/payments/wire-transfer', 'cryptoCurrencyId': '/currencies/crypto/1/0x0000000000000000000000000000000000000000', 'fiatCurrencyId': '/currencies/fiat/usd', 'amount': 204, 'request_time': datetime.datetime(2024, 8, 2, 21, 50, 59, 592615)}\n",
      "'success'\n",
      "\n"
     ]
    },
    {
     "name": "stderr",
     "output_type": "stream",
     "text": [
      "Scraping quotes:  28%|██▊       | 284/1020 [08:01<10:45,  1.14it/s]"
     ]
    },
    {
     "name": "stdout",
     "output_type": "stream",
     "text": [
      "500\n",
      "Error scraping {'country': 'US', 'region': 'us-fl', 'crypto_name': 'USDT (Ethereum)', 'payment_name': 'Wire Transfer', 'regionId': '/regions/us-fl', 'paymentMethodId': '/payments/wire-transfer', 'cryptoCurrencyId': '/currencies/crypto/1/0xdac17f958d2ee523a2206206994597c13d831ec7', 'fiatCurrencyId': '/currencies/fiat/usd', 'amount': 204, 'request_time': datetime.datetime(2024, 8, 2, 21, 51, 0, 250512)}\n",
      "'success'\n",
      "\n"
     ]
    },
    {
     "name": "stderr",
     "output_type": "stream",
     "text": [
      "Scraping quotes:  28%|██▊       | 285/1020 [08:01<09:28,  1.29it/s]"
     ]
    },
    {
     "name": "stdout",
     "output_type": "stream",
     "text": [
      "500\n",
      "Error scraping {'country': 'US', 'region': 'us-fl', 'crypto_name': 'USDT (BNB Chain)', 'payment_name': 'Wire Transfer', 'regionId': '/regions/us-fl', 'paymentMethodId': '/payments/wire-transfer', 'cryptoCurrencyId': '/currencies/crypto/56/0x55d398326f99059ff775485246999027b3197955', 'fiatCurrencyId': '/currencies/fiat/usd', 'amount': 204, 'request_time': datetime.datetime(2024, 8, 2, 21, 51, 1, 69730)}\n",
      "'success'\n",
      "\n",
      "200\n"
     ]
    },
    {
     "name": "stderr",
     "output_type": "stream",
     "text": [
      "Scraping quotes:  28%|██▊       | 286/1020 [08:02<09:14,  1.32it/s]"
     ]
    },
    {
     "name": "stdout",
     "output_type": "stream",
     "text": [
      "200\n"
     ]
    },
    {
     "name": "stderr",
     "output_type": "stream",
     "text": [
      "Scraping quotes:  28%|██▊       | 287/1020 [08:03<09:08,  1.34it/s]"
     ]
    },
    {
     "name": "stdout",
     "output_type": "stream",
     "text": [
      "200\n"
     ]
    },
    {
     "name": "stderr",
     "output_type": "stream",
     "text": [
      "Scraping quotes:  28%|██▊       | 289/1020 [08:05<10:13,  1.19it/s]"
     ]
    },
    {
     "name": "stdout",
     "output_type": "stream",
     "text": [
      "500\n",
      "Error scraping {'country': 'US', 'region': 'us-fl', 'crypto_name': 'Ethereum Mainnet', 'payment_name': 'PSE', 'regionId': '/regions/us-fl', 'paymentMethodId': '/payments/pse', 'cryptoCurrencyId': '/currencies/crypto/1/0x0000000000000000000000000000000000000000', 'fiatCurrencyId': '/currencies/fiat/usd', 'amount': 204, 'request_time': datetime.datetime(2024, 8, 2, 21, 51, 3, 910401)}\n",
      "'success'\n",
      "\n"
     ]
    },
    {
     "name": "stderr",
     "output_type": "stream",
     "text": [
      "Scraping quotes:  28%|██▊       | 290/1020 [08:05<10:05,  1.21it/s]"
     ]
    },
    {
     "name": "stdout",
     "output_type": "stream",
     "text": [
      "500\n",
      "Error scraping {'country': 'US', 'region': 'us-fl', 'crypto_name': 'USDT (Ethereum)', 'payment_name': 'PSE', 'regionId': '/regions/us-fl', 'paymentMethodId': '/payments/pse', 'cryptoCurrencyId': '/currencies/crypto/1/0xdac17f958d2ee523a2206206994597c13d831ec7', 'fiatCurrencyId': '/currencies/fiat/usd', 'amount': 204, 'request_time': datetime.datetime(2024, 8, 2, 21, 51, 4, 880205)}\n",
      "'success'\n",
      "\n"
     ]
    },
    {
     "name": "stderr",
     "output_type": "stream",
     "text": [
      "Scraping quotes:  29%|██▊       | 291/1020 [08:08<16:43,  1.38s/it]"
     ]
    },
    {
     "name": "stdout",
     "output_type": "stream",
     "text": [
      "500\n",
      "Error scraping {'country': 'US', 'region': 'us-fl', 'crypto_name': 'USDT (BNB Chain)', 'payment_name': 'PSE', 'regionId': '/regions/us-fl', 'paymentMethodId': '/payments/pse', 'cryptoCurrencyId': '/currencies/crypto/56/0x55d398326f99059ff775485246999027b3197955', 'fiatCurrencyId': '/currencies/fiat/usd', 'amount': 204, 'request_time': datetime.datetime(2024, 8, 2, 21, 51, 5, 687958)}\n",
      "'success'\n",
      "\n",
      "200\n"
     ]
    },
    {
     "name": "stderr",
     "output_type": "stream",
     "text": [
      "Scraping quotes:  29%|██▊       | 292/1020 [08:10<17:26,  1.44s/it]"
     ]
    },
    {
     "name": "stdout",
     "output_type": "stream",
     "text": [
      "200\n"
     ]
    },
    {
     "name": "stderr",
     "output_type": "stream",
     "text": [
      "Scraping quotes:  29%|██▊       | 293/1020 [08:11<16:12,  1.34s/it]"
     ]
    },
    {
     "name": "stdout",
     "output_type": "stream",
     "text": [
      "200\n"
     ]
    },
    {
     "name": "stderr",
     "output_type": "stream",
     "text": [
      "Scraping quotes:  29%|██▉       | 294/1020 [08:12<15:25,  1.28s/it]"
     ]
    },
    {
     "name": "stdout",
     "output_type": "stream",
     "text": [
      "200\n"
     ]
    },
    {
     "name": "stderr",
     "output_type": "stream",
     "text": [
      "Scraping quotes:  29%|██▉       | 295/1020 [08:14<16:44,  1.39s/it]"
     ]
    },
    {
     "name": "stdout",
     "output_type": "stream",
     "text": [
      "200\n"
     ]
    },
    {
     "name": "stderr",
     "output_type": "stream",
     "text": [
      "Scraping quotes:  29%|██▉       | 296/1020 [08:16<20:58,  1.74s/it]"
     ]
    },
    {
     "name": "stdout",
     "output_type": "stream",
     "text": [
      "200\n"
     ]
    },
    {
     "name": "stderr",
     "output_type": "stream",
     "text": [
      "Scraping quotes:  29%|██▉       | 297/1020 [08:19<26:28,  2.20s/it]"
     ]
    },
    {
     "name": "stdout",
     "output_type": "stream",
     "text": [
      "200\n"
     ]
    },
    {
     "name": "stderr",
     "output_type": "stream",
     "text": [
      "Scraping quotes:  29%|██▉       | 298/1020 [08:23<31:32,  2.62s/it]"
     ]
    },
    {
     "name": "stdout",
     "output_type": "stream",
     "text": [
      "200\n"
     ]
    },
    {
     "name": "stderr",
     "output_type": "stream",
     "text": [
      "Scraping quotes:  29%|██▉       | 299/1020 [08:24<26:20,  2.19s/it]"
     ]
    },
    {
     "name": "stdout",
     "output_type": "stream",
     "text": [
      "200\n"
     ]
    },
    {
     "name": "stderr",
     "output_type": "stream",
     "text": [
      "Scraping quotes:  29%|██▉       | 300/1020 [08:27<27:24,  2.28s/it]"
     ]
    },
    {
     "name": "stdout",
     "output_type": "stream",
     "text": [
      "200\n"
     ]
    },
    {
     "name": "stderr",
     "output_type": "stream",
     "text": [
      "Scraping quotes:  30%|██▉       | 301/1020 [08:28<25:19,  2.11s/it]"
     ]
    },
    {
     "name": "stdout",
     "output_type": "stream",
     "text": [
      "200\n"
     ]
    },
    {
     "name": "stderr",
     "output_type": "stream",
     "text": [
      "Scraping quotes:  30%|██▉       | 302/1020 [08:31<26:38,  2.23s/it]"
     ]
    },
    {
     "name": "stdout",
     "output_type": "stream",
     "text": [
      "200\n"
     ]
    },
    {
     "name": "stderr",
     "output_type": "stream",
     "text": [
      "Scraping quotes:  30%|██▉       | 304/1020 [08:33<18:42,  1.57s/it]"
     ]
    },
    {
     "name": "stdout",
     "output_type": "stream",
     "text": [
      "500\n",
      "Error scraping {'country': 'UK', 'region': 'gb', 'crypto_name': 'Ethereum Mainnet', 'payment_name': 'PSE', 'regionId': '/regions/gb', 'paymentMethodId': '/payments/pse', 'cryptoCurrencyId': '/currencies/crypto/1/0x0000000000000000000000000000000000000000', 'fiatCurrencyId': '/currencies/fiat/gbp', 'amount': 204, 'request_time': datetime.datetime(2024, 8, 2, 21, 51, 32, 126023)}\n",
      "'success'\n",
      "\n",
      "500\n",
      "Error scraping {'country': 'UK', 'region': 'gb', 'crypto_name': 'USDT (Ethereum)', 'payment_name': 'PSE', 'regionId': '/regions/gb', 'paymentMethodId': '/payments/pse', 'cryptoCurrencyId': '/currencies/crypto/1/0xdac17f958d2ee523a2206206994597c13d831ec7', 'fiatCurrencyId': '/currencies/fiat/gbp', 'amount': 204, 'request_time': datetime.datetime(2024, 8, 2, 21, 51, 33, 18635)}\n",
      "'success'\n",
      "\n"
     ]
    },
    {
     "name": "stderr",
     "output_type": "stream",
     "text": [
      "Scraping quotes:  30%|███       | 306/1020 [08:36<19:02,  1.60s/it]"
     ]
    },
    {
     "name": "stdout",
     "output_type": "stream",
     "text": [
      "500\n",
      "Error scraping {'country': 'UK', 'region': 'gb', 'crypto_name': 'USDT (BNB Chain)', 'payment_name': 'PSE', 'regionId': '/regions/gb', 'paymentMethodId': '/payments/pse', 'cryptoCurrencyId': '/currencies/crypto/56/0x55d398326f99059ff775485246999027b3197955', 'fiatCurrencyId': '/currencies/fiat/gbp', 'amount': 204, 'request_time': datetime.datetime(2024, 8, 2, 21, 51, 34, 350377)}\n",
      "'success'\n",
      "\n",
      "200\n"
     ]
    },
    {
     "name": "stderr",
     "output_type": "stream",
     "text": [
      "Scraping quotes:  30%|███       | 307/1020 [08:39<22:19,  1.88s/it]"
     ]
    },
    {
     "name": "stdout",
     "output_type": "stream",
     "text": [
      "200\n"
     ]
    },
    {
     "name": "stderr",
     "output_type": "stream",
     "text": [
      "Scraping quotes:  30%|███       | 308/1020 [08:40<21:58,  1.85s/it]"
     ]
    },
    {
     "name": "stdout",
     "output_type": "stream",
     "text": [
      "200\n"
     ]
    },
    {
     "name": "stderr",
     "output_type": "stream",
     "text": [
      "Scraping quotes:  30%|███       | 309/1020 [08:42<22:59,  1.94s/it]"
     ]
    },
    {
     "name": "stdout",
     "output_type": "stream",
     "text": [
      "200\n"
     ]
    },
    {
     "name": "stderr",
     "output_type": "stream",
     "text": [
      "Scraping quotes:  30%|███       | 310/1020 [08:45<24:29,  2.07s/it]"
     ]
    },
    {
     "name": "stdout",
     "output_type": "stream",
     "text": [
      "200\n"
     ]
    },
    {
     "name": "stderr",
     "output_type": "stream",
     "text": [
      "Scraping quotes:  30%|███       | 311/1020 [08:47<25:49,  2.18s/it]"
     ]
    },
    {
     "name": "stdout",
     "output_type": "stream",
     "text": [
      "200\n"
     ]
    },
    {
     "name": "stderr",
     "output_type": "stream",
     "text": [
      "Scraping quotes:  31%|███       | 312/1020 [08:50<26:01,  2.20s/it]"
     ]
    },
    {
     "name": "stdout",
     "output_type": "stream",
     "text": [
      "200\n"
     ]
    },
    {
     "name": "stderr",
     "output_type": "stream",
     "text": [
      "Scraping quotes:  31%|███       | 313/1020 [08:52<28:21,  2.41s/it]"
     ]
    },
    {
     "name": "stdout",
     "output_type": "stream",
     "text": [
      "200\n"
     ]
    },
    {
     "name": "stderr",
     "output_type": "stream",
     "text": [
      "Scraping quotes:  31%|███       | 314/1020 [08:56<33:53,  2.88s/it]"
     ]
    },
    {
     "name": "stdout",
     "output_type": "stream",
     "text": [
      "200\n"
     ]
    },
    {
     "name": "stderr",
     "output_type": "stream",
     "text": [
      "Scraping quotes:  31%|███       | 315/1020 [08:59<31:37,  2.69s/it]"
     ]
    },
    {
     "name": "stdout",
     "output_type": "stream",
     "text": [
      "200\n"
     ]
    },
    {
     "name": "stderr",
     "output_type": "stream",
     "text": [
      "Scraping quotes:  31%|███       | 316/1020 [09:00<26:29,  2.26s/it]"
     ]
    },
    {
     "name": "stdout",
     "output_type": "stream",
     "text": [
      "200\n"
     ]
    },
    {
     "name": "stderr",
     "output_type": "stream",
     "text": [
      "Scraping quotes:  31%|███       | 317/1020 [09:01<22:51,  1.95s/it]"
     ]
    },
    {
     "name": "stdout",
     "output_type": "stream",
     "text": [
      "200\n"
     ]
    },
    {
     "name": "stderr",
     "output_type": "stream",
     "text": [
      "Scraping quotes:  31%|███       | 318/1020 [09:02<20:31,  1.75s/it]"
     ]
    },
    {
     "name": "stdout",
     "output_type": "stream",
     "text": [
      "500\n",
      "Error scraping {'country': 'DE', 'region': 'de', 'crypto_name': 'Ethereum Mainnet', 'payment_name': 'PSE', 'regionId': '/regions/de', 'paymentMethodId': '/payments/pse', 'cryptoCurrencyId': '/currencies/crypto/1/0x0000000000000000000000000000000000000000', 'fiatCurrencyId': '/currencies/fiat/eur', 'amount': 288, 'request_time': datetime.datetime(2024, 8, 2, 21, 52, 2, 622778)}\n",
      "'success'\n",
      "\n"
     ]
    },
    {
     "name": "stderr",
     "output_type": "stream",
     "text": [
      "Scraping quotes:  31%|███▏      | 320/1020 [09:05<17:41,  1.52s/it]"
     ]
    },
    {
     "name": "stdout",
     "output_type": "stream",
     "text": [
      "500\n",
      "Error scraping {'country': 'DE', 'region': 'de', 'crypto_name': 'USDT (Ethereum)', 'payment_name': 'PSE', 'regionId': '/regions/de', 'paymentMethodId': '/payments/pse', 'cryptoCurrencyId': '/currencies/crypto/1/0xdac17f958d2ee523a2206206994597c13d831ec7', 'fiatCurrencyId': '/currencies/fiat/eur', 'amount': 288, 'request_time': datetime.datetime(2024, 8, 2, 21, 52, 4, 153308)}\n",
      "'success'\n",
      "\n",
      "500\n",
      "Error scraping {'country': 'DE', 'region': 'de', 'crypto_name': 'USDT (BNB Chain)', 'payment_name': 'PSE', 'regionId': '/regions/de', 'paymentMethodId': '/payments/pse', 'cryptoCurrencyId': '/currencies/crypto/56/0x55d398326f99059ff775485246999027b3197955', 'fiatCurrencyId': '/currencies/fiat/eur', 'amount': 288, 'request_time': datetime.datetime(2024, 8, 2, 21, 52, 5, 271413)}\n",
      "'success'\n",
      "\n"
     ]
    },
    {
     "name": "stderr",
     "output_type": "stream",
     "text": [
      "Scraping quotes:  31%|███▏      | 321/1020 [09:07<19:53,  1.71s/it]"
     ]
    },
    {
     "name": "stdout",
     "output_type": "stream",
     "text": [
      "200\n"
     ]
    },
    {
     "name": "stderr",
     "output_type": "stream",
     "text": [
      "Scraping quotes:  32%|███▏      | 322/1020 [09:11<25:27,  2.19s/it]"
     ]
    },
    {
     "name": "stdout",
     "output_type": "stream",
     "text": [
      "200\n"
     ]
    },
    {
     "name": "stderr",
     "output_type": "stream",
     "text": [
      "Scraping quotes:  32%|███▏      | 323/1020 [09:13<26:45,  2.30s/it]"
     ]
    },
    {
     "name": "stdout",
     "output_type": "stream",
     "text": [
      "200\n"
     ]
    },
    {
     "name": "stderr",
     "output_type": "stream",
     "text": [
      "Scraping quotes:  32%|███▏      | 324/1020 [09:18<34:21,  2.96s/it]"
     ]
    },
    {
     "name": "stdout",
     "output_type": "stream",
     "text": [
      "200\n"
     ]
    },
    {
     "name": "stderr",
     "output_type": "stream",
     "text": [
      "Scraping quotes:  32%|███▏      | 325/1020 [09:20<32:56,  2.84s/it]"
     ]
    },
    {
     "name": "stdout",
     "output_type": "stream",
     "text": [
      "200\n"
     ]
    },
    {
     "name": "stderr",
     "output_type": "stream",
     "text": [
      "Scraping quotes:  32%|███▏      | 326/1020 [09:23<31:10,  2.70s/it]"
     ]
    },
    {
     "name": "stdout",
     "output_type": "stream",
     "text": [
      "200\n"
     ]
    },
    {
     "name": "stderr",
     "output_type": "stream",
     "text": [
      "Scraping quotes:  32%|███▏      | 327/1020 [09:26<33:51,  2.93s/it]"
     ]
    },
    {
     "name": "stdout",
     "output_type": "stream",
     "text": [
      "200\n"
     ]
    },
    {
     "name": "stderr",
     "output_type": "stream",
     "text": [
      "Scraping quotes:  32%|███▏      | 328/1020 [09:27<26:06,  2.26s/it]"
     ]
    },
    {
     "name": "stdout",
     "output_type": "stream",
     "text": [
      "200\n"
     ]
    },
    {
     "name": "stderr",
     "output_type": "stream",
     "text": [
      "Scraping quotes:  32%|███▏      | 329/1020 [09:28<24:15,  2.11s/it]"
     ]
    },
    {
     "name": "stdout",
     "output_type": "stream",
     "text": [
      "200\n"
     ]
    },
    {
     "name": "stderr",
     "output_type": "stream",
     "text": [
      "Scraping quotes:  32%|███▏      | 330/1020 [09:29<19:19,  1.68s/it]"
     ]
    },
    {
     "name": "stdout",
     "output_type": "stream",
     "text": [
      "200\n"
     ]
    },
    {
     "name": "stderr",
     "output_type": "stream",
     "text": [
      "Scraping quotes:  32%|███▏      | 331/1020 [09:30<16:55,  1.47s/it]"
     ]
    },
    {
     "name": "stdout",
     "output_type": "stream",
     "text": [
      "200\n"
     ]
    },
    {
     "name": "stderr",
     "output_type": "stream",
     "text": [
      "Scraping quotes:  33%|███▎      | 332/1020 [09:31<15:29,  1.35s/it]"
     ]
    },
    {
     "name": "stdout",
     "output_type": "stream",
     "text": [
      "500\n",
      "Error scraping {'country': 'US', 'region': 'us-fl', 'crypto_name': 'USDT (BNB Chain)', 'payment_name': 'Instant ACH Bank Transfer', 'regionId': '/regions/us-fl', 'paymentMethodId': '/payments/instant-bank-transfer', 'cryptoCurrencyId': '/currencies/crypto/56/0x55d398326f99059ff775485246999027b3197955', 'fiatCurrencyId': '/currencies/fiat/usd', 'amount': 288, 'request_time': datetime.datetime(2024, 8, 2, 21, 52, 31, 394512)}\n",
      "'success'\n",
      "\n"
     ]
    },
    {
     "name": "stderr",
     "output_type": "stream",
     "text": [
      "Scraping quotes:  33%|███▎      | 333/1020 [09:32<13:13,  1.15s/it]"
     ]
    },
    {
     "name": "stdout",
     "output_type": "stream",
     "text": [
      "500\n",
      "Error scraping {'country': 'US', 'region': 'us-fl', 'crypto_name': 'Ethereum Mainnet', 'payment_name': 'Wire Transfer', 'regionId': '/regions/us-fl', 'paymentMethodId': '/payments/wire-transfer', 'cryptoCurrencyId': '/currencies/crypto/1/0x0000000000000000000000000000000000000000', 'fiatCurrencyId': '/currencies/fiat/usd', 'amount': 288, 'request_time': datetime.datetime(2024, 8, 2, 21, 52, 32, 104229)}\n",
      "'success'\n",
      "\n"
     ]
    },
    {
     "name": "stderr",
     "output_type": "stream",
     "text": [
      "Scraping quotes:  33%|███▎      | 335/1020 [09:34<11:20,  1.01it/s]"
     ]
    },
    {
     "name": "stdout",
     "output_type": "stream",
     "text": [
      "500\n",
      "Error scraping {'country': 'US', 'region': 'us-fl', 'crypto_name': 'USDT (Ethereum)', 'payment_name': 'Wire Transfer', 'regionId': '/regions/us-fl', 'paymentMethodId': '/payments/wire-transfer', 'cryptoCurrencyId': '/currencies/crypto/1/0xdac17f958d2ee523a2206206994597c13d831ec7', 'fiatCurrencyId': '/currencies/fiat/usd', 'amount': 288, 'request_time': datetime.datetime(2024, 8, 2, 21, 52, 33, 185063)}\n",
      "'success'\n",
      "\n"
     ]
    },
    {
     "name": "stderr",
     "output_type": "stream",
     "text": [
      "Scraping quotes:  33%|███▎      | 336/1020 [09:34<10:02,  1.14it/s]"
     ]
    },
    {
     "name": "stdout",
     "output_type": "stream",
     "text": [
      "500\n",
      "Error scraping {'country': 'US', 'region': 'us-fl', 'crypto_name': 'USDT (BNB Chain)', 'payment_name': 'Wire Transfer', 'regionId': '/regions/us-fl', 'paymentMethodId': '/payments/wire-transfer', 'cryptoCurrencyId': '/currencies/crypto/56/0x55d398326f99059ff775485246999027b3197955', 'fiatCurrencyId': '/currencies/fiat/usd', 'amount': 288, 'request_time': datetime.datetime(2024, 8, 2, 21, 52, 33, 842383)}\n",
      "'success'\n",
      "\n",
      "200\n"
     ]
    },
    {
     "name": "stderr",
     "output_type": "stream",
     "text": [
      "Scraping quotes:  33%|███▎      | 337/1020 [09:35<09:34,  1.19it/s]"
     ]
    },
    {
     "name": "stdout",
     "output_type": "stream",
     "text": [
      "200\n"
     ]
    },
    {
     "name": "stderr",
     "output_type": "stream",
     "text": [
      "Scraping quotes:  33%|███▎      | 338/1020 [09:36<09:10,  1.24it/s]"
     ]
    },
    {
     "name": "stdout",
     "output_type": "stream",
     "text": [
      "200\n"
     ]
    },
    {
     "name": "stderr",
     "output_type": "stream",
     "text": [
      "Scraping quotes:  33%|███▎      | 340/1020 [09:39<13:22,  1.18s/it]"
     ]
    },
    {
     "name": "stdout",
     "output_type": "stream",
     "text": [
      "500\n",
      "Error scraping {'country': 'US', 'region': 'us-fl', 'crypto_name': 'Ethereum Mainnet', 'payment_name': 'PSE', 'regionId': '/regions/us-fl', 'paymentMethodId': '/payments/pse', 'cryptoCurrencyId': '/currencies/crypto/1/0x0000000000000000000000000000000000000000', 'fiatCurrencyId': '/currencies/fiat/usd', 'amount': 288, 'request_time': datetime.datetime(2024, 8, 2, 21, 52, 36, 991589)}\n",
      "'success'\n",
      "\n",
      "500\n",
      "Error scraping {'country': 'US', 'region': 'us-fl', 'crypto_name': 'USDT (Ethereum)', 'payment_name': 'PSE', 'regionId': '/regions/us-fl', 'paymentMethodId': '/payments/pse', 'cryptoCurrencyId': '/currencies/crypto/1/0xdac17f958d2ee523a2206206994597c13d831ec7', 'fiatCurrencyId': '/currencies/fiat/usd', 'amount': 288, 'request_time': datetime.datetime(2024, 8, 2, 21, 52, 38, 866105)}\n",
      "'success'\n",
      "\n"
     ]
    },
    {
     "name": "stderr",
     "output_type": "stream",
     "text": [
      "Scraping quotes:  33%|███▎      | 341/1020 [09:40<13:51,  1.22s/it]"
     ]
    },
    {
     "name": "stdout",
     "output_type": "stream",
     "text": [
      "500\n",
      "Error scraping {'country': 'US', 'region': 'us-fl', 'crypto_name': 'USDT (BNB Chain)', 'payment_name': 'PSE', 'regionId': '/regions/us-fl', 'paymentMethodId': '/payments/pse', 'cryptoCurrencyId': '/currencies/crypto/56/0x55d398326f99059ff775485246999027b3197955', 'fiatCurrencyId': '/currencies/fiat/usd', 'amount': 288, 'request_time': datetime.datetime(2024, 8, 2, 21, 52, 40, 191738)}\n",
      "'success'\n",
      "\n"
     ]
    },
    {
     "name": "stderr",
     "output_type": "stream",
     "text": [
      "Scraping quotes:  34%|███▎      | 342/1020 [09:41<13:21,  1.18s/it]"
     ]
    },
    {
     "name": "stdout",
     "output_type": "stream",
     "text": [
      "200\n"
     ]
    },
    {
     "name": "stderr",
     "output_type": "stream",
     "text": [
      "Scraping quotes:  34%|███▎      | 343/1020 [09:42<14:07,  1.25s/it]"
     ]
    },
    {
     "name": "stdout",
     "output_type": "stream",
     "text": [
      "200\n"
     ]
    },
    {
     "name": "stderr",
     "output_type": "stream",
     "text": [
      "Scraping quotes:  34%|███▎      | 344/1020 [09:44<13:18,  1.18s/it]"
     ]
    },
    {
     "name": "stdout",
     "output_type": "stream",
     "text": [
      "200\n"
     ]
    },
    {
     "name": "stderr",
     "output_type": "stream",
     "text": [
      "Scraping quotes:  34%|███▍      | 345/1020 [09:46<17:15,  1.53s/it]"
     ]
    },
    {
     "name": "stdout",
     "output_type": "stream",
     "text": [
      "200\n"
     ]
    },
    {
     "name": "stderr",
     "output_type": "stream",
     "text": [
      "Scraping quotes:  34%|███▍      | 346/1020 [09:50<27:15,  2.43s/it]"
     ]
    },
    {
     "name": "stdout",
     "output_type": "stream",
     "text": [
      "200\n"
     ]
    },
    {
     "name": "stderr",
     "output_type": "stream",
     "text": [
      "Scraping quotes:  34%|███▍      | 347/1020 [09:52<23:09,  2.07s/it]"
     ]
    },
    {
     "name": "stdout",
     "output_type": "stream",
     "text": [
      "200\n"
     ]
    },
    {
     "name": "stderr",
     "output_type": "stream",
     "text": [
      "Scraping quotes:  34%|███▍      | 348/1020 [09:53<20:00,  1.79s/it]"
     ]
    },
    {
     "name": "stdout",
     "output_type": "stream",
     "text": [
      "200\n"
     ]
    },
    {
     "name": "stderr",
     "output_type": "stream",
     "text": [
      "Scraping quotes:  34%|███▍      | 349/1020 [09:54<18:52,  1.69s/it]"
     ]
    },
    {
     "name": "stdout",
     "output_type": "stream",
     "text": [
      "200\n"
     ]
    },
    {
     "name": "stderr",
     "output_type": "stream",
     "text": [
      "Scraping quotes:  34%|███▍      | 350/1020 [09:55<17:10,  1.54s/it]"
     ]
    },
    {
     "name": "stdout",
     "output_type": "stream",
     "text": [
      "200\n"
     ]
    },
    {
     "name": "stderr",
     "output_type": "stream",
     "text": [
      "Scraping quotes:  34%|███▍      | 351/1020 [09:56<15:07,  1.36s/it]"
     ]
    },
    {
     "name": "stdout",
     "output_type": "stream",
     "text": [
      "200\n"
     ]
    },
    {
     "name": "stderr",
     "output_type": "stream",
     "text": [
      "Scraping quotes:  35%|███▍      | 352/1020 [09:59<19:38,  1.76s/it]"
     ]
    },
    {
     "name": "stdout",
     "output_type": "stream",
     "text": [
      "200\n"
     ]
    },
    {
     "name": "stderr",
     "output_type": "stream",
     "text": [
      "Scraping quotes:  35%|███▍      | 353/1020 [10:00<17:56,  1.61s/it]"
     ]
    },
    {
     "name": "stdout",
     "output_type": "stream",
     "text": [
      "200\n"
     ]
    },
    {
     "name": "stderr",
     "output_type": "stream",
     "text": [
      "Scraping quotes:  35%|███▍      | 354/1020 [10:01<15:17,  1.38s/it]"
     ]
    },
    {
     "name": "stdout",
     "output_type": "stream",
     "text": [
      "500\n",
      "Error scraping {'country': 'UK', 'region': 'gb', 'crypto_name': 'Ethereum Mainnet', 'payment_name': 'PSE', 'regionId': '/regions/gb', 'paymentMethodId': '/payments/pse', 'cryptoCurrencyId': '/currencies/crypto/1/0x0000000000000000000000000000000000000000', 'fiatCurrencyId': '/currencies/fiat/gbp', 'amount': 288, 'request_time': datetime.datetime(2024, 8, 2, 21, 53, 1, 315383)}\n",
      "'success'\n",
      "\n"
     ]
    },
    {
     "name": "stderr",
     "output_type": "stream",
     "text": [
      "Scraping quotes:  35%|███▍      | 356/1020 [10:03<12:21,  1.12s/it]"
     ]
    },
    {
     "name": "stdout",
     "output_type": "stream",
     "text": [
      "500\n",
      "Error scraping {'country': 'UK', 'region': 'gb', 'crypto_name': 'USDT (Ethereum)', 'payment_name': 'PSE', 'regionId': '/regions/gb', 'paymentMethodId': '/payments/pse', 'cryptoCurrencyId': '/currencies/crypto/1/0xdac17f958d2ee523a2206206994597c13d831ec7', 'fiatCurrencyId': '/currencies/fiat/gbp', 'amount': 288, 'request_time': datetime.datetime(2024, 8, 2, 21, 53, 2, 118164)}\n",
      "'success'\n",
      "\n"
     ]
    },
    {
     "name": "stderr",
     "output_type": "stream",
     "text": [
      "Scraping quotes:  35%|███▌      | 357/1020 [10:04<12:01,  1.09s/it]"
     ]
    },
    {
     "name": "stdout",
     "output_type": "stream",
     "text": [
      "500\n",
      "Error scraping {'country': 'UK', 'region': 'gb', 'crypto_name': 'USDT (BNB Chain)', 'payment_name': 'PSE', 'regionId': '/regions/gb', 'paymentMethodId': '/payments/pse', 'cryptoCurrencyId': '/currencies/crypto/56/0x55d398326f99059ff775485246999027b3197955', 'fiatCurrencyId': '/currencies/fiat/gbp', 'amount': 288, 'request_time': datetime.datetime(2024, 8, 2, 21, 53, 3, 28014)}\n",
      "'success'\n",
      "\n",
      "200\n"
     ]
    },
    {
     "name": "stderr",
     "output_type": "stream",
     "text": [
      "Scraping quotes:  35%|███▌      | 358/1020 [10:06<15:58,  1.45s/it]"
     ]
    },
    {
     "name": "stdout",
     "output_type": "stream",
     "text": [
      "200\n"
     ]
    },
    {
     "name": "stderr",
     "output_type": "stream",
     "text": [
      "Scraping quotes:  35%|███▌      | 359/1020 [10:09<21:10,  1.92s/it]"
     ]
    },
    {
     "name": "stdout",
     "output_type": "stream",
     "text": [
      "200\n"
     ]
    },
    {
     "name": "stderr",
     "output_type": "stream",
     "text": [
      "Scraping quotes:  35%|███▌      | 360/1020 [10:11<21:35,  1.96s/it]"
     ]
    },
    {
     "name": "stdout",
     "output_type": "stream",
     "text": [
      "200\n"
     ]
    },
    {
     "name": "stderr",
     "output_type": "stream",
     "text": [
      "Scraping quotes:  35%|███▌      | 361/1020 [10:14<24:16,  2.21s/it]"
     ]
    },
    {
     "name": "stdout",
     "output_type": "stream",
     "text": [
      "200\n"
     ]
    },
    {
     "name": "stderr",
     "output_type": "stream",
     "text": [
      "Scraping quotes:  35%|███▌      | 362/1020 [10:16<24:48,  2.26s/it]"
     ]
    },
    {
     "name": "stdout",
     "output_type": "stream",
     "text": [
      "200\n"
     ]
    },
    {
     "name": "stderr",
     "output_type": "stream",
     "text": [
      "Scraping quotes:  36%|███▌      | 363/1020 [10:21<31:05,  2.84s/it]"
     ]
    },
    {
     "name": "stdout",
     "output_type": "stream",
     "text": [
      "200\n"
     ]
    },
    {
     "name": "stderr",
     "output_type": "stream",
     "text": [
      "Scraping quotes:  36%|███▌      | 364/1020 [10:23<30:33,  2.79s/it]"
     ]
    },
    {
     "name": "stdout",
     "output_type": "stream",
     "text": [
      "200\n"
     ]
    },
    {
     "name": "stderr",
     "output_type": "stream",
     "text": [
      "Scraping quotes:  36%|███▌      | 365/1020 [10:26<29:21,  2.69s/it]"
     ]
    },
    {
     "name": "stdout",
     "output_type": "stream",
     "text": [
      "200\n"
     ]
    },
    {
     "name": "stderr",
     "output_type": "stream",
     "text": [
      "Scraping quotes:  36%|███▌      | 366/1020 [10:28<27:37,  2.53s/it]"
     ]
    },
    {
     "name": "stdout",
     "output_type": "stream",
     "text": [
      "200\n"
     ]
    },
    {
     "name": "stderr",
     "output_type": "stream",
     "text": [
      "Scraping quotes:  36%|███▌      | 367/1020 [10:29<23:55,  2.20s/it]"
     ]
    },
    {
     "name": "stdout",
     "output_type": "stream",
     "text": [
      "200\n"
     ]
    },
    {
     "name": "stderr",
     "output_type": "stream",
     "text": [
      "Scraping quotes:  36%|███▌      | 368/1020 [10:31<21:02,  1.94s/it]"
     ]
    },
    {
     "name": "stdout",
     "output_type": "stream",
     "text": [
      "200\n"
     ]
    },
    {
     "name": "stderr",
     "output_type": "stream",
     "text": [
      "Scraping quotes:  36%|███▋      | 370/1020 [10:34<17:51,  1.65s/it]"
     ]
    },
    {
     "name": "stdout",
     "output_type": "stream",
     "text": [
      "500\n",
      "Error scraping {'country': 'DE', 'region': 'de', 'crypto_name': 'Ethereum Mainnet', 'payment_name': 'PSE', 'regionId': '/regions/de', 'paymentMethodId': '/payments/pse', 'cryptoCurrencyId': '/currencies/crypto/1/0x0000000000000000000000000000000000000000', 'fiatCurrencyId': '/currencies/fiat/eur', 'amount': 406, 'request_time': datetime.datetime(2024, 8, 2, 21, 53, 32, 670677)}\n",
      "'success'\n",
      "\n"
     ]
    },
    {
     "name": "stderr",
     "output_type": "stream",
     "text": [
      "Scraping quotes:  36%|███▋      | 371/1020 [10:35<16:34,  1.53s/it]"
     ]
    },
    {
     "name": "stdout",
     "output_type": "stream",
     "text": [
      "500\n",
      "Error scraping {'country': 'DE', 'region': 'de', 'crypto_name': 'USDT (Ethereum)', 'payment_name': 'PSE', 'regionId': '/regions/de', 'paymentMethodId': '/payments/pse', 'cryptoCurrencyId': '/currencies/crypto/1/0xdac17f958d2ee523a2206206994597c13d831ec7', 'fiatCurrencyId': '/currencies/fiat/eur', 'amount': 406, 'request_time': datetime.datetime(2024, 8, 2, 21, 53, 33, 709261)}\n",
      "'success'\n",
      "\n",
      "500\n",
      "Error scraping {'country': 'DE', 'region': 'de', 'crypto_name': 'USDT (BNB Chain)', 'payment_name': 'PSE', 'regionId': '/regions/de', 'paymentMethodId': '/payments/pse', 'cryptoCurrencyId': '/currencies/crypto/56/0x55d398326f99059ff775485246999027b3197955', 'fiatCurrencyId': '/currencies/fiat/eur', 'amount': 406, 'request_time': datetime.datetime(2024, 8, 2, 21, 53, 34, 974560)}\n",
      "'success'\n",
      "\n"
     ]
    },
    {
     "name": "stderr",
     "output_type": "stream",
     "text": [
      "Scraping quotes:  36%|███▋      | 372/1020 [10:36<14:34,  1.35s/it]"
     ]
    },
    {
     "name": "stdout",
     "output_type": "stream",
     "text": [
      "200\n"
     ]
    },
    {
     "name": "stderr",
     "output_type": "stream",
     "text": [
      "Scraping quotes:  37%|███▋      | 373/1020 [10:39<19:14,  1.78s/it]"
     ]
    },
    {
     "name": "stdout",
     "output_type": "stream",
     "text": [
      "200\n"
     ]
    },
    {
     "name": "stderr",
     "output_type": "stream",
     "text": [
      "Scraping quotes:  37%|███▋      | 374/1020 [10:41<21:41,  2.02s/it]"
     ]
    },
    {
     "name": "stdout",
     "output_type": "stream",
     "text": [
      "200\n"
     ]
    },
    {
     "name": "stderr",
     "output_type": "stream",
     "text": [
      "Scraping quotes:  37%|███▋      | 375/1020 [10:43<22:48,  2.12s/it]"
     ]
    },
    {
     "name": "stdout",
     "output_type": "stream",
     "text": [
      "200\n"
     ]
    },
    {
     "name": "stderr",
     "output_type": "stream",
     "text": [
      "Scraping quotes:  37%|███▋      | 376/1020 [10:46<24:39,  2.30s/it]"
     ]
    },
    {
     "name": "stdout",
     "output_type": "stream",
     "text": [
      "200\n"
     ]
    },
    {
     "name": "stderr",
     "output_type": "stream",
     "text": [
      "Scraping quotes:  37%|███▋      | 377/1020 [10:48<24:37,  2.30s/it]"
     ]
    },
    {
     "name": "stdout",
     "output_type": "stream",
     "text": [
      "200\n"
     ]
    },
    {
     "name": "stderr",
     "output_type": "stream",
     "text": [
      "Scraping quotes:  37%|███▋      | 378/1020 [10:51<26:46,  2.50s/it]"
     ]
    },
    {
     "name": "stdout",
     "output_type": "stream",
     "text": [
      "200\n"
     ]
    },
    {
     "name": "stderr",
     "output_type": "stream",
     "text": [
      "Scraping quotes:  37%|███▋      | 379/1020 [10:52<20:52,  1.95s/it]"
     ]
    },
    {
     "name": "stdout",
     "output_type": "stream",
     "text": [
      "200\n"
     ]
    },
    {
     "name": "stderr",
     "output_type": "stream",
     "text": [
      "Scraping quotes:  37%|███▋      | 380/1020 [10:53<16:58,  1.59s/it]"
     ]
    },
    {
     "name": "stdout",
     "output_type": "stream",
     "text": [
      "200\n"
     ]
    },
    {
     "name": "stderr",
     "output_type": "stream",
     "text": [
      "Scraping quotes:  37%|███▋      | 381/1020 [10:54<14:04,  1.32s/it]"
     ]
    },
    {
     "name": "stdout",
     "output_type": "stream",
     "text": [
      "200\n"
     ]
    },
    {
     "name": "stderr",
     "output_type": "stream",
     "text": [
      "Scraping quotes:  37%|███▋      | 382/1020 [10:55<13:16,  1.25s/it]"
     ]
    },
    {
     "name": "stdout",
     "output_type": "stream",
     "text": [
      "200\n"
     ]
    },
    {
     "name": "stderr",
     "output_type": "stream",
     "text": [
      "Scraping quotes:  38%|███▊      | 384/1020 [10:57<11:47,  1.11s/it]"
     ]
    },
    {
     "name": "stdout",
     "output_type": "stream",
     "text": [
      "500\n",
      "Error scraping {'country': 'US', 'region': 'us-fl', 'crypto_name': 'USDT (BNB Chain)', 'payment_name': 'Instant ACH Bank Transfer', 'regionId': '/regions/us-fl', 'paymentMethodId': '/payments/instant-bank-transfer', 'cryptoCurrencyId': '/currencies/crypto/56/0x55d398326f99059ff775485246999027b3197955', 'fiatCurrencyId': '/currencies/fiat/usd', 'amount': 406, 'request_time': datetime.datetime(2024, 8, 2, 21, 53, 56, 214225)}\n",
      "'success'\n",
      "\n"
     ]
    },
    {
     "name": "stderr",
     "output_type": "stream",
     "text": [
      "Scraping quotes:  38%|███▊      | 385/1020 [10:57<09:59,  1.06it/s]"
     ]
    },
    {
     "name": "stdout",
     "output_type": "stream",
     "text": [
      "500\n",
      "Error scraping {'country': 'US', 'region': 'us-fl', 'crypto_name': 'Ethereum Mainnet', 'payment_name': 'Wire Transfer', 'regionId': '/regions/us-fl', 'paymentMethodId': '/payments/wire-transfer', 'cryptoCurrencyId': '/currencies/crypto/1/0x0000000000000000000000000000000000000000', 'fiatCurrencyId': '/currencies/fiat/usd', 'amount': 406, 'request_time': datetime.datetime(2024, 8, 2, 21, 53, 56, 888556)}\n",
      "'success'\n",
      "\n"
     ]
    },
    {
     "name": "stderr",
     "output_type": "stream",
     "text": [
      "Scraping quotes:  38%|███▊      | 386/1020 [10:58<08:49,  1.20it/s]"
     ]
    },
    {
     "name": "stdout",
     "output_type": "stream",
     "text": [
      "500\n",
      "Error scraping {'country': 'US', 'region': 'us-fl', 'crypto_name': 'USDT (Ethereum)', 'payment_name': 'Wire Transfer', 'regionId': '/regions/us-fl', 'paymentMethodId': '/payments/wire-transfer', 'cryptoCurrencyId': '/currencies/crypto/1/0xdac17f958d2ee523a2206206994597c13d831ec7', 'fiatCurrencyId': '/currencies/fiat/usd', 'amount': 406, 'request_time': datetime.datetime(2024, 8, 2, 21, 53, 57, 438959)}\n",
      "'success'\n",
      "\n",
      "500\n",
      "Error scraping {'country': 'US', 'region': 'us-fl', 'crypto_name': 'USDT (BNB Chain)', 'payment_name': 'Wire Transfer', 'regionId': '/regions/us-fl', 'paymentMethodId': '/payments/wire-transfer', 'cryptoCurrencyId': '/currencies/crypto/56/0x55d398326f99059ff775485246999027b3197955', 'fiatCurrencyId': '/currencies/fiat/usd', 'amount': 406, 'request_time': datetime.datetime(2024, 8, 2, 21, 53, 58, 22234)}\n",
      "'success'\n",
      "\n"
     ]
    },
    {
     "name": "stderr",
     "output_type": "stream",
     "text": [
      "Scraping quotes:  38%|███▊      | 387/1020 [10:59<08:44,  1.21it/s]"
     ]
    },
    {
     "name": "stdout",
     "output_type": "stream",
     "text": [
      "200\n"
     ]
    },
    {
     "name": "stderr",
     "output_type": "stream",
     "text": [
      "Scraping quotes:  38%|███▊      | 388/1020 [10:59<08:29,  1.24it/s]"
     ]
    },
    {
     "name": "stdout",
     "output_type": "stream",
     "text": [
      "200\n"
     ]
    },
    {
     "name": "stderr",
     "output_type": "stream",
     "text": [
      "Scraping quotes:  38%|███▊      | 389/1020 [11:00<09:10,  1.15it/s]"
     ]
    },
    {
     "name": "stdout",
     "output_type": "stream",
     "text": [
      "200\n"
     ]
    },
    {
     "name": "stderr",
     "output_type": "stream",
     "text": [
      "Scraping quotes:  38%|███▊      | 391/1020 [11:02<08:49,  1.19it/s]"
     ]
    },
    {
     "name": "stdout",
     "output_type": "stream",
     "text": [
      "500\n",
      "Error scraping {'country': 'US', 'region': 'us-fl', 'crypto_name': 'Ethereum Mainnet', 'payment_name': 'PSE', 'regionId': '/regions/us-fl', 'paymentMethodId': '/payments/pse', 'cryptoCurrencyId': '/currencies/crypto/1/0x0000000000000000000000000000000000000000', 'fiatCurrencyId': '/currencies/fiat/usd', 'amount': 406, 'request_time': datetime.datetime(2024, 8, 2, 21, 54, 1, 355498)}\n",
      "'success'\n",
      "\n",
      "500\n",
      "Error scraping {'country': 'US', 'region': 'us-fl', 'crypto_name': 'USDT (Ethereum)', 'payment_name': 'PSE', 'regionId': '/regions/us-fl', 'paymentMethodId': '/payments/pse', 'cryptoCurrencyId': '/currencies/crypto/1/0xdac17f958d2ee523a2206206994597c13d831ec7', 'fiatCurrencyId': '/currencies/fiat/usd', 'amount': 406, 'request_time': datetime.datetime(2024, 8, 2, 21, 54, 2, 221027)}\n",
      "'success'\n",
      "\n"
     ]
    },
    {
     "name": "stderr",
     "output_type": "stream",
     "text": [
      "Scraping quotes:  38%|███▊      | 392/1020 [11:03<09:03,  1.16it/s]"
     ]
    },
    {
     "name": "stdout",
     "output_type": "stream",
     "text": [
      "500\n",
      "Error scraping {'country': 'US', 'region': 'us-fl', 'crypto_name': 'USDT (BNB Chain)', 'payment_name': 'PSE', 'regionId': '/regions/us-fl', 'paymentMethodId': '/payments/pse', 'cryptoCurrencyId': '/currencies/crypto/56/0x55d398326f99059ff775485246999027b3197955', 'fiatCurrencyId': '/currencies/fiat/usd', 'amount': 406, 'request_time': datetime.datetime(2024, 8, 2, 21, 54, 3, 142236)}\n",
      "'success'\n",
      "\n"
     ]
    },
    {
     "name": "stderr",
     "output_type": "stream",
     "text": [
      "Scraping quotes:  39%|███▊      | 393/1020 [11:04<09:51,  1.06it/s]"
     ]
    },
    {
     "name": "stdout",
     "output_type": "stream",
     "text": [
      "200\n"
     ]
    },
    {
     "name": "stderr",
     "output_type": "stream",
     "text": [
      "Scraping quotes:  39%|███▊      | 394/1020 [11:06<12:32,  1.20s/it]"
     ]
    },
    {
     "name": "stdout",
     "output_type": "stream",
     "text": [
      "200\n"
     ]
    },
    {
     "name": "stderr",
     "output_type": "stream",
     "text": [
      "Scraping quotes:  39%|███▊      | 395/1020 [11:07<12:58,  1.25s/it]"
     ]
    },
    {
     "name": "stdout",
     "output_type": "stream",
     "text": [
      "200\n"
     ]
    },
    {
     "name": "stderr",
     "output_type": "stream",
     "text": [
      "Scraping quotes:  39%|███▉      | 396/1020 [11:08<12:59,  1.25s/it]"
     ]
    },
    {
     "name": "stdout",
     "output_type": "stream",
     "text": [
      "200\n"
     ]
    },
    {
     "name": "stderr",
     "output_type": "stream",
     "text": [
      "Scraping quotes:  39%|███▉      | 397/1020 [11:11<15:31,  1.50s/it]"
     ]
    },
    {
     "name": "stdout",
     "output_type": "stream",
     "text": [
      "200\n"
     ]
    },
    {
     "name": "stderr",
     "output_type": "stream",
     "text": [
      "Scraping quotes:  39%|███▉      | 398/1020 [11:12<14:39,  1.41s/it]"
     ]
    },
    {
     "name": "stdout",
     "output_type": "stream",
     "text": [
      "200\n"
     ]
    },
    {
     "name": "stderr",
     "output_type": "stream",
     "text": [
      "Scraping quotes:  39%|███▉      | 399/1020 [11:13<13:50,  1.34s/it]"
     ]
    },
    {
     "name": "stdout",
     "output_type": "stream",
     "text": [
      "200\n"
     ]
    },
    {
     "name": "stderr",
     "output_type": "stream",
     "text": [
      "Scraping quotes:  39%|███▉      | 400/1020 [11:14<14:16,  1.38s/it]"
     ]
    },
    {
     "name": "stdout",
     "output_type": "stream",
     "text": [
      "200\n"
     ]
    },
    {
     "name": "stderr",
     "output_type": "stream",
     "text": [
      "Scraping quotes:  39%|███▉      | 401/1020 [11:16<14:28,  1.40s/it]"
     ]
    },
    {
     "name": "stdout",
     "output_type": "stream",
     "text": [
      "200\n"
     ]
    },
    {
     "name": "stderr",
     "output_type": "stream",
     "text": [
      "Scraping quotes:  39%|███▉      | 402/1020 [11:17<13:18,  1.29s/it]"
     ]
    },
    {
     "name": "stdout",
     "output_type": "stream",
     "text": [
      "200\n"
     ]
    },
    {
     "name": "stderr",
     "output_type": "stream",
     "text": [
      "Scraping quotes:  40%|███▉      | 403/1020 [11:18<13:25,  1.31s/it]"
     ]
    },
    {
     "name": "stdout",
     "output_type": "stream",
     "text": [
      "200\n"
     ]
    },
    {
     "name": "stderr",
     "output_type": "stream",
     "text": [
      "Scraping quotes:  40%|███▉      | 404/1020 [11:20<13:30,  1.32s/it]"
     ]
    },
    {
     "name": "stdout",
     "output_type": "stream",
     "text": [
      "200\n"
     ]
    },
    {
     "name": "stderr",
     "output_type": "stream",
     "text": [
      "Scraping quotes:  40%|███▉      | 406/1020 [11:22<11:39,  1.14s/it]"
     ]
    },
    {
     "name": "stdout",
     "output_type": "stream",
     "text": [
      "500\n",
      "Error scraping {'country': 'UK', 'region': 'gb', 'crypto_name': 'Ethereum Mainnet', 'payment_name': 'PSE', 'regionId': '/regions/gb', 'paymentMethodId': '/payments/pse', 'cryptoCurrencyId': '/currencies/crypto/1/0x0000000000000000000000000000000000000000', 'fiatCurrencyId': '/currencies/fiat/gbp', 'amount': 406, 'request_time': datetime.datetime(2024, 8, 2, 21, 54, 20, 946849)}\n",
      "'success'\n",
      "\n"
     ]
    },
    {
     "name": "stderr",
     "output_type": "stream",
     "text": [
      "Scraping quotes:  40%|███▉      | 407/1020 [11:23<11:06,  1.09s/it]"
     ]
    },
    {
     "name": "stdout",
     "output_type": "stream",
     "text": [
      "500\n",
      "Error scraping {'country': 'UK', 'region': 'gb', 'crypto_name': 'USDT (Ethereum)', 'payment_name': 'PSE', 'regionId': '/regions/gb', 'paymentMethodId': '/payments/pse', 'cryptoCurrencyId': '/currencies/crypto/1/0xdac17f958d2ee523a2206206994597c13d831ec7', 'fiatCurrencyId': '/currencies/fiat/gbp', 'amount': 406, 'request_time': datetime.datetime(2024, 8, 2, 21, 54, 21, 771330)}\n",
      "'success'\n",
      "\n",
      "500\n",
      "Error scraping {'country': 'UK', 'region': 'gb', 'crypto_name': 'USDT (BNB Chain)', 'payment_name': 'PSE', 'regionId': '/regions/gb', 'paymentMethodId': '/payments/pse', 'cryptoCurrencyId': '/currencies/crypto/56/0x55d398326f99059ff775485246999027b3197955', 'fiatCurrencyId': '/currencies/fiat/gbp', 'amount': 406, 'request_time': datetime.datetime(2024, 8, 2, 21, 54, 22, 737117)}\n",
      "'success'\n",
      "\n"
     ]
    },
    {
     "name": "stderr",
     "output_type": "stream",
     "text": [
      "Scraping quotes:  40%|████      | 408/1020 [11:24<11:06,  1.09s/it]"
     ]
    },
    {
     "name": "stdout",
     "output_type": "stream",
     "text": [
      "200\n"
     ]
    },
    {
     "name": "stderr",
     "output_type": "stream",
     "text": [
      "Scraping quotes:  40%|████      | 409/1020 [11:27<16:56,  1.66s/it]"
     ]
    },
    {
     "name": "stdout",
     "output_type": "stream",
     "text": [
      "200\n"
     ]
    },
    {
     "name": "stderr",
     "output_type": "stream",
     "text": [
      "Scraping quotes:  40%|████      | 410/1020 [11:29<19:57,  1.96s/it]"
     ]
    },
    {
     "name": "stdout",
     "output_type": "stream",
     "text": [
      "200\n"
     ]
    },
    {
     "name": "stderr",
     "output_type": "stream",
     "text": [
      "Scraping quotes:  40%|████      | 411/1020 [11:31<19:14,  1.90s/it]"
     ]
    },
    {
     "name": "stdout",
     "output_type": "stream",
     "text": [
      "200\n"
     ]
    },
    {
     "name": "stderr",
     "output_type": "stream",
     "text": [
      "Scraping quotes:  40%|████      | 412/1020 [11:33<20:27,  2.02s/it]"
     ]
    },
    {
     "name": "stdout",
     "output_type": "stream",
     "text": [
      "200\n"
     ]
    },
    {
     "name": "stderr",
     "output_type": "stream",
     "text": [
      "Scraping quotes:  40%|████      | 413/1020 [11:37<25:50,  2.55s/it]"
     ]
    },
    {
     "name": "stdout",
     "output_type": "stream",
     "text": [
      "200\n"
     ]
    },
    {
     "name": "stderr",
     "output_type": "stream",
     "text": [
      "Scraping quotes:  41%|████      | 414/1020 [11:41<28:20,  2.81s/it]"
     ]
    },
    {
     "name": "stdout",
     "output_type": "stream",
     "text": [
      "200\n"
     ]
    },
    {
     "name": "stderr",
     "output_type": "stream",
     "text": [
      "Scraping quotes:  41%|████      | 415/1020 [11:43<28:15,  2.80s/it]"
     ]
    },
    {
     "name": "stdout",
     "output_type": "stream",
     "text": [
      "200\n"
     ]
    },
    {
     "name": "stderr",
     "output_type": "stream",
     "text": [
      "Scraping quotes:  41%|████      | 416/1020 [11:45<25:17,  2.51s/it]"
     ]
    },
    {
     "name": "stdout",
     "output_type": "stream",
     "text": [
      "200\n"
     ]
    },
    {
     "name": "stderr",
     "output_type": "stream",
     "text": [
      "Scraping quotes:  41%|████      | 417/1020 [11:48<25:03,  2.49s/it]"
     ]
    },
    {
     "name": "stdout",
     "output_type": "stream",
     "text": [
      "200\n"
     ]
    },
    {
     "name": "stderr",
     "output_type": "stream",
     "text": [
      "Scraping quotes:  41%|████      | 418/1020 [11:49<21:33,  2.15s/it]"
     ]
    },
    {
     "name": "stdout",
     "output_type": "stream",
     "text": [
      "200\n"
     ]
    },
    {
     "name": "stderr",
     "output_type": "stream",
     "text": [
      "Scraping quotes:  41%|████      | 419/1020 [11:51<19:57,  1.99s/it]"
     ]
    },
    {
     "name": "stdout",
     "output_type": "stream",
     "text": [
      "200\n"
     ]
    },
    {
     "name": "stderr",
     "output_type": "stream",
     "text": [
      "Scraping quotes:  41%|████      | 420/1020 [11:52<17:57,  1.80s/it]"
     ]
    },
    {
     "name": "stdout",
     "output_type": "stream",
     "text": [
      "500\n",
      "Error scraping {'country': 'DE', 'region': 'de', 'crypto_name': 'Ethereum Mainnet', 'payment_name': 'PSE', 'regionId': '/regions/de', 'paymentMethodId': '/payments/pse', 'cryptoCurrencyId': '/currencies/crypto/1/0x0000000000000000000000000000000000000000', 'fiatCurrencyId': '/currencies/fiat/eur', 'amount': 574, 'request_time': datetime.datetime(2024, 8, 2, 21, 54, 52, 132991)}\n",
      "'success'\n",
      "\n"
     ]
    },
    {
     "name": "stderr",
     "output_type": "stream",
     "text": [
      "Scraping quotes:  41%|████▏     | 421/1020 [11:53<17:07,  1.72s/it]"
     ]
    },
    {
     "name": "stdout",
     "output_type": "stream",
     "text": [
      "500\n",
      "Error scraping {'country': 'DE', 'region': 'de', 'crypto_name': 'USDT (Ethereum)', 'payment_name': 'PSE', 'regionId': '/regions/de', 'paymentMethodId': '/payments/pse', 'cryptoCurrencyId': '/currencies/crypto/1/0xdac17f958d2ee523a2206206994597c13d831ec7', 'fiatCurrencyId': '/currencies/fiat/eur', 'amount': 574, 'request_time': datetime.datetime(2024, 8, 2, 21, 54, 53, 656208)}\n",
      "'success'\n",
      "\n"
     ]
    },
    {
     "name": "stderr",
     "output_type": "stream",
     "text": [
      "Scraping quotes:  41%|████▏     | 422/1020 [11:55<15:43,  1.58s/it]"
     ]
    },
    {
     "name": "stdout",
     "output_type": "stream",
     "text": [
      "500\n",
      "Error scraping {'country': 'DE', 'region': 'de', 'crypto_name': 'USDT (BNB Chain)', 'payment_name': 'PSE', 'regionId': '/regions/de', 'paymentMethodId': '/payments/pse', 'cryptoCurrencyId': '/currencies/crypto/56/0x55d398326f99059ff775485246999027b3197955', 'fiatCurrencyId': '/currencies/fiat/eur', 'amount': 574, 'request_time': datetime.datetime(2024, 8, 2, 21, 54, 54, 908947)}\n",
      "'success'\n",
      "\n"
     ]
    },
    {
     "name": "stderr",
     "output_type": "stream",
     "text": [
      "Scraping quotes:  41%|████▏     | 423/1020 [11:56<15:22,  1.54s/it]"
     ]
    },
    {
     "name": "stdout",
     "output_type": "stream",
     "text": [
      "200\n"
     ]
    },
    {
     "name": "stderr",
     "output_type": "stream",
     "text": [
      "Scraping quotes:  42%|████▏     | 424/1020 [11:58<16:01,  1.61s/it]"
     ]
    },
    {
     "name": "stdout",
     "output_type": "stream",
     "text": [
      "200\n"
     ]
    },
    {
     "name": "stderr",
     "output_type": "stream",
     "text": [
      "Scraping quotes:  42%|████▏     | 425/1020 [12:01<18:46,  1.89s/it]"
     ]
    },
    {
     "name": "stdout",
     "output_type": "stream",
     "text": [
      "200\n"
     ]
    },
    {
     "name": "stderr",
     "output_type": "stream",
     "text": [
      "Scraping quotes:  42%|████▏     | 426/1020 [12:04<23:31,  2.38s/it]"
     ]
    },
    {
     "name": "stdout",
     "output_type": "stream",
     "text": [
      "200\n"
     ]
    },
    {
     "name": "stderr",
     "output_type": "stream",
     "text": [
      "Scraping quotes:  42%|████▏     | 427/1020 [12:07<25:13,  2.55s/it]"
     ]
    },
    {
     "name": "stdout",
     "output_type": "stream",
     "text": [
      "200\n"
     ]
    },
    {
     "name": "stderr",
     "output_type": "stream",
     "text": [
      "Scraping quotes:  42%|████▏     | 428/1020 [12:10<25:50,  2.62s/it]"
     ]
    },
    {
     "name": "stdout",
     "output_type": "stream",
     "text": [
      "200\n"
     ]
    },
    {
     "name": "stderr",
     "output_type": "stream",
     "text": [
      "Scraping quotes:  42%|████▏     | 429/1020 [12:12<25:11,  2.56s/it]"
     ]
    },
    {
     "name": "stdout",
     "output_type": "stream",
     "text": [
      "200\n"
     ]
    },
    {
     "name": "stderr",
     "output_type": "stream",
     "text": [
      "Scraping quotes:  42%|████▏     | 430/1020 [12:13<20:42,  2.11s/it]"
     ]
    },
    {
     "name": "stdout",
     "output_type": "stream",
     "text": [
      "200\n"
     ]
    },
    {
     "name": "stderr",
     "output_type": "stream",
     "text": [
      "Scraping quotes:  42%|████▏     | 431/1020 [12:14<17:35,  1.79s/it]"
     ]
    },
    {
     "name": "stdout",
     "output_type": "stream",
     "text": [
      "200\n"
     ]
    },
    {
     "name": "stderr",
     "output_type": "stream",
     "text": [
      "Scraping quotes:  42%|████▏     | 432/1020 [12:15<14:37,  1.49s/it]"
     ]
    },
    {
     "name": "stdout",
     "output_type": "stream",
     "text": [
      "200\n"
     ]
    },
    {
     "name": "stderr",
     "output_type": "stream",
     "text": [
      "Scraping quotes:  42%|████▏     | 433/1020 [12:16<13:32,  1.38s/it]"
     ]
    },
    {
     "name": "stdout",
     "output_type": "stream",
     "text": [
      "200\n"
     ]
    },
    {
     "name": "stderr",
     "output_type": "stream",
     "text": [
      "Scraping quotes:  43%|████▎     | 435/1020 [12:18<10:29,  1.08s/it]"
     ]
    },
    {
     "name": "stdout",
     "output_type": "stream",
     "text": [
      "500\n",
      "Error scraping {'country': 'US', 'region': 'us-fl', 'crypto_name': 'USDT (BNB Chain)', 'payment_name': 'Instant ACH Bank Transfer', 'regionId': '/regions/us-fl', 'paymentMethodId': '/payments/instant-bank-transfer', 'cryptoCurrencyId': '/currencies/crypto/56/0x55d398326f99059ff775485246999027b3197955', 'fiatCurrencyId': '/currencies/fiat/usd', 'amount': 574, 'request_time': datetime.datetime(2024, 8, 2, 21, 55, 17, 306775)}\n",
      "'success'\n",
      "\n"
     ]
    },
    {
     "name": "stderr",
     "output_type": "stream",
     "text": [
      "Scraping quotes:  43%|████▎     | 436/1020 [12:18<09:07,  1.07it/s]"
     ]
    },
    {
     "name": "stdout",
     "output_type": "stream",
     "text": [
      "500\n",
      "Error scraping {'country': 'US', 'region': 'us-fl', 'crypto_name': 'Ethereum Mainnet', 'payment_name': 'Wire Transfer', 'regionId': '/regions/us-fl', 'paymentMethodId': '/payments/wire-transfer', 'cryptoCurrencyId': '/currencies/crypto/1/0x0000000000000000000000000000000000000000', 'fiatCurrencyId': '/currencies/fiat/usd', 'amount': 574, 'request_time': datetime.datetime(2024, 8, 2, 21, 55, 17, 989647)}\n",
      "'success'\n",
      "\n",
      "500\n",
      "Error scraping {'country': 'US', 'region': 'us-fl', 'crypto_name': 'USDT (Ethereum)', 'payment_name': 'Wire Transfer', 'regionId': '/regions/us-fl', 'paymentMethodId': '/payments/wire-transfer', 'cryptoCurrencyId': '/currencies/crypto/1/0xdac17f958d2ee523a2206206994597c13d831ec7', 'fiatCurrencyId': '/currencies/fiat/usd', 'amount': 574, 'request_time': datetime.datetime(2024, 8, 2, 21, 55, 18, 603150)}\n",
      "'success'\n",
      "\n"
     ]
    },
    {
     "name": "stderr",
     "output_type": "stream",
     "text": [
      "Scraping quotes:  43%|████▎     | 438/1020 [12:20<08:12,  1.18it/s]"
     ]
    },
    {
     "name": "stdout",
     "output_type": "stream",
     "text": [
      "500\n",
      "Error scraping {'country': 'US', 'region': 'us-fl', 'crypto_name': 'USDT (BNB Chain)', 'payment_name': 'Wire Transfer', 'regionId': '/regions/us-fl', 'paymentMethodId': '/payments/wire-transfer', 'cryptoCurrencyId': '/currencies/crypto/56/0x55d398326f99059ff775485246999027b3197955', 'fiatCurrencyId': '/currencies/fiat/usd', 'amount': 574, 'request_time': datetime.datetime(2024, 8, 2, 21, 55, 19, 424266)}\n",
      "'success'\n",
      "\n",
      "200\n"
     ]
    },
    {
     "name": "stderr",
     "output_type": "stream",
     "text": [
      "Scraping quotes:  43%|████▎     | 439/1020 [12:21<07:56,  1.22it/s]"
     ]
    },
    {
     "name": "stdout",
     "output_type": "stream",
     "text": [
      "200\n"
     ]
    },
    {
     "name": "stderr",
     "output_type": "stream",
     "text": [
      "Scraping quotes:  43%|████▎     | 440/1020 [12:22<08:28,  1.14it/s]"
     ]
    },
    {
     "name": "stdout",
     "output_type": "stream",
     "text": [
      "200\n"
     ]
    },
    {
     "name": "stderr",
     "output_type": "stream",
     "text": [
      "Scraping quotes:  43%|████▎     | 442/1020 [12:24<10:10,  1.06s/it]"
     ]
    },
    {
     "name": "stdout",
     "output_type": "stream",
     "text": [
      "500\n",
      "Error scraping {'country': 'US', 'region': 'us-fl', 'crypto_name': 'Ethereum Mainnet', 'payment_name': 'PSE', 'regionId': '/regions/us-fl', 'paymentMethodId': '/payments/pse', 'cryptoCurrencyId': '/currencies/crypto/1/0x0000000000000000000000000000000000000000', 'fiatCurrencyId': '/currencies/fiat/usd', 'amount': 574, 'request_time': datetime.datetime(2024, 8, 2, 21, 55, 22, 574292)}\n",
      "'success'\n",
      "\n"
     ]
    },
    {
     "name": "stderr",
     "output_type": "stream",
     "text": [
      "Scraping quotes:  43%|████▎     | 443/1020 [12:26<13:47,  1.43s/it]"
     ]
    },
    {
     "name": "stdout",
     "output_type": "stream",
     "text": [
      "500\n",
      "Error scraping {'country': 'US', 'region': 'us-fl', 'crypto_name': 'USDT (Ethereum)', 'payment_name': 'PSE', 'regionId': '/regions/us-fl', 'paymentMethodId': '/payments/pse', 'cryptoCurrencyId': '/currencies/crypto/1/0xdac17f958d2ee523a2206206994597c13d831ec7', 'fiatCurrencyId': '/currencies/fiat/usd', 'amount': 574, 'request_time': datetime.datetime(2024, 8, 2, 21, 55, 24, 205386)}\n",
      "'success'\n",
      "\n",
      "500\n",
      "Error scraping {'country': 'US', 'region': 'us-fl', 'crypto_name': 'USDT (BNB Chain)', 'payment_name': 'PSE', 'regionId': '/regions/us-fl', 'paymentMethodId': '/payments/pse', 'cryptoCurrencyId': '/currencies/crypto/56/0x55d398326f99059ff775485246999027b3197955', 'fiatCurrencyId': '/currencies/fiat/usd', 'amount': 574, 'request_time': datetime.datetime(2024, 8, 2, 21, 55, 26, 509789)}\n",
      "'success'\n",
      "\n"
     ]
    },
    {
     "name": "stderr",
     "output_type": "stream",
     "text": [
      "Scraping quotes:  44%|████▎     | 444/1020 [12:28<13:44,  1.43s/it]"
     ]
    },
    {
     "name": "stdout",
     "output_type": "stream",
     "text": [
      "200\n"
     ]
    },
    {
     "name": "stderr",
     "output_type": "stream",
     "text": [
      "Scraping quotes:  44%|████▎     | 445/1020 [12:29<14:06,  1.47s/it]"
     ]
    },
    {
     "name": "stdout",
     "output_type": "stream",
     "text": [
      "200\n"
     ]
    },
    {
     "name": "stderr",
     "output_type": "stream",
     "text": [
      "Scraping quotes:  44%|████▎     | 446/1020 [12:30<12:50,  1.34s/it]"
     ]
    },
    {
     "name": "stdout",
     "output_type": "stream",
     "text": [
      "200\n"
     ]
    },
    {
     "name": "stderr",
     "output_type": "stream",
     "text": [
      "Scraping quotes:  44%|████▍     | 447/1020 [12:32<12:59,  1.36s/it]"
     ]
    },
    {
     "name": "stdout",
     "output_type": "stream",
     "text": [
      "200\n"
     ]
    },
    {
     "name": "stderr",
     "output_type": "stream",
     "text": [
      "Scraping quotes:  44%|████▍     | 448/1020 [12:34<15:53,  1.67s/it]"
     ]
    },
    {
     "name": "stdout",
     "output_type": "stream",
     "text": [
      "200\n"
     ]
    },
    {
     "name": "stderr",
     "output_type": "stream",
     "text": [
      "Scraping quotes:  44%|████▍     | 449/1020 [12:37<18:21,  1.93s/it]"
     ]
    },
    {
     "name": "stdout",
     "output_type": "stream",
     "text": [
      "200\n"
     ]
    },
    {
     "name": "stderr",
     "output_type": "stream",
     "text": [
      "Scraping quotes:  44%|████▍     | 450/1020 [12:38<16:01,  1.69s/it]"
     ]
    },
    {
     "name": "stdout",
     "output_type": "stream",
     "text": [
      "200\n"
     ]
    },
    {
     "name": "stderr",
     "output_type": "stream",
     "text": [
      "Scraping quotes:  44%|████▍     | 451/1020 [12:39<14:42,  1.55s/it]"
     ]
    },
    {
     "name": "stdout",
     "output_type": "stream",
     "text": [
      "200\n"
     ]
    },
    {
     "name": "stderr",
     "output_type": "stream",
     "text": [
      "Scraping quotes:  44%|████▍     | 452/1020 [12:41<14:36,  1.54s/it]"
     ]
    },
    {
     "name": "stdout",
     "output_type": "stream",
     "text": [
      "200\n"
     ]
    },
    {
     "name": "stderr",
     "output_type": "stream",
     "text": [
      "Scraping quotes:  44%|████▍     | 453/1020 [12:42<14:00,  1.48s/it]"
     ]
    },
    {
     "name": "stdout",
     "output_type": "stream",
     "text": [
      "200\n"
     ]
    },
    {
     "name": "stderr",
     "output_type": "stream",
     "text": [
      "Scraping quotes:  45%|████▍     | 454/1020 [12:45<17:11,  1.82s/it]"
     ]
    },
    {
     "name": "stdout",
     "output_type": "stream",
     "text": [
      "200\n"
     ]
    },
    {
     "name": "stderr",
     "output_type": "stream",
     "text": [
      "Scraping quotes:  45%|████▍     | 455/1020 [12:48<21:47,  2.31s/it]"
     ]
    },
    {
     "name": "stdout",
     "output_type": "stream",
     "text": [
      "200\n"
     ]
    },
    {
     "name": "stderr",
     "output_type": "stream",
     "text": [
      "Scraping quotes:  45%|████▍     | 456/1020 [12:49<18:50,  2.00s/it]"
     ]
    },
    {
     "name": "stdout",
     "output_type": "stream",
     "text": [
      "500\n",
      "Error scraping {'country': 'UK', 'region': 'gb', 'crypto_name': 'Ethereum Mainnet', 'payment_name': 'PSE', 'regionId': '/regions/gb', 'paymentMethodId': '/payments/pse', 'cryptoCurrencyId': '/currencies/crypto/1/0x0000000000000000000000000000000000000000', 'fiatCurrencyId': '/currencies/fiat/gbp', 'amount': 574, 'request_time': datetime.datetime(2024, 8, 2, 21, 55, 49, 452032)}\n",
      "'success'\n",
      "\n"
     ]
    },
    {
     "name": "stderr",
     "output_type": "stream",
     "text": [
      "Scraping quotes:  45%|████▍     | 457/1020 [12:50<16:20,  1.74s/it]"
     ]
    },
    {
     "name": "stdout",
     "output_type": "stream",
     "text": [
      "500\n",
      "Error scraping {'country': 'UK', 'region': 'gb', 'crypto_name': 'USDT (Ethereum)', 'payment_name': 'PSE', 'regionId': '/regions/gb', 'paymentMethodId': '/payments/pse', 'cryptoCurrencyId': '/currencies/crypto/1/0xdac17f958d2ee523a2206206994597c13d831ec7', 'fiatCurrencyId': '/currencies/fiat/gbp', 'amount': 574, 'request_time': datetime.datetime(2024, 8, 2, 21, 55, 50, 581176)}\n",
      "'success'\n",
      "\n"
     ]
    },
    {
     "name": "stderr",
     "output_type": "stream",
     "text": [
      "Scraping quotes:  45%|████▌     | 459/1020 [12:56<22:30,  2.41s/it]"
     ]
    },
    {
     "name": "stdout",
     "output_type": "stream",
     "text": [
      "500\n",
      "Error scraping {'country': 'UK', 'region': 'gb', 'crypto_name': 'USDT (BNB Chain)', 'payment_name': 'PSE', 'regionId': '/regions/gb', 'paymentMethodId': '/payments/pse', 'cryptoCurrencyId': '/currencies/crypto/56/0x55d398326f99059ff775485246999027b3197955', 'fiatCurrencyId': '/currencies/fiat/gbp', 'amount': 574, 'request_time': datetime.datetime(2024, 8, 2, 21, 55, 51, 638583)}\n",
      "'success'\n",
      "\n",
      "200\n"
     ]
    },
    {
     "name": "stderr",
     "output_type": "stream",
     "text": [
      "Scraping quotes:  45%|████▌     | 460/1020 [13:00<27:09,  2.91s/it]"
     ]
    },
    {
     "name": "stdout",
     "output_type": "stream",
     "text": [
      "200\n"
     ]
    },
    {
     "name": "stderr",
     "output_type": "stream",
     "text": [
      "Scraping quotes:  45%|████▌     | 461/1020 [13:02<25:42,  2.76s/it]"
     ]
    },
    {
     "name": "stdout",
     "output_type": "stream",
     "text": [
      "200\n"
     ]
    },
    {
     "name": "stderr",
     "output_type": "stream",
     "text": [
      "Scraping quotes:  45%|████▌     | 462/1020 [13:07<29:43,  3.20s/it]"
     ]
    },
    {
     "name": "stdout",
     "output_type": "stream",
     "text": [
      "200\n"
     ]
    },
    {
     "name": "stderr",
     "output_type": "stream",
     "text": [
      "Scraping quotes:  45%|████▌     | 463/1020 [13:09<28:28,  3.07s/it]"
     ]
    },
    {
     "name": "stdout",
     "output_type": "stream",
     "text": [
      "200\n"
     ]
    },
    {
     "name": "stderr",
     "output_type": "stream",
     "text": [
      "Scraping quotes:  45%|████▌     | 464/1020 [13:12<28:23,  3.06s/it]"
     ]
    },
    {
     "name": "stdout",
     "output_type": "stream",
     "text": [
      "200\n"
     ]
    },
    {
     "name": "stderr",
     "output_type": "stream",
     "text": [
      "Scraping quotes:  46%|████▌     | 465/1020 [13:15<26:22,  2.85s/it]"
     ]
    },
    {
     "name": "stdout",
     "output_type": "stream",
     "text": [
      "200\n"
     ]
    },
    {
     "name": "stderr",
     "output_type": "stream",
     "text": [
      "Scraping quotes:  46%|████▌     | 466/1020 [13:18<26:05,  2.83s/it]"
     ]
    },
    {
     "name": "stdout",
     "output_type": "stream",
     "text": [
      "200\n"
     ]
    },
    {
     "name": "stderr",
     "output_type": "stream",
     "text": [
      "Scraping quotes:  46%|████▌     | 467/1020 [13:20<25:35,  2.78s/it]"
     ]
    },
    {
     "name": "stdout",
     "output_type": "stream",
     "text": [
      "200\n"
     ]
    },
    {
     "name": "stderr",
     "output_type": "stream",
     "text": [
      "Scraping quotes:  46%|████▌     | 468/1020 [13:22<23:50,  2.59s/it]"
     ]
    },
    {
     "name": "stdout",
     "output_type": "stream",
     "text": [
      "200\n"
     ]
    },
    {
     "name": "stderr",
     "output_type": "stream",
     "text": [
      "Scraping quotes:  46%|████▌     | 469/1020 [13:24<20:19,  2.21s/it]"
     ]
    },
    {
     "name": "stdout",
     "output_type": "stream",
     "text": [
      "200\n"
     ]
    },
    {
     "name": "stderr",
     "output_type": "stream",
     "text": [
      "Scraping quotes:  46%|████▌     | 470/1020 [13:25<17:49,  1.94s/it]"
     ]
    },
    {
     "name": "stdout",
     "output_type": "stream",
     "text": [
      "200\n"
     ]
    },
    {
     "name": "stderr",
     "output_type": "stream",
     "text": [
      "Scraping quotes:  46%|████▋     | 472/1020 [13:27<14:11,  1.55s/it]"
     ]
    },
    {
     "name": "stdout",
     "output_type": "stream",
     "text": [
      "500\n",
      "Error scraping {'country': 'DE', 'region': 'de', 'crypto_name': 'Ethereum Mainnet', 'payment_name': 'PSE', 'regionId': '/regions/de', 'paymentMethodId': '/payments/pse', 'cryptoCurrencyId': '/currencies/crypto/1/0x0000000000000000000000000000000000000000', 'fiatCurrencyId': '/currencies/fiat/eur', 'amount': 810, 'request_time': datetime.datetime(2024, 8, 2, 21, 56, 26, 607562)}\n",
      "'success'\n",
      "\n"
     ]
    },
    {
     "name": "stderr",
     "output_type": "stream",
     "text": [
      "Scraping quotes:  46%|████▋     | 473/1020 [13:28<12:43,  1.40s/it]"
     ]
    },
    {
     "name": "stdout",
     "output_type": "stream",
     "text": [
      "500\n",
      "Error scraping {'country': 'DE', 'region': 'de', 'crypto_name': 'USDT (Ethereum)', 'payment_name': 'PSE', 'regionId': '/regions/de', 'paymentMethodId': '/payments/pse', 'cryptoCurrencyId': '/currencies/crypto/1/0xdac17f958d2ee523a2206206994597c13d831ec7', 'fiatCurrencyId': '/currencies/fiat/eur', 'amount': 810, 'request_time': datetime.datetime(2024, 8, 2, 21, 56, 27, 620611)}\n",
      "'success'\n",
      "\n"
     ]
    },
    {
     "name": "stderr",
     "output_type": "stream",
     "text": [
      "Scraping quotes:  46%|████▋     | 474/1020 [13:32<17:56,  1.97s/it]"
     ]
    },
    {
     "name": "stdout",
     "output_type": "stream",
     "text": [
      "500\n",
      "Error scraping {'country': 'DE', 'region': 'de', 'crypto_name': 'USDT (BNB Chain)', 'payment_name': 'PSE', 'regionId': '/regions/de', 'paymentMethodId': '/payments/pse', 'cryptoCurrencyId': '/currencies/crypto/56/0x55d398326f99059ff775485246999027b3197955', 'fiatCurrencyId': '/currencies/fiat/eur', 'amount': 810, 'request_time': datetime.datetime(2024, 8, 2, 21, 56, 28, 643777)}\n",
      "'success'\n",
      "\n",
      "200\n"
     ]
    },
    {
     "name": "stderr",
     "output_type": "stream",
     "text": [
      "Scraping quotes:  47%|████▋     | 475/1020 [13:34<19:30,  2.15s/it]"
     ]
    },
    {
     "name": "stdout",
     "output_type": "stream",
     "text": [
      "200\n"
     ]
    },
    {
     "name": "stderr",
     "output_type": "stream",
     "text": [
      "Scraping quotes:  47%|████▋     | 476/1020 [13:37<20:05,  2.22s/it]"
     ]
    },
    {
     "name": "stdout",
     "output_type": "stream",
     "text": [
      "200\n"
     ]
    },
    {
     "name": "stderr",
     "output_type": "stream",
     "text": [
      "Scraping quotes:  47%|████▋     | 477/1020 [13:39<21:12,  2.34s/it]"
     ]
    },
    {
     "name": "stdout",
     "output_type": "stream",
     "text": [
      "200\n"
     ]
    },
    {
     "name": "stderr",
     "output_type": "stream",
     "text": [
      "Scraping quotes:  47%|████▋     | 478/1020 [13:42<21:16,  2.36s/it]"
     ]
    },
    {
     "name": "stdout",
     "output_type": "stream",
     "text": [
      "200\n"
     ]
    },
    {
     "name": "stderr",
     "output_type": "stream",
     "text": [
      "Scraping quotes:  47%|████▋     | 479/1020 [13:44<20:55,  2.32s/it]"
     ]
    },
    {
     "name": "stdout",
     "output_type": "stream",
     "text": [
      "200\n"
     ]
    },
    {
     "name": "stderr",
     "output_type": "stream",
     "text": [
      "Scraping quotes:  47%|████▋     | 480/1020 [13:47<22:17,  2.48s/it]"
     ]
    },
    {
     "name": "stdout",
     "output_type": "stream",
     "text": [
      "200\n"
     ]
    },
    {
     "name": "stderr",
     "output_type": "stream",
     "text": [
      "Scraping quotes:  47%|████▋     | 481/1020 [13:48<18:03,  2.01s/it]"
     ]
    },
    {
     "name": "stdout",
     "output_type": "stream",
     "text": [
      "200\n"
     ]
    },
    {
     "name": "stderr",
     "output_type": "stream",
     "text": [
      "Scraping quotes:  47%|████▋     | 482/1020 [13:49<14:51,  1.66s/it]"
     ]
    },
    {
     "name": "stdout",
     "output_type": "stream",
     "text": [
      "200\n"
     ]
    },
    {
     "name": "stderr",
     "output_type": "stream",
     "text": [
      "Scraping quotes:  47%|████▋     | 483/1020 [13:49<12:15,  1.37s/it]"
     ]
    },
    {
     "name": "stdout",
     "output_type": "stream",
     "text": [
      "200\n"
     ]
    },
    {
     "name": "stderr",
     "output_type": "stream",
     "text": [
      "Scraping quotes:  47%|████▋     | 484/1020 [13:50<11:51,  1.33s/it]"
     ]
    },
    {
     "name": "stdout",
     "output_type": "stream",
     "text": [
      "200\n"
     ]
    },
    {
     "name": "stderr",
     "output_type": "stream",
     "text": [
      "Scraping quotes:  48%|████▊     | 486/1020 [13:52<08:52,  1.00it/s]"
     ]
    },
    {
     "name": "stdout",
     "output_type": "stream",
     "text": [
      "500\n",
      "Error scraping {'country': 'US', 'region': 'us-fl', 'crypto_name': 'USDT (BNB Chain)', 'payment_name': 'Instant ACH Bank Transfer', 'regionId': '/regions/us-fl', 'paymentMethodId': '/payments/instant-bank-transfer', 'cryptoCurrencyId': '/currencies/crypto/56/0x55d398326f99059ff775485246999027b3197955', 'fiatCurrencyId': '/currencies/fiat/usd', 'amount': 810, 'request_time': datetime.datetime(2024, 8, 2, 21, 56, 51, 531905)}\n",
      "'success'\n",
      "\n"
     ]
    },
    {
     "name": "stderr",
     "output_type": "stream",
     "text": [
      "Scraping quotes:  48%|████▊     | 487/1020 [13:54<10:50,  1.22s/it]"
     ]
    },
    {
     "name": "stdout",
     "output_type": "stream",
     "text": [
      "500\n",
      "Error scraping {'country': 'US', 'region': 'us-fl', 'crypto_name': 'Ethereum Mainnet', 'payment_name': 'Wire Transfer', 'regionId': '/regions/us-fl', 'paymentMethodId': '/payments/wire-transfer', 'cryptoCurrencyId': '/currencies/crypto/1/0x0000000000000000000000000000000000000000', 'fiatCurrencyId': '/currencies/fiat/usd', 'amount': 810, 'request_time': datetime.datetime(2024, 8, 2, 21, 56, 52, 93212)}\n",
      "'success'\n",
      "\n"
     ]
    },
    {
     "name": "stderr",
     "output_type": "stream",
     "text": [
      "Scraping quotes:  48%|████▊     | 488/1020 [13:54<09:13,  1.04s/it]"
     ]
    },
    {
     "name": "stdout",
     "output_type": "stream",
     "text": [
      "500\n",
      "Error scraping {'country': 'US', 'region': 'us-fl', 'crypto_name': 'USDT (Ethereum)', 'payment_name': 'Wire Transfer', 'regionId': '/regions/us-fl', 'paymentMethodId': '/payments/wire-transfer', 'cryptoCurrencyId': '/currencies/crypto/1/0xdac17f958d2ee523a2206206994597c13d831ec7', 'fiatCurrencyId': '/currencies/fiat/usd', 'amount': 810, 'request_time': datetime.datetime(2024, 8, 2, 21, 56, 53, 837348)}\n",
      "'success'\n",
      "\n",
      "500\n",
      "Error scraping {'country': 'US', 'region': 'us-fl', 'crypto_name': 'USDT (BNB Chain)', 'payment_name': 'Wire Transfer', 'regionId': '/regions/us-fl', 'paymentMethodId': '/payments/wire-transfer', 'cryptoCurrencyId': '/currencies/crypto/56/0x55d398326f99059ff775485246999027b3197955', 'fiatCurrencyId': '/currencies/fiat/usd', 'amount': 810, 'request_time': datetime.datetime(2024, 8, 2, 21, 56, 54, 454478)}\n",
      "'success'\n",
      "\n"
     ]
    },
    {
     "name": "stderr",
     "output_type": "stream",
     "text": [
      "Scraping quotes:  48%|████▊     | 489/1020 [13:55<08:30,  1.04it/s]"
     ]
    },
    {
     "name": "stdout",
     "output_type": "stream",
     "text": [
      "200\n"
     ]
    },
    {
     "name": "stderr",
     "output_type": "stream",
     "text": [
      "Scraping quotes:  48%|████▊     | 490/1020 [13:57<10:45,  1.22s/it]"
     ]
    },
    {
     "name": "stdout",
     "output_type": "stream",
     "text": [
      "200\n"
     ]
    },
    {
     "name": "stderr",
     "output_type": "stream",
     "text": [
      "Scraping quotes:  48%|████▊     | 491/1020 [13:58<09:54,  1.12s/it]"
     ]
    },
    {
     "name": "stdout",
     "output_type": "stream",
     "text": [
      "200\n"
     ]
    },
    {
     "name": "stderr",
     "output_type": "stream",
     "text": [
      "Scraping quotes:  48%|████▊     | 493/1020 [14:00<09:33,  1.09s/it]"
     ]
    },
    {
     "name": "stdout",
     "output_type": "stream",
     "text": [
      "500\n",
      "Error scraping {'country': 'US', 'region': 'us-fl', 'crypto_name': 'Ethereum Mainnet', 'payment_name': 'PSE', 'regionId': '/regions/us-fl', 'paymentMethodId': '/payments/pse', 'cryptoCurrencyId': '/currencies/crypto/1/0x0000000000000000000000000000000000000000', 'fiatCurrencyId': '/currencies/fiat/usd', 'amount': 810, 'request_time': datetime.datetime(2024, 8, 2, 21, 56, 59, 93854)}\n",
      "'success'\n",
      "\n"
     ]
    },
    {
     "name": "stderr",
     "output_type": "stream",
     "text": [
      "Scraping quotes:  48%|████▊     | 494/1020 [14:01<08:49,  1.01s/it]"
     ]
    },
    {
     "name": "stdout",
     "output_type": "stream",
     "text": [
      "500\n",
      "Error scraping {'country': 'US', 'region': 'us-fl', 'crypto_name': 'USDT (Ethereum)', 'payment_name': 'PSE', 'regionId': '/regions/us-fl', 'paymentMethodId': '/payments/pse', 'cryptoCurrencyId': '/currencies/crypto/1/0xdac17f958d2ee523a2206206994597c13d831ec7', 'fiatCurrencyId': '/currencies/fiat/usd', 'amount': 810, 'request_time': datetime.datetime(2024, 8, 2, 21, 57, 0, 88885)}\n",
      "'success'\n",
      "\n"
     ]
    },
    {
     "name": "stderr",
     "output_type": "stream",
     "text": [
      "Scraping quotes:  49%|████▊     | 495/1020 [14:02<08:34,  1.02it/s]"
     ]
    },
    {
     "name": "stdout",
     "output_type": "stream",
     "text": [
      "500\n",
      "Error scraping {'country': 'US', 'region': 'us-fl', 'crypto_name': 'USDT (BNB Chain)', 'payment_name': 'PSE', 'regionId': '/regions/us-fl', 'paymentMethodId': '/payments/pse', 'cryptoCurrencyId': '/currencies/crypto/56/0x55d398326f99059ff775485246999027b3197955', 'fiatCurrencyId': '/currencies/fiat/usd', 'amount': 810, 'request_time': datetime.datetime(2024, 8, 2, 21, 57, 0, 901132)}\n",
      "'success'\n",
      "\n",
      "200\n"
     ]
    },
    {
     "name": "stderr",
     "output_type": "stream",
     "text": [
      "Scraping quotes:  49%|████▊     | 496/1020 [14:03<10:38,  1.22s/it]"
     ]
    },
    {
     "name": "stdout",
     "output_type": "stream",
     "text": [
      "200\n"
     ]
    },
    {
     "name": "stderr",
     "output_type": "stream",
     "text": [
      "Scraping quotes:  49%|████▊     | 497/1020 [14:05<10:53,  1.25s/it]"
     ]
    },
    {
     "name": "stdout",
     "output_type": "stream",
     "text": [
      "200\n"
     ]
    },
    {
     "name": "stderr",
     "output_type": "stream",
     "text": [
      "Scraping quotes:  49%|████▉     | 498/1020 [14:06<10:34,  1.22s/it]"
     ]
    },
    {
     "name": "stdout",
     "output_type": "stream",
     "text": [
      "200\n"
     ]
    },
    {
     "name": "stderr",
     "output_type": "stream",
     "text": [
      "Scraping quotes:  49%|████▉     | 499/1020 [14:07<11:37,  1.34s/it]"
     ]
    },
    {
     "name": "stdout",
     "output_type": "stream",
     "text": [
      "200\n"
     ]
    },
    {
     "name": "stderr",
     "output_type": "stream",
     "text": [
      "Scraping quotes:  49%|████▉     | 500/1020 [14:09<12:10,  1.40s/it]"
     ]
    },
    {
     "name": "stdout",
     "output_type": "stream",
     "text": [
      "200\n"
     ]
    },
    {
     "name": "stderr",
     "output_type": "stream",
     "text": [
      "Scraping quotes:  49%|████▉     | 501/1020 [14:11<12:50,  1.48s/it]"
     ]
    },
    {
     "name": "stdout",
     "output_type": "stream",
     "text": [
      "200\n"
     ]
    },
    {
     "name": "stderr",
     "output_type": "stream",
     "text": [
      "Scraping quotes:  49%|████▉     | 502/1020 [14:14<16:52,  1.95s/it]"
     ]
    },
    {
     "name": "stdout",
     "output_type": "stream",
     "text": [
      "200\n"
     ]
    },
    {
     "name": "stderr",
     "output_type": "stream",
     "text": [
      "Scraping quotes:  49%|████▉     | 503/1020 [14:16<16:23,  1.90s/it]"
     ]
    },
    {
     "name": "stdout",
     "output_type": "stream",
     "text": [
      "200\n"
     ]
    },
    {
     "name": "stderr",
     "output_type": "stream",
     "text": [
      "Scraping quotes:  49%|████▉     | 504/1020 [14:17<14:44,  1.71s/it]"
     ]
    },
    {
     "name": "stdout",
     "output_type": "stream",
     "text": [
      "200\n"
     ]
    },
    {
     "name": "stderr",
     "output_type": "stream",
     "text": [
      "Scraping quotes:  50%|████▉     | 505/1020 [14:18<13:59,  1.63s/it]"
     ]
    },
    {
     "name": "stdout",
     "output_type": "stream",
     "text": [
      "200\n"
     ]
    },
    {
     "name": "stderr",
     "output_type": "stream",
     "text": [
      "Scraping quotes:  50%|████▉     | 506/1020 [14:19<12:38,  1.47s/it]"
     ]
    },
    {
     "name": "stdout",
     "output_type": "stream",
     "text": [
      "200\n"
     ]
    },
    {
     "name": "stderr",
     "output_type": "stream",
     "text": [
      "Scraping quotes:  50%|████▉     | 507/1020 [14:20<11:30,  1.35s/it]"
     ]
    },
    {
     "name": "stdout",
     "output_type": "stream",
     "text": [
      "500\n",
      "Error scraping {'country': 'UK', 'region': 'gb', 'crypto_name': 'Ethereum Mainnet', 'payment_name': 'PSE', 'regionId': '/regions/gb', 'paymentMethodId': '/payments/pse', 'cryptoCurrencyId': '/currencies/crypto/1/0x0000000000000000000000000000000000000000', 'fiatCurrencyId': '/currencies/fiat/gbp', 'amount': 810, 'request_time': datetime.datetime(2024, 8, 2, 21, 57, 20, 606011)}\n",
      "'success'\n",
      "\n"
     ]
    },
    {
     "name": "stderr",
     "output_type": "stream",
     "text": [
      "Scraping quotes:  50%|████▉     | 508/1020 [14:21<10:01,  1.17s/it]"
     ]
    },
    {
     "name": "stdout",
     "output_type": "stream",
     "text": [
      "500\n",
      "Error scraping {'country': 'UK', 'region': 'gb', 'crypto_name': 'USDT (Ethereum)', 'payment_name': 'PSE', 'regionId': '/regions/gb', 'paymentMethodId': '/payments/pse', 'cryptoCurrencyId': '/currencies/crypto/1/0xdac17f958d2ee523a2206206994597c13d831ec7', 'fiatCurrencyId': '/currencies/fiat/gbp', 'amount': 810, 'request_time': datetime.datetime(2024, 8, 2, 21, 57, 21, 382740)}\n",
      "'success'\n",
      "\n"
     ]
    },
    {
     "name": "stderr",
     "output_type": "stream",
     "text": [
      "Scraping quotes:  50%|████▉     | 509/1020 [14:22<09:34,  1.12s/it]"
     ]
    },
    {
     "name": "stdout",
     "output_type": "stream",
     "text": [
      "500\n",
      "Error scraping {'country': 'UK', 'region': 'gb', 'crypto_name': 'USDT (BNB Chain)', 'payment_name': 'PSE', 'regionId': '/regions/gb', 'paymentMethodId': '/payments/pse', 'cryptoCurrencyId': '/currencies/crypto/56/0x55d398326f99059ff775485246999027b3197955', 'fiatCurrencyId': '/currencies/fiat/gbp', 'amount': 810, 'request_time': datetime.datetime(2024, 8, 2, 21, 57, 22, 389266)}\n",
      "'success'\n",
      "\n"
     ]
    },
    {
     "name": "stderr",
     "output_type": "stream",
     "text": [
      "Scraping quotes:  50%|█████     | 510/1020 [14:23<09:36,  1.13s/it]"
     ]
    },
    {
     "name": "stdout",
     "output_type": "stream",
     "text": [
      "200\n"
     ]
    },
    {
     "name": "stderr",
     "output_type": "stream",
     "text": [
      "Scraping quotes:  50%|█████     | 511/1020 [14:26<13:35,  1.60s/it]"
     ]
    },
    {
     "name": "stdout",
     "output_type": "stream",
     "text": [
      "200\n"
     ]
    },
    {
     "name": "stderr",
     "output_type": "stream",
     "text": [
      "Scraping quotes:  50%|█████     | 512/1020 [14:29<16:14,  1.92s/it]"
     ]
    },
    {
     "name": "stdout",
     "output_type": "stream",
     "text": [
      "200\n"
     ]
    },
    {
     "name": "stderr",
     "output_type": "stream",
     "text": [
      "Scraping quotes:  50%|█████     | 513/1020 [14:31<18:04,  2.14s/it]"
     ]
    },
    {
     "name": "stdout",
     "output_type": "stream",
     "text": [
      "200\n"
     ]
    },
    {
     "name": "stderr",
     "output_type": "stream",
     "text": [
      "Scraping quotes:  50%|█████     | 514/1020 [14:36<24:04,  2.85s/it]"
     ]
    },
    {
     "name": "stdout",
     "output_type": "stream",
     "text": [
      "200\n"
     ]
    },
    {
     "name": "stderr",
     "output_type": "stream",
     "text": [
      "Scraping quotes:  50%|█████     | 515/1020 [14:40<27:13,  3.23s/it]"
     ]
    },
    {
     "name": "stdout",
     "output_type": "stream",
     "text": [
      "200\n"
     ]
    },
    {
     "name": "stderr",
     "output_type": "stream",
     "text": [
      "Scraping quotes:  51%|█████     | 516/1020 [14:42<24:57,  2.97s/it]"
     ]
    },
    {
     "name": "stdout",
     "output_type": "stream",
     "text": [
      "200\n"
     ]
    },
    {
     "name": "stderr",
     "output_type": "stream",
     "text": [
      "Scraping quotes:  51%|█████     | 517/1020 [14:45<23:45,  2.83s/it]"
     ]
    },
    {
     "name": "stdout",
     "output_type": "stream",
     "text": [
      "200\n"
     ]
    },
    {
     "name": "stderr",
     "output_type": "stream",
     "text": [
      "Scraping quotes:  51%|█████     | 518/1020 [14:47<22:46,  2.72s/it]"
     ]
    },
    {
     "name": "stdout",
     "output_type": "stream",
     "text": [
      "200\n"
     ]
    },
    {
     "name": "stderr",
     "output_type": "stream",
     "text": [
      "Scraping quotes:  51%|█████     | 519/1020 [14:49<21:03,  2.52s/it]"
     ]
    },
    {
     "name": "stdout",
     "output_type": "stream",
     "text": [
      "200\n"
     ]
    },
    {
     "name": "stderr",
     "output_type": "stream",
     "text": [
      "Scraping quotes:  51%|█████     | 520/1020 [14:51<18:05,  2.17s/it]"
     ]
    },
    {
     "name": "stdout",
     "output_type": "stream",
     "text": [
      "200\n"
     ]
    },
    {
     "name": "stderr",
     "output_type": "stream",
     "text": [
      "Scraping quotes:  51%|█████     | 521/1020 [14:52<15:53,  1.91s/it]"
     ]
    },
    {
     "name": "stdout",
     "output_type": "stream",
     "text": [
      "200\n"
     ]
    },
    {
     "name": "stderr",
     "output_type": "stream",
     "text": [
      "Scraping quotes:  51%|█████▏    | 523/1020 [14:57<19:04,  2.30s/it]"
     ]
    },
    {
     "name": "stdout",
     "output_type": "stream",
     "text": [
      "500\n",
      "Error scraping {'country': 'DE', 'region': 'de', 'crypto_name': 'Ethereum Mainnet', 'payment_name': 'PSE', 'regionId': '/regions/de', 'paymentMethodId': '/payments/pse', 'cryptoCurrencyId': '/currencies/crypto/1/0x0000000000000000000000000000000000000000', 'fiatCurrencyId': '/currencies/fiat/eur', 'amount': 1144, 'request_time': datetime.datetime(2024, 8, 2, 21, 57, 53, 681106)}\n",
      "'success'\n",
      "\n",
      "500\n",
      "Error scraping {'country': 'DE', 'region': 'de', 'crypto_name': 'USDT (Ethereum)', 'payment_name': 'PSE', 'regionId': '/regions/de', 'paymentMethodId': '/payments/pse', 'cryptoCurrencyId': '/currencies/crypto/1/0xdac17f958d2ee523a2206206994597c13d831ec7', 'fiatCurrencyId': '/currencies/fiat/eur', 'amount': 1144, 'request_time': datetime.datetime(2024, 8, 2, 21, 57, 57, 219992)}\n",
      "'success'\n",
      "\n"
     ]
    },
    {
     "name": "stderr",
     "output_type": "stream",
     "text": [
      "Scraping quotes:  51%|█████▏    | 525/1020 [14:59<14:23,  1.74s/it]"
     ]
    },
    {
     "name": "stdout",
     "output_type": "stream",
     "text": [
      "500\n",
      "Error scraping {'country': 'DE', 'region': 'de', 'crypto_name': 'USDT (BNB Chain)', 'payment_name': 'PSE', 'regionId': '/regions/de', 'paymentMethodId': '/payments/pse', 'cryptoCurrencyId': '/currencies/crypto/56/0x55d398326f99059ff775485246999027b3197955', 'fiatCurrencyId': '/currencies/fiat/eur', 'amount': 1144, 'request_time': datetime.datetime(2024, 8, 2, 21, 57, 58, 567894)}\n",
      "'success'\n",
      "\n",
      "200\n"
     ]
    },
    {
     "name": "stderr",
     "output_type": "stream",
     "text": [
      "Scraping quotes:  52%|█████▏    | 526/1020 [15:02<17:29,  2.12s/it]"
     ]
    },
    {
     "name": "stdout",
     "output_type": "stream",
     "text": [
      "200\n"
     ]
    },
    {
     "name": "stderr",
     "output_type": "stream",
     "text": [
      "Scraping quotes:  52%|█████▏    | 527/1020 [15:07<23:35,  2.87s/it]"
     ]
    },
    {
     "name": "stdout",
     "output_type": "stream",
     "text": [
      "200\n"
     ]
    },
    {
     "name": "stderr",
     "output_type": "stream",
     "text": [
      "Scraping quotes:  52%|█████▏    | 528/1020 [15:10<23:14,  2.83s/it]"
     ]
    },
    {
     "name": "stdout",
     "output_type": "stream",
     "text": [
      "200\n"
     ]
    },
    {
     "name": "stderr",
     "output_type": "stream",
     "text": [
      "Scraping quotes:  52%|█████▏    | 529/1020 [15:12<22:40,  2.77s/it]"
     ]
    },
    {
     "name": "stdout",
     "output_type": "stream",
     "text": [
      "200\n"
     ]
    },
    {
     "name": "stderr",
     "output_type": "stream",
     "text": [
      "Scraping quotes:  52%|█████▏    | 530/1020 [15:16<23:38,  2.90s/it]"
     ]
    },
    {
     "name": "stdout",
     "output_type": "stream",
     "text": [
      "200\n"
     ]
    },
    {
     "name": "stderr",
     "output_type": "stream",
     "text": [
      "Scraping quotes:  52%|█████▏    | 531/1020 [15:18<22:22,  2.75s/it]"
     ]
    },
    {
     "name": "stdout",
     "output_type": "stream",
     "text": [
      "200\n"
     ]
    },
    {
     "name": "stderr",
     "output_type": "stream",
     "text": [
      "Scraping quotes:  52%|█████▏    | 532/1020 [15:19<17:23,  2.14s/it]"
     ]
    },
    {
     "name": "stdout",
     "output_type": "stream",
     "text": [
      "200\n"
     ]
    },
    {
     "name": "stderr",
     "output_type": "stream",
     "text": [
      "Scraping quotes:  52%|█████▏    | 533/1020 [15:20<14:07,  1.74s/it]"
     ]
    },
    {
     "name": "stdout",
     "output_type": "stream",
     "text": [
      "200\n"
     ]
    },
    {
     "name": "stderr",
     "output_type": "stream",
     "text": [
      "Scraping quotes:  52%|█████▏    | 534/1020 [15:20<11:37,  1.43s/it]"
     ]
    },
    {
     "name": "stdout",
     "output_type": "stream",
     "text": [
      "200\n"
     ]
    },
    {
     "name": "stderr",
     "output_type": "stream",
     "text": [
      "Scraping quotes:  52%|█████▏    | 535/1020 [15:21<10:20,  1.28s/it]"
     ]
    },
    {
     "name": "stdout",
     "output_type": "stream",
     "text": [
      "200\n"
     ]
    },
    {
     "name": "stderr",
     "output_type": "stream",
     "text": [
      "Scraping quotes:  53%|█████▎    | 536/1020 [15:22<09:26,  1.17s/it]"
     ]
    },
    {
     "name": "stdout",
     "output_type": "stream",
     "text": [
      "500\n",
      "Error scraping {'country': 'US', 'region': 'us-fl', 'crypto_name': 'USDT (BNB Chain)', 'payment_name': 'Instant ACH Bank Transfer', 'regionId': '/regions/us-fl', 'paymentMethodId': '/payments/instant-bank-transfer', 'cryptoCurrencyId': '/currencies/crypto/56/0x55d398326f99059ff775485246999027b3197955', 'fiatCurrencyId': '/currencies/fiat/usd', 'amount': 1144, 'request_time': datetime.datetime(2024, 8, 2, 21, 58, 22, 339177)}\n",
      "'success'\n",
      "\n"
     ]
    },
    {
     "name": "stderr",
     "output_type": "stream",
     "text": [
      "Scraping quotes:  53%|█████▎    | 537/1020 [15:23<08:18,  1.03s/it]"
     ]
    },
    {
     "name": "stdout",
     "output_type": "stream",
     "text": [
      "500\n",
      "Error scraping {'country': 'US', 'region': 'us-fl', 'crypto_name': 'Ethereum Mainnet', 'payment_name': 'Wire Transfer', 'regionId': '/regions/us-fl', 'paymentMethodId': '/payments/wire-transfer', 'cryptoCurrencyId': '/currencies/crypto/1/0x0000000000000000000000000000000000000000', 'fiatCurrencyId': '/currencies/fiat/usd', 'amount': 1144, 'request_time': datetime.datetime(2024, 8, 2, 21, 58, 23, 49845)}\n",
      "'success'\n",
      "\n"
     ]
    },
    {
     "name": "stderr",
     "output_type": "stream",
     "text": [
      "Scraping quotes:  53%|█████▎    | 538/1020 [15:24<07:58,  1.01it/s]"
     ]
    },
    {
     "name": "stdout",
     "output_type": "stream",
     "text": [
      "500\n",
      "Error scraping {'country': 'US', 'region': 'us-fl', 'crypto_name': 'USDT (Ethereum)', 'payment_name': 'Wire Transfer', 'regionId': '/regions/us-fl', 'paymentMethodId': '/payments/wire-transfer', 'cryptoCurrencyId': '/currencies/crypto/1/0xdac17f958d2ee523a2206206994597c13d831ec7', 'fiatCurrencyId': '/currencies/fiat/usd', 'amount': 1144, 'request_time': datetime.datetime(2024, 8, 2, 21, 58, 23, 949815)}\n",
      "'success'\n",
      "\n"
     ]
    },
    {
     "name": "stderr",
     "output_type": "stream",
     "text": [
      "Scraping quotes:  53%|█████▎    | 540/1020 [15:25<06:23,  1.25it/s]"
     ]
    },
    {
     "name": "stdout",
     "output_type": "stream",
     "text": [
      "500\n",
      "Error scraping {'country': 'US', 'region': 'us-fl', 'crypto_name': 'USDT (BNB Chain)', 'payment_name': 'Wire Transfer', 'regionId': '/regions/us-fl', 'paymentMethodId': '/payments/wire-transfer', 'cryptoCurrencyId': '/currencies/crypto/56/0x55d398326f99059ff775485246999027b3197955', 'fiatCurrencyId': '/currencies/fiat/usd', 'amount': 1144, 'request_time': datetime.datetime(2024, 8, 2, 21, 58, 24, 564819)}\n",
      "'success'\n",
      "\n",
      "200\n"
     ]
    },
    {
     "name": "stderr",
     "output_type": "stream",
     "text": [
      "Scraping quotes:  53%|█████▎    | 541/1020 [15:26<06:16,  1.27it/s]"
     ]
    },
    {
     "name": "stdout",
     "output_type": "stream",
     "text": [
      "200\n"
     ]
    },
    {
     "name": "stderr",
     "output_type": "stream",
     "text": [
      "Scraping quotes:  53%|█████▎    | 542/1020 [15:27<06:33,  1.22it/s]"
     ]
    },
    {
     "name": "stdout",
     "output_type": "stream",
     "text": [
      "200\n"
     ]
    },
    {
     "name": "stderr",
     "output_type": "stream",
     "text": [
      "Scraping quotes:  53%|█████▎    | 544/1020 [15:28<06:32,  1.21it/s]"
     ]
    },
    {
     "name": "stdout",
     "output_type": "stream",
     "text": [
      "500\n",
      "Error scraping {'country': 'US', 'region': 'us-fl', 'crypto_name': 'Ethereum Mainnet', 'payment_name': 'PSE', 'regionId': '/regions/us-fl', 'paymentMethodId': '/payments/pse', 'cryptoCurrencyId': '/currencies/crypto/1/0x0000000000000000000000000000000000000000', 'fiatCurrencyId': '/currencies/fiat/usd', 'amount': 1144, 'request_time': datetime.datetime(2024, 8, 2, 21, 58, 27, 564360)}\n",
      "'success'\n",
      "\n"
     ]
    },
    {
     "name": "stderr",
     "output_type": "stream",
     "text": [
      "Scraping quotes:  53%|█████▎    | 545/1020 [15:29<07:13,  1.10it/s]"
     ]
    },
    {
     "name": "stdout",
     "output_type": "stream",
     "text": [
      "500\n",
      "Error scraping {'country': 'US', 'region': 'us-fl', 'crypto_name': 'USDT (Ethereum)', 'payment_name': 'PSE', 'regionId': '/regions/us-fl', 'paymentMethodId': '/payments/pse', 'cryptoCurrencyId': '/currencies/crypto/1/0xdac17f958d2ee523a2206206994597c13d831ec7', 'fiatCurrencyId': '/currencies/fiat/usd', 'amount': 1144, 'request_time': datetime.datetime(2024, 8, 2, 21, 58, 28, 461252)}\n",
      "'success'\n",
      "\n"
     ]
    },
    {
     "name": "stderr",
     "output_type": "stream",
     "text": [
      "Scraping quotes:  54%|█████▎    | 546/1020 [15:30<07:28,  1.06it/s]"
     ]
    },
    {
     "name": "stdout",
     "output_type": "stream",
     "text": [
      "500\n",
      "Error scraping {'country': 'US', 'region': 'us-fl', 'crypto_name': 'USDT (BNB Chain)', 'payment_name': 'PSE', 'regionId': '/regions/us-fl', 'paymentMethodId': '/payments/pse', 'cryptoCurrencyId': '/currencies/crypto/56/0x55d398326f99059ff775485246999027b3197955', 'fiatCurrencyId': '/currencies/fiat/usd', 'amount': 1144, 'request_time': datetime.datetime(2024, 8, 2, 21, 58, 29, 578484)}\n",
      "'success'\n",
      "\n",
      "200\n"
     ]
    },
    {
     "name": "stderr",
     "output_type": "stream",
     "text": [
      "Scraping quotes:  54%|█████▎    | 547/1020 [15:32<08:12,  1.04s/it]"
     ]
    },
    {
     "name": "stdout",
     "output_type": "stream",
     "text": [
      "200\n"
     ]
    },
    {
     "name": "stderr",
     "output_type": "stream",
     "text": [
      "Scraping quotes:  54%|█████▎    | 548/1020 [15:33<08:10,  1.04s/it]"
     ]
    },
    {
     "name": "stdout",
     "output_type": "stream",
     "text": [
      "200\n"
     ]
    },
    {
     "name": "stderr",
     "output_type": "stream",
     "text": [
      "Scraping quotes:  54%|█████▍    | 549/1020 [15:34<08:42,  1.11s/it]"
     ]
    },
    {
     "name": "stdout",
     "output_type": "stream",
     "text": [
      "200\n"
     ]
    },
    {
     "name": "stderr",
     "output_type": "stream",
     "text": [
      "Scraping quotes:  54%|█████▍    | 550/1020 [15:35<09:05,  1.16s/it]"
     ]
    },
    {
     "name": "stdout",
     "output_type": "stream",
     "text": [
      "200\n"
     ]
    },
    {
     "name": "stderr",
     "output_type": "stream",
     "text": [
      "Scraping quotes:  54%|█████▍    | 551/1020 [15:38<12:06,  1.55s/it]"
     ]
    },
    {
     "name": "stdout",
     "output_type": "stream",
     "text": [
      "200\n"
     ]
    },
    {
     "name": "stderr",
     "output_type": "stream",
     "text": [
      "Scraping quotes:  54%|█████▍    | 552/1020 [15:39<11:11,  1.43s/it]"
     ]
    },
    {
     "name": "stdout",
     "output_type": "stream",
     "text": [
      "200\n"
     ]
    },
    {
     "name": "stderr",
     "output_type": "stream",
     "text": [
      "Scraping quotes:  54%|█████▍    | 553/1020 [15:42<15:06,  1.94s/it]"
     ]
    },
    {
     "name": "stdout",
     "output_type": "stream",
     "text": [
      "200\n"
     ]
    },
    {
     "name": "stderr",
     "output_type": "stream",
     "text": [
      "Scraping quotes:  54%|█████▍    | 554/1020 [15:43<13:26,  1.73s/it]"
     ]
    },
    {
     "name": "stdout",
     "output_type": "stream",
     "text": [
      "200\n"
     ]
    },
    {
     "name": "stderr",
     "output_type": "stream",
     "text": [
      "Scraping quotes:  54%|█████▍    | 555/1020 [15:44<11:31,  1.49s/it]"
     ]
    },
    {
     "name": "stdout",
     "output_type": "stream",
     "text": [
      "200\n"
     ]
    },
    {
     "name": "stderr",
     "output_type": "stream",
     "text": [
      "Scraping quotes:  55%|█████▍    | 556/1020 [15:45<10:40,  1.38s/it]"
     ]
    },
    {
     "name": "stdout",
     "output_type": "stream",
     "text": [
      "200\n"
     ]
    },
    {
     "name": "stderr",
     "output_type": "stream",
     "text": [
      "Scraping quotes:  55%|█████▍    | 557/1020 [15:47<10:33,  1.37s/it]"
     ]
    },
    {
     "name": "stdout",
     "output_type": "stream",
     "text": [
      "200\n"
     ]
    },
    {
     "name": "stderr",
     "output_type": "stream",
     "text": [
      "Scraping quotes:  55%|█████▍    | 559/1020 [15:51<14:19,  1.87s/it]"
     ]
    },
    {
     "name": "stdout",
     "output_type": "stream",
     "text": [
      "500\n",
      "Error scraping {'country': 'UK', 'region': 'gb', 'crypto_name': 'Ethereum Mainnet', 'payment_name': 'PSE', 'regionId': '/regions/gb', 'paymentMethodId': '/payments/pse', 'cryptoCurrencyId': '/currencies/crypto/1/0x0000000000000000000000000000000000000000', 'fiatCurrencyId': '/currencies/fiat/gbp', 'amount': 1144, 'request_time': datetime.datetime(2024, 8, 2, 21, 58, 47, 732504)}\n",
      "'success'\n",
      "\n"
     ]
    },
    {
     "name": "stderr",
     "output_type": "stream",
     "text": [
      "Scraping quotes:  55%|█████▍    | 560/1020 [15:52<12:53,  1.68s/it]"
     ]
    },
    {
     "name": "stdout",
     "output_type": "stream",
     "text": [
      "500\n",
      "Error scraping {'country': 'UK', 'region': 'gb', 'crypto_name': 'USDT (Ethereum)', 'payment_name': 'PSE', 'regionId': '/regions/gb', 'paymentMethodId': '/payments/pse', 'cryptoCurrencyId': '/currencies/crypto/1/0xdac17f958d2ee523a2206206994597c13d831ec7', 'fiatCurrencyId': '/currencies/fiat/gbp', 'amount': 1144, 'request_time': datetime.datetime(2024, 8, 2, 21, 58, 51, 81681)}\n",
      "'success'\n",
      "\n",
      "500\n",
      "Error scraping {'country': 'UK', 'region': 'gb', 'crypto_name': 'USDT (BNB Chain)', 'payment_name': 'PSE', 'regionId': '/regions/gb', 'paymentMethodId': '/payments/pse', 'cryptoCurrencyId': '/currencies/crypto/56/0x55d398326f99059ff775485246999027b3197955', 'fiatCurrencyId': '/currencies/fiat/gbp', 'amount': 1144, 'request_time': datetime.datetime(2024, 8, 2, 21, 58, 52, 334202)}\n",
      "'success'\n",
      "\n"
     ]
    },
    {
     "name": "stderr",
     "output_type": "stream",
     "text": [
      "Scraping quotes:  55%|█████▌    | 561/1020 [15:53<11:17,  1.48s/it]"
     ]
    },
    {
     "name": "stdout",
     "output_type": "stream",
     "text": [
      "200\n"
     ]
    },
    {
     "name": "stderr",
     "output_type": "stream",
     "text": [
      "Scraping quotes:  55%|█████▌    | 562/1020 [15:56<13:22,  1.75s/it]"
     ]
    },
    {
     "name": "stdout",
     "output_type": "stream",
     "text": [
      "200\n"
     ]
    },
    {
     "name": "stderr",
     "output_type": "stream",
     "text": [
      "Scraping quotes:  55%|█████▌    | 563/1020 [15:58<14:30,  1.90s/it]"
     ]
    },
    {
     "name": "stdout",
     "output_type": "stream",
     "text": [
      "200\n"
     ]
    },
    {
     "name": "stderr",
     "output_type": "stream",
     "text": [
      "Scraping quotes:  55%|█████▌    | 564/1020 [16:02<18:59,  2.50s/it]"
     ]
    },
    {
     "name": "stdout",
     "output_type": "stream",
     "text": [
      "200\n"
     ]
    },
    {
     "name": "stderr",
     "output_type": "stream",
     "text": [
      "Scraping quotes:  55%|█████▌    | 565/1020 [16:04<18:51,  2.49s/it]"
     ]
    },
    {
     "name": "stdout",
     "output_type": "stream",
     "text": [
      "200\n"
     ]
    },
    {
     "name": "stderr",
     "output_type": "stream",
     "text": [
      "Scraping quotes:  55%|█████▌    | 566/1020 [16:07<20:10,  2.67s/it]"
     ]
    },
    {
     "name": "stdout",
     "output_type": "stream",
     "text": [
      "200\n"
     ]
    },
    {
     "name": "stderr",
     "output_type": "stream",
     "text": [
      "Scraping quotes:  56%|█████▌    | 567/1020 [16:11<22:25,  2.97s/it]"
     ]
    },
    {
     "name": "stdout",
     "output_type": "stream",
     "text": [
      "200\n"
     ]
    },
    {
     "name": "stderr",
     "output_type": "stream",
     "text": [
      "Scraping quotes:  56%|█████▌    | 568/1020 [16:13<21:01,  2.79s/it]"
     ]
    },
    {
     "name": "stdout",
     "output_type": "stream",
     "text": [
      "200\n"
     ]
    },
    {
     "name": "stderr",
     "output_type": "stream",
     "text": [
      "Scraping quotes:  56%|█████▌    | 569/1020 [16:16<19:54,  2.65s/it]"
     ]
    },
    {
     "name": "stdout",
     "output_type": "stream",
     "text": [
      "200\n"
     ]
    },
    {
     "name": "stderr",
     "output_type": "stream",
     "text": [
      "Scraping quotes:  56%|█████▌    | 570/1020 [16:19<22:08,  2.95s/it]"
     ]
    },
    {
     "name": "stdout",
     "output_type": "stream",
     "text": [
      "200\n"
     ]
    },
    {
     "name": "stderr",
     "output_type": "stream",
     "text": [
      "Scraping quotes:  56%|█████▌    | 571/1020 [16:21<18:49,  2.52s/it]"
     ]
    },
    {
     "name": "stdout",
     "output_type": "stream",
     "text": [
      "200\n"
     ]
    },
    {
     "name": "stderr",
     "output_type": "stream",
     "text": [
      "Scraping quotes:  56%|█████▌    | 572/1020 [16:22<16:03,  2.15s/it]"
     ]
    },
    {
     "name": "stdout",
     "output_type": "stream",
     "text": [
      "200\n"
     ]
    },
    {
     "name": "stderr",
     "output_type": "stream",
     "text": [
      "Scraping quotes:  56%|█████▋    | 574/1020 [16:24<11:31,  1.55s/it]"
     ]
    },
    {
     "name": "stdout",
     "output_type": "stream",
     "text": [
      "500\n",
      "Error scraping {'country': 'DE', 'region': 'de', 'crypto_name': 'Ethereum Mainnet', 'payment_name': 'PSE', 'regionId': '/regions/de', 'paymentMethodId': '/payments/pse', 'cryptoCurrencyId': '/currencies/crypto/1/0x0000000000000000000000000000000000000000', 'fiatCurrencyId': '/currencies/fiat/eur', 'amount': 1616, 'request_time': datetime.datetime(2024, 8, 2, 21, 59, 23, 496901)}\n",
      "'success'\n",
      "\n"
     ]
    },
    {
     "name": "stderr",
     "output_type": "stream",
     "text": [
      "Scraping quotes:  56%|█████▋    | 575/1020 [16:25<09:50,  1.33s/it]"
     ]
    },
    {
     "name": "stdout",
     "output_type": "stream",
     "text": [
      "500\n",
      "Error scraping {'country': 'DE', 'region': 'de', 'crypto_name': 'USDT (Ethereum)', 'payment_name': 'PSE', 'regionId': '/regions/de', 'paymentMethodId': '/payments/pse', 'cryptoCurrencyId': '/currencies/crypto/1/0xdac17f958d2ee523a2206206994597c13d831ec7', 'fiatCurrencyId': '/currencies/fiat/eur', 'amount': 1616, 'request_time': datetime.datetime(2024, 8, 2, 21, 59, 24, 275956)}\n",
      "'success'\n",
      "\n",
      "500\n",
      "Error scraping {'country': 'DE', 'region': 'de', 'crypto_name': 'USDT (BNB Chain)', 'payment_name': 'PSE', 'regionId': '/regions/de', 'paymentMethodId': '/payments/pse', 'cryptoCurrencyId': '/currencies/crypto/56/0x55d398326f99059ff775485246999027b3197955', 'fiatCurrencyId': '/currencies/fiat/eur', 'amount': 1616, 'request_time': datetime.datetime(2024, 8, 2, 21, 59, 25, 82554)}\n",
      "'success'\n",
      "\n"
     ]
    },
    {
     "name": "stderr",
     "output_type": "stream",
     "text": [
      "Scraping quotes:  56%|█████▋    | 576/1020 [16:27<11:25,  1.54s/it]"
     ]
    },
    {
     "name": "stdout",
     "output_type": "stream",
     "text": [
      "200\n"
     ]
    },
    {
     "name": "stderr",
     "output_type": "stream",
     "text": [
      "Scraping quotes:  57%|█████▋    | 577/1020 [16:29<13:18,  1.80s/it]"
     ]
    },
    {
     "name": "stdout",
     "output_type": "stream",
     "text": [
      "200\n"
     ]
    },
    {
     "name": "stderr",
     "output_type": "stream",
     "text": [
      "Scraping quotes:  57%|█████▋    | 578/1020 [16:32<14:54,  2.02s/it]"
     ]
    },
    {
     "name": "stdout",
     "output_type": "stream",
     "text": [
      "200\n"
     ]
    },
    {
     "name": "stderr",
     "output_type": "stream",
     "text": [
      "Scraping quotes:  57%|█████▋    | 579/1020 [16:34<15:24,  2.10s/it]"
     ]
    },
    {
     "name": "stdout",
     "output_type": "stream",
     "text": [
      "200\n"
     ]
    },
    {
     "name": "stderr",
     "output_type": "stream",
     "text": [
      "Scraping quotes:  57%|█████▋    | 580/1020 [16:37<16:50,  2.30s/it]"
     ]
    },
    {
     "name": "stdout",
     "output_type": "stream",
     "text": [
      "200\n"
     ]
    },
    {
     "name": "stderr",
     "output_type": "stream",
     "text": [
      "Scraping quotes:  57%|█████▋    | 581/1020 [16:40<17:36,  2.41s/it]"
     ]
    },
    {
     "name": "stdout",
     "output_type": "stream",
     "text": [
      "200\n"
     ]
    },
    {
     "name": "stderr",
     "output_type": "stream",
     "text": [
      "Scraping quotes:  57%|█████▋    | 582/1020 [16:43<19:27,  2.67s/it]"
     ]
    },
    {
     "name": "stdout",
     "output_type": "stream",
     "text": [
      "200\n"
     ]
    },
    {
     "name": "stderr",
     "output_type": "stream",
     "text": [
      "Scraping quotes:  57%|█████▋    | 583/1020 [16:44<15:01,  2.06s/it]"
     ]
    },
    {
     "name": "stdout",
     "output_type": "stream",
     "text": [
      "200\n"
     ]
    },
    {
     "name": "stderr",
     "output_type": "stream",
     "text": [
      "Scraping quotes:  57%|█████▋    | 584/1020 [16:45<14:10,  1.95s/it]"
     ]
    },
    {
     "name": "stdout",
     "output_type": "stream",
     "text": [
      "200\n"
     ]
    },
    {
     "name": "stderr",
     "output_type": "stream",
     "text": [
      "Scraping quotes:  57%|█████▋    | 585/1020 [16:46<11:27,  1.58s/it]"
     ]
    },
    {
     "name": "stdout",
     "output_type": "stream",
     "text": [
      "200\n"
     ]
    },
    {
     "name": "stderr",
     "output_type": "stream",
     "text": [
      "Scraping quotes:  57%|█████▋    | 586/1020 [16:47<10:46,  1.49s/it]"
     ]
    },
    {
     "name": "stdout",
     "output_type": "stream",
     "text": [
      "200\n"
     ]
    },
    {
     "name": "stderr",
     "output_type": "stream",
     "text": [
      "Scraping quotes:  58%|█████▊    | 588/1020 [16:49<08:39,  1.20s/it]"
     ]
    },
    {
     "name": "stdout",
     "output_type": "stream",
     "text": [
      "500\n",
      "Error scraping {'country': 'US', 'region': 'us-fl', 'crypto_name': 'USDT (BNB Chain)', 'payment_name': 'Instant ACH Bank Transfer', 'regionId': '/regions/us-fl', 'paymentMethodId': '/payments/instant-bank-transfer', 'cryptoCurrencyId': '/currencies/crypto/56/0x55d398326f99059ff775485246999027b3197955', 'fiatCurrencyId': '/currencies/fiat/usd', 'amount': 1616, 'request_time': datetime.datetime(2024, 8, 2, 21, 59, 48, 360139)}\n",
      "'success'\n",
      "\n"
     ]
    },
    {
     "name": "stderr",
     "output_type": "stream",
     "text": [
      "Scraping quotes:  58%|█████▊    | 589/1020 [16:50<07:21,  1.02s/it]"
     ]
    },
    {
     "name": "stdout",
     "output_type": "stream",
     "text": [
      "500\n",
      "Error scraping {'country': 'US', 'region': 'us-fl', 'crypto_name': 'Ethereum Mainnet', 'payment_name': 'Wire Transfer', 'regionId': '/regions/us-fl', 'paymentMethodId': '/payments/wire-transfer', 'cryptoCurrencyId': '/currencies/crypto/1/0x0000000000000000000000000000000000000000', 'fiatCurrencyId': '/currencies/fiat/usd', 'amount': 1616, 'request_time': datetime.datetime(2024, 8, 2, 21, 59, 49, 253219)}\n",
      "'success'\n",
      "\n"
     ]
    },
    {
     "name": "stderr",
     "output_type": "stream",
     "text": [
      "Scraping quotes:  58%|█████▊    | 590/1020 [16:50<06:40,  1.07it/s]"
     ]
    },
    {
     "name": "stdout",
     "output_type": "stream",
     "text": [
      "500\n",
      "Error scraping {'country': 'US', 'region': 'us-fl', 'crypto_name': 'USDT (Ethereum)', 'payment_name': 'Wire Transfer', 'regionId': '/regions/us-fl', 'paymentMethodId': '/payments/wire-transfer', 'cryptoCurrencyId': '/currencies/crypto/1/0xdac17f958d2ee523a2206206994597c13d831ec7', 'fiatCurrencyId': '/currencies/fiat/usd', 'amount': 1616, 'request_time': datetime.datetime(2024, 8, 2, 21, 59, 49, 860478)}\n",
      "'success'\n",
      "\n"
     ]
    },
    {
     "name": "stderr",
     "output_type": "stream",
     "text": [
      "Scraping quotes:  58%|█████▊    | 591/1020 [16:51<05:58,  1.20it/s]"
     ]
    },
    {
     "name": "stdout",
     "output_type": "stream",
     "text": [
      "500\n",
      "Error scraping {'country': 'US', 'region': 'us-fl', 'crypto_name': 'USDT (BNB Chain)', 'payment_name': 'Wire Transfer', 'regionId': '/regions/us-fl', 'paymentMethodId': '/payments/wire-transfer', 'cryptoCurrencyId': '/currencies/crypto/56/0x55d398326f99059ff775485246999027b3197955', 'fiatCurrencyId': '/currencies/fiat/usd', 'amount': 1616, 'request_time': datetime.datetime(2024, 8, 2, 21, 59, 50, 575808)}\n",
      "'success'\n",
      "\n",
      "200\n"
     ]
    },
    {
     "name": "stderr",
     "output_type": "stream",
     "text": [
      "Scraping quotes:  58%|█████▊    | 592/1020 [16:52<06:12,  1.15it/s]"
     ]
    },
    {
     "name": "stdout",
     "output_type": "stream",
     "text": [
      "200\n"
     ]
    },
    {
     "name": "stderr",
     "output_type": "stream",
     "text": [
      "Scraping quotes:  58%|█████▊    | 593/1020 [16:53<05:53,  1.21it/s]"
     ]
    },
    {
     "name": "stdout",
     "output_type": "stream",
     "text": [
      "200\n"
     ]
    },
    {
     "name": "stderr",
     "output_type": "stream",
     "text": [
      "Scraping quotes:  58%|█████▊    | 594/1020 [16:54<06:21,  1.12it/s]"
     ]
    },
    {
     "name": "stdout",
     "output_type": "stream",
     "text": [
      "500\n",
      "Error scraping {'country': 'US', 'region': 'us-fl', 'crypto_name': 'Ethereum Mainnet', 'payment_name': 'PSE', 'regionId': '/regions/us-fl', 'paymentMethodId': '/payments/pse', 'cryptoCurrencyId': '/currencies/crypto/1/0x0000000000000000000000000000000000000000', 'fiatCurrencyId': '/currencies/fiat/usd', 'amount': 1616, 'request_time': datetime.datetime(2024, 8, 2, 21, 59, 53, 925470)}\n",
      "'success'\n",
      "\n"
     ]
    },
    {
     "name": "stderr",
     "output_type": "stream",
     "text": [
      "Scraping quotes:  58%|█████▊    | 596/1020 [16:56<06:46,  1.04it/s]"
     ]
    },
    {
     "name": "stdout",
     "output_type": "stream",
     "text": [
      "500\n",
      "Error scraping {'country': 'US', 'region': 'us-fl', 'crypto_name': 'USDT (Ethereum)', 'payment_name': 'PSE', 'regionId': '/regions/us-fl', 'paymentMethodId': '/payments/pse', 'cryptoCurrencyId': '/currencies/crypto/1/0xdac17f958d2ee523a2206206994597c13d831ec7', 'fiatCurrencyId': '/currencies/fiat/usd', 'amount': 1616, 'request_time': datetime.datetime(2024, 8, 2, 21, 59, 55, 81532)}\n",
      "'success'\n",
      "\n",
      "500\n",
      "Error scraping {'country': 'US', 'region': 'us-fl', 'crypto_name': 'USDT (BNB Chain)', 'payment_name': 'PSE', 'regionId': '/regions/us-fl', 'paymentMethodId': '/payments/pse', 'cryptoCurrencyId': '/currencies/crypto/56/0x55d398326f99059ff775485246999027b3197955', 'fiatCurrencyId': '/currencies/fiat/usd', 'amount': 1616, 'request_time': datetime.datetime(2024, 8, 2, 21, 59, 56, 2709)}\n",
      "'success'\n",
      "\n"
     ]
    },
    {
     "name": "stderr",
     "output_type": "stream",
     "text": [
      "Scraping quotes:  59%|█████▊    | 597/1020 [16:57<07:22,  1.05s/it]"
     ]
    },
    {
     "name": "stdout",
     "output_type": "stream",
     "text": [
      "200\n"
     ]
    },
    {
     "name": "stderr",
     "output_type": "stream",
     "text": [
      "Scraping quotes:  59%|█████▊    | 598/1020 [16:58<07:20,  1.04s/it]"
     ]
    },
    {
     "name": "stdout",
     "output_type": "stream",
     "text": [
      "200\n"
     ]
    },
    {
     "name": "stderr",
     "output_type": "stream",
     "text": [
      "Scraping quotes:  59%|█████▊    | 599/1020 [17:01<10:54,  1.56s/it]"
     ]
    },
    {
     "name": "stdout",
     "output_type": "stream",
     "text": [
      "200\n"
     ]
    },
    {
     "name": "stderr",
     "output_type": "stream",
     "text": [
      "Scraping quotes:  59%|█████▉    | 600/1020 [17:04<13:53,  1.98s/it]"
     ]
    },
    {
     "name": "stdout",
     "output_type": "stream",
     "text": [
      "200\n"
     ]
    },
    {
     "name": "stderr",
     "output_type": "stream",
     "text": [
      "Scraping quotes:  59%|█████▉    | 601/1020 [17:05<12:31,  1.79s/it]"
     ]
    },
    {
     "name": "stdout",
     "output_type": "stream",
     "text": [
      "200\n"
     ]
    },
    {
     "name": "stderr",
     "output_type": "stream",
     "text": [
      "Scraping quotes:  59%|█████▉    | 602/1020 [17:08<13:50,  1.99s/it]"
     ]
    },
    {
     "name": "stdout",
     "output_type": "stream",
     "text": [
      "200\n"
     ]
    },
    {
     "name": "stderr",
     "output_type": "stream",
     "text": [
      "Scraping quotes:  59%|█████▉    | 603/1020 [17:09<11:35,  1.67s/it]"
     ]
    },
    {
     "name": "stdout",
     "output_type": "stream",
     "text": [
      "200\n"
     ]
    },
    {
     "name": "stderr",
     "output_type": "stream",
     "text": [
      "Scraping quotes:  59%|█████▉    | 604/1020 [17:10<11:19,  1.63s/it]"
     ]
    },
    {
     "name": "stdout",
     "output_type": "stream",
     "text": [
      "200\n"
     ]
    },
    {
     "name": "stderr",
     "output_type": "stream",
     "text": [
      "Scraping quotes:  59%|█████▉    | 605/1020 [17:12<11:58,  1.73s/it]"
     ]
    },
    {
     "name": "stdout",
     "output_type": "stream",
     "text": [
      "200\n"
     ]
    },
    {
     "name": "stderr",
     "output_type": "stream",
     "text": [
      "Scraping quotes:  59%|█████▉    | 606/1020 [17:13<10:50,  1.57s/it]"
     ]
    },
    {
     "name": "stdout",
     "output_type": "stream",
     "text": [
      "200\n"
     ]
    },
    {
     "name": "stderr",
     "output_type": "stream",
     "text": [
      "Scraping quotes:  60%|█████▉    | 607/1020 [17:14<10:06,  1.47s/it]"
     ]
    },
    {
     "name": "stdout",
     "output_type": "stream",
     "text": [
      "200\n"
     ]
    },
    {
     "name": "stderr",
     "output_type": "stream",
     "text": [
      "Scraping quotes:  60%|█████▉    | 608/1020 [17:17<12:20,  1.80s/it]"
     ]
    },
    {
     "name": "stdout",
     "output_type": "stream",
     "text": [
      "200\n"
     ]
    },
    {
     "name": "stderr",
     "output_type": "stream",
     "text": [
      "Scraping quotes:  60%|█████▉    | 609/1020 [17:18<10:18,  1.51s/it]"
     ]
    },
    {
     "name": "stdout",
     "output_type": "stream",
     "text": [
      "500\n",
      "Error scraping {'country': 'UK', 'region': 'gb', 'crypto_name': 'Ethereum Mainnet', 'payment_name': 'PSE', 'regionId': '/regions/gb', 'paymentMethodId': '/payments/pse', 'cryptoCurrencyId': '/currencies/crypto/1/0x0000000000000000000000000000000000000000', 'fiatCurrencyId': '/currencies/fiat/gbp', 'amount': 1616, 'request_time': datetime.datetime(2024, 8, 2, 22, 0, 18, 66765)}\n",
      "'success'\n",
      "\n"
     ]
    },
    {
     "name": "stderr",
     "output_type": "stream",
     "text": [
      "Scraping quotes:  60%|█████▉    | 611/1020 [17:20<08:11,  1.20s/it]"
     ]
    },
    {
     "name": "stdout",
     "output_type": "stream",
     "text": [
      "500\n",
      "Error scraping {'country': 'UK', 'region': 'gb', 'crypto_name': 'USDT (Ethereum)', 'payment_name': 'PSE', 'regionId': '/regions/gb', 'paymentMethodId': '/payments/pse', 'cryptoCurrencyId': '/currencies/crypto/1/0xdac17f958d2ee523a2206206994597c13d831ec7', 'fiatCurrencyId': '/currencies/fiat/gbp', 'amount': 1616, 'request_time': datetime.datetime(2024, 8, 2, 22, 0, 18, 941919)}\n",
      "'success'\n",
      "\n"
     ]
    },
    {
     "name": "stderr",
     "output_type": "stream",
     "text": [
      "Scraping quotes:  60%|██████    | 612/1020 [17:20<07:16,  1.07s/it]"
     ]
    },
    {
     "name": "stdout",
     "output_type": "stream",
     "text": [
      "500\n",
      "Error scraping {'country': 'UK', 'region': 'gb', 'crypto_name': 'USDT (BNB Chain)', 'payment_name': 'PSE', 'regionId': '/regions/gb', 'paymentMethodId': '/payments/pse', 'cryptoCurrencyId': '/currencies/crypto/56/0x55d398326f99059ff775485246999027b3197955', 'fiatCurrencyId': '/currencies/fiat/gbp', 'amount': 1616, 'request_time': datetime.datetime(2024, 8, 2, 22, 0, 19, 874496)}\n",
      "'success'\n",
      "\n",
      "200\n"
     ]
    },
    {
     "name": "stderr",
     "output_type": "stream",
     "text": [
      "Scraping quotes:  60%|██████    | 613/1020 [17:23<10:01,  1.48s/it]"
     ]
    },
    {
     "name": "stdout",
     "output_type": "stream",
     "text": [
      "200\n"
     ]
    },
    {
     "name": "stderr",
     "output_type": "stream",
     "text": [
      "Scraping quotes:  60%|██████    | 614/1020 [17:25<10:56,  1.62s/it]"
     ]
    },
    {
     "name": "stdout",
     "output_type": "stream",
     "text": [
      "200\n"
     ]
    },
    {
     "name": "stderr",
     "output_type": "stream",
     "text": [
      "Scraping quotes:  60%|██████    | 615/1020 [17:28<13:15,  1.96s/it]"
     ]
    },
    {
     "name": "stdout",
     "output_type": "stream",
     "text": [
      "200\n"
     ]
    },
    {
     "name": "stderr",
     "output_type": "stream",
     "text": [
      "Scraping quotes:  60%|██████    | 616/1020 [17:30<14:00,  2.08s/it]"
     ]
    },
    {
     "name": "stdout",
     "output_type": "stream",
     "text": [
      "200\n"
     ]
    },
    {
     "name": "stderr",
     "output_type": "stream",
     "text": [
      "Scraping quotes:  60%|██████    | 617/1020 [17:34<18:27,  2.75s/it]"
     ]
    },
    {
     "name": "stdout",
     "output_type": "stream",
     "text": [
      "200\n"
     ]
    },
    {
     "name": "stderr",
     "output_type": "stream",
     "text": [
      "Scraping quotes:  61%|██████    | 618/1020 [17:37<17:37,  2.63s/it]"
     ]
    },
    {
     "name": "stdout",
     "output_type": "stream",
     "text": [
      "200\n"
     ]
    },
    {
     "name": "stderr",
     "output_type": "stream",
     "text": [
      "Scraping quotes:  61%|██████    | 619/1020 [17:39<17:57,  2.69s/it]"
     ]
    },
    {
     "name": "stdout",
     "output_type": "stream",
     "text": [
      "200\n"
     ]
    },
    {
     "name": "stderr",
     "output_type": "stream",
     "text": [
      "Scraping quotes:  61%|██████    | 620/1020 [17:42<17:35,  2.64s/it]"
     ]
    },
    {
     "name": "stdout",
     "output_type": "stream",
     "text": [
      "200\n"
     ]
    },
    {
     "name": "stderr",
     "output_type": "stream",
     "text": [
      "Scraping quotes:  61%|██████    | 621/1020 [17:44<17:21,  2.61s/it]"
     ]
    },
    {
     "name": "stdout",
     "output_type": "stream",
     "text": [
      "200\n"
     ]
    },
    {
     "name": "stderr",
     "output_type": "stream",
     "text": [
      "Scraping quotes:  61%|██████    | 622/1020 [17:46<14:36,  2.20s/it]"
     ]
    },
    {
     "name": "stdout",
     "output_type": "stream",
     "text": [
      "200\n"
     ]
    },
    {
     "name": "stderr",
     "output_type": "stream",
     "text": [
      "Scraping quotes:  61%|██████    | 623/1020 [17:47<11:57,  1.81s/it]"
     ]
    },
    {
     "name": "stdout",
     "output_type": "stream",
     "text": [
      "200\n"
     ]
    },
    {
     "name": "stderr",
     "output_type": "stream",
     "text": [
      "Scraping quotes:  61%|██████    | 624/1020 [17:48<10:47,  1.63s/it]"
     ]
    },
    {
     "name": "stdout",
     "output_type": "stream",
     "text": [
      "500\n",
      "Error scraping {'country': 'DE', 'region': 'de', 'crypto_name': 'Ethereum Mainnet', 'payment_name': 'PSE', 'regionId': '/regions/de', 'paymentMethodId': '/payments/pse', 'cryptoCurrencyId': '/currencies/crypto/1/0x0000000000000000000000000000000000000000', 'fiatCurrencyId': '/currencies/fiat/eur', 'amount': 2284, 'request_time': datetime.datetime(2024, 8, 2, 22, 0, 48, 54141)}\n",
      "'success'\n",
      "\n"
     ]
    },
    {
     "name": "stderr",
     "output_type": "stream",
     "text": [
      "Scraping quotes:  61%|██████▏   | 626/1020 [17:50<08:50,  1.35s/it]"
     ]
    },
    {
     "name": "stdout",
     "output_type": "stream",
     "text": [
      "500\n",
      "Error scraping {'country': 'DE', 'region': 'de', 'crypto_name': 'USDT (Ethereum)', 'payment_name': 'PSE', 'regionId': '/regions/de', 'paymentMethodId': '/payments/pse', 'cryptoCurrencyId': '/currencies/crypto/1/0xdac17f958d2ee523a2206206994597c13d831ec7', 'fiatCurrencyId': '/currencies/fiat/eur', 'amount': 2284, 'request_time': datetime.datetime(2024, 8, 2, 22, 0, 49, 49277)}\n",
      "'success'\n",
      "\n"
     ]
    },
    {
     "name": "stderr",
     "output_type": "stream",
     "text": [
      "Scraping quotes:  61%|██████▏   | 627/1020 [17:51<08:17,  1.27s/it]"
     ]
    },
    {
     "name": "stdout",
     "output_type": "stream",
     "text": [
      "500\n",
      "Error scraping {'country': 'DE', 'region': 'de', 'crypto_name': 'USDT (BNB Chain)', 'payment_name': 'PSE', 'regionId': '/regions/de', 'paymentMethodId': '/payments/pse', 'cryptoCurrencyId': '/currencies/crypto/56/0x55d398326f99059ff775485246999027b3197955', 'fiatCurrencyId': '/currencies/fiat/eur', 'amount': 2284, 'request_time': datetime.datetime(2024, 8, 2, 22, 0, 50, 172769)}\n",
      "'success'\n",
      "\n",
      "200\n"
     ]
    },
    {
     "name": "stderr",
     "output_type": "stream",
     "text": [
      "Scraping quotes:  62%|██████▏   | 628/1020 [17:54<10:34,  1.62s/it]"
     ]
    },
    {
     "name": "stdout",
     "output_type": "stream",
     "text": [
      "200\n"
     ]
    },
    {
     "name": "stderr",
     "output_type": "stream",
     "text": [
      "Scraping quotes:  62%|██████▏   | 629/1020 [17:57<13:22,  2.05s/it]"
     ]
    },
    {
     "name": "stdout",
     "output_type": "stream",
     "text": [
      "200\n"
     ]
    },
    {
     "name": "stderr",
     "output_type": "stream",
     "text": [
      "Scraping quotes:  62%|██████▏   | 630/1020 [17:59<13:44,  2.11s/it]"
     ]
    },
    {
     "name": "stdout",
     "output_type": "stream",
     "text": [
      "200\n"
     ]
    },
    {
     "name": "stderr",
     "output_type": "stream",
     "text": [
      "Scraping quotes:  62%|██████▏   | 631/1020 [18:01<14:29,  2.24s/it]"
     ]
    },
    {
     "name": "stdout",
     "output_type": "stream",
     "text": [
      "200\n"
     ]
    },
    {
     "name": "stderr",
     "output_type": "stream",
     "text": [
      "Scraping quotes:  62%|██████▏   | 632/1020 [18:04<14:25,  2.23s/it]"
     ]
    },
    {
     "name": "stdout",
     "output_type": "stream",
     "text": [
      "200\n"
     ]
    },
    {
     "name": "stderr",
     "output_type": "stream",
     "text": [
      "Scraping quotes:  62%|██████▏   | 633/1020 [18:06<14:01,  2.17s/it]"
     ]
    },
    {
     "name": "stdout",
     "output_type": "stream",
     "text": [
      "200\n"
     ]
    },
    {
     "name": "stderr",
     "output_type": "stream",
     "text": [
      "Scraping quotes:  62%|██████▏   | 634/1020 [18:08<14:36,  2.27s/it]"
     ]
    },
    {
     "name": "stdout",
     "output_type": "stream",
     "text": [
      "200\n"
     ]
    },
    {
     "name": "stderr",
     "output_type": "stream",
     "text": [
      "Scraping quotes:  62%|██████▏   | 635/1020 [18:09<12:10,  1.90s/it]"
     ]
    },
    {
     "name": "stdout",
     "output_type": "stream",
     "text": [
      "200\n"
     ]
    },
    {
     "name": "stderr",
     "output_type": "stream",
     "text": [
      "Scraping quotes:  62%|██████▏   | 636/1020 [18:10<09:58,  1.56s/it]"
     ]
    },
    {
     "name": "stdout",
     "output_type": "stream",
     "text": [
      "200\n"
     ]
    },
    {
     "name": "stderr",
     "output_type": "stream",
     "text": [
      "Scraping quotes:  62%|██████▏   | 637/1020 [18:11<08:41,  1.36s/it]"
     ]
    },
    {
     "name": "stdout",
     "output_type": "stream",
     "text": [
      "200\n"
     ]
    },
    {
     "name": "stderr",
     "output_type": "stream",
     "text": [
      "Scraping quotes:  63%|██████▎   | 639/1020 [18:13<06:51,  1.08s/it]"
     ]
    },
    {
     "name": "stdout",
     "output_type": "stream",
     "text": [
      "500\n",
      "Error scraping {'country': 'US', 'region': 'us-fl', 'crypto_name': 'USDT (BNB Chain)', 'payment_name': 'Instant ACH Bank Transfer', 'regionId': '/regions/us-fl', 'paymentMethodId': '/payments/instant-bank-transfer', 'cryptoCurrencyId': '/currencies/crypto/56/0x55d398326f99059ff775485246999027b3197955', 'fiatCurrencyId': '/currencies/fiat/usd', 'amount': 2284, 'request_time': datetime.datetime(2024, 8, 2, 22, 1, 12, 124855)}\n",
      "'success'\n",
      "\n"
     ]
    },
    {
     "name": "stderr",
     "output_type": "stream",
     "text": [
      "Scraping quotes:  63%|██████▎   | 640/1020 [18:13<05:51,  1.08it/s]"
     ]
    },
    {
     "name": "stdout",
     "output_type": "stream",
     "text": [
      "500\n",
      "Error scraping {'country': 'US', 'region': 'us-fl', 'crypto_name': 'Ethereum Mainnet', 'payment_name': 'Wire Transfer', 'regionId': '/regions/us-fl', 'paymentMethodId': '/payments/wire-transfer', 'cryptoCurrencyId': '/currencies/crypto/1/0x0000000000000000000000000000000000000000', 'fiatCurrencyId': '/currencies/fiat/usd', 'amount': 2284, 'request_time': datetime.datetime(2024, 8, 2, 22, 1, 12, 700275)}\n",
      "'success'\n",
      "\n"
     ]
    },
    {
     "name": "stderr",
     "output_type": "stream",
     "text": [
      "Scraping quotes:  63%|██████▎   | 641/1020 [18:14<05:21,  1.18it/s]"
     ]
    },
    {
     "name": "stdout",
     "output_type": "stream",
     "text": [
      "500\n",
      "Error scraping {'country': 'US', 'region': 'us-fl', 'crypto_name': 'USDT (Ethereum)', 'payment_name': 'Wire Transfer', 'regionId': '/regions/us-fl', 'paymentMethodId': '/payments/wire-transfer', 'cryptoCurrencyId': '/currencies/crypto/1/0xdac17f958d2ee523a2206206994597c13d831ec7', 'fiatCurrencyId': '/currencies/fiat/usd', 'amount': 2284, 'request_time': datetime.datetime(2024, 8, 2, 22, 1, 13, 268261)}\n",
      "'success'\n",
      "\n"
     ]
    },
    {
     "name": "stderr",
     "output_type": "stream",
     "text": [
      "Scraping quotes:  63%|██████▎   | 642/1020 [18:14<04:43,  1.33it/s]"
     ]
    },
    {
     "name": "stdout",
     "output_type": "stream",
     "text": [
      "500\n",
      "Error scraping {'country': 'US', 'region': 'us-fl', 'crypto_name': 'USDT (BNB Chain)', 'payment_name': 'Wire Transfer', 'regionId': '/regions/us-fl', 'paymentMethodId': '/payments/wire-transfer', 'cryptoCurrencyId': '/currencies/crypto/56/0x55d398326f99059ff775485246999027b3197955', 'fiatCurrencyId': '/currencies/fiat/usd', 'amount': 2284, 'request_time': datetime.datetime(2024, 8, 2, 22, 1, 13, 934109)}\n",
      "'success'\n",
      "\n",
      "200\n"
     ]
    },
    {
     "name": "stderr",
     "output_type": "stream",
     "text": [
      "Scraping quotes:  63%|██████▎   | 643/1020 [18:15<04:40,  1.34it/s]"
     ]
    },
    {
     "name": "stdout",
     "output_type": "stream",
     "text": [
      "200\n"
     ]
    },
    {
     "name": "stderr",
     "output_type": "stream",
     "text": [
      "Scraping quotes:  63%|██████▎   | 644/1020 [18:16<04:43,  1.33it/s]"
     ]
    },
    {
     "name": "stdout",
     "output_type": "stream",
     "text": [
      "200\n"
     ]
    },
    {
     "name": "stderr",
     "output_type": "stream",
     "text": [
      "Scraping quotes:  63%|██████▎   | 645/1020 [18:17<04:43,  1.32it/s]"
     ]
    },
    {
     "name": "stdout",
     "output_type": "stream",
     "text": [
      "500\n",
      "Error scraping {'country': 'US', 'region': 'us-fl', 'crypto_name': 'Ethereum Mainnet', 'payment_name': 'PSE', 'regionId': '/regions/us-fl', 'paymentMethodId': '/payments/pse', 'cryptoCurrencyId': '/currencies/crypto/1/0x0000000000000000000000000000000000000000', 'fiatCurrencyId': '/currencies/fiat/usd', 'amount': 2284, 'request_time': datetime.datetime(2024, 8, 2, 22, 1, 16, 721310)}\n",
      "'success'\n",
      "\n"
     ]
    },
    {
     "name": "stderr",
     "output_type": "stream",
     "text": [
      "Scraping quotes:  63%|██████▎   | 646/1020 [18:17<04:46,  1.30it/s]"
     ]
    },
    {
     "name": "stdout",
     "output_type": "stream",
     "text": [
      "500\n",
      "Error scraping {'country': 'US', 'region': 'us-fl', 'crypto_name': 'USDT (Ethereum)', 'payment_name': 'PSE', 'regionId': '/regions/us-fl', 'paymentMethodId': '/payments/pse', 'cryptoCurrencyId': '/currencies/crypto/1/0xdac17f958d2ee523a2206206994597c13d831ec7', 'fiatCurrencyId': '/currencies/fiat/usd', 'amount': 2284, 'request_time': datetime.datetime(2024, 8, 2, 22, 1, 17, 517286)}\n",
      "'success'\n",
      "\n"
     ]
    },
    {
     "name": "stderr",
     "output_type": "stream",
     "text": [
      "Scraping quotes:  63%|██████▎   | 647/1020 [18:18<04:54,  1.27it/s]"
     ]
    },
    {
     "name": "stdout",
     "output_type": "stream",
     "text": [
      "500\n",
      "Error scraping {'country': 'US', 'region': 'us-fl', 'crypto_name': 'USDT (BNB Chain)', 'payment_name': 'PSE', 'regionId': '/regions/us-fl', 'paymentMethodId': '/payments/pse', 'cryptoCurrencyId': '/currencies/crypto/56/0x55d398326f99059ff775485246999027b3197955', 'fiatCurrencyId': '/currencies/fiat/usd', 'amount': 2284, 'request_time': datetime.datetime(2024, 8, 2, 22, 1, 18, 360061)}\n",
      "'success'\n",
      "\n"
     ]
    },
    {
     "name": "stderr",
     "output_type": "stream",
     "text": [
      "Scraping quotes:  64%|██████▎   | 648/1020 [18:19<05:17,  1.17it/s]"
     ]
    },
    {
     "name": "stdout",
     "output_type": "stream",
     "text": [
      "200\n"
     ]
    },
    {
     "name": "stderr",
     "output_type": "stream",
     "text": [
      "Scraping quotes:  64%|██████▎   | 649/1020 [18:20<05:50,  1.06it/s]"
     ]
    },
    {
     "name": "stdout",
     "output_type": "stream",
     "text": [
      "200\n"
     ]
    },
    {
     "name": "stderr",
     "output_type": "stream",
     "text": [
      "Scraping quotes:  64%|██████▎   | 650/1020 [18:21<06:09,  1.00it/s]"
     ]
    },
    {
     "name": "stdout",
     "output_type": "stream",
     "text": [
      "200\n"
     ]
    },
    {
     "name": "stderr",
     "output_type": "stream",
     "text": [
      "Scraping quotes:  64%|██████▍   | 651/1020 [18:22<06:13,  1.01s/it]"
     ]
    },
    {
     "name": "stdout",
     "output_type": "stream",
     "text": [
      "200\n"
     ]
    },
    {
     "name": "stderr",
     "output_type": "stream",
     "text": [
      "Scraping quotes:  64%|██████▍   | 652/1020 [18:24<07:19,  1.20s/it]"
     ]
    },
    {
     "name": "stdout",
     "output_type": "stream",
     "text": [
      "200\n"
     ]
    },
    {
     "name": "stderr",
     "output_type": "stream",
     "text": [
      "Scraping quotes:  64%|██████▍   | 653/1020 [18:28<11:41,  1.91s/it]"
     ]
    },
    {
     "name": "stdout",
     "output_type": "stream",
     "text": [
      "200\n"
     ]
    },
    {
     "name": "stderr",
     "output_type": "stream",
     "text": [
      "Scraping quotes:  64%|██████▍   | 654/1020 [18:29<10:26,  1.71s/it]"
     ]
    },
    {
     "name": "stdout",
     "output_type": "stream",
     "text": [
      "200\n"
     ]
    },
    {
     "name": "stderr",
     "output_type": "stream",
     "text": [
      "Scraping quotes:  64%|██████▍   | 655/1020 [18:31<10:26,  1.72s/it]"
     ]
    },
    {
     "name": "stdout",
     "output_type": "stream",
     "text": [
      "200\n"
     ]
    },
    {
     "name": "stderr",
     "output_type": "stream",
     "text": [
      "Scraping quotes:  64%|██████▍   | 656/1020 [18:34<13:13,  2.18s/it]"
     ]
    },
    {
     "name": "stdout",
     "output_type": "stream",
     "text": [
      "200\n"
     ]
    },
    {
     "name": "stderr",
     "output_type": "stream",
     "text": [
      "Scraping quotes:  64%|██████▍   | 657/1020 [18:36<12:36,  2.08s/it]"
     ]
    },
    {
     "name": "stdout",
     "output_type": "stream",
     "text": [
      "200\n"
     ]
    },
    {
     "name": "stderr",
     "output_type": "stream",
     "text": [
      "Scraping quotes:  65%|██████▍   | 658/1020 [18:38<13:15,  2.20s/it]"
     ]
    },
    {
     "name": "stdout",
     "output_type": "stream",
     "text": [
      "200\n"
     ]
    },
    {
     "name": "stderr",
     "output_type": "stream",
     "text": [
      "Scraping quotes:  65%|██████▍   | 659/1020 [18:41<13:42,  2.28s/it]"
     ]
    },
    {
     "name": "stdout",
     "output_type": "stream",
     "text": [
      "200\n"
     ]
    },
    {
     "name": "stderr",
     "output_type": "stream",
     "text": [
      "Scraping quotes:  65%|██████▍   | 661/1020 [18:44<10:38,  1.78s/it]"
     ]
    },
    {
     "name": "stdout",
     "output_type": "stream",
     "text": [
      "500\n",
      "Error scraping {'country': 'UK', 'region': 'gb', 'crypto_name': 'Ethereum Mainnet', 'payment_name': 'PSE', 'regionId': '/regions/gb', 'paymentMethodId': '/payments/pse', 'cryptoCurrencyId': '/currencies/crypto/1/0x0000000000000000000000000000000000000000', 'fiatCurrencyId': '/currencies/fiat/gbp', 'amount': 2284, 'request_time': datetime.datetime(2024, 8, 2, 22, 1, 42, 948312)}\n",
      "'success'\n",
      "\n"
     ]
    },
    {
     "name": "stderr",
     "output_type": "stream",
     "text": [
      "Scraping quotes:  65%|██████▍   | 662/1020 [18:46<11:05,  1.86s/it]"
     ]
    },
    {
     "name": "stdout",
     "output_type": "stream",
     "text": [
      "500\n",
      "Error scraping {'country': 'UK', 'region': 'gb', 'crypto_name': 'USDT (Ethereum)', 'payment_name': 'PSE', 'regionId': '/regions/gb', 'paymentMethodId': '/payments/pse', 'cryptoCurrencyId': '/currencies/crypto/1/0xdac17f958d2ee523a2206206994597c13d831ec7', 'fiatCurrencyId': '/currencies/fiat/gbp', 'amount': 2284, 'request_time': datetime.datetime(2024, 8, 2, 22, 1, 43, 736266)}\n",
      "'success'\n",
      "\n",
      "500\n",
      "Error scraping {'country': 'UK', 'region': 'gb', 'crypto_name': 'USDT (BNB Chain)', 'payment_name': 'PSE', 'regionId': '/regions/gb', 'paymentMethodId': '/payments/pse', 'cryptoCurrencyId': '/currencies/crypto/56/0x55d398326f99059ff775485246999027b3197955', 'fiatCurrencyId': '/currencies/fiat/gbp', 'amount': 2284, 'request_time': datetime.datetime(2024, 8, 2, 22, 1, 45, 774654)}\n",
      "'success'\n",
      "\n"
     ]
    },
    {
     "name": "stderr",
     "output_type": "stream",
     "text": [
      "Scraping quotes:  65%|██████▌   | 663/1020 [18:47<09:35,  1.61s/it]"
     ]
    },
    {
     "name": "stdout",
     "output_type": "stream",
     "text": [
      "200\n"
     ]
    },
    {
     "name": "stderr",
     "output_type": "stream",
     "text": [
      "Scraping quotes:  65%|██████▌   | 664/1020 [18:49<11:18,  1.91s/it]"
     ]
    },
    {
     "name": "stdout",
     "output_type": "stream",
     "text": [
      "200\n"
     ]
    },
    {
     "name": "stderr",
     "output_type": "stream",
     "text": [
      "Scraping quotes:  65%|██████▌   | 665/1020 [18:53<13:46,  2.33s/it]"
     ]
    },
    {
     "name": "stdout",
     "output_type": "stream",
     "text": [
      "200\n"
     ]
    },
    {
     "name": "stderr",
     "output_type": "stream",
     "text": [
      "Scraping quotes:  65%|██████▌   | 666/1020 [18:55<13:45,  2.33s/it]"
     ]
    },
    {
     "name": "stdout",
     "output_type": "stream",
     "text": [
      "200\n"
     ]
    },
    {
     "name": "stderr",
     "output_type": "stream",
     "text": [
      "Scraping quotes:  65%|██████▌   | 667/1020 [18:58<14:25,  2.45s/it]"
     ]
    },
    {
     "name": "stdout",
     "output_type": "stream",
     "text": [
      "200\n"
     ]
    },
    {
     "name": "stderr",
     "output_type": "stream",
     "text": [
      "Scraping quotes:  65%|██████▌   | 668/1020 [19:01<16:00,  2.73s/it]"
     ]
    },
    {
     "name": "stdout",
     "output_type": "stream",
     "text": [
      "200\n"
     ]
    },
    {
     "name": "stderr",
     "output_type": "stream",
     "text": [
      "Scraping quotes:  66%|██████▌   | 669/1020 [19:04<16:34,  2.83s/it]"
     ]
    },
    {
     "name": "stdout",
     "output_type": "stream",
     "text": [
      "200\n"
     ]
    },
    {
     "name": "stderr",
     "output_type": "stream",
     "text": [
      "Scraping quotes:  66%|██████▌   | 670/1020 [19:08<19:05,  3.27s/it]"
     ]
    },
    {
     "name": "stdout",
     "output_type": "stream",
     "text": [
      "200\n"
     ]
    },
    {
     "name": "stderr",
     "output_type": "stream",
     "text": [
      "Scraping quotes:  66%|██████▌   | 671/1020 [19:11<17:54,  3.08s/it]"
     ]
    },
    {
     "name": "stdout",
     "output_type": "stream",
     "text": [
      "200\n"
     ]
    },
    {
     "name": "stderr",
     "output_type": "stream",
     "text": [
      "Scraping quotes:  66%|██████▌   | 672/1020 [19:13<16:38,  2.87s/it]"
     ]
    },
    {
     "name": "stdout",
     "output_type": "stream",
     "text": [
      "200\n"
     ]
    },
    {
     "name": "stderr",
     "output_type": "stream",
     "text": [
      "Scraping quotes:  66%|██████▌   | 673/1020 [19:15<14:07,  2.44s/it]"
     ]
    },
    {
     "name": "stdout",
     "output_type": "stream",
     "text": [
      "200\n"
     ]
    },
    {
     "name": "stderr",
     "output_type": "stream",
     "text": [
      "Scraping quotes:  66%|██████▌   | 674/1020 [19:16<12:08,  2.11s/it]"
     ]
    },
    {
     "name": "stdout",
     "output_type": "stream",
     "text": [
      "200\n"
     ]
    },
    {
     "name": "stderr",
     "output_type": "stream",
     "text": [
      "Scraping quotes:  66%|██████▋   | 676/1020 [19:19<09:45,  1.70s/it]"
     ]
    },
    {
     "name": "stdout",
     "output_type": "stream",
     "text": [
      "500\n",
      "Error scraping {'country': 'DE', 'region': 'de', 'crypto_name': 'Ethereum Mainnet', 'payment_name': 'PSE', 'regionId': '/regions/de', 'paymentMethodId': '/payments/pse', 'cryptoCurrencyId': '/currencies/crypto/1/0x0000000000000000000000000000000000000000', 'fiatCurrencyId': '/currencies/fiat/eur', 'amount': 3226, 'request_time': datetime.datetime(2024, 8, 2, 22, 2, 17, 653910)}\n",
      "'success'\n",
      "\n",
      "500\n",
      "Error scraping {'country': 'DE', 'region': 'de', 'crypto_name': 'USDT (Ethereum)', 'payment_name': 'PSE', 'regionId': '/regions/de', 'paymentMethodId': '/payments/pse', 'cryptoCurrencyId': '/currencies/crypto/1/0xdac17f958d2ee523a2206206994597c13d831ec7', 'fiatCurrencyId': '/currencies/fiat/eur', 'amount': 3226, 'request_time': datetime.datetime(2024, 8, 2, 22, 2, 18, 952662)}\n",
      "'success'\n",
      "\n"
     ]
    },
    {
     "name": "stderr",
     "output_type": "stream",
     "text": [
      "Scraping quotes:  66%|██████▋   | 677/1020 [19:22<12:48,  2.24s/it]"
     ]
    },
    {
     "name": "stdout",
     "output_type": "stream",
     "text": [
      "500\n",
      "Error scraping {'country': 'DE', 'region': 'de', 'crypto_name': 'USDT (BNB Chain)', 'payment_name': 'PSE', 'regionId': '/regions/de', 'paymentMethodId': '/payments/pse', 'cryptoCurrencyId': '/currencies/crypto/56/0x55d398326f99059ff775485246999027b3197955', 'fiatCurrencyId': '/currencies/fiat/eur', 'amount': 3226, 'request_time': datetime.datetime(2024, 8, 2, 22, 2, 22, 450701)}\n",
      "'success'\n",
      "\n"
     ]
    },
    {
     "name": "stderr",
     "output_type": "stream",
     "text": [
      "Scraping quotes:  66%|██████▋   | 678/1020 [19:23<11:01,  1.93s/it]"
     ]
    },
    {
     "name": "stdout",
     "output_type": "stream",
     "text": [
      "200\n"
     ]
    },
    {
     "name": "stderr",
     "output_type": "stream",
     "text": [
      "Scraping quotes:  67%|██████▋   | 679/1020 [19:26<11:46,  2.07s/it]"
     ]
    },
    {
     "name": "stdout",
     "output_type": "stream",
     "text": [
      "200\n"
     ]
    },
    {
     "name": "stderr",
     "output_type": "stream",
     "text": [
      "Scraping quotes:  67%|██████▋   | 680/1020 [19:29<13:20,  2.36s/it]"
     ]
    },
    {
     "name": "stdout",
     "output_type": "stream",
     "text": [
      "200\n"
     ]
    },
    {
     "name": "stderr",
     "output_type": "stream",
     "text": [
      "Scraping quotes:  67%|██████▋   | 681/1020 [19:32<13:54,  2.46s/it]"
     ]
    },
    {
     "name": "stdout",
     "output_type": "stream",
     "text": [
      "200\n"
     ]
    },
    {
     "name": "stderr",
     "output_type": "stream",
     "text": [
      "Scraping quotes:  67%|██████▋   | 682/1020 [19:34<13:52,  2.46s/it]"
     ]
    },
    {
     "name": "stdout",
     "output_type": "stream",
     "text": [
      "200\n"
     ]
    },
    {
     "name": "stderr",
     "output_type": "stream",
     "text": [
      "Scraping quotes:  67%|██████▋   | 683/1020 [19:37<15:21,  2.73s/it]"
     ]
    },
    {
     "name": "stdout",
     "output_type": "stream",
     "text": [
      "200\n"
     ]
    },
    {
     "name": "stderr",
     "output_type": "stream",
     "text": [
      "Scraping quotes:  67%|██████▋   | 684/1020 [19:40<14:52,  2.66s/it]"
     ]
    },
    {
     "name": "stdout",
     "output_type": "stream",
     "text": [
      "200\n"
     ]
    },
    {
     "name": "stderr",
     "output_type": "stream",
     "text": [
      "Scraping quotes:  67%|██████▋   | 685/1020 [19:41<11:34,  2.07s/it]"
     ]
    },
    {
     "name": "stdout",
     "output_type": "stream",
     "text": [
      "200\n"
     ]
    },
    {
     "name": "stderr",
     "output_type": "stream",
     "text": [
      "Scraping quotes:  67%|██████▋   | 686/1020 [19:41<09:11,  1.65s/it]"
     ]
    },
    {
     "name": "stdout",
     "output_type": "stream",
     "text": [
      "200\n"
     ]
    },
    {
     "name": "stderr",
     "output_type": "stream",
     "text": [
      "Scraping quotes:  67%|██████▋   | 687/1020 [19:42<07:41,  1.39s/it]"
     ]
    },
    {
     "name": "stdout",
     "output_type": "stream",
     "text": [
      "200\n"
     ]
    },
    {
     "name": "stderr",
     "output_type": "stream",
     "text": [
      "Scraping quotes:  67%|██████▋   | 688/1020 [19:43<07:24,  1.34s/it]"
     ]
    },
    {
     "name": "stdout",
     "output_type": "stream",
     "text": [
      "200\n"
     ]
    },
    {
     "name": "stderr",
     "output_type": "stream",
     "text": [
      "Scraping quotes:  68%|██████▊   | 690/1020 [19:45<06:08,  1.12s/it]"
     ]
    },
    {
     "name": "stdout",
     "output_type": "stream",
     "text": [
      "500\n",
      "Error scraping {'country': 'US', 'region': 'us-fl', 'crypto_name': 'USDT (BNB Chain)', 'payment_name': 'Instant ACH Bank Transfer', 'regionId': '/regions/us-fl', 'paymentMethodId': '/payments/instant-bank-transfer', 'cryptoCurrencyId': '/currencies/crypto/56/0x55d398326f99059ff775485246999027b3197955', 'fiatCurrencyId': '/currencies/fiat/usd', 'amount': 3226, 'request_time': datetime.datetime(2024, 8, 2, 22, 2, 44, 365747)}\n",
      "'success'\n",
      "\n"
     ]
    },
    {
     "name": "stderr",
     "output_type": "stream",
     "text": [
      "Scraping quotes:  68%|██████▊   | 691/1020 [19:46<05:27,  1.00it/s]"
     ]
    },
    {
     "name": "stdout",
     "output_type": "stream",
     "text": [
      "500\n",
      "Error scraping {'country': 'US', 'region': 'us-fl', 'crypto_name': 'Ethereum Mainnet', 'payment_name': 'Wire Transfer', 'regionId': '/regions/us-fl', 'paymentMethodId': '/payments/wire-transfer', 'cryptoCurrencyId': '/currencies/crypto/1/0x0000000000000000000000000000000000000000', 'fiatCurrencyId': '/currencies/fiat/usd', 'amount': 3226, 'request_time': datetime.datetime(2024, 8, 2, 22, 2, 45, 270840)}\n",
      "'success'\n",
      "\n",
      "500\n",
      "Error scraping {'country': 'US', 'region': 'us-fl', 'crypto_name': 'USDT (Ethereum)', 'payment_name': 'Wire Transfer', 'regionId': '/regions/us-fl', 'paymentMethodId': '/payments/wire-transfer', 'cryptoCurrencyId': '/currencies/crypto/1/0xdac17f958d2ee523a2206206994597c13d831ec7', 'fiatCurrencyId': '/currencies/fiat/usd', 'amount': 3226, 'request_time': datetime.datetime(2024, 8, 2, 22, 2, 45, 987341)}\n",
      "'success'\n",
      "\n"
     ]
    },
    {
     "name": "stderr",
     "output_type": "stream",
     "text": [
      "Scraping quotes:  68%|██████▊   | 693/1020 [19:48<05:26,  1.00it/s]"
     ]
    },
    {
     "name": "stdout",
     "output_type": "stream",
     "text": [
      "500\n",
      "Error scraping {'country': 'US', 'region': 'us-fl', 'crypto_name': 'USDT (BNB Chain)', 'payment_name': 'Wire Transfer', 'regionId': '/regions/us-fl', 'paymentMethodId': '/payments/wire-transfer', 'cryptoCurrencyId': '/currencies/crypto/56/0x55d398326f99059ff775485246999027b3197955', 'fiatCurrencyId': '/currencies/fiat/usd', 'amount': 3226, 'request_time': datetime.datetime(2024, 8, 2, 22, 2, 46, 809447)}\n",
      "'success'\n",
      "\n",
      "200\n"
     ]
    },
    {
     "name": "stderr",
     "output_type": "stream",
     "text": [
      "Scraping quotes:  68%|██████▊   | 694/1020 [19:49<05:21,  1.01it/s]"
     ]
    },
    {
     "name": "stdout",
     "output_type": "stream",
     "text": [
      "200\n"
     ]
    },
    {
     "name": "stderr",
     "output_type": "stream",
     "text": [
      "Scraping quotes:  68%|██████▊   | 695/1020 [19:50<05:34,  1.03s/it]"
     ]
    },
    {
     "name": "stdout",
     "output_type": "stream",
     "text": [
      "200\n"
     ]
    },
    {
     "name": "stderr",
     "output_type": "stream",
     "text": [
      "Scraping quotes:  68%|██████▊   | 697/1020 [19:55<10:08,  1.88s/it]"
     ]
    },
    {
     "name": "stdout",
     "output_type": "stream",
     "text": [
      "500\n",
      "Error scraping {'country': 'US', 'region': 'us-fl', 'crypto_name': 'Ethereum Mainnet', 'payment_name': 'PSE', 'regionId': '/regions/us-fl', 'paymentMethodId': '/payments/pse', 'cryptoCurrencyId': '/currencies/crypto/1/0x0000000000000000000000000000000000000000', 'fiatCurrencyId': '/currencies/fiat/usd', 'amount': 3226, 'request_time': datetime.datetime(2024, 8, 2, 22, 2, 51, 966631)}\n",
      "'success'\n",
      "\n"
     ]
    },
    {
     "name": "stderr",
     "output_type": "stream",
     "text": [
      "Scraping quotes:  68%|██████▊   | 698/1020 [19:56<08:43,  1.63s/it]"
     ]
    },
    {
     "name": "stdout",
     "output_type": "stream",
     "text": [
      "500\n",
      "Error scraping {'country': 'US', 'region': 'us-fl', 'crypto_name': 'USDT (Ethereum)', 'payment_name': 'PSE', 'regionId': '/regions/us-fl', 'paymentMethodId': '/payments/pse', 'cryptoCurrencyId': '/currencies/crypto/1/0xdac17f958d2ee523a2206206994597c13d831ec7', 'fiatCurrencyId': '/currencies/fiat/usd', 'amount': 3226, 'request_time': datetime.datetime(2024, 8, 2, 22, 2, 55, 201004)}\n",
      "'success'\n",
      "\n",
      "500\n",
      "Error scraping {'country': 'US', 'region': 'us-fl', 'crypto_name': 'USDT (BNB Chain)', 'payment_name': 'PSE', 'regionId': '/regions/us-fl', 'paymentMethodId': '/payments/pse', 'cryptoCurrencyId': '/currencies/crypto/56/0x55d398326f99059ff775485246999027b3197955', 'fiatCurrencyId': '/currencies/fiat/usd', 'amount': 3226, 'request_time': datetime.datetime(2024, 8, 2, 22, 2, 56, 228762)}\n",
      "'success'\n",
      "\n"
     ]
    },
    {
     "name": "stderr",
     "output_type": "stream",
     "text": [
      "Scraping quotes:  69%|██████▊   | 699/1020 [19:57<07:24,  1.38s/it]"
     ]
    },
    {
     "name": "stdout",
     "output_type": "stream",
     "text": [
      "200\n"
     ]
    },
    {
     "name": "stderr",
     "output_type": "stream",
     "text": [
      "Scraping quotes:  69%|██████▊   | 700/1020 [19:58<07:11,  1.35s/it]"
     ]
    },
    {
     "name": "stdout",
     "output_type": "stream",
     "text": [
      "200\n"
     ]
    },
    {
     "name": "stderr",
     "output_type": "stream",
     "text": [
      "Scraping quotes:  69%|██████▊   | 701/1020 [19:59<06:49,  1.28s/it]"
     ]
    },
    {
     "name": "stdout",
     "output_type": "stream",
     "text": [
      "200\n"
     ]
    },
    {
     "name": "stderr",
     "output_type": "stream",
     "text": [
      "Scraping quotes:  69%|██████▉   | 702/1020 [20:03<10:45,  2.03s/it]"
     ]
    },
    {
     "name": "stdout",
     "output_type": "stream",
     "text": [
      "200\n"
     ]
    },
    {
     "name": "stderr",
     "output_type": "stream",
     "text": [
      "Scraping quotes:  69%|██████▉   | 703/1020 [20:05<11:07,  2.11s/it]"
     ]
    },
    {
     "name": "stdout",
     "output_type": "stream",
     "text": [
      "200\n"
     ]
    },
    {
     "name": "stderr",
     "output_type": "stream",
     "text": [
      "Scraping quotes:  69%|██████▉   | 704/1020 [20:10<15:11,  2.88s/it]"
     ]
    },
    {
     "name": "stdout",
     "output_type": "stream",
     "text": [
      "200\n"
     ]
    },
    {
     "name": "stderr",
     "output_type": "stream",
     "text": [
      "Scraping quotes:  69%|██████▉   | 705/1020 [20:11<12:20,  2.35s/it]"
     ]
    },
    {
     "name": "stdout",
     "output_type": "stream",
     "text": [
      "200\n"
     ]
    },
    {
     "name": "stderr",
     "output_type": "stream",
     "text": [
      "Scraping quotes:  69%|██████▉   | 706/1020 [20:13<10:52,  2.08s/it]"
     ]
    },
    {
     "name": "stdout",
     "output_type": "stream",
     "text": [
      "200\n"
     ]
    },
    {
     "name": "stderr",
     "output_type": "stream",
     "text": [
      "Scraping quotes:  69%|██████▉   | 707/1020 [20:14<09:49,  1.88s/it]"
     ]
    },
    {
     "name": "stdout",
     "output_type": "stream",
     "text": [
      "200\n"
     ]
    },
    {
     "name": "stderr",
     "output_type": "stream",
     "text": [
      "Scraping quotes:  69%|██████▉   | 708/1020 [20:15<08:16,  1.59s/it]"
     ]
    },
    {
     "name": "stdout",
     "output_type": "stream",
     "text": [
      "200\n"
     ]
    },
    {
     "name": "stderr",
     "output_type": "stream",
     "text": [
      "Scraping quotes:  70%|██████▉   | 709/1020 [20:17<08:29,  1.64s/it]"
     ]
    },
    {
     "name": "stdout",
     "output_type": "stream",
     "text": [
      "200\n"
     ]
    },
    {
     "name": "stderr",
     "output_type": "stream",
     "text": [
      "Scraping quotes:  70%|██████▉   | 710/1020 [20:19<09:26,  1.83s/it]"
     ]
    },
    {
     "name": "stdout",
     "output_type": "stream",
     "text": [
      "200\n"
     ]
    },
    {
     "name": "stderr",
     "output_type": "stream",
     "text": [
      "Scraping quotes:  70%|██████▉   | 712/1020 [20:21<06:35,  1.29s/it]"
     ]
    },
    {
     "name": "stdout",
     "output_type": "stream",
     "text": [
      "502\n",
      "Error scraping {'country': 'UK', 'region': 'gb', 'crypto_name': 'Ethereum Mainnet', 'payment_name': 'PSE', 'regionId': '/regions/gb', 'paymentMethodId': '/payments/pse', 'cryptoCurrencyId': '/currencies/crypto/1/0x0000000000000000000000000000000000000000', 'fiatCurrencyId': '/currencies/fiat/gbp', 'amount': 3226, 'request_time': datetime.datetime(2024, 8, 2, 22, 3, 20, 88688)}\n",
      "Expecting value: line 1 column 1 (char 0)\n",
      "\n"
     ]
    },
    {
     "name": "stderr",
     "output_type": "stream",
     "text": [
      "Scraping quotes:  70%|██████▉   | 713/1020 [20:24<10:06,  1.98s/it]"
     ]
    },
    {
     "name": "stdout",
     "output_type": "stream",
     "text": [
      "500\n",
      "Error scraping {'country': 'UK', 'region': 'gb', 'crypto_name': 'USDT (Ethereum)', 'payment_name': 'PSE', 'regionId': '/regions/gb', 'paymentMethodId': '/payments/pse', 'cryptoCurrencyId': '/currencies/crypto/1/0xdac17f958d2ee523a2206206994597c13d831ec7', 'fiatCurrencyId': '/currencies/fiat/gbp', 'amount': 3226, 'request_time': datetime.datetime(2024, 8, 2, 22, 3, 20, 701358)}\n",
      "'success'\n",
      "\n",
      "500\n",
      "Error scraping {'country': 'UK', 'region': 'gb', 'crypto_name': 'USDT (BNB Chain)', 'payment_name': 'PSE', 'regionId': '/regions/gb', 'paymentMethodId': '/payments/pse', 'cryptoCurrencyId': '/currencies/crypto/56/0x55d398326f99059ff775485246999027b3197955', 'fiatCurrencyId': '/currencies/fiat/gbp', 'amount': 3226, 'request_time': datetime.datetime(2024, 8, 2, 22, 3, 24, 286868)}\n",
      "'success'\n",
      "\n"
     ]
    },
    {
     "name": "stderr",
     "output_type": "stream",
     "text": [
      "Scraping quotes:  70%|███████   | 714/1020 [20:26<09:52,  1.93s/it]"
     ]
    },
    {
     "name": "stdout",
     "output_type": "stream",
     "text": [
      "200\n"
     ]
    },
    {
     "name": "stderr",
     "output_type": "stream",
     "text": [
      "Scraping quotes:  70%|███████   | 715/1020 [20:29<11:09,  2.20s/it]"
     ]
    },
    {
     "name": "stdout",
     "output_type": "stream",
     "text": [
      "200\n"
     ]
    },
    {
     "name": "stderr",
     "output_type": "stream",
     "text": [
      "Scraping quotes:  70%|███████   | 716/1020 [20:31<11:40,  2.31s/it]"
     ]
    },
    {
     "name": "stdout",
     "output_type": "stream",
     "text": [
      "200\n"
     ]
    },
    {
     "name": "stderr",
     "output_type": "stream",
     "text": [
      "Scraping quotes:  70%|███████   | 717/1020 [20:34<11:42,  2.32s/it]"
     ]
    },
    {
     "name": "stdout",
     "output_type": "stream",
     "text": [
      "200\n"
     ]
    },
    {
     "name": "stderr",
     "output_type": "stream",
     "text": [
      "Scraping quotes:  70%|███████   | 718/1020 [20:36<12:20,  2.45s/it]"
     ]
    },
    {
     "name": "stdout",
     "output_type": "stream",
     "text": [
      "200\n"
     ]
    },
    {
     "name": "stderr",
     "output_type": "stream",
     "text": [
      "Scraping quotes:  70%|███████   | 719/1020 [20:39<12:28,  2.49s/it]"
     ]
    },
    {
     "name": "stdout",
     "output_type": "stream",
     "text": [
      "200\n"
     ]
    },
    {
     "name": "stderr",
     "output_type": "stream",
     "text": [
      "Scraping quotes:  71%|███████   | 720/1020 [20:44<15:36,  3.12s/it]"
     ]
    },
    {
     "name": "stdout",
     "output_type": "stream",
     "text": [
      "200\n"
     ]
    },
    {
     "name": "stderr",
     "output_type": "stream",
     "text": [
      "Scraping quotes:  71%|███████   | 721/1020 [20:46<15:00,  3.01s/it]"
     ]
    },
    {
     "name": "stdout",
     "output_type": "stream",
     "text": [
      "200\n"
     ]
    },
    {
     "name": "stderr",
     "output_type": "stream",
     "text": [
      "Scraping quotes:  71%|███████   | 722/1020 [20:49<14:08,  2.85s/it]"
     ]
    },
    {
     "name": "stdout",
     "output_type": "stream",
     "text": [
      "200\n"
     ]
    },
    {
     "name": "stderr",
     "output_type": "stream",
     "text": [
      "Scraping quotes:  71%|███████   | 723/1020 [20:51<13:17,  2.68s/it]"
     ]
    },
    {
     "name": "stdout",
     "output_type": "stream",
     "text": [
      "200\n"
     ]
    },
    {
     "name": "stderr",
     "output_type": "stream",
     "text": [
      "Scraping quotes:  71%|███████   | 724/1020 [20:53<11:19,  2.30s/it]"
     ]
    },
    {
     "name": "stdout",
     "output_type": "stream",
     "text": [
      "200\n"
     ]
    },
    {
     "name": "stderr",
     "output_type": "stream",
     "text": [
      "Scraping quotes:  71%|███████   | 725/1020 [20:54<09:56,  2.02s/it]"
     ]
    },
    {
     "name": "stdout",
     "output_type": "stream",
     "text": [
      "200\n"
     ]
    },
    {
     "name": "stderr",
     "output_type": "stream",
     "text": [
      "Scraping quotes:  71%|███████▏  | 727/1020 [20:59<11:38,  2.38s/it]"
     ]
    },
    {
     "name": "stdout",
     "output_type": "stream",
     "text": [
      "500\n",
      "Error scraping {'country': 'DE', 'region': 'de', 'crypto_name': 'Ethereum Mainnet', 'payment_name': 'PSE', 'regionId': '/regions/de', 'paymentMethodId': '/payments/pse', 'cryptoCurrencyId': '/currencies/crypto/1/0x0000000000000000000000000000000000000000', 'fiatCurrencyId': '/currencies/fiat/eur', 'amount': 4556, 'request_time': datetime.datetime(2024, 8, 2, 22, 3, 55, 349494)}\n",
      "'success'\n",
      "\n"
     ]
    },
    {
     "name": "stderr",
     "output_type": "stream",
     "text": [
      "Scraping quotes:  71%|███████▏  | 728/1020 [21:00<09:19,  1.92s/it]"
     ]
    },
    {
     "name": "stdout",
     "output_type": "stream",
     "text": [
      "500\n",
      "Error scraping {'country': 'DE', 'region': 'de', 'crypto_name': 'USDT (Ethereum)', 'payment_name': 'PSE', 'regionId': '/regions/de', 'paymentMethodId': '/payments/pse', 'cryptoCurrencyId': '/currencies/crypto/1/0xdac17f958d2ee523a2206206994597c13d831ec7', 'fiatCurrencyId': '/currencies/fiat/eur', 'amount': 4556, 'request_time': datetime.datetime(2024, 8, 2, 22, 3, 59, 99416)}\n",
      "'success'\n",
      "\n"
     ]
    },
    {
     "name": "stderr",
     "output_type": "stream",
     "text": [
      "Scraping quotes:  71%|███████▏  | 729/1020 [21:01<07:59,  1.65s/it]"
     ]
    },
    {
     "name": "stdout",
     "output_type": "stream",
     "text": [
      "500\n",
      "Error scraping {'country': 'DE', 'region': 'de', 'crypto_name': 'USDT (BNB Chain)', 'payment_name': 'PSE', 'regionId': '/regions/de', 'paymentMethodId': '/payments/pse', 'cryptoCurrencyId': '/currencies/crypto/56/0x55d398326f99059ff775485246999027b3197955', 'fiatCurrencyId': '/currencies/fiat/eur', 'amount': 4556, 'request_time': datetime.datetime(2024, 8, 2, 22, 3, 59, 921449)}\n",
      "'success'\n",
      "\n",
      "200\n"
     ]
    },
    {
     "name": "stderr",
     "output_type": "stream",
     "text": [
      "Scraping quotes:  72%|███████▏  | 730/1020 [21:03<09:12,  1.90s/it]"
     ]
    },
    {
     "name": "stdout",
     "output_type": "stream",
     "text": [
      "200\n"
     ]
    },
    {
     "name": "stderr",
     "output_type": "stream",
     "text": [
      "Scraping quotes:  72%|███████▏  | 731/1020 [21:06<10:33,  2.19s/it]"
     ]
    },
    {
     "name": "stdout",
     "output_type": "stream",
     "text": [
      "200\n"
     ]
    },
    {
     "name": "stderr",
     "output_type": "stream",
     "text": [
      "Scraping quotes:  72%|███████▏  | 732/1020 [21:09<11:39,  2.43s/it]"
     ]
    },
    {
     "name": "stdout",
     "output_type": "stream",
     "text": [
      "200\n"
     ]
    },
    {
     "name": "stderr",
     "output_type": "stream",
     "text": [
      "Scraping quotes:  72%|███████▏  | 733/1020 [21:12<12:13,  2.56s/it]"
     ]
    },
    {
     "name": "stdout",
     "output_type": "stream",
     "text": [
      "200\n"
     ]
    },
    {
     "name": "stderr",
     "output_type": "stream",
     "text": [
      "Scraping quotes:  72%|███████▏  | 734/1020 [21:15<12:10,  2.56s/it]"
     ]
    },
    {
     "name": "stdout",
     "output_type": "stream",
     "text": [
      "200\n"
     ]
    },
    {
     "name": "stderr",
     "output_type": "stream",
     "text": [
      "Scraping quotes:  72%|███████▏  | 735/1020 [21:18<13:28,  2.84s/it]"
     ]
    },
    {
     "name": "stdout",
     "output_type": "stream",
     "text": [
      "200\n"
     ]
    },
    {
     "name": "stderr",
     "output_type": "stream",
     "text": [
      "Scraping quotes:  72%|███████▏  | 736/1020 [21:19<10:43,  2.27s/it]"
     ]
    },
    {
     "name": "stdout",
     "output_type": "stream",
     "text": [
      "200\n"
     ]
    },
    {
     "name": "stderr",
     "output_type": "stream",
     "text": [
      "Scraping quotes:  72%|███████▏  | 737/1020 [21:20<08:53,  1.89s/it]"
     ]
    },
    {
     "name": "stdout",
     "output_type": "stream",
     "text": [
      "200\n"
     ]
    },
    {
     "name": "stderr",
     "output_type": "stream",
     "text": [
      "Scraping quotes:  72%|███████▏  | 738/1020 [21:21<07:16,  1.55s/it]"
     ]
    },
    {
     "name": "stdout",
     "output_type": "stream",
     "text": [
      "200\n"
     ]
    },
    {
     "name": "stderr",
     "output_type": "stream",
     "text": [
      "Scraping quotes:  72%|███████▏  | 739/1020 [21:23<08:02,  1.72s/it]"
     ]
    },
    {
     "name": "stdout",
     "output_type": "stream",
     "text": [
      "200\n"
     ]
    },
    {
     "name": "stderr",
     "output_type": "stream",
     "text": [
      "Scraping quotes:  73%|███████▎  | 740/1020 [21:24<06:54,  1.48s/it]"
     ]
    },
    {
     "name": "stdout",
     "output_type": "stream",
     "text": [
      "500\n",
      "Error scraping {'country': 'US', 'region': 'us-fl', 'crypto_name': 'USDT (BNB Chain)', 'payment_name': 'Instant ACH Bank Transfer', 'regionId': '/regions/us-fl', 'paymentMethodId': '/payments/instant-bank-transfer', 'cryptoCurrencyId': '/currencies/crypto/56/0x55d398326f99059ff775485246999027b3197955', 'fiatCurrencyId': '/currencies/fiat/usd', 'amount': 4556, 'request_time': datetime.datetime(2024, 8, 2, 22, 4, 23, 969556)}\n",
      "'success'\n",
      "\n"
     ]
    },
    {
     "name": "stderr",
     "output_type": "stream",
     "text": [
      "Scraping quotes:  73%|███████▎  | 741/1020 [21:24<05:45,  1.24s/it]"
     ]
    },
    {
     "name": "stdout",
     "output_type": "stream",
     "text": [
      "500\n",
      "Error scraping {'country': 'US', 'region': 'us-fl', 'crypto_name': 'Ethereum Mainnet', 'payment_name': 'Wire Transfer', 'regionId': '/regions/us-fl', 'paymentMethodId': '/payments/wire-transfer', 'cryptoCurrencyId': '/currencies/crypto/1/0x0000000000000000000000000000000000000000', 'fiatCurrencyId': '/currencies/fiat/usd', 'amount': 4556, 'request_time': datetime.datetime(2024, 8, 2, 22, 4, 24, 602943)}\n",
      "'success'\n",
      "\n"
     ]
    },
    {
     "name": "stderr",
     "output_type": "stream",
     "text": [
      "Scraping quotes:  73%|███████▎  | 742/1020 [21:25<05:09,  1.11s/it]"
     ]
    },
    {
     "name": "stdout",
     "output_type": "stream",
     "text": [
      "500\n",
      "Error scraping {'country': 'US', 'region': 'us-fl', 'crypto_name': 'USDT (Ethereum)', 'payment_name': 'Wire Transfer', 'regionId': '/regions/us-fl', 'paymentMethodId': '/payments/wire-transfer', 'cryptoCurrencyId': '/currencies/crypto/1/0xdac17f958d2ee523a2206206994597c13d831ec7', 'fiatCurrencyId': '/currencies/fiat/usd', 'amount': 4556, 'request_time': datetime.datetime(2024, 8, 2, 22, 4, 25, 417434)}\n",
      "'success'\n",
      "\n"
     ]
    },
    {
     "name": "stderr",
     "output_type": "stream",
     "text": [
      "Scraping quotes:  73%|███████▎  | 743/1020 [21:26<04:26,  1.04it/s]"
     ]
    },
    {
     "name": "stdout",
     "output_type": "stream",
     "text": [
      "500\n",
      "Error scraping {'country': 'US', 'region': 'us-fl', 'crypto_name': 'USDT (BNB Chain)', 'payment_name': 'Wire Transfer', 'regionId': '/regions/us-fl', 'paymentMethodId': '/payments/wire-transfer', 'cryptoCurrencyId': '/currencies/crypto/56/0x55d398326f99059ff775485246999027b3197955', 'fiatCurrencyId': '/currencies/fiat/usd', 'amount': 4556, 'request_time': datetime.datetime(2024, 8, 2, 22, 4, 26, 31834)}\n",
      "'success'\n",
      "\n"
     ]
    },
    {
     "name": "stderr",
     "output_type": "stream",
     "text": [
      "Scraping quotes:  73%|███████▎  | 744/1020 [21:27<04:13,  1.09it/s]"
     ]
    },
    {
     "name": "stdout",
     "output_type": "stream",
     "text": [
      "200\n"
     ]
    },
    {
     "name": "stderr",
     "output_type": "stream",
     "text": [
      "Scraping quotes:  73%|███████▎  | 745/1020 [21:27<03:53,  1.18it/s]"
     ]
    },
    {
     "name": "stdout",
     "output_type": "stream",
     "text": [
      "200\n"
     ]
    },
    {
     "name": "stderr",
     "output_type": "stream",
     "text": [
      "Scraping quotes:  73%|███████▎  | 746/1020 [21:28<03:37,  1.26it/s]"
     ]
    },
    {
     "name": "stdout",
     "output_type": "stream",
     "text": [
      "200\n"
     ]
    },
    {
     "name": "stderr",
     "output_type": "stream",
     "text": [
      "Scraping quotes:  73%|███████▎  | 748/1020 [21:32<06:44,  1.49s/it]"
     ]
    },
    {
     "name": "stdout",
     "output_type": "stream",
     "text": [
      "500\n",
      "Error scraping {'country': 'US', 'region': 'us-fl', 'crypto_name': 'Ethereum Mainnet', 'payment_name': 'PSE', 'regionId': '/regions/us-fl', 'paymentMethodId': '/payments/pse', 'cryptoCurrencyId': '/currencies/crypto/1/0x0000000000000000000000000000000000000000', 'fiatCurrencyId': '/currencies/fiat/usd', 'amount': 4556, 'request_time': datetime.datetime(2024, 8, 2, 22, 4, 28, 901683)}\n",
      "'success'\n",
      "\n"
     ]
    },
    {
     "name": "stderr",
     "output_type": "stream",
     "text": [
      "Scraping quotes:  73%|███████▎  | 749/1020 [21:34<07:12,  1.59s/it]"
     ]
    },
    {
     "name": "stdout",
     "output_type": "stream",
     "text": [
      "500\n",
      "Error scraping {'country': 'US', 'region': 'us-fl', 'crypto_name': 'USDT (Ethereum)', 'payment_name': 'PSE', 'regionId': '/regions/us-fl', 'paymentMethodId': '/payments/pse', 'cryptoCurrencyId': '/currencies/crypto/1/0xdac17f958d2ee523a2206206994597c13d831ec7', 'fiatCurrencyId': '/currencies/fiat/usd', 'amount': 4556, 'request_time': datetime.datetime(2024, 8, 2, 22, 4, 32, 72996)}\n",
      "'success'\n",
      "\n",
      "500\n",
      "Error scraping {'country': 'US', 'region': 'us-fl', 'crypto_name': 'USDT (BNB Chain)', 'payment_name': 'PSE', 'regionId': '/regions/us-fl', 'paymentMethodId': '/payments/pse', 'cryptoCurrencyId': '/currencies/crypto/56/0x55d398326f99059ff775485246999027b3197955', 'fiatCurrencyId': '/currencies/fiat/usd', 'amount': 4556, 'request_time': datetime.datetime(2024, 8, 2, 22, 4, 33, 916838)}\n",
      "'success'\n",
      "\n"
     ]
    },
    {
     "name": "stderr",
     "output_type": "stream",
     "text": [
      "Scraping quotes:  74%|███████▎  | 750/1020 [21:36<07:39,  1.70s/it]"
     ]
    },
    {
     "name": "stdout",
     "output_type": "stream",
     "text": [
      "200\n"
     ]
    },
    {
     "name": "stderr",
     "output_type": "stream",
     "text": [
      "Scraping quotes:  74%|███████▎  | 751/1020 [21:37<07:01,  1.57s/it]"
     ]
    },
    {
     "name": "stdout",
     "output_type": "stream",
     "text": [
      "200\n"
     ]
    },
    {
     "name": "stderr",
     "output_type": "stream",
     "text": [
      "Scraping quotes:  74%|███████▎  | 752/1020 [21:38<06:35,  1.48s/it]"
     ]
    },
    {
     "name": "stdout",
     "output_type": "stream",
     "text": [
      "200\n"
     ]
    },
    {
     "name": "stderr",
     "output_type": "stream",
     "text": [
      "Scraping quotes:  74%|███████▍  | 753/1020 [21:39<06:02,  1.36s/it]"
     ]
    },
    {
     "name": "stdout",
     "output_type": "stream",
     "text": [
      "200\n"
     ]
    },
    {
     "name": "stderr",
     "output_type": "stream",
     "text": [
      "Scraping quotes:  74%|███████▍  | 754/1020 [21:41<06:32,  1.47s/it]"
     ]
    },
    {
     "name": "stdout",
     "output_type": "stream",
     "text": [
      "200\n"
     ]
    },
    {
     "name": "stderr",
     "output_type": "stream",
     "text": [
      "Scraping quotes:  74%|███████▍  | 755/1020 [21:43<07:24,  1.68s/it]"
     ]
    },
    {
     "name": "stdout",
     "output_type": "stream",
     "text": [
      "200\n"
     ]
    },
    {
     "name": "stderr",
     "output_type": "stream",
     "text": [
      "Scraping quotes:  74%|███████▍  | 756/1020 [21:44<06:16,  1.43s/it]"
     ]
    },
    {
     "name": "stdout",
     "output_type": "stream",
     "text": [
      "200\n"
     ]
    },
    {
     "name": "stderr",
     "output_type": "stream",
     "text": [
      "Scraping quotes:  74%|███████▍  | 757/1020 [21:46<07:12,  1.65s/it]"
     ]
    },
    {
     "name": "stdout",
     "output_type": "stream",
     "text": [
      "200\n"
     ]
    },
    {
     "name": "stderr",
     "output_type": "stream",
     "text": [
      "Scraping quotes:  74%|███████▍  | 758/1020 [21:49<08:05,  1.85s/it]"
     ]
    },
    {
     "name": "stdout",
     "output_type": "stream",
     "text": [
      "200\n"
     ]
    },
    {
     "name": "stderr",
     "output_type": "stream",
     "text": [
      "Scraping quotes:  74%|███████▍  | 759/1020 [21:51<08:43,  2.00s/it]"
     ]
    },
    {
     "name": "stdout",
     "output_type": "stream",
     "text": [
      "200\n"
     ]
    },
    {
     "name": "stderr",
     "output_type": "stream",
     "text": [
      "Scraping quotes:  75%|███████▍  | 760/1020 [21:54<09:33,  2.21s/it]"
     ]
    },
    {
     "name": "stdout",
     "output_type": "stream",
     "text": [
      "200\n"
     ]
    },
    {
     "name": "stderr",
     "output_type": "stream",
     "text": [
      "Scraping quotes:  75%|███████▍  | 761/1020 [21:57<10:53,  2.52s/it]"
     ]
    },
    {
     "name": "stdout",
     "output_type": "stream",
     "text": [
      "200\n"
     ]
    },
    {
     "name": "stderr",
     "output_type": "stream",
     "text": [
      "Scraping quotes:  75%|███████▍  | 763/1020 [22:00<08:26,  1.97s/it]"
     ]
    },
    {
     "name": "stdout",
     "output_type": "stream",
     "text": [
      "500\n",
      "Error scraping {'country': 'UK', 'region': 'gb', 'crypto_name': 'Ethereum Mainnet', 'payment_name': 'PSE', 'regionId': '/regions/gb', 'paymentMethodId': '/payments/pse', 'cryptoCurrencyId': '/currencies/crypto/1/0x0000000000000000000000000000000000000000', 'fiatCurrencyId': '/currencies/fiat/gbp', 'amount': 4556, 'request_time': datetime.datetime(2024, 8, 2, 22, 4, 58, 942817)}\n",
      "'success'\n",
      "\n"
     ]
    },
    {
     "name": "stderr",
     "output_type": "stream",
     "text": [
      "Scraping quotes:  75%|███████▍  | 764/1020 [22:01<07:11,  1.69s/it]"
     ]
    },
    {
     "name": "stdout",
     "output_type": "stream",
     "text": [
      "500\n",
      "Error scraping {'country': 'UK', 'region': 'gb', 'crypto_name': 'USDT (Ethereum)', 'payment_name': 'PSE', 'regionId': '/regions/gb', 'paymentMethodId': '/payments/pse', 'cryptoCurrencyId': '/currencies/crypto/1/0xdac17f958d2ee523a2206206994597c13d831ec7', 'fiatCurrencyId': '/currencies/fiat/gbp', 'amount': 4556, 'request_time': datetime.datetime(2024, 8, 2, 22, 5, 0, 32651)}\n",
      "'success'\n",
      "\n",
      "500\n",
      "Error scraping {'country': 'UK', 'region': 'gb', 'crypto_name': 'USDT (BNB Chain)', 'payment_name': 'PSE', 'regionId': '/regions/gb', 'paymentMethodId': '/payments/pse', 'cryptoCurrencyId': '/currencies/crypto/56/0x55d398326f99059ff775485246999027b3197955', 'fiatCurrencyId': '/currencies/fiat/gbp', 'amount': 4556, 'request_time': datetime.datetime(2024, 8, 2, 22, 5, 1, 53419)}\n",
      "'success'\n",
      "\n"
     ]
    },
    {
     "name": "stderr",
     "output_type": "stream",
     "text": [
      "Scraping quotes:  75%|███████▌  | 765/1020 [22:02<06:03,  1.43s/it]"
     ]
    },
    {
     "name": "stdout",
     "output_type": "stream",
     "text": [
      "200\n"
     ]
    },
    {
     "name": "stderr",
     "output_type": "stream",
     "text": [
      "Scraping quotes:  75%|███████▌  | 766/1020 [22:04<07:46,  1.84s/it]"
     ]
    },
    {
     "name": "stdout",
     "output_type": "stream",
     "text": [
      "200\n"
     ]
    },
    {
     "name": "stderr",
     "output_type": "stream",
     "text": [
      "Scraping quotes:  75%|███████▌  | 767/1020 [22:08<09:59,  2.37s/it]"
     ]
    },
    {
     "name": "stdout",
     "output_type": "stream",
     "text": [
      "200\n"
     ]
    },
    {
     "name": "stderr",
     "output_type": "stream",
     "text": [
      "Scraping quotes:  75%|███████▌  | 768/1020 [22:10<09:22,  2.23s/it]"
     ]
    },
    {
     "name": "stdout",
     "output_type": "stream",
     "text": [
      "200\n"
     ]
    },
    {
     "name": "stderr",
     "output_type": "stream",
     "text": [
      "Scraping quotes:  75%|███████▌  | 769/1020 [22:13<09:53,  2.37s/it]"
     ]
    },
    {
     "name": "stdout",
     "output_type": "stream",
     "text": [
      "200\n"
     ]
    },
    {
     "name": "stderr",
     "output_type": "stream",
     "text": [
      "Scraping quotes:  75%|███████▌  | 770/1020 [22:15<09:57,  2.39s/it]"
     ]
    },
    {
     "name": "stdout",
     "output_type": "stream",
     "text": [
      "200\n"
     ]
    },
    {
     "name": "stderr",
     "output_type": "stream",
     "text": [
      "Scraping quotes:  76%|███████▌  | 771/1020 [22:18<10:40,  2.57s/it]"
     ]
    },
    {
     "name": "stdout",
     "output_type": "stream",
     "text": [
      "200\n"
     ]
    },
    {
     "name": "stderr",
     "output_type": "stream",
     "text": [
      "Scraping quotes:  76%|███████▌  | 772/1020 [22:21<10:44,  2.60s/it]"
     ]
    },
    {
     "name": "stdout",
     "output_type": "stream",
     "text": [
      "200\n"
     ]
    },
    {
     "name": "stderr",
     "output_type": "stream",
     "text": [
      "Scraping quotes:  76%|███████▌  | 773/1020 [22:24<11:07,  2.70s/it]"
     ]
    },
    {
     "name": "stdout",
     "output_type": "stream",
     "text": [
      "200\n"
     ]
    },
    {
     "name": "stderr",
     "output_type": "stream",
     "text": [
      "Scraping quotes:  76%|███████▌  | 774/1020 [22:28<12:54,  3.15s/it]"
     ]
    },
    {
     "name": "stdout",
     "output_type": "stream",
     "text": [
      "200\n"
     ]
    },
    {
     "name": "stderr",
     "output_type": "stream",
     "text": [
      "Scraping quotes:  76%|███████▌  | 775/1020 [22:29<10:46,  2.64s/it]"
     ]
    },
    {
     "name": "stdout",
     "output_type": "stream",
     "text": [
      "200\n"
     ]
    },
    {
     "name": "stderr",
     "output_type": "stream",
     "text": [
      "Scraping quotes:  76%|███████▌  | 776/1020 [22:30<08:29,  2.09s/it]"
     ]
    },
    {
     "name": "stdout",
     "output_type": "stream",
     "text": [
      "200\n"
     ]
    },
    {
     "name": "stderr",
     "output_type": "stream",
     "text": [
      "Scraping quotes:  76%|███████▋  | 778/1020 [22:32<06:03,  1.50s/it]"
     ]
    },
    {
     "name": "stdout",
     "output_type": "stream",
     "text": [
      "500\n",
      "Error scraping {'country': 'DE', 'region': 'de', 'crypto_name': 'Ethereum Mainnet', 'payment_name': 'PSE', 'regionId': '/regions/de', 'paymentMethodId': '/payments/pse', 'cryptoCurrencyId': '/currencies/crypto/1/0x0000000000000000000000000000000000000000', 'fiatCurrencyId': '/currencies/fiat/eur', 'amount': 6436, 'request_time': datetime.datetime(2024, 8, 2, 22, 5, 31, 386383)}\n",
      "'success'\n",
      "\n"
     ]
    },
    {
     "name": "stderr",
     "output_type": "stream",
     "text": [
      "Scraping quotes:  76%|███████▋  | 779/1020 [22:33<05:29,  1.37s/it]"
     ]
    },
    {
     "name": "stdout",
     "output_type": "stream",
     "text": [
      "500\n",
      "Error scraping {'country': 'DE', 'region': 'de', 'crypto_name': 'USDT (Ethereum)', 'payment_name': 'PSE', 'regionId': '/regions/de', 'paymentMethodId': '/payments/pse', 'cryptoCurrencyId': '/currencies/crypto/1/0xdac17f958d2ee523a2206206994597c13d831ec7', 'fiatCurrencyId': '/currencies/fiat/eur', 'amount': 6436, 'request_time': datetime.datetime(2024, 8, 2, 22, 5, 32, 268272)}\n",
      "'success'\n",
      "\n"
     ]
    },
    {
     "name": "stderr",
     "output_type": "stream",
     "text": [
      "Scraping quotes:  76%|███████▋  | 780/1020 [22:34<04:47,  1.20s/it]"
     ]
    },
    {
     "name": "stdout",
     "output_type": "stream",
     "text": [
      "500\n",
      "Error scraping {'country': 'DE', 'region': 'de', 'crypto_name': 'USDT (BNB Chain)', 'payment_name': 'PSE', 'regionId': '/regions/de', 'paymentMethodId': '/payments/pse', 'cryptoCurrencyId': '/currencies/crypto/56/0x55d398326f99059ff775485246999027b3197955', 'fiatCurrencyId': '/currencies/fiat/eur', 'amount': 6436, 'request_time': datetime.datetime(2024, 8, 2, 22, 5, 33, 317573)}\n",
      "'success'\n",
      "\n",
      "200\n"
     ]
    },
    {
     "name": "stderr",
     "output_type": "stream",
     "text": [
      "Scraping quotes:  77%|███████▋  | 781/1020 [22:37<06:26,  1.62s/it]"
     ]
    },
    {
     "name": "stdout",
     "output_type": "stream",
     "text": [
      "200\n"
     ]
    },
    {
     "name": "stderr",
     "output_type": "stream",
     "text": [
      "Scraping quotes:  77%|███████▋  | 782/1020 [22:39<07:32,  1.90s/it]"
     ]
    },
    {
     "name": "stdout",
     "output_type": "stream",
     "text": [
      "200\n"
     ]
    },
    {
     "name": "stderr",
     "output_type": "stream",
     "text": [
      "Scraping quotes:  77%|███████▋  | 783/1020 [22:41<07:35,  1.92s/it]"
     ]
    },
    {
     "name": "stdout",
     "output_type": "stream",
     "text": [
      "200\n"
     ]
    },
    {
     "name": "stderr",
     "output_type": "stream",
     "text": [
      "Scraping quotes:  77%|███████▋  | 784/1020 [22:44<08:21,  2.13s/it]"
     ]
    },
    {
     "name": "stdout",
     "output_type": "stream",
     "text": [
      "200\n"
     ]
    },
    {
     "name": "stderr",
     "output_type": "stream",
     "text": [
      "Scraping quotes:  77%|███████▋  | 785/1020 [22:46<09:08,  2.33s/it]"
     ]
    },
    {
     "name": "stdout",
     "output_type": "stream",
     "text": [
      "200\n"
     ]
    },
    {
     "name": "stderr",
     "output_type": "stream",
     "text": [
      "Scraping quotes:  77%|███████▋  | 786/1020 [22:49<09:33,  2.45s/it]"
     ]
    },
    {
     "name": "stdout",
     "output_type": "stream",
     "text": [
      "200\n"
     ]
    },
    {
     "name": "stderr",
     "output_type": "stream",
     "text": [
      "Scraping quotes:  77%|███████▋  | 787/1020 [22:52<09:25,  2.43s/it]"
     ]
    },
    {
     "name": "stdout",
     "output_type": "stream",
     "text": [
      "200\n"
     ]
    },
    {
     "name": "stderr",
     "output_type": "stream",
     "text": [
      "Scraping quotes:  77%|███████▋  | 788/1020 [22:53<08:21,  2.16s/it]"
     ]
    },
    {
     "name": "stdout",
     "output_type": "stream",
     "text": [
      "200\n"
     ]
    },
    {
     "name": "stderr",
     "output_type": "stream",
     "text": [
      "Scraping quotes:  77%|███████▋  | 789/1020 [22:54<06:39,  1.73s/it]"
     ]
    },
    {
     "name": "stdout",
     "output_type": "stream",
     "text": [
      "200\n"
     ]
    },
    {
     "name": "stderr",
     "output_type": "stream",
     "text": [
      "Scraping quotes:  77%|███████▋  | 790/1020 [22:55<05:56,  1.55s/it]"
     ]
    },
    {
     "name": "stdout",
     "output_type": "stream",
     "text": [
      "200\n"
     ]
    },
    {
     "name": "stderr",
     "output_type": "stream",
     "text": [
      "Scraping quotes:  78%|███████▊  | 792/1020 [22:57<04:36,  1.21s/it]"
     ]
    },
    {
     "name": "stdout",
     "output_type": "stream",
     "text": [
      "500\n",
      "Error scraping {'country': 'US', 'region': 'us-fl', 'crypto_name': 'USDT (BNB Chain)', 'payment_name': 'Instant ACH Bank Transfer', 'regionId': '/regions/us-fl', 'paymentMethodId': '/payments/instant-bank-transfer', 'cryptoCurrencyId': '/currencies/crypto/56/0x55d398326f99059ff775485246999027b3197955', 'fiatCurrencyId': '/currencies/fiat/usd', 'amount': 6436, 'request_time': datetime.datetime(2024, 8, 2, 22, 5, 56, 487261)}\n",
      "'success'\n",
      "\n"
     ]
    },
    {
     "name": "stderr",
     "output_type": "stream",
     "text": [
      "Scraping quotes:  78%|███████▊  | 793/1020 [22:57<03:50,  1.02s/it]"
     ]
    },
    {
     "name": "stdout",
     "output_type": "stream",
     "text": [
      "500\n",
      "Error scraping {'country': 'US', 'region': 'us-fl', 'crypto_name': 'Ethereum Mainnet', 'payment_name': 'Wire Transfer', 'regionId': '/regions/us-fl', 'paymentMethodId': '/payments/wire-transfer', 'cryptoCurrencyId': '/currencies/crypto/1/0x0000000000000000000000000000000000000000', 'fiatCurrencyId': '/currencies/fiat/usd', 'amount': 6436, 'request_time': datetime.datetime(2024, 8, 2, 22, 5, 57, 77924)}\n",
      "'success'\n",
      "\n"
     ]
    },
    {
     "name": "stderr",
     "output_type": "stream",
     "text": [
      "Scraping quotes:  78%|███████▊  | 794/1020 [22:58<03:25,  1.10it/s]"
     ]
    },
    {
     "name": "stdout",
     "output_type": "stream",
     "text": [
      "500\n",
      "Error scraping {'country': 'US', 'region': 'us-fl', 'crypto_name': 'USDT (Ethereum)', 'payment_name': 'Wire Transfer', 'regionId': '/regions/us-fl', 'paymentMethodId': '/payments/wire-transfer', 'cryptoCurrencyId': '/currencies/crypto/1/0xdac17f958d2ee523a2206206994597c13d831ec7', 'fiatCurrencyId': '/currencies/fiat/usd', 'amount': 6436, 'request_time': datetime.datetime(2024, 8, 2, 22, 5, 57, 630537)}\n",
      "'success'\n",
      "\n",
      "500\n",
      "Error scraping {'country': 'US', 'region': 'us-fl', 'crypto_name': 'USDT (BNB Chain)', 'payment_name': 'Wire Transfer', 'regionId': '/regions/us-fl', 'paymentMethodId': '/payments/wire-transfer', 'cryptoCurrencyId': '/currencies/crypto/56/0x55d398326f99059ff775485246999027b3197955', 'fiatCurrencyId': '/currencies/fiat/usd', 'amount': 6436, 'request_time': datetime.datetime(2024, 8, 2, 22, 5, 58, 297215)}\n",
      "'success'\n",
      "\n"
     ]
    },
    {
     "name": "stderr",
     "output_type": "stream",
     "text": [
      "Scraping quotes:  78%|███████▊  | 795/1020 [22:59<03:09,  1.19it/s]"
     ]
    },
    {
     "name": "stdout",
     "output_type": "stream",
     "text": [
      "200\n"
     ]
    },
    {
     "name": "stderr",
     "output_type": "stream",
     "text": [
      "Scraping quotes:  78%|███████▊  | 796/1020 [23:00<03:17,  1.13it/s]"
     ]
    },
    {
     "name": "stdout",
     "output_type": "stream",
     "text": [
      "200\n"
     ]
    },
    {
     "name": "stderr",
     "output_type": "stream",
     "text": [
      "Scraping quotes:  78%|███████▊  | 797/1020 [23:02<04:48,  1.29s/it]"
     ]
    },
    {
     "name": "stdout",
     "output_type": "stream",
     "text": [
      "200\n"
     ]
    },
    {
     "name": "stderr",
     "output_type": "stream",
     "text": [
      "Scraping quotes:  78%|███████▊  | 798/1020 [23:03<04:17,  1.16s/it]"
     ]
    },
    {
     "name": "stdout",
     "output_type": "stream",
     "text": [
      "500\n",
      "Error scraping {'country': 'US', 'region': 'us-fl', 'crypto_name': 'Ethereum Mainnet', 'payment_name': 'PSE', 'regionId': '/regions/us-fl', 'paymentMethodId': '/payments/pse', 'cryptoCurrencyId': '/currencies/crypto/1/0x0000000000000000000000000000000000000000', 'fiatCurrencyId': '/currencies/fiat/usd', 'amount': 6436, 'request_time': datetime.datetime(2024, 8, 2, 22, 6, 3, 51413)}\n",
      "'success'\n",
      "\n"
     ]
    },
    {
     "name": "stderr",
     "output_type": "stream",
     "text": [
      "Scraping quotes:  78%|███████▊  | 799/1020 [23:04<04:38,  1.26s/it]"
     ]
    },
    {
     "name": "stdout",
     "output_type": "stream",
     "text": [
      "500\n",
      "Error scraping {'country': 'US', 'region': 'us-fl', 'crypto_name': 'USDT (Ethereum)', 'payment_name': 'PSE', 'regionId': '/regions/us-fl', 'paymentMethodId': '/payments/pse', 'cryptoCurrencyId': '/currencies/crypto/1/0xdac17f958d2ee523a2206206994597c13d831ec7', 'fiatCurrencyId': '/currencies/fiat/usd', 'amount': 6436, 'request_time': datetime.datetime(2024, 8, 2, 22, 6, 4, 548857)}\n",
      "'success'\n",
      "\n"
     ]
    },
    {
     "name": "stderr",
     "output_type": "stream",
     "text": [
      "Scraping quotes:  78%|███████▊  | 800/1020 [23:05<04:07,  1.13s/it]"
     ]
    },
    {
     "name": "stdout",
     "output_type": "stream",
     "text": [
      "500\n",
      "Error scraping {'country': 'US', 'region': 'us-fl', 'crypto_name': 'USDT (BNB Chain)', 'payment_name': 'PSE', 'regionId': '/regions/us-fl', 'paymentMethodId': '/payments/pse', 'cryptoCurrencyId': '/currencies/crypto/56/0x55d398326f99059ff775485246999027b3197955', 'fiatCurrencyId': '/currencies/fiat/usd', 'amount': 6436, 'request_time': datetime.datetime(2024, 8, 2, 22, 6, 5, 375340)}\n",
      "'success'\n",
      "\n"
     ]
    },
    {
     "name": "stderr",
     "output_type": "stream",
     "text": [
      "Scraping quotes:  79%|███████▊  | 801/1020 [23:06<03:46,  1.03s/it]"
     ]
    },
    {
     "name": "stdout",
     "output_type": "stream",
     "text": [
      "200\n"
     ]
    },
    {
     "name": "stderr",
     "output_type": "stream",
     "text": [
      "Scraping quotes:  79%|███████▊  | 802/1020 [23:07<03:45,  1.03s/it]"
     ]
    },
    {
     "name": "stdout",
     "output_type": "stream",
     "text": [
      "200\n"
     ]
    },
    {
     "name": "stderr",
     "output_type": "stream",
     "text": [
      "Scraping quotes:  79%|███████▊  | 803/1020 [23:09<05:12,  1.44s/it]"
     ]
    },
    {
     "name": "stdout",
     "output_type": "stream",
     "text": [
      "200\n"
     ]
    },
    {
     "name": "stderr",
     "output_type": "stream",
     "text": [
      "Scraping quotes:  79%|███████▉  | 804/1020 [23:11<05:29,  1.53s/it]"
     ]
    },
    {
     "name": "stdout",
     "output_type": "stream",
     "text": [
      "200\n"
     ]
    },
    {
     "name": "stderr",
     "output_type": "stream",
     "text": [
      "Scraping quotes:  79%|███████▉  | 805/1020 [23:13<05:29,  1.53s/it]"
     ]
    },
    {
     "name": "stdout",
     "output_type": "stream",
     "text": [
      "200\n"
     ]
    },
    {
     "name": "stderr",
     "output_type": "stream",
     "text": [
      "Scraping quotes:  79%|███████▉  | 806/1020 [23:16<07:06,  1.99s/it]"
     ]
    },
    {
     "name": "stdout",
     "output_type": "stream",
     "text": [
      "200\n"
     ]
    },
    {
     "name": "stderr",
     "output_type": "stream",
     "text": [
      "Scraping quotes:  79%|███████▉  | 807/1020 [23:19<08:19,  2.34s/it]"
     ]
    },
    {
     "name": "stdout",
     "output_type": "stream",
     "text": [
      "200\n"
     ]
    },
    {
     "name": "stderr",
     "output_type": "stream",
     "text": [
      "Scraping quotes:  79%|███████▉  | 808/1020 [23:20<07:27,  2.11s/it]"
     ]
    },
    {
     "name": "stdout",
     "output_type": "stream",
     "text": [
      "200\n"
     ]
    },
    {
     "name": "stderr",
     "output_type": "stream",
     "text": [
      "Scraping quotes:  79%|███████▉  | 809/1020 [23:22<06:39,  1.89s/it]"
     ]
    },
    {
     "name": "stdout",
     "output_type": "stream",
     "text": [
      "200\n"
     ]
    },
    {
     "name": "stderr",
     "output_type": "stream",
     "text": [
      "Scraping quotes:  79%|███████▉  | 810/1020 [23:25<07:33,  2.16s/it]"
     ]
    },
    {
     "name": "stdout",
     "output_type": "stream",
     "text": [
      "200\n"
     ]
    },
    {
     "name": "stderr",
     "output_type": "stream",
     "text": [
      "Scraping quotes:  80%|███████▉  | 811/1020 [23:28<08:58,  2.58s/it]"
     ]
    },
    {
     "name": "stdout",
     "output_type": "stream",
     "text": [
      "200\n"
     ]
    },
    {
     "name": "stderr",
     "output_type": "stream",
     "text": [
      "Scraping quotes:  80%|███████▉  | 812/1020 [23:30<07:37,  2.20s/it]"
     ]
    },
    {
     "name": "stdout",
     "output_type": "stream",
     "text": [
      "200\n"
     ]
    },
    {
     "name": "stderr",
     "output_type": "stream",
     "text": [
      "Scraping quotes:  80%|███████▉  | 813/1020 [23:33<08:33,  2.48s/it]"
     ]
    },
    {
     "name": "stdout",
     "output_type": "stream",
     "text": [
      "500\n",
      "Error scraping {'country': 'UK', 'region': 'gb', 'crypto_name': 'Ethereum Mainnet', 'payment_name': 'PSE', 'regionId': '/regions/gb', 'paymentMethodId': '/payments/pse', 'cryptoCurrencyId': '/currencies/crypto/1/0x0000000000000000000000000000000000000000', 'fiatCurrencyId': '/currencies/fiat/gbp', 'amount': 6436, 'request_time': datetime.datetime(2024, 8, 2, 22, 6, 32, 848968)}\n",
      "'success'\n",
      "\n"
     ]
    },
    {
     "name": "stderr",
     "output_type": "stream",
     "text": [
      "Scraping quotes:  80%|███████▉  | 815/1020 [23:35<06:13,  1.82s/it]"
     ]
    },
    {
     "name": "stdout",
     "output_type": "stream",
     "text": [
      "500\n",
      "Error scraping {'country': 'UK', 'region': 'gb', 'crypto_name': 'USDT (Ethereum)', 'payment_name': 'PSE', 'regionId': '/regions/gb', 'paymentMethodId': '/payments/pse', 'cryptoCurrencyId': '/currencies/crypto/1/0xdac17f958d2ee523a2206206994597c13d831ec7', 'fiatCurrencyId': '/currencies/fiat/gbp', 'amount': 6436, 'request_time': datetime.datetime(2024, 8, 2, 22, 6, 34, 139004)}\n",
      "'success'\n",
      "\n"
     ]
    },
    {
     "name": "stderr",
     "output_type": "stream",
     "text": [
      "Scraping quotes:  80%|████████  | 816/1020 [23:38<06:57,  2.05s/it]"
     ]
    },
    {
     "name": "stdout",
     "output_type": "stream",
     "text": [
      "500\n",
      "Error scraping {'country': 'UK', 'region': 'gb', 'crypto_name': 'USDT (BNB Chain)', 'payment_name': 'PSE', 'regionId': '/regions/gb', 'paymentMethodId': '/payments/pse', 'cryptoCurrencyId': '/currencies/crypto/56/0x55d398326f99059ff775485246999027b3197955', 'fiatCurrencyId': '/currencies/fiat/gbp', 'amount': 6436, 'request_time': datetime.datetime(2024, 8, 2, 22, 6, 35, 261095)}\n",
      "'success'\n",
      "\n",
      "200\n"
     ]
    },
    {
     "name": "stderr",
     "output_type": "stream",
     "text": [
      "Scraping quotes:  80%|████████  | 817/1020 [23:40<07:13,  2.14s/it]"
     ]
    },
    {
     "name": "stdout",
     "output_type": "stream",
     "text": [
      "200\n"
     ]
    },
    {
     "name": "stderr",
     "output_type": "stream",
     "text": [
      "Scraping quotes:  80%|████████  | 818/1020 [23:43<07:45,  2.31s/it]"
     ]
    },
    {
     "name": "stdout",
     "output_type": "stream",
     "text": [
      "200\n"
     ]
    },
    {
     "name": "stderr",
     "output_type": "stream",
     "text": [
      "Scraping quotes:  80%|████████  | 819/1020 [23:45<08:07,  2.43s/it]"
     ]
    },
    {
     "name": "stdout",
     "output_type": "stream",
     "text": [
      "200\n"
     ]
    },
    {
     "name": "stderr",
     "output_type": "stream",
     "text": [
      "Scraping quotes:  80%|████████  | 820/1020 [23:49<08:57,  2.69s/it]"
     ]
    },
    {
     "name": "stdout",
     "output_type": "stream",
     "text": [
      "200\n"
     ]
    },
    {
     "name": "stderr",
     "output_type": "stream",
     "text": [
      "Scraping quotes:  80%|████████  | 821/1020 [23:51<08:49,  2.66s/it]"
     ]
    },
    {
     "name": "stdout",
     "output_type": "stream",
     "text": [
      "200\n"
     ]
    },
    {
     "name": "stderr",
     "output_type": "stream",
     "text": [
      "Scraping quotes:  81%|████████  | 822/1020 [23:54<08:28,  2.57s/it]"
     ]
    },
    {
     "name": "stdout",
     "output_type": "stream",
     "text": [
      "200\n"
     ]
    },
    {
     "name": "stderr",
     "output_type": "stream",
     "text": [
      "Scraping quotes:  81%|████████  | 823/1020 [23:57<08:44,  2.66s/it]"
     ]
    },
    {
     "name": "stdout",
     "output_type": "stream",
     "text": [
      "200\n"
     ]
    },
    {
     "name": "stderr",
     "output_type": "stream",
     "text": [
      "Scraping quotes:  81%|████████  | 824/1020 [23:59<08:37,  2.64s/it]"
     ]
    },
    {
     "name": "stdout",
     "output_type": "stream",
     "text": [
      "200\n"
     ]
    },
    {
     "name": "stderr",
     "output_type": "stream",
     "text": [
      "Scraping quotes:  81%|████████  | 825/1020 [24:02<08:23,  2.58s/it]"
     ]
    },
    {
     "name": "stdout",
     "output_type": "stream",
     "text": [
      "200\n"
     ]
    },
    {
     "name": "stderr",
     "output_type": "stream",
     "text": [
      "Scraping quotes:  81%|████████  | 826/1020 [24:03<07:06,  2.20s/it]"
     ]
    },
    {
     "name": "stdout",
     "output_type": "stream",
     "text": [
      "200\n"
     ]
    },
    {
     "name": "stderr",
     "output_type": "stream",
     "text": [
      "Scraping quotes:  81%|████████  | 827/1020 [24:05<06:34,  2.05s/it]"
     ]
    },
    {
     "name": "stdout",
     "output_type": "stream",
     "text": [
      "200\n"
     ]
    },
    {
     "name": "stderr",
     "output_type": "stream",
     "text": [
      "Scraping quotes:  81%|████████▏ | 829/1020 [24:09<06:42,  2.11s/it]"
     ]
    },
    {
     "name": "stdout",
     "output_type": "stream",
     "text": [
      "500\n",
      "Error scraping {'country': 'DE', 'region': 'de', 'crypto_name': 'Ethereum Mainnet', 'payment_name': 'PSE', 'regionId': '/regions/de', 'paymentMethodId': '/payments/pse', 'cryptoCurrencyId': '/currencies/crypto/1/0x0000000000000000000000000000000000000000', 'fiatCurrencyId': '/currencies/fiat/eur', 'amount': 9090, 'request_time': datetime.datetime(2024, 8, 2, 22, 7, 7, 561027)}\n",
      "'success'\n",
      "\n",
      "500\n",
      "Error scraping {'country': 'DE', 'region': 'de', 'crypto_name': 'USDT (Ethereum)', 'payment_name': 'PSE', 'regionId': '/regions/de', 'paymentMethodId': '/payments/pse', 'cryptoCurrencyId': '/currencies/crypto/1/0xdac17f958d2ee523a2206206994597c13d831ec7', 'fiatCurrencyId': '/currencies/fiat/eur', 'amount': 9090, 'request_time': datetime.datetime(2024, 8, 2, 22, 7, 9, 256089)}\n",
      "'success'\n",
      "\n"
     ]
    },
    {
     "name": "stderr",
     "output_type": "stream",
     "text": [
      "Scraping quotes:  81%|████████▏ | 831/1020 [24:11<04:41,  1.49s/it]"
     ]
    },
    {
     "name": "stdout",
     "output_type": "stream",
     "text": [
      "500\n",
      "Error scraping {'country': 'DE', 'region': 'de', 'crypto_name': 'USDT (BNB Chain)', 'payment_name': 'PSE', 'regionId': '/regions/de', 'paymentMethodId': '/payments/pse', 'cryptoCurrencyId': '/currencies/crypto/56/0x55d398326f99059ff775485246999027b3197955', 'fiatCurrencyId': '/currencies/fiat/eur', 'amount': 9090, 'request_time': datetime.datetime(2024, 8, 2, 22, 7, 9, 972960)}\n",
      "'success'\n",
      "\n",
      "200\n"
     ]
    },
    {
     "name": "stderr",
     "output_type": "stream",
     "text": [
      "Scraping quotes:  82%|████████▏ | 832/1020 [24:13<05:14,  1.67s/it]"
     ]
    },
    {
     "name": "stdout",
     "output_type": "stream",
     "text": [
      "200\n"
     ]
    },
    {
     "name": "stderr",
     "output_type": "stream",
     "text": [
      "Scraping quotes:  82%|████████▏ | 833/1020 [24:15<06:03,  1.94s/it]"
     ]
    },
    {
     "name": "stdout",
     "output_type": "stream",
     "text": [
      "200\n"
     ]
    },
    {
     "name": "stderr",
     "output_type": "stream",
     "text": [
      "Scraping quotes:  82%|████████▏ | 834/1020 [24:18<06:11,  2.00s/it]"
     ]
    },
    {
     "name": "stdout",
     "output_type": "stream",
     "text": [
      "200\n"
     ]
    },
    {
     "name": "stderr",
     "output_type": "stream",
     "text": [
      "Scraping quotes:  82%|████████▏ | 835/1020 [24:20<06:29,  2.10s/it]"
     ]
    },
    {
     "name": "stdout",
     "output_type": "stream",
     "text": [
      "200\n"
     ]
    },
    {
     "name": "stderr",
     "output_type": "stream",
     "text": [
      "Scraping quotes:  82%|████████▏ | 836/1020 [24:23<07:26,  2.43s/it]"
     ]
    },
    {
     "name": "stdout",
     "output_type": "stream",
     "text": [
      "200\n"
     ]
    },
    {
     "name": "stderr",
     "output_type": "stream",
     "text": [
      "Scraping quotes:  82%|████████▏ | 837/1020 [24:26<07:53,  2.59s/it]"
     ]
    },
    {
     "name": "stdout",
     "output_type": "stream",
     "text": [
      "200\n"
     ]
    },
    {
     "name": "stderr",
     "output_type": "stream",
     "text": [
      "Scraping quotes:  82%|████████▏ | 838/1020 [24:27<06:08,  2.03s/it]"
     ]
    },
    {
     "name": "stdout",
     "output_type": "stream",
     "text": [
      "200\n"
     ]
    },
    {
     "name": "stderr",
     "output_type": "stream",
     "text": [
      "Scraping quotes:  82%|████████▏ | 839/1020 [24:28<05:01,  1.67s/it]"
     ]
    },
    {
     "name": "stdout",
     "output_type": "stream",
     "text": [
      "200\n"
     ]
    },
    {
     "name": "stderr",
     "output_type": "stream",
     "text": [
      "Scraping quotes:  82%|████████▏ | 840/1020 [24:29<04:19,  1.44s/it]"
     ]
    },
    {
     "name": "stdout",
     "output_type": "stream",
     "text": [
      "200\n"
     ]
    },
    {
     "name": "stderr",
     "output_type": "stream",
     "text": [
      "Scraping quotes:  82%|████████▏ | 841/1020 [24:30<04:07,  1.38s/it]"
     ]
    },
    {
     "name": "stdout",
     "output_type": "stream",
     "text": [
      "200\n"
     ]
    },
    {
     "name": "stderr",
     "output_type": "stream",
     "text": [
      "Scraping quotes:  83%|████████▎ | 842/1020 [24:31<03:45,  1.27s/it]"
     ]
    },
    {
     "name": "stdout",
     "output_type": "stream",
     "text": [
      "500\n",
      "Error scraping {'country': 'US', 'region': 'us-fl', 'crypto_name': 'USDT (BNB Chain)', 'payment_name': 'Instant ACH Bank Transfer', 'regionId': '/regions/us-fl', 'paymentMethodId': '/payments/instant-bank-transfer', 'cryptoCurrencyId': '/currencies/crypto/56/0x55d398326f99059ff775485246999027b3197955', 'fiatCurrencyId': '/currencies/fiat/usd', 'amount': 9090, 'request_time': datetime.datetime(2024, 8, 2, 22, 7, 31, 15221)}\n",
      "'success'\n",
      "\n"
     ]
    },
    {
     "name": "stderr",
     "output_type": "stream",
     "text": [
      "Scraping quotes:  83%|████████▎ | 843/1020 [24:32<03:15,  1.10s/it]"
     ]
    },
    {
     "name": "stdout",
     "output_type": "stream",
     "text": [
      "500\n",
      "Error scraping {'country': 'US', 'region': 'us-fl', 'crypto_name': 'Ethereum Mainnet', 'payment_name': 'Wire Transfer', 'regionId': '/regions/us-fl', 'paymentMethodId': '/payments/wire-transfer', 'cryptoCurrencyId': '/currencies/crypto/1/0x0000000000000000000000000000000000000000', 'fiatCurrencyId': '/currencies/fiat/usd', 'amount': 9090, 'request_time': datetime.datetime(2024, 8, 2, 22, 7, 31, 714899)}\n",
      "'success'\n",
      "\n"
     ]
    },
    {
     "name": "stderr",
     "output_type": "stream",
     "text": [
      "Scraping quotes:  83%|████████▎ | 845/1020 [24:33<02:42,  1.08it/s]"
     ]
    },
    {
     "name": "stdout",
     "output_type": "stream",
     "text": [
      "500\n",
      "Error scraping {'country': 'US', 'region': 'us-fl', 'crypto_name': 'USDT (Ethereum)', 'payment_name': 'Wire Transfer', 'regionId': '/regions/us-fl', 'paymentMethodId': '/payments/wire-transfer', 'cryptoCurrencyId': '/currencies/crypto/1/0xdac17f958d2ee523a2206206994597c13d831ec7', 'fiatCurrencyId': '/currencies/fiat/usd', 'amount': 9090, 'request_time': datetime.datetime(2024, 8, 2, 22, 7, 32, 446640)}\n",
      "'success'\n",
      "\n"
     ]
    },
    {
     "name": "stderr",
     "output_type": "stream",
     "text": [
      "Scraping quotes:  83%|████████▎ | 846/1020 [24:34<02:30,  1.16it/s]"
     ]
    },
    {
     "name": "stdout",
     "output_type": "stream",
     "text": [
      "500\n",
      "Error scraping {'country': 'US', 'region': 'us-fl', 'crypto_name': 'USDT (BNB Chain)', 'payment_name': 'Wire Transfer', 'regionId': '/regions/us-fl', 'paymentMethodId': '/payments/wire-transfer', 'cryptoCurrencyId': '/currencies/crypto/56/0x55d398326f99059ff775485246999027b3197955', 'fiatCurrencyId': '/currencies/fiat/usd', 'amount': 9090, 'request_time': datetime.datetime(2024, 8, 2, 22, 7, 33, 220512)}\n",
      "'success'\n",
      "\n",
      "200\n"
     ]
    },
    {
     "name": "stderr",
     "output_type": "stream",
     "text": [
      "Scraping quotes:  83%|████████▎ | 847/1020 [24:34<02:23,  1.21it/s]"
     ]
    },
    {
     "name": "stdout",
     "output_type": "stream",
     "text": [
      "200\n"
     ]
    },
    {
     "name": "stderr",
     "output_type": "stream",
     "text": [
      "Scraping quotes:  83%|████████▎ | 848/1020 [24:35<02:20,  1.23it/s]"
     ]
    },
    {
     "name": "stdout",
     "output_type": "stream",
     "text": [
      "200\n"
     ]
    },
    {
     "name": "stderr",
     "output_type": "stream",
     "text": [
      "Scraping quotes:  83%|████████▎ | 850/1020 [24:38<02:59,  1.06s/it]"
     ]
    },
    {
     "name": "stdout",
     "output_type": "stream",
     "text": [
      "500\n",
      "Error scraping {'country': 'US', 'region': 'us-fl', 'crypto_name': 'Ethereum Mainnet', 'payment_name': 'PSE', 'regionId': '/regions/us-fl', 'paymentMethodId': '/payments/pse', 'cryptoCurrencyId': '/currencies/crypto/1/0x0000000000000000000000000000000000000000', 'fiatCurrencyId': '/currencies/fiat/usd', 'amount': 9090, 'request_time': datetime.datetime(2024, 8, 2, 22, 7, 37, 156527)}\n",
      "'success'\n",
      "\n",
      "500\n",
      "Error scraping {'country': 'US', 'region': 'us-fl', 'crypto_name': 'USDT (Ethereum)', 'payment_name': 'PSE', 'regionId': '/regions/us-fl', 'paymentMethodId': '/payments/pse', 'cryptoCurrencyId': '/currencies/crypto/1/0xdac17f958d2ee523a2206206994597c13d831ec7', 'fiatCurrencyId': '/currencies/fiat/usd', 'amount': 9090, 'request_time': datetime.datetime(2024, 8, 2, 22, 7, 38, 168102)}\n",
      "'success'\n",
      "\n"
     ]
    },
    {
     "name": "stderr",
     "output_type": "stream",
     "text": [
      "Scraping quotes:  83%|████████▎ | 851/1020 [24:39<02:55,  1.04s/it]"
     ]
    },
    {
     "name": "stdout",
     "output_type": "stream",
     "text": [
      "500\n",
      "Error scraping {'country': 'US', 'region': 'us-fl', 'crypto_name': 'USDT (BNB Chain)', 'payment_name': 'PSE', 'regionId': '/regions/us-fl', 'paymentMethodId': '/payments/pse', 'cryptoCurrencyId': '/currencies/crypto/56/0x55d398326f99059ff775485246999027b3197955', 'fiatCurrencyId': '/currencies/fiat/usd', 'amount': 9090, 'request_time': datetime.datetime(2024, 8, 2, 22, 7, 39, 160266)}\n",
      "'success'\n",
      "\n"
     ]
    },
    {
     "name": "stderr",
     "output_type": "stream",
     "text": [
      "Scraping quotes:  84%|████████▎ | 852/1020 [24:40<02:54,  1.04s/it]"
     ]
    },
    {
     "name": "stdout",
     "output_type": "stream",
     "text": [
      "200\n"
     ]
    },
    {
     "name": "stderr",
     "output_type": "stream",
     "text": [
      "Scraping quotes:  84%|████████▎ | 853/1020 [24:43<04:21,  1.57s/it]"
     ]
    },
    {
     "name": "stdout",
     "output_type": "stream",
     "text": [
      "200\n"
     ]
    },
    {
     "name": "stderr",
     "output_type": "stream",
     "text": [
      "Scraping quotes:  84%|████████▎ | 854/1020 [24:44<04:17,  1.55s/it]"
     ]
    },
    {
     "name": "stdout",
     "output_type": "stream",
     "text": [
      "200\n"
     ]
    },
    {
     "name": "stderr",
     "output_type": "stream",
     "text": [
      "Scraping quotes:  84%|████████▍ | 855/1020 [24:46<04:21,  1.59s/it]"
     ]
    },
    {
     "name": "stdout",
     "output_type": "stream",
     "text": [
      "200\n"
     ]
    },
    {
     "name": "stderr",
     "output_type": "stream",
     "text": [
      "Scraping quotes:  84%|████████▍ | 856/1020 [24:48<04:37,  1.69s/it]"
     ]
    },
    {
     "name": "stdout",
     "output_type": "stream",
     "text": [
      "200\n"
     ]
    },
    {
     "name": "stderr",
     "output_type": "stream",
     "text": [
      "Scraping quotes:  84%|████████▍ | 857/1020 [24:51<05:31,  2.03s/it]"
     ]
    },
    {
     "name": "stdout",
     "output_type": "stream",
     "text": [
      "200\n"
     ]
    },
    {
     "name": "stderr",
     "output_type": "stream",
     "text": [
      "Scraping quotes:  84%|████████▍ | 858/1020 [24:53<05:56,  2.20s/it]"
     ]
    },
    {
     "name": "stdout",
     "output_type": "stream",
     "text": [
      "200\n"
     ]
    },
    {
     "name": "stderr",
     "output_type": "stream",
     "text": [
      "Scraping quotes:  84%|████████▍ | 859/1020 [24:55<05:37,  2.10s/it]"
     ]
    },
    {
     "name": "stdout",
     "output_type": "stream",
     "text": [
      "200\n"
     ]
    },
    {
     "name": "stderr",
     "output_type": "stream",
     "text": [
      "Scraping quotes:  84%|████████▍ | 860/1020 [24:57<05:18,  1.99s/it]"
     ]
    },
    {
     "name": "stdout",
     "output_type": "stream",
     "text": [
      "200\n"
     ]
    },
    {
     "name": "stderr",
     "output_type": "stream",
     "text": [
      "Scraping quotes:  84%|████████▍ | 861/1020 [24:58<04:44,  1.79s/it]"
     ]
    },
    {
     "name": "stdout",
     "output_type": "stream",
     "text": [
      "200\n"
     ]
    },
    {
     "name": "stderr",
     "output_type": "stream",
     "text": [
      "Scraping quotes:  85%|████████▍ | 862/1020 [25:00<04:18,  1.63s/it]"
     ]
    },
    {
     "name": "stdout",
     "output_type": "stream",
     "text": [
      "200\n"
     ]
    },
    {
     "name": "stderr",
     "output_type": "stream",
     "text": [
      "Scraping quotes:  85%|████████▍ | 863/1020 [25:02<05:03,  1.93s/it]"
     ]
    },
    {
     "name": "stdout",
     "output_type": "stream",
     "text": [
      "200\n"
     ]
    },
    {
     "name": "stderr",
     "output_type": "stream",
     "text": [
      "Scraping quotes:  85%|████████▍ | 865/1020 [25:06<04:42,  1.83s/it]"
     ]
    },
    {
     "name": "stdout",
     "output_type": "stream",
     "text": [
      "500\n",
      "Error scraping {'country': 'UK', 'region': 'gb', 'crypto_name': 'Ethereum Mainnet', 'payment_name': 'PSE', 'regionId': '/regions/gb', 'paymentMethodId': '/payments/pse', 'cryptoCurrencyId': '/currencies/crypto/1/0x0000000000000000000000000000000000000000', 'fiatCurrencyId': '/currencies/fiat/gbp', 'amount': 9090, 'request_time': datetime.datetime(2024, 8, 2, 22, 8, 4, 233354)}\n",
      "'success'\n",
      "\n"
     ]
    },
    {
     "name": "stderr",
     "output_type": "stream",
     "text": [
      "Scraping quotes:  85%|████████▍ | 866/1020 [25:10<06:30,  2.54s/it]"
     ]
    },
    {
     "name": "stdout",
     "output_type": "stream",
     "text": [
      "500\n",
      "Error scraping {'country': 'UK', 'region': 'gb', 'crypto_name': 'USDT (Ethereum)', 'payment_name': 'PSE', 'regionId': '/regions/gb', 'paymentMethodId': '/payments/pse', 'cryptoCurrencyId': '/currencies/crypto/1/0xdac17f958d2ee523a2206206994597c13d831ec7', 'fiatCurrencyId': '/currencies/fiat/gbp', 'amount': 9090, 'request_time': datetime.datetime(2024, 8, 2, 22, 8, 5, 986509)}\n",
      "'success'\n",
      "\n",
      "500\n",
      "Error scraping {'country': 'UK', 'region': 'gb', 'crypto_name': 'USDT (BNB Chain)', 'payment_name': 'PSE', 'regionId': '/regions/gb', 'paymentMethodId': '/payments/pse', 'cryptoCurrencyId': '/currencies/crypto/56/0x55d398326f99059ff775485246999027b3197955', 'fiatCurrencyId': '/currencies/fiat/gbp', 'amount': 9090, 'request_time': datetime.datetime(2024, 8, 2, 22, 8, 10, 186999)}\n",
      "'success'\n",
      "\n"
     ]
    },
    {
     "name": "stderr",
     "output_type": "stream",
     "text": [
      "Scraping quotes:  85%|████████▌ | 867/1020 [25:11<05:18,  2.08s/it]"
     ]
    },
    {
     "name": "stdout",
     "output_type": "stream",
     "text": [
      "200\n"
     ]
    },
    {
     "name": "stderr",
     "output_type": "stream",
     "text": [
      "Scraping quotes:  85%|████████▌ | 868/1020 [25:13<05:17,  2.09s/it]"
     ]
    },
    {
     "name": "stdout",
     "output_type": "stream",
     "text": [
      "200\n"
     ]
    },
    {
     "name": "stderr",
     "output_type": "stream",
     "text": [
      "Scraping quotes:  85%|████████▌ | 869/1020 [25:16<05:31,  2.19s/it]"
     ]
    },
    {
     "name": "stdout",
     "output_type": "stream",
     "text": [
      "200\n"
     ]
    },
    {
     "name": "stderr",
     "output_type": "stream",
     "text": [
      "Scraping quotes:  85%|████████▌ | 870/1020 [25:19<06:08,  2.46s/it]"
     ]
    },
    {
     "name": "stdout",
     "output_type": "stream",
     "text": [
      "200\n"
     ]
    },
    {
     "name": "stderr",
     "output_type": "stream",
     "text": [
      "Scraping quotes:  85%|████████▌ | 871/1020 [25:21<06:01,  2.43s/it]"
     ]
    },
    {
     "name": "stdout",
     "output_type": "stream",
     "text": [
      "200\n"
     ]
    },
    {
     "name": "stderr",
     "output_type": "stream",
     "text": [
      "Scraping quotes:  85%|████████▌ | 872/1020 [25:24<06:26,  2.61s/it]"
     ]
    },
    {
     "name": "stdout",
     "output_type": "stream",
     "text": [
      "200\n"
     ]
    },
    {
     "name": "stderr",
     "output_type": "stream",
     "text": [
      "Scraping quotes:  86%|████████▌ | 873/1020 [25:28<07:35,  3.10s/it]"
     ]
    },
    {
     "name": "stdout",
     "output_type": "stream",
     "text": [
      "200\n"
     ]
    },
    {
     "name": "stderr",
     "output_type": "stream",
     "text": [
      "Scraping quotes:  86%|████████▌ | 874/1020 [25:31<07:04,  2.91s/it]"
     ]
    },
    {
     "name": "stdout",
     "output_type": "stream",
     "text": [
      "200\n"
     ]
    },
    {
     "name": "stderr",
     "output_type": "stream",
     "text": [
      "Scraping quotes:  86%|████████▌ | 875/1020 [25:34<07:04,  2.93s/it]"
     ]
    },
    {
     "name": "stdout",
     "output_type": "stream",
     "text": [
      "200\n"
     ]
    },
    {
     "name": "stderr",
     "output_type": "stream",
     "text": [
      "Scraping quotes:  86%|████████▌ | 876/1020 [25:36<06:45,  2.82s/it]"
     ]
    },
    {
     "name": "stdout",
     "output_type": "stream",
     "text": [
      "200\n"
     ]
    },
    {
     "name": "stderr",
     "output_type": "stream",
     "text": [
      "Scraping quotes:  86%|████████▌ | 877/1020 [25:38<05:47,  2.43s/it]"
     ]
    },
    {
     "name": "stdout",
     "output_type": "stream",
     "text": [
      "200\n"
     ]
    },
    {
     "name": "stderr",
     "output_type": "stream",
     "text": [
      "Scraping quotes:  86%|████████▌ | 878/1020 [25:39<05:11,  2.19s/it]"
     ]
    },
    {
     "name": "stdout",
     "output_type": "stream",
     "text": [
      "200\n"
     ]
    },
    {
     "name": "stderr",
     "output_type": "stream",
     "text": [
      "Scraping quotes:  86%|████████▋ | 880/1020 [25:43<04:17,  1.84s/it]"
     ]
    },
    {
     "name": "stdout",
     "output_type": "stream",
     "text": [
      "500\n",
      "Error scraping {'country': 'DE', 'region': 'de', 'crypto_name': 'Ethereum Mainnet', 'payment_name': 'PSE', 'regionId': '/regions/de', 'paymentMethodId': '/payments/pse', 'cryptoCurrencyId': '/currencies/crypto/1/0x0000000000000000000000000000000000000000', 'fiatCurrencyId': '/currencies/fiat/eur', 'amount': 12840, 'request_time': datetime.datetime(2024, 8, 2, 22, 8, 41, 619595)}\n",
      "'success'\n",
      "\n"
     ]
    },
    {
     "name": "stderr",
     "output_type": "stream",
     "text": [
      "Scraping quotes:  86%|████████▋ | 881/1020 [25:46<05:15,  2.27s/it]"
     ]
    },
    {
     "name": "stdout",
     "output_type": "stream",
     "text": [
      "500\n",
      "Error scraping {'country': 'DE', 'region': 'de', 'crypto_name': 'USDT (Ethereum)', 'payment_name': 'PSE', 'regionId': '/regions/de', 'paymentMethodId': '/payments/pse', 'cryptoCurrencyId': '/currencies/crypto/1/0xdac17f958d2ee523a2206206994597c13d831ec7', 'fiatCurrencyId': '/currencies/fiat/eur', 'amount': 12840, 'request_time': datetime.datetime(2024, 8, 2, 22, 8, 42, 757578)}\n",
      "'success'\n",
      "\n"
     ]
    },
    {
     "name": "stderr",
     "output_type": "stream",
     "text": [
      "Scraping quotes:  86%|████████▋ | 882/1020 [25:47<04:18,  1.87s/it]"
     ]
    },
    {
     "name": "stdout",
     "output_type": "stream",
     "text": [
      "500\n",
      "Error scraping {'country': 'DE', 'region': 'de', 'crypto_name': 'USDT (BNB Chain)', 'payment_name': 'PSE', 'regionId': '/regions/de', 'paymentMethodId': '/payments/pse', 'cryptoCurrencyId': '/currencies/crypto/56/0x55d398326f99059ff775485246999027b3197955', 'fiatCurrencyId': '/currencies/fiat/eur', 'amount': 12840, 'request_time': datetime.datetime(2024, 8, 2, 22, 8, 46, 29923)}\n",
      "'success'\n",
      "\n",
      "200\n"
     ]
    },
    {
     "name": "stderr",
     "output_type": "stream",
     "text": [
      "Scraping quotes:  87%|████████▋ | 883/1020 [25:49<04:34,  2.00s/it]"
     ]
    },
    {
     "name": "stdout",
     "output_type": "stream",
     "text": [
      "200\n"
     ]
    },
    {
     "name": "stderr",
     "output_type": "stream",
     "text": [
      "Scraping quotes:  87%|████████▋ | 884/1020 [25:52<05:14,  2.31s/it]"
     ]
    },
    {
     "name": "stdout",
     "output_type": "stream",
     "text": [
      "200\n"
     ]
    },
    {
     "name": "stderr",
     "output_type": "stream",
     "text": [
      "Scraping quotes:  87%|████████▋ | 885/1020 [25:54<05:05,  2.26s/it]"
     ]
    },
    {
     "name": "stdout",
     "output_type": "stream",
     "text": [
      "200\n"
     ]
    },
    {
     "name": "stderr",
     "output_type": "stream",
     "text": [
      "Scraping quotes:  87%|████████▋ | 886/1020 [25:57<05:11,  2.32s/it]"
     ]
    },
    {
     "name": "stdout",
     "output_type": "stream",
     "text": [
      "200\n"
     ]
    },
    {
     "name": "stderr",
     "output_type": "stream",
     "text": [
      "Scraping quotes:  87%|████████▋ | 887/1020 [26:00<05:41,  2.57s/it]"
     ]
    },
    {
     "name": "stdout",
     "output_type": "stream",
     "text": [
      "200\n"
     ]
    },
    {
     "name": "stderr",
     "output_type": "stream",
     "text": [
      "Scraping quotes:  87%|████████▋ | 888/1020 [26:04<06:41,  3.04s/it]"
     ]
    },
    {
     "name": "stdout",
     "output_type": "stream",
     "text": [
      "200\n"
     ]
    },
    {
     "name": "stderr",
     "output_type": "stream",
     "text": [
      "Scraping quotes:  87%|████████▋ | 889/1020 [26:05<05:21,  2.46s/it]"
     ]
    },
    {
     "name": "stdout",
     "output_type": "stream",
     "text": [
      "200\n"
     ]
    },
    {
     "name": "stderr",
     "output_type": "stream",
     "text": [
      "Scraping quotes:  87%|████████▋ | 890/1020 [26:06<04:12,  1.94s/it]"
     ]
    },
    {
     "name": "stdout",
     "output_type": "stream",
     "text": [
      "200\n"
     ]
    },
    {
     "name": "stderr",
     "output_type": "stream",
     "text": [
      "Scraping quotes:  87%|████████▋ | 891/1020 [26:08<04:01,  1.88s/it]"
     ]
    },
    {
     "name": "stdout",
     "output_type": "stream",
     "text": [
      "200\n"
     ]
    },
    {
     "name": "stderr",
     "output_type": "stream",
     "text": [
      "Scraping quotes:  87%|████████▋ | 892/1020 [26:08<03:21,  1.57s/it]"
     ]
    },
    {
     "name": "stdout",
     "output_type": "stream",
     "text": [
      "200\n"
     ]
    },
    {
     "name": "stderr",
     "output_type": "stream",
     "text": [
      "Scraping quotes:  88%|████████▊ | 894/1020 [26:10<02:24,  1.15s/it]"
     ]
    },
    {
     "name": "stdout",
     "output_type": "stream",
     "text": [
      "500\n",
      "Error scraping {'country': 'US', 'region': 'us-fl', 'crypto_name': 'USDT (BNB Chain)', 'payment_name': 'Instant ACH Bank Transfer', 'regionId': '/regions/us-fl', 'paymentMethodId': '/payments/instant-bank-transfer', 'cryptoCurrencyId': '/currencies/crypto/56/0x55d398326f99059ff775485246999027b3197955', 'fiatCurrencyId': '/currencies/fiat/usd', 'amount': 12840, 'request_time': datetime.datetime(2024, 8, 2, 22, 9, 9, 615158)}\n",
      "'success'\n",
      "\n"
     ]
    },
    {
     "name": "stderr",
     "output_type": "stream",
     "text": [
      "Scraping quotes:  88%|████████▊ | 895/1020 [26:11<02:15,  1.08s/it]"
     ]
    },
    {
     "name": "stdout",
     "output_type": "stream",
     "text": [
      "500\n",
      "Error scraping {'country': 'US', 'region': 'us-fl', 'crypto_name': 'Ethereum Mainnet', 'payment_name': 'Wire Transfer', 'regionId': '/regions/us-fl', 'paymentMethodId': '/payments/wire-transfer', 'cryptoCurrencyId': '/currencies/crypto/1/0x0000000000000000000000000000000000000000', 'fiatCurrencyId': '/currencies/fiat/usd', 'amount': 12840, 'request_time': datetime.datetime(2024, 8, 2, 22, 9, 10, 191421)}\n",
      "'success'\n",
      "\n",
      "500\n",
      "Error scraping {'country': 'US', 'region': 'us-fl', 'crypto_name': 'USDT (Ethereum)', 'payment_name': 'Wire Transfer', 'regionId': '/regions/us-fl', 'paymentMethodId': '/payments/wire-transfer', 'cryptoCurrencyId': '/currencies/crypto/1/0xdac17f958d2ee523a2206206994597c13d831ec7', 'fiatCurrencyId': '/currencies/fiat/usd', 'amount': 12840, 'request_time': datetime.datetime(2024, 8, 2, 22, 9, 11, 114140)}\n",
      "'success'\n",
      "\n"
     ]
    },
    {
     "name": "stderr",
     "output_type": "stream",
     "text": [
      "Scraping quotes:  88%|████████▊ | 896/1020 [26:11<01:54,  1.08it/s]"
     ]
    },
    {
     "name": "stdout",
     "output_type": "stream",
     "text": [
      "500\n",
      "Error scraping {'country': 'US', 'region': 'us-fl', 'crypto_name': 'USDT (BNB Chain)', 'payment_name': 'Wire Transfer', 'regionId': '/regions/us-fl', 'paymentMethodId': '/payments/wire-transfer', 'cryptoCurrencyId': '/currencies/crypto/56/0x55d398326f99059ff775485246999027b3197955', 'fiatCurrencyId': '/currencies/fiat/usd', 'amount': 12840, 'request_time': datetime.datetime(2024, 8, 2, 22, 9, 11, 665342)}\n",
      "'success'\n",
      "\n"
     ]
    },
    {
     "name": "stderr",
     "output_type": "stream",
     "text": [
      "Scraping quotes:  88%|████████▊ | 897/1020 [26:12<01:44,  1.18it/s]"
     ]
    },
    {
     "name": "stdout",
     "output_type": "stream",
     "text": [
      "200\n"
     ]
    },
    {
     "name": "stderr",
     "output_type": "stream",
     "text": [
      "Scraping quotes:  88%|████████▊ | 898/1020 [26:13<01:43,  1.17it/s]"
     ]
    },
    {
     "name": "stdout",
     "output_type": "stream",
     "text": [
      "200\n"
     ]
    },
    {
     "name": "stderr",
     "output_type": "stream",
     "text": [
      "Scraping quotes:  88%|████████▊ | 899/1020 [26:14<01:37,  1.24it/s]"
     ]
    },
    {
     "name": "stdout",
     "output_type": "stream",
     "text": [
      "200\n"
     ]
    },
    {
     "name": "stderr",
     "output_type": "stream",
     "text": [
      "Scraping quotes:  88%|████████▊ | 900/1020 [26:15<01:44,  1.15it/s]"
     ]
    },
    {
     "name": "stdout",
     "output_type": "stream",
     "text": [
      "500\n",
      "Error scraping {'country': 'US', 'region': 'us-fl', 'crypto_name': 'Ethereum Mainnet', 'payment_name': 'PSE', 'regionId': '/regions/us-fl', 'paymentMethodId': '/payments/pse', 'cryptoCurrencyId': '/currencies/crypto/1/0x0000000000000000000000000000000000000000', 'fiatCurrencyId': '/currencies/fiat/usd', 'amount': 12840, 'request_time': datetime.datetime(2024, 8, 2, 22, 9, 14, 924300)}\n",
      "'success'\n",
      "\n"
     ]
    },
    {
     "name": "stderr",
     "output_type": "stream",
     "text": [
      "Scraping quotes:  88%|████████▊ | 901/1020 [26:16<01:44,  1.14it/s]"
     ]
    },
    {
     "name": "stdout",
     "output_type": "stream",
     "text": [
      "500\n",
      "Error scraping {'country': 'US', 'region': 'us-fl', 'crypto_name': 'USDT (Ethereum)', 'payment_name': 'PSE', 'regionId': '/regions/us-fl', 'paymentMethodId': '/payments/pse', 'cryptoCurrencyId': '/currencies/crypto/1/0xdac17f958d2ee523a2206206994597c13d831ec7', 'fiatCurrencyId': '/currencies/fiat/usd', 'amount': 12840, 'request_time': datetime.datetime(2024, 8, 2, 22, 9, 15, 831760)}\n",
      "'success'\n",
      "\n"
     ]
    },
    {
     "name": "stderr",
     "output_type": "stream",
     "text": [
      "Scraping quotes:  89%|████████▊ | 903/1020 [26:19<02:44,  1.40s/it]"
     ]
    },
    {
     "name": "stdout",
     "output_type": "stream",
     "text": [
      "500\n",
      "Error scraping {'country': 'US', 'region': 'us-fl', 'crypto_name': 'USDT (BNB Chain)', 'payment_name': 'PSE', 'regionId': '/regions/us-fl', 'paymentMethodId': '/payments/pse', 'cryptoCurrencyId': '/currencies/crypto/56/0x55d398326f99059ff775485246999027b3197955', 'fiatCurrencyId': '/currencies/fiat/usd', 'amount': 12840, 'request_time': datetime.datetime(2024, 8, 2, 22, 9, 17, 296802)}\n",
      "'success'\n",
      "\n",
      "200\n"
     ]
    },
    {
     "name": "stderr",
     "output_type": "stream",
     "text": [
      "Scraping quotes:  89%|████████▊ | 904/1020 [26:20<02:31,  1.31s/it]"
     ]
    },
    {
     "name": "stdout",
     "output_type": "stream",
     "text": [
      "200\n"
     ]
    },
    {
     "name": "stderr",
     "output_type": "stream",
     "text": [
      "Scraping quotes:  89%|████████▊ | 905/1020 [26:21<02:16,  1.19s/it]"
     ]
    },
    {
     "name": "stdout",
     "output_type": "stream",
     "text": [
      "200\n"
     ]
    },
    {
     "name": "stderr",
     "output_type": "stream",
     "text": [
      "Scraping quotes:  89%|████████▉ | 906/1020 [26:22<02:05,  1.10s/it]"
     ]
    },
    {
     "name": "stdout",
     "output_type": "stream",
     "text": [
      "200\n"
     ]
    },
    {
     "name": "stderr",
     "output_type": "stream",
     "text": [
      "Scraping quotes:  89%|████████▉ | 907/1020 [26:25<03:11,  1.70s/it]"
     ]
    },
    {
     "name": "stdout",
     "output_type": "stream",
     "text": [
      "200\n"
     ]
    },
    {
     "name": "stderr",
     "output_type": "stream",
     "text": [
      "Scraping quotes:  89%|████████▉ | 908/1020 [26:27<03:22,  1.81s/it]"
     ]
    },
    {
     "name": "stdout",
     "output_type": "stream",
     "text": [
      "200\n"
     ]
    },
    {
     "name": "stderr",
     "output_type": "stream",
     "text": [
      "Scraping quotes:  89%|████████▉ | 909/1020 [26:30<03:41,  2.00s/it]"
     ]
    },
    {
     "name": "stdout",
     "output_type": "stream",
     "text": [
      "200\n"
     ]
    },
    {
     "name": "stderr",
     "output_type": "stream",
     "text": [
      "Scraping quotes:  89%|████████▉ | 910/1020 [26:31<03:24,  1.86s/it]"
     ]
    },
    {
     "name": "stdout",
     "output_type": "stream",
     "text": [
      "200\n"
     ]
    },
    {
     "name": "stderr",
     "output_type": "stream",
     "text": [
      "Scraping quotes:  89%|████████▉ | 911/1020 [26:34<03:43,  2.05s/it]"
     ]
    },
    {
     "name": "stdout",
     "output_type": "stream",
     "text": [
      "200\n"
     ]
    },
    {
     "name": "stderr",
     "output_type": "stream",
     "text": [
      "Scraping quotes:  89%|████████▉ | 912/1020 [26:37<04:01,  2.23s/it]"
     ]
    },
    {
     "name": "stdout",
     "output_type": "stream",
     "text": [
      "200\n"
     ]
    },
    {
     "name": "stderr",
     "output_type": "stream",
     "text": [
      "Scraping quotes:  90%|████████▉ | 913/1020 [26:38<03:28,  1.95s/it]"
     ]
    },
    {
     "name": "stdout",
     "output_type": "stream",
     "text": [
      "200\n"
     ]
    },
    {
     "name": "stderr",
     "output_type": "stream",
     "text": [
      "Scraping quotes:  90%|████████▉ | 914/1020 [26:39<03:04,  1.74s/it]"
     ]
    },
    {
     "name": "stdout",
     "output_type": "stream",
     "text": [
      "200\n"
     ]
    },
    {
     "name": "stderr",
     "output_type": "stream",
     "text": [
      "Scraping quotes:  90%|████████▉ | 915/1020 [26:40<02:39,  1.52s/it]"
     ]
    },
    {
     "name": "stdout",
     "output_type": "stream",
     "text": [
      "500\n",
      "Error scraping {'country': 'UK', 'region': 'gb', 'crypto_name': 'Ethereum Mainnet', 'payment_name': 'PSE', 'regionId': '/regions/gb', 'paymentMethodId': '/payments/pse', 'cryptoCurrencyId': '/currencies/crypto/1/0x0000000000000000000000000000000000000000', 'fiatCurrencyId': '/currencies/fiat/gbp', 'amount': 12840, 'request_time': datetime.datetime(2024, 8, 2, 22, 9, 40, 240875)}\n",
      "'success'\n",
      "\n"
     ]
    },
    {
     "name": "stderr",
     "output_type": "stream",
     "text": [
      "Scraping quotes:  90%|████████▉ | 917/1020 [26:42<02:03,  1.20s/it]"
     ]
    },
    {
     "name": "stdout",
     "output_type": "stream",
     "text": [
      "500\n",
      "Error scraping {'country': 'UK', 'region': 'gb', 'crypto_name': 'USDT (Ethereum)', 'payment_name': 'PSE', 'regionId': '/regions/gb', 'paymentMethodId': '/payments/pse', 'cryptoCurrencyId': '/currencies/crypto/1/0xdac17f958d2ee523a2206206994597c13d831ec7', 'fiatCurrencyId': '/currencies/fiat/gbp', 'amount': 12840, 'request_time': datetime.datetime(2024, 8, 2, 22, 9, 41, 217941)}\n",
      "'success'\n",
      "\n",
      "500\n",
      "Error scraping {'country': 'UK', 'region': 'gb', 'crypto_name': 'USDT (BNB Chain)', 'payment_name': 'PSE', 'regionId': '/regions/gb', 'paymentMethodId': '/payments/pse', 'cryptoCurrencyId': '/currencies/crypto/56/0x55d398326f99059ff775485246999027b3197955', 'fiatCurrencyId': '/currencies/fiat/gbp', 'amount': 12840, 'request_time': datetime.datetime(2024, 8, 2, 22, 9, 42, 38031)}\n",
      "'success'\n",
      "\n"
     ]
    },
    {
     "name": "stderr",
     "output_type": "stream",
     "text": [
      "Scraping quotes:  90%|█████████ | 918/1020 [26:43<01:54,  1.12s/it]"
     ]
    },
    {
     "name": "stdout",
     "output_type": "stream",
     "text": [
      "200\n"
     ]
    },
    {
     "name": "stderr",
     "output_type": "stream",
     "text": [
      "Scraping quotes:  90%|█████████ | 919/1020 [26:45<02:27,  1.47s/it]"
     ]
    },
    {
     "name": "stdout",
     "output_type": "stream",
     "text": [
      "200\n"
     ]
    },
    {
     "name": "stderr",
     "output_type": "stream",
     "text": [
      "Scraping quotes:  90%|█████████ | 920/1020 [26:48<02:59,  1.79s/it]"
     ]
    },
    {
     "name": "stdout",
     "output_type": "stream",
     "text": [
      "200\n"
     ]
    },
    {
     "name": "stderr",
     "output_type": "stream",
     "text": [
      "Scraping quotes:  90%|█████████ | 921/1020 [26:50<03:11,  1.93s/it]"
     ]
    },
    {
     "name": "stdout",
     "output_type": "stream",
     "text": [
      "200\n"
     ]
    },
    {
     "name": "stderr",
     "output_type": "stream",
     "text": [
      "Scraping quotes:  90%|█████████ | 922/1020 [26:52<03:18,  2.03s/it]"
     ]
    },
    {
     "name": "stdout",
     "output_type": "stream",
     "text": [
      "200\n"
     ]
    },
    {
     "name": "stderr",
     "output_type": "stream",
     "text": [
      "Scraping quotes:  90%|█████████ | 923/1020 [26:54<03:26,  2.13s/it]"
     ]
    },
    {
     "name": "stdout",
     "output_type": "stream",
     "text": [
      "200\n"
     ]
    },
    {
     "name": "stderr",
     "output_type": "stream",
     "text": [
      "Scraping quotes:  91%|█████████ | 924/1020 [26:57<03:22,  2.11s/it]"
     ]
    },
    {
     "name": "stdout",
     "output_type": "stream",
     "text": [
      "200\n"
     ]
    },
    {
     "name": "stderr",
     "output_type": "stream",
     "text": [
      "Scraping quotes:  91%|█████████ | 925/1020 [26:59<03:35,  2.27s/it]"
     ]
    },
    {
     "name": "stdout",
     "output_type": "stream",
     "text": [
      "200\n"
     ]
    },
    {
     "name": "stderr",
     "output_type": "stream",
     "text": [
      "Scraping quotes:  91%|█████████ | 926/1020 [27:03<04:13,  2.69s/it]"
     ]
    },
    {
     "name": "stdout",
     "output_type": "stream",
     "text": [
      "200\n"
     ]
    },
    {
     "name": "stderr",
     "output_type": "stream",
     "text": [
      "Scraping quotes:  91%|█████████ | 927/1020 [27:05<03:59,  2.57s/it]"
     ]
    },
    {
     "name": "stdout",
     "output_type": "stream",
     "text": [
      "200\n"
     ]
    },
    {
     "name": "stderr",
     "output_type": "stream",
     "text": [
      "Scraping quotes:  91%|█████████ | 928/1020 [27:07<03:25,  2.23s/it]"
     ]
    },
    {
     "name": "stdout",
     "output_type": "stream",
     "text": [
      "200\n"
     ]
    },
    {
     "name": "stderr",
     "output_type": "stream",
     "text": [
      "Scraping quotes:  91%|█████████ | 929/1020 [27:08<03:01,  2.00s/it]"
     ]
    },
    {
     "name": "stdout",
     "output_type": "stream",
     "text": [
      "200\n"
     ]
    },
    {
     "name": "stderr",
     "output_type": "stream",
     "text": [
      "Scraping quotes:  91%|█████████▏| 931/1020 [27:12<03:02,  2.05s/it]"
     ]
    },
    {
     "name": "stdout",
     "output_type": "stream",
     "text": [
      "500\n",
      "Error scraping {'country': 'DE', 'region': 'de', 'crypto_name': 'Ethereum Mainnet', 'payment_name': 'PSE', 'regionId': '/regions/de', 'paymentMethodId': '/payments/pse', 'cryptoCurrencyId': '/currencies/crypto/1/0x0000000000000000000000000000000000000000', 'fiatCurrencyId': '/currencies/fiat/eur', 'amount': 18137, 'request_time': datetime.datetime(2024, 8, 2, 22, 10, 9, 705725)}\n",
      "'success'\n",
      "\n"
     ]
    },
    {
     "name": "stderr",
     "output_type": "stream",
     "text": [
      "Scraping quotes:  91%|█████████▏| 932/1020 [27:13<02:43,  1.85s/it]"
     ]
    },
    {
     "name": "stdout",
     "output_type": "stream",
     "text": [
      "500\n",
      "Error scraping {'country': 'DE', 'region': 'de', 'crypto_name': 'USDT (Ethereum)', 'payment_name': 'PSE', 'regionId': '/regions/de', 'paymentMethodId': '/payments/pse', 'cryptoCurrencyId': '/currencies/crypto/1/0xdac17f958d2ee523a2206206994597c13d831ec7', 'fiatCurrencyId': '/currencies/fiat/eur', 'amount': 18137, 'request_time': datetime.datetime(2024, 8, 2, 22, 10, 12, 249593)}\n",
      "'success'\n",
      "\n"
     ]
    },
    {
     "name": "stderr",
     "output_type": "stream",
     "text": [
      "Scraping quotes:  91%|█████████▏| 933/1020 [27:14<02:19,  1.60s/it]"
     ]
    },
    {
     "name": "stdout",
     "output_type": "stream",
     "text": [
      "500\n",
      "Error scraping {'country': 'DE', 'region': 'de', 'crypto_name': 'USDT (BNB Chain)', 'payment_name': 'PSE', 'regionId': '/regions/de', 'paymentMethodId': '/payments/pse', 'cryptoCurrencyId': '/currencies/crypto/56/0x55d398326f99059ff775485246999027b3197955', 'fiatCurrencyId': '/currencies/fiat/eur', 'amount': 18137, 'request_time': datetime.datetime(2024, 8, 2, 22, 10, 13, 651577)}\n",
      "'success'\n",
      "\n",
      "200\n"
     ]
    },
    {
     "name": "stderr",
     "output_type": "stream",
     "text": [
      "Scraping quotes:  92%|█████████▏| 934/1020 [27:17<02:32,  1.78s/it]"
     ]
    },
    {
     "name": "stdout",
     "output_type": "stream",
     "text": [
      "200\n"
     ]
    },
    {
     "name": "stderr",
     "output_type": "stream",
     "text": [
      "Scraping quotes:  92%|█████████▏| 935/1020 [27:20<03:13,  2.27s/it]"
     ]
    },
    {
     "name": "stdout",
     "output_type": "stream",
     "text": [
      "200\n"
     ]
    },
    {
     "name": "stderr",
     "output_type": "stream",
     "text": [
      "Scraping quotes:  92%|█████████▏| 936/1020 [27:23<03:34,  2.56s/it]"
     ]
    },
    {
     "name": "stdout",
     "output_type": "stream",
     "text": [
      "200\n"
     ]
    },
    {
     "name": "stderr",
     "output_type": "stream",
     "text": [
      "Scraping quotes:  92%|█████████▏| 937/1020 [27:25<03:22,  2.44s/it]"
     ]
    },
    {
     "name": "stdout",
     "output_type": "stream",
     "text": [
      "200\n"
     ]
    },
    {
     "name": "stderr",
     "output_type": "stream",
     "text": [
      "Scraping quotes:  92%|█████████▏| 938/1020 [27:29<03:41,  2.70s/it]"
     ]
    },
    {
     "name": "stdout",
     "output_type": "stream",
     "text": [
      "200\n"
     ]
    },
    {
     "name": "stderr",
     "output_type": "stream",
     "text": [
      "Scraping quotes:  92%|█████████▏| 939/1020 [27:31<03:30,  2.60s/it]"
     ]
    },
    {
     "name": "stdout",
     "output_type": "stream",
     "text": [
      "200\n"
     ]
    },
    {
     "name": "stderr",
     "output_type": "stream",
     "text": [
      "Scraping quotes:  92%|█████████▏| 940/1020 [27:32<02:50,  2.13s/it]"
     ]
    },
    {
     "name": "stdout",
     "output_type": "stream",
     "text": [
      "200\n"
     ]
    },
    {
     "name": "stderr",
     "output_type": "stream",
     "text": [
      "Scraping quotes:  92%|█████████▏| 941/1020 [27:33<02:21,  1.80s/it]"
     ]
    },
    {
     "name": "stdout",
     "output_type": "stream",
     "text": [
      "200\n"
     ]
    },
    {
     "name": "stderr",
     "output_type": "stream",
     "text": [
      "Scraping quotes:  92%|█████████▏| 942/1020 [27:34<01:54,  1.46s/it]"
     ]
    },
    {
     "name": "stdout",
     "output_type": "stream",
     "text": [
      "200\n"
     ]
    },
    {
     "name": "stderr",
     "output_type": "stream",
     "text": [
      "Scraping quotes:  92%|█████████▏| 943/1020 [27:35<01:43,  1.34s/it]"
     ]
    },
    {
     "name": "stdout",
     "output_type": "stream",
     "text": [
      "200\n"
     ]
    },
    {
     "name": "stderr",
     "output_type": "stream",
     "text": [
      "Scraping quotes:  93%|█████████▎| 945/1020 [27:37<01:18,  1.04s/it]"
     ]
    },
    {
     "name": "stdout",
     "output_type": "stream",
     "text": [
      "500\n",
      "Error scraping {'country': 'US', 'region': 'us-fl', 'crypto_name': 'USDT (BNB Chain)', 'payment_name': 'Instant ACH Bank Transfer', 'regionId': '/regions/us-fl', 'paymentMethodId': '/payments/instant-bank-transfer', 'cryptoCurrencyId': '/currencies/crypto/56/0x55d398326f99059ff775485246999027b3197955', 'fiatCurrencyId': '/currencies/fiat/usd', 'amount': 18137, 'request_time': datetime.datetime(2024, 8, 2, 22, 10, 36, 132677)}\n",
      "'success'\n",
      "\n",
      "500\n",
      "Error scraping {'country': 'US', 'region': 'us-fl', 'crypto_name': 'Ethereum Mainnet', 'payment_name': 'Wire Transfer', 'regionId': '/regions/us-fl', 'paymentMethodId': '/payments/wire-transfer', 'cryptoCurrencyId': '/currencies/crypto/1/0x0000000000000000000000000000000000000000', 'fiatCurrencyId': '/currencies/fiat/usd', 'amount': 18137, 'request_time': datetime.datetime(2024, 8, 2, 22, 10, 36, 719698)}\n",
      "'success'\n",
      "\n"
     ]
    },
    {
     "name": "stderr",
     "output_type": "stream",
     "text": [
      "Scraping quotes:  93%|█████████▎| 947/1020 [27:39<01:16,  1.05s/it]"
     ]
    },
    {
     "name": "stdout",
     "output_type": "stream",
     "text": [
      "500\n",
      "Error scraping {'country': 'US', 'region': 'us-fl', 'crypto_name': 'USDT (Ethereum)', 'payment_name': 'Wire Transfer', 'regionId': '/regions/us-fl', 'paymentMethodId': '/payments/wire-transfer', 'cryptoCurrencyId': '/currencies/crypto/1/0xdac17f958d2ee523a2206206994597c13d831ec7', 'fiatCurrencyId': '/currencies/fiat/usd', 'amount': 18137, 'request_time': datetime.datetime(2024, 8, 2, 22, 10, 37, 952308)}\n",
      "'success'\n",
      "\n"
     ]
    },
    {
     "name": "stderr",
     "output_type": "stream",
     "text": [
      "Scraping quotes:  93%|█████████▎| 948/1020 [27:39<01:05,  1.09it/s]"
     ]
    },
    {
     "name": "stdout",
     "output_type": "stream",
     "text": [
      "500\n",
      "Error scraping {'country': 'US', 'region': 'us-fl', 'crypto_name': 'USDT (BNB Chain)', 'payment_name': 'Wire Transfer', 'regionId': '/regions/us-fl', 'paymentMethodId': '/payments/wire-transfer', 'cryptoCurrencyId': '/currencies/crypto/56/0x55d398326f99059ff775485246999027b3197955', 'fiatCurrencyId': '/currencies/fiat/usd', 'amount': 18137, 'request_time': datetime.datetime(2024, 8, 2, 22, 10, 38, 868509)}\n",
      "'success'\n",
      "\n",
      "200\n"
     ]
    },
    {
     "name": "stderr",
     "output_type": "stream",
     "text": [
      "Scraping quotes:  93%|█████████▎| 949/1020 [27:41<01:14,  1.04s/it]"
     ]
    },
    {
     "name": "stdout",
     "output_type": "stream",
     "text": [
      "200\n"
     ]
    },
    {
     "name": "stderr",
     "output_type": "stream",
     "text": [
      "Scraping quotes:  93%|█████████▎| 950/1020 [27:42<01:15,  1.08s/it]"
     ]
    },
    {
     "name": "stdout",
     "output_type": "stream",
     "text": [
      "200\n"
     ]
    },
    {
     "name": "stderr",
     "output_type": "stream",
     "text": [
      "Scraping quotes:  93%|█████████▎| 951/1020 [27:44<01:31,  1.33s/it]"
     ]
    },
    {
     "name": "stdout",
     "output_type": "stream",
     "text": [
      "500\n",
      "Error scraping {'country': 'US', 'region': 'us-fl', 'crypto_name': 'Ethereum Mainnet', 'payment_name': 'PSE', 'regionId': '/regions/us-fl', 'paymentMethodId': '/payments/pse', 'cryptoCurrencyId': '/currencies/crypto/1/0x0000000000000000000000000000000000000000', 'fiatCurrencyId': '/currencies/fiat/usd', 'amount': 18137, 'request_time': datetime.datetime(2024, 8, 2, 22, 10, 43, 904073)}\n",
      "'success'\n",
      "\n"
     ]
    },
    {
     "name": "stderr",
     "output_type": "stream",
     "text": [
      "Scraping quotes:  93%|█████████▎| 952/1020 [27:45<01:31,  1.35s/it]"
     ]
    },
    {
     "name": "stdout",
     "output_type": "stream",
     "text": [
      "500\n",
      "Error scraping {'country': 'US', 'region': 'us-fl', 'crypto_name': 'USDT (Ethereum)', 'payment_name': 'PSE', 'regionId': '/regions/us-fl', 'paymentMethodId': '/payments/pse', 'cryptoCurrencyId': '/currencies/crypto/1/0xdac17f958d2ee523a2206206994597c13d831ec7', 'fiatCurrencyId': '/currencies/fiat/usd', 'amount': 18137, 'request_time': datetime.datetime(2024, 8, 2, 22, 10, 45, 307470)}\n",
      "'success'\n",
      "\n"
     ]
    },
    {
     "name": "stderr",
     "output_type": "stream",
     "text": [
      "Scraping quotes:  94%|█████████▎| 954/1020 [27:47<01:20,  1.22s/it]"
     ]
    },
    {
     "name": "stdout",
     "output_type": "stream",
     "text": [
      "500\n",
      "Error scraping {'country': 'US', 'region': 'us-fl', 'crypto_name': 'USDT (BNB Chain)', 'payment_name': 'PSE', 'regionId': '/regions/us-fl', 'paymentMethodId': '/payments/pse', 'cryptoCurrencyId': '/currencies/crypto/56/0x55d398326f99059ff775485246999027b3197955', 'fiatCurrencyId': '/currencies/fiat/usd', 'amount': 18137, 'request_time': datetime.datetime(2024, 8, 2, 22, 10, 46, 428479)}\n",
      "'success'\n",
      "\n",
      "200\n"
     ]
    },
    {
     "name": "stderr",
     "output_type": "stream",
     "text": [
      "Scraping quotes:  94%|█████████▎| 955/1020 [27:48<01:18,  1.21s/it]"
     ]
    },
    {
     "name": "stdout",
     "output_type": "stream",
     "text": [
      "200\n"
     ]
    },
    {
     "name": "stderr",
     "output_type": "stream",
     "text": [
      "Scraping quotes:  94%|█████████▎| 956/1020 [27:50<01:17,  1.21s/it]"
     ]
    },
    {
     "name": "stdout",
     "output_type": "stream",
     "text": [
      "200\n"
     ]
    },
    {
     "name": "stderr",
     "output_type": "stream",
     "text": [
      "Scraping quotes:  94%|█████████▍| 957/1020 [27:51<01:10,  1.12s/it]"
     ]
    },
    {
     "name": "stdout",
     "output_type": "stream",
     "text": [
      "200\n"
     ]
    },
    {
     "name": "stderr",
     "output_type": "stream",
     "text": [
      "Scraping quotes:  94%|█████████▍| 958/1020 [27:52<01:13,  1.19s/it]"
     ]
    },
    {
     "name": "stdout",
     "output_type": "stream",
     "text": [
      "200\n"
     ]
    },
    {
     "name": "stderr",
     "output_type": "stream",
     "text": [
      "Scraping quotes:  94%|█████████▍| 959/1020 [27:53<01:17,  1.28s/it]"
     ]
    },
    {
     "name": "stdout",
     "output_type": "stream",
     "text": [
      "200\n"
     ]
    },
    {
     "name": "stderr",
     "output_type": "stream",
     "text": [
      "Scraping quotes:  94%|█████████▍| 960/1020 [27:55<01:29,  1.49s/it]"
     ]
    },
    {
     "name": "stdout",
     "output_type": "stream",
     "text": [
      "200\n"
     ]
    },
    {
     "name": "stderr",
     "output_type": "stream",
     "text": [
      "Scraping quotes:  94%|█████████▍| 961/1020 [27:58<01:43,  1.76s/it]"
     ]
    },
    {
     "name": "stdout",
     "output_type": "stream",
     "text": [
      "200\n"
     ]
    },
    {
     "name": "stderr",
     "output_type": "stream",
     "text": [
      "Scraping quotes:  94%|█████████▍| 962/1020 [27:59<01:33,  1.61s/it]"
     ]
    },
    {
     "name": "stdout",
     "output_type": "stream",
     "text": [
      "200\n"
     ]
    },
    {
     "name": "stderr",
     "output_type": "stream",
     "text": [
      "Scraping quotes:  94%|█████████▍| 963/1020 [28:02<01:49,  1.93s/it]"
     ]
    },
    {
     "name": "stdout",
     "output_type": "stream",
     "text": [
      "200\n"
     ]
    },
    {
     "name": "stderr",
     "output_type": "stream",
     "text": [
      "Scraping quotes:  95%|█████████▍| 964/1020 [28:03<01:42,  1.82s/it]"
     ]
    },
    {
     "name": "stdout",
     "output_type": "stream",
     "text": [
      "200\n"
     ]
    },
    {
     "name": "stderr",
     "output_type": "stream",
     "text": [
      "Scraping quotes:  95%|█████████▍| 965/1020 [28:05<01:39,  1.81s/it]"
     ]
    },
    {
     "name": "stdout",
     "output_type": "stream",
     "text": [
      "200\n"
     ]
    },
    {
     "name": "stderr",
     "output_type": "stream",
     "text": [
      "Scraping quotes:  95%|█████████▍| 967/1020 [28:08<01:33,  1.76s/it]"
     ]
    },
    {
     "name": "stdout",
     "output_type": "stream",
     "text": [
      "500\n",
      "Error scraping {'country': 'UK', 'region': 'gb', 'crypto_name': 'Ethereum Mainnet', 'payment_name': 'PSE', 'regionId': '/regions/gb', 'paymentMethodId': '/payments/pse', 'cryptoCurrencyId': '/currencies/crypto/1/0x0000000000000000000000000000000000000000', 'fiatCurrencyId': '/currencies/fiat/gbp', 'amount': 18137, 'request_time': datetime.datetime(2024, 8, 2, 22, 11, 6, 497682)}\n",
      "'success'\n",
      "\n",
      "500\n",
      "Error scraping {'country': 'UK', 'region': 'gb', 'crypto_name': 'USDT (Ethereum)', 'payment_name': 'PSE', 'regionId': '/regions/gb', 'paymentMethodId': '/payments/pse', 'cryptoCurrencyId': '/currencies/crypto/1/0xdac17f958d2ee523a2206206994597c13d831ec7', 'fiatCurrencyId': '/currencies/fiat/gbp', 'amount': 18137, 'request_time': datetime.datetime(2024, 8, 2, 22, 11, 8, 566481)}\n",
      "'success'\n",
      "\n"
     ]
    },
    {
     "name": "stderr",
     "output_type": "stream",
     "text": [
      "Scraping quotes:  95%|█████████▍| 968/1020 [28:09<01:20,  1.54s/it]"
     ]
    },
    {
     "name": "stdout",
     "output_type": "stream",
     "text": [
      "500\n",
      "Error scraping {'country': 'UK', 'region': 'gb', 'crypto_name': 'USDT (BNB Chain)', 'payment_name': 'PSE', 'regionId': '/regions/gb', 'paymentMethodId': '/payments/pse', 'cryptoCurrencyId': '/currencies/crypto/56/0x55d398326f99059ff775485246999027b3197955', 'fiatCurrencyId': '/currencies/fiat/gbp', 'amount': 18137, 'request_time': datetime.datetime(2024, 8, 2, 22, 11, 9, 613669)}\n",
      "'success'\n",
      "\n"
     ]
    },
    {
     "name": "stderr",
     "output_type": "stream",
     "text": [
      "Scraping quotes:  95%|█████████▌| 969/1020 [28:11<01:17,  1.51s/it]"
     ]
    },
    {
     "name": "stdout",
     "output_type": "stream",
     "text": [
      "200\n"
     ]
    },
    {
     "name": "stderr",
     "output_type": "stream",
     "text": [
      "Scraping quotes:  95%|█████████▌| 970/1020 [28:13<01:31,  1.84s/it]"
     ]
    },
    {
     "name": "stdout",
     "output_type": "stream",
     "text": [
      "200\n"
     ]
    },
    {
     "name": "stderr",
     "output_type": "stream",
     "text": [
      "Scraping quotes:  95%|█████████▌| 971/1020 [28:17<01:47,  2.20s/it]"
     ]
    },
    {
     "name": "stdout",
     "output_type": "stream",
     "text": [
      "200\n"
     ]
    },
    {
     "name": "stderr",
     "output_type": "stream",
     "text": [
      "Scraping quotes:  95%|█████████▌| 972/1020 [28:19<01:48,  2.27s/it]"
     ]
    },
    {
     "name": "stdout",
     "output_type": "stream",
     "text": [
      "200\n"
     ]
    },
    {
     "name": "stderr",
     "output_type": "stream",
     "text": [
      "Scraping quotes:  95%|█████████▌| 973/1020 [28:22<01:58,  2.51s/it]"
     ]
    },
    {
     "name": "stdout",
     "output_type": "stream",
     "text": [
      "200\n"
     ]
    },
    {
     "name": "stderr",
     "output_type": "stream",
     "text": [
      "Scraping quotes:  95%|█████████▌| 974/1020 [28:24<01:49,  2.38s/it]"
     ]
    },
    {
     "name": "stdout",
     "output_type": "stream",
     "text": [
      "200\n"
     ]
    },
    {
     "name": "stderr",
     "output_type": "stream",
     "text": [
      "Scraping quotes:  96%|█████████▌| 975/1020 [28:26<01:45,  2.34s/it]"
     ]
    },
    {
     "name": "stdout",
     "output_type": "stream",
     "text": [
      "200\n"
     ]
    },
    {
     "name": "stderr",
     "output_type": "stream",
     "text": [
      "Scraping quotes:  96%|█████████▌| 976/1020 [28:29<01:44,  2.38s/it]"
     ]
    },
    {
     "name": "stdout",
     "output_type": "stream",
     "text": [
      "200\n"
     ]
    },
    {
     "name": "stderr",
     "output_type": "stream",
     "text": [
      "Scraping quotes:  96%|█████████▌| 977/1020 [28:32<01:52,  2.60s/it]"
     ]
    },
    {
     "name": "stdout",
     "output_type": "stream",
     "text": [
      "200\n"
     ]
    },
    {
     "name": "stderr",
     "output_type": "stream",
     "text": [
      "Scraping quotes:  96%|█████████▌| 978/1020 [28:36<02:02,  2.91s/it]"
     ]
    },
    {
     "name": "stdout",
     "output_type": "stream",
     "text": [
      "200\n"
     ]
    },
    {
     "name": "stderr",
     "output_type": "stream",
     "text": [
      "Scraping quotes:  96%|█████████▌| 979/1020 [28:37<01:42,  2.50s/it]"
     ]
    },
    {
     "name": "stdout",
     "output_type": "stream",
     "text": [
      "200\n"
     ]
    },
    {
     "name": "stderr",
     "output_type": "stream",
     "text": [
      "Scraping quotes:  96%|█████████▌| 980/1020 [28:38<01:22,  2.07s/it]"
     ]
    },
    {
     "name": "stdout",
     "output_type": "stream",
     "text": [
      "200\n"
     ]
    },
    {
     "name": "stderr",
     "output_type": "stream",
     "text": [
      "Scraping quotes:  96%|█████████▌| 981/1020 [28:40<01:14,  1.91s/it]"
     ]
    },
    {
     "name": "stdout",
     "output_type": "stream",
     "text": [
      "500\n",
      "Error scraping {'country': 'DE', 'region': 'de', 'crypto_name': 'Ethereum Mainnet', 'payment_name': 'PSE', 'regionId': '/regions/de', 'paymentMethodId': '/payments/pse', 'cryptoCurrencyId': '/currencies/crypto/1/0x0000000000000000000000000000000000000000', 'fiatCurrencyId': '/currencies/fiat/eur', 'amount': 25619, 'request_time': datetime.datetime(2024, 8, 2, 22, 11, 39, 886329)}\n",
      "'success'\n",
      "\n"
     ]
    },
    {
     "name": "stderr",
     "output_type": "stream",
     "text": [
      "Scraping quotes:  96%|█████████▋| 982/1020 [28:41<01:06,  1.75s/it]"
     ]
    },
    {
     "name": "stdout",
     "output_type": "stream",
     "text": [
      "500\n",
      "Error scraping {'country': 'DE', 'region': 'de', 'crypto_name': 'USDT (Ethereum)', 'payment_name': 'PSE', 'regionId': '/regions/de', 'paymentMethodId': '/payments/pse', 'cryptoCurrencyId': '/currencies/crypto/1/0xdac17f958d2ee523a2206206994597c13d831ec7', 'fiatCurrencyId': '/currencies/fiat/eur', 'amount': 25619, 'request_time': datetime.datetime(2024, 8, 2, 22, 11, 41, 260185)}\n",
      "'success'\n",
      "\n"
     ]
    },
    {
     "name": "stderr",
     "output_type": "stream",
     "text": [
      "Scraping quotes:  96%|█████████▋| 984/1020 [28:44<00:55,  1.54s/it]"
     ]
    },
    {
     "name": "stdout",
     "output_type": "stream",
     "text": [
      "500\n",
      "Error scraping {'country': 'DE', 'region': 'de', 'crypto_name': 'USDT (BNB Chain)', 'payment_name': 'PSE', 'regionId': '/regions/de', 'paymentMethodId': '/payments/pse', 'cryptoCurrencyId': '/currencies/crypto/56/0x55d398326f99059ff775485246999027b3197955', 'fiatCurrencyId': '/currencies/fiat/eur', 'amount': 25619, 'request_time': datetime.datetime(2024, 8, 2, 22, 11, 43, 184854)}\n",
      "'success'\n",
      "\n",
      "200\n"
     ]
    },
    {
     "name": "stderr",
     "output_type": "stream",
     "text": [
      "Scraping quotes:  97%|█████████▋| 985/1020 [28:46<01:00,  1.74s/it]"
     ]
    },
    {
     "name": "stdout",
     "output_type": "stream",
     "text": [
      "200\n"
     ]
    },
    {
     "name": "stderr",
     "output_type": "stream",
     "text": [
      "Scraping quotes:  97%|█████████▋| 986/1020 [28:48<01:03,  1.86s/it]"
     ]
    },
    {
     "name": "stdout",
     "output_type": "stream",
     "text": [
      "200\n"
     ]
    },
    {
     "name": "stderr",
     "output_type": "stream",
     "text": [
      "Scraping quotes:  97%|█████████▋| 987/1020 [28:51<01:08,  2.07s/it]"
     ]
    },
    {
     "name": "stdout",
     "output_type": "stream",
     "text": [
      "200\n"
     ]
    },
    {
     "name": "stderr",
     "output_type": "stream",
     "text": [
      "Scraping quotes:  97%|█████████▋| 988/1020 [28:54<01:16,  2.40s/it]"
     ]
    },
    {
     "name": "stdout",
     "output_type": "stream",
     "text": [
      "200\n"
     ]
    },
    {
     "name": "stderr",
     "output_type": "stream",
     "text": [
      "Scraping quotes:  97%|█████████▋| 989/1020 [28:56<01:07,  2.17s/it]"
     ]
    },
    {
     "name": "stdout",
     "output_type": "stream",
     "text": [
      "200\n"
     ]
    },
    {
     "name": "stderr",
     "output_type": "stream",
     "text": [
      "Scraping quotes:  97%|█████████▋| 990/1020 [28:59<01:12,  2.40s/it]"
     ]
    },
    {
     "name": "stdout",
     "output_type": "stream",
     "text": [
      "200\n"
     ]
    },
    {
     "name": "stderr",
     "output_type": "stream",
     "text": [
      "Scraping quotes:  97%|█████████▋| 991/1020 [28:59<00:56,  1.94s/it]"
     ]
    },
    {
     "name": "stdout",
     "output_type": "stream",
     "text": [
      "200\n"
     ]
    },
    {
     "name": "stderr",
     "output_type": "stream",
     "text": [
      "Scraping quotes:  97%|█████████▋| 992/1020 [29:00<00:44,  1.60s/it]"
     ]
    },
    {
     "name": "stdout",
     "output_type": "stream",
     "text": [
      "200\n"
     ]
    },
    {
     "name": "stderr",
     "output_type": "stream",
     "text": [
      "Scraping quotes:  97%|█████████▋| 993/1020 [29:01<00:37,  1.40s/it]"
     ]
    },
    {
     "name": "stdout",
     "output_type": "stream",
     "text": [
      "200\n"
     ]
    },
    {
     "name": "stderr",
     "output_type": "stream",
     "text": [
      "Scraping quotes:  97%|█████████▋| 994/1020 [29:02<00:33,  1.29s/it]"
     ]
    },
    {
     "name": "stdout",
     "output_type": "stream",
     "text": [
      "200\n"
     ]
    },
    {
     "name": "stderr",
     "output_type": "stream",
     "text": [
      "Scraping quotes:  98%|█████████▊| 995/1020 [29:03<00:30,  1.21s/it]"
     ]
    },
    {
     "name": "stdout",
     "output_type": "stream",
     "text": [
      "500\n",
      "Error scraping {'country': 'US', 'region': 'us-fl', 'crypto_name': 'USDT (BNB Chain)', 'payment_name': 'Instant ACH Bank Transfer', 'regionId': '/regions/us-fl', 'paymentMethodId': '/payments/instant-bank-transfer', 'cryptoCurrencyId': '/currencies/crypto/56/0x55d398326f99059ff775485246999027b3197955', 'fiatCurrencyId': '/currencies/fiat/usd', 'amount': 25619, 'request_time': datetime.datetime(2024, 8, 2, 22, 12, 3, 415238)}\n",
      "'success'\n",
      "\n"
     ]
    },
    {
     "name": "stderr",
     "output_type": "stream",
     "text": [
      "Scraping quotes:  98%|█████████▊| 997/1020 [29:05<00:22,  1.03it/s]"
     ]
    },
    {
     "name": "stdout",
     "output_type": "stream",
     "text": [
      "500\n",
      "Error scraping {'country': 'US', 'region': 'us-fl', 'crypto_name': 'Ethereum Mainnet', 'payment_name': 'Wire Transfer', 'regionId': '/regions/us-fl', 'paymentMethodId': '/payments/wire-transfer', 'cryptoCurrencyId': '/currencies/crypto/1/0x0000000000000000000000000000000000000000', 'fiatCurrencyId': '/currencies/fiat/usd', 'amount': 25619, 'request_time': datetime.datetime(2024, 8, 2, 22, 12, 4, 65971)}\n",
      "'success'\n",
      "\n"
     ]
    },
    {
     "name": "stderr",
     "output_type": "stream",
     "text": [
      "Scraping quotes:  98%|█████████▊| 998/1020 [29:05<00:19,  1.15it/s]"
     ]
    },
    {
     "name": "stdout",
     "output_type": "stream",
     "text": [
      "500\n",
      "Error scraping {'country': 'US', 'region': 'us-fl', 'crypto_name': 'USDT (Ethereum)', 'payment_name': 'Wire Transfer', 'regionId': '/regions/us-fl', 'paymentMethodId': '/payments/wire-transfer', 'cryptoCurrencyId': '/currencies/crypto/1/0xdac17f958d2ee523a2206206994597c13d831ec7', 'fiatCurrencyId': '/currencies/fiat/usd', 'amount': 25619, 'request_time': datetime.datetime(2024, 8, 2, 22, 12, 4, 857381)}\n",
      "'success'\n",
      "\n"
     ]
    },
    {
     "name": "stderr",
     "output_type": "stream",
     "text": [
      "Scraping quotes:  98%|█████████▊| 999/1020 [29:06<00:16,  1.26it/s]"
     ]
    },
    {
     "name": "stdout",
     "output_type": "stream",
     "text": [
      "500\n",
      "Error scraping {'country': 'US', 'region': 'us-fl', 'crypto_name': 'USDT (BNB Chain)', 'payment_name': 'Wire Transfer', 'regionId': '/regions/us-fl', 'paymentMethodId': '/payments/wire-transfer', 'cryptoCurrencyId': '/currencies/crypto/56/0x55d398326f99059ff775485246999027b3197955', 'fiatCurrencyId': '/currencies/fiat/usd', 'amount': 25619, 'request_time': datetime.datetime(2024, 8, 2, 22, 12, 5, 502678)}\n",
      "'success'\n",
      "\n",
      "200\n"
     ]
    },
    {
     "name": "stderr",
     "output_type": "stream",
     "text": [
      "Scraping quotes:  98%|█████████▊| 1000/1020 [29:07<00:15,  1.28it/s]"
     ]
    },
    {
     "name": "stdout",
     "output_type": "stream",
     "text": [
      "200\n"
     ]
    },
    {
     "name": "stderr",
     "output_type": "stream",
     "text": [
      "Scraping quotes:  98%|█████████▊| 1001/1020 [29:08<00:15,  1.25it/s]"
     ]
    },
    {
     "name": "stdout",
     "output_type": "stream",
     "text": [
      "200\n"
     ]
    },
    {
     "name": "stderr",
     "output_type": "stream",
     "text": [
      "Scraping quotes:  98%|█████████▊| 1003/1020 [29:09<00:13,  1.26it/s]"
     ]
    },
    {
     "name": "stdout",
     "output_type": "stream",
     "text": [
      "500\n",
      "Error scraping {'country': 'US', 'region': 'us-fl', 'crypto_name': 'Ethereum Mainnet', 'payment_name': 'PSE', 'regionId': '/regions/us-fl', 'paymentMethodId': '/payments/pse', 'cryptoCurrencyId': '/currencies/crypto/1/0x0000000000000000000000000000000000000000', 'fiatCurrencyId': '/currencies/fiat/usd', 'amount': 25619, 'request_time': datetime.datetime(2024, 8, 2, 22, 12, 8, 511564)}\n",
      "'success'\n",
      "\n",
      "500\n",
      "Error scraping {'country': 'US', 'region': 'us-fl', 'crypto_name': 'USDT (Ethereum)', 'payment_name': 'PSE', 'regionId': '/regions/us-fl', 'paymentMethodId': '/payments/pse', 'cryptoCurrencyId': '/currencies/crypto/1/0xdac17f958d2ee523a2206206994597c13d831ec7', 'fiatCurrencyId': '/currencies/fiat/usd', 'amount': 25619, 'request_time': datetime.datetime(2024, 8, 2, 22, 12, 9, 300423)}\n",
      "'success'\n",
      "\n"
     ]
    },
    {
     "name": "stderr",
     "output_type": "stream",
     "text": [
      "Scraping quotes:  99%|█████████▊| 1005/1020 [29:11<00:15,  1.01s/it]"
     ]
    },
    {
     "name": "stdout",
     "output_type": "stream",
     "text": [
      "500\n",
      "Error scraping {'country': 'US', 'region': 'us-fl', 'crypto_name': 'USDT (BNB Chain)', 'payment_name': 'PSE', 'regionId': '/regions/us-fl', 'paymentMethodId': '/payments/pse', 'cryptoCurrencyId': '/currencies/crypto/56/0x55d398326f99059ff775485246999027b3197955', 'fiatCurrencyId': '/currencies/fiat/usd', 'amount': 25619, 'request_time': datetime.datetime(2024, 8, 2, 22, 12, 10, 222395)}\n",
      "'success'\n",
      "\n",
      "200\n"
     ]
    },
    {
     "name": "stderr",
     "output_type": "stream",
     "text": [
      "Scraping quotes:  99%|█████████▊| 1006/1020 [29:14<00:22,  1.62s/it]"
     ]
    },
    {
     "name": "stdout",
     "output_type": "stream",
     "text": [
      "200\n"
     ]
    },
    {
     "name": "stderr",
     "output_type": "stream",
     "text": [
      "Scraping quotes:  99%|█████████▊| 1007/1020 [29:16<00:19,  1.51s/it]"
     ]
    },
    {
     "name": "stdout",
     "output_type": "stream",
     "text": [
      "200\n"
     ]
    },
    {
     "name": "stderr",
     "output_type": "stream",
     "text": [
      "Scraping quotes:  99%|█████████▉| 1008/1020 [29:19<00:23,  1.97s/it]"
     ]
    },
    {
     "name": "stdout",
     "output_type": "stream",
     "text": [
      "200\n"
     ]
    },
    {
     "name": "stderr",
     "output_type": "stream",
     "text": [
      "Scraping quotes:  99%|█████████▉| 1009/1020 [29:21<00:22,  2.08s/it]"
     ]
    },
    {
     "name": "stdout",
     "output_type": "stream",
     "text": [
      "200\n"
     ]
    },
    {
     "name": "stderr",
     "output_type": "stream",
     "text": [
      "Scraping quotes:  99%|█████████▉| 1010/1020 [29:23<00:19,  1.90s/it]"
     ]
    },
    {
     "name": "stdout",
     "output_type": "stream",
     "text": [
      "200\n"
     ]
    },
    {
     "name": "stderr",
     "output_type": "stream",
     "text": [
      "Scraping quotes:  99%|█████████▉| 1011/1020 [29:24<00:14,  1.62s/it]"
     ]
    },
    {
     "name": "stdout",
     "output_type": "stream",
     "text": [
      "200\n"
     ]
    },
    {
     "name": "stderr",
     "output_type": "stream",
     "text": [
      "Scraping quotes:  99%|█████████▉| 1012/1020 [29:25<00:11,  1.48s/it]"
     ]
    },
    {
     "name": "stdout",
     "output_type": "stream",
     "text": [
      "200\n"
     ]
    },
    {
     "name": "stderr",
     "output_type": "stream",
     "text": [
      "Scraping quotes:  99%|█████████▉| 1013/1020 [29:26<00:10,  1.49s/it]"
     ]
    },
    {
     "name": "stdout",
     "output_type": "stream",
     "text": [
      "200\n"
     ]
    },
    {
     "name": "stderr",
     "output_type": "stream",
     "text": [
      "Scraping quotes:  99%|█████████▉| 1014/1020 [29:28<00:10,  1.71s/it]"
     ]
    },
    {
     "name": "stdout",
     "output_type": "stream",
     "text": [
      "200\n"
     ]
    },
    {
     "name": "stderr",
     "output_type": "stream",
     "text": [
      "Scraping quotes: 100%|█████████▉| 1015/1020 [29:30<00:08,  1.60s/it]"
     ]
    },
    {
     "name": "stdout",
     "output_type": "stream",
     "text": [
      "200\n"
     ]
    },
    {
     "name": "stderr",
     "output_type": "stream",
     "text": [
      "Scraping quotes: 100%|█████████▉| 1016/1020 [29:31<00:06,  1.51s/it]"
     ]
    },
    {
     "name": "stdout",
     "output_type": "stream",
     "text": [
      "200\n"
     ]
    },
    {
     "name": "stderr",
     "output_type": "stream",
     "text": [
      "Scraping quotes: 100%|█████████▉| 1018/1020 [29:34<00:03,  1.67s/it]"
     ]
    },
    {
     "name": "stdout",
     "output_type": "stream",
     "text": [
      "500\n",
      "Error scraping {'country': 'UK', 'region': 'gb', 'crypto_name': 'Ethereum Mainnet', 'payment_name': 'PSE', 'regionId': '/regions/gb', 'paymentMethodId': '/payments/pse', 'cryptoCurrencyId': '/currencies/crypto/1/0x0000000000000000000000000000000000000000', 'fiatCurrencyId': '/currencies/fiat/gbp', 'amount': 25619, 'request_time': datetime.datetime(2024, 8, 2, 22, 12, 32, 272883)}\n",
      "'success'\n",
      "\n"
     ]
    },
    {
     "name": "stderr",
     "output_type": "stream",
     "text": [
      "Scraping quotes: 100%|█████████▉| 1019/1020 [29:36<00:01,  1.51s/it]"
     ]
    },
    {
     "name": "stdout",
     "output_type": "stream",
     "text": [
      "500\n",
      "Error scraping {'country': 'UK', 'region': 'gb', 'crypto_name': 'USDT (Ethereum)', 'payment_name': 'PSE', 'regionId': '/regions/gb', 'paymentMethodId': '/payments/pse', 'cryptoCurrencyId': '/currencies/crypto/1/0xdac17f958d2ee523a2206206994597c13d831ec7', 'fiatCurrencyId': '/currencies/fiat/gbp', 'amount': 25619, 'request_time': datetime.datetime(2024, 8, 2, 22, 12, 34, 685500)}\n",
      "'success'\n",
      "\n"
     ]
    },
    {
     "name": "stderr",
     "output_type": "stream",
     "text": [
      "Scraping quotes: 100%|██████████| 1020/1020 [29:38<00:00,  1.88s/it]"
     ]
    },
    {
     "name": "stdout",
     "output_type": "stream",
     "text": [
      "500\n",
      "Error scraping {'country': 'UK', 'region': 'gb', 'crypto_name': 'USDT (BNB Chain)', 'payment_name': 'PSE', 'regionId': '/regions/gb', 'paymentMethodId': '/payments/pse', 'cryptoCurrencyId': '/currencies/crypto/56/0x55d398326f99059ff775485246999027b3197955', 'fiatCurrencyId': '/currencies/fiat/gbp', 'amount': 25619, 'request_time': datetime.datetime(2024, 8, 2, 22, 12, 35, 816674)}\n",
      "'success'\n",
      "\n"
     ]
    },
    {
     "name": "stderr",
     "output_type": "stream",
     "text": [
      "Scraping quotes: 100%|██████████| 1020/1020 [29:38<00:00,  1.74s/it]\n"
     ]
    }
   ],
   "source": [
    "import time \n",
    "from tqdm import tqdm\n",
    "\n",
    "total_iterations = len(bin_midpoints) * len(quote_base_params)\n",
    "with tqdm(total=total_iterations, desc=\"Scraping quotes\") as pbar:\n",
    "    for bin in bin_midpoints:\n",
    "        for quote_param in quote_base_params:\n",
    "            r = scrape_one_quote(\n",
    "                quote_params=quote_param\n",
    "                , amount=bin[\"midpoint\"]\n",
    "                , endpoint=QUOTE_API\n",
    "                , data_folder=DATA_FOLDER\n",
    "            )\n",
    "            # to not overload the API\n",
    "            time.sleep(0.2)\n",
    "            pbar.update(1)"
   ]
  },
  {
   "cell_type": "code",
   "execution_count": 29,
   "metadata": {},
   "outputs": [
    {
     "data": {
      "text/plain": [
       "{'country': 'US',\n",
       " 'region': 'us-fl',\n",
       " 'crypto_name': 'USDT (BNB Chain)',\n",
       " 'payment_name': 'Debit or Credit',\n",
       " 'scrape_params': {'regionId': '/regions/us-fl',\n",
       "  'paymentMethodId': '/payments/debit-credit-card',\n",
       "  'cryptoCurrencyId': '/currencies/crypto/56/0x55d398326f99059ff775485246999027b3197955',\n",
       "  'fiatCurrencyId': '/currencies/fiat/usd'}}"
      ]
     },
     "execution_count": 29,
     "metadata": {},
     "output_type": "execute_result"
    }
   ],
   "source": [
    "quote_base_params[20]"
   ]
  },
  {
   "cell_type": "code",
   "execution_count": 22,
   "metadata": {},
   "outputs": [
    {
     "name": "stdout",
     "output_type": "stream",
     "text": [
      "200\n"
     ]
    }
   ],
   "source": [
    "r = scrape_and_persist_quote(quote_base_params[20]\n",
    "                    , amount= 36                \n",
    "                    , endpoint=QUOTE_API\n",
    "                    , data_folder=DATA_FOLDER\n",
    "                    )"
   ]
  },
  {
   "cell_type": "markdown",
   "metadata": {},
   "source": [
    "# Load to BigQuery"
   ]
  },
  {
   "cell_type": "code",
   "execution_count": 24,
   "metadata": {},
   "outputs": [
    {
     "data": {
      "text/html": [
       "<div><style>\n",
       ".dataframe > thead > tr,\n",
       ".dataframe > tbody > tr {\n",
       "  text-align: right;\n",
       "  white-space: pre-wrap;\n",
       "}\n",
       "</style>\n",
       "<small>shape: (23, 29)</small><table border=\"1\" class=\"dataframe\"><thead><tr><th>provider</th><th>amountIn</th><th>amountOut</th><th>exchangeRate</th><th>networkFee</th><th>providerFee</th><th>extraFee</th><th>bestRate</th><th>decimals</th><th>name</th><th>symbol</th><th>chainId</th><th>chainName</th><th>shortName</th><th>position</th><th>has_quote</th><th>regionId</th><th>country</th><th>region</th><th>crypto_name</th><th>payment_name</th><th>paymentMethodId</th><th>cryptoCurrencyId</th><th>fiatCurrencyId</th><th>amount</th><th>request_time</th><th>amountOutFiat</th><th>TotalFee</th><th>spreadFee</th></tr><tr><td>str</td><td>f64</td><td>f64</td><td>f64</td><td>f64</td><td>f64</td><td>f64</td><td>bool</td><td>i32</td><td>str</td><td>str</td><td>str</td><td>str</td><td>str</td><td>i32</td><td>bool</td><td>str</td><td>str</td><td>str</td><td>str</td><td>str</td><td>str</td><td>str</td><td>str</td><td>f64</td><td>datetime[μs]</td><td>f64</td><td>f64</td><td>f64</td></tr></thead><tbody><tr><td>&quot;/providers/unlimitmeld&quot;</td><td>36.0</td><td>34.261049</td><td>0.99851</td><td>0.2</td><td>1.59</td><td>0.0</td><td>true</td><td>18</td><td>&quot;Tether USD&quot;</td><td>&quot;USDT&quot;</td><td>&quot;56&quot;</td><td>&quot;BNB Chain Mainnet&quot;</td><td>&quot;BNB Chain&quot;</td><td>1</td><td>true</td><td>&quot;/regions/us-fl&quot;</td><td>&quot;US&quot;</td><td>&quot;us-fl&quot;</td><td>&quot;USDT (BNB Chain)&quot;</td><td>&quot;Debit or Credit&quot;</td><td>&quot;/payments/debit-credit-card&quot;</td><td>&quot;/currencies/crypto/56/0x55d398…</td><td>&quot;/currencies/fiat/usd&quot;</td><td>36.0</td><td>2024-08-03 10:54:09.817135</td><td>34.21</td><td>1.79</td><td>-8.8818e-16</td></tr><tr><td>&quot;/providers/moonpay&quot;</td><td>36.0</td><td>34.0</td><td>1.019118</td><td>0.01</td><td>1.34</td><td>0.0</td><td>false</td><td>18</td><td>&quot;Tether USD&quot;</td><td>&quot;USDT&quot;</td><td>&quot;56&quot;</td><td>&quot;BNB Chain Mainnet&quot;</td><td>&quot;BNB Chain&quot;</td><td>2</td><td>true</td><td>&quot;/regions/us-fl&quot;</td><td>&quot;US&quot;</td><td>&quot;us-fl&quot;</td><td>&quot;USDT (BNB Chain)&quot;</td><td>&quot;Debit or Credit&quot;</td><td>&quot;/payments/debit-credit-card&quot;</td><td>&quot;/currencies/crypto/56/0x55d398…</td><td>&quot;/currencies/fiat/usd&quot;</td><td>36.0</td><td>2024-08-03 10:54:09.817135</td><td>34.65</td><td>1.35</td><td>1.3323e-15</td></tr><tr><td>&quot;/providers/moonpay-b&quot;</td><td>36.0</td><td>34.0</td><td>1.019118</td><td>0.01</td><td>1.34</td><td>0.0</td><td>false</td><td>18</td><td>&quot;Tether USD&quot;</td><td>&quot;USDT&quot;</td><td>&quot;56&quot;</td><td>&quot;BNB Chain Mainnet&quot;</td><td>&quot;BNB Chain&quot;</td><td>3</td><td>true</td><td>&quot;/regions/us-fl&quot;</td><td>&quot;US&quot;</td><td>&quot;us-fl&quot;</td><td>&quot;USDT (BNB Chain)&quot;</td><td>&quot;Debit or Credit&quot;</td><td>&quot;/payments/debit-credit-card&quot;</td><td>&quot;/currencies/crypto/56/0x55d398…</td><td>&quot;/currencies/fiat/usd&quot;</td><td>36.0</td><td>2024-08-03 10:54:09.817135</td><td>34.65</td><td>1.35</td><td>1.3323e-15</td></tr><tr><td>&quot;/providers/transak-b&quot;</td><td>36.0</td><td>33.98</td><td>1.01648</td><td>0.2</td><td>1.26</td><td>0.0</td><td>false</td><td>18</td><td>&quot;Tether USD&quot;</td><td>&quot;USDT&quot;</td><td>&quot;56&quot;</td><td>&quot;BNB Chain Mainnet&quot;</td><td>&quot;BNB Chain&quot;</td><td>4</td><td>true</td><td>&quot;/regions/us-fl&quot;</td><td>&quot;US&quot;</td><td>&quot;us-fl&quot;</td><td>&quot;USDT (BNB Chain)&quot;</td><td>&quot;Debit or Credit&quot;</td><td>&quot;/payments/debit-credit-card&quot;</td><td>&quot;/currencies/crypto/56/0x55d398…</td><td>&quot;/currencies/fiat/usd&quot;</td><td>36.0</td><td>2024-08-03 10:54:09.817135</td><td>34.54</td><td>1.46</td><td>8.8818e-16</td></tr><tr><td>&quot;/providers/transak&quot;</td><td>36.0</td><td>32.8</td><td>1.017073</td><td>0.2</td><td>2.44</td><td>0.0</td><td>false</td><td>18</td><td>&quot;Tether USD&quot;</td><td>&quot;USDT&quot;</td><td>&quot;56&quot;</td><td>&quot;BNB Chain Mainnet&quot;</td><td>&quot;BNB Chain&quot;</td><td>5</td><td>true</td><td>&quot;/regions/us-fl&quot;</td><td>&quot;US&quot;</td><td>&quot;us-fl&quot;</td><td>&quot;USDT (BNB Chain)&quot;</td><td>&quot;Debit or Credit&quot;</td><td>&quot;/payments/debit-credit-card&quot;</td><td>&quot;/currencies/crypto/56/0x55d398…</td><td>&quot;/currencies/fiat/usd&quot;</td><td>36.0</td><td>2024-08-03 10:54:09.817135</td><td>33.36</td><td>2.64</td><td>4.4409e-16</td></tr><tr><td>&hellip;</td><td>&hellip;</td><td>&hellip;</td><td>&hellip;</td><td>&hellip;</td><td>&hellip;</td><td>&hellip;</td><td>&hellip;</td><td>&hellip;</td><td>&hellip;</td><td>&hellip;</td><td>&hellip;</td><td>&hellip;</td><td>&hellip;</td><td>&hellip;</td><td>&hellip;</td><td>&hellip;</td><td>&hellip;</td><td>&hellip;</td><td>&hellip;</td><td>&hellip;</td><td>&hellip;</td><td>&hellip;</td><td>&hellip;</td><td>&hellip;</td><td>&hellip;</td><td>&hellip;</td><td>&hellip;</td><td>&hellip;</td></tr><tr><td>&quot;/providers/koywe&quot;</td><td>null</td><td>null</td><td>null</td><td>null</td><td>null</td><td>null</td><td>false</td><td>null</td><td>null</td><td>null</td><td>null</td><td>null</td><td>null</td><td>null</td><td>false</td><td>&quot;/regions/us-fl&quot;</td><td>&quot;US&quot;</td><td>&quot;us-fl&quot;</td><td>&quot;USDT (BNB Chain)&quot;</td><td>&quot;Debit or Credit&quot;</td><td>&quot;/payments/debit-credit-card&quot;</td><td>&quot;/currencies/crypto/56/0x55d398…</td><td>&quot;/currencies/fiat/usd&quot;</td><td>36.0</td><td>2024-08-03 10:54:09.817135</td><td>null</td><td>null</td><td>null</td></tr><tr><td>&quot;/providers/robinhood&quot;</td><td>null</td><td>null</td><td>null</td><td>null</td><td>null</td><td>null</td><td>false</td><td>null</td><td>null</td><td>null</td><td>null</td><td>null</td><td>null</td><td>null</td><td>false</td><td>&quot;/regions/us-fl&quot;</td><td>&quot;US&quot;</td><td>&quot;us-fl&quot;</td><td>&quot;USDT (BNB Chain)&quot;</td><td>&quot;Debit or Credit&quot;</td><td>&quot;/payments/debit-credit-card&quot;</td><td>&quot;/currencies/crypto/56/0x55d398…</td><td>&quot;/currencies/fiat/usd&quot;</td><td>36.0</td><td>2024-08-03 10:54:09.817135</td><td>null</td><td>null</td><td>null</td></tr><tr><td>&quot;/providers/stripe&quot;</td><td>null</td><td>null</td><td>null</td><td>null</td><td>null</td><td>null</td><td>false</td><td>null</td><td>null</td><td>null</td><td>null</td><td>null</td><td>null</td><td>null</td><td>false</td><td>&quot;/regions/us-fl&quot;</td><td>&quot;US&quot;</td><td>&quot;us-fl&quot;</td><td>&quot;USDT (BNB Chain)&quot;</td><td>&quot;Debit or Credit&quot;</td><td>&quot;/payments/debit-credit-card&quot;</td><td>&quot;/currencies/crypto/56/0x55d398…</td><td>&quot;/currencies/fiat/usd&quot;</td><td>36.0</td><td>2024-08-03 10:54:09.817135</td><td>null</td><td>null</td><td>null</td></tr><tr><td>&quot;/providers/blockchaindotcom&quot;</td><td>null</td><td>null</td><td>null</td><td>null</td><td>null</td><td>null</td><td>false</td><td>null</td><td>null</td><td>null</td><td>null</td><td>null</td><td>null</td><td>null</td><td>false</td><td>&quot;/regions/us-fl&quot;</td><td>&quot;US&quot;</td><td>&quot;us-fl&quot;</td><td>&quot;USDT (BNB Chain)&quot;</td><td>&quot;Debit or Credit&quot;</td><td>&quot;/payments/debit-credit-card&quot;</td><td>&quot;/currencies/crypto/56/0x55d398…</td><td>&quot;/currencies/fiat/usd&quot;</td><td>36.0</td><td>2024-08-03 10:54:09.817135</td><td>null</td><td>null</td><td>null</td></tr><tr><td>&quot;/providers/circle&quot;</td><td>null</td><td>null</td><td>null</td><td>null</td><td>null</td><td>null</td><td>false</td><td>null</td><td>null</td><td>null</td><td>null</td><td>null</td><td>null</td><td>null</td><td>false</td><td>&quot;/regions/us-fl&quot;</td><td>&quot;US&quot;</td><td>&quot;us-fl&quot;</td><td>&quot;USDT (BNB Chain)&quot;</td><td>&quot;Debit or Credit&quot;</td><td>&quot;/payments/debit-credit-card&quot;</td><td>&quot;/currencies/crypto/56/0x55d398…</td><td>&quot;/currencies/fiat/usd&quot;</td><td>36.0</td><td>2024-08-03 10:54:09.817135</td><td>null</td><td>null</td><td>null</td></tr></tbody></table></div>"
      ],
      "text/plain": [
       "shape: (23, 29)\n",
       "┌────────────┬──────────┬───────────┬───────────┬───┬───────────┬───────────┬──────────┬───────────┐\n",
       "│ provider   ┆ amountIn ┆ amountOut ┆ exchangeR ┆ … ┆ request_t ┆ amountOut ┆ TotalFee ┆ spreadFee │\n",
       "│ ---        ┆ ---      ┆ ---       ┆ ate       ┆   ┆ ime       ┆ Fiat      ┆ ---      ┆ ---       │\n",
       "│ str        ┆ f64      ┆ f64       ┆ ---       ┆   ┆ ---       ┆ ---       ┆ f64      ┆ f64       │\n",
       "│            ┆          ┆           ┆ f64       ┆   ┆ datetime[ ┆ f64       ┆          ┆           │\n",
       "│            ┆          ┆           ┆           ┆   ┆ μs]       ┆           ┆          ┆           │\n",
       "╞════════════╪══════════╪═══════════╪═══════════╪═══╪═══════════╪═══════════╪══════════╪═══════════╡\n",
       "│ /providers ┆ 36.0     ┆ 34.261049 ┆ 0.99851   ┆ … ┆ 2024-08-0 ┆ 34.21     ┆ 1.79     ┆ -8.8818e- │\n",
       "│ /unlimitme ┆          ┆           ┆           ┆   ┆ 3 10:54:0 ┆           ┆          ┆ 16        │\n",
       "│ ld         ┆          ┆           ┆           ┆   ┆ 9.817135  ┆           ┆          ┆           │\n",
       "│ /providers ┆ 36.0     ┆ 34.0      ┆ 1.019118  ┆ … ┆ 2024-08-0 ┆ 34.65     ┆ 1.35     ┆ 1.3323e-1 │\n",
       "│ /moonpay   ┆          ┆           ┆           ┆   ┆ 3 10:54:0 ┆           ┆          ┆ 5         │\n",
       "│            ┆          ┆           ┆           ┆   ┆ 9.817135  ┆           ┆          ┆           │\n",
       "│ /providers ┆ 36.0     ┆ 34.0      ┆ 1.019118  ┆ … ┆ 2024-08-0 ┆ 34.65     ┆ 1.35     ┆ 1.3323e-1 │\n",
       "│ /moonpay-b ┆          ┆           ┆           ┆   ┆ 3 10:54:0 ┆           ┆          ┆ 5         │\n",
       "│            ┆          ┆           ┆           ┆   ┆ 9.817135  ┆           ┆          ┆           │\n",
       "│ /providers ┆ 36.0     ┆ 33.98     ┆ 1.01648   ┆ … ┆ 2024-08-0 ┆ 34.54     ┆ 1.46     ┆ 8.8818e-1 │\n",
       "│ /transak-b ┆          ┆           ┆           ┆   ┆ 3 10:54:0 ┆           ┆          ┆ 6         │\n",
       "│            ┆          ┆           ┆           ┆   ┆ 9.817135  ┆           ┆          ┆           │\n",
       "│ /providers ┆ 36.0     ┆ 32.8      ┆ 1.017073  ┆ … ┆ 2024-08-0 ┆ 33.36     ┆ 2.64     ┆ 4.4409e-1 │\n",
       "│ /transak   ┆          ┆           ┆           ┆   ┆ 3 10:54:0 ┆           ┆          ┆ 6         │\n",
       "│            ┆          ┆           ┆           ┆   ┆ 9.817135  ┆           ┆          ┆           │\n",
       "│ …          ┆ …        ┆ …         ┆ …         ┆ … ┆ …         ┆ …         ┆ …        ┆ …         │\n",
       "│ /providers ┆ null     ┆ null      ┆ null      ┆ … ┆ 2024-08-0 ┆ null      ┆ null     ┆ null      │\n",
       "│ /koywe     ┆          ┆           ┆           ┆   ┆ 3 10:54:0 ┆           ┆          ┆           │\n",
       "│            ┆          ┆           ┆           ┆   ┆ 9.817135  ┆           ┆          ┆           │\n",
       "│ /providers ┆ null     ┆ null      ┆ null      ┆ … ┆ 2024-08-0 ┆ null      ┆ null     ┆ null      │\n",
       "│ /robinhood ┆          ┆           ┆           ┆   ┆ 3 10:54:0 ┆           ┆          ┆           │\n",
       "│            ┆          ┆           ┆           ┆   ┆ 9.817135  ┆           ┆          ┆           │\n",
       "│ /providers ┆ null     ┆ null      ┆ null      ┆ … ┆ 2024-08-0 ┆ null      ┆ null     ┆ null      │\n",
       "│ /stripe    ┆          ┆           ┆           ┆   ┆ 3 10:54:0 ┆           ┆          ┆           │\n",
       "│            ┆          ┆           ┆           ┆   ┆ 9.817135  ┆           ┆          ┆           │\n",
       "│ /providers ┆ null     ┆ null      ┆ null      ┆ … ┆ 2024-08-0 ┆ null      ┆ null     ┆ null      │\n",
       "│ /blockchai ┆          ┆           ┆           ┆   ┆ 3 10:54:0 ┆           ┆          ┆           │\n",
       "│ ndotcom    ┆          ┆           ┆           ┆   ┆ 9.817135  ┆           ┆          ┆           │\n",
       "│ /providers ┆ null     ┆ null      ┆ null      ┆ … ┆ 2024-08-0 ┆ null      ┆ null     ┆ null      │\n",
       "│ /circle    ┆          ┆           ┆           ┆   ┆ 3 10:54:0 ┆           ┆          ┆           │\n",
       "│            ┆          ┆           ┆           ┆   ┆ 9.817135  ┆           ┆          ┆           │\n",
       "└────────────┴──────────┴───────────┴───────────┴───┴───────────┴───────────┴──────────┴───────────┘"
      ]
     },
     "execution_count": 24,
     "metadata": {},
     "output_type": "execute_result"
    }
   ],
   "source": [
    "(\n",
    "    pl.read_parquet(\"data/*.parquet\")\n",
    ")"
   ]
  }
 ],
 "metadata": {
  "kernelspec": {
   "display_name": "venv",
   "language": "python",
   "name": "python3"
  },
  "language_info": {
   "codemirror_mode": {
    "name": "ipython",
    "version": 3
   },
   "file_extension": ".py",
   "mimetype": "text/x-python",
   "name": "python",
   "nbconvert_exporter": "python",
   "pygments_lexer": "ipython3",
   "version": "3.11.4"
  }
 },
 "nbformat": 4,
 "nbformat_minor": 2
}
