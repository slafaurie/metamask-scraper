{
 "cells": [
  {
   "cell_type": "code",
   "execution_count": 3,
   "metadata": {},
   "outputs": [],
   "source": [
    "import polars as pl\n",
    "from pathlib import Path \n",
    "\n",
    "DATA_FOLDER = Path('data')\n",
    "\n",
    "\n"
   ]
  },
  {
   "cell_type": "code",
   "execution_count": 5,
   "metadata": {},
   "outputs": [],
   "source": [
    "df = pl.read_parquet(DATA_FOLDER.glob(\"*.parquet\"))"
   ]
  },
  {
   "cell_type": "code",
   "execution_count": 6,
   "metadata": {},
   "outputs": [
    {
     "data": {
      "text/html": [
       "<div><style>\n",
       ".dataframe > thead > tr,\n",
       ".dataframe > tbody > tr {\n",
       "  text-align: right;\n",
       "  white-space: pre-wrap;\n",
       "}\n",
       "</style>\n",
       "<small>shape: (2, 2)</small><table border=\"1\" class=\"dataframe\"><thead><tr><th>has_quote</th><th>len</th></tr><tr><td>bool</td><td>u32</td></tr></thead><tbody><tr><td>false</td><td>16858</td></tr><tr><td>true</td><td>7568</td></tr></tbody></table></div>"
      ],
      "text/plain": [
       "shape: (2, 2)\n",
       "┌───────────┬───────┐\n",
       "│ has_quote ┆ len   │\n",
       "│ ---       ┆ ---   │\n",
       "│ bool      ┆ u32   │\n",
       "╞═══════════╪═══════╡\n",
       "│ false     ┆ 16858 │\n",
       "│ true      ┆ 7568  │\n",
       "└───────────┴───────┘"
      ]
     },
     "execution_count": 6,
     "metadata": {},
     "output_type": "execute_result"
    }
   ],
   "source": [
    "df.group_by(\"has_quote\").agg(pl.len())"
   ]
  },
  {
   "cell_type": "code",
   "execution_count": 10,
   "metadata": {},
   "outputs": [
    {
     "data": {
      "text/html": [
       "<div><style>\n",
       ".dataframe > thead > tr,\n",
       ".dataframe > tbody > tr {\n",
       "  text-align: right;\n",
       "  white-space: pre-wrap;\n",
       "}\n",
       "</style>\n",
       "<small>shape: (7_568, 21)</small><table border=\"1\" class=\"dataframe\"><thead><tr><th>provider</th><th>amountIn</th><th>amountOut</th><th>exchangeRate</th><th>networkFee</th><th>providerFee</th><th>bestRate</th><th>position</th><th>has_quote</th><th>regionId</th><th>country</th><th>region</th><th>crypto_name</th><th>payment_name</th><th>paymentMethodId</th><th>cryptoCurrencyId</th><th>fiatCurrencyId</th><th>amount</th><th>request_time</th><th>amountOutFiat</th><th>TotalFee</th></tr><tr><td>str</td><td>f64</td><td>f64</td><td>f64</td><td>f64</td><td>f64</td><td>bool</td><td>i32</td><td>bool</td><td>str</td><td>str</td><td>str</td><td>str</td><td>str</td><td>str</td><td>str</td><td>str</td><td>f64</td><td>datetime[μs]</td><td>f64</td><td>f64</td></tr></thead><tbody><tr><td>&quot;/providers/banxa&quot;</td><td>102.0</td><td>0.036426</td><td>2789.491023</td><td>0.39</td><td>0.0</td><td>true</td><td>1</td><td>true</td><td>&quot;/regions/de&quot;</td><td>&quot;DE&quot;</td><td>&quot;de&quot;</td><td>&quot;Ethereum Mainnet&quot;</td><td>&quot;Apple Pay&quot;</td><td>&quot;/payments/apple-pay&quot;</td><td>&quot;/currencies/crypto/1/0x0000000…</td><td>&quot;/currencies/fiat/eur&quot;</td><td>102.0</td><td>2024-08-02 18:49:28.938830</td><td>101.61</td><td>0.39</td></tr><tr><td>&quot;/providers/mercuryo&quot;</td><td>102.0</td><td>0.03625</td><td>2770.180535</td><td>0.1264</td><td>1.4536</td><td>false</td><td>2</td><td>true</td><td>&quot;/regions/de&quot;</td><td>&quot;DE&quot;</td><td>&quot;de&quot;</td><td>&quot;Ethereum Mainnet&quot;</td><td>&quot;Apple Pay&quot;</td><td>&quot;/payments/apple-pay&quot;</td><td>&quot;/currencies/crypto/1/0x0000000…</td><td>&quot;/currencies/fiat/eur&quot;</td><td>102.0</td><td>2024-08-02 18:49:28.938830</td><td>100.42</td><td>1.58</td></tr><tr><td>&quot;/providers/sardine&quot;</td><td>102.0</td><td>0.036162</td><td>2810.011144</td><td>0.3849804</td><td>0.0</td><td>false</td><td>3</td><td>true</td><td>&quot;/regions/de&quot;</td><td>&quot;DE&quot;</td><td>&quot;de&quot;</td><td>&quot;Ethereum Mainnet&quot;</td><td>&quot;Apple Pay&quot;</td><td>&quot;/payments/apple-pay&quot;</td><td>&quot;/currencies/crypto/1/0x0000000…</td><td>&quot;/currencies/fiat/eur&quot;</td><td>102.0</td><td>2024-08-02 18:49:28.938830</td><td>101.61502</td><td>0.38498</td></tr><tr><td>&quot;/providers/sardine-b&quot;</td><td>102.0</td><td>0.036053</td><td>2818.5158</td><td>0.3849804</td><td>0.0</td><td>false</td><td>4</td><td>true</td><td>&quot;/regions/de&quot;</td><td>&quot;DE&quot;</td><td>&quot;de&quot;</td><td>&quot;Ethereum Mainnet&quot;</td><td>&quot;Apple Pay&quot;</td><td>&quot;/payments/apple-pay&quot;</td><td>&quot;/currencies/crypto/1/0x0000000…</td><td>&quot;/currencies/fiat/eur&quot;</td><td>102.0</td><td>2024-08-02 18:49:28.938830</td><td>101.61502</td><td>0.38498</td></tr><tr><td>&quot;/providers/unlimitmeld&quot;</td><td>102.0</td><td>0.035858</td><td>2786.270388</td><td>1.12</td><td>0.97</td><td>false</td><td>5</td><td>true</td><td>&quot;/regions/de&quot;</td><td>&quot;DE&quot;</td><td>&quot;de&quot;</td><td>&quot;Ethereum Mainnet&quot;</td><td>&quot;Apple Pay&quot;</td><td>&quot;/payments/apple-pay&quot;</td><td>&quot;/currencies/crypto/1/0x0000000…</td><td>&quot;/currencies/fiat/eur&quot;</td><td>102.0</td><td>2024-08-02 18:49:28.938830</td><td>99.91</td><td>2.09</td></tr><tr><td>&hellip;</td><td>&hellip;</td><td>&hellip;</td><td>&hellip;</td><td>&hellip;</td><td>&hellip;</td><td>&hellip;</td><td>&hellip;</td><td>&hellip;</td><td>&hellip;</td><td>&hellip;</td><td>&hellip;</td><td>&hellip;</td><td>&hellip;</td><td>&hellip;</td><td>&hellip;</td><td>&hellip;</td><td>&hellip;</td><td>&hellip;</td><td>&hellip;</td><td>&hellip;</td></tr><tr><td>&quot;/providers/moonpay-b&quot;</td><td>25619.0</td><td>24627.65</td><td>1.005025</td><td>1.29</td><td>866.3</td><td>false</td><td>2</td><td>true</td><td>&quot;/regions/us-fl&quot;</td><td>&quot;US&quot;</td><td>&quot;us-fl&quot;</td><td>&quot;USDT (Ethereum)&quot;</td><td>&quot;ACH Bank Transfer&quot;</td><td>&quot;/payments/ach-bank-transfer&quot;</td><td>&quot;/currencies/crypto/1/0xdac17f9…</td><td>&quot;/currencies/fiat/usd&quot;</td><td>25619.0</td><td>2024-08-02 22:12:06.874340</td><td>24751.41</td><td>867.59</td></tr><tr><td>&quot;/providers/sardine-b&quot;</td><td>25619.0</td><td>24778.045804</td><td>1.033929</td><td>0.26</td><td>0.0</td><td>true</td><td>1</td><td>true</td><td>&quot;/regions/us-fl&quot;</td><td>&quot;US&quot;</td><td>&quot;us-fl&quot;</td><td>&quot;USDT (Ethereum)&quot;</td><td>&quot;Instant ACH Bank Transfer&quot;</td><td>&quot;/payments/instant-bank-transfe…</td><td>&quot;/currencies/crypto/1/0xdac17f9…</td><td>&quot;/currencies/fiat/usd&quot;</td><td>25619.0</td><td>2024-08-02 22:12:02.384059</td><td>25618.74</td><td>0.26</td></tr><tr><td>&quot;/providers/sardine&quot;</td><td>25619.0</td><td>24678.859231</td><td>1.038084</td><td>0.26</td><td>0.0</td><td>false</td><td>2</td><td>true</td><td>&quot;/regions/us-fl&quot;</td><td>&quot;US&quot;</td><td>&quot;us-fl&quot;</td><td>&quot;USDT (Ethereum)&quot;</td><td>&quot;Instant ACH Bank Transfer&quot;</td><td>&quot;/payments/instant-bank-transfe…</td><td>&quot;/currencies/crypto/1/0xdac17f9…</td><td>&quot;/currencies/fiat/usd&quot;</td><td>25619.0</td><td>2024-08-02 22:12:02.384059</td><td>25618.74</td><td>0.26</td></tr><tr><td>&quot;/providers/moonpay&quot;</td><td>25619.0</td><td>24568.31</td><td>1.005025</td><td>1.29</td><td>925.94</td><td>true</td><td>1</td><td>true</td><td>&quot;/regions/us-fl&quot;</td><td>&quot;US&quot;</td><td>&quot;us-fl&quot;</td><td>&quot;USDT (Ethereum)&quot;</td><td>&quot;PayPal&quot;</td><td>&quot;/payments/paypal&quot;</td><td>&quot;/currencies/crypto/1/0xdac17f9…</td><td>&quot;/currencies/fiat/usd&quot;</td><td>25619.0</td><td>2024-08-02 22:11:59.620066</td><td>24691.77</td><td>927.23</td></tr><tr><td>&quot;/providers/moonpay-b&quot;</td><td>25619.0</td><td>24568.31</td><td>1.005025</td><td>1.29</td><td>925.94</td><td>false</td><td>2</td><td>true</td><td>&quot;/regions/us-fl&quot;</td><td>&quot;US&quot;</td><td>&quot;us-fl&quot;</td><td>&quot;USDT (Ethereum)&quot;</td><td>&quot;PayPal&quot;</td><td>&quot;/payments/paypal&quot;</td><td>&quot;/currencies/crypto/1/0xdac17f9…</td><td>&quot;/currencies/fiat/usd&quot;</td><td>25619.0</td><td>2024-08-02 22:11:59.620066</td><td>24691.77</td><td>927.23</td></tr></tbody></table></div>"
      ],
      "text/plain": [
       "shape: (7_568, 21)\n",
       "┌────────────┬──────────┬────────────┬────────────┬───┬─────────┬───────────┬───────────┬──────────┐\n",
       "│ provider   ┆ amountIn ┆ amountOut  ┆ exchangeRa ┆ … ┆ amount  ┆ request_t ┆ amountOut ┆ TotalFee │\n",
       "│ ---        ┆ ---      ┆ ---        ┆ te         ┆   ┆ ---     ┆ ime       ┆ Fiat      ┆ ---      │\n",
       "│ str        ┆ f64      ┆ f64        ┆ ---        ┆   ┆ f64     ┆ ---       ┆ ---       ┆ f64      │\n",
       "│            ┆          ┆            ┆ f64        ┆   ┆         ┆ datetime[ ┆ f64       ┆          │\n",
       "│            ┆          ┆            ┆            ┆   ┆         ┆ μs]       ┆           ┆          │\n",
       "╞════════════╪══════════╪════════════╪════════════╪═══╪═════════╪═══════════╪═══════════╪══════════╡\n",
       "│ /providers ┆ 102.0    ┆ 0.036426   ┆ 2789.49102 ┆ … ┆ 102.0   ┆ 2024-08-0 ┆ 101.61    ┆ 0.39     │\n",
       "│ /banxa     ┆          ┆            ┆ 3          ┆   ┆         ┆ 2 18:49:2 ┆           ┆          │\n",
       "│            ┆          ┆            ┆            ┆   ┆         ┆ 8.938830  ┆           ┆          │\n",
       "│ /providers ┆ 102.0    ┆ 0.03625    ┆ 2770.18053 ┆ … ┆ 102.0   ┆ 2024-08-0 ┆ 100.42    ┆ 1.58     │\n",
       "│ /mercuryo  ┆          ┆            ┆ 5          ┆   ┆         ┆ 2 18:49:2 ┆           ┆          │\n",
       "│            ┆          ┆            ┆            ┆   ┆         ┆ 8.938830  ┆           ┆          │\n",
       "│ /providers ┆ 102.0    ┆ 0.036162   ┆ 2810.01114 ┆ … ┆ 102.0   ┆ 2024-08-0 ┆ 101.61502 ┆ 0.38498  │\n",
       "│ /sardine   ┆          ┆            ┆ 4          ┆   ┆         ┆ 2 18:49:2 ┆           ┆          │\n",
       "│            ┆          ┆            ┆            ┆   ┆         ┆ 8.938830  ┆           ┆          │\n",
       "│ /providers ┆ 102.0    ┆ 0.036053   ┆ 2818.5158  ┆ … ┆ 102.0   ┆ 2024-08-0 ┆ 101.61502 ┆ 0.38498  │\n",
       "│ /sardine-b ┆          ┆            ┆            ┆   ┆         ┆ 2 18:49:2 ┆           ┆          │\n",
       "│            ┆          ┆            ┆            ┆   ┆         ┆ 8.938830  ┆           ┆          │\n",
       "│ /providers ┆ 102.0    ┆ 0.035858   ┆ 2786.27038 ┆ … ┆ 102.0   ┆ 2024-08-0 ┆ 99.91     ┆ 2.09     │\n",
       "│ /unlimitme ┆          ┆            ┆ 8          ┆   ┆         ┆ 2 18:49:2 ┆           ┆          │\n",
       "│ ld         ┆          ┆            ┆            ┆   ┆         ┆ 8.938830  ┆           ┆          │\n",
       "│ …          ┆ …        ┆ …          ┆ …          ┆ … ┆ …       ┆ …         ┆ …         ┆ …        │\n",
       "│ /providers ┆ 25619.0  ┆ 24627.65   ┆ 1.005025   ┆ … ┆ 25619.0 ┆ 2024-08-0 ┆ 24751.41  ┆ 867.59   │\n",
       "│ /moonpay-b ┆          ┆            ┆            ┆   ┆         ┆ 2 22:12:0 ┆           ┆          │\n",
       "│            ┆          ┆            ┆            ┆   ┆         ┆ 6.874340  ┆           ┆          │\n",
       "│ /providers ┆ 25619.0  ┆ 24778.0458 ┆ 1.033929   ┆ … ┆ 25619.0 ┆ 2024-08-0 ┆ 25618.74  ┆ 0.26     │\n",
       "│ /sardine-b ┆          ┆ 04         ┆            ┆   ┆         ┆ 2 22:12:0 ┆           ┆          │\n",
       "│            ┆          ┆            ┆            ┆   ┆         ┆ 2.384059  ┆           ┆          │\n",
       "│ /providers ┆ 25619.0  ┆ 24678.8592 ┆ 1.038084   ┆ … ┆ 25619.0 ┆ 2024-08-0 ┆ 25618.74  ┆ 0.26     │\n",
       "│ /sardine   ┆          ┆ 31         ┆            ┆   ┆         ┆ 2 22:12:0 ┆           ┆          │\n",
       "│            ┆          ┆            ┆            ┆   ┆         ┆ 2.384059  ┆           ┆          │\n",
       "│ /providers ┆ 25619.0  ┆ 24568.31   ┆ 1.005025   ┆ … ┆ 25619.0 ┆ 2024-08-0 ┆ 24691.77  ┆ 927.23   │\n",
       "│ /moonpay   ┆          ┆            ┆            ┆   ┆         ┆ 2 22:11:5 ┆           ┆          │\n",
       "│            ┆          ┆            ┆            ┆   ┆         ┆ 9.620066  ┆           ┆          │\n",
       "│ /providers ┆ 25619.0  ┆ 24568.31   ┆ 1.005025   ┆ … ┆ 25619.0 ┆ 2024-08-0 ┆ 24691.77  ┆ 927.23   │\n",
       "│ /moonpay-b ┆          ┆            ┆            ┆   ┆         ┆ 2 22:11:5 ┆           ┆          │\n",
       "│            ┆          ┆            ┆            ┆   ┆         ┆ 9.620066  ┆           ┆          │\n",
       "└────────────┴──────────┴────────────┴────────────┴───┴─────────┴───────────┴───────────┴──────────┘"
      ]
     },
     "execution_count": 10,
     "metadata": {},
     "output_type": "execute_result"
    }
   ],
   "source": [
    "(\n",
    "    df\n",
    "    .filter(pl.col(\"has_quote\"))\n",
    "    .with_columns(\n",
    "        ( pl.col(\"amountOut\") * pl.col(\"exchangeRate\") ).alias(\"amountOutFiat\")\n",
    "        , (pl.col(\"amountIn\") -  pl.col(\"amountOut\") * pl.col(\"exchangeRate\") ).alias(\"TotalFee\")\n",
    "    )\n",
    "    .with_columns(\n",
    "        pl.col(\"TotalFee\") - pl.col(\"networkFee\")\n",
    "    )\n",
    ")"
   ]
  }
 ],
 "metadata": {
  "kernelspec": {
   "display_name": "venv",
   "language": "python",
   "name": "python3"
  },
  "language_info": {
   "codemirror_mode": {
    "name": "ipython",
    "version": 3
   },
   "file_extension": ".py",
   "mimetype": "text/x-python",
   "name": "python",
   "nbconvert_exporter": "python",
   "pygments_lexer": "ipython3",
   "version": "3.11.4"
  }
 },
 "nbformat": 4,
 "nbformat_minor": 2
}
